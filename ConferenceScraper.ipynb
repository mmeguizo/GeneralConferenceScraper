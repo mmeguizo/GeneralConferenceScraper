{
  "nbformat": 4,
  "nbformat_minor": 0,
  "metadata": {
    "colab": {
      "provenance": [],
      "include_colab_link": true
    },
    "kernelspec": {
      "name": "python3",
      "display_name": "Python 3"
    },
    "language_info": {
      "name": "python"
    }
  },
  "cells": [
    {
      "cell_type": "markdown",
      "metadata": {
        "id": "view-in-github",
        "colab_type": "text"
      },
      "source": [
        "<a href=\"https://colab.research.google.com/github/mmeguizo/GeneralConferenceScraper/blob/main/ConferenceScraper.ipynb\" target=\"_parent\"><img src=\"https://colab.research.google.com/assets/colab-badge.svg\" alt=\"Open In Colab\"/></a>"
      ]
    },
    {
      "cell_type": "markdown",
      "source": [
        "# You don't need to read all of this if you don't want to. Just \"run all\" if you want\" and wait for it to download."
      ],
      "metadata": {
        "id": "PoZRQbASYwYR"
      }
    },
    {
      "cell_type": "markdown",
      "source": [
        "### Install Required Libraries\n",
        "\n",
        "This cell installs the necessary Python libraries for web scraping, working with HTML content, and data manipulation.\n",
        "\n",
        "- `requests`: Used to fetch HTML content from web pages.\n",
        "- `beautifulsoup4`: Parses and extracts content from the HTML.\n",
        "- `PyPDF2`: If you need to work with PDF files.\n"
      ],
      "metadata": {
        "id": "225EVrFfYaRd"
      }
    },
    {
      "cell_type": "code",
      "execution_count": 1,
      "metadata": {
        "id": "EHwZi0Axx2ZD",
        "outputId": "74f249f0-31cf-413d-b3b9-ce5532af4435",
        "colab": {
          "base_uri": "https://localhost:8080/"
        }
      },
      "outputs": [
        {
          "output_type": "stream",
          "name": "stdout",
          "text": [
            "Requirement already satisfied: requests in /usr/local/lib/python3.11/dist-packages (2.32.3)\n",
            "Requirement already satisfied: beautifulsoup4 in /usr/local/lib/python3.11/dist-packages (4.13.3)\n",
            "Collecting PyPDF2\n",
            "  Downloading pypdf2-3.0.1-py3-none-any.whl.metadata (6.8 kB)\n",
            "Requirement already satisfied: charset-normalizer<4,>=2 in /usr/local/lib/python3.11/dist-packages (from requests) (3.4.1)\n",
            "Requirement already satisfied: idna<4,>=2.5 in /usr/local/lib/python3.11/dist-packages (from requests) (3.10)\n",
            "Requirement already satisfied: urllib3<3,>=1.21.1 in /usr/local/lib/python3.11/dist-packages (from requests) (2.3.0)\n",
            "Requirement already satisfied: certifi>=2017.4.17 in /usr/local/lib/python3.11/dist-packages (from requests) (2025.1.31)\n",
            "Requirement already satisfied: soupsieve>1.2 in /usr/local/lib/python3.11/dist-packages (from beautifulsoup4) (2.6)\n",
            "Requirement already satisfied: typing-extensions>=4.0.0 in /usr/local/lib/python3.11/dist-packages (from beautifulsoup4) (4.12.2)\n",
            "Downloading pypdf2-3.0.1-py3-none-any.whl (232 kB)\n",
            "\u001b[2K   \u001b[90m━━━━━━━━━━━━━━━━━━━━━━━━━━━━━━━━━━━━━━━━\u001b[0m \u001b[32m232.6/232.6 kB\u001b[0m \u001b[31m4.5 MB/s\u001b[0m eta \u001b[36m0:00:00\u001b[0m\n",
            "\u001b[?25hInstalling collected packages: PyPDF2\n",
            "Successfully installed PyPDF2-3.0.1\n"
          ]
        }
      ],
      "source": [
        "!pip install requests beautifulsoup4 PyPDF2\n",
        "\n"
      ]
    },
    {
      "cell_type": "markdown",
      "source": [
        "### Web Scraping Conference Talks\n",
        "\n",
        "This block contains helper functions for scraping LDS General Conference talks from the Church's website.\n",
        "\n",
        "- `get_soup()`: Sends a request and parses the HTML from a given URL.\n",
        "- `is_decade_page()`: Identifies if the URL is a decade selection page.\n",
        "- `scrape_conference_pages()`: Fetches URLs for each conference (April/October) from the main page.\n",
        "- `scrape_talk_urls()`: Retrieves URLs for individual talks from a specific conference.\n",
        "- `scrape_talk_data()`: Scrapes the detailed data for each talk, such as title, speaker, calling, year, and season.\n"
      ],
      "metadata": {
        "id": "3Z3FcXjAYgBU"
      }
    },
    {
      "cell_type": "code",
      "source": [
        "import requests\n",
        "from bs4 import BeautifulSoup\n",
        "import pandas as pd\n",
        "import re\n",
        "import unicodedata\n",
        "import time\n",
        "from tqdm import tqdm\n",
        "from concurrent.futures import ThreadPoolExecutor\n",
        "\n",
        "def get_soup(url):\n",
        "    \"\"\"Create a tree structure (BeautifulSoup) out of a GET request's HTML.\"\"\"\n",
        "    try:\n",
        "        r = requests.get(url, allow_redirects=True)\n",
        "        r.raise_for_status()\n",
        "        print(f\"Successfully fetched {r.url}\")\n",
        "        return BeautifulSoup(r.content, \"html5lib\")\n",
        "    except requests.RequestException as e:\n",
        "        print(f\"Error fetching {url}: {e}\")\n",
        "        return None\n",
        "\n",
        "def is_decade_page(url):\n",
        "    \"\"\"Check if a page is a decade selection page.\"\"\"\n",
        "    return bool(re.search(r\"/study/general-conference/\\d{4}\\d{4}\", url))\n",
        "\n",
        "def scrape_conference_pages(main_page_url):\n",
        "    \"\"\"Retrieve a list of URLs for each conference (year/month) from the main page.\"\"\"\n",
        "    soup = get_soup(main_page_url)\n",
        "    if soup is None:\n",
        "        print(f\"Failed to fetch content from {main_page_url}\")\n",
        "        return []\n",
        "\n",
        "    all_conference_links = []\n",
        "\n",
        "    # Find all the links to individual conferences or decades\n",
        "    links = [\n",
        "        \"https://www.churchofjesuschrist.org\" + a[\"href\"]\n",
        "        for a in soup.find_all(\"a\", href=True)\n",
        "        if re.search(r\"/study/general-conference/(\\d{4}/(04|10)|\\d{4}\\d{4})\", a[\"href\"])\n",
        "    ]\n",
        "\n",
        "    for link in links:\n",
        "        if is_decade_page(link):\n",
        "            # Handle decade page\n",
        "            decade_soup = get_soup(link)\n",
        "            if decade_soup:\n",
        "                year_links = [\n",
        "                    \"https://www.churchofjesuschrist.org\" + a[\"href\"]\n",
        "                    for a in decade_soup.find_all(\"a\", href=True)\n",
        "                    if re.search(r\"/study/general-conference/\\d{4}/(04|10)\", a[\"href\"])\n",
        "                ]\n",
        "                all_conference_links.extend(year_links)\n",
        "        else:\n",
        "            all_conference_links.append(link)\n",
        "\n",
        "    print(f\"Total conference links found: {len(all_conference_links)}\")\n",
        "    print(\"Sample conference links:\", all_conference_links[:5])\n",
        "    return all_conference_links\n",
        "\n",
        "def scrape_talk_urls(conference_url):\n",
        "    \"\"\"Retrieve a list of URLs for each talk in a specific conference.\"\"\"\n",
        "    soup = get_soup(conference_url)\n",
        "    if soup is None:\n",
        "        return []\n",
        "\n",
        "    talk_links = [\n",
        "        \"https://www.churchofjesuschrist.org\" + a[\"href\"]\n",
        "        for a in soup.find_all(\"a\", href=True)\n",
        "        if re.search(r\"/study/general-conference/\\d{4}/(04|10)/.*\", a[\"href\"])\n",
        "    ]\n",
        "\n",
        "    # Remove duplicate links and session links\n",
        "    talk_links = list(set(talk_links))\n",
        "    talk_links = [link for link in talk_links if not link.endswith(\"session?lang=eng\")]\n",
        "\n",
        "    print(f\"Found {len(talk_links)} talk links in {conference_url}\")\n",
        "    if talk_links:\n",
        "        print(\"Sample talk links:\", talk_links[:3])\n",
        "    return talk_links\n",
        "\n",
        "def scrape_talk_data(url):\n",
        "    \"\"\"Scrapes a single talk for data such as: title, conference, calling, speaker, content.\"\"\"\n",
        "    try:\n",
        "        soup = get_soup(url)\n",
        "        if soup is None:\n",
        "            return {}\n",
        "\n",
        "        title_tag = soup.find(\"h1\", {\"id\": \"title1\"})\n",
        "        title = title_tag.text.strip() if title_tag else \"No Title Found\"\n",
        "\n",
        "        conference_tag = soup.find(\"p\", {\"class\": \"subtitle\"})\n",
        "        conference = conference_tag.text.strip() if conference_tag else \"No Conference Found\"\n",
        "\n",
        "        author_tag = soup.find(\"p\", {\"class\": \"author-name\"})\n",
        "        speaker = author_tag.text.strip() if author_tag else \"No Speaker Found\"\n",
        "\n",
        "        calling_tag = soup.find(\"p\", {\"class\": \"author-role\"})\n",
        "        calling = calling_tag.text.strip() if calling_tag else \"No Calling Found\"\n",
        "\n",
        "        content_array = soup.find(\"div\", {\"class\": \"body-block\"})\n",
        "        content = \"\\n\\n\".join(paragraph.text.strip() for paragraph in content_array.find_all(\"p\")) if content_array else \"No Content Found\"\n",
        "\n",
        "        footnotes = \"\\n\".join(\n",
        "            f\"{idx}. {note.text.strip()}\" for idx, note in enumerate(soup.find_all(\"li\", {\"class\": \"study-note\"}), start=1)\n",
        "        ) if soup.find_all(\"li\", {\"class\": \"study-note\"}) else \"No Footnotes Found\"\n",
        "\n",
        "        year = re.search(r'/(\\d{4})/', url).group(1)\n",
        "        season = \"April\" if \"/04/\" in url else \"October\"\n",
        "\n",
        "        return {\n",
        "            \"title\": title,\n",
        "            \"speaker\": speaker,\n",
        "            \"calling\": calling,\n",
        "            \"year\": year,\n",
        "            \"season\": season,\n",
        "            \"url\": url,\n",
        "            \"talk\": content,\n",
        "            \"footnotes\": footnotes,\n",
        "        }\n",
        "    except Exception as e:\n",
        "        print(f\"Failed to scrape {url}: {e}\")\n",
        "        return {}\n",
        "\n",
        "def scrape_talk_data_parallel(urls):\n",
        "    \"\"\"Scrapes all talks in parallel using ThreadPoolExecutor.\"\"\"\n",
        "    with ThreadPoolExecutor(max_workers=10) as executor:  # Adjust `max_workers` as needed\n",
        "        results = list(tqdm(executor.map(scrape_talk_data, urls), total=len(urls), desc=\"Scraping talks in parallel\"))\n",
        "    return [result for result in results if result]  # Filter out empty results\n",
        "\n",
        "def main_scrape_process():\n",
        "    main_url = \"https://www.churchofjesuschrist.org/study/general-conference?lang=eng\"\n",
        "    conference_urls = scrape_conference_pages(main_url)\n",
        "\n",
        "    all_talk_urls = []\n",
        "    for conference_url in tqdm(conference_urls, desc=\"Scraping conferences\"):\n",
        "        all_talk_urls.extend(scrape_talk_urls(conference_url))\n",
        "\n",
        "    print(f\"Total talks found: {len(all_talk_urls)}\")\n",
        "\n",
        "    # Scrape talks in parallel\n",
        "    conference_talks = scrape_talk_data_parallel(all_talk_urls)\n",
        "\n",
        "    # Create DataFrame from the scraped data\n",
        "    conference_df = pd.DataFrame(conference_talks)\n",
        "\n",
        "    # Normalize Unicode and clean data\n",
        "    for col in conference_df.columns:\n",
        "        conference_df[col] = conference_df[col].apply(lambda x: unicodedata.normalize(\"NFD\", x) if isinstance(x, str) else x)\n",
        "        conference_df[col] = conference_df[col].apply(lambda x: x.replace(\"\\t\", \"\") if isinstance(x, str) else x)\n",
        "\n",
        "    # Save to CSV and JSON\n",
        "    conference_df.to_csv(\"conference_talks.csv\", index=False)\n",
        "    print(\"Scraping complete. Data saved to 'conference_talks.csv'.\")\n",
        "\n",
        "    conference_df.to_json(\"conference_talks.json\", orient=\"records\", indent=4)\n",
        "    print(\"Data also saved to 'conference_talks.json'.\")\n",
        "\n",
        "# Run the scraper\n",
        "start = time.time()\n",
        "main_scrape_process()\n",
        "end = time.time()\n",
        "print(f\"Total time taken: {end - start} seconds\")\n"
      ],
      "metadata": {
        "colab": {
          "base_uri": "https://localhost:8080/"
        },
        "id": "WnesEHkCzBub",
        "outputId": "62e9b704-655e-4790-a8fe-7cbe5cc547b8",
        "collapsed": true
      },
      "execution_count": 2,
      "outputs": [
        {
          "output_type": "stream",
          "name": "stdout",
          "text": [
            "Successfully fetched https://www.churchofjesuschrist.org/study/general-conference?lang=eng\n",
            "Successfully fetched https://www.churchofjesuschrist.org/study/general-conference/20102019?lang=eng\n",
            "Successfully fetched https://www.churchofjesuschrist.org/study/general-conference/20002009?lang=eng\n",
            "Successfully fetched https://www.churchofjesuschrist.org/study/general-conference/19901999?lang=eng\n",
            "Successfully fetched https://www.churchofjesuschrist.org/study/general-conference/19801989?lang=eng\n",
            "Successfully fetched https://www.churchofjesuschrist.org/study/general-conference/19711979?lang=eng\n",
            "Total conference links found: 108\n",
            "Sample conference links: ['https://www.churchofjesuschrist.org/study/general-conference/2024/10?lang=eng', 'https://www.churchofjesuschrist.org/study/general-conference/2024/04?lang=eng', 'https://www.churchofjesuschrist.org/study/general-conference/2023/10?lang=eng', 'https://www.churchofjesuschrist.org/study/general-conference/2023/04?lang=eng', 'https://www.churchofjesuschrist.org/study/general-conference/2022/10?lang=eng']\n"
          ]
        },
        {
          "output_type": "stream",
          "name": "stderr",
          "text": [
            "\rScraping conferences:   0%|          | 0/108 [00:00<?, ?it/s]"
          ]
        },
        {
          "output_type": "stream",
          "name": "stdout",
          "text": [
            "Successfully fetched https://www.churchofjesuschrist.org/study/general-conference/2024/10?lang=eng\n"
          ]
        },
        {
          "output_type": "stream",
          "name": "stderr",
          "text": [
            "\rScraping conferences:   1%|          | 1/108 [00:00<00:18,  5.70it/s]"
          ]
        },
        {
          "output_type": "stream",
          "name": "stdout",
          "text": [
            "Found 36 talk links in https://www.churchofjesuschrist.org/study/general-conference/2024/10?lang=eng\n",
            "Sample talk links: ['https://www.churchofjesuschrist.org/study/general-conference/2024/10/18oaks?lang=eng', 'https://www.churchofjesuschrist.org/study/general-conference/2024/10/45budge?lang=eng', 'https://www.churchofjesuschrist.org/study/general-conference/2024/10/saturday-morning-session']\n"
          ]
        },
        {
          "output_type": "stream",
          "name": "stderr",
          "text": [
            "\rScraping conferences:   2%|▏         | 2/108 [00:00<00:29,  3.58it/s]"
          ]
        },
        {
          "output_type": "stream",
          "name": "stdout",
          "text": [
            "Successfully fetched https://www.churchofjesuschrist.org/study/general-conference/2024/04?lang=eng\n",
            "Found 35 talk links in https://www.churchofjesuschrist.org/study/general-conference/2024/04?lang=eng\n",
            "Sample talk links: ['https://www.churchofjesuschrist.org/study/general-conference/2024/04/26nelson?lang=eng', 'https://www.churchofjesuschrist.org/study/general-conference/2024/04/11oaks?lang=eng', 'https://www.churchofjesuschrist.org/study/general-conference/2024/04/15dushku?lang=eng']\n"
          ]
        },
        {
          "output_type": "stream",
          "name": "stderr",
          "text": [
            "\rScraping conferences:   3%|▎         | 3/108 [00:01<00:44,  2.34it/s]"
          ]
        },
        {
          "output_type": "stream",
          "name": "stdout",
          "text": [
            "Successfully fetched https://www.churchofjesuschrist.org/study/general-conference/2023/10?lang=eng\n",
            "Found 34 talk links in https://www.churchofjesuschrist.org/study/general-conference/2023/10?lang=eng\n",
            "Sample talk links: ['https://www.churchofjesuschrist.org/study/general-conference/2023/10/43parrella?lang=eng', 'https://www.churchofjesuschrist.org/study/general-conference/2023/10/55esplin?lang=eng', 'https://www.churchofjesuschrist.org/study/general-conference/2023/10/44cook?lang=eng']\n"
          ]
        },
        {
          "output_type": "stream",
          "name": "stderr",
          "text": [
            "\rScraping conferences:   4%|▎         | 4/108 [00:01<00:54,  1.89it/s]"
          ]
        },
        {
          "output_type": "stream",
          "name": "stdout",
          "text": [
            "Successfully fetched https://www.churchofjesuschrist.org/study/general-conference/2023/04?lang=eng\n",
            "Found 36 talk links in https://www.churchofjesuschrist.org/study/general-conference/2023/04?lang=eng\n",
            "Sample talk links: ['https://www.churchofjesuschrist.org/study/general-conference/2023/04/54stanfill?lang=eng', 'https://www.churchofjesuschrist.org/study/general-conference/2023/04/55bassett?lang=eng', 'https://www.churchofjesuschrist.org/study/general-conference/2023/04/44yamashita?lang=eng']\n"
          ]
        },
        {
          "output_type": "stream",
          "name": "stderr",
          "text": [
            "\rScraping conferences:   5%|▍         | 5/108 [00:02<00:50,  2.02it/s]"
          ]
        },
        {
          "output_type": "stream",
          "name": "stdout",
          "text": [
            "Successfully fetched https://www.churchofjesuschrist.org/study/general-conference/2022/10?lang=eng\n",
            "Found 37 talk links in https://www.churchofjesuschrist.org/study/general-conference/2022/10?lang=eng\n",
            "Sample talk links: ['https://www.churchofjesuschrist.org/study/general-conference/2022/10/22ballard?lang=eng', 'https://www.churchofjesuschrist.org/study/general-conference/2022/10/35andersen?lang=eng', 'https://www.churchofjesuschrist.org/study/general-conference/2022/10/25soares?lang=eng']\n"
          ]
        },
        {
          "output_type": "stream",
          "name": "stderr",
          "text": [
            "\rScraping conferences:   6%|▌         | 6/108 [00:02<00:52,  1.93it/s]"
          ]
        },
        {
          "output_type": "stream",
          "name": "stdout",
          "text": [
            "Successfully fetched https://www.churchofjesuschrist.org/study/general-conference/2022/04?lang=eng\n",
            "Found 39 talk links in https://www.churchofjesuschrist.org/study/general-conference/2022/04?lang=eng\n",
            "Sample talk links: ['https://www.churchofjesuschrist.org/study/general-conference/2022/04/25aidukaitis?lang=eng', 'https://www.churchofjesuschrist.org/study/general-conference/2022/04/29cook?lang=eng', 'https://www.churchofjesuschrist.org/study/general-conference/2022/04/16gavarret?lang=eng']\n"
          ]
        },
        {
          "output_type": "stream",
          "name": "stderr",
          "text": [
            "\rScraping conferences:   6%|▋         | 7/108 [00:03<00:58,  1.72it/s]"
          ]
        },
        {
          "output_type": "stream",
          "name": "stdout",
          "text": [
            "Successfully fetched https://www.churchofjesuschrist.org/study/general-conference/2021/10?lang=eng\n",
            "Found 41 talk links in https://www.churchofjesuschrist.org/study/general-conference/2021/10?lang=eng\n",
            "Sample talk links: ['https://www.churchofjesuschrist.org/study/general-conference/2021/10/59nelson?lang=eng', 'https://www.churchofjesuschrist.org/study/general-conference/2021/10/18oaks?lang=eng', 'https://www.churchofjesuschrist.org/study/general-conference/2021/10/25kopischke?lang=eng']\n"
          ]
        },
        {
          "output_type": "stream",
          "name": "stderr",
          "text": [
            "\rScraping conferences:   7%|▋         | 8/108 [00:03<00:52,  1.90it/s]"
          ]
        },
        {
          "output_type": "stream",
          "name": "stdout",
          "text": [
            "Successfully fetched https://www.churchofjesuschrist.org/study/general-conference/2021/04?lang=eng\n",
            "Found 38 talk links in https://www.churchofjesuschrist.org/study/general-conference/2021/04?lang=eng\n",
            "Sample talk links: ['https://www.churchofjesuschrist.org/study/general-conference/2021/04/28ballard?lang=eng', 'https://www.churchofjesuschrist.org/study/general-conference/2021/04/26andersen?lang=eng', 'https://www.churchofjesuschrist.org/study/general-conference/2021/04/54christofferson?lang=eng']\n"
          ]
        },
        {
          "output_type": "stream",
          "name": "stderr",
          "text": [
            "\rScraping conferences:   8%|▊         | 9/108 [00:04<00:49,  2.00it/s]"
          ]
        },
        {
          "output_type": "stream",
          "name": "stdout",
          "text": [
            "Successfully fetched https://www.churchofjesuschrist.org/study/general-conference/2020/10?lang=eng\n",
            "Found 37 talk links in https://www.churchofjesuschrist.org/study/general-conference/2020/10?lang=eng\n",
            "Sample talk links: ['https://www.churchofjesuschrist.org/study/general-conference/2020/10/16rasband?lang=eng', 'https://www.churchofjesuschrist.org/study/general-conference/2020/10/44godoy?lang=eng', 'https://www.churchofjesuschrist.org/study/general-conference/2020/10/45andersen?lang=eng']\n"
          ]
        },
        {
          "output_type": "stream",
          "name": "stderr",
          "text": [
            "\rScraping conferences:   9%|▉         | 10/108 [00:06<01:25,  1.14it/s]"
          ]
        },
        {
          "output_type": "stream",
          "name": "stdout",
          "text": [
            "Successfully fetched https://www.churchofjesuschrist.org/study/general-conference/2020/04?lang=eng\n",
            "Found 36 talk links in https://www.churchofjesuschrist.org/study/general-conference/2020/04?lang=eng\n",
            "Sample talk links: ['https://www.churchofjesuschrist.org/study/general-conference/2020/04/41rasband?lang=eng', 'https://www.churchofjesuschrist.org/study/general-conference/2020/04/27tai?lang=eng', 'https://www.churchofjesuschrist.org/study/general-conference/2020/04/46nelson?lang=eng']\n"
          ]
        },
        {
          "output_type": "stream",
          "name": "stderr",
          "text": [
            "\rScraping conferences:  10%|█         | 11/108 [00:06<01:09,  1.40it/s]"
          ]
        },
        {
          "output_type": "stream",
          "name": "stdout",
          "text": [
            "Successfully fetched https://www.churchofjesuschrist.org/study/general-conference/2019/10?lang=eng\n",
            "Found 36 talk links in https://www.churchofjesuschrist.org/study/general-conference/2019/10?lang=eng\n",
            "Sample talk links: ['https://www.churchofjesuschrist.org/study/general-conference/2019/10/41gong?lang=eng', 'https://www.churchofjesuschrist.org/study/general-conference/2019/10/42franco?lang=eng', 'https://www.churchofjesuschrist.org/study/general-conference/2019/10/23alliaud?lang=eng']\n"
          ]
        },
        {
          "output_type": "stream",
          "name": "stderr",
          "text": [
            "\rScraping conferences:  11%|█         | 12/108 [00:07<01:04,  1.48it/s]"
          ]
        },
        {
          "output_type": "stream",
          "name": "stdout",
          "text": [
            "Successfully fetched https://www.churchofjesuschrist.org/study/general-conference/2019/04?lang=eng\n",
            "Found 34 talk links in https://www.churchofjesuschrist.org/study/general-conference/2019/04?lang=eng\n",
            "Sample talk links: ['https://www.churchofjesuschrist.org/study/general-conference/2019/04/15waddell?lang=eng', 'https://www.churchofjesuschrist.org/study/general-conference/2019/04/24held?lang=eng', 'https://www.churchofjesuschrist.org/study/general-conference/2019/04/28holland?lang=eng']\n"
          ]
        },
        {
          "output_type": "stream",
          "name": "stderr",
          "text": [
            "\rScraping conferences:  12%|█▏        | 13/108 [00:07<01:10,  1.35it/s]"
          ]
        },
        {
          "output_type": "stream",
          "name": "stdout",
          "text": [
            "Successfully fetched https://www.churchofjesuschrist.org/study/general-conference/2018/10?lang=eng\n",
            "Found 35 talk links in https://www.churchofjesuschrist.org/study/general-conference/2018/10?lang=eng\n",
            "Sample talk links: ['https://www.churchofjesuschrist.org/study/general-conference/2018/10/divine-discontent?lang=eng', 'https://www.churchofjesuschrist.org/study/general-conference/2018/10/the-role-of-the-book-of-mormon-in-conversion?lang=eng', 'https://www.churchofjesuschrist.org/study/general-conference/2018/10/the-father?lang=eng']\n"
          ]
        },
        {
          "output_type": "stream",
          "name": "stderr",
          "text": [
            "\rScraping conferences:  13%|█▎        | 14/108 [00:08<01:03,  1.47it/s]"
          ]
        },
        {
          "output_type": "stream",
          "name": "stdout",
          "text": [
            "Successfully fetched https://www.churchofjesuschrist.org/study/general-conference/2018/04?lang=eng\n",
            "Found 39 talk links in https://www.churchofjesuschrist.org/study/general-conference/2018/04?lang=eng\n",
            "Sample talk links: ['https://www.churchofjesuschrist.org/study/general-conference/2018/04/ministering-as-the-savior-does?lang=eng', 'https://www.churchofjesuschrist.org/study/general-conference/2018/04/ministering-with-the-power-and-authority-of-god?lang=eng', 'https://www.churchofjesuschrist.org/study/general-conference/2018/04/until-seventy-times-seven?lang=eng']\n"
          ]
        },
        {
          "output_type": "stream",
          "name": "stderr",
          "text": [
            "\rScraping conferences:  14%|█▍        | 15/108 [00:09<01:05,  1.43it/s]"
          ]
        },
        {
          "output_type": "stream",
          "name": "stdout",
          "text": [
            "Successfully fetched https://www.churchofjesuschrist.org/study/general-conference/2017/10?lang=eng\n",
            "Found 37 talk links in https://www.churchofjesuschrist.org/study/general-conference/2017/10?lang=eng\n",
            "Sample talk links: ['https://www.churchofjesuschrist.org/study/general-conference/2017/10/gods-compelling-witness-the-book-of-mormon?lang=eng', 'https://www.churchofjesuschrist.org/study/general-conference/2017/10/turn-to-the-lord?lang=eng', 'https://www.churchofjesuschrist.org/study/general-conference/2017/10/womens-session']\n"
          ]
        },
        {
          "output_type": "stream",
          "name": "stderr",
          "text": [
            "\rScraping conferences:  15%|█▍        | 16/108 [00:09<01:00,  1.53it/s]"
          ]
        },
        {
          "output_type": "stream",
          "name": "stdout",
          "text": [
            "Successfully fetched https://www.churchofjesuschrist.org/study/general-conference/2017/04?lang=eng\n",
            "Found 40 talk links in https://www.churchofjesuschrist.org/study/general-conference/2017/04?lang=eng\n",
            "Sample talk links: ['https://www.churchofjesuschrist.org/study/general-conference/2017/04/his-daily-guiding-hand?lang=eng', 'https://www.churchofjesuschrist.org/study/general-conference/2017/04/trust-in-the-lord-and-lean-not?lang=eng', 'https://www.churchofjesuschrist.org/study/general-conference/2017/04/how-does-the-holy-ghost-help-you?lang=eng']\n"
          ]
        },
        {
          "output_type": "stream",
          "name": "stderr",
          "text": [
            "\rScraping conferences:  16%|█▌        | 17/108 [00:10<00:55,  1.65it/s]"
          ]
        },
        {
          "output_type": "stream",
          "name": "stdout",
          "text": [
            "Successfully fetched https://www.churchofjesuschrist.org/study/general-conference/2016/10?lang=eng\n",
            "Found 39 talk links in https://www.churchofjesuschrist.org/study/general-conference/2016/10?lang=eng\n",
            "Sample talk links: ['https://www.churchofjesuschrist.org/study/general-conference/2016/10/come-follow-me-by-practicing-christian-love-and-service?lang=eng', 'https://www.churchofjesuschrist.org/study/general-conference/2016/10/to-whom-shall-we-go?lang=eng', 'https://www.churchofjesuschrist.org/study/general-conference/2016/10/the-lord-jesus-christ-teaches-us-to-pray?lang=eng']\n"
          ]
        },
        {
          "output_type": "stream",
          "name": "stderr",
          "text": [
            "\rScraping conferences:  17%|█▋        | 18/108 [00:10<00:48,  1.85it/s]"
          ]
        },
        {
          "output_type": "stream",
          "name": "stdout",
          "text": [
            "Successfully fetched https://www.churchofjesuschrist.org/study/general-conference/2016/04?lang=eng\n",
            "Found 39 talk links in https://www.churchofjesuschrist.org/study/general-conference/2016/04?lang=eng\n",
            "Sample talk links: ['https://www.churchofjesuschrist.org/study/general-conference/2016/04/a-pattern-for-peace?lang=eng', 'https://www.churchofjesuschrist.org/study/general-conference/2016/04/opposition-in-all-things?lang=eng', 'https://www.churchofjesuschrist.org/study/general-conference/2016/04/trust-in-that-spirit-which-leadeth-to-do-good?lang=eng']\n"
          ]
        },
        {
          "output_type": "stream",
          "name": "stderr",
          "text": [
            "\rScraping conferences:  18%|█▊        | 19/108 [00:11<00:43,  2.04it/s]"
          ]
        },
        {
          "output_type": "stream",
          "name": "stdout",
          "text": [
            "Successfully fetched https://www.churchofjesuschrist.org/study/general-conference/2015/10?lang=eng\n",
            "Found 41 talk links in https://www.churchofjesuschrist.org/study/general-conference/2015/10?lang=eng\n",
            "Sample talk links: ['https://www.churchofjesuschrist.org/study/general-conference/2015/10/god-is-at-the-helm?lang=eng', 'https://www.churchofjesuschrist.org/study/general-conference/2015/10/let-the-clarion-trumpet-sound?lang=eng', 'https://www.churchofjesuschrist.org/study/general-conference/2015/10/behold-thy-mother?lang=eng']\n"
          ]
        },
        {
          "output_type": "stream",
          "name": "stderr",
          "text": [
            "\rScraping conferences:  19%|█▊        | 20/108 [00:11<00:40,  2.19it/s]"
          ]
        },
        {
          "output_type": "stream",
          "name": "stdout",
          "text": [
            "Successfully fetched https://www.churchofjesuschrist.org/study/general-conference/2015/04?lang=eng\n",
            "Found 40 talk links in https://www.churchofjesuschrist.org/study/general-conference/2015/04?lang=eng\n",
            "Sample talk links: ['https://www.churchofjesuschrist.org/study/general-conference/2015/04/where-justice-love-and-mercy-meet?lang=eng', 'https://www.churchofjesuschrist.org/study/general-conference/2015/04/the-eternal-perspective-of-the-gospel?lang=eng', 'https://www.churchofjesuschrist.org/study/general-conference/2015/04/the-comforter?lang=eng']\n"
          ]
        },
        {
          "output_type": "stream",
          "name": "stderr",
          "text": [
            "\rScraping conferences:  19%|█▉        | 21/108 [00:11<00:38,  2.28it/s]"
          ]
        },
        {
          "output_type": "stream",
          "name": "stdout",
          "text": [
            "Successfully fetched https://www.churchofjesuschrist.org/study/general-conference/2014/10?lang=eng\n",
            "Found 40 talk links in https://www.churchofjesuschrist.org/study/general-conference/2014/10?lang=eng\n",
            "Sample talk links: ['https://www.churchofjesuschrist.org/study/general-conference/2014/10/continuing-revelation?lang=eng', 'https://www.churchofjesuschrist.org/study/general-conference/2014/10/free-forever-to-act-for-themselves?lang=eng', 'https://www.churchofjesuschrist.org/study/general-conference/2014/10/make-the-exercise-of-faith-your-first-priority?lang=eng']\n"
          ]
        },
        {
          "output_type": "stream",
          "name": "stderr",
          "text": [
            "\rScraping conferences:  20%|██        | 22/108 [00:12<00:35,  2.39it/s]"
          ]
        },
        {
          "output_type": "stream",
          "name": "stdout",
          "text": [
            "Successfully fetched https://www.churchofjesuschrist.org/study/general-conference/2014/04?lang=eng\n",
            "Found 41 talk links in https://www.churchofjesuschrist.org/study/general-conference/2014/04?lang=eng\n",
            "Sample talk links: ['https://www.churchofjesuschrist.org/study/general-conference/2014/04/roots-and-branches?lang=eng', 'https://www.churchofjesuschrist.org/study/general-conference/2014/04/what-are-you-thinking?lang=eng', 'https://www.churchofjesuschrist.org/study/general-conference/2014/04/the-sustaining-of-church-officers?lang=eng']\n"
          ]
        },
        {
          "output_type": "stream",
          "name": "stderr",
          "text": [
            "\rScraping conferences:  21%|██▏       | 23/108 [00:12<00:33,  2.51it/s]"
          ]
        },
        {
          "output_type": "stream",
          "name": "stdout",
          "text": [
            "Successfully fetched https://www.churchofjesuschrist.org/study/general-conference/2013/10?lang=eng\n",
            "Found 40 talk links in https://www.churchofjesuschrist.org/study/general-conference/2013/10?lang=eng\n",
            "Sample talk links: ['https://www.churchofjesuschrist.org/study/general-conference/2013/10/saturday-morning-session', 'https://www.churchofjesuschrist.org/study/general-conference/2013/10/the-sustaining-of-church-officers?lang=eng', 'https://www.churchofjesuschrist.org/study/general-conference/2013/10/be-ye-converted?lang=eng']\n"
          ]
        },
        {
          "output_type": "stream",
          "name": "stderr",
          "text": [
            "\rScraping conferences:  22%|██▏       | 24/108 [00:12<00:33,  2.51it/s]"
          ]
        },
        {
          "output_type": "stream",
          "name": "stdout",
          "text": [
            "Successfully fetched https://www.churchofjesuschrist.org/study/general-conference/2013/04?lang=eng\n",
            "Found 41 talk links in https://www.churchofjesuschrist.org/study/general-conference/2013/04?lang=eng\n",
            "Sample talk links: ['https://www.churchofjesuschrist.org/study/general-conference/2013/04/catch-the-wave?lang=eng', 'https://www.churchofjesuschrist.org/study/general-conference/2013/04/its-a-miracle?lang=eng', 'https://www.churchofjesuschrist.org/study/general-conference/2013/04/marriage-watch-and-learn?lang=eng']\n"
          ]
        },
        {
          "output_type": "stream",
          "name": "stderr",
          "text": [
            "\rScraping conferences:  23%|██▎       | 25/108 [00:13<00:36,  2.26it/s]"
          ]
        },
        {
          "output_type": "stream",
          "name": "stdout",
          "text": [
            "Successfully fetched https://www.churchofjesuschrist.org/study/general-conference/2012/10?lang=eng\n",
            "Found 40 talk links in https://www.churchofjesuschrist.org/study/general-conference/2012/10?lang=eng\n",
            "Sample talk links: ['https://www.churchofjesuschrist.org/study/general-conference/2012/10/the-joy-of-redeeming-the-dead?lang=eng', 'https://www.churchofjesuschrist.org/study/general-conference/2012/10/becoming-goodly-parents?lang=eng', 'https://www.churchofjesuschrist.org/study/general-conference/2012/10/because-i-live-ye-shall-live-also?lang=eng']\n"
          ]
        },
        {
          "output_type": "stream",
          "name": "stderr",
          "text": [
            "\rScraping conferences:  24%|██▍       | 26/108 [00:14<00:41,  1.98it/s]"
          ]
        },
        {
          "output_type": "stream",
          "name": "stdout",
          "text": [
            "Successfully fetched https://www.churchofjesuschrist.org/study/general-conference/2012/04?lang=eng\n",
            "Found 41 talk links in https://www.churchofjesuschrist.org/study/general-conference/2012/04?lang=eng\n",
            "Sample talk links: ['https://www.churchofjesuschrist.org/study/general-conference/2012/04/in-tune-with-the-music-of-faith?lang=eng', 'https://www.churchofjesuschrist.org/study/general-conference/2012/04/the-powers-of-heaven?lang=eng', 'https://www.churchofjesuschrist.org/study/general-conference/2012/04/the-merciful-obtain-mercy?lang=eng']\n"
          ]
        },
        {
          "output_type": "stream",
          "name": "stderr",
          "text": [
            "\rScraping conferences:  25%|██▌       | 27/108 [00:14<00:37,  2.16it/s]"
          ]
        },
        {
          "output_type": "stream",
          "name": "stdout",
          "text": [
            "Successfully fetched https://www.churchofjesuschrist.org/study/general-conference/2011/10?lang=eng\n",
            "Found 40 talk links in https://www.churchofjesuschrist.org/study/general-conference/2011/10?lang=eng\n",
            "Sample talk links: ['https://www.churchofjesuschrist.org/study/general-conference/2011/10/teachings-of-jesus?lang=eng', 'https://www.churchofjesuschrist.org/study/general-conference/2011/10/covenants?lang=eng', 'https://www.churchofjesuschrist.org/study/general-conference/2011/10/the-opportunity-of-a-lifetime?lang=eng']\n"
          ]
        },
        {
          "output_type": "stream",
          "name": "stderr",
          "text": [
            "\rScraping conferences:  26%|██▌       | 28/108 [00:14<00:35,  2.28it/s]"
          ]
        },
        {
          "output_type": "stream",
          "name": "stdout",
          "text": [
            "Successfully fetched https://www.churchofjesuschrist.org/study/general-conference/2011/04?lang=eng\n",
            "Found 41 talk links in https://www.churchofjesuschrist.org/study/general-conference/2011/04?lang=eng\n",
            "Sample talk links: ['https://www.churchofjesuschrist.org/study/general-conference/2011/04/establishing-a-christ-centered-home?lang=eng', 'https://www.churchofjesuschrist.org/study/general-conference/2011/04/hope?lang=eng', 'https://www.churchofjesuschrist.org/study/general-conference/2011/04/your-potential-your-privilege?lang=eng']\n",
            "Successfully fetched https://www.churchofjesuschrist.org/study/general-conference/2010/10?lang=eng\n"
          ]
        },
        {
          "output_type": "stream",
          "name": "stderr",
          "text": [
            "\rScraping conferences:  27%|██▋       | 29/108 [00:16<00:52,  1.51it/s]"
          ]
        },
        {
          "output_type": "stream",
          "name": "stdout",
          "text": [
            "Found 40 talk links in https://www.churchofjesuschrist.org/study/general-conference/2010/10?lang=eng\n",
            "Sample talk links: ['https://www.churchofjesuschrist.org/study/general-conference/2010/10/never-leave-him?lang=eng', 'https://www.churchofjesuschrist.org/study/general-conference/2010/10/the-sustaining-of-church-officers?lang=eng', 'https://www.churchofjesuschrist.org/study/general-conference/2010/10/stay-on-the-path?lang=eng']\n"
          ]
        },
        {
          "output_type": "stream",
          "name": "stderr",
          "text": [
            "\rScraping conferences:  28%|██▊       | 30/108 [00:16<00:49,  1.57it/s]"
          ]
        },
        {
          "output_type": "stream",
          "name": "stdout",
          "text": [
            "Successfully fetched https://www.churchofjesuschrist.org/study/general-conference/2010/04?lang=eng\n",
            "Found 41 talk links in https://www.churchofjesuschrist.org/study/general-conference/2010/04?lang=eng\n",
            "Sample talk links: ['https://www.churchofjesuschrist.org/study/general-conference/2010/04/tell-me-the-stories-of-jesus?lang=eng', 'https://www.churchofjesuschrist.org/study/general-conference/2010/04/mother-told-me?lang=eng', 'https://www.churchofjesuschrist.org/study/general-conference/2010/04/place-no-more-for-the-enemy-of-my-soul?lang=eng']\n"
          ]
        },
        {
          "output_type": "stream",
          "name": "stderr",
          "text": [
            "\rScraping conferences:  29%|██▊       | 31/108 [00:17<00:53,  1.43it/s]"
          ]
        },
        {
          "output_type": "stream",
          "name": "stdout",
          "text": [
            "Successfully fetched https://www.churchofjesuschrist.org/study/general-conference/2009/10?lang=eng\n",
            "Found 40 talk links in https://www.churchofjesuschrist.org/study/general-conference/2009/10?lang=eng\n",
            "Sample talk links: ['https://www.churchofjesuschrist.org/study/general-conference/2009/10/to-acquire-spiritual-guidance?lang=eng', 'https://www.churchofjesuschrist.org/study/general-conference/2009/10/relief-society-a-sacred-work?lang=eng', 'https://www.churchofjesuschrist.org/study/general-conference/2009/10/blessings-of-the-gospel-available-to-all?lang=eng']\n"
          ]
        },
        {
          "output_type": "stream",
          "name": "stderr",
          "text": [
            "\rScraping conferences:  30%|██▉       | 32/108 [00:17<00:46,  1.62it/s]"
          ]
        },
        {
          "output_type": "stream",
          "name": "stdout",
          "text": [
            "Successfully fetched https://www.churchofjesuschrist.org/study/general-conference/2009/04?lang=eng\n",
            "Found 40 talk links in https://www.churchofjesuschrist.org/study/general-conference/2009/04?lang=eng\n",
            "Sample talk links: ['https://www.churchofjesuschrist.org/study/general-conference/2009/04/sacred-homes-sacred-temples?lang=eng', 'https://www.churchofjesuschrist.org/study/general-conference/2009/04/saturday-morning-session', 'https://www.churchofjesuschrist.org/study/general-conference/2009/04/becoming-provident-providers-temporally-and-spiritually?lang=eng']\n"
          ]
        },
        {
          "output_type": "stream",
          "name": "stderr",
          "text": [
            "\rScraping conferences:  31%|███       | 33/108 [00:18<00:44,  1.69it/s]"
          ]
        },
        {
          "output_type": "stream",
          "name": "stdout",
          "text": [
            "Successfully fetched https://www.churchofjesuschrist.org/study/general-conference/2008/10?lang=eng\n",
            "Found 38 talk links in https://www.churchofjesuschrist.org/study/general-conference/2008/10?lang=eng\n",
            "Sample talk links: ['https://www.churchofjesuschrist.org/study/general-conference/2008/10/pray-always?lang=eng', 'https://www.churchofjesuschrist.org/study/general-conference/2008/10/saturday-morning-session', 'https://www.churchofjesuschrist.org/study/general-conference/2008/10/holy-temples-sacred-covenants?lang=eng']\n",
            "Successfully fetched https://www.churchofjesuschrist.org/study/general-conference/2008/04?lang=eng\n"
          ]
        },
        {
          "output_type": "stream",
          "name": "stderr",
          "text": [
            "\rScraping conferences:  31%|███▏      | 34/108 [00:20<01:08,  1.08it/s]"
          ]
        },
        {
          "output_type": "stream",
          "name": "stdout",
          "text": [
            "Found 43 talk links in https://www.churchofjesuschrist.org/study/general-conference/2008/04?lang=eng\n",
            "Sample talk links: ['https://www.churchofjesuschrist.org/study/general-conference/2008/04/a-12-year-old-deacon?lang=eng', 'https://www.churchofjesuschrist.org/study/general-conference/2008/04/salvation-and-exaltation?lang=eng', 'https://www.churchofjesuschrist.org/study/general-conference/2008/04/faith-and-the-oath-and-covenant-of-the-priesthood?lang=eng']\n",
            "Successfully fetched https://www.churchofjesuschrist.org/study/general-conference/2007/10?lang=eng\n"
          ]
        },
        {
          "output_type": "stream",
          "name": "stderr",
          "text": [
            "\rScraping conferences:  32%|███▏      | 35/108 [00:20<01:00,  1.21it/s]"
          ]
        },
        {
          "output_type": "stream",
          "name": "stdout",
          "text": [
            "Found 44 talk links in https://www.churchofjesuschrist.org/study/general-conference/2007/10?lang=eng\n",
            "Sample talk links: ['https://www.churchofjesuschrist.org/study/general-conference/2007/10/closing-remarks?lang=eng', 'https://www.churchofjesuschrist.org/study/general-conference/2007/10/quench-not-the-spirit-which-quickens-the-inner-man?lang=eng', 'https://www.churchofjesuschrist.org/study/general-conference/2007/10/feed-my-sheep?lang=eng']\n",
            "Successfully fetched https://www.churchofjesuschrist.org/study/general-conference/2007/04?lang=eng\n"
          ]
        },
        {
          "output_type": "stream",
          "name": "stderr",
          "text": [
            "\rScraping conferences:  33%|███▎      | 36/108 [00:21<00:51,  1.39it/s]"
          ]
        },
        {
          "output_type": "stream",
          "name": "stdout",
          "text": [
            "Found 43 talk links in https://www.churchofjesuschrist.org/study/general-conference/2007/04?lang=eng\n",
            "Sample talk links: ['https://www.churchofjesuschrist.org/study/general-conference/2007/04/church-auditing-department-report-2006?lang=eng', 'https://www.churchofjesuschrist.org/study/general-conference/2007/04/the-tongue-of-angels?lang=eng', 'https://www.churchofjesuschrist.org/study/general-conference/2007/04/the-nourishing-power-of-hymns?lang=eng']\n"
          ]
        },
        {
          "output_type": "stream",
          "name": "stderr",
          "text": [
            "\rScraping conferences:  34%|███▍      | 37/108 [00:22<01:06,  1.06it/s]"
          ]
        },
        {
          "output_type": "stream",
          "name": "stdout",
          "text": [
            "Successfully fetched https://www.churchofjesuschrist.org/study/general-conference/2006/10?lang=eng\n",
            "Found 44 talk links in https://www.churchofjesuschrist.org/study/general-conference/2006/10?lang=eng\n",
            "Sample talk links: ['https://www.churchofjesuschrist.org/study/general-conference/2006/10/he-trusts-us?lang=eng', 'https://www.churchofjesuschrist.org/study/general-conference/2006/10/saturday-morning-session', 'https://www.churchofjesuschrist.org/study/general-conference/2006/10/prophets-in-the-land-again?lang=eng']\n"
          ]
        },
        {
          "output_type": "stream",
          "name": "stderr",
          "text": [
            "\rScraping conferences:  35%|███▌      | 38/108 [00:27<02:36,  2.23s/it]"
          ]
        },
        {
          "output_type": "stream",
          "name": "stdout",
          "text": [
            "Successfully fetched https://www.churchofjesuschrist.org/study/general-conference/2006/04?lang=eng\n",
            "Found 38 talk links in https://www.churchofjesuschrist.org/study/general-conference/2006/04?lang=eng\n",
            "Sample talk links: ['https://www.churchofjesuschrist.org/study/general-conference/2006/04/as-now-we-take-the-sacrament?lang=eng', 'https://www.churchofjesuschrist.org/study/general-conference/2006/04/broken-things-to-mend?lang=eng', 'https://www.churchofjesuschrist.org/study/general-conference/2006/04/seek-ye-the-kingdom-of-god?lang=eng']\n"
          ]
        },
        {
          "output_type": "stream",
          "name": "stderr",
          "text": [
            "\rScraping conferences:  36%|███▌      | 39/108 [00:28<01:55,  1.67s/it]"
          ]
        },
        {
          "output_type": "stream",
          "name": "stdout",
          "text": [
            "Successfully fetched https://www.churchofjesuschrist.org/study/general-conference/2005/10?lang=eng\n",
            "Found 39 talk links in https://www.churchofjesuschrist.org/study/general-conference/2005/10?lang=eng\n",
            "Sample talk links: ['https://www.churchofjesuschrist.org/study/general-conference/2005/10/blessings-resulting-from-reading-the-book-of-mormon?lang=eng', 'https://www.churchofjesuschrist.org/study/general-conference/2005/10/that-we-may-all-sit-down-in-heaven-together?lang=eng', 'https://www.churchofjesuschrist.org/study/general-conference/2005/10/my-soul-delighteth-in-the-scriptures?lang=eng']\n"
          ]
        },
        {
          "output_type": "stream",
          "name": "stderr",
          "text": [
            "\rScraping conferences:  37%|███▋      | 40/108 [00:29<01:35,  1.40s/it]"
          ]
        },
        {
          "output_type": "stream",
          "name": "stdout",
          "text": [
            "Successfully fetched https://www.churchofjesuschrist.org/study/general-conference/2005/04?lang=eng\n",
            "Found 39 talk links in https://www.churchofjesuschrist.org/study/general-conference/2005/04?lang=eng\n",
            "Sample talk links: ['https://www.churchofjesuschrist.org/study/general-conference/2005/04/tithing-a-commandment-even-for-the-destitute?lang=eng', 'https://www.churchofjesuschrist.org/study/general-conference/2005/04/appreciating-the-counsel-of-those-who-are-bowed-in-years?lang=eng', 'https://www.churchofjesuschrist.org/study/general-conference/2005/04/the-fruits-of-the-first-vision?lang=eng']\n"
          ]
        },
        {
          "output_type": "stream",
          "name": "stderr",
          "text": [
            "\rScraping conferences:  38%|███▊      | 41/108 [00:29<01:18,  1.17s/it]"
          ]
        },
        {
          "output_type": "stream",
          "name": "stdout",
          "text": [
            "Successfully fetched https://www.churchofjesuschrist.org/study/general-conference/2004/10?lang=eng\n",
            "Found 38 talk links in https://www.churchofjesuschrist.org/study/general-conference/2004/10?lang=eng\n",
            "Sample talk links: ['https://www.churchofjesuschrist.org/study/general-conference/2004/10/we-did-this-for-you?lang=eng', 'https://www.churchofjesuschrist.org/study/general-conference/2004/10/pure-testimony?lang=eng', 'https://www.churchofjesuschrist.org/study/general-conference/2004/10/choose-you-this-day?lang=eng']\n"
          ]
        },
        {
          "output_type": "stream",
          "name": "stderr",
          "text": [
            "\rScraping conferences:  39%|███▉      | 42/108 [00:30<01:13,  1.12s/it]"
          ]
        },
        {
          "output_type": "stream",
          "name": "stdout",
          "text": [
            "Successfully fetched https://www.churchofjesuschrist.org/study/general-conference/2004/04?lang=eng\n",
            "Found 40 talk links in https://www.churchofjesuschrist.org/study/general-conference/2004/04?lang=eng\n",
            "Sample talk links: ['https://www.churchofjesuschrist.org/study/general-conference/2004/04/i-was-an-hungred-and-ye-gave-me-meat?lang=eng', 'https://www.churchofjesuschrist.org/study/general-conference/2004/04/did-you-get-the-right-message?lang=eng', 'https://www.churchofjesuschrist.org/study/general-conference/2004/04/the-sustaining-of-church-officers?lang=eng']\n"
          ]
        },
        {
          "output_type": "stream",
          "name": "stderr",
          "text": [
            "\rScraping conferences:  40%|███▉      | 43/108 [00:31<01:08,  1.05s/it]"
          ]
        },
        {
          "output_type": "stream",
          "name": "stdout",
          "text": [
            "Successfully fetched https://www.churchofjesuschrist.org/study/general-conference/2003/10?lang=eng\n",
            "Found 37 talk links in https://www.churchofjesuschrist.org/study/general-conference/2003/10?lang=eng\n",
            "Sample talk links: ['https://www.churchofjesuschrist.org/study/general-conference/2003/10/seeing-the-promises-afar-off?lang=eng', 'https://www.churchofjesuschrist.org/study/general-conference/2003/10/how-choice-a-seer?lang=eng', 'https://www.churchofjesuschrist.org/study/general-conference/2003/10/an-ensign-to-the-nations-a-light-to-the-world?lang=eng']\n",
            "Successfully fetched https://www.churchofjesuschrist.org/study/general-conference/2003/04?lang=eng\n"
          ]
        },
        {
          "output_type": "stream",
          "name": "stderr",
          "text": [
            "\rScraping conferences:  41%|████      | 44/108 [00:32<01:03,  1.00it/s]"
          ]
        },
        {
          "output_type": "stream",
          "name": "stdout",
          "text": [
            "Found 43 talk links in https://www.churchofjesuschrist.org/study/general-conference/2003/04?lang=eng\n",
            "Sample talk links: ['https://www.churchofjesuschrist.org/study/general-conference/2003/04/benediction?lang=eng', 'https://www.churchofjesuschrist.org/study/general-conference/2003/04/care-for-the-life-of-the-soul?lang=eng', 'https://www.churchofjesuschrist.org/study/general-conference/2003/04/faith-through-tribulation-brings-peace-and-joy?lang=eng']\n",
            "Successfully fetched https://www.churchofjesuschrist.org/study/general-conference/2002/10?lang=eng\n"
          ]
        },
        {
          "output_type": "stream",
          "name": "stderr",
          "text": [
            "\rScraping conferences:  42%|████▏     | 45/108 [00:33<01:01,  1.02it/s]"
          ]
        },
        {
          "output_type": "stream",
          "name": "stdout",
          "text": [
            "Found 36 talk links in https://www.churchofjesuschrist.org/study/general-conference/2002/10?lang=eng\n",
            "Sample talk links: ['https://www.churchofjesuschrist.org/study/general-conference/2002/10/i-ll-go-where-you-want-me-to-go?lang=eng', 'https://www.churchofjesuschrist.org/study/general-conference/2002/10/but-if-not?lang=eng', 'https://www.churchofjesuschrist.org/study/general-conference/2002/10/sacrifice-brings-forth-the-blessings-of-heaven?lang=eng']\n"
          ]
        },
        {
          "output_type": "stream",
          "name": "stderr",
          "text": [
            "\rScraping conferences:  43%|████▎     | 46/108 [00:33<00:52,  1.18it/s]"
          ]
        },
        {
          "output_type": "stream",
          "name": "stdout",
          "text": [
            "Successfully fetched https://www.churchofjesuschrist.org/study/general-conference/2002/04?lang=eng\n",
            "Found 41 talk links in https://www.churchofjesuschrist.org/study/general-conference/2002/04?lang=eng\n",
            "Sample talk links: ['https://www.churchofjesuschrist.org/study/general-conference/2002/04/we-walk-by-faith?lang=eng', 'https://www.churchofjesuschrist.org/study/general-conference/2002/04/strengthen-home-and-family?lang=eng', 'https://www.churchofjesuschrist.org/study/general-conference/2002/04/the-other-prodigal?lang=eng']\n"
          ]
        },
        {
          "output_type": "stream",
          "name": "stderr",
          "text": [
            "\rScraping conferences:  44%|████▎     | 47/108 [00:34<00:42,  1.45it/s]"
          ]
        },
        {
          "output_type": "stream",
          "name": "stdout",
          "text": [
            "Successfully fetched https://www.churchofjesuschrist.org/study/general-conference/2001/10?lang=eng\n",
            "Found 39 talk links in https://www.churchofjesuschrist.org/study/general-conference/2001/10?lang=eng\n",
            "Sample talk links: ['https://www.churchofjesuschrist.org/study/general-conference/2001/10/sharing-the-gospel?lang=eng', 'https://www.churchofjesuschrist.org/study/general-conference/2001/10/are-we-not-all-mothers?lang=eng', 'https://www.churchofjesuschrist.org/study/general-conference/2001/10/doctrine-of-inclusion?lang=eng']\n"
          ]
        },
        {
          "output_type": "stream",
          "name": "stderr",
          "text": [
            "\rScraping conferences:  44%|████▍     | 48/108 [00:34<00:35,  1.69it/s]"
          ]
        },
        {
          "output_type": "stream",
          "name": "stdout",
          "text": [
            "Successfully fetched https://www.churchofjesuschrist.org/study/general-conference/2001/04?lang=eng\n",
            "Found 39 talk links in https://www.churchofjesuschrist.org/study/general-conference/2001/04?lang=eng\n",
            "Sample talk links: ['https://www.churchofjesuschrist.org/study/general-conference/2001/04/saturday-morning-session', 'https://www.churchofjesuschrist.org/study/general-conference/2001/04/united-in-love-and-testimony?lang=eng', 'https://www.churchofjesuschrist.org/study/general-conference/2001/04/a-comforter-a-guide-a-testifier?lang=eng']\n"
          ]
        },
        {
          "output_type": "stream",
          "name": "stderr",
          "text": [
            "\rScraping conferences:  45%|████▌     | 49/108 [00:35<00:39,  1.50it/s]"
          ]
        },
        {
          "output_type": "stream",
          "name": "stdout",
          "text": [
            "Successfully fetched https://www.churchofjesuschrist.org/study/general-conference/2000/10?lang=eng\n",
            "Found 40 talk links in https://www.churchofjesuschrist.org/study/general-conference/2000/10?lang=eng\n",
            "Sample talk links: ['https://www.churchofjesuschrist.org/study/general-conference/2000/10/the-covenant-of-baptism-to-be-in-the-kingdom-and-of-the-kingdom?lang=eng', 'https://www.churchofjesuschrist.org/study/general-conference/2000/10/dedication-day?lang=eng', 'https://www.churchofjesuschrist.org/study/general-conference/2000/10/living-prophets-seers-and-revelators?lang=eng']\n"
          ]
        },
        {
          "output_type": "stream",
          "name": "stderr",
          "text": [
            "\rScraping conferences:  46%|████▋     | 50/108 [00:35<00:33,  1.74it/s]"
          ]
        },
        {
          "output_type": "stream",
          "name": "stdout",
          "text": [
            "Successfully fetched https://www.churchofjesuschrist.org/study/general-conference/2000/04?lang=eng\n",
            "Found 39 talk links in https://www.churchofjesuschrist.org/study/general-conference/2000/04?lang=eng\n",
            "Sample talk links: ['https://www.churchofjesuschrist.org/study/general-conference/2000/04/a-brief-introduction-to-the-church?lang=eng', 'https://www.churchofjesuschrist.org/study/general-conference/2000/04/standing-with-god?lang=eng', 'https://www.churchofjesuschrist.org/study/general-conference/2000/04/future-leaders?lang=eng']\n"
          ]
        },
        {
          "output_type": "stream",
          "name": "stderr",
          "text": [
            "\rScraping conferences:  47%|████▋     | 51/108 [00:36<00:28,  2.00it/s]"
          ]
        },
        {
          "output_type": "stream",
          "name": "stdout",
          "text": [
            "Successfully fetched https://www.churchofjesuschrist.org/study/general-conference/1999/10?lang=eng\n",
            "Found 39 talk links in https://www.churchofjesuschrist.org/study/general-conference/1999/10?lang=eng\n",
            "Sample talk links: ['https://www.churchofjesuschrist.org/study/general-conference/1999/10/becoming-our-best-selves?lang=eng', 'https://www.churchofjesuschrist.org/study/general-conference/1999/10/growing-into-the-priesthood?lang=eng', 'https://www.churchofjesuschrist.org/study/general-conference/1999/10/gospel-teaching?lang=eng']\n"
          ]
        },
        {
          "output_type": "stream",
          "name": "stderr",
          "text": [
            "\rScraping conferences:  48%|████▊     | 52/108 [00:36<00:25,  2.20it/s]"
          ]
        },
        {
          "output_type": "stream",
          "name": "stdout",
          "text": [
            "Successfully fetched https://www.churchofjesuschrist.org/study/general-conference/1999/04?lang=eng\n",
            "Found 41 talk links in https://www.churchofjesuschrist.org/study/general-conference/1999/04?lang=eng\n",
            "Sample talk links: ['https://www.churchofjesuschrist.org/study/general-conference/1999/04/made-like-unto-the-son-of-god?lang=eng', 'https://www.churchofjesuschrist.org/study/general-conference/1999/04/friendship-a-gospel-principle?lang=eng', 'https://www.churchofjesuschrist.org/study/general-conference/1999/04/inspired-church-welfare?lang=eng']\n"
          ]
        },
        {
          "output_type": "stream",
          "name": "stderr",
          "text": [
            "\rScraping conferences:  49%|████▉     | 53/108 [00:56<05:52,  6.40s/it]"
          ]
        },
        {
          "output_type": "stream",
          "name": "stdout",
          "text": [
            "Error fetching https://www.churchofjesuschrist.org/study/general-conference/1998/10?lang=eng: 500 Server Error: Internal Server Error for url: https://www.churchofjesuschrist.org/study/general-conference/1998/10?lang=eng\n",
            "Successfully fetched https://www.churchofjesuschrist.org/study/general-conference/1998/04?lang=eng\n"
          ]
        },
        {
          "output_type": "stream",
          "name": "stderr",
          "text": [
            "\rScraping conferences:  50%|█████     | 54/108 [00:57<04:20,  4.82s/it]"
          ]
        },
        {
          "output_type": "stream",
          "name": "stdout",
          "text": [
            "Found 40 talk links in https://www.churchofjesuschrist.org/study/general-conference/1998/04?lang=eng\n",
            "Sample talk links: ['https://www.churchofjesuschrist.org/study/general-conference/1998/04/search-me-o-god-and-know-my-heart?lang=eng', 'https://www.churchofjesuschrist.org/study/general-conference/1998/04/the-relief-society?lang=eng', 'https://www.churchofjesuschrist.org/study/general-conference/1998/04/a-disciple-a-friend?lang=eng']\n"
          ]
        },
        {
          "output_type": "stream",
          "name": "stderr",
          "text": [
            "\rScraping conferences:  51%|█████     | 55/108 [00:58<03:07,  3.54s/it]"
          ]
        },
        {
          "output_type": "stream",
          "name": "stdout",
          "text": [
            "Successfully fetched https://www.churchofjesuschrist.org/study/general-conference/1997/10?lang=eng\n",
            "Found 38 talk links in https://www.churchofjesuschrist.org/study/general-conference/1997/10?lang=eng\n",
            "Sample talk links: ['https://www.churchofjesuschrist.org/study/general-conference/1997/10/behold-the-man?lang=eng', 'https://www.churchofjesuschrist.org/study/general-conference/1997/10/daughter-be-of-good-comfort?lang=eng', 'https://www.churchofjesuschrist.org/study/general-conference/1997/10/spiritual-capacity?lang=eng']\n"
          ]
        },
        {
          "output_type": "stream",
          "name": "stderr",
          "text": [
            "\rScraping conferences:  52%|█████▏    | 56/108 [01:08<04:47,  5.54s/it]"
          ]
        },
        {
          "output_type": "stream",
          "name": "stdout",
          "text": [
            "Error fetching https://www.churchofjesuschrist.org/study/general-conference/1997/04?lang=eng: 500 Server Error: Internal Server Error for url: https://www.churchofjesuschrist.org/study/general-conference/1997/04?lang=eng\n"
          ]
        },
        {
          "output_type": "stream",
          "name": "stderr",
          "text": [
            "\rScraping conferences:  53%|█████▎    | 57/108 [01:10<03:44,  4.40s/it]"
          ]
        },
        {
          "output_type": "stream",
          "name": "stdout",
          "text": [
            "Successfully fetched https://www.churchofjesuschrist.org/study/general-conference/1996/10?lang=eng\n",
            "Found 35 talk links in https://www.churchofjesuschrist.org/study/general-conference/1996/10?lang=eng\n",
            "Sample talk links: ['https://www.churchofjesuschrist.org/study/general-conference/1996/10/partakers-of-the-glories?lang=eng', 'https://www.churchofjesuschrist.org/study/general-conference/1996/10/the-peaceable-things-of-the-kingdom?lang=eng', 'https://www.churchofjesuschrist.org/study/general-conference/1996/10/the-grand-key-words-for-the-relief-society?lang=eng']\n"
          ]
        },
        {
          "output_type": "stream",
          "name": "stderr",
          "text": [
            "\rScraping conferences:  54%|█████▎    | 58/108 [01:10<02:38,  3.18s/it]"
          ]
        },
        {
          "output_type": "stream",
          "name": "stdout",
          "text": [
            "Successfully fetched https://www.churchofjesuschrist.org/study/general-conference/1996/04?lang=eng\n",
            "Found 39 talk links in https://www.churchofjesuschrist.org/study/general-conference/1996/04?lang=eng\n",
            "Sample talk links: ['https://www.churchofjesuschrist.org/study/general-conference/1996/04/this-work-is-true?lang=eng', 'https://www.churchofjesuschrist.org/study/general-conference/1996/04/an-anchor-for-eternity-and-today?lang=eng', 'https://www.churchofjesuschrist.org/study/general-conference/1996/04/baskets-and-bottles?lang=eng']\n"
          ]
        },
        {
          "output_type": "stream",
          "name": "stderr",
          "text": [
            "\rScraping conferences:  55%|█████▍    | 59/108 [01:11<02:00,  2.45s/it]"
          ]
        },
        {
          "output_type": "stream",
          "name": "stdout",
          "text": [
            "Successfully fetched https://www.churchofjesuschrist.org/study/general-conference/1995/10?lang=eng\n",
            "Found 40 talk links in https://www.churchofjesuschrist.org/study/general-conference/1995/10?lang=eng\n",
            "Sample talk links: ['https://www.churchofjesuschrist.org/study/general-conference/1995/10/touch-the-hearts-of-the-children?lang=eng', 'https://www.churchofjesuschrist.org/study/general-conference/1995/10/the-fabric-of-faith-and-testimony?lang=eng', 'https://www.churchofjesuschrist.org/study/general-conference/1995/10/the-sustaining-of-church-officers?lang=eng']\n"
          ]
        },
        {
          "output_type": "stream",
          "name": "stderr",
          "text": [
            "\rScraping conferences:  56%|█████▌    | 60/108 [01:21<03:49,  4.79s/it]"
          ]
        },
        {
          "output_type": "stream",
          "name": "stdout",
          "text": [
            "Error fetching https://www.churchofjesuschrist.org/study/general-conference/1995/04?lang=eng: 500 Server Error: Internal Server Error for url: https://www.churchofjesuschrist.org/study/general-conference/1995/04?lang=eng\n"
          ]
        },
        {
          "output_type": "stream",
          "name": "stderr",
          "text": [
            "\rScraping conferences:  56%|█████▋    | 61/108 [01:22<02:42,  3.46s/it]"
          ]
        },
        {
          "output_type": "stream",
          "name": "stdout",
          "text": [
            "Successfully fetched https://www.churchofjesuschrist.org/study/general-conference/1994/10?lang=eng\n",
            "Found 37 talk links in https://www.churchofjesuschrist.org/study/general-conference/1994/10?lang=eng\n",
            "Sample talk links: ['https://www.churchofjesuschrist.org/study/general-conference/1994/10/the-solemn-assembly-sustaining-of-church-officers?lang=eng', 'https://www.churchofjesuschrist.org/study/general-conference/1994/10/the-spirit-of-elijah?lang=eng', 'https://www.churchofjesuschrist.org/study/general-conference/1994/10/save-the-children?lang=eng']\n"
          ]
        },
        {
          "output_type": "stream",
          "name": "stderr",
          "text": [
            "\rScraping conferences:  57%|█████▋    | 62/108 [01:22<01:56,  2.53s/it]"
          ]
        },
        {
          "output_type": "stream",
          "name": "stdout",
          "text": [
            "Successfully fetched https://www.churchofjesuschrist.org/study/general-conference/1994/04?lang=eng\n",
            "Found 41 talk links in https://www.churchofjesuschrist.org/study/general-conference/1994/04?lang=eng\n",
            "Sample talk links: ['https://www.churchofjesuschrist.org/study/general-conference/1994/04/if-a-man-die-shall-he-live-again?lang=eng', 'https://www.churchofjesuschrist.org/study/general-conference/1994/04/decisions?lang=eng', 'https://www.churchofjesuschrist.org/study/general-conference/1994/04/increase-in-faith?lang=eng']\n"
          ]
        },
        {
          "output_type": "stream",
          "name": "stderr",
          "text": [
            "\rScraping conferences:  58%|█████▊    | 63/108 [01:22<01:27,  1.94s/it]"
          ]
        },
        {
          "output_type": "stream",
          "name": "stdout",
          "text": [
            "Successfully fetched https://www.churchofjesuschrist.org/study/general-conference/1993/10?lang=eng\n",
            "Found 38 talk links in https://www.churchofjesuschrist.org/study/general-conference/1993/10?lang=eng\n",
            "Sample talk links: ['https://www.churchofjesuschrist.org/study/general-conference/1993/10/truth-is-the-issue?lang=eng', 'https://www.churchofjesuschrist.org/study/general-conference/1993/10/look-to-god-and-live?lang=eng', 'https://www.churchofjesuschrist.org/study/general-conference/1993/10/missionary-work-our-responsibility?lang=eng']\n"
          ]
        },
        {
          "output_type": "stream",
          "name": "stderr",
          "text": [
            "\rScraping conferences:  59%|█████▉    | 64/108 [01:23<01:08,  1.55s/it]"
          ]
        },
        {
          "output_type": "stream",
          "name": "stdout",
          "text": [
            "Successfully fetched https://www.churchofjesuschrist.org/study/general-conference/1993/04?lang=eng\n",
            "Found 37 talk links in https://www.churchofjesuschrist.org/study/general-conference/1993/04?lang=eng\n",
            "Sample talk links: ['https://www.churchofjesuschrist.org/study/general-conference/1993/04/peace-through-prayer?lang=eng', 'https://www.churchofjesuschrist.org/study/general-conference/1993/04/the-church-audit-committee-report?lang=eng', 'https://www.churchofjesuschrist.org/study/general-conference/1993/04/father-come-home?lang=eng']\n"
          ]
        },
        {
          "output_type": "stream",
          "name": "stderr",
          "text": [
            "\rScraping conferences:  60%|██████    | 65/108 [01:25<01:09,  1.63s/it]"
          ]
        },
        {
          "output_type": "stream",
          "name": "stdout",
          "text": [
            "Successfully fetched https://www.churchofjesuschrist.org/study/general-conference/1992/10?lang=eng\n",
            "Found 40 talk links in https://www.churchofjesuschrist.org/study/general-conference/1992/10?lang=eng\n",
            "Sample talk links: ['https://www.churchofjesuschrist.org/study/general-conference/1992/10/the-sustaining-of-church-officers?lang=eng', 'https://www.churchofjesuschrist.org/study/general-conference/1992/10/successful-living-of-gospel-principles?lang=eng', 'https://www.churchofjesuschrist.org/study/general-conference/1992/10/the-church-is-on-course?lang=eng']\n"
          ]
        },
        {
          "output_type": "stream",
          "name": "stderr",
          "text": [
            "\rScraping conferences:  61%|██████    | 66/108 [01:25<00:52,  1.24s/it]"
          ]
        },
        {
          "output_type": "stream",
          "name": "stdout",
          "text": [
            "Successfully fetched https://www.churchofjesuschrist.org/study/general-conference/1992/04?lang=eng\n",
            "Found 42 talk links in https://www.churchofjesuschrist.org/study/general-conference/1992/04?lang=eng\n",
            "Sample talk links: ['https://www.churchofjesuschrist.org/study/general-conference/1992/04/unclutter-your-life?lang=eng', 'https://www.churchofjesuschrist.org/study/general-conference/1992/04/come-to-the-house-of-the-lord?lang=eng', 'https://www.churchofjesuschrist.org/study/general-conference/1992/04/a-chosen-generation?lang=eng']\n"
          ]
        },
        {
          "output_type": "stream",
          "name": "stderr",
          "text": [
            "\rScraping conferences:  62%|██████▏   | 67/108 [01:26<00:46,  1.13s/it]"
          ]
        },
        {
          "output_type": "stream",
          "name": "stdout",
          "text": [
            "Successfully fetched https://www.churchofjesuschrist.org/study/general-conference/1991/10?lang=eng\n",
            "Found 40 talk links in https://www.churchofjesuschrist.org/study/general-conference/1991/10?lang=eng\n",
            "Sample talk links: ['https://www.churchofjesuschrist.org/study/general-conference/1991/10/bring-up-your-children-in-light-and-truth?lang=eng', 'https://www.churchofjesuschrist.org/study/general-conference/1991/10/rejoice-in-every-good-thing?lang=eng', 'https://www.churchofjesuschrist.org/study/general-conference/1991/10/saturday-morning-session']\n"
          ]
        },
        {
          "output_type": "stream",
          "name": "stderr",
          "text": [
            "\rScraping conferences:  63%|██████▎   | 68/108 [01:27<00:36,  1.11it/s]"
          ]
        },
        {
          "output_type": "stream",
          "name": "stdout",
          "text": [
            "Successfully fetched https://www.churchofjesuschrist.org/study/general-conference/1991/04?lang=eng\n",
            "Found 35 talk links in https://www.churchofjesuschrist.org/study/general-conference/1991/04?lang=eng\n",
            "Sample talk links: ['https://www.churchofjesuschrist.org/study/general-conference/1991/04/the-sixth-day-of-april-1830?lang=eng', 'https://www.churchofjesuschrist.org/study/general-conference/1991/04/making-the-right-decisions?lang=eng', 'https://www.churchofjesuschrist.org/study/general-conference/1991/04/the-moving-of-the-water?lang=eng']\n"
          ]
        },
        {
          "output_type": "stream",
          "name": "stderr",
          "text": [
            "\rScraping conferences:  64%|██████▍   | 69/108 [01:28<00:39,  1.03s/it]"
          ]
        },
        {
          "output_type": "stream",
          "name": "stdout",
          "text": [
            "Successfully fetched https://www.churchofjesuschrist.org/study/general-conference/1990/10?lang=eng\n",
            "Found 39 talk links in https://www.churchofjesuschrist.org/study/general-conference/1990/10?lang=eng\n",
            "Sample talk links: ['https://www.churchofjesuschrist.org/study/general-conference/1990/10/temples-and-work-therein?lang=eng', 'https://www.churchofjesuschrist.org/study/general-conference/1990/10/the-value-of-a-testimony?lang=eng', 'https://www.churchofjesuschrist.org/study/general-conference/1990/10/serve-god-acceptably-with-reverence-and-godly-fear?lang=eng']\n",
            "Successfully fetched https://www.churchofjesuschrist.org/study/general-conference/1990/04?lang=eng\n"
          ]
        },
        {
          "output_type": "stream",
          "name": "stderr",
          "text": [
            "\rScraping conferences:  65%|██████▍   | 70/108 [01:29<00:42,  1.11s/it]"
          ]
        },
        {
          "output_type": "stream",
          "name": "stdout",
          "text": [
            "Found 41 talk links in https://www.churchofjesuschrist.org/study/general-conference/1990/04?lang=eng\n",
            "Sample talk links: ['https://www.churchofjesuschrist.org/study/general-conference/1990/04/some-scriptural-lessons-on-leadership?lang=eng', 'https://www.churchofjesuschrist.org/study/general-conference/1990/04/personal-integrity?lang=eng', 'https://www.churchofjesuschrist.org/study/general-conference/1990/04/the-sustaining-of-church-officers?lang=eng']\n"
          ]
        },
        {
          "output_type": "stream",
          "name": "stderr",
          "text": [
            "\rScraping conferences:  66%|██████▌   | 71/108 [01:30<00:41,  1.12s/it]"
          ]
        },
        {
          "output_type": "stream",
          "name": "stdout",
          "text": [
            "Successfully fetched https://www.churchofjesuschrist.org/study/general-conference/1989/10?lang=eng\n",
            "Found 37 talk links in https://www.churchofjesuschrist.org/study/general-conference/1989/10?lang=eng\n",
            "Sample talk links: ['https://www.churchofjesuschrist.org/study/general-conference/1989/10/look-to-the-savior?lang=eng', 'https://www.churchofjesuschrist.org/study/general-conference/1989/10/an-ensign-to-the-nations?lang=eng', 'https://www.churchofjesuschrist.org/study/general-conference/1989/10/keep-the-faith?lang=eng']\n"
          ]
        },
        {
          "output_type": "stream",
          "name": "stderr",
          "text": [
            "\rScraping conferences:  67%|██████▋   | 72/108 [01:32<00:50,  1.40s/it]"
          ]
        },
        {
          "output_type": "stream",
          "name": "stdout",
          "text": [
            "Successfully fetched https://www.churchofjesuschrist.org/study/general-conference/1989/04?lang=eng\n",
            "Found 30 talk links in https://www.churchofjesuschrist.org/study/general-conference/1989/04?lang=eng\n",
            "Sample talk links: ['https://www.churchofjesuschrist.org/study/general-conference/1989/04/the-gift-of-the-holy-ghost-a-sure-compass?lang=eng', 'https://www.churchofjesuschrist.org/study/general-conference/1989/04/university-for-eternal-life?lang=eng', 'https://www.churchofjesuschrist.org/study/general-conference/1989/04/making-points-for-righteousness?lang=eng']\n",
            "Successfully fetched https://www.churchofjesuschrist.org/study/general-conference/1988/10?lang=eng\n",
            "Found 36 talk links in https://www.churchofjesuschrist.org/study/general-conference/1988/10?lang=eng\n",
            "Sample talk links: ['https://www.churchofjesuschrist.org/study/general-conference/1988/10/making-righteous-choices-at-the-crossroads-of-life?lang=eng', 'https://www.churchofjesuschrist.org/study/general-conference/1988/10/saturday-morning-session', 'https://www.churchofjesuschrist.org/study/general-conference/1988/10/stand-for-truth-and-righteousness?lang=eng']\n"
          ]
        },
        {
          "output_type": "stream",
          "name": "stderr",
          "text": [
            "Scraping conferences:  69%|██████▊   | 74/108 [01:44<02:20,  4.14s/it]"
          ]
        },
        {
          "output_type": "stream",
          "name": "stdout",
          "text": [
            "Error fetching https://www.churchofjesuschrist.org/study/general-conference/1988/04?lang=eng: 500 Server Error: Internal Server Error for url: https://www.churchofjesuschrist.org/study/general-conference/1988/04?lang=eng\n",
            "Successfully fetched https://www.churchofjesuschrist.org/study/general-conference/1987/10?lang=eng\n"
          ]
        },
        {
          "output_type": "stream",
          "name": "stderr",
          "text": [
            "\rScraping conferences:  69%|██████▉   | 75/108 [01:46<01:52,  3.42s/it]"
          ]
        },
        {
          "output_type": "stream",
          "name": "stdout",
          "text": [
            "Found 34 talk links in https://www.churchofjesuschrist.org/study/general-conference/1987/10?lang=eng\n",
            "Sample talk links: ['https://www.churchofjesuschrist.org/study/general-conference/1987/10/yet-thou-art-there?lang=eng', 'https://www.churchofjesuschrist.org/study/general-conference/1987/10/keys-of-the-priesthood?lang=eng', 'https://www.churchofjesuschrist.org/study/general-conference/1987/10/the-light-and-life-of-the-world?lang=eng']\n",
            "Successfully fetched https://www.churchofjesuschrist.org/study/general-conference/1987/04?lang=eng\n",
            "Found 30 talk links in https://www.churchofjesuschrist.org/study/general-conference/1987/04?lang=eng\n",
            "Sample talk links: ['https://www.churchofjesuschrist.org/study/general-conference/1987/04/the-church-audit-committee-report?lang=eng', 'https://www.churchofjesuschrist.org/study/general-conference/1987/04/spiritual-security?lang=eng', 'https://www.churchofjesuschrist.org/study/general-conference/1987/04/the-book-of-mormon-and-the-doctrine-and-covenants?lang=eng']\n"
          ]
        },
        {
          "output_type": "stream",
          "name": "stderr",
          "text": [
            "Scraping conferences:  71%|███████▏  | 77/108 [01:47<00:59,  1.93s/it]"
          ]
        },
        {
          "output_type": "stream",
          "name": "stdout",
          "text": [
            "Successfully fetched https://www.churchofjesuschrist.org/study/general-conference/1986/10?lang=eng\n",
            "Found 34 talk links in https://www.churchofjesuschrist.org/study/general-conference/1986/10?lang=eng\n",
            "Sample talk links: ['https://www.churchofjesuschrist.org/study/general-conference/1986/10/happiness-and-joy-in-temple-work?lang=eng', 'https://www.churchofjesuschrist.org/study/general-conference/1986/10/the-lords-touchstone?lang=eng', 'https://www.churchofjesuschrist.org/study/general-conference/1986/10/my-son-and-yours-each-a-remarkable-one?lang=eng']\n"
          ]
        },
        {
          "output_type": "stream",
          "name": "stderr",
          "text": [
            "\rScraping conferences:  72%|███████▏  | 78/108 [01:48<00:44,  1.50s/it]"
          ]
        },
        {
          "output_type": "stream",
          "name": "stdout",
          "text": [
            "Successfully fetched https://www.churchofjesuschrist.org/study/general-conference/1986/04?lang=eng\n",
            "Found 29 talk links in https://www.churchofjesuschrist.org/study/general-conference/1986/04?lang=eng\n",
            "Sample talk links: ['https://www.churchofjesuschrist.org/study/general-conference/1986/04/the-greatest-news-of-all-times-is-that-jesus-lives?lang=eng', 'https://www.churchofjesuschrist.org/study/general-conference/1986/04/a-prophet-chosen-of-the-lord?lang=eng', 'https://www.churchofjesuschrist.org/study/general-conference/1986/04/the-church-audit-committee-report?lang=eng']\n"
          ]
        },
        {
          "output_type": "stream",
          "name": "stderr",
          "text": [
            "\rScraping conferences:  73%|███████▎  | 79/108 [01:48<00:33,  1.17s/it]"
          ]
        },
        {
          "output_type": "stream",
          "name": "stdout",
          "text": [
            "Successfully fetched https://www.churchofjesuschrist.org/study/general-conference/1985/10?lang=eng\n",
            "Found 36 talk links in https://www.churchofjesuschrist.org/study/general-conference/1985/10?lang=eng\n",
            "Sample talk links: ['https://www.churchofjesuschrist.org/study/general-conference/1985/10/self-mastery?lang=eng', 'https://www.churchofjesuschrist.org/study/general-conference/1985/10/the-sustaining-of-church-officers?lang=eng', 'https://www.churchofjesuschrist.org/study/general-conference/1985/10/let-mercy-temper-justice?lang=eng']\n"
          ]
        },
        {
          "output_type": "stream",
          "name": "stderr",
          "text": [
            "\rScraping conferences:  74%|███████▍  | 80/108 [01:49<00:32,  1.16s/it]"
          ]
        },
        {
          "output_type": "stream",
          "name": "stdout",
          "text": [
            "Successfully fetched https://www.churchofjesuschrist.org/study/general-conference/1985/04?lang=eng\n",
            "Found 36 talk links in https://www.churchofjesuschrist.org/study/general-conference/1985/04?lang=eng\n",
            "Sample talk links: ['https://www.churchofjesuschrist.org/study/general-conference/1985/04/from-such-turn-away?lang=eng', 'https://www.churchofjesuschrist.org/study/general-conference/1985/04/our-responsibility-to-share-the-gospel?lang=eng', 'https://www.churchofjesuschrist.org/study/general-conference/1985/04/set-some-personal-goals?lang=eng']\n"
          ]
        },
        {
          "output_type": "stream",
          "name": "stderr",
          "text": [
            "\rScraping conferences:  75%|███████▌  | 81/108 [01:50<00:25,  1.08it/s]"
          ]
        },
        {
          "output_type": "stream",
          "name": "stdout",
          "text": [
            "Successfully fetched https://www.churchofjesuschrist.org/study/general-conference/1984/10?lang=eng\n",
            "Found 37 talk links in https://www.churchofjesuschrist.org/study/general-conference/1984/10?lang=eng\n",
            "Sample talk links: ['https://www.churchofjesuschrist.org/study/general-conference/1984/10/he-returned-speedily?lang=eng', 'https://www.churchofjesuschrist.org/study/general-conference/1984/10/striving-together-transforming-our-beliefs-into-action?lang=eng', 'https://www.churchofjesuschrist.org/study/general-conference/1984/10/the-power-of-keeping-the-sabbath-day-holy?lang=eng']\n"
          ]
        },
        {
          "output_type": "stream",
          "name": "stderr",
          "text": [
            "\rScraping conferences:  76%|███████▌  | 82/108 [01:50<00:20,  1.27it/s]"
          ]
        },
        {
          "output_type": "stream",
          "name": "stdout",
          "text": [
            "Successfully fetched https://www.churchofjesuschrist.org/study/general-conference/1984/04?lang=eng\n",
            "Found 35 talk links in https://www.churchofjesuschrist.org/study/general-conference/1984/04?lang=eng\n",
            "Sample talk links: ['https://www.churchofjesuschrist.org/study/general-conference/1984/04/statistical-report-1983?lang=eng', 'https://www.churchofjesuschrist.org/study/general-conference/1984/04/a-generation-prepared-to-make-wise-choices?lang=eng', 'https://www.churchofjesuschrist.org/study/general-conference/1984/04/whos-on-the-lords-team?lang=eng']\n"
          ]
        },
        {
          "output_type": "stream",
          "name": "stderr",
          "text": [
            "\rScraping conferences:  77%|███████▋  | 83/108 [01:50<00:16,  1.52it/s]"
          ]
        },
        {
          "output_type": "stream",
          "name": "stdout",
          "text": [
            "Successfully fetched https://www.churchofjesuschrist.org/study/general-conference/1983/10?lang=eng\n",
            "Found 35 talk links in https://www.churchofjesuschrist.org/study/general-conference/1983/10?lang=eng\n",
            "Sample talk links: ['https://www.churchofjesuschrist.org/study/general-conference/1983/10/honour-thy-father-and-thy-mother?lang=eng', 'https://www.churchofjesuschrist.org/study/general-conference/1983/10/let-us-go-forward?lang=eng', 'https://www.churchofjesuschrist.org/study/general-conference/1983/10/god-grant-us-faith?lang=eng']\n"
          ]
        },
        {
          "output_type": "stream",
          "name": "stderr",
          "text": [
            "\rScraping conferences:  78%|███████▊  | 84/108 [01:51<00:13,  1.73it/s]"
          ]
        },
        {
          "output_type": "stream",
          "name": "stdout",
          "text": [
            "Successfully fetched https://www.churchofjesuschrist.org/study/general-conference/1983/04?lang=eng\n",
            "Found 33 talk links in https://www.churchofjesuschrist.org/study/general-conference/1983/04?lang=eng\n",
            "Sample talk links: ['https://www.churchofjesuschrist.org/study/general-conference/1983/04/unity?lang=eng', 'https://www.churchofjesuschrist.org/study/general-conference/1983/04/the-keys-of-the-kingdom?lang=eng', 'https://www.churchofjesuschrist.org/study/general-conference/1983/04/he-slumbers-not-nor-sleeps?lang=eng']\n",
            "Successfully fetched https://www.churchofjesuschrist.org/study/general-conference/1982/10?lang=eng\n"
          ]
        },
        {
          "output_type": "stream",
          "name": "stderr",
          "text": [
            "\rScraping conferences:  79%|███████▊  | 85/108 [01:52<00:18,  1.26it/s]"
          ]
        },
        {
          "output_type": "stream",
          "name": "stdout",
          "text": [
            "Found 37 talk links in https://www.churchofjesuschrist.org/study/general-conference/1982/10?lang=eng\n",
            "Sample talk links: ['https://www.churchofjesuschrist.org/study/general-conference/1982/10/scriptures?lang=eng', 'https://www.churchofjesuschrist.org/study/general-conference/1982/10/my-soul-delighteth-in-the-scriptures?lang=eng', 'https://www.churchofjesuschrist.org/study/general-conference/1982/10/believers-and-doers?lang=eng']\n"
          ]
        },
        {
          "output_type": "stream",
          "name": "stderr",
          "text": [
            "\rScraping conferences:  80%|███████▉  | 86/108 [01:52<00:14,  1.47it/s]"
          ]
        },
        {
          "output_type": "stream",
          "name": "stdout",
          "text": [
            "Successfully fetched https://www.churchofjesuschrist.org/study/general-conference/1982/04?lang=eng\n",
            "Found 42 talk links in https://www.churchofjesuschrist.org/study/general-conference/1982/04?lang=eng\n",
            "Sample talk links: ['https://www.churchofjesuschrist.org/study/general-conference/1982/04/integrity-the-mother-of-many-virtues?lang=eng', 'https://www.churchofjesuschrist.org/study/general-conference/1982/04/the-value-of-work?lang=eng', 'https://www.churchofjesuschrist.org/study/general-conference/1982/04/let-us-improve-ourselves?lang=eng']\n"
          ]
        },
        {
          "output_type": "stream",
          "name": "stderr",
          "text": [
            "\rScraping conferences:  81%|████████  | 87/108 [01:53<00:15,  1.39it/s]"
          ]
        },
        {
          "output_type": "stream",
          "name": "stdout",
          "text": [
            "Successfully fetched https://www.churchofjesuschrist.org/study/general-conference/1981/10?lang=eng\n",
            "Found 41 talk links in https://www.churchofjesuschrist.org/study/general-conference/1981/10?lang=eng\n",
            "Sample talk links: ['https://www.churchofjesuschrist.org/study/general-conference/1981/10/opposition-to-the-work-of-god?lang=eng', 'https://www.churchofjesuschrist.org/study/general-conference/1981/10/be-ye-prepared?lang=eng', 'https://www.churchofjesuschrist.org/study/general-conference/1981/10/examples-from-the-life-of-a-prophet?lang=eng']\n",
            "Successfully fetched https://www.churchofjesuschrist.org/study/general-conference/1981/04?lang=eng\n"
          ]
        },
        {
          "output_type": "stream",
          "name": "stderr",
          "text": [
            "\rScraping conferences:  81%|████████▏ | 88/108 [01:54<00:12,  1.55it/s]"
          ]
        },
        {
          "output_type": "stream",
          "name": "stdout",
          "text": [
            "Found 39 talk links in https://www.churchofjesuschrist.org/study/general-conference/1981/04?lang=eng\n",
            "Sample talk links: ['https://www.churchofjesuschrist.org/study/general-conference/1981/04/our-responsibility-to-care-for-our-own?lang=eng', 'https://www.churchofjesuschrist.org/study/general-conference/1981/04/call-of-the-prophets?lang=eng', 'https://www.churchofjesuschrist.org/study/general-conference/1981/04/turning-the-hearts?lang=eng']\n",
            "Successfully fetched https://www.churchofjesuschrist.org/study/general-conference/1980/10?lang=eng\n"
          ]
        },
        {
          "output_type": "stream",
          "name": "stderr",
          "text": [
            "\rScraping conferences:  82%|████████▏ | 89/108 [01:54<00:11,  1.68it/s]"
          ]
        },
        {
          "output_type": "stream",
          "name": "stdout",
          "text": [
            "Found 46 talk links in https://www.churchofjesuschrist.org/study/general-conference/1980/10?lang=eng\n",
            "Sample talk links: ['https://www.churchofjesuschrist.org/study/general-conference/1980/10/prepare-every-needful-thing?lang=eng', 'https://www.churchofjesuschrist.org/study/general-conference/1980/10/learn-then-teach?lang=eng', 'https://www.churchofjesuschrist.org/study/general-conference/1980/10/the-choice?lang=eng']\n",
            "Successfully fetched https://www.churchofjesuschrist.org/study/general-conference/1980/04?lang=eng\n",
            "Found 40 talk links in https://www.churchofjesuschrist.org/study/general-conference/1980/04?lang=eng\n"
          ]
        },
        {
          "output_type": "stream",
          "name": "stderr",
          "text": [
            "\rScraping conferences:  83%|████████▎ | 90/108 [01:55<00:09,  1.83it/s]"
          ]
        },
        {
          "output_type": "stream",
          "name": "stdout",
          "text": [
            "Sample talk links: ['https://www.churchofjesuschrist.org/study/general-conference/1980/04/self-accountability-and-human-progress?lang=eng', 'https://www.churchofjesuschrist.org/study/general-conference/1980/04/the-book-of-mormon?lang=eng', 'https://www.churchofjesuschrist.org/study/general-conference/1980/04/god-will-have-a-tried-people?lang=eng']\n",
            "Successfully fetched https://www.churchofjesuschrist.org/study/general-conference/1979/10?lang=eng\n"
          ]
        },
        {
          "output_type": "stream",
          "name": "stderr",
          "text": [
            "Scraping conferences:  85%|████████▌ | 92/108 [01:56<00:08,  1.95it/s]"
          ]
        },
        {
          "output_type": "stream",
          "name": "stdout",
          "text": [
            "Found 40 talk links in https://www.churchofjesuschrist.org/study/general-conference/1979/10?lang=eng\n",
            "Sample talk links: ['https://www.churchofjesuschrist.org/study/general-conference/1979/10/making-the-right-decisions?lang=eng', 'https://www.churchofjesuschrist.org/study/general-conference/1979/10/constancy-amid-change?lang=eng', 'https://www.churchofjesuschrist.org/study/general-conference/1979/10/we-will-go-with-our-young-and-with-our-old?lang=eng']\n",
            "Successfully fetched https://www.churchofjesuschrist.org/study/general-conference/1979/04?lang=eng\n",
            "Found 37 talk links in https://www.churchofjesuschrist.org/study/general-conference/1979/04?lang=eng\n",
            "Sample talk links: ['https://www.churchofjesuschrist.org/study/general-conference/1979/04/church-government-through-councils?lang=eng', 'https://www.churchofjesuschrist.org/study/general-conference/1979/04/to-those-searching-for-happiness?lang=eng', 'https://www.churchofjesuschrist.org/study/general-conference/1979/04/the-home-as-an-educational-institution?lang=eng']\n"
          ]
        },
        {
          "output_type": "stream",
          "name": "stderr",
          "text": [
            "\rScraping conferences:  86%|████████▌ | 93/108 [01:56<00:09,  1.63it/s]"
          ]
        },
        {
          "output_type": "stream",
          "name": "stdout",
          "text": [
            "Successfully fetched https://www.churchofjesuschrist.org/study/general-conference/1978/10?lang=eng\n",
            "Found 45 talk links in https://www.churchofjesuschrist.org/study/general-conference/1978/10?lang=eng\n",
            "Sample talk links: ['https://www.churchofjesuschrist.org/study/general-conference/1978/10/privileges-and-responsibilities-of-sisters?lang=eng', 'https://www.churchofjesuschrist.org/study/general-conference/1978/10/the-remarkable-example-of-the-bermejillo-mexico-branch?lang=eng', 'https://www.churchofjesuschrist.org/study/general-conference/1978/10/behold-your-little-ones?lang=eng']\n"
          ]
        },
        {
          "output_type": "stream",
          "name": "stderr",
          "text": [
            "\rScraping conferences:  87%|████████▋ | 94/108 [01:57<00:08,  1.71it/s]"
          ]
        },
        {
          "output_type": "stream",
          "name": "stdout",
          "text": [
            "Successfully fetched https://www.churchofjesuschrist.org/study/general-conference/1978/04?lang=eng\n",
            "Found 44 talk links in https://www.churchofjesuschrist.org/study/general-conference/1978/04?lang=eng\n",
            "Sample talk links: ['https://www.churchofjesuschrist.org/study/general-conference/1978/04/what-is-truth?lang=eng', 'https://www.churchofjesuschrist.org/study/general-conference/1978/04/evidence-of-things-not-seen?lang=eng', 'https://www.churchofjesuschrist.org/study/general-conference/1978/04/strengthening-the-family-the-basic-unit-of-the-church?lang=eng']\n"
          ]
        },
        {
          "output_type": "stream",
          "name": "stderr",
          "text": [
            "\rScraping conferences:  88%|████████▊ | 95/108 [01:58<00:07,  1.64it/s]"
          ]
        },
        {
          "output_type": "stream",
          "name": "stdout",
          "text": [
            "Successfully fetched https://www.churchofjesuschrist.org/study/general-conference/1977/10?lang=eng\n",
            "Found 38 talk links in https://www.churchofjesuschrist.org/study/general-conference/1977/10?lang=eng\n",
            "Sample talk links: ['https://www.churchofjesuschrist.org/study/general-conference/1977/10/they-didn-t-give-up?lang=eng', 'https://www.churchofjesuschrist.org/study/general-conference/1977/10/a-special-moment-in-church-history?lang=eng', 'https://www.churchofjesuschrist.org/study/general-conference/1977/10/welfare-services-the-gospel-in-action?lang=eng']\n"
          ]
        },
        {
          "output_type": "stream",
          "name": "stderr",
          "text": [
            "\rScraping conferences:  89%|████████▉ | 96/108 [01:58<00:06,  1.81it/s]"
          ]
        },
        {
          "output_type": "stream",
          "name": "stdout",
          "text": [
            "Successfully fetched https://www.churchofjesuschrist.org/study/general-conference/1977/04?lang=eng\n",
            "Found 42 talk links in https://www.churchofjesuschrist.org/study/general-conference/1977/04?lang=eng\n",
            "Sample talk links: ['https://www.churchofjesuschrist.org/study/general-conference/1977/04/integrity?lang=eng', 'https://www.churchofjesuschrist.org/study/general-conference/1977/04/what-constitutes-the-true-church?lang=eng', 'https://www.churchofjesuschrist.org/study/general-conference/1977/04/neither-cryptic-nor-hidden?lang=eng']\n",
            "Successfully fetched https://www.churchofjesuschrist.org/study/general-conference/1976/10?lang=eng\n"
          ]
        },
        {
          "output_type": "stream",
          "name": "stderr",
          "text": [
            "\rScraping conferences:  90%|████████▉ | 97/108 [01:59<00:06,  1.81it/s]"
          ]
        },
        {
          "output_type": "stream",
          "name": "stdout",
          "text": [
            "Found 53 talk links in https://www.churchofjesuschrist.org/study/general-conference/1976/10?lang=eng\n",
            "Sample talk links: ['https://www.churchofjesuschrist.org/study/general-conference/1976/10/the-spirit-of-missionary-work?lang=eng', 'https://www.churchofjesuschrist.org/study/general-conference/1976/10/a-report-on-the-churchs-participation-in-americas-bicentennial-celebration?lang=eng', 'https://www.churchofjesuschrist.org/study/general-conference/1976/10/the-simplicity-in-christ?lang=eng']\n"
          ]
        },
        {
          "output_type": "stream",
          "name": "stderr",
          "text": [
            "\rScraping conferences:  91%|█████████ | 98/108 [01:59<00:05,  1.92it/s]"
          ]
        },
        {
          "output_type": "stream",
          "name": "stdout",
          "text": [
            "Successfully fetched https://www.churchofjesuschrist.org/study/general-conference/1976/04?lang=eng\n",
            "Found 53 talk links in https://www.churchofjesuschrist.org/study/general-conference/1976/04?lang=eng\n",
            "Sample talk links: ['https://www.churchofjesuschrist.org/study/general-conference/1976/04/priesthood-authority-and-power?lang=eng', 'https://www.churchofjesuschrist.org/study/general-conference/1976/04/he-is-the-son-of-god?lang=eng', 'https://www.churchofjesuschrist.org/study/general-conference/1976/04/shout-it-from-the-rooftops?lang=eng']\n"
          ]
        },
        {
          "output_type": "stream",
          "name": "stderr",
          "text": [
            "\rScraping conferences:  92%|█████████▏| 99/108 [01:59<00:04,  2.04it/s]"
          ]
        },
        {
          "output_type": "stream",
          "name": "stdout",
          "text": [
            "Successfully fetched https://www.churchofjesuschrist.org/study/general-conference/1975/10?lang=eng\n",
            "Found 52 talk links in https://www.churchofjesuschrist.org/study/general-conference/1975/10?lang=eng\n",
            "Sample talk links: ['https://www.churchofjesuschrist.org/study/general-conference/1975/10/but-watchman-what-of-the-night?lang=eng', 'https://www.churchofjesuschrist.org/study/general-conference/1975/10/do-it?lang=eng', 'https://www.churchofjesuschrist.org/study/general-conference/1975/10/once-or-twice-in-a-thousand-years?lang=eng']\n"
          ]
        },
        {
          "output_type": "stream",
          "name": "stderr",
          "text": [
            "\rScraping conferences:  93%|█████████▎| 100/108 [02:00<00:03,  2.13it/s]"
          ]
        },
        {
          "output_type": "stream",
          "name": "stdout",
          "text": [
            "Successfully fetched https://www.churchofjesuschrist.org/study/general-conference/1975/04?lang=eng\n",
            "Found 48 talk links in https://www.churchofjesuschrist.org/study/general-conference/1975/04?lang=eng\n",
            "Sample talk links: ['https://www.churchofjesuschrist.org/study/general-conference/1975/04/a-time-for-every-purpose?lang=eng', 'https://www.churchofjesuschrist.org/study/general-conference/1975/04/trust-in-the-lord?lang=eng', 'https://www.churchofjesuschrist.org/study/general-conference/1975/04/a-time-to-prepare?lang=eng']\n"
          ]
        },
        {
          "output_type": "stream",
          "name": "stderr",
          "text": [
            "\rScraping conferences:  94%|█████████▎| 101/108 [02:00<00:03,  2.31it/s]"
          ]
        },
        {
          "output_type": "stream",
          "name": "stdout",
          "text": [
            "Successfully fetched https://www.churchofjesuschrist.org/study/general-conference/1974/10?lang=eng\n",
            "Found 44 talk links in https://www.churchofjesuschrist.org/study/general-conference/1974/10?lang=eng\n",
            "Sample talk links: ['https://www.churchofjesuschrist.org/study/general-conference/1974/10/to-know-god?lang=eng', 'https://www.churchofjesuschrist.org/study/general-conference/1974/10/your-mission-preparation?lang=eng', 'https://www.churchofjesuschrist.org/study/general-conference/1974/10/welfare-services-romney?lang=eng']\n"
          ]
        },
        {
          "output_type": "stream",
          "name": "stderr",
          "text": [
            "\rScraping conferences:  94%|█████████▍| 102/108 [02:01<00:02,  2.35it/s]"
          ]
        },
        {
          "output_type": "stream",
          "name": "stdout",
          "text": [
            "Successfully fetched https://www.churchofjesuschrist.org/study/general-conference/1974/04?lang=eng\n",
            "Found 47 talk links in https://www.churchofjesuschrist.org/study/general-conference/1974/04?lang=eng\n",
            "Sample talk links: ['https://www.churchofjesuschrist.org/study/general-conference/1974/04/parents-teach-your-children?lang=eng', 'https://www.churchofjesuschrist.org/study/general-conference/1974/04/statistical-report-1973?lang=eng', 'https://www.churchofjesuschrist.org/study/general-conference/1974/04/planning-for-a-full-and-abundant-life?lang=eng']\n"
          ]
        },
        {
          "output_type": "stream",
          "name": "stderr",
          "text": [
            "\rScraping conferences:  95%|█████████▌| 103/108 [02:02<00:02,  1.70it/s]"
          ]
        },
        {
          "output_type": "stream",
          "name": "stdout",
          "text": [
            "Successfully fetched https://www.churchofjesuschrist.org/study/general-conference/1973/10?lang=eng\n",
            "Found 41 talk links in https://www.churchofjesuschrist.org/study/general-conference/1973/10?lang=eng\n",
            "Sample talk links: ['https://www.churchofjesuschrist.org/study/general-conference/1973/10/of-the-world-or-of-the-kingdom?lang=eng', 'https://www.churchofjesuschrist.org/study/general-conference/1973/10/the-path-to-eternal-life?lang=eng', 'https://www.churchofjesuschrist.org/study/general-conference/1973/10/love-and-forgive-one-another?lang=eng']\n"
          ]
        },
        {
          "output_type": "stream",
          "name": "stderr",
          "text": [
            "\rScraping conferences:  96%|█████████▋| 104/108 [02:02<00:02,  1.64it/s]"
          ]
        },
        {
          "output_type": "stream",
          "name": "stdout",
          "text": [
            "Successfully fetched https://www.churchofjesuschrist.org/study/general-conference/1973/04?lang=eng\n",
            "Found 42 talk links in https://www.churchofjesuschrist.org/study/general-conference/1973/04?lang=eng\n",
            "Sample talk links: ['https://www.churchofjesuschrist.org/study/general-conference/1973/04/power-of-evil?lang=eng', 'https://www.churchofjesuschrist.org/study/general-conference/1973/04/watchman-warn-the-wicked?lang=eng', 'https://www.churchofjesuschrist.org/study/general-conference/1973/04/youths-opportunity-to-serve?lang=eng']\n"
          ]
        },
        {
          "output_type": "stream",
          "name": "stderr",
          "text": [
            "\rScraping conferences:  97%|█████████▋| 105/108 [02:03<00:01,  1.60it/s]"
          ]
        },
        {
          "output_type": "stream",
          "name": "stdout",
          "text": [
            "Successfully fetched https://www.churchofjesuschrist.org/study/general-conference/1972/10?lang=eng\n",
            "Found 44 talk links in https://www.churchofjesuschrist.org/study/general-conference/1972/10?lang=eng\n",
            "Sample talk links: ['https://www.churchofjesuschrist.org/study/general-conference/1972/10/a-blessing-for-the-saints?lang=eng', 'https://www.churchofjesuschrist.org/study/general-conference/1972/10/altar-tent-well?lang=eng', 'https://www.churchofjesuschrist.org/study/general-conference/1972/10/to-become-one-of-the-fishers?lang=eng']\n"
          ]
        },
        {
          "output_type": "stream",
          "name": "stderr",
          "text": [
            "\rScraping conferences:  98%|█████████▊| 106/108 [02:04<00:01,  1.55it/s]"
          ]
        },
        {
          "output_type": "stream",
          "name": "stdout",
          "text": [
            "Successfully fetched https://www.churchofjesuschrist.org/study/general-conference/1972/04?lang=eng\n",
            "Found 48 talk links in https://www.churchofjesuschrist.org/study/general-conference/1972/04?lang=eng\n",
            "Sample talk links: ['https://www.churchofjesuschrist.org/study/general-conference/1972/04/a-foundation-whereon-men-cannot-fall?lang=eng', 'https://www.churchofjesuschrist.org/study/general-conference/1972/04/a-people-of-sound-judgment?lang=eng', 'https://www.churchofjesuschrist.org/study/general-conference/1972/04/eternal-keys-and-the-right-to-preside?lang=eng']\n"
          ]
        },
        {
          "output_type": "stream",
          "name": "stderr",
          "text": [
            "\rScraping conferences:  99%|█████████▉| 107/108 [02:04<00:00,  1.76it/s]"
          ]
        },
        {
          "output_type": "stream",
          "name": "stdout",
          "text": [
            "Successfully fetched https://www.churchofjesuschrist.org/study/general-conference/1971/10?lang=eng\n",
            "Found 45 talk links in https://www.churchofjesuschrist.org/study/general-conference/1971/10?lang=eng\n",
            "Sample talk links: ['https://www.churchofjesuschrist.org/study/general-conference/1971/10/a-time-of-testing?lang=eng', 'https://www.churchofjesuschrist.org/study/general-conference/1971/10/our-responsibility-to-save-the-world?lang=eng', 'https://www.churchofjesuschrist.org/study/general-conference/1971/10/the-light-shineth?lang=eng']\n",
            "Successfully fetched https://www.churchofjesuschrist.org/study/general-conference/1971/04?lang=eng\n"
          ]
        },
        {
          "output_type": "stream",
          "name": "stderr",
          "text": [
            "Scraping conferences: 100%|██████████| 108/108 [02:05<00:00,  1.16s/it]\n"
          ]
        },
        {
          "output_type": "stream",
          "name": "stdout",
          "text": [
            "Found 46 talk links in https://www.churchofjesuschrist.org/study/general-conference/1971/04?lang=eng\n",
            "Sample talk links: ['https://www.churchofjesuschrist.org/study/general-conference/1971/04/where-are-you-really-going?lang=eng', 'https://www.churchofjesuschrist.org/study/general-conference/1971/04/our-responsibilities-as-priesthood-holders?lang=eng', 'https://www.churchofjesuschrist.org/study/general-conference/1971/04/be-slow-to-anger?lang=eng']\n",
            "Total talks found: 4112\n"
          ]
        },
        {
          "output_type": "stream",
          "name": "stderr",
          "text": [
            "\rScraping talks in parallel:   0%|          | 0/4112 [00:00<?, ?it/s]"
          ]
        },
        {
          "output_type": "stream",
          "name": "stdout",
          "text": [
            "Successfully fetched https://www.churchofjesuschrist.org/study/general-conference/2024/10/34alvarado?lang=eng\n",
            "Successfully fetched https://www.churchofjesuschrist.org/study/general-conference/2024/10/12andersen?lang=eng\n",
            "Successfully fetched https://www.churchofjesuschrist.org/study/general-conference/2024/10/11eyring?lang=eng\n",
            "Successfully fetched https://www.churchofjesuschrist.org/study/general-conference/2024/10/18oaks?lang=eng\n",
            "Successfully fetched https://www.churchofjesuschrist.org/study/general-conference/2024/10/52wada?lang=eng\n",
            "Successfully fetched https://www.churchofjesuschrist.org/study/general-conference/2024/10/13freeman?lang=eng\n",
            "Successfully fetched https://www.churchofjesuschrist.org/study/general-conference/2024/10/53rasband?lang=eng\n",
            "Successfully fetched https://www.churchofjesuschrist.org/study/general-conference/2024/10/54cook?lang=eng\n",
            "Successfully fetched https://www.churchofjesuschrist.org/study/general-conference/2024/10/45budge?lang=eng\n"
          ]
        },
        {
          "output_type": "stream",
          "name": "stderr",
          "text": [
            "\rScraping talks in parallel:   0%|          | 1/4112 [00:00<51:36,  1.33it/s]"
          ]
        },
        {
          "output_type": "stream",
          "name": "stdout",
          "text": [
            "Successfully fetched https://www.churchofjesuschrist.org/study/general-conference/2024/10/25buckner?lang=eng\n",
            "Successfully fetched https://www.churchofjesuschrist.org/study/general-conference/2024/10/47eyring?lang=eng\n",
            "Successfully fetched https://www.churchofjesuschrist.org/study/general-conference/2024/10/24kearon?lang=eng\n",
            "Successfully fetched https://www.churchofjesuschrist.org/study/general-conference/2024/10/57nelson?lang=eng\n"
          ]
        },
        {
          "output_type": "stream",
          "name": "stderr",
          "text": [
            "\rScraping talks in parallel:   0%|          | 2/4112 [00:01<38:08,  1.80it/s]"
          ]
        },
        {
          "output_type": "stream",
          "name": "stdout",
          "text": [
            "Successfully fetched https://www.churchofjesuschrist.org/study/general-conference/2024/10/23villar?lang=eng\n",
            "Successfully fetched https://www.churchofjesuschrist.org/study/general-conference/2024/10/15renlund?lang=eng\n",
            "Successfully fetched https://www.churchofjesuschrist.org/study/general-conference/2024/10/41holland?lang=eng\n",
            "Successfully fetched https://www.churchofjesuschrist.org/study/general-conference/2024/10/saturday-morning-session?lang=eng\n",
            "Successfully fetched https://www.churchofjesuschrist.org/study/general-conference/2024/10/55alliaud?lang=eng\n",
            "Successfully fetched https://www.churchofjesuschrist.org/study/general-conference/2024/10/28soares?lang=engSuccessfully fetched https://www.churchofjesuschrist.org/study/general-conference/2024/10/14hirst?lang=eng\n",
            "\n"
          ]
        },
        {
          "output_type": "stream",
          "name": "stderr",
          "text": [
            "\rScraping talks in parallel:   0%|          | 3/4112 [00:02<51:55,  1.32it/s]"
          ]
        },
        {
          "output_type": "stream",
          "name": "stdout",
          "text": [
            "Successfully fetched https://www.churchofjesuschrist.org/study/general-conference/2024/10/44stevenson?lang=eng\n",
            "Successfully fetched https://www.churchofjesuschrist.org/study/general-conference/2024/10/26goury?lang=engSuccessfully fetched https://www.churchofjesuschrist.org/study/general-conference/2024/10/31gong?lang=eng\n",
            "\n",
            "Successfully fetched https://www.churchofjesuschrist.org/study/general-conference/2024/10/27cavalcante?lang=eng\n",
            "Successfully fetched https://www.churchofjesuschrist.org/study/general-conference/2024/10/17casillas?lang=engSuccessfully fetched https://www.churchofjesuschrist.org/study/general-conference/2024/10/42browning?lang=eng\n",
            "\n",
            "Successfully fetched https://www.churchofjesuschrist.org/study/general-conference/2024/10/56egbo?lang=eng\n"
          ]
        },
        {
          "output_type": "stream",
          "name": "stderr",
          "text": [
            "Scraping talks in parallel:   0%|          | 20/4112 [00:03<08:22,  8.14it/s]"
          ]
        },
        {
          "output_type": "stream",
          "name": "stdout",
          "text": [
            "Successfully fetched https://www.churchofjesuschrist.org/study/general-conference/2024/10/32yee?lang=engSuccessfully fetched https://www.churchofjesuschrist.org/study/general-conference/2024/10/16homer?lang=eng\n",
            "\n",
            "Successfully fetched https://www.churchofjesuschrist.org/study/general-conference/2024/10/22teixeira?lang=eng\n",
            "Successfully fetched https://www.churchofjesuschrist.org/study/general-conference/2024/10/51uchtdorf?lang=eng\n",
            "Successfully fetched https://www.churchofjesuschrist.org/study/general-conference/2024/10/33mckay?lang=eng\n",
            "Successfully fetched https://www.churchofjesuschrist.org/study/general-conference/2024/10/21christofferson?lang=eng\n"
          ]
        },
        {
          "output_type": "stream",
          "name": "stderr",
          "text": [
            "\rScraping talks in parallel:   1%|          | 24/4112 [00:03<08:51,  7.69it/s]"
          ]
        },
        {
          "output_type": "stream",
          "name": "stdout",
          "text": [
            "Successfully fetched https://www.churchofjesuschrist.org/study/general-conference/2024/10/46wilcox?lang=eng\n",
            "Successfully fetched https://www.churchofjesuschrist.org/study/general-conference/2024/10/43hales?lang=eng\n",
            "Successfully fetched https://www.churchofjesuschrist.org/study/general-conference/2024/10/35bednar?lang=eng\n",
            "Successfully fetched https://www.churchofjesuschrist.org/study/general-conference/2024/04/26nelson?lang=eng\n"
          ]
        },
        {
          "output_type": "stream",
          "name": "stderr",
          "text": [
            "Scraping talks in parallel:   1%|          | 35/4112 [00:04<06:43, 10.10it/s]"
          ]
        },
        {
          "output_type": "stream",
          "name": "stdout",
          "text": [
            "Successfully fetched https://www.churchofjesuschrist.org/study/general-conference/2024/04/15dushku?lang=eng\n",
            "Successfully fetched https://www.churchofjesuschrist.org/study/general-conference/2024/04/21bednar?lang=eng\n",
            "Successfully fetched https://www.churchofjesuschrist.org/study/general-conference/2024/04/47oaks?lang=eng\n"
          ]
        },
        {
          "output_type": "stream",
          "name": "stderr",
          "text": [
            "\rScraping talks in parallel:   1%|          | 38/4112 [00:05<06:14, 10.88it/s]"
          ]
        },
        {
          "output_type": "stream",
          "name": "stdout",
          "text": [
            "Successfully fetched https://www.churchofjesuschrist.org/study/general-conference/2024/04/11oaks?lang=eng\n",
            "Successfully fetched https://www.churchofjesuschrist.org/study/general-conference/2024/04/16soares?lang=eng\n",
            "Successfully fetched https://www.churchofjesuschrist.org/study/general-conference/2024/04/35uchtdorf?lang=eng\n",
            "Successfully fetched https://www.churchofjesuschrist.org/study/general-conference/2024/04/27cook?lang=eng\n",
            "Successfully fetched https://www.churchofjesuschrist.org/study/general-conference/2024/04/56pace?lang=eng\n",
            "Successfully fetched https://www.churchofjesuschrist.org/study/general-conference/2024/04/17gerard?lang=eng\n",
            "Successfully fetched https://www.churchofjesuschrist.org/study/general-conference/2024/04/45kearon?lang=eng\n"
          ]
        },
        {
          "output_type": "stream",
          "name": "stderr",
          "text": [
            "\rScraping talks in parallel:   1%|          | 41/4112 [00:05<07:29,  9.06it/s]"
          ]
        },
        {
          "output_type": "stream",
          "name": "stdout",
          "text": [
            "Successfully fetched https://www.churchofjesuschrist.org/study/general-conference/2024/04/42porter?lang=eng\n",
            "Successfully fetched https://www.churchofjesuschrist.org/study/general-conference/2024/04/saturday-morning-session?lang=eng\n",
            "Successfully fetched https://www.churchofjesuschrist.org/study/general-conference/2024/04/32bangerter?lang=eng\n",
            "Successfully fetched https://www.churchofjesuschrist.org/study/general-conference/2024/04/25gong?lang=eng\n",
            "Successfully fetched https://www.churchofjesuschrist.org/study/general-conference/2024/04/55andersen?lang=eng\n",
            "Successfully fetched https://www.churchofjesuschrist.org/study/general-conference/2024/04/44pieper?lang=eng\n",
            "Successfully fetched https://www.churchofjesuschrist.org/study/general-conference/2024/04/12larson?lang=eng\n",
            "Successfully fetched https://www.churchofjesuschrist.org/study/general-conference/2024/04/54held?lang=eng\n",
            "Successfully fetched https://www.churchofjesuschrist.org/study/general-conference/2024/04/31bowen?lang=eng\n",
            "Successfully fetched https://www.churchofjesuschrist.org/study/general-conference/2024/04/43renlund?lang=eng\n",
            "Successfully fetched https://www.churchofjesuschrist.org/study/general-conference/2024/04/34carpenter?lang=eng\n"
          ]
        },
        {
          "output_type": "stream",
          "name": "stderr",
          "text": [
            "Scraping talks in parallel:   1%|▏         | 56/4112 [00:06<04:57, 13.61it/s]"
          ]
        },
        {
          "output_type": "stream",
          "name": "stdout",
          "text": [
            "Successfully fetched https://www.churchofjesuschrist.org/study/general-conference/2024/04/14dennis?lang=eng\n",
            "Successfully fetched https://www.churchofjesuschrist.org/study/general-conference/2024/04/22de-feo?lang=eng\n",
            "Successfully fetched https://www.churchofjesuschrist.org/study/general-conference/2024/04/52godoy?lang=eng\n",
            "Successfully fetched https://www.churchofjesuschrist.org/study/general-conference/2024/04/23nielson?lang=eng\n",
            "Successfully fetched https://www.churchofjesuschrist.org/study/general-conference/2024/04/13holland?lang=eng\n"
          ]
        },
        {
          "output_type": "stream",
          "name": "stderr",
          "text": [
            "\rScraping talks in parallel:   1%|▏         | 60/4112 [00:06<04:19, 15.63it/s]"
          ]
        },
        {
          "output_type": "stream",
          "name": "stdout",
          "text": [
            "Successfully fetched https://www.churchofjesuschrist.org/study/general-conference/2024/04/46taylor?lang=eng\n",
            "Successfully fetched https://www.churchofjesuschrist.org/study/general-conference/2024/04/57nelson?lang=eng\n",
            "Successfully fetched https://www.churchofjesuschrist.org/study/general-conference/2024/04/24alonso?lang=eng\n",
            "Successfully fetched https://www.churchofjesuschrist.org/study/general-conference/2024/04/18eyring?lang=eng\n",
            "Successfully fetched https://www.churchofjesuschrist.org/study/general-conference/2024/04/41rasband?lang=eng\n"
          ]
        },
        {
          "output_type": "stream",
          "name": "stderr",
          "text": [
            "\rScraping talks in parallel:   2%|▏         | 64/4112 [00:07<05:31, 12.22it/s]"
          ]
        },
        {
          "output_type": "stream",
          "name": "stdout",
          "text": [
            "Successfully fetched https://www.churchofjesuschrist.org/study/general-conference/2024/04/53stevenson?lang=eng\n",
            "Successfully fetched https://www.churchofjesuschrist.org/study/general-conference/2023/10/43parrella?lang=eng\n",
            "Successfully fetched https://www.churchofjesuschrist.org/study/general-conference/2024/04/33spannaus?lang=eng\n"
          ]
        },
        {
          "output_type": "stream",
          "name": "stderr",
          "text": [
            "\rScraping talks in parallel:   2%|▏         | 68/4112 [00:07<04:59, 13.48it/s]"
          ]
        },
        {
          "output_type": "stream",
          "name": "stdout",
          "text": [
            "Successfully fetched https://www.churchofjesuschrist.org/study/general-conference/2024/04/51christofferson?lang=eng\n",
            "Successfully fetched https://www.churchofjesuschrist.org/study/general-conference/2023/10/56giraud-carrier?lang=eng\n",
            "Successfully fetched https://www.churchofjesuschrist.org/study/general-conference/2023/10/44cook?lang=eng\n",
            "Successfully fetched https://www.churchofjesuschrist.org/study/general-conference/2023/10/57renlund?lang=engSuccessfully fetched https://www.churchofjesuschrist.org/study/general-conference/2023/10/23newman?lang=eng\n",
            "\n"
          ]
        },
        {
          "output_type": "stream",
          "name": "stderr",
          "text": [
            "\rScraping talks in parallel:   2%|▏         | 71/4112 [00:07<05:22, 12.52it/s]"
          ]
        },
        {
          "output_type": "stream",
          "name": "stdout",
          "text": [
            "Successfully fetched https://www.churchofjesuschrist.org/study/general-conference/2023/10/55esplin?lang=eng\n"
          ]
        },
        {
          "output_type": "stream",
          "name": "stderr",
          "text": [
            "\rScraping talks in parallel:   2%|▏         | 74/4112 [00:08<06:12, 10.84it/s]"
          ]
        },
        {
          "output_type": "stream",
          "name": "stdout",
          "text": [
            "Successfully fetched https://www.churchofjesuschrist.org/study/general-conference/2023/10/31sabin?lang=eng\n",
            "Successfully fetched https://www.churchofjesuschrist.org/study/general-conference/2023/10/17oaks?lang=eng\n",
            "Successfully fetched https://www.churchofjesuschrist.org/study/general-conference/2023/10/11bednar?lang=eng\n",
            "Successfully fetched https://www.churchofjesuschrist.org/study/general-conference/2023/10/12wright?lang=eng\n",
            "Successfully fetched https://www.churchofjesuschrist.org/study/general-conference/2023/10/21eyring?lang=eng\n"
          ]
        },
        {
          "output_type": "stream",
          "name": "stderr",
          "text": [
            "\rScraping talks in parallel:   2%|▏         | 76/4112 [00:08<05:45, 11.67it/s]"
          ]
        },
        {
          "output_type": "stream",
          "name": "stdout",
          "text": [
            "Successfully fetched https://www.churchofjesuschrist.org/study/general-conference/2023/10/45uchtdorf?lang=eng\n"
          ]
        },
        {
          "output_type": "stream",
          "name": "stderr",
          "text": [
            "Scraping talks in parallel:   2%|▏         | 83/4112 [00:08<04:35, 14.60it/s]"
          ]
        },
        {
          "output_type": "stream",
          "name": "stdout",
          "text": [
            "Successfully fetched https://www.churchofjesuschrist.org/study/general-conference/2023/10/52pingree?lang=eng\n",
            "Successfully fetched https://www.churchofjesuschrist.org/study/general-conference/2023/10/14godoy?lang=eng\n",
            "Successfully fetched https://www.churchofjesuschrist.org/study/general-conference/2023/10/46waddell?lang=eng\n"
          ]
        },
        {
          "output_type": "stream",
          "name": "stderr",
          "text": [
            "\rScraping talks in parallel:   2%|▏         | 85/4112 [00:08<04:36, 14.58it/s]"
          ]
        },
        {
          "output_type": "stream",
          "name": "stdout",
          "text": [
            "Successfully fetched https://www.churchofjesuschrist.org/study/general-conference/2023/10/53cordon?lang=eng\n",
            "Successfully fetched https://www.churchofjesuschrist.org/study/general-conference/2023/10/34soares?lang=eng\n",
            "Successfully fetched https://www.churchofjesuschrist.org/study/general-conference/2023/10/33runia?lang=eng\n",
            "Successfully fetched https://www.churchofjesuschrist.org/study/general-conference/2023/10/47eyring?lang=eng\n",
            "Successfully fetched https://www.churchofjesuschrist.org/study/general-conference/2023/10/13daines?lang=eng\n",
            "Successfully fetched https://www.churchofjesuschrist.org/study/general-conference/2023/10/32koch?lang=eng\n",
            "Successfully fetched https://www.churchofjesuschrist.org/study/general-conference/2023/10/16ardern?lang=eng\n"
          ]
        },
        {
          "output_type": "stream",
          "name": "stderr",
          "text": [
            "\rScraping talks in parallel:   2%|▏         | 87/4112 [00:09<08:12,  8.18it/s]"
          ]
        },
        {
          "output_type": "stream",
          "name": "stdout",
          "text": [
            "Successfully fetched https://www.churchofjesuschrist.org/study/general-conference/2023/10/51nelson?lang=eng\n",
            "Successfully fetched https://www.churchofjesuschrist.org/study/general-conference/2023/10/28rasband?lang=eng\n",
            "Successfully fetched https://www.churchofjesuschrist.org/study/general-conference/2023/10/41ballard?lang=eng\n",
            "Successfully fetched https://www.churchofjesuschrist.org/study/general-conference/2023/10/15christofferson?lang=eng\n"
          ]
        },
        {
          "output_type": "stream",
          "name": "stderr",
          "text": [
            "\rScraping talks in parallel:   2%|▏         | 90/4112 [00:09<07:11,  9.33it/s]"
          ]
        },
        {
          "output_type": "stream",
          "name": "stdout",
          "text": [
            "Successfully fetched https://www.churchofjesuschrist.org/study/general-conference/2023/10/26choi?lang=eng\n",
            "Successfully fetched https://www.churchofjesuschrist.org/study/general-conference/2023/10/54gong?lang=eng\n",
            "Successfully fetched https://www.churchofjesuschrist.org/study/general-conference/2023/10/27phillips?lang=eng\n"
          ]
        },
        {
          "output_type": "stream",
          "name": "stderr",
          "text": [
            "Scraping talks in parallel:   2%|▏         | 100/4112 [00:10<04:18, 15.52it/s]"
          ]
        },
        {
          "output_type": "stream",
          "name": "stdout",
          "text": [
            "Successfully fetched https://www.churchofjesuschrist.org/study/general-conference/2023/10/24costa?lang=eng\n",
            "Successfully fetched https://www.churchofjesuschrist.org/study/general-conference/2023/10/25stevenson?lang=eng\n",
            "Successfully fetched https://www.churchofjesuschrist.org/study/general-conference/2023/10/22andersen?lang=eng\n",
            "Successfully fetched https://www.churchofjesuschrist.org/study/general-conference/2023/10/42freeman?lang=eng\n",
            "Successfully fetched https://www.churchofjesuschrist.org/study/general-conference/2023/04/54stanfill?lang=eng\n",
            "Successfully fetched https://www.churchofjesuschrist.org/study/general-conference/2023/10/saturday-morning-session?lang=eng\n",
            "Successfully fetched https://www.churchofjesuschrist.org/study/general-conference/2023/04/24meurs?lang=eng\n",
            "Successfully fetched https://www.churchofjesuschrist.org/study/general-conference/2023/04/33nattress?lang=eng\n",
            "Successfully fetched https://www.churchofjesuschrist.org/study/general-conference/2023/04/55bassett?lang=eng\n",
            "Successfully fetched https://www.churchofjesuschrist.org/study/general-conference/2023/04/44yamashita?lang=eng\n"
          ]
        },
        {
          "output_type": "stream",
          "name": "stderr",
          "text": [
            "\rScraping talks in parallel:   3%|▎         | 103/4112 [00:10<07:09,  9.33it/s]"
          ]
        },
        {
          "output_type": "stream",
          "name": "stdout",
          "text": [
            "Successfully fetched https://www.churchofjesuschrist.org/study/general-conference/2023/04/43soares?lang=eng\n",
            "Successfully fetched https://www.churchofjesuschrist.org/study/general-conference/2023/04/13cook?lang=eng\n",
            "Successfully fetched https://www.churchofjesuschrist.org/study/general-conference/2023/04/46duncan?lang=eng\n",
            "Successfully fetched https://www.churchofjesuschrist.org/study/general-conference/2023/04/41christofferson?lang=eng\n",
            "Successfully fetched https://www.churchofjesuschrist.org/study/general-conference/2023/04/21oaks?lang=eng\n"
          ]
        },
        {
          "output_type": "stream",
          "name": "stderr",
          "text": [
            "\rScraping talks in parallel:   3%|▎         | 107/4112 [00:11<08:56,  7.46it/s]"
          ]
        },
        {
          "output_type": "stream",
          "name": "stdout",
          "text": [
            "Successfully fetched https://www.churchofjesuschrist.org/study/general-conference/2023/04/23renlund?lang=eng\n",
            "Successfully fetched https://www.churchofjesuschrist.org/study/general-conference/2023/04/25bennett?lang=eng\n"
          ]
        },
        {
          "output_type": "stream",
          "name": "stderr",
          "text": [
            "Scraping talks in parallel:   3%|▎         | 116/4112 [00:12<05:45, 11.56it/s]"
          ]
        },
        {
          "output_type": "stream",
          "name": "stdout",
          "text": [
            "Successfully fetched https://www.churchofjesuschrist.org/study/general-conference/2023/04/42johnson?lang=engSuccessfully fetched https://www.churchofjesuschrist.org/study/general-conference/2023/04/22larson?lang=eng\n",
            "\n",
            "Successfully fetched https://www.churchofjesuschrist.org/study/general-conference/2023/04/16haynie?lang=eng\n",
            "Successfully fetched https://www.churchofjesuschrist.org/study/general-conference/2023/04/28de-hoyos?lang=engSuccessfully fetched https://www.churchofjesuschrist.org/study/general-conference/2023/04/29uchtdorf?lang=eng\n",
            "Successfully fetched https://www.churchofjesuschrist.org/study/general-conference/2023/04/26christensen?lang=eng\n",
            "\n",
            "Successfully fetched https://www.churchofjesuschrist.org/study/general-conference/2023/04/14gong?lang=eng\n",
            "Successfully fetched https://www.churchofjesuschrist.org/study/general-conference/2023/04/saturday-morning-session?lang=eng\n",
            "Successfully fetched https://www.churchofjesuschrist.org/study/general-conference/2023/04/32camargo?lang=eng\n",
            "Successfully fetched https://www.churchofjesuschrist.org/study/general-conference/2023/04/58nelson?lang=eng\n",
            "Successfully fetched https://www.churchofjesuschrist.org/study/general-conference/2023/04/34uceda?lang=eng\n"
          ]
        },
        {
          "output_type": "stream",
          "name": "stderr",
          "text": [
            "Scraping talks in parallel:   3%|▎         | 126/4112 [00:13<07:32,  8.82it/s]"
          ]
        },
        {
          "output_type": "stream",
          "name": "stdout",
          "text": [
            "Successfully fetched https://www.churchofjesuschrist.org/study/general-conference/2023/04/12cordon?lang=eng\n",
            "Successfully fetched https://www.churchofjesuschrist.org/study/general-conference/2023/04/52ballard?lang=eng\n",
            "Successfully fetched https://www.churchofjesuschrist.org/study/general-conference/2023/04/57bednar?lang=eng\n",
            "Successfully fetched https://www.churchofjesuschrist.org/study/general-conference/2023/04/15cook?lang=eng\n",
            "Successfully fetched https://www.churchofjesuschrist.org/study/general-conference/2023/04/11stevenson?lang=eng\n",
            "Successfully fetched https://www.churchofjesuschrist.org/study/general-conference/2023/04/45andersen?lang=eng\n",
            "Successfully fetched https://www.churchofjesuschrist.org/study/general-conference/2023/04/47nelson?lang=eng\n",
            "Successfully fetched https://www.churchofjesuschrist.org/study/general-conference/2023/04/31bragg?lang=eng\n",
            "Successfully fetched https://www.churchofjesuschrist.org/study/general-conference/2023/04/51oaks?lang=eng\n",
            "Successfully fetched https://www.churchofjesuschrist.org/study/general-conference/2023/04/27schmutz?lang=eng\n"
          ]
        },
        {
          "output_type": "stream",
          "name": "stderr",
          "text": [
            "Scraping talks in parallel:   3%|▎         | 135/4112 [00:14<06:54,  9.58it/s]"
          ]
        },
        {
          "output_type": "stream",
          "name": "stdout",
          "text": [
            "Successfully fetched https://www.churchofjesuschrist.org/study/general-conference/2023/04/17eyring?lang=eng\n",
            "Successfully fetched https://www.churchofjesuschrist.org/study/general-conference/2023/04/56corbitt?lang=eng\n"
          ]
        },
        {
          "output_type": "stream",
          "name": "stderr",
          "text": [
            "\rScraping talks in parallel:   3%|▎         | 138/4112 [00:15<06:49,  9.70it/s]"
          ]
        },
        {
          "output_type": "stream",
          "name": "stdout",
          "text": [
            "Successfully fetched https://www.churchofjesuschrist.org/study/general-conference/2022/10/22ballard?lang=eng\n",
            "Successfully fetched https://www.churchofjesuschrist.org/study/general-conference/2022/10/25soares?lang=eng\n",
            "Successfully fetched https://www.churchofjesuschrist.org/study/general-conference/2022/10/33pearson?lang=engSuccessfully fetched https://www.churchofjesuschrist.org/study/general-conference/2022/10/35andersen?lang=eng\n",
            "\n",
            "Successfully fetched https://www.churchofjesuschrist.org/study/general-conference/2023/04/53rasband?lang=eng\n"
          ]
        },
        {
          "output_type": "stream",
          "name": "stderr",
          "text": [
            "\rScraping talks in parallel:   3%|▎         | 140/4112 [00:15<09:03,  7.31it/s]"
          ]
        },
        {
          "output_type": "stream",
          "name": "stdout",
          "text": [
            "Successfully fetched https://www.churchofjesuschrist.org/study/general-conference/2022/10/46bednar?lang=eng\n",
            "Successfully fetched https://www.churchofjesuschrist.org/study/general-conference/2022/10/57cook?lang=eng\n",
            "Successfully fetched https://www.churchofjesuschrist.org/study/general-conference/2022/10/58nelson?lang=eng\n",
            "Successfully fetched https://www.churchofjesuschrist.org/study/general-conference/2022/10/41holland?lang=eng\n"
          ]
        },
        {
          "output_type": "stream",
          "name": "stderr",
          "text": [
            "\rScraping talks in parallel:   3%|▎         | 142/4112 [00:16<13:39,  4.84it/s]"
          ]
        },
        {
          "output_type": "stream",
          "name": "stdout",
          "text": [
            "Successfully fetched https://www.churchofjesuschrist.org/study/general-conference/2022/10/12uchtdorf?lang=eng\n"
          ]
        },
        {
          "output_type": "stream",
          "name": "stderr",
          "text": [
            "\rScraping talks in parallel:   4%|▎         | 146/4112 [00:17<11:18,  5.84it/s]"
          ]
        },
        {
          "output_type": "stream",
          "name": "stdout",
          "text": [
            "Successfully fetched https://www.churchofjesuschrist.org/study/general-conference/2022/10/53schmitt?lang=engSuccessfully fetched https://www.churchofjesuschrist.org/study/general-conference/2022/10/14renlund?lang=eng\n",
            "\n",
            "Successfully fetched https://www.churchofjesuschrist.org/study/general-conference/2022/10/52olsen?lang=eng\n",
            "Successfully fetched https://www.churchofjesuschrist.org/study/general-conference/2022/10/19nelson?lang=eng"
          ]
        },
        {
          "output_type": "stream",
          "name": "stderr",
          "text": [
            "\rScraping talks in parallel:   4%|▎         | 150/4112 [00:17<08:00,  8.25it/s]"
          ]
        },
        {
          "output_type": "stream",
          "name": "stdout",
          "text": [
            "\n",
            "Successfully fetched https://www.churchofjesuschrist.org/study/general-conference/2022/10/45lund?lang=eng\n",
            "Successfully fetched https://www.churchofjesuschrist.org/study/general-conference/2022/10/56morrison?lang=eng\n",
            "Successfully fetched https://www.churchofjesuschrist.org/study/general-conference/2022/10/24johnson?lang=eng\n",
            "Successfully fetched https://www.churchofjesuschrist.org/study/general-conference/2022/10/32craig?lang=eng\n"
          ]
        },
        {
          "output_type": "stream",
          "name": "stderr",
          "text": [
            "\rScraping talks in parallel:   4%|▎         | 152/4112 [00:17<10:33,  6.25it/s]"
          ]
        },
        {
          "output_type": "stream",
          "name": "stdout",
          "text": [
            "Successfully fetched https://www.churchofjesuschrist.org/study/general-conference/2022/10/15pino?lang=eng\n",
            "Successfully fetched https://www.churchofjesuschrist.org/study/general-conference/2022/10/23yee?lang=eng\n",
            "Successfully fetched https://www.churchofjesuschrist.org/study/general-conference/2022/10/17rasband?lang=eng\n",
            "Successfully fetched https://www.churchofjesuschrist.org/study/general-conference/2022/10/47nelson?lang=engSuccessfully fetched https://www.churchofjesuschrist.org/study/general-conference/2022/10/26mcconkie?lang=engSuccessfully fetched https://www.churchofjesuschrist.org/study/general-conference/2022/10/44sitati?lang=eng\n",
            "\n",
            "\n",
            "Successfully fetched https://www.churchofjesuschrist.org/study/general-conference/2022/10/18oaks?lang=eng\n"
          ]
        },
        {
          "output_type": "stream",
          "name": "stderr",
          "text": [
            "Scraping talks in parallel:   4%|▍         | 162/4112 [00:18<06:54,  9.53it/s]"
          ]
        },
        {
          "output_type": "stream",
          "name": "stdout",
          "text": [
            "Successfully fetched https://www.churchofjesuschrist.org/study/general-conference/2022/10/16montoya?lang=eng\n",
            "Successfully fetched https://www.churchofjesuschrist.org/study/general-conference/2022/10/27zeballos?lang=eng\n",
            "Successfully fetched https://www.churchofjesuschrist.org/study/general-conference/2022/10/54eddy?lang=eng\n",
            "Successfully fetched https://www.churchofjesuschrist.org/study/general-conference/2022/10/42dennis?lang=eng\n",
            "Successfully fetched https://www.churchofjesuschrist.org/study/general-conference/2022/10/21eyring?lang=eng\n"
          ]
        },
        {
          "output_type": "stream",
          "name": "stderr",
          "text": [
            "\rScraping talks in parallel:   4%|▍         | 164/4112 [00:18<06:44,  9.76it/s]"
          ]
        },
        {
          "output_type": "stream",
          "name": "stdout",
          "text": [
            "Successfully fetched https://www.churchofjesuschrist.org/study/general-conference/2022/10/51eyring?lang=engSuccessfully fetched https://www.churchofjesuschrist.org/study/general-conference/2022/10/31causse?lang=eng\n",
            "\n",
            "Successfully fetched https://www.churchofjesuschrist.org/study/general-conference/2022/10/55stevenson?lang=eng\n"
          ]
        },
        {
          "output_type": "stream",
          "name": "stderr",
          "text": [
            "\rScraping talks in parallel:   4%|▍         | 166/4112 [00:19<08:56,  7.35it/s]"
          ]
        },
        {
          "output_type": "stream",
          "name": "stdout",
          "text": [
            "Successfully fetched https://www.churchofjesuschrist.org/study/general-conference/2022/10/34silva?lang=eng\n",
            "Successfully fetched https://www.churchofjesuschrist.org/study/general-conference/2022/10/43gong?lang=eng\n",
            "Successfully fetched https://www.churchofjesuschrist.org/study/general-conference/2022/10/saturday-morning-session?lang=eng\n"
          ]
        },
        {
          "output_type": "stream",
          "name": "stderr",
          "text": [
            "\rScraping talks in parallel:   4%|▍         | 174/4112 [00:19<04:48, 13.66it/s]"
          ]
        },
        {
          "output_type": "stream",
          "name": "stdout",
          "text": [
            "Successfully fetched https://www.churchofjesuschrist.org/study/general-conference/2022/10/13browning?lang=eng\n",
            "Successfully fetched https://www.churchofjesuschrist.org/study/general-conference/2022/04/25aidukaitis?lang=eng\n",
            "Successfully fetched https://www.churchofjesuschrist.org/study/general-conference/2022/04/16gavarret?lang=eng\n",
            "Successfully fetched https://www.churchofjesuschrist.org/study/general-conference/2022/04/29cook?lang=eng\n",
            "Successfully fetched https://www.churchofjesuschrist.org/study/general-conference/2022/10/28christofferson?lang=eng\n",
            "Successfully fetched https://www.churchofjesuschrist.org/study/general-conference/2022/04/51oaks?lang=eng\n",
            "Successfully fetched https://www.churchofjesuschrist.org/study/general-conference/2022/04/23holland?lang=eng\n",
            "Successfully fetched https://www.churchofjesuschrist.org/study/general-conference/2022/04/26gong?lang=eng\n",
            "Successfully fetched https://www.churchofjesuschrist.org/study/general-conference/2022/04/31oaks?lang=eng\n"
          ]
        },
        {
          "output_type": "stream",
          "name": "stderr",
          "text": [
            "Scraping talks in parallel:   4%|▍         | 184/4112 [00:19<04:10, 15.65it/s]"
          ]
        },
        {
          "output_type": "stream",
          "name": "stdout",
          "text": [
            "Successfully fetched https://www.churchofjesuschrist.org/study/general-conference/2022/04/52ojediran?lang=engSuccessfully fetched https://www.churchofjesuschrist.org/study/general-conference/2022/04/32porter?lang=eng\n",
            "\n",
            "Successfully fetched https://www.churchofjesuschrist.org/study/general-conference/2022/04/11nelson?lang=eng\n",
            "Successfully fetched https://www.churchofjesuschrist.org/study/general-conference/2022/04/47nelson?lang=eng\n"
          ]
        },
        {
          "output_type": "stream",
          "name": "stderr",
          "text": [
            "\rScraping talks in parallel:   5%|▍         | 187/4112 [00:20<03:58, 16.42it/s]"
          ]
        },
        {
          "output_type": "stream",
          "name": "stdout",
          "text": [
            "Successfully fetched https://www.churchofjesuschrist.org/study/general-conference/2022/04/13aburto?lang=eng\n",
            "Successfully fetched https://www.churchofjesuschrist.org/study/general-conference/2022/04/41christofferson?lang=eng\n",
            "Successfully fetched https://www.churchofjesuschrist.org/study/general-conference/2022/04/12ballard?lang=eng\n",
            "Successfully fetched https://www.churchofjesuschrist.org/study/general-conference/2022/04/44ringwood?lang=eng\n",
            "Successfully fetched https://www.churchofjesuschrist.org/study/general-conference/2022/04/46martinez?lang=eng\n",
            "Successfully fetched https://www.churchofjesuschrist.org/study/general-conference/2022/04/14bednar?lang=eng\n",
            "Successfully fetched https://www.churchofjesuschrist.org/study/general-conference/2022/04/22larson?lang=eng\n",
            "Successfully fetched https://www.churchofjesuschrist.org/study/general-conference/2022/04/56funk?lang=eng\n",
            "Successfully fetched https://www.churchofjesuschrist.org/study/general-conference/2022/04/35bingham?lang=eng\n",
            "Successfully fetched https://www.churchofjesuschrist.org/study/general-conference/2022/04/42wright?lang=eng\n"
          ]
        },
        {
          "output_type": "stream",
          "name": "stderr",
          "text": [
            "\rScraping talks in parallel:   5%|▍         | 190/4112 [00:21<08:37,  7.57it/s]"
          ]
        },
        {
          "output_type": "stream",
          "name": "stdout",
          "text": [
            "Successfully fetched https://www.churchofjesuschrist.org/study/general-conference/2022/04/54pace?lang=eng\n",
            "Successfully fetched https://www.churchofjesuschrist.org/study/general-conference/2022/04/58nelson?lang=engSuccessfully fetched https://www.churchofjesuschrist.org/study/general-conference/2022/04/55soares?lang=eng\n",
            "\n",
            "Successfully fetched https://www.churchofjesuschrist.org/study/general-conference/2022/04/17kacher?lang=eng\n"
          ]
        },
        {
          "output_type": "stream",
          "name": "stderr",
          "text": [
            "\rScraping talks in parallel:   5%|▍         | 200/4112 [00:21<04:28, 14.56it/s]"
          ]
        },
        {
          "output_type": "stream",
          "name": "stdout",
          "text": [
            "Successfully fetched https://www.churchofjesuschrist.org/study/general-conference/2022/04/saturday-morning-session?lang=eng\n",
            "Successfully fetched https://www.churchofjesuschrist.org/study/general-conference/2022/04/33craven?lang=eng\n",
            "Successfully fetched https://www.churchofjesuschrist.org/study/general-conference/2022/04/28hamilton?lang=eng\n",
            "Successfully fetched https://www.churchofjesuschrist.org/study/general-conference/2022/04/43stevenson?lang=eng\n",
            "Successfully fetched https://www.churchofjesuschrist.org/study/general-conference/2022/04/34video?lang=eng\n"
          ]
        },
        {
          "output_type": "stream",
          "name": "stderr",
          "text": [
            "Scraping talks in parallel:   5%|▌         | 209/4112 [00:21<04:15, 15.28it/s]"
          ]
        },
        {
          "output_type": "stream",
          "name": "stdout",
          "text": [
            "Successfully fetched https://www.churchofjesuschrist.org/study/general-conference/2022/04/27ochoa?lang=eng\n",
            "Successfully fetched https://www.churchofjesuschrist.org/study/general-conference/2022/04/18eyring?lang=eng\n",
            "Successfully fetched https://www.churchofjesuschrist.org/study/general-conference/2022/04/53klebingat?lang=eng\n",
            "Successfully fetched https://www.churchofjesuschrist.org/study/general-conference/2022/04/45rasband?lang=eng\n",
            "Successfully fetched https://www.churchofjesuschrist.org/study/general-conference/2022/04/57uchtdorf?lang=eng\n"
          ]
        },
        {
          "output_type": "stream",
          "name": "stderr",
          "text": [
            "\rScraping talks in parallel:   5%|▌         | 212/4112 [00:22<05:26, 11.95it/s]"
          ]
        },
        {
          "output_type": "stream",
          "name": "stdout",
          "text": [
            "Successfully fetched https://www.churchofjesuschrist.org/study/general-conference/2022/04/21oaks?lang=eng\n",
            "Successfully fetched https://www.churchofjesuschrist.org/study/general-conference/2022/04/24kearon?lang=eng\n",
            "Successfully fetched https://www.churchofjesuschrist.org/study/general-conference/2022/04/36renlund?lang=eng\n",
            "Successfully fetched https://www.churchofjesuschrist.org/study/general-conference/2022/04/15andersen?lang=eng\n",
            "Successfully fetched https://www.churchofjesuschrist.org/study/general-conference/2021/10/59nelson?lang=eng\n",
            "Successfully fetched https://www.churchofjesuschrist.org/study/general-conference/2021/10/25kopischke?lang=eng\n"
          ]
        },
        {
          "output_type": "stream",
          "name": "stderr",
          "text": [
            "\rScraping talks in parallel:   5%|▌         | 215/4112 [00:22<05:58, 10.87it/s]"
          ]
        },
        {
          "output_type": "stream",
          "name": "stdout",
          "text": [
            "Successfully fetched https://www.churchofjesuschrist.org/study/general-conference/2021/10/15christofferson?lang=eng\n",
            "Successfully fetched https://www.churchofjesuschrist.org/study/general-conference/2021/10/18oaks?lang=eng\n",
            "Successfully fetched https://www.churchofjesuschrist.org/study/general-conference/2021/10/14soares?lang=eng\n",
            "Successfully fetched https://www.churchofjesuschrist.org/study/general-conference/2021/10/54dunn?lang=eng\n"
          ]
        },
        {
          "output_type": "stream",
          "name": "stderr",
          "text": [
            "Scraping talks in parallel:   5%|▌         | 219/4112 [00:23<05:42, 11.37it/s]"
          ]
        },
        {
          "output_type": "stream",
          "name": "stdout",
          "text": [
            "Successfully fetched https://www.churchofjesuschrist.org/study/general-conference/2021/10/11nelson?lang=eng\n",
            "Successfully fetched https://www.churchofjesuschrist.org/study/general-conference/2021/10/27golden?lang=eng\n"
          ]
        },
        {
          "output_type": "stream",
          "name": "stderr",
          "text": [
            "\rScraping talks in parallel:   5%|▌         | 221/4112 [00:23<05:31, 11.73it/s]"
          ]
        },
        {
          "output_type": "stream",
          "name": "stdout",
          "text": [
            "Successfully fetched https://www.churchofjesuschrist.org/study/general-conference/2021/10/32eubank?lang=eng\n",
            "Successfully fetched https://www.churchofjesuschrist.org/study/general-conference/2021/10/29stevenson?lang=eng\n",
            "Successfully fetched https://www.churchofjesuschrist.org/study/general-conference/2021/10/44sikahema?lang=eng\n",
            "Successfully fetched https://www.churchofjesuschrist.org/study/general-conference/2021/10/52budge?lang=eng\n",
            "Successfully fetched https://www.churchofjesuschrist.org/study/general-conference/2021/10/55douglas?lang=eng\n",
            "Successfully fetched https://www.churchofjesuschrist.org/study/general-conference/2021/10/33nielson?lang=eng\n"
          ]
        },
        {
          "output_type": "stream",
          "name": "stderr",
          "text": [
            "\rScraping talks in parallel:   5%|▌         | 226/4112 [00:23<06:39,  9.72it/s]"
          ]
        },
        {
          "output_type": "stream",
          "name": "stdout",
          "text": [
            "Successfully fetched https://www.churchofjesuschrist.org/study/general-conference/2021/10/17giuffra?lang=eng\n",
            "Successfully fetched https://www.churchofjesuschrist.org/study/general-conference/2021/10/31ballard?lang=eng\n",
            "Successfully fetched https://www.churchofjesuschrist.org/study/general-conference/2021/10/23schmeil?lang=eng\n",
            "Successfully fetched https://www.churchofjesuschrist.org/study/general-conference/2021/10/47nelson?lang=eng\n",
            "Successfully fetched https://www.churchofjesuschrist.org/study/general-conference/2021/10/22bednar?lang=eng\n",
            "Successfully fetched https://www.churchofjesuschrist.org/study/general-conference/2021/10/34valenzuela?lang=eng\n",
            "Successfully fetched https://www.churchofjesuschrist.org/study/general-conference/2021/10/42johnson?lang=eng\n",
            "Successfully fetched https://www.churchofjesuschrist.org/study/general-conference/2021/10/56revillo?lang=eng\n",
            "Successfully fetched https://www.churchofjesuschrist.org/study/general-conference/2021/10/46cook?lang=eng\n",
            "Successfully fetched https://www.churchofjesuschrist.org/study/general-conference/2021/10/21eyring?lang=eng\n",
            "Successfully fetched https://www.churchofjesuschrist.org/study/general-conference/2021/10/12holland?lang=eng\n"
          ]
        },
        {
          "output_type": "stream",
          "name": "stderr",
          "text": [
            "Scraping talks in parallel:   6%|▌         | 229/4112 [00:24<10:29,  6.17it/s]"
          ]
        },
        {
          "output_type": "stream",
          "name": "stdout",
          "text": [
            "Successfully fetched https://www.churchofjesuschrist.org/study/general-conference/2021/10/37nash?lang=eng\n",
            "Successfully fetched https://www.churchofjesuschrist.org/study/general-conference/2021/10/28villanueva?lang=eng\n",
            "Successfully fetched https://www.churchofjesuschrist.org/study/general-conference/2021/10/53perkins?lang=eng\n",
            "Successfully fetched https://www.churchofjesuschrist.org/study/general-conference/2021/10/13cordon?lang=eng\n"
          ]
        },
        {
          "output_type": "stream",
          "name": "stderr",
          "text": [
            "\rScraping talks in parallel:   6%|▌         | 242/4112 [00:25<03:48, 16.92it/s]"
          ]
        },
        {
          "output_type": "stream",
          "name": "stdout",
          "text": [
            "Successfully fetched https://www.churchofjesuschrist.org/study/general-conference/2021/10/51gong?lang=eng\n",
            "Successfully fetched https://www.churchofjesuschrist.org/study/general-conference/2021/10/35wilcox?lang=engSuccessfully fetched https://www.churchofjesuschrist.org/study/general-conference/2021/10/26rasband?lang=eng\n",
            "\n",
            "Successfully fetched https://www.churchofjesuschrist.org/study/general-conference/2021/10/24porter?lang=eng\n",
            "Successfully fetched https://www.churchofjesuschrist.org/study/general-conference/2021/10/41uchtdorf?lang=eng\n"
          ]
        },
        {
          "output_type": "stream",
          "name": "stderr",
          "text": [
            "Scraping talks in parallel:   6%|▌         | 252/4112 [00:25<03:46, 17.01it/s]"
          ]
        },
        {
          "output_type": "stream",
          "name": "stdout",
          "text": [
            "Successfully fetched https://www.churchofjesuschrist.org/study/general-conference/2021/10/16gilbert?lang=eng\n",
            "Successfully fetched https://www.churchofjesuschrist.org/study/general-conference/2021/10/36kyungu?lang=eng\n",
            "Successfully fetched https://www.churchofjesuschrist.org/study/general-conference/2021/10/saturday-morning-session?lang=eng\n",
            "Successfully fetched https://www.churchofjesuschrist.org/study/general-conference/2021/04/28ballard?lang=eng\n",
            "Successfully fetched https://www.churchofjesuschrist.org/study/general-conference/2021/04/54christofferson?lang=eng\n",
            "Successfully fetched https://www.churchofjesuschrist.org/study/general-conference/2021/04/26andersen?lang=eng\n",
            "Successfully fetched https://www.churchofjesuschrist.org/study/general-conference/2021/10/57meredith?lang=eng\n",
            "Successfully fetched https://www.churchofjesuschrist.org/study/general-conference/2021/10/43renlund?lang=eng\n"
          ]
        },
        {
          "output_type": "stream",
          "name": "stderr",
          "text": [
            "\rScraping talks in parallel:   6%|▌         | 255/4112 [00:26<05:29, 11.69it/s]"
          ]
        },
        {
          "output_type": "stream",
          "name": "stdout",
          "text": [
            "Successfully fetched https://www.churchofjesuschrist.org/study/general-conference/2021/10/38eyring?lang=engSuccessfully fetched https://www.churchofjesuschrist.org/study/general-conference/2021/04/46wakolo?lang=eng\n",
            "\n",
            "Successfully fetched https://www.churchofjesuschrist.org/study/general-conference/2021/10/58andersen?lang=eng\n",
            "Successfully fetched https://www.churchofjesuschrist.org/study/general-conference/2021/04/14newman?lang=eng\n",
            "Successfully fetched https://www.churchofjesuschrist.org/study/general-conference/2021/04/57nelson?lang=eng\n"
          ]
        },
        {
          "output_type": "stream",
          "name": "stderr",
          "text": [
            "\rScraping talks in parallel:   6%|▋         | 257/4112 [00:26<06:54,  9.30it/s]"
          ]
        },
        {
          "output_type": "stream",
          "name": "stdout",
          "text": [
            "Successfully fetched https://www.churchofjesuschrist.org/study/general-conference/2021/04/15stevenson?lang=eng\n",
            "Successfully fetched https://www.churchofjesuschrist.org/study/general-conference/2021/04/23holland?lang=eng\n"
          ]
        },
        {
          "output_type": "stream",
          "name": "stderr",
          "text": [
            "\rScraping talks in parallel:   6%|▋         | 259/4112 [00:26<07:07,  9.02it/s]"
          ]
        },
        {
          "output_type": "stream",
          "name": "stdout",
          "text": [
            "Successfully fetched https://www.churchofjesuschrist.org/study/general-conference/2021/04/41soares?lang=eng\n",
            "Successfully fetched https://www.churchofjesuschrist.org/study/general-conference/2021/04/12uchtdorf?lang=eng\n",
            "Successfully fetched https://www.churchofjesuschrist.org/study/general-conference/2021/04/51oaks?lang=eng\n",
            "Successfully fetched https://www.churchofjesuschrist.org/study/general-conference/2021/04/47wong?lang=eng\n",
            "Successfully fetched https://www.churchofjesuschrist.org/study/general-conference/2021/04/24becerra?lang=eng\n",
            "Successfully fetched https://www.churchofjesuschrist.org/study/general-conference/2021/04/16gong?lang=eng\n",
            "Successfully fetched https://www.churchofjesuschrist.org/study/general-conference/2021/04/25renlund?lang=eng\n",
            "Successfully fetched https://www.churchofjesuschrist.org/study/general-conference/2021/04/52rasband?lang=eng\n",
            "Successfully fetched https://www.churchofjesuschrist.org/study/general-conference/2021/04/35oaks?lang=eng\n",
            "Successfully fetched https://www.churchofjesuschrist.org/study/general-conference/2021/04/17eyring?lang=eng\n",
            "Successfully fetched https://www.churchofjesuschrist.org/study/general-conference/2021/04/45teixeira?lang=eng\n"
          ]
        },
        {
          "output_type": "stream",
          "name": "stderr",
          "text": [
            "Scraping talks in parallel:   7%|▋         | 268/4112 [00:28<09:03,  7.08it/s]"
          ]
        },
        {
          "output_type": "stream",
          "name": "stdout",
          "text": [
            "Successfully fetched https://www.churchofjesuschrist.org/study/general-conference/2021/04/21oaks?lang=eng\n",
            "Successfully fetched https://www.churchofjesuschrist.org/study/general-conference/2021/04/49nelson?lang=eng\n",
            "Successfully fetched https://www.churchofjesuschrist.org/study/general-conference/2021/04/11nelson?lang=eng\n",
            "Successfully fetched https://www.churchofjesuschrist.org/study/general-conference/2021/04/34eyring?lang=eng\n",
            "Successfully fetched https://www.churchofjesuschrist.org/study/general-conference/2021/04/42aburto?lang=eng\n",
            "Successfully fetched https://www.churchofjesuschrist.org/study/general-conference/2021/04/33nielsen?lang=eng\n",
            "Successfully fetched https://www.churchofjesuschrist.org/study/general-conference/2021/04/48teh?lang=eng\n",
            "Successfully fetched https://www.churchofjesuschrist.org/study/general-conference/2021/04/36nelson?lang=eng\n",
            "Successfully fetched https://www.churchofjesuschrist.org/study/general-conference/2021/04/44dube?lang=eng\n",
            "Successfully fetched https://www.churchofjesuschrist.org/study/general-conference/2021/04/55walker?lang=eng\n",
            "Successfully fetched https://www.churchofjesuschrist.org/study/general-conference/2021/04/saturday-morning-session?lang=eng\n",
            "Successfully fetched https://www.churchofjesuschrist.org/study/general-conference/2021/04/53dyches?lang=eng\n",
            "Successfully fetched https://www.churchofjesuschrist.org/study/general-conference/2021/04/27mutombo?lang=eng\n",
            "Successfully fetched https://www.churchofjesuschrist.org/study/general-conference/2021/04/31cook?lang=eng\n",
            "Successfully fetched https://www.churchofjesuschrist.org/study/general-conference/2021/04/56bednar?lang=eng\n",
            "Successfully fetched https://www.churchofjesuschrist.org/study/general-conference/2021/04/43palmer?lang=eng\n"
          ]
        },
        {
          "output_type": "stream",
          "name": "stderr",
          "text": [
            "\rScraping talks in parallel:   7%|▋         | 274/4112 [00:30<13:11,  4.85it/s]"
          ]
        },
        {
          "output_type": "stream",
          "name": "stdout",
          "text": [
            "Successfully fetched https://www.churchofjesuschrist.org/study/general-conference/2021/04/32corbitt?lang=eng\n",
            "Successfully fetched https://www.churchofjesuschrist.org/study/general-conference/2020/10/16rasband?lang=eng\n"
          ]
        },
        {
          "output_type": "stream",
          "name": "stderr",
          "text": [
            "Scraping talks in parallel:   7%|▋         | 294/4112 [00:30<04:57, 12.84it/s]"
          ]
        },
        {
          "output_type": "stream",
          "name": "stdout",
          "text": [
            "Successfully fetched https://www.churchofjesuschrist.org/study/general-conference/2021/04/13jones?lang=eng\n",
            "Successfully fetched https://www.churchofjesuschrist.org/study/general-conference/2020/10/45andersen?lang=eng\n",
            "Successfully fetched https://www.churchofjesuschrist.org/study/general-conference/2020/10/46nelson?lang=eng\n",
            "Successfully fetched https://www.churchofjesuschrist.org/study/general-conference/2020/10/12bednar?lang=eng\n",
            "Successfully fetched https://www.churchofjesuschrist.org/study/general-conference/2020/10/31eubank?lang=eng\n",
            "Successfully fetched https://www.churchofjesuschrist.org/study/general-conference/2020/10/44godoy?lang=engSuccessfully fetched https://www.churchofjesuschrist.org/study/general-conference/2020/10/56johnson?lang=eng\n",
            "\n",
            "Successfully fetched https://www.churchofjesuschrist.org/study/general-conference/2021/04/22larson?lang=eng\n",
            "Successfully fetched https://www.churchofjesuschrist.org/study/general-conference/2020/10/11nelson?lang=eng\n",
            "Successfully fetched https://www.churchofjesuschrist.org/study/general-conference/2020/10/32craven?lang=eng\n"
          ]
        },
        {
          "output_type": "stream",
          "name": "stderr",
          "text": [
            "Scraping talks in parallel:   7%|▋         | 301/4112 [00:31<05:26, 11.67it/s]"
          ]
        },
        {
          "output_type": "stream",
          "name": "stdout",
          "text": [
            "Successfully fetched https://www.churchofjesuschrist.org/study/general-conference/2020/10/53stevenson?lang=eng\n",
            "Successfully fetched https://www.churchofjesuschrist.org/study/general-conference/2020/10/25waddell?lang=eng\n",
            "Successfully fetched https://www.churchofjesuschrist.org/study/general-conference/2020/10/37nelson?lang=eng\n",
            "Successfully fetched https://www.churchofjesuschrist.org/study/general-conference/2020/10/58nelson?lang=eng\n",
            "Successfully fetched https://www.churchofjesuschrist.org/study/general-conference/2020/10/13whiting?lang=eng\n",
            "Successfully fetched https://www.churchofjesuschrist.org/study/general-conference/2020/10/35eyring?lang=eng\n",
            "Successfully fetched https://www.churchofjesuschrist.org/study/general-conference/2020/10/14craig?lang=eng\n"
          ]
        },
        {
          "output_type": "stream",
          "name": "stderr",
          "text": [
            "Scraping talks in parallel:   8%|▊         | 310/4112 [00:32<04:30, 14.08it/s]"
          ]
        },
        {
          "output_type": "stream",
          "name": "stdout",
          "text": [
            "Successfully fetched https://www.churchofjesuschrist.org/study/general-conference/2020/10/saturday-morning-session?lang=eng\n",
            "Successfully fetched https://www.churchofjesuschrist.org/study/general-conference/2020/10/33video?lang=eng\n",
            "Successfully fetched https://www.churchofjesuschrist.org/study/general-conference/2020/10/27jackson?lang=eng\n",
            "Successfully fetched https://www.churchofjesuschrist.org/study/general-conference/2020/10/55renlund?lang=eng\n"
          ]
        },
        {
          "output_type": "stream",
          "name": "stderr",
          "text": [
            "\rScraping talks in parallel:   8%|▊         | 314/4112 [00:32<05:18, 11.92it/s]"
          ]
        },
        {
          "output_type": "stream",
          "name": "stdout",
          "text": [
            "Successfully fetched https://www.churchofjesuschrist.org/study/general-conference/2020/10/52jaggi?lang=engSuccessfully fetched https://www.churchofjesuschrist.org/study/general-conference/2020/10/22christofferson?lang=eng\n",
            "Successfully fetched https://www.churchofjesuschrist.org/study/general-conference/2020/10/57holland?lang=eng\n",
            "\n",
            "Successfully fetched https://www.churchofjesuschrist.org/study/general-conference/2020/10/21eyring?lang=eng\n",
            "Successfully fetched https://www.churchofjesuschrist.org/study/general-conference/2020/10/41ballard?lang=eng\n"
          ]
        },
        {
          "output_type": "stream",
          "name": "stderr",
          "text": [
            "Scraping talks in parallel:   8%|▊         | 318/4112 [00:32<05:29, 11.51it/s]"
          ]
        },
        {
          "output_type": "stream",
          "name": "stdout",
          "text": [
            "Successfully fetched https://www.churchofjesuschrist.org/study/general-conference/2020/10/15cook?lang=eng\n",
            "Successfully fetched https://www.churchofjesuschrist.org/study/general-conference/2020/10/26holland?lang=eng\n",
            "Successfully fetched https://www.churchofjesuschrist.org/study/general-conference/2020/10/34franco?lang=eng\n"
          ]
        },
        {
          "output_type": "stream",
          "name": "stderr",
          "text": [
            "\rScraping talks in parallel:   8%|▊         | 321/4112 [00:33<04:45, 13.30it/s]"
          ]
        },
        {
          "output_type": "stream",
          "name": "stdout",
          "text": [
            "Successfully fetched https://www.churchofjesuschrist.org/study/general-conference/2020/10/36oaks?lang=eng\n",
            "Successfully fetched https://www.churchofjesuschrist.org/study/general-conference/2020/10/23lund?lang=eng\n",
            "Successfully fetched https://www.churchofjesuschrist.org/study/general-conference/2020/10/24gong?lang=eng\n",
            "Successfully fetched https://www.churchofjesuschrist.org/study/general-conference/2020/10/51eyring?lang=eng\n",
            "Successfully fetched https://www.churchofjesuschrist.org/study/general-conference/2020/10/28uchtdorf?lang=eng\n",
            "Successfully fetched https://www.churchofjesuschrist.org/study/general-conference/2020/10/42harkness?lang=eng\n",
            "Successfully fetched https://www.churchofjesuschrist.org/study/general-conference/2020/10/43soares?lang=eng\n"
          ]
        },
        {
          "output_type": "stream",
          "name": "stderr",
          "text": [
            "\rScraping talks in parallel:   8%|▊         | 324/4112 [00:33<05:13, 12.08it/s]"
          ]
        },
        {
          "output_type": "stream",
          "name": "stdout",
          "text": [
            "Successfully fetched https://www.churchofjesuschrist.org/study/general-conference/2020/10/17oaks?lang=eng\n",
            "Successfully fetched https://www.churchofjesuschrist.org/study/general-conference/2020/10/54camargo?lang=eng\n"
          ]
        },
        {
          "output_type": "stream",
          "name": "stderr",
          "text": [
            "\rScraping talks in parallel:   8%|▊         | 327/4112 [00:33<05:58, 10.56it/s]"
          ]
        },
        {
          "output_type": "stream",
          "name": "stdout",
          "text": [
            "Successfully fetched https://www.churchofjesuschrist.org/study/general-conference/2020/04/41rasband?lang=eng\n",
            "Successfully fetched https://www.churchofjesuschrist.org/study/general-conference/2020/04/27tai?lang=eng\n",
            "Successfully fetched https://www.churchofjesuschrist.org/study/general-conference/2020/04/46nelson?lang=eng\n"
          ]
        },
        {
          "output_type": "stream",
          "name": "stderr",
          "text": [
            "Scraping talks in parallel:   8%|▊         | 337/4112 [00:34<03:58, 15.80it/s]"
          ]
        },
        {
          "output_type": "stream",
          "name": "stdout",
          "text": [
            "Successfully fetched https://www.churchofjesuschrist.org/study/general-conference/2020/04/44bednar?lang=eng\n",
            "Successfully fetched https://www.churchofjesuschrist.org/study/general-conference/2020/04/51oaks?lang=eng\n",
            "Successfully fetched https://www.churchofjesuschrist.org/study/general-conference/2020/04/13rasband?lang=eng\n",
            "Successfully fetched https://www.churchofjesuschrist.org/study/general-conference/2020/04/54uchtdorf?lang=eng\n",
            "Successfully fetched https://www.churchofjesuschrist.org/study/general-conference/2020/04/16holmes?lang=eng\n",
            "Successfully fetched https://www.churchofjesuschrist.org/study/general-conference/2020/04/56christofferson?lang=eng\n",
            "Successfully fetched https://www.churchofjesuschrist.org/study/general-conference/2020/04/22jergensen?lang=eng\n",
            "Successfully fetched https://www.churchofjesuschrist.org/study/general-conference/2020/04/33petelo?lang=eng\n"
          ]
        },
        {
          "output_type": "stream",
          "name": "stderr",
          "text": [
            "\rScraping talks in parallel:   8%|▊         | 339/4112 [00:34<07:00,  8.98it/s]"
          ]
        },
        {
          "output_type": "stream",
          "name": "stdout",
          "text": [
            "Successfully fetched https://www.churchofjesuschrist.org/study/general-conference/2020/04/12ballard?lang=eng\n",
            "Successfully fetched https://www.churchofjesuschrist.org/study/general-conference/2020/04/26renlund?lang=eng\n"
          ]
        },
        {
          "output_type": "stream",
          "name": "stderr",
          "text": [
            "\rScraping talks in parallel:   8%|▊         | 343/4112 [00:35<05:32, 11.33it/s]"
          ]
        },
        {
          "output_type": "stream",
          "name": "stdout",
          "text": [
            "Successfully fetched https://www.churchofjesuschrist.org/study/general-conference/2020/04/saturday-morning-session?lang=eng\n",
            "Successfully fetched https://www.churchofjesuschrist.org/study/general-conference/2020/04/52cook?lang=eng\n",
            "Successfully fetched https://www.churchofjesuschrist.org/study/general-conference/2020/04/35eyring?lang=eng\n",
            "Successfully fetched https://www.churchofjesuschrist.org/study/general-conference/2020/04/23soares?lang=eng\n"
          ]
        },
        {
          "output_type": "stream",
          "name": "stderr",
          "text": [
            "\rScraping talks in parallel:   8%|▊         | 347/4112 [00:35<05:01, 12.50it/s]"
          ]
        },
        {
          "output_type": "stream",
          "name": "stdout",
          "text": [
            "Successfully fetched https://www.churchofjesuschrist.org/study/general-conference/2020/04/15andersen?lang=eng\n",
            "Successfully fetched https://www.churchofjesuschrist.org/study/general-conference/2020/04/57nelson?lang=eng\n"
          ]
        },
        {
          "output_type": "stream",
          "name": "stderr",
          "text": [
            "\rScraping talks in parallel:   8%|▊         | 349/4112 [00:35<04:51, 12.90it/s]"
          ]
        },
        {
          "output_type": "stream",
          "name": "stdout",
          "text": [
            "Successfully fetched https://www.churchofjesuschrist.org/study/general-conference/2020/04/55clayton?lang=eng\n",
            "Successfully fetched https://www.churchofjesuschrist.org/study/general-conference/2020/04/17eyring?lang=eng\n",
            "Successfully fetched https://www.churchofjesuschrist.org/study/general-conference/2020/04/31gong?lang=eng\n",
            "Successfully fetched https://www.churchofjesuschrist.org/study/general-conference/2020/04/45nelson?lang=eng\n",
            "Successfully fetched https://www.churchofjesuschrist.org/study/general-conference/2020/04/24mccune?lang=eng\n",
            "Successfully fetched https://www.churchofjesuschrist.org/study/general-conference/2020/04/53gimenez?lang=eng\n"
          ]
        },
        {
          "output_type": "stream",
          "name": "stderr",
          "text": [
            "Scraping talks in parallel:   9%|▊         | 353/4112 [00:35<05:47, 10.83it/s]"
          ]
        },
        {
          "output_type": "stream",
          "name": "stdout",
          "text": [
            "Successfully fetched https://www.churchofjesuschrist.org/study/general-conference/2020/04/32alvarez?lang=eng\n",
            "Successfully fetched https://www.churchofjesuschrist.org/study/general-conference/2020/04/28stevenson?lang=eng\n",
            "Successfully fetched https://www.churchofjesuschrist.org/study/general-conference/2020/04/14jones?lang=eng\n"
          ]
        },
        {
          "output_type": "stream",
          "name": "stderr",
          "text": [
            "\rScraping talks in parallel:   9%|▉         | 360/4112 [00:36<04:47, 13.05it/s]"
          ]
        },
        {
          "output_type": "stream",
          "name": "stdout",
          "text": [
            "Successfully fetched https://www.churchofjesuschrist.org/study/general-conference/2020/04/34bingham?lang=eng\n",
            "Successfully fetched https://www.churchofjesuschrist.org/study/general-conference/2020/04/11nelson?lang=eng\n",
            "Successfully fetched https://www.churchofjesuschrist.org/study/general-conference/2020/04/43holland?lang=eng\n"
          ]
        },
        {
          "output_type": "stream",
          "name": "stderr",
          "text": [
            "\rScraping talks in parallel:   9%|▉         | 362/4112 [00:36<04:43, 13.21it/s]"
          ]
        },
        {
          "output_type": "stream",
          "name": "stdout",
          "text": [
            "Successfully fetched https://www.churchofjesuschrist.org/study/general-conference/2020/04/37nelson?lang=eng\n",
            "Successfully fetched https://www.churchofjesuschrist.org/study/general-conference/2020/04/25causse?lang=eng\n",
            "Successfully fetched https://www.churchofjesuschrist.org/study/general-conference/2020/04/21oaks?lang=eng\n"
          ]
        },
        {
          "output_type": "stream",
          "name": "stderr",
          "text": [
            "\rScraping talks in parallel:   9%|▉         | 364/4112 [00:36<04:48, 12.98it/s]"
          ]
        },
        {
          "output_type": "stream",
          "name": "stdout",
          "text": [
            "Successfully fetched https://www.churchofjesuschrist.org/study/general-conference/2020/04/36oaks?lang=eng\n",
            "Successfully fetched https://www.churchofjesuschrist.org/study/general-conference/2020/04/42cordon?lang=eng\n",
            "Successfully fetched https://www.churchofjesuschrist.org/study/general-conference/2019/10/42franco?lang=eng\n"
          ]
        },
        {
          "output_type": "stream",
          "name": "stderr",
          "text": [
            "Scraping talks in parallel:   9%|▉         | 370/4112 [00:37<04:35, 13.57it/s]"
          ]
        },
        {
          "output_type": "stream",
          "name": "stdout",
          "text": [
            "Successfully fetched https://www.churchofjesuschrist.org/study/general-conference/2019/10/41gong?lang=eng\n",
            "Successfully fetched https://www.churchofjesuschrist.org/study/general-conference/2019/10/23alliaud?lang=eng\n",
            "Successfully fetched https://www.churchofjesuschrist.org/study/general-conference/2019/10/28alvarado?lang=eng\n",
            "Successfully fetched https://www.churchofjesuschrist.org/study/general-conference/2019/10/15craig?lang=eng\n"
          ]
        },
        {
          "output_type": "stream",
          "name": "stderr",
          "text": [
            "\rScraping talks in parallel:   9%|▉         | 373/4112 [00:37<04:22, 14.23it/s]"
          ]
        },
        {
          "output_type": "stream",
          "name": "stdout",
          "text": [
            "Successfully fetched https://www.churchofjesuschrist.org/study/general-conference/2019/10/16renlund?lang=eng\n",
            "Successfully fetched https://www.churchofjesuschrist.org/study/general-conference/2019/10/45stevenson?lang=eng\n",
            "Successfully fetched https://www.churchofjesuschrist.org/study/general-conference/2019/10/54johnson?lang=eng\n",
            "Successfully fetched https://www.churchofjesuschrist.org/study/general-conference/2019/10/11holland?lang=eng\n",
            "Successfully fetched https://www.churchofjesuschrist.org/study/general-conference/2019/10/43uchtdorf?lang=eng\n",
            "Successfully fetched https://www.churchofjesuschrist.org/study/general-conference/2019/10/31aburto?lang=eng\n",
            "Successfully fetched https://www.churchofjesuschrist.org/study/general-conference/2019/10/17oaks?lang=eng\n"
          ]
        },
        {
          "output_type": "stream",
          "name": "stderr",
          "text": [
            "\rScraping talks in parallel:   9%|▉         | 375/4112 [00:37<06:59,  8.91it/s]"
          ]
        },
        {
          "output_type": "stream",
          "name": "stdout",
          "text": [
            "Successfully fetched https://www.churchofjesuschrist.org/study/general-conference/2019/10/21eyring?lang=eng\n",
            "Successfully fetched https://www.churchofjesuschrist.org/study/general-conference/2019/10/46nelson?lang=eng\n",
            "Successfully fetched https://www.churchofjesuschrist.org/study/general-conference/2019/10/25cook?lang=eng\n",
            "Successfully fetched https://www.churchofjesuschrist.org/study/general-conference/2019/10/29rasband?lang=eng\n",
            "Successfully fetched https://www.churchofjesuschrist.org/study/general-conference/2019/10/51eyring?lang=eng\n"
          ]
        },
        {
          "output_type": "stream",
          "name": "stderr",
          "text": [
            "\rScraping talks in parallel:   9%|▉         | 383/4112 [00:38<04:26, 13.97it/s]"
          ]
        },
        {
          "output_type": "stream",
          "name": "stdout",
          "text": [
            "Successfully fetched https://www.churchofjesuschrist.org/study/general-conference/2019/10/36nelson?lang=engSuccessfully fetched https://www.churchofjesuschrist.org/study/general-conference/2019/10/33cordon?lang=eng\n",
            "\n"
          ]
        },
        {
          "output_type": "stream",
          "name": "stderr",
          "text": [
            "\rScraping talks in parallel:   9%|▉         | 385/4112 [00:38<05:08, 12.07it/s]"
          ]
        },
        {
          "output_type": "stream",
          "name": "stdout",
          "text": [
            "Successfully fetched https://www.churchofjesuschrist.org/study/general-conference/2019/10/35oaks?lang=eng\n",
            "Successfully fetched https://www.churchofjesuschrist.org/study/general-conference/2019/10/55soares?lang=eng\n",
            "Successfully fetched https://www.churchofjesuschrist.org/study/general-conference/2019/10/56andersen?lang=eng\n",
            "Successfully fetched https://www.churchofjesuschrist.org/study/general-conference/2019/10/saturday-morning-session?lang=eng\n",
            "Successfully fetched https://www.churchofjesuschrist.org/study/general-conference/2019/10/13owen?lang=eng\n"
          ]
        },
        {
          "output_type": "stream",
          "name": "stderr",
          "text": [
            "Scraping talks in parallel:   9%|▉         | 389/4112 [00:38<05:01, 12.35it/s]"
          ]
        },
        {
          "output_type": "stream",
          "name": "stdout",
          "text": [
            "Successfully fetched https://www.churchofjesuschrist.org/study/general-conference/2019/10/26pace?lang=eng\n",
            "Successfully fetched https://www.churchofjesuschrist.org/study/general-conference/2019/10/44gonzalez?lang=eng\n",
            "Successfully fetched https://www.churchofjesuschrist.org/study/general-conference/2019/10/57nelson?lang=eng\n",
            "Successfully fetched https://www.churchofjesuschrist.org/study/general-conference/2019/10/27budge?lang=eng\n"
          ]
        },
        {
          "output_type": "stream",
          "name": "stderr",
          "text": [
            "Scraping talks in parallel:  10%|▉         | 395/4112 [00:39<06:16,  9.88it/s]"
          ]
        },
        {
          "output_type": "stream",
          "name": "stdout",
          "text": [
            "Successfully fetched https://www.churchofjesuschrist.org/study/general-conference/2019/10/34eyring?lang=engSuccessfully fetched https://www.churchofjesuschrist.org/study/general-conference/2019/10/14christofferson?lang=engSuccessfully fetched https://www.churchofjesuschrist.org/study/general-conference/2019/10/52boom?lang=eng\n",
            "\n",
            "\n",
            "Successfully fetched https://www.churchofjesuschrist.org/study/general-conference/2019/10/12vinson?lang=eng\n",
            "Successfully fetched https://www.churchofjesuschrist.org/study/general-conference/2019/10/53ballard?lang=eng\n",
            "Successfully fetched https://www.churchofjesuschrist.org/study/general-conference/2019/10/22bednar?lang=eng\n",
            "Successfully fetched https://www.churchofjesuschrist.org/study/general-conference/2019/10/32harkness?lang=eng\n"
          ]
        },
        {
          "output_type": "stream",
          "name": "stderr",
          "text": [
            "Scraping talks in parallel:  10%|▉         | 405/4112 [00:40<04:21, 14.17it/s]"
          ]
        },
        {
          "output_type": "stream",
          "name": "stdout",
          "text": [
            "Successfully fetched https://www.churchofjesuschrist.org/study/general-conference/2019/10/24nelson?lang=eng\n",
            "Successfully fetched https://www.churchofjesuschrist.org/study/general-conference/2019/04/15waddell?lang=eng\n",
            "Successfully fetched https://www.churchofjesuschrist.org/study/general-conference/2019/04/28holland?lang=eng\n",
            "Successfully fetched https://www.churchofjesuschrist.org/study/general-conference/2019/04/12craven?lang=eng\n"
          ]
        },
        {
          "output_type": "stream",
          "name": "stderr",
          "text": [
            "\rScraping talks in parallel:  10%|▉         | 407/4112 [00:40<04:49, 12.78it/s]"
          ]
        },
        {
          "output_type": "stream",
          "name": "stdout",
          "text": [
            "Successfully fetched https://www.churchofjesuschrist.org/study/general-conference/2019/04/24held?lang=eng\n",
            "Successfully fetched https://www.churchofjesuschrist.org/study/general-conference/2019/04/27homer?lang=eng\n",
            "Successfully fetched https://www.churchofjesuschrist.org/study/general-conference/2019/04/46nelson?lang=eng\n",
            "Successfully fetched https://www.churchofjesuschrist.org/study/general-conference/2019/04/52villar?lang=eng\n",
            "Successfully fetched https://www.churchofjesuschrist.org/study/general-conference/2019/04/33clark?lang=eng\n",
            "Successfully fetched https://www.churchofjesuschrist.org/study/general-conference/2019/04/57nelson?lang=engSuccessfully fetched https://www.churchofjesuschrist.org/study/general-conference/2019/04/56rasband?lang=eng\n",
            "\n",
            "Successfully fetched https://www.churchofjesuschrist.org/study/general-conference/2019/04/45callister?lang=eng\n",
            "Successfully fetched https://www.churchofjesuschrist.org/study/general-conference/2019/04/22jergensen?lang=eng\n",
            "Successfully fetched https://www.churchofjesuschrist.org/study/general-conference/2019/04/41renlund?lang=eng\n",
            "Successfully fetched https://www.churchofjesuschrist.org/study/general-conference/2019/04/23ballard?lang=eng\n",
            "Successfully fetched https://www.churchofjesuschrist.org/study/general-conference/2019/04/36nelson?lang=eng\n",
            "Successfully fetched https://www.churchofjesuschrist.org/study/general-conference/2019/04/11soares?lang=eng\n",
            "Successfully fetched https://www.churchofjesuschrist.org/study/general-conference/2019/04/32cook?lang=eng\n"
          ]
        },
        {
          "output_type": "stream",
          "name": "stderr",
          "text": [
            "Scraping talks in parallel:  10%|▉         | 411/4112 [00:42<11:24,  5.41it/s]"
          ]
        },
        {
          "output_type": "stream",
          "name": "stdout",
          "text": [
            "Successfully fetched https://www.churchofjesuschrist.org/study/general-conference/2019/04/13hales?lang=eng\n"
          ]
        },
        {
          "output_type": "stream",
          "name": "stderr",
          "text": [
            "\rScraping talks in parallel:  10%|█         | 417/4112 [00:42<06:13,  9.91it/s]"
          ]
        },
        {
          "output_type": "stream",
          "name": "stdout",
          "text": [
            "Successfully fetched https://www.churchofjesuschrist.org/study/general-conference/2019/04/25andersen?lang=eng\n",
            "Successfully fetched https://www.churchofjesuschrist.org/study/general-conference/2019/04/55mckay?lang=eng\n",
            "Successfully fetched https://www.churchofjesuschrist.org/study/general-conference/2019/04/51oaks?lang=eng\n"
          ]
        },
        {
          "output_type": "stream",
          "name": "stderr",
          "text": [
            "\rScraping talks in parallel:  10%|█         | 423/4112 [00:42<04:33, 13.49it/s]"
          ]
        },
        {
          "output_type": "stream",
          "name": "stdout",
          "text": [
            "Successfully fetched https://www.churchofjesuschrist.org/study/general-conference/2019/04/43cook?lang=eng\n",
            "Successfully fetched https://www.churchofjesuschrist.org/study/general-conference/2019/04/54bednar?lang=eng\n",
            "Successfully fetched https://www.churchofjesuschrist.org/study/general-conference/2019/04/14uchtdorf?lang=eng\n",
            "Successfully fetched https://www.churchofjesuschrist.org/study/general-conference/2019/04/31stevenson?lang=eng\n",
            "Successfully fetched https://www.churchofjesuschrist.org/study/general-conference/2019/04/53gong?lang=eng\n",
            "Successfully fetched https://www.churchofjesuschrist.org/study/general-conference/2019/04/16eyring?lang=eng\n",
            "Successfully fetched https://www.churchofjesuschrist.org/study/general-conference/2019/04/26wada?lang=eng\n"
          ]
        },
        {
          "output_type": "stream",
          "name": "stderr",
          "text": [
            "\rScraping talks in parallel:  10%|█         | 426/4112 [00:43<08:05,  7.60it/s]"
          ]
        },
        {
          "output_type": "stream",
          "name": "stdout",
          "text": [
            "Successfully fetched https://www.churchofjesuschrist.org/study/general-conference/2019/04/21oaks?lang=eng\n",
            "Successfully fetched https://www.churchofjesuschrist.org/study/general-conference/2019/04/34eyring?lang=eng\n"
          ]
        },
        {
          "output_type": "stream",
          "name": "stderr",
          "text": [
            "Scraping talks in parallel:  11%|█         | 433/4112 [00:43<05:11, 11.80it/s]"
          ]
        },
        {
          "output_type": "stream",
          "name": "stdout",
          "text": [
            "Successfully fetched https://www.churchofjesuschrist.org/study/general-conference/2018/10/the-role-of-the-book-of-mormon-in-conversion?lang=eng\n",
            "Successfully fetched https://www.churchofjesuschrist.org/study/general-conference/2018/10/the-father?lang=engSuccessfully fetched https://www.churchofjesuschrist.org/study/general-conference/2018/10/divine-discontent?lang=eng\n",
            "\n",
            "Successfully fetched https://www.churchofjesuschrist.org/study/general-conference/2019/04/44christofferson?lang=eng\n",
            "Successfully fetched https://www.churchofjesuschrist.org/study/general-conference/2019/04/42eubank?lang=eng\n",
            "Successfully fetched https://www.churchofjesuschrist.org/study/general-conference/2019/04/35oaks?lang=eng\n",
            "Successfully fetched https://www.churchofjesuschrist.org/study/general-conference/2018/10/gather-together-in-one-all-things-in-christ?lang=eng\n",
            "Successfully fetched https://www.churchofjesuschrist.org/study/general-conference/2019/04/saturday-morning-session?lang=eng\n",
            "Successfully fetched https://www.churchofjesuschrist.org/study/general-conference/2018/10/come-listen-to-a-prophets-voice?lang=eng\n"
          ]
        },
        {
          "output_type": "stream",
          "name": "stderr",
          "text": [
            "Scraping talks in parallel:  11%|█         | 443/4112 [00:44<05:12, 11.74it/s]"
          ]
        },
        {
          "output_type": "stream",
          "name": "stdout",
          "text": [
            "Successfully fetched https://www.churchofjesuschrist.org/study/general-conference/2018/10/wilt-thou-be-made-whole?lang=eng\n",
            "Successfully fetched https://www.churchofjesuschrist.org/study/general-conference/2018/10/becoming-a-shepherd?lang=eng\n",
            "Successfully fetched https://www.churchofjesuschrist.org/study/general-conference/2018/10/saturday-morning-session?lang=eng\n",
            "Successfully fetched https://www.churchofjesuschrist.org/study/general-conference/2018/10/laying-the-foundation-of-a-great-work?lang=eng\n",
            "Successfully fetched https://www.churchofjesuschrist.org/study/general-conference/2018/10/believe-love-do?lang=eng\n",
            "Successfully fetched https://www.churchofjesuschrist.org/study/general-conference/2018/10/the-sustaining-of-church-officers?lang=eng\n"
          ]
        },
        {
          "output_type": "stream",
          "name": "stderr",
          "text": [
            "\rScraping talks in parallel:  11%|█         | 447/4112 [00:44<05:03, 12.08it/s]"
          ]
        },
        {
          "output_type": "stream",
          "name": "stdout",
          "text": [
            "Successfully fetched https://www.churchofjesuschrist.org/study/general-conference/2018/10/opening-remarks?lang=eng\n",
            "Successfully fetched https://www.churchofjesuschrist.org/study/general-conference/2018/10/try-try-try?lang=eng\n",
            "Successfully fetched https://www.churchofjesuschrist.org/study/general-conference/2018/10/be-not-troubled?lang=eng\n",
            "Successfully fetched https://www.churchofjesuschrist.org/study/general-conference/2018/10/shepherding-souls?lang=eng\n"
          ]
        },
        {
          "output_type": "stream",
          "name": "stderr",
          "text": [
            "\rScraping talks in parallel:  11%|█         | 450/4112 [00:45<05:14, 11.65it/s]"
          ]
        },
        {
          "output_type": "stream",
          "name": "stdout",
          "text": [
            "Successfully fetched https://www.churchofjesuschrist.org/study/general-conference/2018/10/for-him?lang=eng\n",
            "Successfully fetched https://www.churchofjesuschrist.org/study/general-conference/2018/10/the-vision-of-the-redemption-of-the-dead?lang=eng\n",
            "Successfully fetched https://www.churchofjesuschrist.org/study/general-conference/2018/10/deep-and-lasting-conversion-to-heavenly-father-and-the-lord-jesus-christ?lang=eng\n",
            "Successfully fetched https://www.churchofjesuschrist.org/study/general-conference/2018/10/lift-up-your-head-and-rejoice?lang=eng\n",
            "Successfully fetched https://www.churchofjesuschrist.org/study/general-conference/2018/10/becoming-exemplary-latter-day-saints?lang=eng\n",
            "Successfully fetched https://www.churchofjesuschrist.org/study/general-conference/2018/10/taking-upon-ourselves-the-name-of-jesus-christ?lang=eng\n",
            "Successfully fetched https://www.churchofjesuschrist.org/study/general-conference/2018/10/choose-you-this-day?lang=eng\n",
            "Successfully fetched https://www.churchofjesuschrist.org/study/general-conference/2018/10/the-joy-of-unselfish-service?lang=eng\n",
            "Successfully fetched https://www.churchofjesuschrist.org/study/general-conference/2018/10/all-must-take-upon-them-the-name-given-of-the-father?lang=eng\n",
            "Successfully fetched https://www.churchofjesuschrist.org/study/general-conference/2018/10/the-ministry-of-reconciliation?lang=eng\n",
            "Successfully fetched https://www.churchofjesuschrist.org/study/general-conference/2018/10/one-in-christ?lang=eng\n",
            "Successfully fetched https://www.churchofjesuschrist.org/study/general-conference/2018/10/firm-and-steadfast-in-the-faith-of-christ?lang=engSuccessfully fetched https://www.churchofjesuschrist.org/study/general-conference/2018/10/the-correct-name-of-the-church?lang=eng\n",
            "\n",
            "Successfully fetched https://www.churchofjesuschrist.org/study/general-conference/2018/10/truth-and-the-plan?lang=eng\n"
          ]
        },
        {
          "output_type": "stream",
          "name": "stderr",
          "text": [
            "Scraping talks in parallel:  11%|█▏        | 468/4112 [00:46<04:06, 14.80it/s]"
          ]
        },
        {
          "output_type": "stream",
          "name": "stdout",
          "text": [
            "Successfully fetched https://www.churchofjesuschrist.org/study/general-conference/2018/10/our-campfire-of-faith?lang=eng\n",
            "Successfully fetched https://www.churchofjesuschrist.org/study/general-conference/2018/10/wounded?lang=eng\n",
            "Successfully fetched https://www.churchofjesuschrist.org/study/general-conference/2018/10/now-is-the-time?lang=eng\n",
            "Successfully fetched https://www.churchofjesuschrist.org/study/general-conference/2018/04/teaching-in-the-home-a-joyful-and-sacred-responsibility?lang=eng\n",
            "Successfully fetched https://www.churchofjesuschrist.org/study/general-conference/2018/10/sisters-participation-in-the-gathering-of-israel?lang=engSuccessfully fetched https://www.churchofjesuschrist.org/study/general-conference/2018/04/ministering-with-the-power-and-authority-of-god?lang=eng\n",
            "Successfully fetched https://www.churchofjesuschrist.org/study/general-conference/2018/04/until-seventy-times-seven?lang=eng\n",
            "\n",
            "Successfully fetched https://www.churchofjesuschrist.org/study/general-conference/2018/10/parents-and-children?lang=eng\n",
            "Successfully fetched https://www.churchofjesuschrist.org/study/general-conference/2018/04/ministering-as-the-savior-does?lang=eng\n",
            "Successfully fetched https://www.churchofjesuschrist.org/study/general-conference/2018/04/prophets-speak-by-the-power-of-the-holy-spirit?lang=eng\n",
            "Successfully fetched https://www.churchofjesuschrist.org/study/general-conference/2018/10/women-and-gospel-learning-in-the-home?lang=eng\n"
          ]
        },
        {
          "output_type": "stream",
          "name": "stderr",
          "text": [
            "\rScraping talks in parallel:  12%|█▏        | 473/4112 [00:47<05:14, 11.57it/s]"
          ]
        },
        {
          "output_type": "stream",
          "name": "stdout",
          "text": [
            "Successfully fetched https://www.churchofjesuschrist.org/study/general-conference/2018/04/the-heart-of-a-prophet?lang=eng\n",
            "Successfully fetched https://www.churchofjesuschrist.org/study/general-conference/2018/04/behold-a-royal-army?lang=eng\n",
            "Successfully fetched https://www.churchofjesuschrist.org/study/general-conference/2018/04/introductory-remarks?lang=eng\n",
            "Successfully fetched https://www.churchofjesuschrist.org/study/general-conference/2018/04/with-one-accord?lang=eng\n"
          ]
        },
        {
          "output_type": "stream",
          "name": "stderr",
          "text": [
            "\rScraping talks in parallel:  12%|█▏        | 480/4112 [00:47<04:17, 14.09it/s]"
          ]
        },
        {
          "output_type": "stream",
          "name": "stdout",
          "text": [
            "Successfully fetched https://www.churchofjesuschrist.org/study/general-conference/2018/04/it-is-all-about-people?lang=eng\n",
            "Successfully fetched https://www.churchofjesuschrist.org/study/general-conference/2018/04/small-and-simple-things?lang=eng\n",
            "Successfully fetched https://www.churchofjesuschrist.org/study/general-conference/2018/04/pure-love-the-true-sign-of-every-true-disciple-of-jesus-christ?lang=eng\n",
            "Successfully fetched https://www.churchofjesuschrist.org/study/general-conference/2018/04/saving-ordinances-will-bring-us-marvelous-light?lang=eng\n",
            "Successfully fetched https://www.churchofjesuschrist.org/study/general-conference/2018/04/precious-gifts-from-god?lang=eng\n"
          ]
        },
        {
          "output_type": "stream",
          "name": "stderr",
          "text": [
            "\rScraping talks in parallel:  12%|█▏        | 484/4112 [00:48<05:55, 10.19it/s]"
          ]
        },
        {
          "output_type": "stream",
          "name": "stdout",
          "text": [
            "Successfully fetched https://www.churchofjesuschrist.org/study/general-conference/2018/04/the-powers-of-the-priesthood?lang=eng\n",
            "Successfully fetched https://www.churchofjesuschrist.org/study/general-conference/2018/04/ministering?lang=eng\n",
            "Successfully fetched https://www.churchofjesuschrist.org/study/general-conference/2018/04/meek-and-lowly-of-heart?lang=eng\n",
            "Successfully fetched https://www.churchofjesuschrist.org/study/general-conference/2018/04/family-history-and-temple-work-sealing-and-healing?lang=eng\n",
            "Successfully fetched https://www.churchofjesuschrist.org/study/general-conference/2018/04/christ-the-lord-is-risen-today?lang=engSuccessfully fetched https://www.churchofjesuschrist.org/study/general-conference/2018/04/let-us-all-press-on?lang=eng\n",
            "\n",
            "Successfully fetched https://www.churchofjesuschrist.org/study/general-conference/2018/04/he-that-shall-endure-unto-the-end-the-same-shall-be-saved?lang=eng\n",
            "Successfully fetched https://www.churchofjesuschrist.org/study/general-conference/2018/04/young-women-in-the-work?lang=eng\n",
            "Successfully fetched https://www.churchofjesuschrist.org/study/general-conference/2018/04/the-elders-quorum?lang=eng\n"
          ]
        },
        {
          "output_type": "stream",
          "name": "stderr",
          "text": [
            "\rScraping talks in parallel:  12%|█▏        | 492/4112 [00:48<04:42, 12.79it/s]"
          ]
        },
        {
          "output_type": "stream",
          "name": "stdout",
          "text": [
            "Successfully fetched https://www.churchofjesuschrist.org/study/general-conference/2018/04/inspired-ministering?lang=eng\n",
            "Successfully fetched https://www.churchofjesuschrist.org/study/general-conference/2018/04/prepare-to-meet-god?lang=eng\n",
            "Successfully fetched https://www.churchofjesuschrist.org/study/general-conference/2018/04/the-prophet-of-god?lang=eng\n"
          ]
        },
        {
          "output_type": "stream",
          "name": "stderr",
          "text": [
            "\rScraping talks in parallel:  12%|█▏        | 495/4112 [00:49<05:10, 11.65it/s]"
          ]
        },
        {
          "output_type": "stream",
          "name": "stdout",
          "text": [
            "Successfully fetched https://www.churchofjesuschrist.org/study/general-conference/2018/04/his-spirit-to-be-with-you?lang=eng\n",
            "Successfully fetched https://www.churchofjesuschrist.org/study/general-conference/2018/04/revelation-for-the-church-revelation-for-our-lives?lang=eng\n",
            "Successfully fetched https://www.churchofjesuschrist.org/study/general-conference/2018/04/be-with-and-strengthen-them?lang=eng\n",
            "Successfully fetched https://www.churchofjesuschrist.org/study/general-conference/2018/04/what-every-aaronic-priesthood-holder-needs-to-understand?lang=eng\n",
            "Successfully fetched https://www.churchofjesuschrist.org/study/general-conference/2018/04/even-as-christ-forgives-you-so-also-do-ye?lang=eng\n",
            "Successfully fetched https://www.churchofjesuschrist.org/study/general-conference/2018/04/the-sustaining-of-church-officers?lang=eng\n",
            "Successfully fetched https://www.churchofjesuschrist.org/study/general-conference/2018/04/church-auditing-department-report-2017?lang=eng\n"
          ]
        },
        {
          "output_type": "stream",
          "name": "stderr",
          "text": [
            "Scraping talks in parallel:  12%|█▏        | 504/4112 [00:49<04:13, 14.24it/s]"
          ]
        },
        {
          "output_type": "stream",
          "name": "stdout",
          "text": [
            "Successfully fetched https://www.churchofjesuschrist.org/study/general-conference/2018/04/behold-the-man?lang=eng\n",
            "Successfully fetched https://www.churchofjesuschrist.org/study/general-conference/2018/04/am-i-a-child-of-god?lang=eng\n"
          ]
        },
        {
          "output_type": "stream",
          "name": "stderr",
          "text": [
            "\rScraping talks in parallel:  12%|█▏        | 507/4112 [00:49<04:09, 14.48it/s]"
          ]
        },
        {
          "output_type": "stream",
          "name": "stdout",
          "text": [
            "Successfully fetched https://www.churchofjesuschrist.org/study/general-conference/2018/04/one-more-day?lang=eng\n",
            "Successfully fetched https://www.churchofjesuschrist.org/study/general-conference/2017/10/gods-compelling-witness-the-book-of-mormon?lang=eng\n",
            "Successfully fetched https://www.churchofjesuschrist.org/study/general-conference/2017/10/turn-to-the-lord?lang=eng\n",
            "Successfully fetched https://www.churchofjesuschrist.org/study/general-conference/2017/10/repentance-is-always-positive?lang=eng\n",
            "Successfully fetched https://www.churchofjesuschrist.org/study/general-conference/2018/04/solemn-assembly?lang=eng\n",
            "Successfully fetched https://www.churchofjesuschrist.org/study/general-conference/2018/04/take-the-holy-spirit-as-your-guide?lang=eng\n",
            "Successfully fetched https://www.churchofjesuschrist.org/study/general-conference/2018/04/saturday-morning-session?lang=eng\n",
            "Successfully fetched https://www.churchofjesuschrist.org/study/general-conference/2017/10/womens-session?lang=eng\n"
          ]
        },
        {
          "output_type": "stream",
          "name": "stderr",
          "text": [
            "\rScraping talks in parallel:  12%|█▏        | 509/4112 [00:50<06:03,  9.92it/s]"
          ]
        },
        {
          "output_type": "stream",
          "name": "stdout",
          "text": [
            "Successfully fetched https://www.churchofjesuschrist.org/study/general-conference/2017/10/the-priesthood-and-the-saviors-atoning-power?lang=eng\n",
            "Successfully fetched https://www.churchofjesuschrist.org/study/general-conference/2017/10/the-lord-leads-his-church?lang=eng\n"
          ]
        },
        {
          "output_type": "stream",
          "name": "stderr",
          "text": [
            "\rScraping talks in parallel:  12%|█▏        | 511/4112 [00:50<07:13,  8.32it/s]"
          ]
        },
        {
          "output_type": "stream",
          "name": "stdout",
          "text": [
            "Successfully fetched https://www.churchofjesuschrist.org/study/general-conference/2017/10/fear-not-to-do-good?lang=eng\n",
            "Successfully fetched https://www.churchofjesuschrist.org/study/general-conference/2017/10/by-divine-design?lang=engSuccessfully fetched https://www.churchofjesuschrist.org/study/general-conference/2017/10/a-yearning-for-home?lang=eng\n",
            "\n",
            "Successfully fetched https://www.churchofjesuschrist.org/study/general-conference/2017/10/the-trek-continues?lang=eng\n"
          ]
        },
        {
          "output_type": "stream",
          "name": "stderr",
          "text": [
            "Scraping talks in parallel:  13%|█▎        | 521/4112 [00:51<05:17, 11.31it/s]"
          ]
        },
        {
          "output_type": "stream",
          "name": "stdout",
          "text": [
            "Successfully fetched https://www.churchofjesuschrist.org/study/general-conference/2017/10/lord-wilt-thou-cause-that-my-eyes-may-be-opened?lang=eng\n",
            "Successfully fetched https://www.churchofjesuschrist.org/study/general-conference/2017/10/the-voice-of-the-lord?lang=eng\n",
            "Successfully fetched https://www.churchofjesuschrist.org/study/general-conference/2017/10/the-eternal-everyday?lang=eng\n",
            "Successfully fetched https://www.churchofjesuschrist.org/study/general-conference/2017/10/be-ye-therefore-perfect-eventually?lang=eng\n",
            "Successfully fetched https://www.churchofjesuschrist.org/study/general-conference/2017/10/the-heart-of-the-widow?lang=eng\n"
          ]
        },
        {
          "output_type": "stream",
          "name": "stderr",
          "text": [
            "\rScraping talks in parallel:  13%|█▎        | 524/4112 [00:51<05:11, 11.53it/s]"
          ]
        },
        {
          "output_type": "stream",
          "name": "stdout",
          "text": [
            "Successfully fetched https://www.churchofjesuschrist.org/study/general-conference/2017/10/apart-but-still-one?lang=eng\n",
            "Successfully fetched https://www.churchofjesuschrist.org/study/general-conference/2017/10/that-your-joy-might-be-full?lang=engSuccessfully fetched https://www.churchofjesuschrist.org/study/general-conference/2017/10/spiritual-eclipse?lang=eng\n"
          ]
        },
        {
          "output_type": "stream",
          "name": "stderr",
          "text": [
            "\rScraping talks in parallel:  13%|█▎        | 527/4112 [00:52<04:50, 12.32it/s]"
          ]
        },
        {
          "output_type": "stream",
          "name": "stdout",
          "text": [
            "Successfully fetched https://www.churchofjesuschrist.org/study/general-conference/2017/10/the-needs-before-us?lang=eng\n",
            "Successfully fetched https://www.churchofjesuschrist.org/study/general-conference/2017/10/the-living-bread-which-came-down-from-heaven?lang=eng\n",
            "\n",
            "Successfully fetched https://www.churchofjesuschrist.org/study/general-conference/2017/10/turn-on-your-light?lang=eng\n"
          ]
        },
        {
          "output_type": "stream",
          "name": "stderr",
          "text": [
            "\rScraping talks in parallel:  13%|█▎        | 529/4112 [00:52<06:09,  9.69it/s]"
          ]
        },
        {
          "output_type": "stream",
          "name": "stdout",
          "text": [
            "Successfully fetched https://www.churchofjesuschrist.org/study/general-conference/2017/10/bearers-of-heavenly-light?lang=eng\n",
            "Successfully fetched https://www.churchofjesuschrist.org/study/general-conference/2017/10/essential-truths-our-need-to-act?lang=eng\n"
          ]
        },
        {
          "output_type": "stream",
          "name": "stderr",
          "text": [
            "\rScraping talks in parallel:  13%|█▎        | 535/4112 [00:52<04:37, 12.91it/s]"
          ]
        },
        {
          "output_type": "stream",
          "name": "stdout",
          "text": [
            "Successfully fetched https://www.churchofjesuschrist.org/study/general-conference/2017/10/love-one-another-as-he-has-loved-us?lang=eng\n",
            "Successfully fetched https://www.churchofjesuschrist.org/study/general-conference/2017/10/the-sustaining-of-church-officers?lang=eng\n",
            "Successfully fetched https://www.churchofjesuschrist.org/study/general-conference/2017/10/abiding-in-god-and-repairing-the-breach?lang=eng\n",
            "Successfully fetched https://www.churchofjesuschrist.org/study/general-conference/2017/10/earning-the-trust-of-the-lord-and-your-family?lang=eng\n"
          ]
        },
        {
          "output_type": "stream",
          "name": "stderr",
          "text": [
            "Scraping talks in parallel:  13%|█▎        | 541/4112 [00:53<03:58, 14.99it/s]"
          ]
        },
        {
          "output_type": "stream",
          "name": "stdout",
          "text": [
            "Successfully fetched https://www.churchofjesuschrist.org/study/general-conference/2017/10/three-sisters?lang=eng\n",
            "Successfully fetched https://www.churchofjesuschrist.org/study/general-conference/2017/10/do-we-trust-him-hard-is-good?lang=eng\n",
            "Successfully fetched https://www.churchofjesuschrist.org/study/general-conference/2017/10/value-beyond-measure?lang=eng\n",
            "Successfully fetched https://www.churchofjesuschrist.org/study/general-conference/2017/10/seek-ye-out-of-the-best-books?lang=eng\n",
            "Successfully fetched https://www.churchofjesuschrist.org/study/general-conference/2017/10/the-truth-of-all-things?lang=eng\n",
            "Successfully fetched https://www.churchofjesuschrist.org/study/general-conference/2017/10/has-the-day-of-miracles-ceased?lang=eng\n",
            "Successfully fetched https://www.churchofjesuschrist.org/study/general-conference/2017/10/the-book-of-mormon-what-would-your-life-be-like-without-it?lang=eng\n",
            "Successfully fetched https://www.churchofjesuschrist.org/study/general-conference/2017/10/i-have-a-work-for-thee?lang=eng\n",
            "Successfully fetched https://www.churchofjesuschrist.org/study/general-conference/2017/10/exceeding-great-and-precious-promises?lang=eng\n",
            "Successfully fetched https://www.churchofjesuschrist.org/study/general-conference/2017/10/the-plan-and-the-proclamation?lang=engSuccessfully fetched https://www.churchofjesuschrist.org/study/general-conference/2017/04/trust-in-the-lord-and-lean-not?lang=eng\n",
            "\n",
            "Successfully fetched https://www.churchofjesuschrist.org/study/general-conference/2017/04/his-daily-guiding-hand?lang=eng\n"
          ]
        },
        {
          "output_type": "stream",
          "name": "stderr",
          "text": [
            "\rScraping talks in parallel:  13%|█▎        | 543/4112 [00:54<09:08,  6.50it/s]"
          ]
        },
        {
          "output_type": "stream",
          "name": "stdout",
          "text": [
            "Successfully fetched https://www.churchofjesuschrist.org/study/general-conference/2017/04/how-does-the-holy-ghost-help-you?lang=eng\n",
            "Successfully fetched https://www.churchofjesuschrist.org/study/general-conference/2017/04/brighter-and-brighter-until-the-perfect-day?lang=engSuccessfully fetched https://www.churchofjesuschrist.org/study/general-conference/2017/04/prepare-the-way?lang=eng\n",
            "\n",
            "Successfully fetched https://www.churchofjesuschrist.org/study/general-conference/2017/04/songs-sung-and-unsung?lang=eng\n",
            "Successfully fetched https://www.churchofjesuschrist.org/study/general-conference/2017/04/our-fathers-glorious-plan?lang=eng\n",
            "Successfully fetched https://www.churchofjesuschrist.org/study/general-conference/2017/04/the-power-of-the-book-of-mormon?lang=eng\n"
          ]
        },
        {
          "output_type": "stream",
          "name": "stderr",
          "text": [
            "Scraping talks in parallel:  13%|█▎        | 555/4112 [00:54<05:28, 10.84it/s]"
          ]
        },
        {
          "output_type": "stream",
          "name": "stdout",
          "text": [
            "Successfully fetched https://www.churchofjesuschrist.org/study/general-conference/2017/04/perfect-love-casteth-out-fear?lang=eng\n",
            "Successfully fetched https://www.churchofjesuschrist.org/study/general-conference/2017/04/the-language-of-the-gospel?lang=eng\n",
            "Successfully fetched https://www.churchofjesuschrist.org/study/general-conference/2017/04/kindness-charity-and-love?lang=eng\n",
            "Successfully fetched https://www.churchofjesuschrist.org/study/general-conference/2017/04/stand-up-inside-and-be-all-in?lang=eng\n",
            "Successfully fetched https://www.churchofjesuschrist.org/study/general-conference/2017/04/whatsoever-he-saith-unto-you-do-it?lang=eng\n",
            "Successfully fetched https://www.churchofjesuschrist.org/study/general-conference/2017/04/our-good-shepherd?lang=eng\n",
            "Successfully fetched https://www.churchofjesuschrist.org/study/general-conference/2017/04/gathering-the-family-of-god?lang=eng\n",
            "Successfully fetched https://www.churchofjesuschrist.org/study/general-conference/2017/04/to-the-friends-and-investigators-of-the-church?lang=eng\n",
            "Successfully fetched https://www.churchofjesuschrist.org/study/general-conference/2017/04/womens-session?lang=eng\n",
            "Successfully fetched https://www.churchofjesuschrist.org/study/general-conference/2017/04/the-greatest-among-you?lang=eng\n"
          ]
        },
        {
          "output_type": "stream",
          "name": "stderr",
          "text": [
            "Scraping talks in parallel:  14%|█▍        | 567/4112 [00:56<04:59, 11.82it/s]"
          ]
        },
        {
          "output_type": "stream",
          "name": "stdout",
          "text": [
            "Successfully fetched https://www.churchofjesuschrist.org/study/general-conference/2017/04/the-voice-of-warning?lang=eng\n",
            "Successfully fetched https://www.churchofjesuschrist.org/study/general-conference/2017/04/return-and-receive?lang=eng\n",
            "Successfully fetched https://www.churchofjesuschrist.org/study/general-conference/2017/04/drawing-the-power-of-jesus-christ-into-our-lives?lang=eng\n",
            "Successfully fetched https://www.churchofjesuschrist.org/study/general-conference/2017/04/the-godhead-and-the-plan-of-salvation?lang=eng\n",
            "Successfully fetched https://www.churchofjesuschrist.org/study/general-conference/2017/04/my-peace-i-leave-with-you?lang=eng\n",
            "Successfully fetched https://www.churchofjesuschrist.org/study/general-conference/2017/04/certain-women?lang=eng\n"
          ]
        },
        {
          "output_type": "stream",
          "name": "stderr",
          "text": [
            "\rScraping talks in parallel:  14%|█▍        | 570/4112 [00:56<07:06,  8.31it/s]"
          ]
        },
        {
          "output_type": "stream",
          "name": "stdout",
          "text": [
            "Successfully fetched https://www.churchofjesuschrist.org/study/general-conference/2017/04/church-auditing-department-report-2016?lang=eng\n",
            "Successfully fetched https://www.churchofjesuschrist.org/study/general-conference/2017/04/dont-look-around-look-up?lang=eng\n",
            "Successfully fetched https://www.churchofjesuschrist.org/study/general-conference/2017/04/foundations-of-faith?lang=eng\n",
            "Successfully fetched https://www.churchofjesuschrist.org/study/general-conference/2017/04/the-sustaining-of-church-officers?lang=eng\n",
            "Successfully fetched https://www.churchofjesuschrist.org/study/general-conference/2017/04/walk-with-me?lang=eng\n",
            "Successfully fetched https://www.churchofjesuschrist.org/study/general-conference/2017/04/then-jesus-beholding-him-loved-him?lang=eng\n",
            "Successfully fetched https://www.churchofjesuschrist.org/study/general-conference/2017/04/called-to-the-work?lang=engSuccessfully fetched https://www.churchofjesuschrist.org/study/general-conference/2017/04/overcoming-the-world?lang=eng\n",
            "Successfully fetched https://www.churchofjesuschrist.org/study/general-conference/2017/04/confide-in-god-unwaveringly?lang=eng\n",
            "\n",
            "Successfully fetched https://www.churchofjesuschrist.org/study/general-conference/2017/04/a-sin-resistant-generation?lang=eng\n",
            "Successfully fetched https://www.churchofjesuschrist.org/study/general-conference/2017/04/that-our-light-may-be-a-standard-for-the-nations?lang=eng\n",
            "Successfully fetched https://www.churchofjesuschrist.org/study/general-conference/2017/04/and-this-is-life-eternal?lang=eng\n",
            "Successfully fetched https://www.churchofjesuschrist.org/study/general-conference/2017/04/statistical-report-2016?lang=eng\n"
          ]
        },
        {
          "output_type": "stream",
          "name": "stderr",
          "text": [
            "Scraping talks in parallel:  14%|█▍        | 587/4112 [00:58<04:13, 13.92it/s]"
          ]
        },
        {
          "output_type": "stream",
          "name": "stdout",
          "text": [
            "Successfully fetched https://www.churchofjesuschrist.org/study/general-conference/2017/04/the-beauty-of-holiness?lang=eng\n",
            "Successfully fetched https://www.churchofjesuschrist.org/study/general-conference/2017/04/let-the-holy-spirit-guide?lang=eng\n",
            "Successfully fetched https://www.churchofjesuschrist.org/study/general-conference/2017/04/becoming-a-disciple-of-our-lord-jesus-christ?lang=eng\n",
            "Successfully fetched https://www.churchofjesuschrist.org/study/general-conference/2016/10/to-whom-shall-we-go?lang=eng\n",
            "Successfully fetched https://www.churchofjesuschrist.org/study/general-conference/2016/10/emissaries-to-the-church?lang=eng\n",
            "Successfully fetched https://www.churchofjesuschrist.org/study/general-conference/2016/10/a-choice-seer-will-i-raise-up?lang=eng\n",
            "Successfully fetched https://www.churchofjesuschrist.org/study/general-conference/2016/10/the-lord-jesus-christ-teaches-us-to-pray?lang=eng\n",
            "Successfully fetched https://www.churchofjesuschrist.org/study/general-conference/2016/10/come-follow-me-by-practicing-christian-love-and-service?lang=engSuccessfully fetched https://www.churchofjesuschrist.org/study/general-conference/2016/10/look-to-the-book-look-to-the-lord?lang=eng\n",
            "\n"
          ]
        },
        {
          "output_type": "stream",
          "name": "stderr",
          "text": [
            "Scraping talks in parallel:  14%|█▍        | 595/4112 [00:58<04:20, 13.49it/s]"
          ]
        },
        {
          "output_type": "stream",
          "name": "stdout",
          "text": [
            "Successfully fetched https://www.churchofjesuschrist.org/study/general-conference/2016/10/lest-thou-forget?lang=eng\n",
            "Successfully fetched https://www.churchofjesuschrist.org/study/general-conference/2016/10/o-how-great-the-plan-of-our-god?lang=eng\n",
            "Successfully fetched https://www.churchofjesuschrist.org/study/general-conference/2016/10/there-is-power-in-the-book?lang=eng\n",
            "Successfully fetched https://www.churchofjesuschrist.org/study/general-conference/2016/10/abide-in-my-love?lang=eng\n",
            "Successfully fetched https://www.churchofjesuschrist.org/study/general-conference/2016/10/if-ye-had-known-me?lang=eng\n"
          ]
        },
        {
          "output_type": "stream",
          "name": "stderr",
          "text": [
            "\rScraping talks in parallel:  15%|█▍        | 598/4112 [00:59<04:28, 13.09it/s]"
          ]
        },
        {
          "output_type": "stream",
          "name": "stdout",
          "text": [
            "Successfully fetched https://www.churchofjesuschrist.org/study/general-conference/2016/10/repentance-a-joyful-choice?lang=eng\n",
            "Successfully fetched https://www.churchofjesuschrist.org/study/general-conference/2016/10/be-ambitious-for-christ?lang=eng\n"
          ]
        },
        {
          "output_type": "stream",
          "name": "stderr",
          "text": [
            "\rScraping talks in parallel:  15%|█▍        | 601/4112 [00:59<04:34, 12.81it/s]"
          ]
        },
        {
          "output_type": "stream",
          "name": "stdout",
          "text": [
            "Successfully fetched https://www.churchofjesuschrist.org/study/general-conference/2016/10/fourth-floor-last-door?lang=eng\n",
            "Successfully fetched https://www.churchofjesuschrist.org/study/general-conference/2016/10/valiant-in-the-testimony-of-jesus?lang=eng\n",
            "Successfully fetched https://www.churchofjesuschrist.org/study/general-conference/2016/10/for-our-spiritual-development-and-learning?lang=eng\n",
            "Successfully fetched https://www.churchofjesuschrist.org/study/general-conference/2016/10/the-perfect-path-to-happiness?lang=eng\n",
            "Successfully fetched https://www.churchofjesuschrist.org/study/general-conference/2016/10/the-souls-sincere-desire?lang=eng\n"
          ]
        },
        {
          "output_type": "stream",
          "name": "stderr",
          "text": [
            "\rScraping talks in parallel:  15%|█▍        | 604/4112 [00:59<05:34, 10.49it/s]"
          ]
        },
        {
          "output_type": "stream",
          "name": "stdout",
          "text": [
            "Successfully fetched https://www.churchofjesuschrist.org/study/general-conference/2016/10/am-i-good-enough-will-i-make-it?lang=eng\n",
            "Successfully fetched https://www.churchofjesuschrist.org/study/general-conference/2016/10/the-blessings-of-worship?lang=eng\n",
            "Successfully fetched https://www.churchofjesuschrist.org/study/general-conference/2016/10/a-witness-of-god?lang=eng\n"
          ]
        },
        {
          "output_type": "stream",
          "name": "stderr",
          "text": [
            "Scraping talks in parallel:  15%|█▍        | 611/4112 [01:00<04:27, 13.11it/s]"
          ]
        },
        {
          "output_type": "stream",
          "name": "stdout",
          "text": [
            "Successfully fetched https://www.churchofjesuschrist.org/study/general-conference/2016/10/rise-up-in-strength-sisters-in-zion?lang=eng\n",
            "Successfully fetched https://www.churchofjesuschrist.org/study/general-conference/2016/10/principles-and-promises?lang=eng\n",
            "Successfully fetched https://www.churchofjesuschrist.org/study/general-conference/2016/10/no-greater-joy-than-to-know-that-they-know?lang=eng\n",
            "Successfully fetched https://www.churchofjesuschrist.org/study/general-conference/2016/10/sharing-the-restored-gospel?lang=eng\n",
            "Successfully fetched https://www.churchofjesuschrist.org/study/general-conference/2016/10/god-shall-wipe-away-all-tears?lang=eng\n",
            "Successfully fetched https://www.churchofjesuschrist.org/study/general-conference/2016/10/learn-from-alma-and-amulek?lang=eng\n",
            "Successfully fetched https://www.churchofjesuschrist.org/study/general-conference/2016/10/the-sustaining-of-church-officers?lang=eng\n",
            "Successfully fetched https://www.churchofjesuschrist.org/study/general-conference/2016/10/the-master-healer?lang=eng\n",
            "Successfully fetched https://www.churchofjesuschrist.org/study/general-conference/2016/10/serve?lang=eng\n",
            "Successfully fetched https://www.churchofjesuschrist.org/study/general-conference/2016/10/womens-session?lang=eng\n",
            "Successfully fetched https://www.churchofjesuschrist.org/study/general-conference/2016/10/joy-and-spiritual-survival?lang=eng\n",
            "Successfully fetched https://www.churchofjesuschrist.org/study/general-conference/2016/10/the-righteous-judge?lang=eng\n",
            "Successfully fetched https://www.churchofjesuschrist.org/study/general-conference/2016/10/gratitude-on-the-sabbath-day?lang=engSuccessfully fetched https://www.churchofjesuschrist.org/study/general-conference/2016/10/i-will-bring-the-light-of-the-gospel-into-my-home?lang=eng\n",
            "\n",
            "Successfully fetched https://www.churchofjesuschrist.org/study/general-conference/2016/10/the-doctrine-of-christ?lang=eng\n",
            "Successfully fetched https://www.churchofjesuschrist.org/study/general-conference/2016/10/the-sacrament-can-help-us-become-holy?lang=eng\n",
            "Successfully fetched https://www.churchofjesuschrist.org/study/general-conference/2016/10/the-great-plan-of-redemption?lang=eng\n"
          ]
        },
        {
          "output_type": "stream",
          "name": "stderr",
          "text": [
            "Scraping talks in parallel:  15%|█▌        | 626/4112 [01:01<03:42, 15.65it/s]"
          ]
        },
        {
          "output_type": "stream",
          "name": "stdout",
          "text": [
            "Successfully fetched https://www.churchofjesuschrist.org/study/general-conference/2016/04/opposition-in-all-things?lang=eng\n",
            "Successfully fetched https://www.churchofjesuschrist.org/study/general-conference/2016/10/that-he-may-become-strong-also?lang=eng\n",
            "Successfully fetched https://www.churchofjesuschrist.org/study/general-conference/2016/04/a-pattern-for-peace?lang=eng\n",
            "Successfully fetched https://www.churchofjesuschrist.org/study/general-conference/2016/04/the-greatest-leaders-are-the-greatest-followers?lang=eng\n"
          ]
        },
        {
          "output_type": "stream",
          "name": "stderr",
          "text": [
            "\rScraping talks in parallel:  15%|█▌        | 630/4112 [01:02<04:54, 11.83it/s]"
          ]
        },
        {
          "output_type": "stream",
          "name": "stdout",
          "text": [
            "Successfully fetched https://www.churchofjesuschrist.org/study/general-conference/2016/04/i-was-a-stranger?lang=eng\n",
            "Successfully fetched https://www.churchofjesuschrist.org/study/general-conference/2016/04/do-i-believe?lang=eng\n",
            "Successfully fetched https://www.churchofjesuschrist.org/study/general-conference/2016/04/church-auditing-department-report-2015?lang=eng\n",
            "Successfully fetched https://www.churchofjesuschrist.org/study/general-conference/2016/04/he-asks-us-to-be-his-hands?lang=eng\n",
            "Successfully fetched https://www.churchofjesuschrist.org/study/general-conference/2016/04/the-holy-ghost?lang=eng\n",
            "Successfully fetched https://www.churchofjesuschrist.org/study/general-conference/2016/04/tomorrow-the-lord-will-do-wonders-among-you?lang=eng\n",
            "Successfully fetched https://www.churchofjesuschrist.org/study/general-conference/2016/04/trust-in-that-spirit-which-leadeth-to-do-good?lang=eng\n",
            "Successfully fetched https://www.churchofjesuschrist.org/study/general-conference/2016/04/always-retain-a-remission-of-your-sins?lang=eng\n",
            "Successfully fetched https://www.churchofjesuschrist.org/study/general-conference/2016/04/where-two-or-three-are-gathered?lang=eng\n",
            "Successfully fetched https://www.churchofjesuschrist.org/study/general-conference/2016/04/eternal-families?lang=eng\n"
          ]
        },
        {
          "output_type": "stream",
          "name": "stderr",
          "text": [
            "\rScraping talks in parallel:  15%|█▌        | 633/4112 [01:02<07:21,  7.87it/s]"
          ]
        },
        {
          "output_type": "stream",
          "name": "stdout",
          "text": [
            "Successfully fetched https://www.churchofjesuschrist.org/study/general-conference/2016/04/in-praise-of-those-who-save?lang=eng\n",
            "Successfully fetched https://www.churchofjesuschrist.org/study/general-conference/2016/04/the-power-of-godliness?lang=eng\n"
          ]
        },
        {
          "output_type": "stream",
          "name": "stderr",
          "text": [
            "\rScraping talks in parallel:  16%|█▌        | 642/4112 [01:03<05:17, 10.94it/s]"
          ]
        },
        {
          "output_type": "stream",
          "name": "stdout",
          "text": [
            "Successfully fetched https://www.churchofjesuschrist.org/study/general-conference/2016/04/fathers?lang=eng\n",
            "Successfully fetched https://www.churchofjesuschrist.org/study/general-conference/2016/04/and-there-shall-be-no-more-death?lang=eng\n",
            "Successfully fetched https://www.churchofjesuschrist.org/study/general-conference/2016/04/the-price-of-priesthood-power?lang=eng\n",
            "Successfully fetched https://www.churchofjesuschrist.org/study/general-conference/2016/04/always-remember-him?lang=eng\n",
            "Successfully fetched https://www.churchofjesuschrist.org/study/general-conference/2016/04/refuge-from-the-storm?lang=eng\n"
          ]
        },
        {
          "output_type": "stream",
          "name": "stderr",
          "text": [
            "\rScraping talks in parallel:  16%|█▌        | 645/4112 [01:03<05:53,  9.81it/s]"
          ]
        },
        {
          "output_type": "stream",
          "name": "stdout",
          "text": [
            "Successfully fetched https://www.churchofjesuschrist.org/study/general-conference/2016/04/a-sacred-trust?lang=eng\n",
            "Successfully fetched https://www.churchofjesuschrist.org/study/general-conference/2016/04/the-sustaining-of-church-officers?lang=eng\n",
            "Successfully fetched https://www.churchofjesuschrist.org/study/general-conference/2016/04/be-thou-humble?lang=eng\n",
            "Successfully fetched https://www.churchofjesuschrist.org/study/general-conference/2016/04/the-sacred-place-of-restoration?lang=eng\n"
          ]
        },
        {
          "output_type": "stream",
          "name": "stderr",
          "text": [
            "\rScraping talks in parallel:  16%|█▌        | 647/4112 [01:04<05:47,  9.97it/s]"
          ]
        },
        {
          "output_type": "stream",
          "name": "stdout",
          "text": [
            "Successfully fetched https://www.churchofjesuschrist.org/study/general-conference/2016/04/i-am-a-child-of-god?lang=eng\n",
            "Successfully fetched https://www.churchofjesuschrist.org/study/general-conference/2016/04/to-the-rescue-we-can-do-it?lang=eng\n",
            "Successfully fetched https://www.churchofjesuschrist.org/study/general-conference/2016/04/that-i-might-draw-all-men-unto-me?lang=eng\n",
            "Successfully fetched https://www.churchofjesuschrist.org/study/general-conference/2016/04/standing-with-the-leaders-of-the-church?lang=eng\n",
            "Successfully fetched https://www.churchofjesuschrist.org/study/general-conference/2016/04/he-will-place-you-on-his-shoulders-and-carry-you-home?lang=engSuccessfully fetched https://www.churchofjesuschrist.org/study/general-conference/2016/04/family-councils?lang=engSuccessfully fetched https://www.churchofjesuschrist.org/study/general-conference/2016/04/choices?lang=eng\n",
            "\n",
            "\n",
            "Successfully fetched https://www.churchofjesuschrist.org/study/general-conference/2016/04/what-shall-we-do?lang=eng\n"
          ]
        },
        {
          "output_type": "stream",
          "name": "stderr",
          "text": [
            "\rScraping talks in parallel:  16%|█▌        | 653/4112 [01:04<06:10,  9.33it/s]"
          ]
        },
        {
          "output_type": "stream",
          "name": "stdout",
          "text": [
            "Successfully fetched https://www.churchofjesuschrist.org/study/general-conference/2016/04/where-are-the-keys-and-authority-of-the-priesthood?lang=eng\n",
            "Successfully fetched https://www.churchofjesuschrist.org/study/general-conference/2016/04/statistical-report-2015?lang=eng\n",
            "Successfully fetched https://www.churchofjesuschrist.org/study/general-conference/2016/04/the-healing-ointment-of-forgiveness?lang=eng"
          ]
        },
        {
          "output_type": "stream",
          "name": "stderr",
          "text": [
            "\rScraping talks in parallel:  16%|█▌        | 660/4112 [01:04<04:11, 13.74it/s]"
          ]
        },
        {
          "output_type": "stream",
          "name": "stdout",
          "text": [
            "\n",
            "Successfully fetched https://www.churchofjesuschrist.org/study/general-conference/2016/04/see-yourself-in-the-temple?lang=eng\n",
            "Successfully fetched https://www.churchofjesuschrist.org/study/general-conference/2015/10/god-is-at-the-helm?lang=eng\n",
            "Successfully fetched https://www.churchofjesuschrist.org/study/general-conference/2015/10/behold-thy-mother?lang=eng\n",
            "Successfully fetched https://www.churchofjesuschrist.org/study/general-conference/2015/10/it-works-wonderfully?lang=eng\n",
            "Successfully fetched https://www.churchofjesuschrist.org/study/general-conference/2016/04/a-childs-guiding-gift?lang=eng\n",
            "Successfully fetched https://www.churchofjesuschrist.org/study/general-conference/2015/10/its-never-too-early-and-its-never-too-late?lang=eng\n",
            "Successfully fetched https://www.churchofjesuschrist.org/study/general-conference/2016/04/whoso-receiveth-them-receiveth-me?lang=eng\n",
            "Successfully fetched https://www.churchofjesuschrist.org/study/general-conference/2015/10/remembering-in-whom-we-have-trusted?lang=eng\n",
            "Successfully fetched https://www.churchofjesuschrist.org/study/general-conference/2016/04/womens-session?lang=eng\n"
          ]
        },
        {
          "output_type": "stream",
          "name": "stderr",
          "text": [
            "\rScraping talks in parallel:  16%|█▌        | 663/4112 [01:05<06:01,  9.54it/s]"
          ]
        },
        {
          "output_type": "stream",
          "name": "stdout",
          "text": [
            "Successfully fetched https://www.churchofjesuschrist.org/study/general-conference/2015/10/through-gods-eyes?lang=eng\n",
            "Successfully fetched https://www.churchofjesuschrist.org/study/general-conference/2015/10/choose-the-light?lang=eng\n",
            "Successfully fetched https://www.churchofjesuschrist.org/study/general-conference/2015/10/let-the-clarion-trumpet-sound?lang=eng\n"
          ]
        },
        {
          "output_type": "stream",
          "name": "stderr",
          "text": [
            "\rScraping talks in parallel:  16%|█▋        | 670/4112 [01:05<04:47, 11.97it/s]"
          ]
        },
        {
          "output_type": "stream",
          "name": "stdout",
          "text": [
            "Successfully fetched https://www.churchofjesuschrist.org/study/general-conference/2015/10/hold-on-thy-way?lang=eng\n",
            "Successfully fetched https://www.churchofjesuschrist.org/study/general-conference/2015/10/your-next-step?lang=eng\n",
            "Successfully fetched https://www.churchofjesuschrist.org/study/general-conference/2015/10/i-stand-all-amazed?lang=eng\n",
            "Successfully fetched https://www.churchofjesuschrist.org/study/general-conference/2015/10/a-plea-to-my-sisters?lang=eng\n",
            "Successfully fetched https://www.churchofjesuschrist.org/study/general-conference/2015/10/worthy-of-our-promised-blessings?lang=eng\n"
          ]
        },
        {
          "output_type": "stream",
          "name": "stderr",
          "text": [
            "Scraping talks in parallel:  17%|█▋        | 681/4112 [01:06<03:25, 16.68it/s]"
          ]
        },
        {
          "output_type": "stream",
          "name": "stdout",
          "text": [
            "Successfully fetched https://www.churchofjesuschrist.org/study/general-conference/2015/10/you-are-not-alone-in-the-work?lang=eng\n",
            "Successfully fetched https://www.churchofjesuschrist.org/study/general-conference/2015/10/plain-and-precious-truths?lang=eng\n",
            "Successfully fetched https://www.churchofjesuschrist.org/study/general-conference/2015/10/chosen-to-bear-testimony-of-my-name?lang=eng\n",
            "Successfully fetched https://www.churchofjesuschrist.org/study/general-conference/2015/10/yielding-our-hearts-to-god?lang=eng\n",
            "Successfully fetched https://www.churchofjesuschrist.org/study/general-conference/2015/10/womens-session?lang=eng\n"
          ]
        },
        {
          "output_type": "stream",
          "name": "stderr",
          "text": [
            "\rScraping talks in parallel:  17%|█▋        | 684/4112 [01:06<03:38, 15.67it/s]"
          ]
        },
        {
          "output_type": "stream",
          "name": "stdout",
          "text": [
            "Successfully fetched https://www.churchofjesuschrist.org/study/general-conference/2015/10/strengthened-by-the-atonement-of-jesus-christ?lang=eng\n",
            "Successfully fetched https://www.churchofjesuschrist.org/study/general-conference/2015/10/what-lack-i-yet?lang=eng\n",
            "Successfully fetched https://www.churchofjesuschrist.org/study/general-conference/2015/10/faith-is-not-by-chance-but-by-choice?lang=eng\n"
          ]
        },
        {
          "output_type": "stream",
          "name": "stderr",
          "text": [
            "\rScraping talks in parallel:  17%|█▋        | 686/4112 [01:06<04:19, 13.19it/s]"
          ]
        },
        {
          "output_type": "stream",
          "name": "stdout",
          "text": [
            "Successfully fetched https://www.churchofjesuschrist.org/study/general-conference/2015/10/tested-and-tempted-but-helped?lang=eng\n",
            "Successfully fetched https://www.churchofjesuschrist.org/study/general-conference/2015/10/discovering-the-divinity-within?lang=eng\n",
            "Successfully fetched https://www.churchofjesuschrist.org/study/general-conference/2015/10/eyes-to-see-and-ears-to-hear?lang=eng\n"
          ]
        },
        {
          "output_type": "stream",
          "name": "stderr",
          "text": [
            "\rScraping talks in parallel:  17%|█▋        | 688/4112 [01:07<04:55, 11.59it/s]"
          ]
        },
        {
          "output_type": "stream",
          "name": "stdout",
          "text": [
            "Successfully fetched https://www.churchofjesuschrist.org/study/general-conference/2015/10/turn-to-him-and-answers-will-come?lang=eng\n",
            "Successfully fetched https://www.churchofjesuschrist.org/study/general-conference/2015/10/the-joy-of-living-a-christ-centered-life?lang=eng\n",
            "Successfully fetched https://www.churchofjesuschrist.org/study/general-conference/2015/10/be-not-afraid-only-believe?lang=eng\n"
          ]
        },
        {
          "output_type": "stream",
          "name": "stderr",
          "text": [
            "\rScraping talks in parallel:  17%|█▋        | 690/4112 [01:07<06:49,  8.35it/s]"
          ]
        },
        {
          "output_type": "stream",
          "name": "stdout",
          "text": [
            "Successfully fetched https://www.churchofjesuschrist.org/study/general-conference/2015/10/that-they-do-always-remember-him?lang=eng\n",
            "Successfully fetched https://www.churchofjesuschrist.org/study/general-conference/2015/10/a-summer-with-great-aunt-rose?lang=eng\n",
            "Successfully fetched https://www.churchofjesuschrist.org/study/general-conference/2015/10/if-ye-love-me-keep-my-commandments?lang=eng\n",
            "Successfully fetched https://www.churchofjesuschrist.org/study/general-conference/2015/10/the-sustaining-of-church-officers?lang=eng\n",
            "Successfully fetched https://www.churchofjesuschrist.org/study/general-conference/2015/10/the-holy-ghost-as-your-companion?lang=eng\n"
          ]
        },
        {
          "output_type": "stream",
          "name": "stderr",
          "text": [
            "\rScraping talks in parallel:  17%|█▋        | 692/4112 [01:08<09:20,  6.10it/s]"
          ]
        },
        {
          "output_type": "stream",
          "name": "stdout",
          "text": [
            "Successfully fetched https://www.churchofjesuschrist.org/study/general-conference/2015/10/why-the-church?lang=eng\n",
            "Successfully fetched https://www.churchofjesuschrist.org/study/general-conference/2015/10/shipshape-and-bristol-fashion-be-temple-worthy-in-good-times-and-bad-times?lang=eng\n",
            "Successfully fetched https://www.churchofjesuschrist.org/study/general-conference/2015/10/blessed-and-happy-are-those-who-keep-the-commandments-of-god?lang=eng\n"
          ]
        },
        {
          "output_type": "stream",
          "name": "stderr",
          "text": [
            "\rScraping talks in parallel:  17%|█▋        | 698/4112 [01:08<05:54,  9.63it/s]"
          ]
        },
        {
          "output_type": "stream",
          "name": "stdout",
          "text": [
            "Successfully fetched https://www.churchofjesuschrist.org/study/general-conference/2015/10/my-heart-pondereth-them-continually?lang=eng\n",
            "Successfully fetched https://www.churchofjesuschrist.org/study/general-conference/2015/10/the-pleasing-word-of-god?lang=eng\n",
            "Successfully fetched https://www.churchofjesuschrist.org/study/general-conference/2015/10/meeting-the-challenges-of-todays-world?lang=eng\n",
            "Successfully fetched https://www.churchofjesuschrist.org/study/general-conference/2015/10/be-an-example-and-a-light?lang=eng\n",
            "Successfully fetched https://www.churchofjesuschrist.org/study/general-conference/2015/10/keep-the-commandments?lang=eng\n",
            "Successfully fetched https://www.churchofjesuschrist.org/study/general-conference/2015/04/where-justice-love-and-mercy-meet?lang=eng\n",
            "Successfully fetched https://www.churchofjesuschrist.org/study/general-conference/2015/10/here-to-serve-a-righteous-cause?lang=eng\n"
          ]
        },
        {
          "output_type": "stream",
          "name": "stderr",
          "text": [
            "Scraping talks in parallel:  17%|█▋        | 708/4112 [01:09<05:58,  9.49it/s]"
          ]
        },
        {
          "output_type": "stream",
          "name": "stdout",
          "text": [
            "Successfully fetched https://www.churchofjesuschrist.org/study/general-conference/2015/04/the-comforter?lang=eng\n",
            "Successfully fetched https://www.churchofjesuschrist.org/study/general-conference/2015/04/the-eternal-perspective-of-the-gospel?lang=eng\n"
          ]
        },
        {
          "output_type": "stream",
          "name": "stderr",
          "text": [
            "\rScraping talks in parallel:  17%|█▋        | 712/4112 [01:09<04:31, 12.51it/s]"
          ]
        },
        {
          "output_type": "stream",
          "name": "stdout",
          "text": [
            "Successfully fetched https://www.churchofjesuschrist.org/study/general-conference/2015/04/seeking-the-lord?lang=eng\n",
            "Successfully fetched https://www.churchofjesuschrist.org/study/general-conference/2015/04/the-music-of-the-gospel?lang=eng\n",
            "Successfully fetched https://www.churchofjesuschrist.org/study/general-conference/2015/04/on-being-genuine?lang=eng\n",
            "Successfully fetched https://www.churchofjesuschrist.org/study/general-conference/2015/04/thy-kingdom-come?lang=eng\n",
            "Successfully fetched https://www.churchofjesuschrist.org/study/general-conference/2015/04/returning-to-faith?lang=eng\n"
          ]
        },
        {
          "output_type": "stream",
          "name": "stderr",
          "text": [
            "\rScraping talks in parallel:  17%|█▋        | 715/4112 [01:10<05:21, 10.56it/s]"
          ]
        },
        {
          "output_type": "stream",
          "name": "stdout",
          "text": [
            "Successfully fetched https://www.churchofjesuschrist.org/study/general-conference/2015/04/waiting-for-the-prodigal?lang=eng\n",
            "Successfully fetched https://www.churchofjesuschrist.org/study/general-conference/2015/04/filling-our-homes-with-light-and-truth?lang=eng\n",
            "Successfully fetched https://www.churchofjesuschrist.org/study/general-conference/2015/04/be-fruitful-multiply-and-subdue-the-earth?lang=eng\n",
            "Successfully fetched https://www.churchofjesuschrist.org/study/general-conference/2015/04/church-auditing-department-report-2014?lang=eng\n"
          ]
        },
        {
          "output_type": "stream",
          "name": "stderr",
          "text": [
            "\rScraping talks in parallel:  17%|█▋        | 718/4112 [01:10<04:56, 11.45it/s]"
          ]
        },
        {
          "output_type": "stream",
          "name": "stdout",
          "text": [
            "Successfully fetched https://www.churchofjesuschrist.org/study/general-conference/2015/04/the-plan-of-happiness?lang=eng\n",
            "Successfully fetched https://www.churchofjesuschrist.org/study/general-conference/2015/04/why-marriage-and-family-matter-everywhere-in-the-world?lang=eng\n",
            "Successfully fetched https://www.churchofjesuschrist.org/study/general-conference/2015/04/the-family-is-of-god?lang=eng\n"
          ]
        },
        {
          "output_type": "stream",
          "name": "stderr",
          "text": [
            "Scraping talks in parallel:  18%|█▊        | 724/4112 [01:10<03:51, 14.61it/s]"
          ]
        },
        {
          "output_type": "stream",
          "name": "stdout",
          "text": [
            "Successfully fetched https://www.churchofjesuschrist.org/study/general-conference/2015/04/the-greatest-generation-of-young-adults?lang=eng\n",
            "Successfully fetched https://www.churchofjesuschrist.org/study/general-conference/2015/04/is-it-still-wonderful-to-you?lang=eng\n",
            "Successfully fetched https://www.churchofjesuschrist.org/study/general-conference/2015/04/the-gift-of-grace?lang=eng\n",
            "Successfully fetched https://www.churchofjesuschrist.org/study/general-conference/2015/04/truly-good-and-without-guile?lang=eng\n",
            "Successfully fetched https://www.churchofjesuschrist.org/study/general-conference/2015/04/why-marriage-why-family?lang=eng\n",
            "Successfully fetched https://www.churchofjesuschrist.org/study/general-conference/2015/04/choose-to-believe?lang=eng\n",
            "Successfully fetched https://www.churchofjesuschrist.org/study/general-conference/2015/04/the-parable-of-the-sower?lang=eng\n",
            "Successfully fetched https://www.churchofjesuschrist.org/study/general-conference/2015/04/yes-we-can-and-will-win?lang=eng\n",
            "Successfully fetched https://www.churchofjesuschrist.org/study/general-conference/2015/04/the-sabbath-is-a-delight?lang=eng\n",
            "Successfully fetched https://www.churchofjesuschrist.org/study/general-conference/2015/04/stay-by-the-tree?lang=eng\n"
          ]
        },
        {
          "output_type": "stream",
          "name": "stderr",
          "text": [
            "Scraping talks in parallel:  18%|█▊        | 729/4112 [01:11<06:09,  9.15it/s]"
          ]
        },
        {
          "output_type": "stream",
          "name": "stdout",
          "text": [
            "Successfully fetched https://www.churchofjesuschrist.org/study/general-conference/2015/04/if-you-will-be-responsible?lang=eng\n",
            "Successfully fetched https://www.churchofjesuschrist.org/study/general-conference/2015/04/priesthood-and-personal-prayer?lang=eng\n",
            "Successfully fetched https://www.churchofjesuschrist.org/study/general-conference/2015/04/is-not-this-the-fast-that-i-have-chosen?lang=eng\n",
            "Successfully fetched https://www.churchofjesuschrist.org/study/general-conference/2015/04/the-lord-is-my-light?lang=eng\n"
          ]
        },
        {
          "output_type": "stream",
          "name": "stderr",
          "text": [
            "Scraping talks in parallel:  18%|█▊        | 736/4112 [01:12<03:33, 15.85it/s]"
          ]
        },
        {
          "output_type": "stream",
          "name": "stdout",
          "text": [
            "Successfully fetched https://www.churchofjesuschrist.org/study/general-conference/2015/04/latter-day-saints-keep-on-trying?lang=eng\n",
            "Successfully fetched https://www.churchofjesuschrist.org/study/general-conference/2015/04/preserving-agency-protecting-religious-freedom?lang=eng\n",
            "Successfully fetched https://www.churchofjesuschrist.org/study/general-conference/2015/04/well-ascend-together?lang=eng\n",
            "Successfully fetched https://www.churchofjesuschrist.org/study/general-conference/2015/04/blessings-of-the-temple?lang=eng\n"
          ]
        },
        {
          "output_type": "stream",
          "name": "stderr",
          "text": [
            "\rScraping talks in parallel:  18%|█▊        | 739/4112 [01:12<05:20, 10.52it/s]"
          ]
        },
        {
          "output_type": "stream",
          "name": "stdout",
          "text": [
            "Successfully fetched https://www.churchofjesuschrist.org/study/general-conference/2015/04/the-sustaining-of-church-officers?lang=eng\n",
            "Successfully fetched https://www.churchofjesuschrist.org/study/general-conference/2015/04/fatherhood-our-eternal-destiny?lang=eng\n",
            "Successfully fetched https://www.churchofjesuschrist.org/study/general-conference/2015/04/statistical-report-2014?lang=eng\n",
            "Successfully fetched https://www.churchofjesuschrist.org/study/general-conference/2015/04/therefore-they-hushed-their-fears?lang=eng\n"
          ]
        },
        {
          "output_type": "stream",
          "name": "stderr",
          "text": [
            "\rScraping talks in parallel:  18%|█▊        | 746/4112 [01:12<03:09, 17.79it/s]"
          ]
        },
        {
          "output_type": "stream",
          "name": "stdout",
          "text": [
            "Successfully fetched https://www.churchofjesuschrist.org/study/general-conference/2015/04/the-priesthood-a-sacred-gift?lang=eng\n",
            "Successfully fetched https://www.churchofjesuschrist.org/study/general-conference/2014/10/continuing-revelation?lang=eng\n",
            "Successfully fetched https://www.churchofjesuschrist.org/study/general-conference/2014/10/free-forever-to-act-for-themselves?lang=eng\n",
            "Successfully fetched https://www.churchofjesuschrist.org/study/general-conference/2014/10/our-personal-ministries?lang=eng\n",
            "Successfully fetched https://www.churchofjesuschrist.org/study/general-conference/2015/04/defenders-of-the-family-proclamation?lang=eng\n",
            "Successfully fetched https://www.churchofjesuschrist.org/study/general-conference/2014/10/welcome-to-conference?lang=eng\n",
            "Successfully fetched https://www.churchofjesuschrist.org/study/general-conference/2014/10/live-according-to-the-words-of-the-prophets?lang=eng\n",
            "Successfully fetched https://www.churchofjesuschrist.org/study/general-conference/2014/10/which-way-do-you-face?lang=eng\n",
            "Successfully fetched https://www.churchofjesuschrist.org/study/general-conference/2015/04/womens-session?lang=eng\n",
            "Successfully fetched https://www.churchofjesuschrist.org/study/general-conference/2014/10/make-the-exercise-of-faith-your-first-priority?lang=eng\n",
            "Successfully fetched https://www.churchofjesuschrist.org/study/general-conference/2014/10/finding-lasting-peace-and-building-eternal-families?lang=eng\n",
            "Successfully fetched https://www.churchofjesuschrist.org/study/general-conference/2014/10/eternal-life-to-know-our-heavenly-father-and-his-son-jesus-christ?lang=eng\n",
            "Successfully fetched https://www.churchofjesuschrist.org/study/general-conference/2014/10/yes-lord-i-will-follow-thee?lang=eng\n",
            "Successfully fetched https://www.churchofjesuschrist.org/study/general-conference/2014/10/sustaining-the-prophets?lang=eng\n",
            "Successfully fetched https://www.churchofjesuschrist.org/study/general-conference/2014/10/the-preparatory-priesthood?lang=eng\n",
            "Successfully fetched https://www.churchofjesuschrist.org/study/general-conference/2014/10/living-the-gospel-joyful?lang=eng\n"
          ]
        },
        {
          "output_type": "stream",
          "name": "stderr",
          "text": [
            "Scraping talks in parallel:  18%|█▊        | 756/4112 [01:14<05:15, 10.64it/s]"
          ]
        },
        {
          "output_type": "stream",
          "name": "stdout",
          "text": [
            "Successfully fetched https://www.churchofjesuschrist.org/study/general-conference/2014/10/stay-in-the-boat-and-hold-on?lang=eng\n",
            "Successfully fetched https://www.churchofjesuschrist.org/study/general-conference/2014/10/i-know-these-things-of-myself?lang=eng\n",
            "Successfully fetched https://www.churchofjesuschrist.org/study/general-conference/2014/10/covenant-daughters-of-god?lang=eng\n"
          ]
        },
        {
          "output_type": "stream",
          "name": "stderr",
          "text": [
            "Scraping talks in parallel:  19%|█▊        | 763/4112 [01:14<04:14, 13.18it/s]"
          ]
        },
        {
          "output_type": "stream",
          "name": "stdout",
          "text": [
            "Successfully fetched https://www.churchofjesuschrist.org/study/general-conference/2014/10/lord-is-it-i?lang=eng\n",
            "Successfully fetched https://www.churchofjesuschrist.org/study/general-conference/2014/10/until-we-meet-again?lang=eng\n",
            "Successfully fetched https://www.churchofjesuschrist.org/study/general-conference/2014/10/the-sacrament-and-the-atonement?lang=eng\n"
          ]
        },
        {
          "output_type": "stream",
          "name": "stderr",
          "text": [
            "\rScraping talks in parallel:  19%|█▊        | 766/4112 [01:14<03:48, 14.62it/s]"
          ]
        },
        {
          "output_type": "stream",
          "name": "stdout",
          "text": [
            "Successfully fetched https://www.churchofjesuschrist.org/study/general-conference/2014/10/receiving-a-testimony-of-light-and-truth?lang=eng\n",
            "Successfully fetched https://www.churchofjesuschrist.org/study/general-conference/2014/10/ponder-the-path-of-thy-feet?lang=eng\n",
            "Successfully fetched https://www.churchofjesuschrist.org/study/general-conference/2014/10/the-reason-for-our-hope?lang=eng\n",
            "Successfully fetched https://www.churchofjesuschrist.org/study/general-conference/2014/10/parents-the-prime-gospel-teachers-of-their-children?lang=eng\n",
            "Successfully fetched https://www.churchofjesuschrist.org/study/general-conference/2014/10/sharing-your-light?lang=eng\n"
          ]
        },
        {
          "output_type": "stream",
          "name": "stderr",
          "text": [
            "\rScraping talks in parallel:  19%|█▊        | 769/4112 [01:15<05:18, 10.51it/s]"
          ]
        },
        {
          "output_type": "stream",
          "name": "stdout",
          "text": [
            "Successfully fetched https://www.churchofjesuschrist.org/study/general-conference/2014/10/trifle-not-with-sacred-things?lang=eng\n",
            "Successfully fetched https://www.churchofjesuschrist.org/study/general-conference/2014/10/the-lord-has-a-plan-for-us?lang=eng\n",
            "Successfully fetched https://www.churchofjesuschrist.org/study/general-conference/2014/10/the-sacrament-a-renewal-for-the-soul?lang=eng\n",
            "Successfully fetched https://www.churchofjesuschrist.org/study/general-conference/2014/10/approaching-the-throne-of-god-with-confidence?lang=eng\n"
          ]
        },
        {
          "output_type": "stream",
          "name": "stderr",
          "text": [
            "\rScraping talks in parallel:  19%|█▉        | 771/4112 [01:15<05:22, 10.36it/s]"
          ]
        },
        {
          "output_type": "stream",
          "name": "stdout",
          "text": [
            "Successfully fetched https://www.churchofjesuschrist.org/study/general-conference/2014/10/loving-others-and-living-with-differences?lang=eng\n",
            "Successfully fetched https://www.churchofjesuschrist.org/study/general-conference/2014/10/joseph-smith?lang=eng\n",
            "Successfully fetched https://www.churchofjesuschrist.org/study/general-conference/2014/10/the-book?lang=eng\n",
            "Successfully fetched https://www.churchofjesuschrist.org/study/general-conference/2014/10/come-and-see?lang=eng"
          ]
        },
        {
          "output_type": "stream",
          "name": "stderr",
          "text": [
            "\rScraping talks in parallel:  19%|█▉        | 778/4112 [01:15<04:05, 13.60it/s]"
          ]
        },
        {
          "output_type": "stream",
          "name": "stdout",
          "text": [
            "\n",
            "Successfully fetched https://www.churchofjesuschrist.org/study/general-conference/2014/10/rescue-in-unity?lang=eng\n",
            "Successfully fetched https://www.churchofjesuschrist.org/study/general-conference/2014/10/are-we-not-all-beggars?lang=eng\n",
            "Successfully fetched https://www.churchofjesuschrist.org/study/general-conference/2014/10/saturday-morning-session?lang=eng\n",
            "Successfully fetched https://www.churchofjesuschrist.org/study/general-conference/2014/10/guided-safely-home?lang=eng\n"
          ]
        },
        {
          "output_type": "stream",
          "name": "stderr",
          "text": [
            "Scraping talks in parallel:  19%|█▉        | 787/4112 [01:16<03:34, 15.52it/s]"
          ]
        },
        {
          "output_type": "stream",
          "name": "stdout",
          "text": [
            "Successfully fetched https://www.churchofjesuschrist.org/study/general-conference/2014/10/choose-wisely?lang=eng\n",
            "Successfully fetched https://www.churchofjesuschrist.org/study/general-conference/2014/10/the-sustaining-of-church-officers?lang=eng\n",
            "Successfully fetched https://www.churchofjesuschrist.org/study/general-conference/2014/10/the-law-of-the-fast-a-personal-responsibility-to-care-for-the-poor-and-needy?lang=eng\n",
            "Successfully fetched https://www.churchofjesuschrist.org/study/general-conference/2014/04/what-are-you-thinking?lang=eng\n",
            "Successfully fetched https://www.churchofjesuschrist.org/study/general-conference/2014/04/roots-and-branches?lang=engSuccessfully fetched https://www.churchofjesuschrist.org/study/general-conference/2014/04/fear-not-i-am-with-thee?lang=eng\n",
            "Successfully fetched https://www.churchofjesuschrist.org/study/general-conference/2014/04/a-priceless-heritage-of-hope?lang=eng\n",
            "\n",
            "Successfully fetched https://www.churchofjesuschrist.org/study/general-conference/2014/04/the-joyful-burden-of-discipleship?lang=eng\n",
            "Successfully fetched https://www.churchofjesuschrist.org/study/general-conference/2014/04/christ-the-redeemer?lang=eng\n",
            "Successfully fetched https://www.churchofjesuschrist.org/study/general-conference/2014/04/grateful-in-any-circumstances?lang=eng\n",
            "Successfully fetched https://www.churchofjesuschrist.org/study/general-conference/2014/10/prepared-in-a-manner-that-never-had-been-known?lang=eng\n",
            "Successfully fetched https://www.churchofjesuschrist.org/study/general-conference/2014/04/the-cost-and-blessings-of-discipleship?lang=eng\n"
          ]
        },
        {
          "output_type": "stream",
          "name": "stderr",
          "text": [
            "\rScraping talks in parallel:  19%|█▉        | 790/4112 [01:17<05:39,  9.77it/s]"
          ]
        },
        {
          "output_type": "stream",
          "name": "stdout",
          "text": [
            "Successfully fetched https://www.churchofjesuschrist.org/study/general-conference/2014/04/if-ye-love-me-keep-my-commandments?lang=eng\n",
            "Successfully fetched https://www.churchofjesuschrist.org/study/general-conference/2014/04/bear-up-their-burdens-with-ease?lang=eng\n",
            "Successfully fetched https://www.churchofjesuschrist.org/study/general-conference/2014/04/the-sustaining-of-church-officers?lang=eng\n",
            "Successfully fetched https://www.churchofjesuschrist.org/study/general-conference/2014/04/the-priesthood-man?lang=eng"
          ]
        },
        {
          "output_type": "stream",
          "name": "stderr",
          "text": [
            "Scraping talks in parallel:  19%|█▉        | 799/4112 [01:17<03:30, 15.76it/s]"
          ]
        },
        {
          "output_type": "stream",
          "name": "stdout",
          "text": [
            "\n",
            "Successfully fetched https://www.churchofjesuschrist.org/study/general-conference/2014/04/where-your-treasure-is?lang=eng\n",
            "Successfully fetched https://www.churchofjesuschrist.org/study/general-conference/2014/04/be-strong-and-of-a-good-courage?lang=eng\n",
            "Successfully fetched https://www.churchofjesuschrist.org/study/general-conference/2014/04/love-the-essence-of-the-gospel?lang=eng\n",
            "Successfully fetched https://www.churchofjesuschrist.org/study/general-conference/2014/04/wanted-hands-and-hearts-to-hasten-the-work?lang=eng\n"
          ]
        },
        {
          "output_type": "stream",
          "name": "stderr",
          "text": [
            "\rScraping talks in parallel:  20%|█▉        | 802/4112 [01:17<04:18, 12.82it/s]"
          ]
        },
        {
          "output_type": "stream",
          "name": "stdout",
          "text": [
            "Successfully fetched https://www.churchofjesuschrist.org/study/general-conference/2014/04/daughters-in-the-covenant?lang=eng\n",
            "Successfully fetched https://www.churchofjesuschrist.org/study/general-conference/2014/04/what-manner-of-men?lang=eng\n",
            "Successfully fetched https://www.churchofjesuschrist.org/study/general-conference/2014/04/the-choice-generation?lang=eng\n",
            "Successfully fetched https://www.churchofjesuschrist.org/study/general-conference/2014/04/keeping-covenants-protects-us-prepares-us-and-empowers-us?lang=eng\n"
          ]
        },
        {
          "output_type": "stream",
          "name": "stderr",
          "text": [
            "\rScraping talks in parallel:  20%|█▉        | 804/4112 [01:18<04:52, 11.30it/s]"
          ]
        },
        {
          "output_type": "stream",
          "name": "stdout",
          "text": [
            "Successfully fetched https://www.churchofjesuschrist.org/study/general-conference/2014/04/following-up?lang=eng\n",
            "Successfully fetched https://www.churchofjesuschrist.org/study/general-conference/2014/04/the-witness?lang=eng\n",
            "Successfully fetched https://www.churchofjesuschrist.org/study/general-conference/2014/04/i-have-given-you-an-example?lang=eng\n"
          ]
        },
        {
          "output_type": "stream",
          "name": "stderr",
          "text": [
            "\rScraping talks in parallel:  20%|█▉        | 808/4112 [01:18<04:20, 12.67it/s]"
          ]
        },
        {
          "output_type": "stream",
          "name": "stdout",
          "text": [
            "Successfully fetched https://www.churchofjesuschrist.org/study/general-conference/2014/04/if-ye-lack-wisdom?lang=eng\n",
            "Successfully fetched https://www.churchofjesuschrist.org/study/general-conference/2014/04/church-auditing-department-report-2013?lang=eng\n",
            "Successfully fetched https://www.churchofjesuschrist.org/study/general-conference/2014/04/the-prophet-joseph-smith?lang=engSuccessfully fetched https://www.churchofjesuschrist.org/study/general-conference/2014/04/your-four-minutes?lang=eng\n",
            "\n",
            "Successfully fetched https://www.churchofjesuschrist.org/study/general-conference/2014/04/let-your-faith-show?lang=eng\n",
            "Successfully fetched https://www.churchofjesuschrist.org/study/general-conference/2014/04/are-you-sleeping-through-the-restoration?lang=eng\n",
            "Successfully fetched https://www.churchofjesuschrist.org/study/general-conference/2014/04/live-true-to-the-faith?lang=eng\n",
            "Successfully fetched https://www.churchofjesuschrist.org/study/general-conference/2014/04/protection-from-pornography-a-christ-focused-home?lang=eng\n"
          ]
        },
        {
          "output_type": "stream",
          "name": "stderr",
          "text": [
            "\rScraping talks in parallel:  20%|█▉        | 812/4112 [01:18<05:02, 10.92it/s]"
          ]
        },
        {
          "output_type": "stream",
          "name": "stdout",
          "text": [
            "Successfully fetched https://www.churchofjesuschrist.org/study/general-conference/2014/04/obedience-through-our-faithfulness?lang=eng\n",
            "Successfully fetched https://www.churchofjesuschrist.org/study/general-conference/2014/04/statistical-report-2013?lang=eng\n"
          ]
        },
        {
          "output_type": "stream",
          "name": "stderr",
          "text": [
            "\rScraping talks in parallel:  20%|█▉        | 818/4112 [01:19<04:50, 11.34it/s]"
          ]
        },
        {
          "output_type": "stream",
          "name": "stdout",
          "text": [
            "Successfully fetched https://www.churchofjesuschrist.org/study/general-conference/2014/04/welcome-to-conference?lang=eng\n",
            "Successfully fetched https://www.churchofjesuschrist.org/study/general-conference/2014/04/spiritual-whirlwinds?lang=eng\n",
            "Successfully fetched https://www.churchofjesuschrist.org/study/general-conference/2014/04/saturday-morning-session?lang=eng\n",
            "Successfully fetched https://www.churchofjesuschrist.org/study/general-conference/2014/04/lets-not-take-the-wrong-way?lang=eng\n",
            "Successfully fetched https://www.churchofjesuschrist.org/study/general-conference/2014/04/the-resurrection-of-jesus-christ?lang=engSuccessfully fetched https://www.churchofjesuschrist.org/study/general-conference/2014/04/the-keys-and-authority-of-the-priesthood?lang=eng\n",
            "\n",
            "Successfully fetched https://www.churchofjesuschrist.org/study/general-conference/2013/10/the-sustaining-of-church-officers?lang=eng\n",
            "Successfully fetched https://www.churchofjesuschrist.org/study/general-conference/2014/04/sisterhood-oh-how-we-need-each-other?lang=eng\n"
          ]
        },
        {
          "output_type": "stream",
          "name": "stderr",
          "text": [
            "\rScraping talks in parallel:  20%|██        | 824/4112 [01:19<04:31, 12.13it/s]"
          ]
        },
        {
          "output_type": "stream",
          "name": "stdout",
          "text": [
            "Successfully fetched https://www.churchofjesuschrist.org/study/general-conference/2013/10/saturday-morning-session?lang=eng\n",
            "Successfully fetched https://www.churchofjesuschrist.org/study/general-conference/2014/04/until-we-meet-again?lang=eng\n"
          ]
        },
        {
          "output_type": "stream",
          "name": "stderr",
          "text": [
            "\rScraping talks in parallel:  20%|██        | 826/4112 [01:20<04:45, 11.51it/s]"
          ]
        },
        {
          "output_type": "stream",
          "name": "stdout",
          "text": [
            "Successfully fetched https://www.churchofjesuschrist.org/study/general-conference/2013/10/wilt-thou-be-made-whole?lang=engSuccessfully fetched https://www.churchofjesuschrist.org/study/general-conference/2013/10/be-ye-converted?lang=eng\n",
            "Successfully fetched https://www.churchofjesuschrist.org/study/general-conference/2013/10/continually-holding-fast?lang=eng\n",
            "\n"
          ]
        },
        {
          "output_type": "stream",
          "name": "stderr",
          "text": [
            "Scraping talks in parallel:  20%|██        | 830/4112 [01:20<05:05, 10.73it/s]"
          ]
        },
        {
          "output_type": "stream",
          "name": "stdout",
          "text": [
            "Successfully fetched https://www.churchofjesuschrist.org/study/general-conference/2013/10/we-have-great-reason-to-rejoice?lang=eng\n",
            "Successfully fetched https://www.churchofjesuschrist.org/study/general-conference/2013/10/bind-up-their-wounds?lang=eng\n",
            "Successfully fetched https://www.churchofjesuschrist.org/study/general-conference/2013/10/true-shepherds?lang=eng\n",
            "Successfully fetched https://www.churchofjesuschrist.org/study/general-conference/2013/10/the-strength-to-endure?lang=eng\n"
          ]
        },
        {
          "output_type": "stream",
          "name": "stderr",
          "text": [
            "Scraping talks in parallel:  20%|██        | 834/4112 [01:21<06:49,  8.01it/s]"
          ]
        },
        {
          "output_type": "stream",
          "name": "stdout",
          "text": [
            "Successfully fetched https://www.churchofjesuschrist.org/study/general-conference/2013/10/the-windows-of-heaven?lang=eng\n",
            "Successfully fetched https://www.churchofjesuschrist.org/study/general-conference/2013/10/we-never-walk-alone?lang=eng\n",
            "Successfully fetched https://www.churchofjesuschrist.org/study/general-conference/2013/10/look-up?lang=eng\n",
            "Successfully fetched https://www.churchofjesuschrist.org/study/general-conference/2013/10/general-conference-strengthening-faith-and-testimony?lang=eng\n",
            "Successfully fetched https://www.churchofjesuschrist.org/study/general-conference/2013/10/personal-strength-through-the-atonement-of-jesus-christ?lang=eng\n",
            "Successfully fetched https://www.churchofjesuschrist.org/study/general-conference/2013/10/the-doctrines-and-principles-contained-in-the-articles-of-faith?lang=eng\n",
            "Successfully fetched https://www.churchofjesuschrist.org/study/general-conference/2013/10/the-moral-force-of-women?lang=eng\n"
          ]
        },
        {
          "output_type": "stream",
          "name": "stderr",
          "text": [
            "\rScraping talks in parallel:  20%|██        | 840/4112 [01:21<05:36,  9.73it/s]"
          ]
        },
        {
          "output_type": "stream",
          "name": "stdout",
          "text": [
            "Successfully fetched https://www.churchofjesuschrist.org/study/general-conference/2013/10/claim-the-blessings-of-your-covenants?lang=eng\n",
            "Successfully fetched https://www.churchofjesuschrist.org/study/general-conference/2013/10/i-will-not-fail-thee-nor-forsake-thee?lang=eng\n",
            "Successfully fetched https://www.churchofjesuschrist.org/study/general-conference/2013/10/the-power-joy-and-love-of-covenant-keeping?lang=eng\n",
            "Successfully fetched https://www.churchofjesuschrist.org/study/general-conference/2013/10/you-can-do-it-now?lang=eng\n"
          ]
        },
        {
          "output_type": "stream",
          "name": "stderr",
          "text": [
            "\rScraping talks in parallel:  20%|██        | 842/4112 [01:22<08:04,  6.75it/s]"
          ]
        },
        {
          "output_type": "stream",
          "name": "stdout",
          "text": [
            "Successfully fetched https://www.churchofjesuschrist.org/study/general-conference/2013/10/hastening-the-lords-game-plan?lang=eng\n",
            "Successfully fetched https://www.churchofjesuschrist.org/study/general-conference/2013/10/no-other-gods?lang=eng\n"
          ]
        },
        {
          "output_type": "stream",
          "name": "stderr",
          "text": [
            "Scraping talks in parallel:  21%|██        | 848/4112 [01:22<04:54, 11.10it/s]"
          ]
        },
        {
          "output_type": "stream",
          "name": "stdout",
          "text": [
            "Successfully fetched https://www.churchofjesuschrist.org/study/general-conference/2013/10/be-meek-and-lowly-of-heart?lang=eng\n",
            "Successfully fetched https://www.churchofjesuschrist.org/study/general-conference/2013/10/come-join-with-us?lang=eng\n",
            "Successfully fetched https://www.churchofjesuschrist.org/study/general-conference/2013/10/put-your-trust-in-the-lord?lang=eng\n",
            "Successfully fetched https://www.churchofjesuschrist.org/study/general-conference/2013/10/like-a-broken-vessel?lang=eng\n"
          ]
        },
        {
          "output_type": "stream",
          "name": "stderr",
          "text": [
            "\rScraping talks in parallel:  21%|██        | 850/4112 [01:22<05:12, 10.44it/s]"
          ]
        },
        {
          "output_type": "stream",
          "name": "stdout",
          "text": [
            "Successfully fetched https://www.churchofjesuschrist.org/study/general-conference/2013/10/to-my-grandchildren?lang=eng\n"
          ]
        },
        {
          "output_type": "stream",
          "name": "stderr",
          "text": [
            "Scraping talks in parallel:  21%|██        | 857/4112 [01:23<04:19, 12.56it/s]"
          ]
        },
        {
          "output_type": "stream",
          "name": "stdout",
          "text": [
            "Successfully fetched https://www.churchofjesuschrist.org/study/general-conference/2013/10/till-we-meet-again?lang=eng\n",
            "Successfully fetched https://www.churchofjesuschrist.org/study/general-conference/2013/10/teaching-with-the-power-and-authority-of-god?lang=eng\n",
            "Successfully fetched https://www.churchofjesuschrist.org/study/general-conference/2013/10/welcome-to-conference?lang=eng\n"
          ]
        },
        {
          "output_type": "stream",
          "name": "stderr",
          "text": [
            "\rScraping talks in parallel:  21%|██        | 860/4112 [01:23<03:37, 14.97it/s]"
          ]
        },
        {
          "output_type": "stream",
          "name": "stdout",
          "text": [
            "Successfully fetched https://www.churchofjesuschrist.org/study/general-conference/2013/10/decisions-for-eternity?lang=eng\n",
            "Successfully fetched https://www.churchofjesuschrist.org/study/general-conference/2013/10/the-key-to-spiritual-protection?lang=eng\n",
            "Successfully fetched https://www.churchofjesuschrist.org/study/general-conference/2013/10/ye-are-no-more-strangers?lang=eng\n",
            "Successfully fetched https://www.churchofjesuschrist.org/study/general-conference/2013/10/power-in-the-priesthood?lang=eng\n",
            "Successfully fetched https://www.churchofjesuschrist.org/study/general-conference/2013/10/look-ahead-and-believe?lang=eng\n",
            "Successfully fetched https://www.churchofjesuschrist.org/study/general-conference/2013/10/small-and-simple-things?lang=eng\n",
            "Successfully fetched https://www.churchofjesuschrist.org/study/general-conference/2013/10/do-we-know-what-we-have?lang=eng\n",
            "Successfully fetched https://www.churchofjesuschrist.org/study/general-conference/2013/10/drawing-closer-to-god?lang=eng\n"
          ]
        },
        {
          "output_type": "stream",
          "name": "stderr",
          "text": [
            "\rScraping talks in parallel:  21%|██        | 863/4112 [01:24<06:44,  8.03it/s]"
          ]
        },
        {
          "output_type": "stream",
          "name": "stdout",
          "text": [
            "Successfully fetched https://www.churchofjesuschrist.org/study/general-conference/2013/04/its-a-miracle?lang=engSuccessfully fetched https://www.churchofjesuschrist.org/study/general-conference/2013/10/called-of-him-to-declare-his-word?lang=eng\n",
            "\n",
            "Successfully fetched https://www.churchofjesuschrist.org/study/general-conference/2013/04/catch-the-wave?lang=eng\n",
            "Successfully fetched https://www.churchofjesuschrist.org/study/general-conference/2013/10/lamentations-of-jeremiah-beware-of-bondage?lang=eng\n"
          ]
        },
        {
          "output_type": "stream",
          "name": "stderr",
          "text": [
            "\rScraping talks in parallel:  21%|██        | 870/4112 [01:24<04:30, 11.98it/s]"
          ]
        },
        {
          "output_type": "stream",
          "name": "stdout",
          "text": [
            "Successfully fetched https://www.churchofjesuschrist.org/study/general-conference/2013/04/your-wonderful-journey-home?lang=eng\n",
            "Successfully fetched https://www.churchofjesuschrist.org/study/general-conference/2013/04/the-lords-way?lang=eng\n",
            "Successfully fetched https://www.churchofjesuschrist.org/study/general-conference/2013/04/the-power-of-the-priesthood-in-the-boy?lang=eng\n",
            "Successfully fetched https://www.churchofjesuschrist.org/study/general-conference/2013/04/personal-peace-the-reward-of-righteousness?lang=eng\n",
            "Successfully fetched https://www.churchofjesuschrist.org/study/general-conference/2013/04/saturday-morning-session?lang=eng\n",
            "Successfully fetched https://www.churchofjesuschrist.org/study/general-conference/2013/04/marriage-watch-and-learn?lang=eng\n",
            "Successfully fetched https://www.churchofjesuschrist.org/study/general-conference/2013/04/this-is-my-work-and-glory?lang=eng\n",
            "Successfully fetched https://www.churchofjesuschrist.org/study/general-conference/2013/04/the-father-and-the-son?lang=engSuccessfully fetched https://www.churchofjesuschrist.org/study/general-conference/2013/04/stand-strong-in-holy-places?lang=eng\n",
            "\n",
            "Successfully fetched https://www.churchofjesuschrist.org/study/general-conference/2013/04/a-sure-foundation?lang=eng\n",
            "Successfully fetched https://www.churchofjesuschrist.org/study/general-conference/2013/04/church-auditing-department-report-2012?lang=eng\n",
            "Successfully fetched https://www.churchofjesuschrist.org/study/general-conference/2013/04/we-are-one?lang=eng\n",
            "Successfully fetched https://www.churchofjesuschrist.org/study/general-conference/2013/04/the-savior-wants-to-forgive?lang=eng\n",
            "Successfully fetched https://www.churchofjesuschrist.org/study/general-conference/2013/04/the-home-the-school-of-life?lang=eng\n"
          ]
        },
        {
          "output_type": "stream",
          "name": "stderr",
          "text": [
            "Scraping talks in parallel:  22%|██▏       | 885/4112 [01:26<03:55, 13.71it/s]"
          ]
        },
        {
          "output_type": "stream",
          "name": "stdout",
          "text": [
            "Successfully fetched https://www.churchofjesuschrist.org/study/general-conference/2013/04/beautiful-mornings?lang=eng\n"
          ]
        },
        {
          "output_type": "stream",
          "name": "stderr",
          "text": [
            "\rScraping talks in parallel:  22%|██▏       | 888/4112 [01:26<03:58, 13.54it/s]"
          ]
        },
        {
          "output_type": "stream",
          "name": "stdout",
          "text": [
            "Successfully fetched https://www.churchofjesuschrist.org/study/general-conference/2013/04/these-things-i-know?lang=eng\n",
            "Successfully fetched https://www.churchofjesuschrist.org/study/general-conference/2013/04/lord-i-believe?lang=eng\n",
            "Successfully fetched https://www.churchofjesuschrist.org/study/general-conference/2013/04/your-holy-places?lang=eng\n",
            "Successfully fetched https://www.churchofjesuschrist.org/study/general-conference/2013/04/the-words-we-speak?lang=eng\n",
            "Successfully fetched https://www.churchofjesuschrist.org/study/general-conference/2013/04/welcome-to-conference?lang=eng\n"
          ]
        },
        {
          "output_type": "stream",
          "name": "stderr",
          "text": [
            "\rScraping talks in parallel:  22%|██▏       | 891/4112 [01:26<03:48, 14.10it/s]"
          ]
        },
        {
          "output_type": "stream",
          "name": "stdout",
          "text": [
            "Successfully fetched https://www.churchofjesuschrist.org/study/general-conference/2013/04/redemption?lang=eng\n",
            "Successfully fetched https://www.churchofjesuschrist.org/study/general-conference/2013/04/the-hope-of-gods-light?lang=eng\n"
          ]
        },
        {
          "output_type": "stream",
          "name": "stderr",
          "text": [
            "\rScraping talks in parallel:  22%|██▏       | 893/4112 [01:26<04:49, 11.11it/s]"
          ]
        },
        {
          "output_type": "stream",
          "name": "stdout",
          "text": [
            "Successfully fetched https://www.churchofjesuschrist.org/study/general-conference/2013/04/being-accepted-of-the-lord?lang=eng\n",
            "Successfully fetched https://www.churchofjesuschrist.org/study/general-conference/2013/04/come-unto-me?lang=eng\n",
            "Successfully fetched https://www.churchofjesuschrist.org/study/general-conference/2013/04/your-sacred-duty-to-minister?lang=eng\n",
            "Successfully fetched https://www.churchofjesuschrist.org/study/general-conference/2013/04/we-are-daughters-of-our-heavenly-father?lang=eng\n",
            "Successfully fetched https://www.churchofjesuschrist.org/study/general-conference/2013/04/until-we-meet-again?lang=eng\n",
            "Successfully fetched https://www.churchofjesuschrist.org/study/general-conference/2013/04/for-peace-at-home?lang=eng\n",
            "Successfully fetched https://www.churchofjesuschrist.org/study/general-conference/2013/04/obedience-to-law-is-liberty?lang=eng\n",
            "Successfully fetched https://www.churchofjesuschrist.org/study/general-conference/2013/04/four-titles?lang=eng\n",
            "Successfully fetched https://www.churchofjesuschrist.org/study/general-conference/2013/04/come-all-ye-sons-of-god?lang=eng\n",
            "Successfully fetched https://www.churchofjesuschrist.org/study/general-conference/2013/04/statistical-report-2012?lang=eng\n"
          ]
        },
        {
          "output_type": "stream",
          "name": "stderr",
          "text": [
            "Scraping talks in parallel:  22%|██▏       | 898/4112 [01:27<05:10, 10.36it/s]"
          ]
        },
        {
          "output_type": "stream",
          "name": "stdout",
          "text": [
            "Successfully fetched https://www.churchofjesuschrist.org/study/general-conference/2013/04/the-gospel-to-all-the-world?lang=eng\n"
          ]
        },
        {
          "output_type": "stream",
          "name": "stderr",
          "text": [
            "\rScraping talks in parallel:  22%|██▏       | 900/4112 [01:27<05:26,  9.83it/s]"
          ]
        },
        {
          "output_type": "stream",
          "name": "stdout",
          "text": [
            "Successfully fetched https://www.churchofjesuschrist.org/study/general-conference/2013/04/obedience-brings-blessings?lang=eng\n",
            "Successfully fetched https://www.churchofjesuschrist.org/study/general-conference/2012/10/the-joy-of-redeeming-the-dead?lang=eng\n",
            "Successfully fetched https://www.churchofjesuschrist.org/study/general-conference/2013/04/when-you-save-a-girl-you-save-generations?lang=eng\n",
            "Successfully fetched https://www.churchofjesuschrist.org/study/general-conference/2013/04/followers-of-christ?lang=eng\n"
          ]
        },
        {
          "output_type": "stream",
          "name": "stderr",
          "text": [
            "\rScraping talks in parallel:  22%|██▏       | 907/4112 [01:28<04:06, 13.00it/s]"
          ]
        },
        {
          "output_type": "stream",
          "name": "stdout",
          "text": [
            "Successfully fetched https://www.churchofjesuschrist.org/study/general-conference/2013/04/we-believe-in-being-chaste?lang=eng\n",
            "Successfully fetched https://www.churchofjesuschrist.org/study/general-conference/2012/10/becoming-goodly-parents?lang=eng\n",
            "Successfully fetched https://www.churchofjesuschrist.org/study/general-conference/2013/04/be-not-moved?lang=engSuccessfully fetched https://www.churchofjesuschrist.org/study/general-conference/2012/10/because-i-live-ye-shall-live-also?lang=eng\n",
            "\n",
            "Successfully fetched https://www.churchofjesuschrist.org/study/general-conference/2013/04/the-sustaining-of-church-officers?lang=eng\n",
            "Successfully fetched https://www.churchofjesuschrist.org/study/general-conference/2012/10/protect-the-children?lang=eng\n"
          ]
        },
        {
          "output_type": "stream",
          "name": "stderr",
          "text": [
            "\rScraping talks in parallel:  22%|██▏       | 909/4112 [01:28<04:36, 11.58it/s]"
          ]
        },
        {
          "output_type": "stream",
          "name": "stdout",
          "text": [
            "Successfully fetched https://www.churchofjesuschrist.org/study/general-conference/2012/10/being-a-more-christian-christian?lang=eng\n",
            "Successfully fetched https://www.churchofjesuschrist.org/study/general-conference/2012/10/the-lord-has-not-forgotten-you?lang=eng\n",
            "Successfully fetched https://www.churchofjesuschrist.org/study/general-conference/2012/10/the-joy-of-the-priesthood?lang=eng\n",
            "Successfully fetched https://www.churchofjesuschrist.org/study/general-conference/2012/10/god-be-with-you-till-we-meet-again?lang=eng\n",
            "Successfully fetched https://www.churchofjesuschrist.org/study/general-conference/2012/10/blessings-of-the-sacrament?lang=eng\n",
            "Successfully fetched https://www.churchofjesuschrist.org/study/general-conference/2012/10/see-others-as-they-may-become?lang=eng\n"
          ]
        },
        {
          "output_type": "stream",
          "name": "stderr",
          "text": [
            "\rScraping talks in parallel:  22%|██▏       | 915/4112 [01:28<04:46, 11.15it/s]"
          ]
        },
        {
          "output_type": "stream",
          "name": "stdout",
          "text": [
            "Successfully fetched https://www.churchofjesuschrist.org/study/general-conference/2012/10/temple-standard?lang=engSuccessfully fetched https://www.churchofjesuschrist.org/study/general-conference/2012/10/i-know-it-i-live-it-i-love-it?lang=eng\n",
            "\n",
            "Successfully fetched https://www.churchofjesuschrist.org/study/general-conference/2012/10/first-observe-then-serve?lang=eng\n",
            "Successfully fetched https://www.churchofjesuschrist.org/study/general-conference/2012/10/ask-the-missionaries-they-can-help-you?lang=eng\n",
            "Successfully fetched https://www.churchofjesuschrist.org/study/general-conference/2012/10/is-faith-in-the-atonement-of-jesus-christ-written-in-our-hearts?lang=eng\n"
          ]
        },
        {
          "output_type": "stream",
          "name": "stderr",
          "text": [
            "\rScraping talks in parallel:  22%|██▏       | 919/4112 [01:29<04:30, 11.81it/s]"
          ]
        },
        {
          "output_type": "stream",
          "name": "stdout",
          "text": [
            "Successfully fetched https://www.churchofjesuschrist.org/study/general-conference/2012/10/of-regrets-and-resolutions?lang=eng\n",
            "Successfully fetched https://www.churchofjesuschrist.org/study/general-conference/2012/10/the-first-great-commandment?lang=eng\n",
            "Successfully fetched https://www.churchofjesuschrist.org/study/general-conference/2012/10/brethren-we-have-work-to-do?lang=eng\n"
          ]
        },
        {
          "output_type": "stream",
          "name": "stderr",
          "text": [
            "\rScraping talks in parallel:  22%|██▏       | 922/4112 [01:29<04:07, 12.88it/s]"
          ]
        },
        {
          "output_type": "stream",
          "name": "stdout",
          "text": [
            "Successfully fetched https://www.churchofjesuschrist.org/study/general-conference/2012/10/where-is-the-pavilion?lang=engSuccessfully fetched https://www.churchofjesuschrist.org/study/general-conference/2012/10/one-step-closer-to-the-savior?lang=eng\n",
            "\n",
            "Successfully fetched https://www.churchofjesuschrist.org/study/general-conference/2012/10/can-ye-feel-so-now?lang=eng\n",
            "Successfully fetched https://www.churchofjesuschrist.org/study/general-conference/2012/10/be-valiant-in-courage-strength-and-activity?lang=engSuccessfully fetched https://www.churchofjesuschrist.org/study/general-conference/2012/10/by-faith-all-things-are-fulfilled?lang=eng\n",
            "\n",
            "Successfully fetched https://www.churchofjesuschrist.org/study/general-conference/2012/10/converted-unto-the-lord?lang=eng\n"
          ]
        },
        {
          "output_type": "stream",
          "name": "stderr",
          "text": [
            "Scraping talks in parallel:  23%|██▎       | 936/4112 [01:30<03:10, 16.67it/s]"
          ]
        },
        {
          "output_type": "stream",
          "name": "stdout",
          "text": [
            "Successfully fetched https://www.churchofjesuschrist.org/study/general-conference/2012/10/what-shall-a-man-give-in-exchange-for-his-soul?lang=eng\n",
            "Successfully fetched https://www.churchofjesuschrist.org/study/general-conference/2012/10/becoming-a-true-disciple?lang=eng\n",
            "Successfully fetched https://www.churchofjesuschrist.org/study/general-conference/2012/10/the-atonement?lang=eng\n",
            "Successfully fetched https://www.churchofjesuschrist.org/study/general-conference/2012/10/trial-of-your-faith?lang=eng\n",
            "Successfully fetched https://www.churchofjesuschrist.org/study/general-conference/2012/10/welcome-to-conference?lang=eng\n"
          ]
        },
        {
          "output_type": "stream",
          "name": "stderr",
          "text": [
            "\rScraping talks in parallel:  23%|██▎       | 939/4112 [01:30<04:07, 12.83it/s]"
          ]
        },
        {
          "output_type": "stream",
          "name": "stdout",
          "text": [
            "Successfully fetched https://www.churchofjesuschrist.org/study/general-conference/2012/10/the-caregiver?lang=eng\n",
            "Successfully fetched https://www.churchofjesuschrist.org/study/general-conference/2012/10/consider-the-blessings?lang=eng\n",
            "Successfully fetched https://www.churchofjesuschrist.org/study/general-conference/2012/10/come-unto-me-o-ye-house-of-israel?lang=eng\n",
            "Successfully fetched https://www.churchofjesuschrist.org/study/general-conference/2012/10/help-them-aim-high?lang=eng\n",
            "Successfully fetched https://www.churchofjesuschrist.org/study/general-conference/2012/10/learning-with-our-hearts?lang=eng\n",
            "Successfully fetched https://www.churchofjesuschrist.org/study/general-conference/2012/10/be-anxiously-engaged?lang=eng\n",
            "Successfully fetched https://www.churchofjesuschrist.org/study/general-conference/2012/04/in-tune-with-the-music-of-faith?lang=eng\n",
            "Successfully fetched https://www.churchofjesuschrist.org/study/general-conference/2012/04/the-merciful-obtain-mercy?lang=eng\n"
          ]
        },
        {
          "output_type": "stream",
          "name": "stderr",
          "text": [
            "\rScraping talks in parallel:  23%|██▎       | 942/4112 [01:31<06:29,  8.15it/s]"
          ]
        },
        {
          "output_type": "stream",
          "name": "stdout",
          "text": [
            "Successfully fetched https://www.churchofjesuschrist.org/study/general-conference/2012/10/saturday-morning-session?lang=eng\n",
            "Successfully fetched https://www.churchofjesuschrist.org/study/general-conference/2012/10/the-sustaining-of-church-officers?lang=eng\n",
            "Successfully fetched https://www.churchofjesuschrist.org/study/general-conference/2012/04/the-powers-of-heaven?lang=eng\n",
            "Successfully fetched https://www.churchofjesuschrist.org/study/general-conference/2012/04/that-the-lost-may-be-found?lang=eng\n",
            "Successfully fetched https://www.churchofjesuschrist.org/study/general-conference/2012/10/an-unspeakable-gift-from-god?lang=eng\n",
            "Successfully fetched https://www.churchofjesuschrist.org/study/general-conference/2012/10/beware-concerning-yourselves?lang=eng\n",
            "Successfully fetched https://www.churchofjesuschrist.org/study/general-conference/2012/10/wide-awake-to-our-duties?lang=eng\n",
            "Successfully fetched https://www.churchofjesuschrist.org/study/general-conference/2012/04/believe-obey-and-endure?lang=eng\n"
          ]
        },
        {
          "output_type": "stream",
          "name": "stderr",
          "text": [
            "Scraping talks in parallel:  23%|██▎       | 955/4112 [01:32<03:43, 14.13it/s]"
          ]
        },
        {
          "output_type": "stream",
          "name": "stdout",
          "text": [
            "Successfully fetched https://www.churchofjesuschrist.org/study/general-conference/2012/04/as-we-gather-once-again?lang=eng\n",
            "Successfully fetched https://www.churchofjesuschrist.org/study/general-conference/2012/04/the-vision-of-prophets-regarding-relief-society-faith-family-relief?lang=eng\n",
            "Successfully fetched https://www.churchofjesuschrist.org/study/general-conference/2012/04/the-why-of-priesthood-service?lang=eng\n",
            "Successfully fetched https://www.churchofjesuschrist.org/study/general-conference/2012/04/thanks-be-to-god?lang=eng\n",
            "Successfully fetched https://www.churchofjesuschrist.org/study/general-conference/2012/04/arise-and-shine-forth?lang=eng\n",
            "Successfully fetched https://www.churchofjesuschrist.org/study/general-conference/2012/04/how-to-obtain-revelation-and-inspiration-for-your-personal-life?lang=eng\n",
            "Successfully fetched https://www.churchofjesuschrist.org/study/general-conference/2012/04/the-power-of-deliverance?lang=eng\n",
            "Successfully fetched https://www.churchofjesuschrist.org/study/general-conference/2012/04/sacrifice?lang=eng\n",
            "Successfully fetched https://www.churchofjesuschrist.org/study/general-conference/2012/04/what-thinks-christ-of-me?lang=eng\n",
            "Successfully fetched https://www.churchofjesuschrist.org/study/general-conference/2012/04/saturday-morning-session?lang=eng\n"
          ]
        },
        {
          "output_type": "stream",
          "name": "stderr",
          "text": [
            "\rScraping talks in parallel:  23%|██▎       | 958/4112 [01:32<05:09, 10.19it/s]"
          ]
        },
        {
          "output_type": "stream",
          "name": "stdout",
          "text": [
            "Successfully fetched https://www.churchofjesuschrist.org/study/general-conference/2012/04/faith-fortitude-fulfillment-a-message-to-single-parents?lang=eng\n",
            "Successfully fetched https://www.churchofjesuschrist.org/study/general-conference/2012/04/only-upon-the-principles-of-righteousness?lang=eng\n",
            "Successfully fetched https://www.churchofjesuschrist.org/study/general-conference/2012/04/the-race-of-life?lang=eng\n",
            "Successfully fetched https://www.churchofjesuschrist.org/study/general-conference/2012/04/teaching-our-children-to-understand?lang=eng\n",
            "Successfully fetched https://www.churchofjesuschrist.org/study/general-conference/2012/04/seek-learning-you-have-a-work-to-do?lang=eng\n",
            "Successfully fetched https://www.churchofjesuschrist.org/study/general-conference/2012/04/the-laborers-in-the-vineyard?lang=eng\n",
            "Successfully fetched https://www.churchofjesuschrist.org/study/general-conference/2012/04/willing-and-worthy-to-serve?lang=eng\n",
            "Successfully fetched https://www.churchofjesuschrist.org/study/general-conference/2012/04/the-rescue-for-real-growth?lang=eng\n",
            "Successfully fetched https://www.churchofjesuschrist.org/study/general-conference/2012/04/now-is-the-time-to-arise-and-shine?lang=eng\n",
            "Successfully fetched https://www.churchofjesuschrist.org/study/general-conference/2012/04/having-the-vision-to-do?lang=eng\n",
            "Successfully fetched https://www.churchofjesuschrist.org/study/general-conference/2012/04/the-doctrine-of-christ?lang=eng\n",
            "Successfully fetched https://www.churchofjesuschrist.org/study/general-conference/2012/04/was-it-worth-it?lang=engSuccessfully fetched https://www.churchofjesuschrist.org/study/general-conference/2012/04/statistical-report-2011?lang=eng\n",
            "\n",
            "Successfully fetched https://www.churchofjesuschrist.org/study/general-conference/2012/04/families-under-covenant?lang=eng\n",
            "Successfully fetched https://www.churchofjesuschrist.org/study/general-conference/2012/04/coming-to-ourselves-the-sacrament-the-temple-and-sacrifice-in-service?lang=eng\n",
            "Successfully fetched https://www.churchofjesuschrist.org/study/general-conference/2012/04/aaronic-priesthood-arise-and-use-the-power-of-god?lang=eng\n",
            "Successfully fetched https://www.churchofjesuschrist.org/study/general-conference/2012/04/church-auditing-department-report-2011?lang=eng\n"
          ]
        },
        {
          "output_type": "stream",
          "name": "stderr",
          "text": [
            "\rScraping talks in parallel:  23%|██▎       | 961/4112 [01:34<11:51,  4.43it/s]"
          ]
        },
        {
          "output_type": "stream",
          "name": "stdout",
          "text": [
            "Successfully fetched https://www.churchofjesuschrist.org/study/general-conference/2012/04/the-sustaining-of-church-officers?lang=eng\n",
            "Successfully fetched https://www.churchofjesuschrist.org/study/general-conference/2012/04/to-hold-sacred?lang=eng\n",
            "Successfully fetched https://www.churchofjesuschrist.org/study/general-conference/2012/04/converted-to-his-gospel-through-his-church?lang=eng\n"
          ]
        },
        {
          "output_type": "stream",
          "name": "stderr",
          "text": [
            "\rScraping talks in parallel:  24%|██▍       | 983/4112 [01:35<04:01, 12.94it/s]"
          ]
        },
        {
          "output_type": "stream",
          "name": "stdout",
          "text": [
            "Successfully fetched https://www.churchofjesuschrist.org/study/general-conference/2012/04/mountains-to-climb?lang=eng\n",
            "Successfully fetched https://www.churchofjesuschrist.org/study/general-conference/2012/04/abide-in-the-lords-territory?lang=eng\n",
            "Successfully fetched https://www.churchofjesuschrist.org/study/general-conference/2012/04/he-truly-loves-us?lang=eng\n",
            "Successfully fetched https://www.churchofjesuschrist.org/study/general-conference/2012/04/special-lessons?lang=eng\n",
            "Successfully fetched https://www.churchofjesuschrist.org/study/general-conference/2011/10/covenants?lang=eng\n",
            "Successfully fetched https://www.churchofjesuschrist.org/study/general-conference/2011/10/teachings-of-jesus?lang=eng\n",
            "Successfully fetched https://www.churchofjesuschrist.org/study/general-conference/2011/10/missionaries-are-a-treasure-of-the-church?lang=eng\n",
            "Successfully fetched https://www.churchofjesuschrist.org/study/general-conference/2011/10/the-opportunity-of-a-lifetime?lang=eng\n",
            "Successfully fetched https://www.churchofjesuschrist.org/study/general-conference/2011/10/providing-in-the-lords-way?lang=eng\n",
            "Successfully fetched https://www.churchofjesuschrist.org/study/general-conference/2012/04/and-a-little-child-shall-lead-them?lang=eng\n",
            "Successfully fetched https://www.churchofjesuschrist.org/study/general-conference/2011/10/the-book-of-mormon-a-book-from-god?lang=eng\n",
            "Successfully fetched https://www.churchofjesuschrist.org/study/general-conference/2011/10/a-time-to-prepare?lang=eng\n",
            "Successfully fetched https://www.churchofjesuschrist.org/study/general-conference/2012/04/as-we-close-this-conference?lang=eng\n",
            "Successfully fetched https://www.churchofjesuschrist.org/study/general-conference/2011/10/dare-to-stand-alone?lang=eng\n"
          ]
        },
        {
          "output_type": "stream",
          "name": "stderr",
          "text": [
            "Scraping talks in parallel:  24%|██▍       | 1000/4112 [01:36<03:38, 14.25it/s]"
          ]
        },
        {
          "output_type": "stream",
          "name": "stdout",
          "text": [
            "Successfully fetched https://www.churchofjesuschrist.org/study/general-conference/2011/10/the-power-of-the-aaronic-priesthood?lang=eng\n",
            "Successfully fetched https://www.churchofjesuschrist.org/study/general-conference/2011/10/personal-revelation-and-testimony?lang=eng\n",
            "Successfully fetched https://www.churchofjesuschrist.org/study/general-conference/2011/10/as-we-meet-again?lang=engSuccessfully fetched https://www.churchofjesuschrist.org/study/general-conference/2011/10/the-divine-gift-of-repentance?lang=eng\n",
            "\n",
            "Successfully fetched https://www.churchofjesuschrist.org/study/general-conference/2011/10/children?lang=eng\n",
            "Successfully fetched https://www.churchofjesuschrist.org/study/general-conference/2011/10/the-songs-they-could-not-sing?lang=eng\n",
            "Successfully fetched https://www.churchofjesuschrist.org/study/general-conference/2011/10/until-we-meet-again?lang=eng\n",
            "Successfully fetched https://www.churchofjesuschrist.org/study/general-conference/2011/10/what-i-hope-my-granddaughters-and-grandsons-will-understand-about-relief-society?lang=engSuccessfully fetched https://www.churchofjesuschrist.org/study/general-conference/2011/10/perfect-love-casteth-out-fear?lang=eng\n",
            "\n",
            "Successfully fetched https://www.churchofjesuschrist.org/study/general-conference/2011/10/counsel-to-youth?lang=eng\n",
            "Successfully fetched https://www.churchofjesuschrist.org/study/general-conference/2011/10/saturday-morning-session?lang=eng"
          ]
        },
        {
          "output_type": "stream",
          "name": "stderr",
          "text": [
            "\rScraping talks in parallel:  24%|██▍       | 1006/4112 [01:37<05:15,  9.85it/s]"
          ]
        },
        {
          "output_type": "stream",
          "name": "stdout",
          "text": [
            "\n",
            "Successfully fetched https://www.churchofjesuschrist.org/study/general-conference/2011/10/redemption?lang=eng\n",
            "Successfully fetched https://www.churchofjesuschrist.org/study/general-conference/2011/10/stand-in-holy-places?lang=eng\n",
            "Successfully fetched https://www.churchofjesuschrist.org/study/general-conference/2011/10/charity-never-faileth?lang=eng\n",
            "Successfully fetched https://www.churchofjesuschrist.org/study/general-conference/2011/10/it-is-better-to-look-up?lang=eng\n",
            "Successfully fetched https://www.churchofjesuschrist.org/study/general-conference/2011/10/the-sustaining-of-church-officers?lang=eng\n",
            "Successfully fetched https://www.churchofjesuschrist.org/study/general-conference/2011/10/the-importance-of-a-name?lang=eng\n"
          ]
        },
        {
          "output_type": "stream",
          "name": "stderr",
          "text": [
            "\rScraping talks in parallel:  25%|██▍       | 1013/4112 [01:38<04:43, 10.92it/s]"
          ]
        },
        {
          "output_type": "stream",
          "name": "stdout",
          "text": [
            "Successfully fetched https://www.churchofjesuschrist.org/study/general-conference/2011/10/forget-me-not?lang=eng\n",
            "Successfully fetched https://www.churchofjesuschrist.org/study/general-conference/2011/10/teaching-after-the-manner-of-the-spirit?lang=eng\n",
            "Successfully fetched https://www.churchofjesuschrist.org/study/general-conference/2011/10/the-power-of-scripture?lang=eng\n",
            "Successfully fetched https://www.churchofjesuschrist.org/study/general-conference/2011/10/the-privilege-of-prayer?lang=eng\n",
            "Successfully fetched https://www.churchofjesuschrist.org/study/general-conference/2011/10/doing-the-right-thing-at-the-right-time-without-delay?lang=eng\n",
            "Successfully fetched https://www.churchofjesuschrist.org/study/general-conference/2011/10/the-time-shall-come?lang=eng\n",
            "Successfully fetched https://www.churchofjesuschrist.org/study/general-conference/2011/10/waiting-upon-the-lord-thy-will-be-done?lang=eng\n",
            "Successfully fetched https://www.churchofjesuschrist.org/study/general-conference/2011/10/a-witness?lang=eng\n",
            "Successfully fetched https://www.churchofjesuschrist.org/study/general-conference/2011/10/preparation-in-the-priesthood-i-need-your-help?lang=eng\n",
            "Successfully fetched https://www.churchofjesuschrist.org/study/general-conference/2011/10/you-matter-to-him?lang=eng\n",
            "Successfully fetched https://www.churchofjesuschrist.org/study/general-conference/2011/10/choose-eternal-life?lang=eng\n",
            "Successfully fetched https://www.churchofjesuschrist.org/study/general-conference/2011/04/establishing-a-christ-centered-home?lang=eng\n",
            "Successfully fetched https://www.churchofjesuschrist.org/study/general-conference/2011/10/love-her-mother?lang=eng\n",
            "Successfully fetched https://www.churchofjesuschrist.org/study/general-conference/2011/04/hope?lang=eng\n",
            "Successfully fetched https://www.churchofjesuschrist.org/study/general-conference/2011/04/your-potential-your-privilege?lang=eng\n",
            "Successfully fetched https://www.churchofjesuschrist.org/study/general-conference/2011/04/preparing-the-world-for-the-second-coming?lang=eng\n",
            "Successfully fetched https://www.churchofjesuschrist.org/study/general-conference/2011/04/the-lords-richest-blessings?lang=eng\n",
            "Successfully fetched https://www.churchofjesuschrist.org/study/general-conference/2011/04/remember-this-kindness-begins-with-me?lang=eng\n",
            "Successfully fetched https://www.churchofjesuschrist.org/study/general-conference/2011/04/become-as-a-little-child?lang=eng\n",
            "Successfully fetched https://www.churchofjesuschrist.org/study/general-conference/2011/10/we-are-all-enlisted?lang=eng\n",
            "Successfully fetched https://www.churchofjesuschrist.org/study/general-conference/2011/04/guided-by-the-holy-spirit?lang=eng\n",
            "Successfully fetched https://www.churchofjesuschrist.org/study/general-conference/2011/04/saturday-morning-session?lang=eng\n"
          ]
        },
        {
          "output_type": "stream",
          "name": "stderr",
          "text": [
            "\rScraping talks in parallel:  25%|██▍       | 1017/4112 [01:40<08:41,  5.94it/s]"
          ]
        },
        {
          "output_type": "stream",
          "name": "stdout",
          "text": [
            "Successfully fetched https://www.churchofjesuschrist.org/study/general-conference/2011/04/i-believe-in-being-honest-and-true?lang=eng\n",
            "Successfully fetched https://www.churchofjesuschrist.org/study/general-conference/2011/10/the-hearts-of-the-children-shall-turn?lang=eng\n",
            "Successfully fetched https://www.churchofjesuschrist.org/study/general-conference/2011/04/called-to-be-saints?lang=eng\n",
            "Successfully fetched https://www.churchofjesuschrist.org/study/general-conference/2011/04/priesthood-power?lang=eng\n",
            "Successfully fetched https://www.churchofjesuschrist.org/study/general-conference/2011/04/lds-women-are-incredible?lang=eng\n",
            "Successfully fetched https://www.churchofjesuschrist.org/study/general-conference/2011/04/testimony?lang=eng\n",
            "Successfully fetched https://www.churchofjesuschrist.org/study/general-conference/2011/10/cleave-unto-the-covenants?lang=eng\n",
            "Successfully fetched https://www.churchofjesuschrist.org/study/general-conference/2011/04/at-parting?lang=eng\n"
          ]
        },
        {
          "output_type": "stream",
          "name": "stderr",
          "text": [
            "\rScraping talks in parallel:  25%|██▌       | 1030/4112 [01:40<05:35,  9.20it/s]"
          ]
        },
        {
          "output_type": "stream",
          "name": "stdout",
          "text": [
            "Successfully fetched https://www.churchofjesuschrist.org/study/general-conference/2011/04/its-conference-once-again?lang=eng\n",
            "Successfully fetched https://www.churchofjesuschrist.org/study/general-conference/2011/04/church-auditing-department-report-2010?lang=eng\n",
            "Successfully fetched https://www.churchofjesuschrist.org/study/general-conference/2011/04/the-sustaining-of-church-officers?lang=eng\n"
          ]
        },
        {
          "output_type": "stream",
          "name": "stderr",
          "text": [
            "Scraping talks in parallel:  26%|██▌       | 1051/4112 [01:41<02:57, 17.25it/s]"
          ]
        },
        {
          "output_type": "stream",
          "name": "stdout",
          "text": [
            "Successfully fetched https://www.churchofjesuschrist.org/study/general-conference/2011/04/followers-of-christ?lang=eng\n",
            "Successfully fetched https://www.churchofjesuschrist.org/study/general-conference/2011/04/waiting-on-the-road-to-damascus?lang=eng\n",
            "Successfully fetched https://www.churchofjesuschrist.org/study/general-conference/2011/04/an-ensign-to-the-nations?lang=eng\n",
            "Successfully fetched https://www.churchofjesuschrist.org/study/general-conference/2011/04/the-miracle-of-the-atonement?lang=eng\n",
            "Successfully fetched https://www.churchofjesuschrist.org/study/general-conference/2011/04/sacred-keys-of-the-aaronic-priesthood?lang=eng\n",
            "Successfully fetched https://www.churchofjesuschrist.org/study/general-conference/2011/04/what-manner-of-men-and-women-ought-ye-to-be?lang=eng\n",
            "Successfully fetched https://www.churchofjesuschrist.org/study/general-conference/2011/04/opportunities-to-do-good?lang=eng\n",
            "Successfully fetched https://www.churchofjesuschrist.org/study/general-conference/2011/04/the-sabbath-and-the-sacrament?lang=eng\n",
            "Successfully fetched https://www.churchofjesuschrist.org/study/general-conference/2011/04/a-living-testimony?lang=eng\n",
            "Successfully fetched https://www.churchofjesuschrist.org/study/general-conference/2011/04/the-sanctifying-work-of-welfare?lang=eng\n"
          ]
        },
        {
          "output_type": "stream",
          "name": "stderr",
          "text": [
            "\rScraping talks in parallel:  26%|██▌       | 1056/4112 [01:41<03:52, 13.15it/s]"
          ]
        },
        {
          "output_type": "stream",
          "name": "stdout",
          "text": [
            "Successfully fetched https://www.churchofjesuschrist.org/study/general-conference/2011/04/the-holy-temple-a-beacon-to-the-world?lang=eng\n",
            "Successfully fetched https://www.churchofjesuschrist.org/study/general-conference/2011/04/desire?lang=eng\n",
            "Successfully fetched https://www.churchofjesuschrist.org/study/general-conference/2011/04/more-than-conquerors-through-him-that-loved-us?lang=eng\n",
            "Successfully fetched https://www.churchofjesuschrist.org/study/general-conference/2011/04/statistical-report-2010?lang=eng\n"
          ]
        },
        {
          "output_type": "stream",
          "name": "stderr",
          "text": [
            "\rScraping talks in parallel:  26%|██▌       | 1061/4112 [01:42<03:22, 15.08it/s]"
          ]
        },
        {
          "output_type": "stream",
          "name": "stdout",
          "text": [
            "Successfully fetched https://www.churchofjesuschrist.org/study/general-conference/2011/04/the-eternal-blessings-of-marriage?lang=eng\n",
            "Successfully fetched https://www.churchofjesuschrist.org/study/general-conference/2011/04/the-spirit-of-revelation?lang=eng\n",
            "Successfully fetched https://www.churchofjesuschrist.org/study/general-conference/2011/04/the-atonement-covers-all-pain?lang=eng\n",
            "Successfully fetched https://www.churchofjesuschrist.org/study/general-conference/2011/04/as-many-as-i-love-i-rebuke-and-chasten?lang=eng\n"
          ]
        },
        {
          "output_type": "stream",
          "name": "stderr",
          "text": [
            "\rScraping talks in parallel:  26%|██▌       | 1065/4112 [01:42<03:27, 14.71it/s]"
          ]
        },
        {
          "output_type": "stream",
          "name": "stdout",
          "text": [
            "Successfully fetched https://www.churchofjesuschrist.org/study/general-conference/2011/04/the-essence-of-discipleship?lang=eng\n",
            "Successfully fetched https://www.churchofjesuschrist.org/study/general-conference/2011/04/face-the-future-with-faith?lang=eng\n"
          ]
        },
        {
          "output_type": "stream",
          "name": "stderr",
          "text": [
            "\rScraping talks in parallel:  26%|██▌       | 1068/4112 [01:42<03:23, 14.94it/s]"
          ]
        },
        {
          "output_type": "stream",
          "name": "stdout",
          "text": [
            "Successfully fetched https://www.churchofjesuschrist.org/study/general-conference/2011/04/learning-in-the-priesthood?lang=eng\n",
            "Successfully fetched https://www.churchofjesuschrist.org/study/general-conference/2011/04/finding-joy-through-loving-service?lang=eng\n",
            "Successfully fetched https://www.churchofjesuschrist.org/study/general-conference/2011/04/guardians-of-virtue?lang=eng\n"
          ]
        },
        {
          "output_type": "stream",
          "name": "stderr",
          "text": [
            "Scraping talks in parallel:  26%|██▌       | 1074/4112 [01:42<03:05, 16.35it/s]"
          ]
        },
        {
          "output_type": "stream",
          "name": "stdout",
          "text": [
            "Successfully fetched https://www.churchofjesuschrist.org/study/general-conference/2010/10/never-leave-him?lang=eng\n",
            "Successfully fetched https://www.churchofjesuschrist.org/study/general-conference/2010/10/stay-on-the-path?lang=eng\n",
            "Successfully fetched https://www.churchofjesuschrist.org/study/general-conference/2010/10/rest-unto-your-souls?lang=eng\n",
            "Successfully fetched https://www.churchofjesuschrist.org/study/general-conference/2010/10/steadfast-and-immovable?lang=eng\n",
            "Successfully fetched https://www.churchofjesuschrist.org/study/general-conference/2010/10/the-sustaining-of-church-officers?lang=eng\n",
            "Successfully fetched https://www.churchofjesuschrist.org/study/general-conference/2010/10/trust-in-god-then-go-and-do?lang=eng\n"
          ]
        },
        {
          "output_type": "stream",
          "name": "stderr",
          "text": [
            "\rScraping talks in parallel:  26%|██▌       | 1077/4112 [01:43<04:26, 11.38it/s]"
          ]
        },
        {
          "output_type": "stream",
          "name": "stdout",
          "text": [
            "Successfully fetched https://www.churchofjesuschrist.org/study/general-conference/2010/10/the-divine-gift-of-gratitude?lang=eng\n",
            "Successfully fetched https://www.churchofjesuschrist.org/study/general-conference/2010/10/and-of-some-have-compassion-making-a-difference?lang=eng\n",
            "Successfully fetched https://www.churchofjesuschrist.org/study/general-conference/2010/10/gospel-learning-and-teaching?lang=eng\n",
            "Successfully fetched https://www.churchofjesuschrist.org/study/general-conference/2010/10/till-we-meet-again?lang=eng\n",
            "Successfully fetched https://www.churchofjesuschrist.org/study/general-conference/2010/10/let-there-be-light?lang=eng\n",
            "Successfully fetched https://www.churchofjesuschrist.org/study/general-conference/2010/10/of-things-that-matter-most?lang=engSuccessfully fetched https://www.churchofjesuschrist.org/study/general-conference/2010/10/daughters-in-my-kingdom-the-history-and-work-of-relief-society?lang=eng\n",
            "Successfully fetched https://www.churchofjesuschrist.org/study/general-conference/2010/10/the-transforming-power-of-faith-and-character?lang=eng\n",
            "\n",
            "Successfully fetched https://www.churchofjesuschrist.org/study/general-conference/2010/10/saturday-morning-session?lang=eng\n",
            "Successfully fetched https://www.churchofjesuschrist.org/study/general-conference/2010/10/two-lines-of-communication?lang=eng\n"
          ]
        },
        {
          "output_type": "stream",
          "name": "stderr",
          "text": [
            "\rScraping talks in parallel:  26%|██▌       | 1079/4112 [01:44<07:16,  6.95it/s]"
          ]
        },
        {
          "output_type": "stream",
          "name": "stdout",
          "text": [
            "Successfully fetched https://www.churchofjesuschrist.org/study/general-conference/2010/10/charity-never-faileth?lang=eng\n",
            "Successfully fetched https://www.churchofjesuschrist.org/study/general-conference/2010/10/pride-and-the-priesthood?lang=eng\n",
            "Successfully fetched https://www.churchofjesuschrist.org/study/general-conference/2010/10/courageous-parenting?lang=eng\n",
            "Successfully fetched https://www.churchofjesuschrist.org/study/general-conference/2010/10/reflections-on-a-consecrated-life?lang=eng\n"
          ]
        },
        {
          "output_type": "stream",
          "name": "stderr",
          "text": [
            "\rScraping talks in parallel:  27%|██▋       | 1090/4112 [01:44<03:40, 13.73it/s]"
          ]
        },
        {
          "output_type": "stream",
          "name": "stdout",
          "text": [
            "Successfully fetched https://www.churchofjesuschrist.org/study/general-conference/2010/10/the-three-rs-of-choice?lang=eng\n",
            "Successfully fetched https://www.churchofjesuschrist.org/study/general-conference/2010/10/cleansing-the-inner-vessel?lang=eng\n",
            "Successfully fetched https://www.churchofjesuschrist.org/study/general-conference/2010/10/our-very-survival?lang=eng\n",
            "Successfully fetched https://www.churchofjesuschrist.org/study/general-conference/2010/10/be-thou-an-example-of-the-believers?lang=eng\n"
          ]
        },
        {
          "output_type": "stream",
          "name": "stderr",
          "text": [
            "Scraping talks in parallel:  27%|██▋       | 1095/4112 [01:44<03:51, 13.03it/s]"
          ]
        },
        {
          "output_type": "stream",
          "name": "stdout",
          "text": [
            "Successfully fetched https://www.churchofjesuschrist.org/study/general-conference/2010/10/serve-with-the-spirit?lang=eng\n",
            "Successfully fetched https://www.churchofjesuschrist.org/study/general-conference/2010/10/he-teaches-us-to-put-off-the-natural-man?lang=eng\n",
            "Successfully fetched https://www.churchofjesuschrist.org/study/general-conference/2010/10/what-have-you-done-with-my-name?lang=eng\n",
            "Successfully fetched https://www.churchofjesuschrist.org/study/general-conference/2010/10/be-an-example-of-the-believers?lang=eng\n",
            "Successfully fetched https://www.churchofjesuschrist.org/study/general-conference/2010/10/the-holy-ghost-and-revelation?lang=eng\n"
          ]
        },
        {
          "output_type": "stream",
          "name": "stderr",
          "text": [
            "Scraping talks in parallel:  27%|██▋       | 1101/4112 [01:45<03:35, 13.94it/s]"
          ]
        },
        {
          "output_type": "stream",
          "name": "stdout",
          "text": [
            "Successfully fetched https://www.churchofjesuschrist.org/study/general-conference/2010/10/because-of-your-faith?lang=eng\n",
            "Successfully fetched https://www.churchofjesuschrist.org/study/general-conference/2010/10/agency-essential-to-the-plan-of-life?lang=eng\n",
            "Successfully fetched https://www.churchofjesuschrist.org/study/general-conference/2010/10/o-that-cunning-plan-of-the-evil-one?lang=eng\n",
            "Successfully fetched https://www.churchofjesuschrist.org/study/general-conference/2010/10/as-we-meet-together-again?lang=eng\n",
            "Successfully fetched https://www.churchofjesuschrist.org/study/general-conference/2010/10/receive-the-holy-ghost?lang=eng\n",
            "Successfully fetched https://www.churchofjesuschrist.org/study/general-conference/2010/10/the-priesthood-of-aaron?lang=eng\n"
          ]
        },
        {
          "output_type": "stream",
          "name": "stderr",
          "text": [
            "Scraping talks in parallel:  27%|██▋       | 1107/4112 [01:45<03:49, 13.07it/s]"
          ]
        },
        {
          "output_type": "stream",
          "name": "stdout",
          "text": [
            "Successfully fetched https://www.churchofjesuschrist.org/study/general-conference/2010/10/come-unto-me-with-full-purpose-of-heart-and-i-shall-heal-you?lang=eng\n",
            "Successfully fetched https://www.churchofjesuschrist.org/study/general-conference/2010/10/avoiding-the-trap-of-sin?lang=eng\n",
            "Successfully fetched https://www.churchofjesuschrist.org/study/general-conference/2010/10/obedience-to-the-prophets?lang=eng\n"
          ]
        },
        {
          "output_type": "stream",
          "name": "stderr",
          "text": [
            "\rScraping talks in parallel:  27%|██▋       | 1109/4112 [01:46<04:09, 12.02it/s]"
          ]
        },
        {
          "output_type": "stream",
          "name": "stdout",
          "text": [
            "Successfully fetched https://www.churchofjesuschrist.org/study/general-conference/2010/04/mother-told-me?lang=eng\n",
            "Successfully fetched https://www.churchofjesuschrist.org/study/general-conference/2010/04/place-no-more-for-the-enemy-of-my-soul?lang=engSuccessfully fetched https://www.churchofjesuschrist.org/study/general-conference/2010/04/tell-me-the-stories-of-jesus?lang=eng\n",
            "Successfully fetched https://www.churchofjesuschrist.org/study/general-conference/2010/10/temple-mirrors-of-eternity-a-testimony-of-family?lang=eng\n",
            "\n",
            "Successfully fetched https://www.churchofjesuschrist.org/study/general-conference/2010/04/things-pertaining-to-righteousness?lang=eng\n",
            "Successfully fetched https://www.churchofjesuschrist.org/study/general-conference/2010/10/faith-the-choice-is-yours?lang=eng\n",
            "Successfully fetched https://www.churchofjesuschrist.org/study/general-conference/2010/04/we-follow-jesus-christ?lang=eng\n",
            "Successfully fetched https://www.churchofjesuschrist.org/study/general-conference/2010/04/statistical-report-2009?lang=eng\n",
            "Successfully fetched https://www.churchofjesuschrist.org/study/general-conference/2010/04/the-power-of-the-priesthood?lang=eng\n",
            "Successfully fetched https://www.churchofjesuschrist.org/study/general-conference/2010/04/you-are-my-hands?lang=eng\n"
          ]
        },
        {
          "output_type": "stream",
          "name": "stderr",
          "text": [
            "\rScraping talks in parallel:  27%|██▋       | 1111/4112 [01:47<09:14,  5.41it/s]"
          ]
        },
        {
          "output_type": "stream",
          "name": "stdout",
          "text": [
            "Successfully fetched https://www.churchofjesuschrist.org/study/general-conference/2010/04/your-happily-ever-after?lang=engSuccessfully fetched https://www.churchofjesuschrist.org/study/general-conference/2010/04/generations-linked-in-love?lang=eng\n",
            "\n"
          ]
        },
        {
          "output_type": "stream",
          "name": "stderr",
          "text": [
            "Scraping talks in parallel:  27%|██▋       | 1120/4112 [01:47<04:39, 10.71it/s]"
          ]
        },
        {
          "output_type": "stream",
          "name": "stdout",
          "text": [
            "Successfully fetched https://www.churchofjesuschrist.org/study/general-conference/2010/04/the-blessing-of-scripture?lang=eng\n",
            "Successfully fetched https://www.churchofjesuschrist.org/study/general-conference/2010/04/preparation-brings-blessings?lang=eng\n",
            "Successfully fetched https://www.churchofjesuschrist.org/study/general-conference/2010/04/our-duty-to-god-the-mission-of-parents-and-leaders-to-the-rising-generation?lang=eng\n",
            "Successfully fetched https://www.churchofjesuschrist.org/study/general-conference/2010/04/our-path-of-duty?lang=eng\n"
          ]
        },
        {
          "output_type": "stream",
          "name": "stderr",
          "text": [
            "\rScraping talks in parallel:  27%|██▋       | 1122/4112 [01:47<05:03,  9.86it/s]"
          ]
        },
        {
          "output_type": "stream",
          "name": "stdout",
          "text": [
            "Successfully fetched https://www.churchofjesuschrist.org/study/general-conference/2010/04/be-of-a-good-courage?lang=eng\n",
            "Successfully fetched https://www.churchofjesuschrist.org/study/general-conference/2010/04/and-upon-the-handmaids-in-those-days-will-i-pour-out-my-spirit?lang=eng\n",
            "Successfully fetched https://www.churchofjesuschrist.org/study/general-conference/2010/04/saturday-morning-session?lang=eng\n",
            "Successfully fetched https://www.churchofjesuschrist.org/study/general-conference/2010/04/the-rock-of-our-redeemer?lang=eng\n"
          ]
        },
        {
          "output_type": "stream",
          "name": "stderr",
          "text": [
            "\rScraping talks in parallel:  27%|██▋       | 1124/4112 [01:48<08:26,  5.91it/s]"
          ]
        },
        {
          "output_type": "stream",
          "name": "stdout",
          "text": [
            "Successfully fetched https://www.churchofjesuschrist.org/study/general-conference/2010/04/when-the-lord-commands?lang=eng\n"
          ]
        },
        {
          "output_type": "stream",
          "name": "stderr",
          "text": [
            "Scraping talks in parallel:  27%|██▋       | 1130/4112 [01:49<06:01,  8.26it/s]"
          ]
        },
        {
          "output_type": "stream",
          "name": "stdout",
          "text": [
            "Successfully fetched https://www.churchofjesuschrist.org/study/general-conference/2010/04/act-in-all-diligence?lang=eng\n",
            "Successfully fetched https://www.churchofjesuschrist.org/study/general-conference/2010/04/that-our-children-might-see-the-face-of-the-savior?lang=eng\n",
            "Successfully fetched https://www.churchofjesuschrist.org/study/general-conference/2010/04/healing-the-sick?lang=eng\n",
            "Successfully fetched https://www.churchofjesuschrist.org/study/general-conference/2010/04/he-lives-all-glory-to-his-name?lang=eng\n",
            "Successfully fetched https://www.churchofjesuschrist.org/study/general-conference/2010/04/church-auditing-department-report-2009?lang=eng\n",
            "Successfully fetched https://www.churchofjesuschrist.org/study/general-conference/2010/04/mothers-and-daughters?lang=eng\n"
          ]
        },
        {
          "output_type": "stream",
          "name": "stderr",
          "text": [
            "Scraping talks in parallel:  28%|██▊       | 1136/4112 [01:49<06:13,  7.96it/s]"
          ]
        },
        {
          "output_type": "stream",
          "name": "stdout",
          "text": [
            "Successfully fetched https://www.churchofjesuschrist.org/study/general-conference/2010/04/all-things-work-together-for-good?lang=eng\n",
            "Successfully fetched https://www.churchofjesuschrist.org/study/general-conference/2010/04/help-them-on-their-way-home?lang=eng\n",
            "Successfully fetched https://www.churchofjesuschrist.org/study/general-conference/2010/04/watching-with-all-perseverance?lang=eng\n",
            "Successfully fetched https://www.churchofjesuschrist.org/study/general-conference/2010/04/helping-hands-saving-hands?lang=eng\n",
            "Successfully fetched https://www.churchofjesuschrist.org/study/general-conference/2010/04/the-sustaining-of-church-officers?lang=eng\n"
          ]
        },
        {
          "output_type": "stream",
          "name": "stderr",
          "text": [
            "\rScraping talks in parallel:  28%|██▊       | 1142/4112 [01:50<04:01, 12.30it/s]"
          ]
        },
        {
          "output_type": "stream",
          "name": "stdout",
          "text": [
            "Successfully fetched https://www.churchofjesuschrist.org/study/general-conference/2010/04/remember-who-you-are?lang=eng\n",
            "Successfully fetched https://www.churchofjesuschrist.org/study/general-conference/2010/04/never-never-never-give-up?lang=eng\n",
            "Successfully fetched https://www.churchofjesuschrist.org/study/general-conference/2010/04/mothers-teaching-children-in-the-home?lang=engSuccessfully fetched https://www.churchofjesuschrist.org/study/general-conference/2010/04/continue-in-patience?lang=eng\n",
            "\n",
            "Successfully fetched https://www.churchofjesuschrist.org/study/general-conference/2010/04/he-is-risen?lang=eng\n",
            "Successfully fetched https://www.churchofjesuschrist.org/study/general-conference/2010/04/welcome-to-conference?lang=eng\n",
            "Successfully fetched https://www.churchofjesuschrist.org/study/general-conference/2010/04/a-word-at-closing?lang=eng\n",
            "Successfully fetched https://www.churchofjesuschrist.org/study/general-conference/2010/04/turn-to-the-lord?lang=eng\n",
            "Successfully fetched https://www.churchofjesuschrist.org/study/general-conference/2010/04/the-divine-call-of-a-missionary?lang=eng\n"
          ]
        },
        {
          "output_type": "stream",
          "name": "stderr",
          "text": [
            "\rScraping talks in parallel:  28%|██▊       | 1145/4112 [01:50<05:33,  8.91it/s]"
          ]
        },
        {
          "output_type": "stream",
          "name": "stdout",
          "text": [
            "Successfully fetched https://www.churchofjesuschrist.org/study/general-conference/2009/10/to-acquire-spiritual-guidance?lang=eng\n",
            "Successfully fetched https://www.churchofjesuschrist.org/study/general-conference/2009/10/the-love-of-god?lang=eng\n",
            "Successfully fetched https://www.churchofjesuschrist.org/study/general-conference/2009/10/relief-society-a-sacred-work?lang=eng\n",
            "Successfully fetched https://www.churchofjesuschrist.org/study/general-conference/2010/04/developing-good-judgment-and-not-judging-others?lang=eng\n",
            "Successfully fetched https://www.churchofjesuschrist.org/study/general-conference/2009/10/seeking-to-know-god-our-heavenly-father-and-his-son-jesus-christ?lang=eng\n",
            "Successfully fetched https://www.churchofjesuschrist.org/study/general-conference/2009/10/be-ready?lang=eng\n"
          ]
        },
        {
          "output_type": "stream",
          "name": "stderr",
          "text": [
            "\rScraping talks in parallel:  28%|██▊       | 1153/4112 [01:51<05:20,  9.23it/s]"
          ]
        },
        {
          "output_type": "stream",
          "name": "stdout",
          "text": [
            "Successfully fetched https://www.churchofjesuschrist.org/study/general-conference/2010/04/the-magnificent-aaronic-priesthood?lang=eng\n",
            "Successfully fetched https://www.churchofjesuschrist.org/study/general-conference/2009/10/more-diligent-and-concerned-at-home?lang=eng\n",
            "Successfully fetched https://www.churchofjesuschrist.org/study/general-conference/2009/10/the-enduring-legacy-of-relief-society?lang=eng\n",
            "Successfully fetched https://www.churchofjesuschrist.org/study/general-conference/2009/10/i-love-loud-boys?lang=eng\n",
            "Successfully fetched https://www.churchofjesuschrist.org/study/general-conference/2009/10/teaching-helps-save-lives?lang=eng\n",
            "Successfully fetched https://www.churchofjesuschrist.org/study/general-conference/2009/10/love-and-law?lang=eng\n",
            "Successfully fetched https://www.churchofjesuschrist.org/study/general-conference/2009/10/safety-for-the-soul?lang=eng\n",
            "Successfully fetched https://www.churchofjesuschrist.org/study/general-conference/2009/10/that-your-burdens-may-be-light?lang=eng\n",
            "Successfully fetched https://www.churchofjesuschrist.org/study/general-conference/2009/10/becoming-more-powerful-priesthood-holders?lang=eng\n",
            "Successfully fetched https://www.churchofjesuschrist.org/study/general-conference/2009/10/a-call-to-the-rising-generation?lang=eng\n",
            "Successfully fetched https://www.churchofjesuschrist.org/study/general-conference/2009/10/attempting-the-impossible?lang=eng\n",
            "Successfully fetched https://www.churchofjesuschrist.org/study/general-conference/2009/10/ask-seek-knock?lang=eng\n",
            "Successfully fetched https://www.churchofjesuschrist.org/study/general-conference/2009/10/joseph-smith-prophet-of-the-restoration?lang=eng\n",
            "Successfully fetched https://www.churchofjesuschrist.org/study/general-conference/2009/10/helping-others-recognize-the-whisperings-of-the-spirit?lang=eng\n",
            "Successfully fetched https://www.churchofjesuschrist.org/study/general-conference/2009/10/an-easiness-and-willingness-to-believe?lang=eng\n",
            "Successfully fetched https://www.churchofjesuschrist.org/study/general-conference/2009/10/fathers-and-sons-a-remarkable-relationship?lang=eng\n",
            "Successfully fetched https://www.churchofjesuschrist.org/study/general-conference/2009/10/let-virtue-garnish-your-thoughts?lang=eng\n",
            "Successfully fetched https://www.churchofjesuschrist.org/study/general-conference/2009/10/repent-that-i-may-heal-you?lang=eng\n",
            "Successfully fetched https://www.churchofjesuschrist.org/study/general-conference/2009/10/our-perfect-example?lang=eng\n",
            "Successfully fetched https://www.churchofjesuschrist.org/study/general-conference/2009/10/hold-on?lang=eng\n",
            "Successfully fetched https://www.churchofjesuschrist.org/study/general-conference/2009/10/being-temperate-in-all-things?lang=eng\n",
            "Successfully fetched https://www.churchofjesuschrist.org/study/general-conference/2009/10/two-principles-for-any-economy?lang=eng\n",
            "Successfully fetched https://www.churchofjesuschrist.org/study/general-conference/2009/10/stewardship-a-sacred-trust?lang=eng\n",
            "Successfully fetched https://www.churchofjesuschrist.org/study/general-conference/2009/10/every-woman-needs-relief-society?lang=eng\n",
            "Successfully fetched https://www.churchofjesuschrist.org/study/general-conference/2009/10/school-thy-feelings-o-my-brother?lang=eng\n",
            "Successfully fetched https://www.churchofjesuschrist.org/study/general-conference/2009/10/closing-remarks?lang=eng\n",
            "Successfully fetched https://www.churchofjesuschrist.org/study/general-conference/2009/10/prayer-and-promptings?lang=eng\n",
            "Successfully fetched https://www.churchofjesuschrist.org/study/general-conference/2009/10/welcome-to-conference?lang=eng\n",
            "Successfully fetched https://www.churchofjesuschrist.org/study/general-conference/2009/10/moral-discipline?lang=eng\n",
            "Successfully fetched https://www.churchofjesuschrist.org/study/general-conference/2009/10/the-past-way-of-facing-the-future?lang=eng\n",
            "Successfully fetched https://www.churchofjesuschrist.org/study/general-conference/2009/10/what-have-i-done-for-someone-today?lang=eng\n",
            "Successfully fetched https://www.churchofjesuschrist.org/study/general-conference/2009/04/sacred-homes-sacred-temples?lang=eng\n",
            "Successfully fetched https://www.churchofjesuschrist.org/study/general-conference/2009/04/may-you-have-courage?lang=eng\n",
            "Successfully fetched https://www.churchofjesuschrist.org/study/general-conference/2009/04/becoming-provident-providers-temporally-and-spiritually?lang=eng\n",
            "Successfully fetched https://www.churchofjesuschrist.org/study/general-conference/2009/04/the-power-of-covenants?lang=eng\n",
            "Successfully fetched https://www.churchofjesuschrist.org/study/general-conference/2009/04/respect-and-reverence?lang=eng\n",
            "Successfully fetched https://www.churchofjesuschrist.org/study/general-conference/2009/10/saturday-morning-session?lang=eng\n",
            "Successfully fetched https://www.churchofjesuschrist.org/study/general-conference/2009/04/unselfish-service?lang=eng\n",
            "Successfully fetched https://www.churchofjesuschrist.org/study/general-conference/2009/04/learning-the-lessons-of-the-past?lang=eng\n",
            "Successfully fetched https://www.churchofjesuschrist.org/study/general-conference/2009/10/the-sustaining-of-church-officers?lang=eng\n",
            "Successfully fetched https://www.churchofjesuschrist.org/study/general-conference/2009/04/saturday-morning-session?lang=eng\n",
            "Successfully fetched https://www.churchofjesuschrist.org/study/general-conference/2009/04/bring-souls-unto-me?lang=eng\n",
            "Successfully fetched https://www.churchofjesuschrist.org/study/general-conference/2009/04/come-unto-him?lang=eng\n",
            "Successfully fetched https://www.churchofjesuschrist.org/study/general-conference/2009/04/faith-in-adversity?lang=eng\n",
            "Successfully fetched https://www.churchofjesuschrist.org/study/general-conference/2009/10/blessings-of-the-gospel-available-to-all?lang=eng\n",
            "Successfully fetched https://www.churchofjesuschrist.org/study/general-conference/2009/04/we-are-doing-a-great-work-and-cannot-come-down?lang=eng\n",
            "Successfully fetched https://www.churchofjesuschrist.org/study/general-conference/2009/04/be-thou-an-example-of-the-believers?lang=eng\n",
            "Successfully fetched https://www.churchofjesuschrist.org/study/general-conference/2009/04/be-of-good-cheer?lang=eng\n"
          ]
        },
        {
          "output_type": "stream",
          "name": "stderr",
          "text": [
            "\rScraping talks in parallel:  28%|██▊       | 1157/4112 [01:55<16:05,  3.06it/s]"
          ]
        },
        {
          "output_type": "stream",
          "name": "stdout",
          "text": [
            "Successfully fetched https://www.churchofjesuschrist.org/study/general-conference/2009/04/priesthood-responsibilities?lang=eng\n",
            "Successfully fetched https://www.churchofjesuschrist.org/study/general-conference/2009/04/his-arm-is-sufficient?lang=eng\n",
            "Successfully fetched https://www.churchofjesuschrist.org/study/general-conference/2009/10/mind-the-gap?lang=eng\n"
          ]
        },
        {
          "output_type": "stream",
          "name": "stderr",
          "text": [
            "Scraping talks in parallel:  29%|██▉       | 1193/4112 [01:56<04:19, 11.25it/s]"
          ]
        },
        {
          "output_type": "stream",
          "name": "stdout",
          "text": [
            "Successfully fetched https://www.churchofjesuschrist.org/study/general-conference/2009/04/adversity?lang=eng\n",
            "Successfully fetched https://www.churchofjesuschrist.org/study/general-conference/2009/10/preserving-the-hearts-mighty-change?lang=eng\n",
            "Successfully fetched https://www.churchofjesuschrist.org/study/general-conference/2009/04/temple-worship-the-source-of-strength-and-power-in-times-of-need?lang=eng\n",
            "Successfully fetched https://www.churchofjesuschrist.org/study/general-conference/2009/04/finding-strength-in-challenging-times?lang=eng\n",
            "Successfully fetched https://www.churchofjesuschrist.org/study/general-conference/2009/04/welcome-to-conference?lang=eng\n",
            "Successfully fetched https://www.churchofjesuschrist.org/study/general-conference/2009/04/be-your-best-self?lang=eng\n",
            "Successfully fetched https://www.churchofjesuschrist.org/study/general-conference/2009/04/a-virtuous-life-step-by-step?lang=eng\n",
            "Successfully fetched https://www.churchofjesuschrist.org/study/general-conference/2009/04/none-were-with-him?lang=eng\n",
            "Successfully fetched https://www.churchofjesuschrist.org/study/general-conference/2009/04/statistical-report-2008?lang=eng\n",
            "Successfully fetched https://www.churchofjesuschrist.org/study/general-conference/2009/04/church-auditing-department-report-2008?lang=eng\n",
            "Successfully fetched https://www.churchofjesuschrist.org/study/general-conference/2009/04/until-we-meet-again?lang=eng\n",
            "Successfully fetched https://www.churchofjesuschrist.org/study/general-conference/2009/04/this-is-your-phone-call?lang=eng\n"
          ]
        },
        {
          "output_type": "stream",
          "name": "stderr",
          "text": [
            "\rScraping talks in parallel:  29%|██▉       | 1213/4112 [01:56<03:05, 15.63it/s]"
          ]
        },
        {
          "output_type": "stream",
          "name": "stdout",
          "text": [
            "Successfully fetched https://www.churchofjesuschrist.org/study/general-conference/2009/04/lessons-from-the-lords-prayers?lang=eng\n",
            "Successfully fetched https://www.churchofjesuschrist.org/study/general-conference/2009/04/our-fathers-plan-big-enough-for-all-his-children?lang=eng\n",
            "Successfully fetched https://www.churchofjesuschrist.org/study/general-conference/2009/04/his-servants-the-prophets?lang=eng\n"
          ]
        },
        {
          "output_type": "stream",
          "name": "stderr",
          "text": [
            "\rScraping talks in parallel:  30%|██▉       | 1216/4112 [01:56<02:59, 16.13it/s]"
          ]
        },
        {
          "output_type": "stream",
          "name": "stdout",
          "text": [
            "Successfully fetched https://www.churchofjesuschrist.org/study/general-conference/2009/04/come-let-us-go-up-to-the-mountain-of-the-lord?lang=eng\n",
            "Successfully fetched https://www.churchofjesuschrist.org/study/general-conference/2009/04/man-down?lang=eng\n",
            "Successfully fetched https://www.churchofjesuschrist.org/study/general-conference/2009/04/faith-in-the-lord-jesus-christ?lang=eng\n"
          ]
        },
        {
          "output_type": "stream",
          "name": "stderr",
          "text": [
            "\rScraping talks in parallel:  30%|██▉       | 1219/4112 [01:57<03:21, 14.36it/s]"
          ]
        },
        {
          "output_type": "stream",
          "name": "stdout",
          "text": [
            "Successfully fetched https://www.churchofjesuschrist.org/study/general-conference/2009/04/gifts-to-help-us-navigate-our-life?lang=eng\n",
            "Successfully fetched https://www.churchofjesuschrist.org/study/general-conference/2009/04/get-on-with-our-lives?lang=eng\n",
            "Successfully fetched https://www.churchofjesuschrist.org/study/general-conference/2009/04/honorably-hold-a-name-and-standing?lang=eng\n",
            "Successfully fetched https://www.churchofjesuschrist.org/study/general-conference/2009/04/the-sustaining-of-church-officers?lang=eng\n"
          ]
        },
        {
          "output_type": "stream",
          "name": "stderr",
          "text": [
            "Scraping talks in parallel:  30%|██▉       | 1228/4112 [01:57<02:48, 17.10it/s]"
          ]
        },
        {
          "output_type": "stream",
          "name": "stdout",
          "text": [
            "Successfully fetched https://www.churchofjesuschrist.org/study/general-conference/2009/04/revealed-quorum-principles?lang=eng\n",
            "Successfully fetched https://www.churchofjesuschrist.org/study/general-conference/2009/04/counsel-to-young-men?lang=eng\n",
            "Successfully fetched https://www.churchofjesuschrist.org/study/general-conference/2009/04/the-way-of-the-disciple?lang=eng\n",
            "Successfully fetched https://www.churchofjesuschrist.org/study/general-conference/2008/10/pray-always?lang=eng\n"
          ]
        },
        {
          "output_type": "stream",
          "name": "stderr",
          "text": [
            "Scraping talks in parallel:  30%|███       | 1235/4112 [01:58<03:02, 15.77it/s]"
          ]
        },
        {
          "output_type": "stream",
          "name": "stdout",
          "text": [
            "Successfully fetched https://www.churchofjesuschrist.org/study/general-conference/2008/10/our-hearts-knit-as-one?lang=eng\n",
            "Successfully fetched https://www.churchofjesuschrist.org/study/general-conference/2008/10/holy-temples-sacred-covenants?lang=eng\n",
            "Successfully fetched https://www.churchofjesuschrist.org/study/general-conference/2008/10/welcome-to-conference?lang=eng\n",
            "Successfully fetched https://www.churchofjesuschrist.org/study/general-conference/2008/10/because-my-father-read-the-book-of-mormon?lang=eng\n",
            "Successfully fetched https://www.churchofjesuschrist.org/study/general-conference/2008/10/the-truth-of-god-shall-go-forth?lang=eng\n",
            "Successfully fetched https://www.churchofjesuschrist.org/study/general-conference/2008/10/o-ye-that-embark?lang=engSuccessfully fetched https://www.churchofjesuschrist.org/study/general-conference/2008/10/saturday-morning-session?lang=eng\n",
            "\n",
            "Successfully fetched https://www.churchofjesuschrist.org/study/general-conference/2008/10/gospel-teaching-our-most-important-calling?lang=engSuccessfully fetched https://www.churchofjesuschrist.org/study/general-conference/2008/10/the-infinite-power-of-hope?lang=eng\n",
            "\n",
            "Successfully fetched https://www.churchofjesuschrist.org/study/general-conference/2008/10/the-test?lang=eng\n",
            "Successfully fetched https://www.churchofjesuschrist.org/study/general-conference/2008/10/even-a-child-can-understand?lang=eng\n"
          ]
        },
        {
          "output_type": "stream",
          "name": "stderr",
          "text": [
            "\rScraping talks in parallel:  30%|███       | 1238/4112 [01:58<05:07,  9.36it/s]"
          ]
        },
        {
          "output_type": "stream",
          "name": "stdout",
          "text": [
            "Successfully fetched https://www.churchofjesuschrist.org/study/general-conference/2008/10/arms-of-safety?lang=eng\n",
            "Successfully fetched https://www.churchofjesuschrist.org/study/general-conference/2008/10/come-to-zion?lang=eng\n",
            "Successfully fetched https://www.churchofjesuschrist.org/study/general-conference/2008/10/the-ministry-of-angels?lang=eng\n",
            "Successfully fetched https://www.churchofjesuschrist.org/study/general-conference/2008/10/go-ye-therefore?lang=eng\n",
            "Successfully fetched https://www.churchofjesuschrist.org/study/general-conference/2008/10/you-know-enough?lang=eng\n",
            "Successfully fetched https://www.churchofjesuschrist.org/study/general-conference/2008/10/the-way?lang=eng\n",
            "Successfully fetched https://www.churchofjesuschrist.org/study/general-conference/2008/10/lift-where-you-stand?lang=eng\n",
            "Successfully fetched https://www.churchofjesuschrist.org/study/general-conference/2008/10/the-sustaining-of-church-officers?lang=eng\n",
            "Successfully fetched https://www.churchofjesuschrist.org/study/general-conference/2008/10/testimony-as-a-process?lang=eng\n",
            "Successfully fetched https://www.churchofjesuschrist.org/study/general-conference/2008/10/until-we-meet-again?lang=eng\n"
          ]
        },
        {
          "output_type": "stream",
          "name": "stderr",
          "text": [
            "Scraping talks in parallel:  30%|███       | 1252/4112 [01:59<03:26, 13.88it/s]"
          ]
        },
        {
          "output_type": "stream",
          "name": "stdout",
          "text": [
            "Successfully fetched https://www.churchofjesuschrist.org/study/general-conference/2008/10/christian-courage-the-price-of-discipleship?lang=eng\n",
            "Successfully fetched https://www.churchofjesuschrist.org/study/general-conference/2008/10/let-him-do-it-with-simplicity?lang=eng\n",
            "Successfully fetched https://www.churchofjesuschrist.org/study/general-conference/2008/10/happiness-your-heritage?lang=eng\n",
            "Successfully fetched https://www.churchofjesuschrist.org/study/general-conference/2008/10/a-return-to-virtue?lang=eng\n",
            "Successfully fetched https://www.churchofjesuschrist.org/study/general-conference/2008/10/finding-joy-in-the-journey?lang=eng\n",
            "Successfully fetched https://www.churchofjesuschrist.org/study/general-conference/2008/10/hope-ya-know-we-had-a-hard-time?lang=eng\n",
            "Successfully fetched https://www.churchofjesuschrist.org/study/general-conference/2008/10/to-learn-to-do-to-be?lang=eng\n",
            "Successfully fetched https://www.churchofjesuschrist.org/study/general-conference/2008/10/winning-the-war-against-evil?lang=eng\n",
            "Successfully fetched https://www.churchofjesuschrist.org/study/general-conference/2008/10/god-loves-and-helps-all-of-his-children?lang=eng\n",
            "Successfully fetched https://www.churchofjesuschrist.org/study/general-conference/2008/10/now-let-us-rejoice?lang=eng\n",
            "Successfully fetched https://www.churchofjesuschrist.org/study/general-conference/2008/10/returning-home?lang=eng\n"
          ]
        },
        {
          "output_type": "stream",
          "name": "stderr",
          "text": [
            "\rScraping talks in parallel:  30%|███       | 1254/4112 [02:01<07:38,  6.23it/s]"
          ]
        },
        {
          "output_type": "stream",
          "name": "stdout",
          "text": [
            "Successfully fetched https://www.churchofjesuschrist.org/study/general-conference/2008/10/sacrament-meeting-and-the-sacrament?lang=eng\n",
            "Successfully fetched https://www.churchofjesuschrist.org/study/general-conference/2008/10/celestial-marriage?lang=eng\n"
          ]
        },
        {
          "output_type": "stream",
          "name": "stderr",
          "text": [
            "\rScraping talks in parallel:  31%|███       | 1264/4112 [02:01<04:58,  9.55it/s]"
          ]
        },
        {
          "output_type": "stream",
          "name": "stdout",
          "text": [
            "Successfully fetched https://www.churchofjesuschrist.org/study/general-conference/2008/10/honor-the-priesthood-and-use-it-well?lang=eng\n",
            "Successfully fetched https://www.churchofjesuschrist.org/study/general-conference/2008/10/come-what-may-and-love-it?lang=eng\n",
            "Successfully fetched https://www.churchofjesuschrist.org/study/general-conference/2008/10/fulfilling-the-purpose-of-relief-society?lang=eng\n",
            "Successfully fetched https://www.churchofjesuschrist.org/study/general-conference/2008/04/a-12-year-old-deacon?lang=eng\n"
          ]
        },
        {
          "output_type": "stream",
          "name": "stderr",
          "text": [
            "\rScraping talks in parallel:  31%|███       | 1266/4112 [02:01<05:18,  8.94it/s]"
          ]
        },
        {
          "output_type": "stream",
          "name": "stdout",
          "text": [
            "Successfully fetched https://www.churchofjesuschrist.org/study/general-conference/2008/04/salvation-and-exaltation?lang=eng\n",
            "Successfully fetched https://www.churchofjesuschrist.org/study/general-conference/2008/04/faith-and-the-oath-and-covenant-of-the-priesthood?lang=eng\n",
            "Successfully fetched https://www.churchofjesuschrist.org/study/general-conference/2008/04/and-who-is-my-neighbor?lang=eng\n"
          ]
        },
        {
          "output_type": "stream",
          "name": "stderr",
          "text": [
            "\rScraping talks in parallel:  31%|███       | 1268/4112 [02:02<07:37,  6.22it/s]"
          ]
        },
        {
          "output_type": "stream",
          "name": "stdout",
          "text": [
            "Successfully fetched https://www.churchofjesuschrist.org/study/general-conference/2008/04/service-a-divine-quality?lang=eng\n",
            "Successfully fetched https://www.churchofjesuschrist.org/study/general-conference/2008/04/one-among-the-crowd?lang=eng\n",
            "Successfully fetched https://www.churchofjesuschrist.org/study/general-conference/2008/04/daughters-of-god?lang=eng\n",
            "Successfully fetched https://www.churchofjesuschrist.org/study/general-conference/2008/04/the-best-investment?lang=eng\n",
            "Successfully fetched https://www.churchofjesuschrist.org/study/general-conference/2008/04/anchors-of-testimony?lang=eng\n",
            "Successfully fetched https://www.churchofjesuschrist.org/study/general-conference/2008/04/the-power-of-light-and-truth?lang=eng\n",
            "Successfully fetched https://www.churchofjesuschrist.org/study/general-conference/2008/04/do-you-know-who-you-are?lang=eng\n",
            "Successfully fetched https://www.churchofjesuschrist.org/study/general-conference/2008/04/my-words-never-cease?lang=eng\n",
            "Successfully fetched https://www.churchofjesuschrist.org/study/general-conference/2008/04/gaining-a-testimony-of-god-the-father-his-son-jesus-christ-and-the-holy-ghost?lang=eng\n",
            "Successfully fetched https://www.churchofjesuschrist.org/study/general-conference/2008/04/righteous-traditions?lang=eng\n"
          ]
        },
        {
          "output_type": "stream",
          "name": "stderr",
          "text": [
            "Scraping talks in parallel:  31%|███▏      | 1285/4112 [02:03<04:26, 10.63it/s]"
          ]
        },
        {
          "output_type": "stream",
          "name": "stdout",
          "text": [
            "Successfully fetched https://www.churchofjesuschrist.org/study/general-conference/2008/04/today?lang=eng\n",
            "Successfully fetched https://www.churchofjesuschrist.org/study/general-conference/2008/04/the-twelve?lang=eng\n",
            "Successfully fetched https://www.churchofjesuschrist.org/study/general-conference/2008/04/opening-our-hearts?lang=eng\n",
            "Successfully fetched https://www.churchofjesuschrist.org/study/general-conference/2008/04/ask-in-faith?lang=eng\n",
            "Successfully fetched https://www.churchofjesuschrist.org/study/general-conference/2008/04/the-sustaining-of-church-officers?lang=eng\n",
            "Successfully fetched https://www.churchofjesuschrist.org/study/general-conference/2008/04/give-heed-unto-the-prophets-words?lang=eng\n"
          ]
        },
        {
          "output_type": "stream",
          "name": "stderr",
          "text": [
            "\rScraping talks in parallel:  31%|███▏      | 1289/4112 [02:04<04:24, 10.68it/s]"
          ]
        },
        {
          "output_type": "stream",
          "name": "stdout",
          "text": [
            "Successfully fetched https://www.churchofjesuschrist.org/study/general-conference/2008/04/abundantly-blessed?lang=eng\n",
            "Successfully fetched https://www.churchofjesuschrist.org/study/general-conference/2008/04/special-experiences?lang=eng\n",
            "Successfully fetched https://www.churchofjesuschrist.org/study/general-conference/2008/04/my-soul-delighteth-in-the-things-of-the-lord?lang=eng\n",
            "Successfully fetched https://www.churchofjesuschrist.org/study/general-conference/2008/04/stand-as-a-witness?lang=eng\n",
            "Successfully fetched https://www.churchofjesuschrist.org/study/general-conference/2008/04/walk-in-the-light?lang=eng\n",
            "Successfully fetched https://www.churchofjesuschrist.org/study/general-conference/2008/04/three-presiding-high-priests?lang=eng\n",
            "Successfully fetched https://www.churchofjesuschrist.org/study/general-conference/2008/04/to-heal-the-shattering-consequences-of-abuse?lang=eng\n",
            "Successfully fetched https://www.churchofjesuschrist.org/study/general-conference/2008/04/born-again?lang=eng\n"
          ]
        },
        {
          "output_type": "stream",
          "name": "stderr",
          "text": [
            "\rScraping talks in parallel:  31%|███▏      | 1291/4112 [02:04<05:45,  8.17it/s]"
          ]
        },
        {
          "output_type": "stream",
          "name": "stdout",
          "text": [
            "Successfully fetched https://www.churchofjesuschrist.org/study/general-conference/2008/04/a-book-with-a-promise?lang=eng\n",
            "Successfully fetched https://www.churchofjesuschrist.org/study/general-conference/2008/04/examples-of-righteousness?lang=eng\n",
            "Successfully fetched https://www.churchofjesuschrist.org/study/general-conference/2008/04/looking-back-and-moving-forward?lang=eng\n",
            "Successfully fetched https://www.churchofjesuschrist.org/study/general-conference/2008/04/church-auditing-department-report-2007?lang=eng\n"
          ]
        },
        {
          "output_type": "stream",
          "name": "stderr",
          "text": [
            "\rScraping talks in parallel:  32%|███▏      | 1299/4112 [02:05<04:07, 11.39it/s]"
          ]
        },
        {
          "output_type": "stream",
          "name": "stdout",
          "text": [
            "Successfully fetched https://www.churchofjesuschrist.org/study/general-conference/2008/04/restoring-faith-in-the-family?lang=eng\n",
            "Successfully fetched https://www.churchofjesuschrist.org/study/general-conference/2008/04/statistical-report-2007?lang=eng\n",
            "Successfully fetched https://www.churchofjesuschrist.org/study/general-conference/2008/04/faith-of-our-father?lang=eng\n"
          ]
        },
        {
          "output_type": "stream",
          "name": "stderr",
          "text": [
            "\rScraping talks in parallel:  32%|███▏      | 1303/4112 [02:05<03:40, 12.77it/s]"
          ]
        },
        {
          "output_type": "stream",
          "name": "stdout",
          "text": [
            "Successfully fetched https://www.churchofjesuschrist.org/study/general-conference/2008/04/testimony?lang=eng\n",
            "Successfully fetched https://www.churchofjesuschrist.org/study/general-conference/2008/04/at-all-times-in-all-things-and-in-all-places?lang=eng\n",
            "Successfully fetched https://www.churchofjesuschrist.org/study/general-conference/2008/04/the-true-and-living-church?lang=eng\n",
            "Successfully fetched https://www.churchofjesuschrist.org/study/general-conference/2008/04/the-gospel-of-jesus-christ?lang=eng\n",
            "Successfully fetched https://www.churchofjesuschrist.org/study/general-conference/2008/04/we-will-not-yield-we-cannot-yield?lang=eng\n",
            "Successfully fetched https://www.churchofjesuschrist.org/study/general-conference/2008/04/a-matter-of-a-few-degrees?lang=eng\n",
            "Successfully fetched https://www.churchofjesuschrist.org/study/general-conference/2008/04/concern-for-the-one?lang=eng\n",
            "Successfully fetched https://www.churchofjesuschrist.org/study/general-conference/2007/10/closing-remarks?lang=engSuccessfully fetched https://www.churchofjesuschrist.org/study/general-conference/2007/10/feed-my-sheep?lang=eng\n",
            "Successfully fetched https://www.churchofjesuschrist.org/study/general-conference/2008/04/saturday-morning-session?lang=eng\n",
            "\n"
          ]
        },
        {
          "output_type": "stream",
          "name": "stderr",
          "text": [
            "\rScraping talks in parallel:  32%|███▏      | 1306/4112 [02:06<04:56,  9.45it/s]"
          ]
        },
        {
          "output_type": "stream",
          "name": "stdout",
          "text": [
            "Successfully fetched https://www.churchofjesuschrist.org/study/general-conference/2007/10/live-by-faith-and-not-by-fear?lang=eng\n",
            "Successfully fetched https://www.churchofjesuschrist.org/study/general-conference/2007/10/quench-not-the-spirit-which-quickens-the-inner-man?lang=eng\n"
          ]
        },
        {
          "output_type": "stream",
          "name": "stderr",
          "text": [
            "Scraping talks in parallel:  32%|███▏      | 1317/4112 [02:06<03:06, 15.00it/s]"
          ]
        },
        {
          "output_type": "stream",
          "name": "stdout",
          "text": [
            "Successfully fetched https://www.churchofjesuschrist.org/study/general-conference/2007/10/the-power-of-godliness-is-manifested-in-the-temples-of-god?lang=eng\n",
            "Successfully fetched https://www.churchofjesuschrist.org/study/general-conference/2007/10/why-are-we-members-of-the-only-true-church?lang=eng\n",
            "Successfully fetched https://www.churchofjesuschrist.org/study/general-conference/2007/10/after-all-we-can-do?lang=eng\n",
            "Successfully fetched https://www.churchofjesuschrist.org/study/general-conference/2007/10/a-broken-heart-and-a-contrite-spirit?lang=eng\n",
            "Successfully fetched https://www.churchofjesuschrist.org/study/general-conference/2007/10/a-royal-priesthood?lang=eng\n"
          ]
        },
        {
          "output_type": "stream",
          "name": "stderr",
          "text": [
            "\rScraping talks in parallel:  32%|███▏      | 1321/4112 [02:06<03:03, 15.18it/s]"
          ]
        },
        {
          "output_type": "stream",
          "name": "stdout",
          "text": [
            "Successfully fetched https://www.churchofjesuschrist.org/study/general-conference/2007/10/blessed-are-all-the-pure-in-heart?lang=eng\n",
            "Successfully fetched https://www.churchofjesuschrist.org/study/general-conference/2007/10/good-better-best?lang=eng\n",
            "Successfully fetched https://www.churchofjesuschrist.org/study/general-conference/2007/10/the-weak-and-the-simple-of-the-church?lang=eng\n",
            "Successfully fetched https://www.churchofjesuschrist.org/study/general-conference/2007/10/truth-the-foundation-of-correct-decisions?lang=eng\n"
          ]
        },
        {
          "output_type": "stream",
          "name": "stderr",
          "text": [
            "\rScraping talks in parallel:  32%|███▏      | 1325/4112 [02:07<03:34, 12.97it/s]"
          ]
        },
        {
          "output_type": "stream",
          "name": "stdout",
          "text": [
            "Successfully fetched https://www.churchofjesuschrist.org/study/general-conference/2007/10/have-we-not-reason-to-rejoice?lang=engSuccessfully fetched https://www.churchofjesuschrist.org/study/general-conference/2007/10/o-remember-remember?lang=eng\n",
            "\n",
            "Successfully fetched https://www.churchofjesuschrist.org/study/general-conference/2007/10/raising-the-bar?lang=eng\n",
            "Successfully fetched https://www.churchofjesuschrist.org/study/general-conference/2007/10/out-of-small-things?lang=eng\n",
            "Successfully fetched https://www.churchofjesuschrist.org/study/general-conference/2007/10/enduring-together?lang=eng\n"
          ]
        },
        {
          "output_type": "stream",
          "name": "stderr",
          "text": [
            "\rScraping talks in parallel:  32%|███▏      | 1327/4112 [02:07<03:51, 12.04it/s]"
          ]
        },
        {
          "output_type": "stream",
          "name": "stdout",
          "text": [
            "Successfully fetched https://www.churchofjesuschrist.org/study/general-conference/2007/10/slow-to-anger?lang=eng\n",
            "Successfully fetched https://www.churchofjesuschrist.org/study/general-conference/2007/10/service?lang=eng\n",
            "Successfully fetched https://www.churchofjesuschrist.org/study/general-conference/2007/10/the-great-commandment?lang=eng\n",
            "Successfully fetched https://www.churchofjesuschrist.org/study/general-conference/2007/10/the-only-true-god-and-jesus-christ-whom-he-hath-sent?lang=eng\n"
          ]
        },
        {
          "output_type": "stream",
          "name": "stderr",
          "text": [
            "\rScraping talks in parallel:  32%|███▏      | 1332/4112 [02:07<03:41, 12.56it/s]"
          ]
        },
        {
          "output_type": "stream",
          "name": "stdout",
          "text": [
            "Successfully fetched https://www.churchofjesuschrist.org/study/general-conference/2007/10/strengthen-home-and-family?lang=eng\n",
            "Successfully fetched https://www.churchofjesuschrist.org/study/general-conference/2007/10/faith-family-facts-and-fruits?lang=eng\n",
            "Successfully fetched https://www.churchofjesuschrist.org/study/general-conference/2007/10/scriptural-witnesses?lang=eng\n"
          ]
        },
        {
          "output_type": "stream",
          "name": "stderr",
          "text": [
            "\rScraping talks in parallel:  32%|███▏      | 1335/4112 [02:08<04:09, 11.12it/s]"
          ]
        },
        {
          "output_type": "stream",
          "name": "stdout",
          "text": [
            "Successfully fetched https://www.churchofjesuschrist.org/study/general-conference/2007/10/today-is-the-time?lang=eng\n",
            "Successfully fetched https://www.churchofjesuschrist.org/study/general-conference/2007/10/what-latter-day-saint-women-do-best-stand-strong-and-immovable?lang=engSuccessfully fetched https://www.churchofjesuschrist.org/study/general-conference/2007/10/do-it-now?lang=eng\n",
            "\n",
            "Successfully fetched https://www.churchofjesuschrist.org/study/general-conference/2007/10/three-goals-to-guide-you?lang=eng\n",
            "Successfully fetched https://www.churchofjesuschrist.org/study/general-conference/2007/10/god-helps-the-faithful-priesthood-holder?lang=eng\n",
            "Successfully fetched https://www.churchofjesuschrist.org/study/general-conference/2007/10/the-sustaining-of-church-officers?lang=eng\n",
            "Successfully fetched https://www.churchofjesuschrist.org/study/general-conference/2007/10/claim-the-exceeding-great-and-precious-promises?lang=engSuccessfully fetched https://www.churchofjesuschrist.org/study/general-conference/2007/10/knowing-that-we-know?lang=eng\n",
            "\n"
          ]
        },
        {
          "output_type": "stream",
          "name": "stderr",
          "text": [
            "\rScraping talks in parallel:  33%|███▎      | 1340/4112 [02:08<04:08, 11.15it/s]"
          ]
        },
        {
          "output_type": "stream",
          "name": "stdout",
          "text": [
            "Successfully fetched https://www.churchofjesuschrist.org/study/general-conference/2007/10/mothers-who-know?lang=eng\n",
            "Successfully fetched https://www.churchofjesuschrist.org/study/general-conference/2007/10/clean-hands-and-a-pure-heart?lang=eng\n",
            "Successfully fetched https://www.churchofjesuschrist.org/study/general-conference/2007/10/mrs-patton-the-story-continues?lang=eng\n"
          ]
        },
        {
          "output_type": "stream",
          "name": "stderr",
          "text": [
            "\rScraping talks in parallel:  33%|███▎      | 1346/4112 [02:08<03:31, 13.09it/s]"
          ]
        },
        {
          "output_type": "stream",
          "name": "stdout",
          "text": [
            "Successfully fetched https://www.churchofjesuschrist.org/study/general-conference/2007/10/don-t-leave-for-tomorrow-what-you-can-do-today?lang=eng\n",
            "Successfully fetched https://www.churchofjesuschrist.org/study/general-conference/2007/10/the-stone-cut-out-of-the-mountain?lang=eng\n",
            "Successfully fetched https://www.churchofjesuschrist.org/study/general-conference/2007/10/nourished-by-the-good-word-of-god?lang=eng\n"
          ]
        },
        {
          "output_type": "stream",
          "name": "stderr",
          "text": [
            "\rScraping talks in parallel:  33%|███▎      | 1353/4112 [02:09<02:30, 18.39it/s]"
          ]
        },
        {
          "output_type": "stream",
          "name": "stdout",
          "text": [
            "Successfully fetched https://www.churchofjesuschrist.org/study/general-conference/2007/10/personal-revelation-the-teachings-and-examples-of-the-prophets?lang=eng\n",
            "Successfully fetched https://www.churchofjesuschrist.org/study/general-conference/2007/10/i-will-strengthen-thee-i-will-help-thee?lang=eng\n",
            "Successfully fetched https://www.churchofjesuschrist.org/study/general-conference/2007/04/the-tongue-of-angels?lang=eng\n",
            "Successfully fetched https://www.churchofjesuschrist.org/study/general-conference/2007/04/i-know-that-my-redeemer-lives?lang=eng\n",
            "Successfully fetched https://www.churchofjesuschrist.org/study/general-conference/2007/10/preach-my-gospel-the-unifying-tool-between-members-and-missionaries?lang=eng\n",
            "Successfully fetched https://www.churchofjesuschrist.org/study/general-conference/2007/10/small-and-simple-things?lang=eng\n",
            "Successfully fetched https://www.churchofjesuschrist.org/study/general-conference/2007/04/church-auditing-department-report-2006?lang=eng\n",
            "Successfully fetched https://www.churchofjesuschrist.org/study/general-conference/2007/04/the-nourishing-power-of-hymns?lang=eng\n"
          ]
        },
        {
          "output_type": "stream",
          "name": "stderr",
          "text": [
            "\rScraping talks in parallel:  33%|███▎      | 1356/4112 [02:09<04:07, 11.13it/s]"
          ]
        },
        {
          "output_type": "stream",
          "name": "stdout",
          "text": [
            "Successfully fetched https://www.churchofjesuschrist.org/study/general-conference/2007/04/statistical-report-2006?lang=eng\n",
            "Successfully fetched https://www.churchofjesuschrist.org/study/general-conference/2007/04/tabernacle-memories?lang=eng\n",
            "Successfully fetched https://www.churchofjesuschrist.org/study/general-conference/2007/04/let-virtue-garnish-thy-thoughts-unceasingly?lang=eng\n",
            "Successfully fetched https://www.churchofjesuschrist.org/study/general-conference/2007/10/saturday-morning-session?lang=eng\n"
          ]
        },
        {
          "output_type": "stream",
          "name": "stderr",
          "text": [
            "Scraping talks in parallel:  33%|███▎      | 1363/4112 [02:10<03:17, 13.91it/s]"
          ]
        },
        {
          "output_type": "stream",
          "name": "stdout",
          "text": [
            "Successfully fetched https://www.churchofjesuschrist.org/study/general-conference/2007/04/a-tabernacle-in-the-wilderness?lang=eng\n",
            "Successfully fetched https://www.churchofjesuschrist.org/study/general-conference/2007/04/gratitude-a-path-to-happiness?lang=eng\n",
            "Successfully fetched https://www.churchofjesuschrist.org/study/general-conference/2007/04/using-the-supernal-gift-of-prayer?lang=eng\n",
            "Successfully fetched https://www.churchofjesuschrist.org/study/general-conference/2007/04/remembering-repenting-and-changing?lang=eng\n",
            "Successfully fetched https://www.churchofjesuschrist.org/study/general-conference/2007/04/lifes-lessons-learned?lang=eng\n",
            "Successfully fetched https://www.churchofjesuschrist.org/study/general-conference/2007/04/this-day?lang=eng\n",
            "Successfully fetched https://www.churchofjesuschrist.org/study/general-conference/2007/04/point-of-safe-return?lang=eng\n",
            "Successfully fetched https://www.churchofjesuschrist.org/study/general-conference/2007/04/commitment-to-the-lord?lang=engSuccessfully fetched https://www.churchofjesuschrist.org/study/general-conference/2007/04/daughters-of-heavenly-father?lang=eng\n",
            "\n"
          ]
        },
        {
          "output_type": "stream",
          "name": "stderr",
          "text": [
            "Scraping talks in parallel:  33%|███▎      | 1372/4112 [02:10<02:44, 16.63it/s]"
          ]
        },
        {
          "output_type": "stream",
          "name": "stdout",
          "text": [
            "Successfully fetched https://www.churchofjesuschrist.org/study/general-conference/2007/04/i-am-clean?lang=eng\n",
            "Successfully fetched https://www.churchofjesuschrist.org/study/general-conference/2007/04/repentance-and-conversion?lang=eng\n",
            "Successfully fetched https://www.churchofjesuschrist.org/study/general-conference/2007/04/divorce?lang=eng\n",
            "Successfully fetched https://www.churchofjesuschrist.org/study/general-conference/2007/04/its-true-isn-t-it-then-what-else-matters?lang=eng\n",
            "Successfully fetched https://www.churchofjesuschrist.org/study/general-conference/2007/04/saturday-morning-session?lang=eng\n",
            "Successfully fetched https://www.churchofjesuschrist.org/study/general-conference/2007/04/the-miracle-of-the-holy-bible?lang=eng\n",
            "Successfully fetched https://www.churchofjesuschrist.org/study/general-conference/2007/04/mom-are-we-christians?lang=eng\n",
            "Successfully fetched https://www.churchofjesuschrist.org/study/general-conference/2007/04/the-priesthood-a-sacred-gift?lang=eng\n",
            "Successfully fetched https://www.churchofjesuschrist.org/study/general-conference/2007/04/remember-and-perish-not?lang=eng\n",
            "Successfully fetched https://www.churchofjesuschrist.org/study/general-conference/2007/04/lay-up-in-store?lang=eng\n",
            "Successfully fetched https://www.churchofjesuschrist.org/study/general-conference/2007/04/message-to-my-grandsons?lang=eng\n",
            "Successfully fetched https://www.churchofjesuschrist.org/study/general-conference/2007/04/the-message-of-the-restoration?lang=eng\n",
            "Successfully fetched https://www.churchofjesuschrist.org/study/general-conference/2007/04/if-these-old-walls-could-talk?lang=eng\n",
            "Successfully fetched https://www.churchofjesuschrist.org/study/general-conference/2007/04/ye-must-be-born-again?lang=eng\n",
            "Successfully fetched https://www.churchofjesuschrist.org/study/general-conference/2007/04/stay-on-the-path?lang=eng\n",
            "Successfully fetched https://www.churchofjesuschrist.org/study/general-conference/2007/04/whos-on-the-lords-side?lang=eng\n",
            "Successfully fetched https://www.churchofjesuschrist.org/study/general-conference/2007/04/the-sustaining-of-church-officers?lang=eng\n"
          ]
        },
        {
          "output_type": "stream",
          "name": "stderr",
          "text": [
            "Scraping talks in parallel:  34%|███▎      | 1387/4112 [02:12<03:17, 13.82it/s]"
          ]
        },
        {
          "output_type": "stream",
          "name": "stdout",
          "text": [
            "Successfully fetched https://www.churchofjesuschrist.org/study/general-conference/2007/04/a-lesson-from-the-book-of-mormon?lang=eng\n",
            "Successfully fetched https://www.churchofjesuschrist.org/study/general-conference/2007/04/prophets-pioneer-and-modern-day?lang=eng\n",
            "Successfully fetched https://www.churchofjesuschrist.org/study/general-conference/2007/04/to-the-aaronic-priesthood-preparing-for-the-decade-of-decision?lang=eng\n"
          ]
        },
        {
          "output_type": "stream",
          "name": "stderr",
          "text": [
            "\rScraping talks in parallel:  34%|███▍      | 1392/4112 [02:12<02:59, 15.11it/s]"
          ]
        },
        {
          "output_type": "stream",
          "name": "stdout",
          "text": [
            "Successfully fetched https://www.churchofjesuschrist.org/study/general-conference/2007/04/the-spirit-of-the-tabernacle?lang=eng\n",
            "Successfully fetched https://www.churchofjesuschrist.org/study/general-conference/2007/04/the-healing-power-of-forgiveness?lang=eng\n",
            "Successfully fetched https://www.churchofjesuschrist.org/study/general-conference/2007/04/do-you-know?lang=eng\n",
            "Successfully fetched https://www.churchofjesuschrist.org/study/general-conference/2007/04/the-things-of-which-i-know?lang=eng\n",
            "Successfully fetched https://www.churchofjesuschrist.org/study/general-conference/2006/10/he-trusts-us?lang=eng\n",
            "Successfully fetched https://www.churchofjesuschrist.org/study/general-conference/2007/04/closing-remarks?lang=eng\n",
            "Successfully fetched https://www.churchofjesuschrist.org/study/general-conference/2007/04/will-a-man-rob-god?lang=eng\n",
            "Successfully fetched https://www.churchofjesuschrist.org/study/general-conference/2007/04/salt-lake-tabernacle-rededication?lang=eng\n"
          ]
        },
        {
          "output_type": "stream",
          "name": "stderr",
          "text": [
            "\rScraping talks in parallel:  34%|███▍      | 1396/4112 [02:13<04:35,  9.85it/s]"
          ]
        },
        {
          "output_type": "stream",
          "name": "stdout",
          "text": [
            "Successfully fetched https://www.churchofjesuschrist.org/study/general-conference/2006/10/prophets-in-the-land-again?lang=eng\n",
            "Successfully fetched https://www.churchofjesuschrist.org/study/general-conference/2006/10/and-nothing-shall-offend-them?lang=eng\n",
            "Successfully fetched https://www.churchofjesuschrist.org/study/general-conference/2006/10/saturday-morning-session?lang=engSuccessfully fetched https://www.churchofjesuschrist.org/study/general-conference/2006/10/in-the-arms-of-his-love?lang=eng\n",
            "Successfully fetched https://www.churchofjesuschrist.org/study/general-conference/2006/10/spiritual-nutrients?lang=eng\n",
            "Successfully fetched https://www.churchofjesuschrist.org/study/general-conference/2006/10/becoming-instruments-in-the-hands-of-god?lang=eng\n",
            "\n",
            "Successfully fetched https://www.churchofjesuschrist.org/study/general-conference/2006/10/the-power-of-patience?lang=eng\n",
            "Successfully fetched https://www.churchofjesuschrist.org/study/general-conference/2006/10/wherefore-settle-this-in-your-hearts?lang=eng\n",
            "Successfully fetched https://www.churchofjesuschrist.org/study/general-conference/2006/10/rise-up-o-men-of-god?lang=eng\n"
          ]
        },
        {
          "output_type": "stream",
          "name": "stderr",
          "text": [
            "Scraping talks in parallel:  34%|███▍      | 1407/4112 [02:14<04:12, 10.72it/s]"
          ]
        },
        {
          "output_type": "stream",
          "name": "stdout",
          "text": [
            "Successfully fetched https://www.churchofjesuschrist.org/study/general-conference/2006/10/behold-your-little-ones?lang=eng\n",
            "Successfully fetched https://www.churchofjesuschrist.org/study/general-conference/2006/10/the-faith-to-move-mountains?lang=eng\n"
          ]
        },
        {
          "output_type": "stream",
          "name": "stderr",
          "text": [
            "\rScraping talks in parallel:  34%|███▍      | 1411/4112 [02:14<04:13, 10.63it/s]"
          ]
        },
        {
          "output_type": "stream",
          "name": "stdout",
          "text": [
            "Successfully fetched https://www.churchofjesuschrist.org/study/general-conference/2006/10/the-power-of-a-personal-testimony?lang=eng\n",
            "Successfully fetched https://www.churchofjesuschrist.org/study/general-conference/2006/10/how-firm-a-foundation?lang=eng\n",
            "Successfully fetched https://www.churchofjesuschrist.org/study/general-conference/2006/10/let-us-be-men?lang=eng\n",
            "Successfully fetched https://www.churchofjesuschrist.org/study/general-conference/2006/10/the-atonement-can-secure-your-peace-and-happiness?lang=eng\n",
            "Successfully fetched https://www.churchofjesuschrist.org/study/general-conference/2006/10/the-great-and-wonderful-love?lang=eng\n"
          ]
        },
        {
          "output_type": "stream",
          "name": "stderr",
          "text": [
            "\rScraping talks in parallel:  34%|███▍      | 1413/4112 [02:15<05:01,  8.94it/s]"
          ]
        },
        {
          "output_type": "stream",
          "name": "stdout",
          "text": [
            "Successfully fetched https://www.churchofjesuschrist.org/study/general-conference/2006/10/closing-remarks?lang=eng\n"
          ]
        },
        {
          "output_type": "stream",
          "name": "stderr",
          "text": [
            "\rScraping talks in parallel:  34%|███▍      | 1415/4112 [02:15<05:55,  7.59it/s]"
          ]
        },
        {
          "output_type": "stream",
          "name": "stdout",
          "text": [
            "Successfully fetched https://www.churchofjesuschrist.org/study/general-conference/2006/10/receiving-by-the-spirit?lang=eng\n",
            "Successfully fetched https://www.churchofjesuschrist.org/study/general-conference/2006/10/the-atonement-can-clean-reclaim-and-sanctify-our-lives?lang=eng\n",
            "Successfully fetched https://www.churchofjesuschrist.org/study/general-conference/2006/10/remembering-the-lords-love?lang=eng\n",
            "Successfully fetched https://www.churchofjesuschrist.org/study/general-conference/2006/10/that-they-might-know-thee?lang=engSuccessfully fetched https://www.churchofjesuschrist.org/study/general-conference/2006/10/the-plan-of-salvation?lang=eng\n",
            "\n",
            "Successfully fetched https://www.churchofjesuschrist.org/study/general-conference/2006/10/to-look-reach-and-come-unto-christ?lang=eng\n",
            "Successfully fetched https://www.churchofjesuschrist.org/study/general-conference/2006/10/look-toward-eternity?lang=eng\n",
            "Successfully fetched https://www.churchofjesuschrist.org/study/general-conference/2006/10/moving-closer-to-him?lang=eng\n",
            "Successfully fetched https://www.churchofjesuschrist.org/study/general-conference/2006/10/the-sustaining-of-church-officers?lang=engSuccessfully fetched https://www.churchofjesuschrist.org/study/general-conference/2006/10/o-be-wise?lang=eng\n",
            "\n",
            "Successfully fetched https://www.churchofjesuschrist.org/study/general-conference/2006/10/a-defense-and-a-refuge?lang=eng\n"
          ]
        },
        {
          "output_type": "stream",
          "name": "stderr",
          "text": [
            "Scraping talks in parallel:  35%|███▍      | 1426/4112 [02:16<04:32,  9.85it/s]"
          ]
        },
        {
          "output_type": "stream",
          "name": "stdout",
          "text": [
            "Successfully fetched https://www.churchofjesuschrist.org/study/general-conference/2006/10/he-heals-the-heavy-laden?lang=eng\n",
            "Successfully fetched https://www.churchofjesuschrist.org/study/general-conference/2006/10/three-towels-and-a-25-cent-newspaper?lang=eng\n",
            "Successfully fetched https://www.churchofjesuschrist.org/study/general-conference/2006/10/a-priesthood-quorum?lang=eng\n",
            "Successfully fetched https://www.churchofjesuschrist.org/study/general-conference/2006/10/the-gathering-of-scattered-israel?lang=eng\n",
            "Successfully fetched https://www.churchofjesuschrist.org/study/general-conference/2006/10/the-law-of-tithing?lang=eng\n",
            "Successfully fetched https://www.churchofjesuschrist.org/study/general-conference/2006/10/the-great-plan-of-happiness?lang=eng\n",
            "Successfully fetched https://www.churchofjesuschrist.org/study/general-conference/2006/10/discipleship?lang=eng\n",
            "Successfully fetched https://www.churchofjesuschrist.org/study/general-conference/2006/10/the-first-generation?lang=eng\n",
            "Successfully fetched https://www.churchofjesuschrist.org/study/general-conference/2006/10/true-to-our-priesthood-trust?lang=eng\n"
          ]
        },
        {
          "output_type": "stream",
          "name": "stderr",
          "text": [
            "\rScraping talks in parallel:  35%|███▍      | 1432/4112 [02:17<05:42,  7.83it/s]"
          ]
        },
        {
          "output_type": "stream",
          "name": "stdout",
          "text": [
            "Successfully fetched https://www.churchofjesuschrist.org/study/general-conference/2006/10/holy-scriptures-the-power-of-god-unto-our-salvation?lang=eng\n",
            "Successfully fetched https://www.churchofjesuschrist.org/study/general-conference/2006/10/sunday-will-come?lang=eng\n",
            "Successfully fetched https://www.churchofjesuschrist.org/study/general-conference/2006/10/we-bear-testimony-to-the-world?lang=eng\n"
          ]
        },
        {
          "output_type": "stream",
          "name": "stderr",
          "text": [
            "\rScraping talks in parallel:  35%|███▍      | 1434/4112 [02:17<05:25,  8.22it/s]"
          ]
        },
        {
          "output_type": "stream",
          "name": "stdout",
          "text": [
            "Successfully fetched https://www.churchofjesuschrist.org/study/general-conference/2006/10/eternally-encircled-in-his-love?lang=eng\n",
            "Successfully fetched https://www.churchofjesuschrist.org/study/general-conference/2006/10/faith-service-constancy?lang=eng\n",
            "Successfully fetched https://www.churchofjesuschrist.org/study/general-conference/2006/04/as-now-we-take-the-sacrament?lang=engSuccessfully fetched https://www.churchofjesuschrist.org/study/general-conference/2006/10/the-temple-is-about-families?lang=eng\n",
            "\n"
          ]
        },
        {
          "output_type": "stream",
          "name": "stderr",
          "text": [
            "Scraping talks in parallel:  35%|███▌      | 1448/4112 [02:18<02:48, 15.85it/s]"
          ]
        },
        {
          "output_type": "stream",
          "name": "stdout",
          "text": [
            "Successfully fetched https://www.churchofjesuschrist.org/study/general-conference/2006/04/statistical-report-2005?lang=eng\n",
            "Successfully fetched https://www.churchofjesuschrist.org/study/general-conference/2006/04/broken-things-to-mend?lang=eng\n",
            "Successfully fetched https://www.churchofjesuschrist.org/study/general-conference/2006/04/the-great-plan-of-happiness?lang=eng\n",
            "Successfully fetched https://www.churchofjesuschrist.org/study/general-conference/2006/04/to-grow-up-unto-the-lord?lang=engSuccessfully fetched https://www.churchofjesuschrist.org/study/general-conference/2006/04/zion-in-the-midst-of-babylon?lang=eng\n",
            "\n",
            "Successfully fetched https://www.churchofjesuschrist.org/study/general-conference/2006/04/all-men-everywhere?lang=eng\n",
            "Successfully fetched https://www.churchofjesuschrist.org/study/general-conference/2006/04/repentance-a-blessing-of-membership?lang=eng\n",
            "Successfully fetched https://www.churchofjesuschrist.org/study/general-conference/2006/04/saturday-morning-session?lang=eng\n",
            "Successfully fetched https://www.churchofjesuschrist.org/study/general-conference/2006/04/prayer-faith-and-family-stepping-stones-to-eternal-happiness?lang=eng\n",
            "Successfully fetched https://www.churchofjesuschrist.org/study/general-conference/2006/04/you-have-a-noble-birthright?lang=eng\n"
          ]
        },
        {
          "output_type": "stream",
          "name": "stderr",
          "text": [
            "\rScraping talks in parallel:  35%|███▌      | 1451/4112 [02:19<05:05,  8.71it/s]"
          ]
        },
        {
          "output_type": "stream",
          "name": "stdout",
          "text": [
            "Successfully fetched https://www.churchofjesuschrist.org/study/general-conference/2006/04/seek-ye-the-kingdom-of-god?lang=engSuccessfully fetched https://www.churchofjesuschrist.org/study/general-conference/2006/04/the-sustaining-of-church-officers?lang=eng\n",
            "\n",
            "Successfully fetched https://www.churchofjesuschrist.org/study/general-conference/2006/04/tender-hearts-and-helping-hands?lang=eng\n",
            "Successfully fetched https://www.churchofjesuschrist.org/study/general-conference/2006/04/the-need-for-greater-kindness?lang=eng\n",
            "Successfully fetched https://www.churchofjesuschrist.org/study/general-conference/2006/04/true-to-the-faith?lang=eng\n"
          ]
        },
        {
          "output_type": "stream",
          "name": "stderr",
          "text": [
            "\rScraping talks in parallel:  35%|███▌      | 1453/4112 [02:19<05:16,  8.41it/s]"
          ]
        },
        {
          "output_type": "stream",
          "name": "stdout",
          "text": [
            "Successfully fetched https://www.churchofjesuschrist.org/study/general-conference/2006/04/that-we-may-always-have-his-spirit-to-be-with-us?lang=eng\n",
            "Successfully fetched https://www.churchofjesuschrist.org/study/general-conference/2006/04/church-auditing-department-report-2005?lang=eng\n",
            "Successfully fetched https://www.churchofjesuschrist.org/study/general-conference/2006/04/to-act-for-ourselves-the-gift-and-blessings-of-agency?lang=eng\n",
            "Successfully fetched https://www.churchofjesuschrist.org/study/general-conference/2006/04/a-royal-priesthood?lang=eng\n",
            "Successfully fetched https://www.churchofjesuschrist.org/study/general-conference/2006/04/see-the-end-from-the-beginning?lang=eng\n",
            "Successfully fetched https://www.churchofjesuschrist.org/study/general-conference/2006/04/the-gift-of-agency?lang=eng\n"
          ]
        },
        {
          "output_type": "stream",
          "name": "stderr",
          "text": [
            "\rScraping talks in parallel:  36%|███▌      | 1461/4112 [02:19<04:14, 10.43it/s]"
          ]
        },
        {
          "output_type": "stream",
          "name": "stdout",
          "text": [
            "Successfully fetched https://www.churchofjesuschrist.org/study/general-conference/2006/04/instruments-of-the-lords-peace?lang=eng\n",
            "Successfully fetched https://www.churchofjesuschrist.org/study/general-conference/2006/04/i-will-remember-your-sins-no-more?lang=eng\n",
            "Successfully fetched https://www.churchofjesuschrist.org/study/general-conference/2006/04/i-am-the-light-which-ye-shall-hold-up?lang=eng\n",
            "Successfully fetched https://www.churchofjesuschrist.org/study/general-conference/2006/04/as-a-child?lang=eng\n"
          ]
        },
        {
          "output_type": "stream",
          "name": "stderr",
          "text": [
            "Scraping talks in parallel:  36%|███▌      | 1473/4112 [02:20<02:48, 15.69it/s]"
          ]
        },
        {
          "output_type": "stream",
          "name": "stdout",
          "text": [
            "Successfully fetched https://www.churchofjesuschrist.org/study/general-conference/2006/04/until-again-we-meet?lang=eng\n",
            "Successfully fetched https://www.churchofjesuschrist.org/study/general-conference/2006/04/now-is-the-time-to-serve-a-mission?lang=eng\n",
            "Successfully fetched https://www.churchofjesuschrist.org/study/general-conference/2006/04/your-light-a-standard-to-all-nations?lang=engSuccessfully fetched https://www.churchofjesuschrist.org/study/general-conference/2006/04/your-mission-will-change-everything?lang=eng\n",
            "\n",
            "Successfully fetched https://www.churchofjesuschrist.org/study/general-conference/2006/04/our-rising-generation?lang=eng\n",
            "Successfully fetched https://www.churchofjesuschrist.org/study/general-conference/2006/04/the-abundant-life?lang=eng\n",
            "Successfully fetched https://www.churchofjesuschrist.org/study/general-conference/2006/04/nurturing-marriage?lang=eng\n",
            "Successfully fetched https://www.churchofjesuschrist.org/study/general-conference/2006/04/an-outpouring-of-blessings?lang=eng\n",
            "Successfully fetched https://www.churchofjesuschrist.org/study/general-conference/2006/04/the-restoration-of-all-things?lang=eng\n",
            "Successfully fetched https://www.churchofjesuschrist.org/study/general-conference/2006/04/it-shows-in-your-face?lang=eng\n"
          ]
        },
        {
          "output_type": "stream",
          "name": "stderr",
          "text": [
            "\rScraping talks in parallel:  36%|███▌      | 1476/4112 [02:21<04:13, 10.40it/s]"
          ]
        },
        {
          "output_type": "stream",
          "name": "stdout",
          "text": [
            "Successfully fetched https://www.churchofjesuschrist.org/study/general-conference/2006/04/creating-a-gospel-sharing-home?lang=eng\n",
            "Successfully fetched https://www.churchofjesuschrist.org/study/general-conference/2006/04/our-sacred-priesthood-trust?lang=eng\n",
            "Successfully fetched https://www.churchofjesuschrist.org/study/general-conference/2005/10/blessings-resulting-from-reading-the-book-of-mormon?lang=eng\n"
          ]
        },
        {
          "output_type": "stream",
          "name": "stderr",
          "text": [
            "\rScraping talks in parallel:  36%|███▌      | 1478/4112 [02:21<04:18, 10.19it/s]"
          ]
        },
        {
          "output_type": "stream",
          "name": "stdout",
          "text": [
            "Successfully fetched https://www.churchofjesuschrist.org/study/general-conference/2005/10/called-and-chosen?lang=eng\n",
            "Successfully fetched https://www.churchofjesuschrist.org/study/general-conference/2005/10/my-soul-delighteth-in-the-scriptures?lang=eng\n",
            "Successfully fetched https://www.churchofjesuschrist.org/study/general-conference/2005/10/if-ye-are-prepared-ye-shall-not-fear?lang=eng\n",
            "Successfully fetched https://www.churchofjesuschrist.org/study/general-conference/2005/10/compass-of-the-lord?lang=eng\n",
            "Successfully fetched https://www.churchofjesuschrist.org/study/general-conference/2005/10/that-we-may-all-sit-down-in-heaven-together?lang=eng\n",
            "Successfully fetched https://www.churchofjesuschrist.org/study/general-conference/2005/10/forgiveness?lang=eng\n",
            "Successfully fetched https://www.churchofjesuschrist.org/study/general-conference/2005/10/do-your-duty-that-is-best?lang=eng\n",
            "Successfully fetched https://www.churchofjesuschrist.org/study/general-conference/2005/10/to-young-women?lang=eng\n"
          ]
        },
        {
          "output_type": "stream",
          "name": "stderr",
          "text": [
            "\rScraping talks in parallel:  36%|███▌      | 1486/4112 [02:21<03:37, 12.10it/s]"
          ]
        },
        {
          "output_type": "stream",
          "name": "stdout",
          "text": [
            "Successfully fetched https://www.churchofjesuschrist.org/study/general-conference/2005/10/gospel-covenants-bring-promised-blessings?lang=eng\n",
            "Successfully fetched https://www.churchofjesuschrist.org/study/general-conference/2005/10/preparations-for-the-restoration-and-the-second-coming-my-hand-shall-be-over-thee?lang=eng\n",
            "Successfully fetched https://www.churchofjesuschrist.org/study/general-conference/2005/10/journey-to-higher-ground?lang=eng\n"
          ]
        },
        {
          "output_type": "stream",
          "name": "stderr",
          "text": [
            "Scraping talks in parallel:  36%|███▋      | 1492/4112 [02:22<03:17, 13.28it/s]"
          ]
        },
        {
          "output_type": "stream",
          "name": "stdout",
          "text": [
            "Successfully fetched https://www.churchofjesuschrist.org/study/general-conference/2005/10/what-matters-most-is-what-lasts-longest?lang=eng\n",
            "Successfully fetched https://www.churchofjesuschrist.org/study/general-conference/2005/10/the-book-of-mormon-the-instrument-to-gather-scattered-israel?lang=eng\n",
            "Successfully fetched https://www.churchofjesuschrist.org/study/general-conference/2005/10/sweet-moments?lang=eng\n",
            "Successfully fetched https://www.churchofjesuschrist.org/study/general-conference/2005/10/benediction?lang=eng\n",
            "Successfully fetched https://www.churchofjesuschrist.org/study/general-conference/2005/10/the-prophet-joseph-smith-teacher-by-example?lang=engSuccessfully fetched https://www.churchofjesuschrist.org/study/general-conference/2005/10/the-light-in-their-eyes?lang=eng\n",
            "\n",
            "Successfully fetched https://www.churchofjesuschrist.org/study/general-conference/2005/10/true-happiness-a-conscious-decision?lang=eng\n",
            "Successfully fetched https://www.churchofjesuschrist.org/study/general-conference/2005/10/a-pattern-for-all?lang=eng\n",
            "Successfully fetched https://www.churchofjesuschrist.org/study/general-conference/2005/10/instruments-in-the-hands-of-god?lang=eng\n",
            "Successfully fetched https://www.churchofjesuschrist.org/study/general-conference/2005/10/the-sustaining-of-church-officers?lang=eng\n",
            "Successfully fetched https://www.churchofjesuschrist.org/study/general-conference/2005/10/knowing-the-lords-will-for-you?lang=eng\n",
            "Successfully fetched https://www.churchofjesuschrist.org/study/general-conference/2005/10/christlike-attributes-the-wind-beneath-our-wings?lang=eng\n",
            "Successfully fetched https://www.churchofjesuschrist.org/study/general-conference/2005/10/feed-my-sheep?lang=eng\n",
            "Successfully fetched https://www.churchofjesuschrist.org/study/general-conference/2005/10/if-christ-had-my-opportunities?lang=engSuccessfully fetched https://www.churchofjesuschrist.org/study/general-conference/2005/10/jesus-christ-the-master-healer?lang=eng\n",
            "\n",
            "Successfully fetched https://www.churchofjesuschrist.org/study/general-conference/2005/10/the-blessings-of-general-conference?lang=eng\n",
            "Successfully fetched https://www.churchofjesuschrist.org/study/general-conference/2005/10/priesthood-authority-in-the-family-and-the-church?lang=eng\n"
          ]
        },
        {
          "output_type": "stream",
          "name": "stderr",
          "text": [
            "\rScraping talks in parallel:  36%|███▋      | 1494/4112 [02:23<07:47,  5.61it/s]"
          ]
        },
        {
          "output_type": "stream",
          "name": "stdout",
          "text": [
            "Successfully fetched https://www.churchofjesuschrist.org/study/general-conference/2005/10/spiritual-preparedness-start-early-and-be-steady?lang=eng\n",
            "Successfully fetched https://www.churchofjesuschrist.org/study/general-conference/2005/10/becoming-a-missionary?lang=eng\n",
            "Successfully fetched https://www.churchofjesuschrist.org/study/general-conference/2005/10/mans-search-for-divine-truth?lang=eng\n",
            "Successfully fetched https://www.churchofjesuschrist.org/study/general-conference/2005/10/opening-remarks?lang=eng\n",
            "Successfully fetched https://www.churchofjesuschrist.org/study/general-conference/2005/10/sacrifice-is-a-joy-and-a-blessing?lang=engSuccessfully fetched https://www.churchofjesuschrist.org/study/general-conference/2005/10/saturday-morning-session?lang=eng\n",
            "\n",
            "Successfully fetched https://www.churchofjesuschrist.org/study/general-conference/2005/10/the-sanctity-of-the-body?lang=eng"
          ]
        },
        {
          "output_type": "stream",
          "name": "stderr",
          "text": [
            "\rScraping talks in parallel:  37%|███▋      | 1506/4112 [02:24<04:54,  8.86it/s]"
          ]
        },
        {
          "output_type": "stream",
          "name": "stdout",
          "text": [
            "Successfully fetched https://www.churchofjesuschrist.org/study/general-conference/2005/04/tithing-a-commandment-even-for-the-destitute?lang=eng\n",
            "\n",
            "Successfully fetched https://www.churchofjesuschrist.org/study/general-conference/2005/10/be-prepared-be-ye-strong-from-henceforth?lang=eng\n",
            "Successfully fetched https://www.churchofjesuschrist.org/study/general-conference/2005/10/on-zions-hill?lang=eng\n"
          ]
        },
        {
          "output_type": "stream",
          "name": "stderr",
          "text": [
            "Scraping talks in parallel:  37%|███▋      | 1514/4112 [02:24<03:25, 12.62it/s]"
          ]
        },
        {
          "output_type": "stream",
          "name": "stdout",
          "text": [
            "Successfully fetched https://www.churchofjesuschrist.org/study/general-conference/2005/04/the-fruits-of-the-first-vision?lang=eng\n",
            "Successfully fetched https://www.churchofjesuschrist.org/study/general-conference/2005/10/truth-restored?lang=eng\n"
          ]
        },
        {
          "output_type": "stream",
          "name": "stderr",
          "text": [
            "\rScraping talks in parallel:  37%|███▋      | 1520/4112 [02:24<02:44, 15.77it/s]"
          ]
        },
        {
          "output_type": "stream",
          "name": "stdout",
          "text": [
            "Successfully fetched https://www.churchofjesuschrist.org/study/general-conference/2005/04/what-seek-ye?lang=eng\n",
            "Successfully fetched https://www.churchofjesuschrist.org/study/general-conference/2005/04/perseverance?lang=eng\n",
            "Successfully fetched https://www.churchofjesuschrist.org/study/general-conference/2005/04/the-book-of-mormon-another-testament-of-jesus-christ-plain-and-precious-things?lang=eng\n",
            "Successfully fetched https://www.churchofjesuschrist.org/study/general-conference/2005/04/pornography?lang=eng\n"
          ]
        },
        {
          "output_type": "stream",
          "name": "stderr",
          "text": [
            "\rScraping talks in parallel:  37%|███▋      | 1525/4112 [02:25<03:24, 12.67it/s]"
          ]
        },
        {
          "output_type": "stream",
          "name": "stdout",
          "text": [
            "Successfully fetched https://www.churchofjesuschrist.org/study/general-conference/2005/04/appreciating-the-counsel-of-those-who-are-bowed-in-years?lang=eng\n",
            "Successfully fetched https://www.churchofjesuschrist.org/study/general-conference/2005/04/the-tender-mercies-of-the-lord?lang=eng\n",
            "Successfully fetched https://www.churchofjesuschrist.org/study/general-conference/2005/04/now-is-the-time-to-prepare?lang=eng\n",
            "Successfully fetched https://www.churchofjesuschrist.org/study/general-conference/2005/04/be-thou-an-example?lang=eng\n",
            "Successfully fetched https://www.churchofjesuschrist.org/study/general-conference/2005/04/the-sacred-call-of-service?lang=eng\n",
            "Successfully fetched https://www.churchofjesuschrist.org/study/general-conference/2005/04/gambling?lang=eng\n",
            "Successfully fetched https://www.churchofjesuschrist.org/study/general-conference/2005/04/one-more?lang=eng\n",
            "Successfully fetched https://www.churchofjesuschrist.org/study/general-conference/2005/04/whos-on-the-lords-side-who?lang=eng\n",
            "Successfully fetched https://www.churchofjesuschrist.org/study/general-conference/2005/04/a-work-for-me-to-do?lang=eng\n"
          ]
        },
        {
          "output_type": "stream",
          "name": "stderr",
          "text": [
            "Scraping talks in parallel:  37%|███▋      | 1533/4112 [02:25<03:08, 13.65it/s]"
          ]
        },
        {
          "output_type": "stream",
          "name": "stdout",
          "text": [
            "Successfully fetched https://www.churchofjesuschrist.org/study/general-conference/2005/04/what-greater-goodness-can-we-know-christlike-friends?lang=eng\n",
            "Successfully fetched https://www.churchofjesuschrist.org/study/general-conference/2005/04/glad-tidings-from-cumorah?lang=eng\n",
            "Successfully fetched https://www.churchofjesuschrist.org/study/general-conference/2005/04/be-of-good-cheer-and-faithful-in-adversity?lang=eng\n",
            "Successfully fetched https://www.churchofjesuschrist.org/study/general-conference/2005/04/the-worth-of-souls?lang=eng\n",
            "Successfully fetched https://www.churchofjesuschrist.org/study/general-conference/2005/04/couple-missionaries-blessings-from-sacrifice-and-service?lang=eng\n",
            "Successfully fetched https://www.churchofjesuschrist.org/study/general-conference/2005/04/hearts-bound-together?lang=eng\n",
            "Successfully fetched https://www.churchofjesuschrist.org/study/general-conference/2005/04/he-knows-you-by-name?lang=eng\n",
            "Successfully fetched https://www.churchofjesuschrist.org/study/general-conference/2005/04/the-power-of-preach-my-gospel?lang=eng\n",
            "Successfully fetched https://www.churchofjesuschrist.org/study/general-conference/2005/04/beware-of-the-evil-behind-the-smiling-eyes?lang=eng\n",
            "Successfully fetched https://www.churchofjesuschrist.org/study/general-conference/2005/04/the-sustaining-of-church-officers?lang=eng\n",
            "Successfully fetched https://www.churchofjesuschrist.org/study/general-conference/2005/04/the-great-things-which-god-has-revealed?lang=eng\n",
            "Successfully fetched https://www.churchofjesuschrist.org/study/general-conference/2005/04/closing-remarks?lang=eng\n",
            "Successfully fetched https://www.churchofjesuschrist.org/study/general-conference/2005/04/constant-truths-for-changing-times?lang=eng\n",
            "Successfully fetched https://www.churchofjesuschrist.org/study/general-conference/2005/04/church-auditing-department-report-2004?lang=eng\n",
            "Successfully fetched https://www.churchofjesuschrist.org/study/general-conference/2005/04/strengthen-thy-brethren?lang=eng\n",
            "Successfully fetched https://www.churchofjesuschrist.org/study/general-conference/2005/04/statistical-report-2004?lang=eng\n",
            "Successfully fetched https://www.churchofjesuschrist.org/study/general-conference/2005/04/all-thy-children-shall-be-taught?lang=eng\n",
            "Successfully fetched https://www.churchofjesuschrist.org/study/general-conference/2005/04/the-virtue-of-kindness?lang=eng\n",
            "Successfully fetched https://www.churchofjesuschrist.org/study/general-conference/2005/04/a-still-small-voice-and-a-throbbing-heart?lang=eng\n",
            "Successfully fetched https://www.churchofjesuschrist.org/study/general-conference/2005/04/our-most-distinguishing-feature?lang=eng\n",
            "Successfully fetched https://www.churchofjesuschrist.org/study/general-conference/2005/04/saturday-morning-session?lang=eng\n",
            "Successfully fetched https://www.churchofjesuschrist.org/study/general-conference/2005/04/standing-in-holy-places?lang=eng\n",
            "Successfully fetched https://www.churchofjesuschrist.org/study/general-conference/2005/04/opening-remarks?lang=eng\n",
            "Successfully fetched https://www.churchofjesuschrist.org/study/general-conference/2004/10/a-tragic-evil-among-us?lang=eng\n",
            "Successfully fetched https://www.churchofjesuschrist.org/study/general-conference/2004/10/choose-you-this-day?lang=eng\n",
            "Successfully fetched https://www.churchofjesuschrist.org/study/general-conference/2005/04/faith-is-the-answer?lang=eng\n",
            "Successfully fetched https://www.churchofjesuschrist.org/study/general-conference/2004/10/we-did-this-for-you?lang=eng\n",
            "Successfully fetched https://www.churchofjesuschrist.org/study/general-conference/2004/10/pure-testimony?lang=eng\n",
            "Successfully fetched https://www.churchofjesuschrist.org/study/general-conference/2004/10/condition-of-the-church?lang=eng\n",
            "Successfully fetched https://www.churchofjesuschrist.org/study/general-conference/2004/10/feed-my-sheep?lang=eng\n",
            "Successfully fetched https://www.churchofjesuschrist.org/study/general-conference/2004/10/i-stand-at-the-door-and-knock?lang=eng\n"
          ]
        },
        {
          "output_type": "stream",
          "name": "stderr",
          "text": [
            "Scraping talks in parallel:  38%|███▊      | 1564/4112 [02:29<03:27, 12.30it/s]"
          ]
        },
        {
          "output_type": "stream",
          "name": "stdout",
          "text": [
            "Successfully fetched https://www.churchofjesuschrist.org/study/general-conference/2004/10/senior-missionaries-and-the-gospel?lang=eng\n",
            "Successfully fetched https://www.churchofjesuschrist.org/study/general-conference/2004/10/the-sustaining-of-church-officers?lang=eng\n"
          ]
        },
        {
          "output_type": "stream",
          "name": "stderr",
          "text": [
            "\rScraping talks in parallel:  38%|███▊      | 1570/4112 [02:29<03:15, 13.03it/s]"
          ]
        },
        {
          "output_type": "stream",
          "name": "stdout",
          "text": [
            "Successfully fetched https://www.churchofjesuschrist.org/study/general-conference/2004/10/prophets-seers-and-revelators?lang=eng\n",
            "Successfully fetched https://www.churchofjesuschrist.org/study/general-conference/2004/10/the-blessings-of-a-proper-fast?lang=eng\n",
            "Successfully fetched https://www.churchofjesuschrist.org/study/general-conference/2004/10/in-the-strength-of-the-lord?lang=eng\n",
            "Successfully fetched https://www.churchofjesuschrist.org/study/general-conference/2004/10/the-opportunity-to-testify?lang=eng\n",
            "Successfully fetched https://www.churchofjesuschrist.org/study/general-conference/2004/10/bringing-peace-and-healing-to-your-soul?lang=eng\n",
            "Successfully fetched https://www.churchofjesuschrist.org/study/general-conference/2004/10/peace-of-conscience-and-peace-of-mind?lang=eng\n",
            "Successfully fetched https://www.churchofjesuschrist.org/study/general-conference/2004/10/more-holiness-give-me?lang=eng\n",
            "Successfully fetched https://www.churchofjesuschrist.org/study/general-conference/2004/10/perilous-times?lang=eng\n",
            "Successfully fetched https://www.churchofjesuschrist.org/study/general-conference/2004/10/press-on?lang=engSuccessfully fetched https://www.churchofjesuschrist.org/study/general-conference/2004/10/keeping-our-covenants?lang=eng\n",
            "\n",
            "Successfully fetched https://www.churchofjesuschrist.org/study/general-conference/2004/10/if-ye-are-prepared-ye-shall-not-fear?lang=eng\n"
          ]
        },
        {
          "output_type": "stream",
          "name": "stderr",
          "text": [
            "Scraping talks in parallel:  38%|███▊      | 1579/4112 [02:30<03:14, 13.01it/s]"
          ]
        },
        {
          "output_type": "stream",
          "name": "stdout",
          "text": [
            "Successfully fetched https://www.churchofjesuschrist.org/study/general-conference/2004/10/belonging-is-our-sacred-birthright?lang=eng\n",
            "Successfully fetched https://www.churchofjesuschrist.org/study/general-conference/2004/10/closing-remarks?lang=eng\n",
            "Successfully fetched https://www.churchofjesuschrist.org/study/general-conference/2004/10/remember-the-teachings-of-your-father?lang=eng\n"
          ]
        },
        {
          "output_type": "stream",
          "name": "stderr",
          "text": [
            "\rScraping talks in parallel:  39%|███▊      | 1585/4112 [02:30<02:38, 15.90it/s]"
          ]
        },
        {
          "output_type": "stream",
          "name": "stdout",
          "text": [
            "Successfully fetched https://www.churchofjesuschrist.org/study/general-conference/2004/10/the-women-in-our-lives?lang=eng\n",
            "Successfully fetched https://www.churchofjesuschrist.org/study/general-conference/2004/10/faith-and-keys?lang=eng\n",
            "Successfully fetched https://www.churchofjesuschrist.org/study/general-conference/2004/10/where-do-i-make-my-stand?lang=eng\n",
            "Successfully fetched https://www.churchofjesuschrist.org/study/general-conference/2004/10/out-of-small-things?lang=eng\n",
            "Successfully fetched https://www.churchofjesuschrist.org/study/general-conference/2004/10/be-not-deceived?lang=engSuccessfully fetched https://www.churchofjesuschrist.org/study/general-conference/2004/10/anxiously-engaged?lang=eng\n",
            "\n",
            "Successfully fetched https://www.churchofjesuschrist.org/study/general-conference/2004/10/the-key-of-the-knowledge-of-god?lang=eng\n",
            "Successfully fetched https://www.churchofjesuschrist.org/study/general-conference/2004/10/what-is-a-quorum?lang=eng\n",
            "Successfully fetched https://www.churchofjesuschrist.org/study/general-conference/2004/10/walking-towards-the-light-of-his-love?lang=eng\n",
            "Successfully fetched https://www.churchofjesuschrist.org/study/general-conference/2004/10/the-least-of-these?lang=eng\n",
            "Successfully fetched https://www.churchofjesuschrist.org/study/general-conference/2004/10/finding-faith-in-the-lord-jesus-christ?lang=eng\n",
            "Successfully fetched https://www.churchofjesuschrist.org/study/general-conference/2004/04/i-was-an-hungred-and-ye-gave-me-meat?lang=eng\n",
            "Successfully fetched https://www.churchofjesuschrist.org/study/general-conference/2004/10/securing-our-testimonies?lang=eng\n"
          ]
        },
        {
          "output_type": "stream",
          "name": "stderr",
          "text": [
            "\rScraping talks in parallel:  39%|███▊      | 1588/4112 [02:31<04:45,  8.84it/s]"
          ]
        },
        {
          "output_type": "stream",
          "name": "stdout",
          "text": [
            "Successfully fetched https://www.churchofjesuschrist.org/study/general-conference/2004/10/the-power-of-gods-love?lang=eng\n",
            "Successfully fetched https://www.churchofjesuschrist.org/study/general-conference/2004/10/saturday-morning-session?lang=eng\n",
            "Successfully fetched https://www.churchofjesuschrist.org/study/general-conference/2004/04/the-sustaining-of-church-officers?lang=eng\n",
            "Successfully fetched https://www.churchofjesuschrist.org/study/general-conference/2004/04/did-you-get-the-right-message?lang=eng\n",
            "Successfully fetched https://www.churchofjesuschrist.org/study/general-conference/2004/10/how-has-relief-society-blessed-your-life?lang=eng\n",
            "Successfully fetched https://www.churchofjesuschrist.org/study/general-conference/2004/04/the-finished-story?lang=eng\n"
          ]
        },
        {
          "output_type": "stream",
          "name": "stderr",
          "text": [
            "Scraping talks in parallel:  39%|███▉      | 1605/4112 [02:32<02:31, 16.51it/s]"
          ]
        },
        {
          "output_type": "stream",
          "name": "stdout",
          "text": [
            "Successfully fetched https://www.churchofjesuschrist.org/study/general-conference/2004/04/standing-spotless-before-the-lord?lang=eng\n",
            "Successfully fetched https://www.churchofjesuschrist.org/study/general-conference/2004/04/concluding-remarks?lang=eng\n",
            "Successfully fetched https://www.churchofjesuschrist.org/study/general-conference/2004/04/in-the-strength-of-the-lord?lang=eng\n",
            "Successfully fetched https://www.churchofjesuschrist.org/study/general-conference/2004/04/but-if-not?lang=eng\n",
            "Successfully fetched https://www.churchofjesuschrist.org/study/general-conference/2004/04/the-words-of-christ-our-spiritual-liahona?lang=eng\n",
            "Successfully fetched https://www.churchofjesuschrist.org/study/general-conference/2004/04/how-to-live-well-amid-increasing-evil?lang=eng\n",
            "Successfully fetched https://www.churchofjesuschrist.org/study/general-conference/2004/04/marriage-and-family-our-sacred-responsibility?lang=engSuccessfully fetched https://www.churchofjesuschrist.org/study/general-conference/2004/04/my-soul-delighteth-in-the-scriptures?lang=eng\n",
            "\n",
            "Successfully fetched https://www.churchofjesuschrist.org/study/general-conference/2004/04/your-personal-influence?lang=eng\n",
            "Successfully fetched https://www.churchofjesuschrist.org/study/general-conference/2004/04/for-the-strength-of-youth?lang=eng\n",
            "Successfully fetched https://www.churchofjesuschrist.org/study/general-conference/2004/04/strengthen-thy-brethren?lang=eng\n",
            "Successfully fetched https://www.churchofjesuschrist.org/study/general-conference/2004/04/do-not-fear?lang=eng\n"
          ]
        },
        {
          "output_type": "stream",
          "name": "stderr",
          "text": [
            "\rScraping talks in parallel:  39%|███▉      | 1609/4112 [02:32<03:35, 11.64it/s]"
          ]
        },
        {
          "output_type": "stream",
          "name": "stdout",
          "text": [
            "Successfully fetched https://www.churchofjesuschrist.org/study/general-conference/2004/04/stay-on-the-high-road?lang=eng\n",
            "Successfully fetched https://www.churchofjesuschrist.org/study/general-conference/2004/04/the-atonement-and-the-value-of-one-soul?lang=eng\n",
            "Successfully fetched https://www.churchofjesuschrist.org/study/general-conference/2004/04/remember-how-merciful-the-lord-hath-been?lang=eng\n",
            "Successfully fetched https://www.churchofjesuschrist.org/study/general-conference/2004/04/statistical-report-2003?lang=eng\n",
            "Successfully fetched https://www.churchofjesuschrist.org/study/general-conference/2004/04/all-things-shall-work-together-for-your-good?lang=eng\n",
            "Successfully fetched https://www.churchofjesuschrist.org/study/general-conference/2004/04/the-atonement-all-for-all?lang=eng\n",
            "Successfully fetched https://www.churchofjesuschrist.org/study/general-conference/2004/04/church-auditing-department-report-2003?lang=eng\n",
            "Successfully fetched https://www.churchofjesuschrist.org/study/general-conference/2004/04/abide-in-me?lang=eng\n",
            "Successfully fetched https://www.churchofjesuschrist.org/study/general-conference/2004/04/when-thou-art-converted?lang=eng\n",
            "Successfully fetched https://www.churchofjesuschrist.org/study/general-conference/2004/04/believe?lang=eng\n"
          ]
        },
        {
          "output_type": "stream",
          "name": "stderr",
          "text": [
            "Scraping talks in parallel:  39%|███▉      | 1621/4112 [02:33<03:11, 13.00it/s]"
          ]
        },
        {
          "output_type": "stream",
          "name": "stdout",
          "text": [
            "Successfully fetched https://www.churchofjesuschrist.org/study/general-conference/2004/04/preparation-for-the-second-coming?lang=eng\n",
            "Successfully fetched https://www.churchofjesuschrist.org/study/general-conference/2004/04/choices?lang=eng\n",
            "Successfully fetched https://www.churchofjesuschrist.org/study/general-conference/2004/04/the-call-for-courage?lang=eng\n",
            "Successfully fetched https://www.churchofjesuschrist.org/study/general-conference/2004/04/applying-the-simple-and-plain-gospel-principles-in-the-family?lang=eng\n",
            "Successfully fetched https://www.churchofjesuschrist.org/study/general-conference/2004/04/a-mother-heart?lang=eng\n",
            "Successfully fetched https://www.churchofjesuschrist.org/study/general-conference/2004/04/fatherhood-an-eternal-calling?lang=eng\n"
          ]
        },
        {
          "output_type": "stream",
          "name": "stderr",
          "text": [
            "\rScraping talks in parallel:  40%|███▉      | 1626/4112 [02:34<03:29, 11.85it/s]"
          ]
        },
        {
          "output_type": "stream",
          "name": "stdout",
          "text": [
            "Successfully fetched https://www.churchofjesuschrist.org/study/general-conference/2004/04/the-church-grows-stronger?lang=eng\n",
            "Successfully fetched https://www.churchofjesuschrist.org/study/general-conference/2004/04/the-dawning-of-a-brighter-day?lang=eng\n",
            "Successfully fetched https://www.churchofjesuschrist.org/study/general-conference/2004/04/earthly-debts-heavenly-debts?lang=eng\n",
            "Successfully fetched https://www.churchofjesuschrist.org/study/general-conference/2004/04/with-all-the-feeling-of-a-tender-parent-a-message-of-hope-to-families?lang=eng\n",
            "Successfully fetched https://www.churchofjesuschrist.org/study/general-conference/2004/04/roots-and-branches?lang=eng\n",
            "Successfully fetched https://www.churchofjesuschrist.org/study/general-conference/2004/04/jesus-the-very-thought-of-thee?lang=eng\n",
            "Successfully fetched https://www.churchofjesuschrist.org/study/general-conference/2003/10/an-ensign-to-the-nations-a-light-to-the-world?lang=eng\n",
            "Successfully fetched https://www.churchofjesuschrist.org/study/general-conference/2004/04/how-great-the-wisdom-and-the-love?lang=eng\n",
            "Successfully fetched https://www.churchofjesuschrist.org/study/general-conference/2003/10/how-choice-a-seer?lang=eng\n"
          ]
        },
        {
          "output_type": "stream",
          "name": "stderr",
          "text": [
            "\rScraping talks in parallel:  40%|███▉      | 1634/4112 [02:35<03:47, 10.90it/s]"
          ]
        },
        {
          "output_type": "stream",
          "name": "stdout",
          "text": [
            "Successfully fetched https://www.churchofjesuschrist.org/study/general-conference/2003/10/let-our-voices-be-heard?lang=eng\n",
            "Successfully fetched https://www.churchofjesuschrist.org/study/general-conference/2003/10/seeing-the-promises-afar-off?lang=eng\n",
            "Successfully fetched https://www.churchofjesuschrist.org/study/general-conference/2004/04/saturday-morning-session?lang=eng\n",
            "Successfully fetched https://www.churchofjesuschrist.org/study/general-conference/2003/10/the-empowerment-of-humility?lang=eng\n",
            "Successfully fetched https://www.churchofjesuschrist.org/study/general-conference/2003/10/the-shepherds-of-israel?lang=eng\n",
            "Successfully fetched https://www.churchofjesuschrist.org/study/general-conference/2003/10/let-us-live-the-gospel-more-fully?lang=eng\n",
            "Successfully fetched https://www.churchofjesuschrist.org/study/general-conference/2003/10/are-you-a-saint?lang=eng\n",
            "Successfully fetched https://www.churchofjesuschrist.org/study/general-conference/2003/10/personal-priesthood-responsibility?lang=eng\n",
            "Successfully fetched https://www.churchofjesuschrist.org/study/general-conference/2003/10/to-the-women-of-the-church?lang=engSuccessfully fetched https://www.churchofjesuschrist.org/study/general-conference/2003/10/come-follow-me?lang=eng\n",
            "\n",
            "Successfully fetched https://www.churchofjesuschrist.org/study/general-conference/2003/10/the-standard-of-truth-has-been-erected?lang=eng\n"
          ]
        },
        {
          "output_type": "stream",
          "name": "stderr",
          "text": [
            "Scraping talks in parallel:  40%|████      | 1646/4112 [02:35<03:20, 12.29it/s]"
          ]
        },
        {
          "output_type": "stream",
          "name": "stdout",
          "text": [
            "Successfully fetched https://www.churchofjesuschrist.org/study/general-conference/2003/10/the-grandeur-of-god?lang=eng\n"
          ]
        },
        {
          "output_type": "stream",
          "name": "stderr",
          "text": [
            "\rScraping talks in parallel:  40%|████      | 1648/4112 [02:36<04:09,  9.86it/s]"
          ]
        },
        {
          "output_type": "stream",
          "name": "stdout",
          "text": [
            "Successfully fetched https://www.churchofjesuschrist.org/study/general-conference/2003/10/the-clarion-call-of-prophets?lang=eng\n",
            "Successfully fetched https://www.churchofjesuschrist.org/study/general-conference/2003/10/the-sustaining-of-church-officers?lang=eng\n"
          ]
        },
        {
          "output_type": "stream",
          "name": "stderr",
          "text": [
            "\rScraping talks in parallel:  40%|████      | 1654/4112 [02:36<03:03, 13.38it/s]"
          ]
        },
        {
          "output_type": "stream",
          "name": "stdout",
          "text": [
            "Successfully fetched https://www.churchofjesuschrist.org/study/general-conference/2003/10/we-believe-all-that-god-has-revealed?lang=eng\n",
            "Successfully fetched https://www.churchofjesuschrist.org/study/general-conference/2003/10/an-enduring-testimony-of-the-mission-of-the-prophet-joseph?lang=eng\n",
            "Successfully fetched https://www.churchofjesuschrist.org/study/general-conference/2003/10/choose-ye-therefore-christ-the-lord?lang=eng\n",
            "Successfully fetched https://www.churchofjesuschrist.org/study/general-conference/2003/10/a-sure-foundation?lang=eng\n",
            "Successfully fetched https://www.churchofjesuschrist.org/study/general-conference/2003/10/receiving-a-testimony-of-the-restored-gospel-of-jesus-christ?lang=eng\n"
          ]
        },
        {
          "output_type": "stream",
          "name": "stderr",
          "text": [
            "\rScraping talks in parallel:  40%|████      | 1656/4112 [02:36<03:59, 10.26it/s]"
          ]
        },
        {
          "output_type": "stream",
          "name": "stdout",
          "text": [
            "Successfully fetched https://www.churchofjesuschrist.org/study/general-conference/2003/10/choosing-charity-that-good-part?lang=eng\n",
            "Successfully fetched https://www.churchofjesuschrist.org/study/general-conference/2003/10/in-covenant-with-him?lang=eng\n",
            "Successfully fetched https://www.churchofjesuschrist.org/study/general-conference/2003/10/the-bridge-builder?lang=eng\n",
            "Successfully fetched https://www.churchofjesuschrist.org/study/general-conference/2003/10/the-state-of-the-church?lang=eng\n",
            "Successfully fetched https://www.churchofjesuschrist.org/study/general-conference/2003/10/saturday-morning-session?lang=eng\n",
            "Successfully fetched https://www.churchofjesuschrist.org/study/general-conference/2003/10/three-choices?lang=eng\n",
            "Successfully fetched https://www.churchofjesuschrist.org/study/general-conference/2003/10/repentance-and-change?lang=eng\n",
            "Successfully fetched https://www.churchofjesuschrist.org/study/general-conference/2003/10/lord-i-believe-help-thou-mine-unbelief?lang=eng\n",
            "Successfully fetched https://www.churchofjesuschrist.org/study/general-conference/2003/10/bring-him-home?lang=eng\n"
          ]
        },
        {
          "output_type": "stream",
          "name": "stderr",
          "text": [
            "\rScraping talks in parallel:  40%|████      | 1658/4112 [02:37<04:45,  8.59it/s]"
          ]
        },
        {
          "output_type": "stream",
          "name": "stdout",
          "text": [
            "Successfully fetched https://www.churchofjesuschrist.org/study/general-conference/2003/10/realize-your-full-potential?lang=eng\n",
            "Successfully fetched https://www.churchofjesuschrist.org/study/general-conference/2003/10/the-phenomenon-that-is-you?lang=eng\n",
            "Successfully fetched https://www.churchofjesuschrist.org/study/general-conference/2003/10/the-atonement-repentance-and-dirty-linen?lang=eng\n"
          ]
        },
        {
          "output_type": "stream",
          "name": "stderr",
          "text": [
            "Scraping talks in parallel:  41%|████      | 1673/4112 [02:37<02:01, 20.12it/s]"
          ]
        },
        {
          "output_type": "stream",
          "name": "stdout",
          "text": [
            "Successfully fetched https://www.churchofjesuschrist.org/study/general-conference/2003/10/the-message-of-the-restoration?lang=eng\n",
            "Successfully fetched https://www.churchofjesuschrist.org/study/general-conference/2003/10/he-knows-us-he-loves-us?lang=eng\n",
            "Successfully fetched https://www.churchofjesuschrist.org/study/general-conference/2003/10/priesthood-keys-and-the-power-to-bless?lang=eng\n",
            "Successfully fetched https://www.churchofjesuschrist.org/study/general-conference/2003/10/young-men-holders-of-keys?lang=eng\n",
            "Successfully fetched https://www.churchofjesuschrist.org/study/general-conference/2003/04/the-importance-of-the-family?lang=eng\n",
            "Successfully fetched https://www.churchofjesuschrist.org/study/general-conference/2003/04/faith-through-tribulation-brings-peace-and-joy?lang=eng\n",
            "Successfully fetched https://www.churchofjesuschrist.org/study/general-conference/2003/04/the-sustaining-of-church-officers?lang=eng\n",
            "Successfully fetched https://www.churchofjesuschrist.org/study/general-conference/2003/04/eternal-marriage?lang=eng\n",
            "Successfully fetched https://www.churchofjesuschrist.org/study/general-conference/2003/10/the-lord-thy-god-will-hold-thy-hand?lang=eng\n"
          ]
        },
        {
          "output_type": "stream",
          "name": "stderr",
          "text": [
            "\rScraping talks in parallel:  41%|████      | 1677/4112 [02:38<03:39, 11.07it/s]"
          ]
        },
        {
          "output_type": "stream",
          "name": "stdout",
          "text": [
            "Successfully fetched https://www.churchofjesuschrist.org/study/general-conference/2003/04/care-for-the-life-of-the-soul?lang=eng\n",
            "Successfully fetched https://www.churchofjesuschrist.org/study/general-conference/2003/04/benediction?lang=eng\n",
            "Successfully fetched https://www.churchofjesuschrist.org/study/general-conference/2003/04/holy-place-sacred-space?lang=eng\n"
          ]
        },
        {
          "output_type": "stream",
          "name": "stderr",
          "text": [
            "\rScraping talks in parallel:  41%|████      | 1680/4112 [02:38<03:08, 12.89it/s]"
          ]
        },
        {
          "output_type": "stream",
          "name": "stdout",
          "text": [
            "Successfully fetched https://www.churchofjesuschrist.org/study/general-conference/2003/04/war-and-peace?lang=eng\n",
            "Successfully fetched https://www.churchofjesuschrist.org/study/general-conference/2003/04/statistical-report-2002?lang=eng\n",
            "Successfully fetched https://www.churchofjesuschrist.org/study/general-conference/2003/04/the-sustaining-power-of-faith-in-times-of-uncertainty-and-testing?lang=eng\n",
            "Successfully fetched https://www.churchofjesuschrist.org/study/general-conference/2003/04/the-golden-years?lang=eng\n",
            "Successfully fetched https://www.churchofjesuschrist.org/study/general-conference/2003/04/there-is-hope-smiling-brightly-before-us?lang=engSuccessfully fetched https://www.churchofjesuschrist.org/study/general-conference/2003/04/a-child-and-a-disciple?lang=eng\n",
            "\n",
            "Successfully fetched https://www.churchofjesuschrist.org/study/general-conference/2003/04/give-thanks-in-all-things?lang=engSuccessfully fetched https://www.churchofjesuschrist.org/study/general-conference/2003/04/overcoming-the-stench-of-sin?lang=eng\n",
            "\n",
            "Successfully fetched https://www.churchofjesuschrist.org/study/general-conference/2003/04/a-prayer-for-the-children?lang=eng\n"
          ]
        },
        {
          "output_type": "stream",
          "name": "stderr",
          "text": [
            "\rScraping talks in parallel:  41%|████      | 1683/4112 [02:39<04:16,  9.48it/s]"
          ]
        },
        {
          "output_type": "stream",
          "name": "stdout",
          "text": [
            "Successfully fetched https://www.churchofjesuschrist.org/study/general-conference/2003/04/forgiveness-will-change-bitterness-to-love?lang=eng\n",
            "Successfully fetched https://www.churchofjesuschrist.org/study/general-conference/2003/04/dear-are-the-sheep-that-have-wandered?lang=eng\n",
            "Successfully fetched https://www.churchofjesuschrist.org/study/general-conference/2003/04/loyalty?lang=eng\n",
            "Successfully fetched https://www.churchofjesuschrist.org/study/general-conference/2003/04/the-essential-role-of-member-missionary-work?lang=eng\n",
            "Successfully fetched https://www.churchofjesuschrist.org/study/general-conference/2003/04/words-to-live-by?lang=eng\n",
            "Successfully fetched https://www.churchofjesuschrist.org/study/general-conference/2003/04/the-virtues-of-righteous-daughters-of-god?lang=eng\n",
            "Successfully fetched https://www.churchofjesuschrist.org/study/general-conference/2003/04/the-unspeakable-gift?lang=eng\n"
          ]
        },
        {
          "output_type": "stream",
          "name": "stderr",
          "text": [
            "\rScraping talks in parallel:  41%|████      | 1688/4112 [02:40<05:19,  7.59it/s]"
          ]
        },
        {
          "output_type": "stream",
          "name": "stdout",
          "text": [
            "Successfully fetched https://www.churchofjesuschrist.org/study/general-conference/2003/04/you-are-a-child-of-god?lang=engSuccessfully fetched https://www.churchofjesuschrist.org/study/general-conference/2003/04/growing-into-the-priesthood?lang=eng\n",
            "\n"
          ]
        },
        {
          "output_type": "stream",
          "name": "stderr",
          "text": [
            "Scraping talks in parallel:  41%|████▏     | 1700/4112 [02:40<03:19, 12.08it/s]"
          ]
        },
        {
          "output_type": "stream",
          "name": "stdout",
          "text": [
            "Successfully fetched https://www.churchofjesuschrist.org/study/general-conference/2003/04/show-you-know?lang=eng\n",
            "Successfully fetched https://www.churchofjesuschrist.org/study/general-conference/2003/04/and-thats-the-way-it-is?lang=eng\n",
            "Successfully fetched https://www.churchofjesuschrist.org/study/general-conference/2003/04/steadfast-in-our-covenants?lang=eng\n",
            "Successfully fetched https://www.churchofjesuschrist.org/study/general-conference/2003/04/preparing-for-missionary-service?lang=eng\n",
            "Successfully fetched https://www.churchofjesuschrist.org/study/general-conference/2003/04/in-search-of-treasure?lang=eng\n",
            "Successfully fetched https://www.churchofjesuschrist.org/study/general-conference/2003/04/sweet-power-of-prayer?lang=eng\n",
            "Successfully fetched https://www.churchofjesuschrist.org/study/general-conference/2003/04/the-devils-throat?lang=eng\n",
            "Successfully fetched https://www.churchofjesuschrist.org/study/general-conference/2003/04/saturday-morning-session?lang=eng\n",
            "Successfully fetched https://www.churchofjesuschrist.org/study/general-conference/2003/04/did-i-tell-you?lang=eng\n"
          ]
        },
        {
          "output_type": "stream",
          "name": "stderr",
          "text": [
            "\rScraping talks in parallel:  41%|████▏     | 1702/4112 [02:41<05:54,  6.80it/s]"
          ]
        },
        {
          "output_type": "stream",
          "name": "stdout",
          "text": [
            "Successfully fetched https://www.churchofjesuschrist.org/study/general-conference/2003/04/follow-the-instructions?lang=eng\n",
            "Successfully fetched https://www.churchofjesuschrist.org/study/general-conference/2003/04/the-condition-of-the-church?lang=eng\n",
            "Successfully fetched https://www.churchofjesuschrist.org/study/general-conference/2003/04/the-light-of-his-love?lang=eng\n",
            "Successfully fetched https://www.churchofjesuschrist.org/study/general-conference/2003/04/church-auditing-department-report?lang=eng\n"
          ]
        },
        {
          "output_type": "stream",
          "name": "stderr",
          "text": [
            "\rScraping talks in parallel:  42%|████▏     | 1708/4112 [02:42<04:55,  8.14it/s]"
          ]
        },
        {
          "output_type": "stream",
          "name": "stdout",
          "text": [
            "Successfully fetched https://www.churchofjesuschrist.org/study/general-conference/2003/04/press-forward-and-be-steadfast?lang=eng\n",
            "Successfully fetched https://www.churchofjesuschrist.org/study/general-conference/2003/04/i-can-pray-to-heavenly-father-anytime-anywhere?lang=engSuccessfully fetched https://www.churchofjesuschrist.org/study/general-conference/2003/04/seek-and-ye-shall-find?lang=eng\n",
            "\n",
            "Successfully fetched https://www.churchofjesuschrist.org/study/general-conference/2002/10/i-ll-go-where-you-want-me-to-go?lang=eng\n"
          ]
        },
        {
          "output_type": "stream",
          "name": "stderr",
          "text": [
            "Scraping talks in parallel:  42%|████▏     | 1717/4112 [02:42<03:26, 11.57it/s]"
          ]
        },
        {
          "output_type": "stream",
          "name": "stdout",
          "text": [
            "Successfully fetched https://www.churchofjesuschrist.org/study/general-conference/2002/10/but-if-not?lang=eng\n",
            "Successfully fetched https://www.churchofjesuschrist.org/study/general-conference/2003/04/stand-in-your-appointed-place?lang=eng\n",
            "Successfully fetched https://www.churchofjesuschrist.org/study/general-conference/2003/04/blessed-by-living-water?lang=eng\n",
            "Successfully fetched https://www.churchofjesuschrist.org/study/general-conference/2002/10/sacrifice-brings-forth-the-blessings-of-heaven?lang=eng\n"
          ]
        },
        {
          "output_type": "stream",
          "name": "stderr",
          "text": [
            "\rScraping talks in parallel:  42%|████▏     | 1719/4112 [02:42<03:45, 10.62it/s]"
          ]
        },
        {
          "output_type": "stream",
          "name": "stdout",
          "text": [
            "Successfully fetched https://www.churchofjesuschrist.org/study/general-conference/2002/10/you-are-all-heaven-sent?lang=eng\n",
            "Successfully fetched https://www.churchofjesuschrist.org/study/general-conference/2002/10/with-holiness-of-heart?lang=eng\n",
            "Successfully fetched https://www.churchofjesuschrist.org/study/general-conference/2002/10/that-they-may-be-one-in-us?lang=eng\n",
            "Successfully fetched https://www.churchofjesuschrist.org/study/general-conference/2002/10/a-voice-of-gladness-for-our-children?lang=eng\n",
            "Successfully fetched https://www.churchofjesuschrist.org/study/general-conference/2002/10/peace-be-still?lang=eng\n",
            "Successfully fetched https://www.churchofjesuschrist.org/study/general-conference/2002/10/models-to-follow?lang=eng\n",
            "Successfully fetched https://www.churchofjesuschrist.org/study/general-conference/2002/10/each-a-better-person?lang=eng\n",
            "Successfully fetched https://www.churchofjesuschrist.org/study/general-conference/2002/10/the-stake-patriarch?lang=engSuccessfully fetched https://www.churchofjesuschrist.org/study/general-conference/2002/10/the-sustaining-of-church-officers?lang=eng\n",
            "\n",
            "Successfully fetched https://www.churchofjesuschrist.org/study/general-conference/2002/10/charity-one-family-one-home-at-a-time?lang=eng\n"
          ]
        },
        {
          "output_type": "stream",
          "name": "stderr",
          "text": [
            "\rScraping talks in parallel:  42%|████▏     | 1726/4112 [02:43<04:03,  9.78it/s]"
          ]
        },
        {
          "output_type": "stream",
          "name": "stdout",
          "text": [
            "Successfully fetched https://www.churchofjesuschrist.org/study/general-conference/2002/10/i-believe-i-can-i-knew-i-could?lang=eng\n",
            "Successfully fetched https://www.churchofjesuschrist.org/study/general-conference/2002/10/shall-he-find-faith-on-the-earth?lang=eng\n",
            "Successfully fetched https://www.churchofjesuschrist.org/study/general-conference/2002/10/tithing-a-test-of-faith-with-eternal-blessings?lang=eng\n",
            "Successfully fetched https://www.churchofjesuschrist.org/study/general-conference/2002/10/to-be-free-of-heavy-burdens?lang=eng\n",
            "Successfully fetched https://www.churchofjesuschrist.org/study/general-conference/2002/10/encircled-in-the-arms-of-his-love?lang=eng\n",
            "Successfully fetched https://www.churchofjesuschrist.org/study/general-conference/2002/10/fun-and-happiness?lang=eng\n",
            "Successfully fetched https://www.churchofjesuschrist.org/study/general-conference/2002/10/the-marvelous-foundation-of-our-faith?lang=eng\n",
            "Successfully fetched https://www.churchofjesuschrist.org/study/general-conference/2002/10/the-greatest-generation-of-missionaries?lang=eng\n",
            "Successfully fetched https://www.churchofjesuschrist.org/study/general-conference/2002/10/rise-to-your-call?lang=eng\n",
            "Successfully fetched https://www.churchofjesuschrist.org/study/general-conference/2002/10/saturday-morning-session?lang=eng\n",
            "Successfully fetched https://www.churchofjesuschrist.org/study/general-conference/2002/10/yielding-to-the-enticings-of-the-holy-spirit?lang=eng\n",
            "Successfully fetched https://www.churchofjesuschrist.org/study/general-conference/2002/10/o-that-i-were-an-angel-and-could-have-the-wish-of-mine-heart?lang=eng"
          ]
        },
        {
          "output_type": "stream",
          "name": "stderr",
          "text": [
            "Scraping talks in parallel:  42%|████▏     | 1740/4112 [02:44<02:35, 15.30it/s]"
          ]
        },
        {
          "output_type": "stream",
          "name": "stdout",
          "text": [
            "\n",
            "Successfully fetched https://www.churchofjesuschrist.org/study/general-conference/2002/10/called-to-serve?lang=eng\n",
            "Successfully fetched https://www.churchofjesuschrist.org/study/general-conference/2002/10/blessed-are-the-peacemakers?lang=eng\n",
            "Successfully fetched https://www.churchofjesuschrist.org/study/general-conference/2002/10/called-of-god?lang=eng\n",
            "Successfully fetched https://www.churchofjesuschrist.org/study/general-conference/2002/10/whats-in-it-for-me?lang=eng\n",
            "Successfully fetched https://www.churchofjesuschrist.org/study/general-conference/2002/10/to-men-of-the-priesthood?lang=engSuccessfully fetched https://www.churchofjesuschrist.org/study/general-conference/2002/10/a-woman-of-faith?lang=eng\n",
            "\n",
            "Successfully fetched https://www.churchofjesuschrist.org/study/general-conference/2002/10/come-to-zion-come-to-zion?lang=eng\n",
            "Successfully fetched https://www.churchofjesuschrist.org/study/general-conference/2002/10/were-there-not-ten-cleansed?lang=eng\n",
            "Successfully fetched https://www.churchofjesuschrist.org/study/general-conference/2002/10/dad-are-you-awake?lang=eng\n",
            "Successfully fetched https://www.churchofjesuschrist.org/study/general-conference/2002/04/the-other-prodigal?lang=eng\n"
          ]
        },
        {
          "output_type": "stream",
          "name": "stderr",
          "text": [
            "\rScraping talks in parallel:  42%|████▏     | 1745/4112 [02:45<03:27, 11.38it/s]"
          ]
        },
        {
          "output_type": "stream",
          "name": "stdout",
          "text": [
            "Successfully fetched https://www.churchofjesuschrist.org/study/general-conference/2002/04/strengthen-home-and-family?lang=eng\n",
            "Successfully fetched https://www.churchofjesuschrist.org/study/general-conference/2002/04/the-law-of-tithing?lang=eng\n",
            "Successfully fetched https://www.churchofjesuschrist.org/study/general-conference/2002/04/we-walk-by-faith?lang=eng\n",
            "Successfully fetched https://www.churchofjesuschrist.org/study/general-conference/2002/04/faith-obedience?lang=eng\n",
            "Successfully fetched https://www.churchofjesuschrist.org/study/general-conference/2002/04/this-road-we-call-life?lang=eng\n",
            "Successfully fetched https://www.churchofjesuschrist.org/study/general-conference/2002/04/statistical-report-2001?lang=eng\n",
            "Successfully fetched https://www.churchofjesuschrist.org/study/general-conference/2002/04/the-lifeline-of-prayer?lang=eng\n",
            "Successfully fetched https://www.churchofjesuschrist.org/study/general-conference/2002/04/out-of-darkness-into-his-marvelous-light?lang=eng\n",
            "Successfully fetched https://www.churchofjesuschrist.org/study/general-conference/2002/04/we-look-to-christ?lang=eng\n",
            "Successfully fetched https://www.churchofjesuschrist.org/study/general-conference/2002/04/charity-perfect-and-everlasting-love?lang=engSuccessfully fetched https://www.churchofjesuschrist.org/study/general-conference/2002/10/the-global-church-blessed-by-the-voice-of-the-prophets?lang=eng\n",
            "\n",
            "Successfully fetched https://www.churchofjesuschrist.org/study/general-conference/2002/04/developing-inner-strength?lang=eng\n",
            "Successfully fetched https://www.churchofjesuschrist.org/study/general-conference/2002/04/church-auditing-department-report?lang=eng\n",
            "Successfully fetched https://www.churchofjesuschrist.org/study/general-conference/2002/04/becoming-men-in-whom-the-spirit-of-god-is?lang=eng\n",
            "Successfully fetched https://www.churchofjesuschrist.org/study/general-conference/2002/04/the-church-goes-forward?lang=eng\n",
            "Successfully fetched https://www.churchofjesuschrist.org/study/general-conference/2002/04/being-teachable?lang=eng\n",
            "Successfully fetched https://www.churchofjesuschrist.org/study/general-conference/2002/04/eternal-life-through-jesus-christ?lang=eng\n",
            "Successfully fetched https://www.churchofjesuschrist.org/study/general-conference/2002/04/the-opportunity-to-serve?lang=eng\n",
            "Successfully fetched https://www.churchofjesuschrist.org/study/general-conference/2002/04/saturday-morning-session?lang=eng\n",
            "Successfully fetched https://www.churchofjesuschrist.org/study/general-conference/2002/04/follow-me?lang=eng\n",
            "Successfully fetched https://www.churchofjesuschrist.org/study/general-conference/2002/04/i-ll-go-where-you-want-me-to-go?lang=eng\n",
            "Successfully fetched https://www.churchofjesuschrist.org/study/general-conference/2002/04/full-conversion-brings-happiness?lang=eng\n",
            "Successfully fetched https://www.churchofjesuschrist.org/study/general-conference/2002/04/some-basic-teachings-from-the-history-of-joseph-smith?lang=eng\n",
            "Successfully fetched https://www.churchofjesuschrist.org/study/general-conference/2002/04/feel-the-love-of-the-lord?lang=eng\n",
            "Successfully fetched https://www.churchofjesuschrist.org/study/general-conference/2002/10/blessing-our-families-through-our-covenants?lang=eng\n",
            "Successfully fetched https://www.churchofjesuschrist.org/study/general-conference/2002/04/the-language-of-love?lang=eng\n",
            "Successfully fetched https://www.churchofjesuschrist.org/study/general-conference/2002/04/hidden-wedges?lang=eng\n"
          ]
        },
        {
          "output_type": "stream",
          "name": "stderr",
          "text": [
            "Scraping talks in parallel:  43%|████▎     | 1782/4112 [02:48<02:32, 15.29it/s]"
          ]
        },
        {
          "output_type": "stream",
          "name": "stdout",
          "text": [
            "Successfully fetched https://www.churchofjesuschrist.org/study/general-conference/2002/04/children?lang=eng\n",
            "Successfully fetched https://www.churchofjesuschrist.org/study/general-conference/2002/04/the-sustaining-of-church-officers?lang=eng\n",
            "Successfully fetched https://www.churchofjesuschrist.org/study/general-conference/2002/04/becoming-a-great-benefit-to-our-fellow-beings?lang=eng\n",
            "Successfully fetched https://www.churchofjesuschrist.org/study/general-conference/2002/04/hold-high-the-torch?lang=eng\n",
            "Successfully fetched https://www.churchofjesuschrist.org/study/general-conference/2002/04/true-friends?lang=eng\n",
            "Successfully fetched https://www.churchofjesuschrist.org/study/general-conference/2002/04/consecrate-thy-performance?lang=eng\n",
            "Successfully fetched https://www.churchofjesuschrist.org/study/general-conference/2002/04/standing-in-holy-places?lang=eng\n",
            "Successfully fetched https://www.churchofjesuschrist.org/study/general-conference/2002/04/the-peaceable-things-of-the-kingdom?lang=eng\n",
            "Successfully fetched https://www.churchofjesuschrist.org/study/general-conference/2002/04/personal-worthiness-to-exercise-the-priesthood?lang=eng\n",
            "Successfully fetched https://www.churchofjesuschrist.org/study/general-conference/2002/04/they-pray-and-they-go?lang=eng\n",
            "Successfully fetched https://www.churchofjesuschrist.org/study/general-conference/2002/04/it-can-t-happen-to-me?lang=eng\n",
            "Successfully fetched https://www.churchofjesuschrist.org/study/general-conference/2002/04/for-thy-good?lang=eng\n"
          ]
        },
        {
          "output_type": "stream",
          "name": "stderr",
          "text": [
            "\rScraping talks in parallel:  44%|████▎     | 1792/4112 [02:48<02:33, 15.09it/s]"
          ]
        },
        {
          "output_type": "stream",
          "name": "stdout",
          "text": [
            "Successfully fetched https://www.churchofjesuschrist.org/study/general-conference/2002/04/the-gospel-in-our-lives?lang=eng\n",
            "Successfully fetched https://www.churchofjesuschrist.org/study/general-conference/2001/10/are-we-not-all-mothers?lang=eng\n",
            "Successfully fetched https://www.churchofjesuschrist.org/study/general-conference/2001/10/doctrine-of-inclusion?lang=eng\n",
            "Successfully fetched https://www.churchofjesuschrist.org/study/general-conference/2001/10/it-is-not-good-for-man-or-woman-to-be-alone?lang=engSuccessfully fetched https://www.churchofjesuschrist.org/study/general-conference/2002/04/how-firm-our-foundation?lang=eng\n",
            "\n",
            "Successfully fetched https://www.churchofjesuschrist.org/study/general-conference/2001/10/till-we-meet-again?lang=eng\n",
            "Successfully fetched https://www.churchofjesuschrist.org/study/general-conference/2001/10/help-thou-mine-unbelief?lang=engSuccessfully fetched https://www.churchofjesuschrist.org/study/general-conference/2002/04/pathways-to-perfection?lang=eng\n",
            "\n",
            "Successfully fetched https://www.churchofjesuschrist.org/study/general-conference/2001/10/gratitude?lang=eng\n",
            "Successfully fetched https://www.churchofjesuschrist.org/study/general-conference/2001/10/sharing-the-gospel?lang=eng\n",
            "Successfully fetched https://www.churchofjesuschrist.org/study/general-conference/2001/10/our-fathers-plan?lang=eng\n",
            "Successfully fetched https://www.churchofjesuschrist.org/study/general-conference/2001/10/reaching-down-to-lift-another?lang=eng\n"
          ]
        },
        {
          "output_type": "stream",
          "name": "stderr",
          "text": [
            "\rScraping talks in parallel:  44%|████▍     | 1800/4112 [02:49<03:04, 12.51it/s]"
          ]
        },
        {
          "output_type": "stream",
          "name": "stdout",
          "text": [
            "Successfully fetched https://www.churchofjesuschrist.org/study/general-conference/2001/10/the-returned-missionary?lang=engSuccessfully fetched https://www.churchofjesuschrist.org/study/general-conference/2001/10/the-sustaining-of-church-officers?lang=eng\n",
            "\n",
            "Successfully fetched https://www.churchofjesuschrist.org/study/general-conference/2001/10/the-first-and-great-commandment?lang=eng\n"
          ]
        },
        {
          "output_type": "stream",
          "name": "stderr",
          "text": [
            "\rScraping talks in parallel:  44%|████▍     | 1807/4112 [02:50<02:44, 14.04it/s]"
          ]
        },
        {
          "output_type": "stream",
          "name": "stdout",
          "text": [
            "Successfully fetched https://www.churchofjesuschrist.org/study/general-conference/2001/10/duty-calls?lang=eng\n",
            "Successfully fetched https://www.churchofjesuschrist.org/study/general-conference/2001/10/fulfilling-our-duty-to-god?lang=eng\n",
            "Successfully fetched https://www.churchofjesuschrist.org/study/general-conference/2001/10/building-a-bridge-of-faith?lang=eng\n",
            "Successfully fetched https://www.churchofjesuschrist.org/study/general-conference/2001/10/the-times-in-which-we-live?lang=eng\n",
            "Successfully fetched https://www.churchofjesuschrist.org/study/general-conference/2001/10/faith-of-our-prophets?lang=eng\n",
            "Successfully fetched https://www.churchofjesuschrist.org/study/general-conference/2001/10/the-book-of-mormon-another-testament-of-jesus-christ?lang=eng\n",
            "Successfully fetched https://www.churchofjesuschrist.org/study/general-conference/2001/10/create-or-continue-priesthood-links?lang=eng\n",
            "Successfully fetched https://www.churchofjesuschrist.org/study/general-conference/2001/10/saturday-morning-session?lang=eng\n",
            "Successfully fetched https://www.churchofjesuschrist.org/study/general-conference/2001/10/the-seventh-commandment-a-shield?lang=eng\n",
            "Successfully fetched https://www.churchofjesuschrist.org/study/general-conference/2001/10/our-actions-determine-our-character?lang=eng\n",
            "Successfully fetched https://www.churchofjesuschrist.org/study/general-conference/2001/10/some-great-thing?lang=eng\n"
          ]
        },
        {
          "output_type": "stream",
          "name": "stderr",
          "text": [
            "Scraping talks in parallel:  44%|████▍     | 1819/4112 [02:50<02:30, 15.27it/s]"
          ]
        },
        {
          "output_type": "stream",
          "name": "stdout",
          "text": [
            "Successfully fetched https://www.churchofjesuschrist.org/study/general-conference/2001/10/like-a-watered-garden?lang=eng\n",
            "Successfully fetched https://www.churchofjesuschrist.org/study/general-conference/2001/10/be-thou-an-example?lang=eng\n",
            "Successfully fetched https://www.churchofjesuschrist.org/study/general-conference/2001/10/steadfast-and-immovable?lang=eng\n",
            "Successfully fetched https://www.churchofjesuschrist.org/study/general-conference/2001/10/prayer?lang=eng\n",
            "Successfully fetched https://www.churchofjesuschrist.org/study/general-conference/2001/10/one-step-after-another?lang=eng\n",
            "Successfully fetched https://www.churchofjesuschrist.org/study/general-conference/2001/10/our-duty-to-god?lang=eng\n",
            "Successfully fetched https://www.churchofjesuschrist.org/study/general-conference/2001/10/now-is-the-time?lang=eng\n"
          ]
        },
        {
          "output_type": "stream",
          "name": "stderr",
          "text": [
            "\rScraping talks in parallel:  44%|████▍     | 1824/4112 [02:51<02:50, 13.40it/s]"
          ]
        },
        {
          "output_type": "stream",
          "name": "stdout",
          "text": [
            "Successfully fetched https://www.churchofjesuschrist.org/study/general-conference/2001/10/set-in-order-thy-house?lang=eng\n",
            "Successfully fetched https://www.churchofjesuschrist.org/study/general-conference/2001/10/writing-gospel-principles-in-our-hearts?lang=eng\n",
            "Successfully fetched https://www.churchofjesuschrist.org/study/general-conference/2001/10/living-in-the-fulness-of-times?lang=engSuccessfully fetched https://www.churchofjesuschrist.org/study/general-conference/2001/10/fear-not-for-they-that-be-with-us-are-more?lang=eng\n",
            "\n",
            "Successfully fetched https://www.churchofjesuschrist.org/study/general-conference/2001/10/the-power-of-a-strong-testimony?lang=eng\n"
          ]
        },
        {
          "output_type": "stream",
          "name": "stderr",
          "text": [
            "\rScraping talks in parallel:  44%|████▍     | 1828/4112 [02:51<03:05, 12.32it/s]"
          ]
        },
        {
          "output_type": "stream",
          "name": "stdout",
          "text": [
            "Successfully fetched https://www.churchofjesuschrist.org/study/general-conference/2001/10/standing-tall?lang=eng\n",
            "Successfully fetched https://www.churchofjesuschrist.org/study/general-conference/2001/10/the-atonement-our-greatest-hope?lang=eng\n",
            "Successfully fetched https://www.churchofjesuschrist.org/study/general-conference/2001/10/stand-firm?lang=eng\n",
            "Successfully fetched https://www.churchofjesuschrist.org/study/general-conference/2001/04/a-comforter-a-guide-a-testifier?lang=eng\n",
            "Successfully fetched https://www.churchofjesuschrist.org/study/general-conference/2001/10/beware-of-murmuring?lang=eng\n"
          ]
        },
        {
          "output_type": "stream",
          "name": "stderr",
          "text": [
            "\rScraping talks in parallel:  45%|████▍     | 1833/4112 [02:52<02:58, 12.78it/s]"
          ]
        },
        {
          "output_type": "stream",
          "name": "stdout",
          "text": [
            "Successfully fetched https://www.churchofjesuschrist.org/study/general-conference/2001/04/the-touch-of-the-masters-hand?lang=eng\n",
            "Successfully fetched https://www.churchofjesuschrist.org/study/general-conference/2001/04/the-law-of-the-fast?lang=eng\n",
            "Successfully fetched https://www.churchofjesuschrist.org/study/general-conference/2001/04/you-can-t-pet-a-rattlesnake?lang=eng\n",
            "Successfully fetched https://www.churchofjesuschrist.org/study/general-conference/2001/04/saturday-morning-session?lang=eng\n",
            "Successfully fetched https://www.churchofjesuschrist.org/study/general-conference/2001/04/united-in-love-and-testimony?lang=eng\n",
            "Successfully fetched https://www.churchofjesuschrist.org/study/general-conference/2001/04/sacrifice-an-eternal-investment?lang=eng\n",
            "Successfully fetched https://www.churchofjesuschrist.org/study/general-conference/2001/04/to-bear-testimony-of-mine-only-begotten?lang=eng\n",
            "Successfully fetched https://www.churchofjesuschrist.org/study/general-conference/2001/04/the-miracle-of-faith?lang=eng\n"
          ]
        },
        {
          "output_type": "stream",
          "name": "stderr",
          "text": [
            "\rScraping talks in parallel:  45%|████▍     | 1837/4112 [02:53<04:13,  8.98it/s]"
          ]
        },
        {
          "output_type": "stream",
          "name": "stdout",
          "text": [
            "Successfully fetched https://www.churchofjesuschrist.org/study/general-conference/2001/04/first-things-first?lang=eng\n",
            "Successfully fetched https://www.churchofjesuschrist.org/study/general-conference/2001/04/a-god-of-miracles?lang=eng\n",
            "Successfully fetched https://www.churchofjesuschrist.org/study/general-conference/2001/04/them-that-honour-me-i-will-honour?lang=eng\n"
          ]
        },
        {
          "output_type": "stream",
          "name": "stderr",
          "text": [
            "Scraping talks in parallel:  45%|████▍     | 1844/4112 [02:53<03:21, 11.28it/s]"
          ]
        },
        {
          "output_type": "stream",
          "name": "stdout",
          "text": [
            "Successfully fetched https://www.churchofjesuschrist.org/study/general-conference/2001/04/witnesses-unto-me?lang=eng\n",
            "Successfully fetched https://www.churchofjesuschrist.org/study/general-conference/2001/04/statistical-report-2000?lang=eng\n",
            "Successfully fetched https://www.churchofjesuschrist.org/study/general-conference/2001/04/personal-preparation-for-temple-blessings?lang=eng\n",
            "Successfully fetched https://www.churchofjesuschrist.org/study/general-conference/2001/04/priesthood-power?lang=eng\n",
            "Successfully fetched https://www.churchofjesuschrist.org/study/general-conference/2001/04/how-can-i-become-the-woman-of-whom-i-dream?lang=eng\n",
            "Successfully fetched https://www.churchofjesuschrist.org/study/general-conference/2001/04/focus-and-priorities?lang=eng\n",
            "Successfully fetched https://www.churchofjesuschrist.org/study/general-conference/2001/04/the-perpetual-education-fund?lang=eng\n",
            "Successfully fetched https://www.churchofjesuschrist.org/study/general-conference/2001/04/plow-in-hope?lang=eng\n",
            "Successfully fetched https://www.churchofjesuschrist.org/study/general-conference/2001/04/the-sustaining-of-church-officers?lang=eng\n",
            "Successfully fetched https://www.churchofjesuschrist.org/study/general-conference/2001/04/your-celestial-guide?lang=eng\n",
            "Successfully fetched https://www.churchofjesuschrist.org/study/general-conference/2001/04/to-walk-humbly-with-thy-god?lang=eng\n"
          ]
        },
        {
          "output_type": "stream",
          "name": "stderr",
          "text": [
            "\rScraping talks in parallel:  45%|████▍     | 1849/4112 [02:55<05:53,  6.40it/s]"
          ]
        },
        {
          "output_type": "stream",
          "name": "stdout",
          "text": [
            "Successfully fetched https://www.churchofjesuschrist.org/study/general-conference/2001/04/good-bye-for-another-season?lang=eng\n"
          ]
        },
        {
          "output_type": "stream",
          "name": "stderr",
          "text": [
            "\rScraping talks in parallel:  45%|████▌     | 1859/4112 [02:55<03:16, 11.46it/s]"
          ]
        },
        {
          "output_type": "stream",
          "name": "stdout",
          "text": [
            "Successfully fetched https://www.churchofjesuschrist.org/study/general-conference/2001/04/enhancing-our-temple-experience?lang=eng\n",
            "Successfully fetched https://www.churchofjesuschrist.org/study/general-conference/2001/04/his-word-ye-shall-receive?lang=eng\n",
            "Successfully fetched https://www.churchofjesuschrist.org/study/general-conference/2001/04/compassion?lang=eng\n",
            "Successfully fetched https://www.churchofjesuschrist.org/study/general-conference/2001/04/watch-with-me?lang=eng\n",
            "Successfully fetched https://www.churchofjesuschrist.org/study/general-conference/2001/04/david-a-future-missionary?lang=eng\n",
            "Successfully fetched https://www.churchofjesuschrist.org/study/general-conference/2001/04/couple-missionaries-a-time-to-serve?lang=eng\n",
            "Successfully fetched https://www.churchofjesuschrist.org/study/general-conference/2001/04/building-a-community-of-saints?lang=eng\n",
            "Successfully fetched https://www.churchofjesuschrist.org/study/general-conference/2001/04/developing-our-talent-for-spirituality?lang=eng\n"
          ]
        },
        {
          "output_type": "stream",
          "name": "stderr",
          "text": [
            "\rScraping talks in parallel:  45%|████▌     | 1863/4112 [02:55<03:56,  9.50it/s]"
          ]
        },
        {
          "output_type": "stream",
          "name": "stdout",
          "text": [
            "Successfully fetched https://www.churchofjesuschrist.org/study/general-conference/2001/04/building-the-kingdom?lang=eng\n",
            "Successfully fetched https://www.churchofjesuschrist.org/study/general-conference/2001/04/an-invitation-with-promise?lang=eng\n",
            "Successfully fetched https://www.churchofjesuschrist.org/study/general-conference/2001/04/the-work-goes-on?lang=eng\n",
            "Successfully fetched https://www.churchofjesuschrist.org/study/general-conference/2001/04/gratitude-and-service?lang=eng\n",
            "Successfully fetched https://www.churchofjesuschrist.org/study/general-conference/2000/10/living-prophets-seers-and-revelators?lang=eng\n",
            "Successfully fetched https://www.churchofjesuschrist.org/study/general-conference/2000/10/dedication-day?lang=eng\n",
            "Successfully fetched https://www.churchofjesuschrist.org/study/general-conference/2000/10/the-challenge-to-become?lang=eng\n",
            "Successfully fetched https://www.churchofjesuschrist.org/study/general-conference/2000/10/the-redemption-of-the-dead-and-the-testimony-of-jesus?lang=eng\n",
            "Successfully fetched https://www.churchofjesuschrist.org/study/general-conference/2001/04/church-auditing-department-report?lang=eng\n",
            "Successfully fetched https://www.churchofjesuschrist.org/study/general-conference/2000/10/we-are-instruments-in-the-hands-of-god?lang=eng\n",
            "Successfully fetched https://www.churchofjesuschrist.org/study/general-conference/2001/04/born-again?lang=eng\n"
          ]
        },
        {
          "output_type": "stream",
          "name": "stderr",
          "text": [
            "\rScraping talks in parallel:  45%|████▌     | 1869/4112 [02:56<04:10,  8.94it/s]"
          ]
        },
        {
          "output_type": "stream",
          "name": "stdout",
          "text": [
            "Successfully fetched https://www.churchofjesuschrist.org/study/general-conference/2000/10/cultivate-righteous-traditions?lang=eng\n",
            "Successfully fetched https://www.churchofjesuschrist.org/study/general-conference/2000/10/an-humble-and-a-contrite-heart?lang=eng\n",
            "Successfully fetched https://www.churchofjesuschrist.org/study/general-conference/2000/10/ye-are-the-temple-of-god?lang=eng\n",
            "Successfully fetched https://www.churchofjesuschrist.org/study/general-conference/2000/10/discipleship?lang=eng\n",
            "Successfully fetched https://www.churchofjesuschrist.org/study/general-conference/2000/10/living-by-scriptural-guidance?lang=eng\n",
            "Successfully fetched https://www.churchofjesuschrist.org/study/general-conference/2000/10/retaining-a-remission-of-sin?lang=eng\n",
            "Successfully fetched https://www.churchofjesuschrist.org/study/general-conference/2000/10/the-covenant-of-baptism-to-be-in-the-kingdom-and-of-the-kingdom?lang=eng\n",
            "Successfully fetched https://www.churchofjesuschrist.org/study/general-conference/2000/10/this-great-millennial-year?lang=eng\n",
            "Successfully fetched https://www.churchofjesuschrist.org/study/general-conference/2000/10/the-tugs-and-pulls-of-the-world?lang=eng\n",
            "Successfully fetched https://www.churchofjesuschrist.org/study/general-conference/2001/04/to-the-rescue?lang=eng\n",
            "Successfully fetched https://www.churchofjesuschrist.org/study/general-conference/2000/10/the-enemy-within?lang=eng\n",
            "Successfully fetched https://www.churchofjesuschrist.org/study/general-conference/2000/10/ripples?lang=eng"
          ]
        },
        {
          "output_type": "stream",
          "name": "stderr",
          "text": [
            "\rScraping talks in parallel:  46%|████▌     | 1875/4112 [02:57<04:28,  8.33it/s]"
          ]
        },
        {
          "output_type": "stream",
          "name": "stdout",
          "text": [
            "\n",
            "Successfully fetched https://www.churchofjesuschrist.org/study/general-conference/2000/10/a-growing-testimony?lang=eng\n"
          ]
        },
        {
          "output_type": "stream",
          "name": "stderr",
          "text": [
            "\rScraping talks in parallel:  46%|████▌     | 1892/4112 [02:57<02:17, 16.15it/s]"
          ]
        },
        {
          "output_type": "stream",
          "name": "stdout",
          "text": [
            "Successfully fetched https://www.churchofjesuschrist.org/study/general-conference/2000/10/the-path-to-peace-and-joy?lang=eng\n",
            "Successfully fetched https://www.churchofjesuschrist.org/study/general-conference/2000/10/satans-bag-of-snipes?lang=eng\n",
            "Successfully fetched https://www.churchofjesuschrist.org/study/general-conference/2000/10/come-and-see?lang=eng\n",
            "Successfully fetched https://www.churchofjesuschrist.org/study/general-conference/2000/10/sanctify-yourselves?lang=eng\n",
            "Successfully fetched https://www.churchofjesuschrist.org/study/general-conference/2000/10/a-great-family-in-reverence-and-worship?lang=eng\n",
            "Successfully fetched https://www.churchofjesuschrist.org/study/general-conference/2000/10/pure-testimony?lang=eng\n",
            "Successfully fetched https://www.churchofjesuschrist.org/study/general-conference/2000/10/freedom-from-or-freedom-to?lang=eng\n",
            "Successfully fetched https://www.churchofjesuschrist.org/study/general-conference/2000/10/lead-kindly-light?lang=eng\n",
            "Successfully fetched https://www.churchofjesuschrist.org/study/general-conference/2000/10/great-shall-be-the-peace-of-thy-children?lang=eng\n",
            "Successfully fetched https://www.churchofjesuschrist.org/study/general-conference/2000/10/your-greatest-challenge-mother?lang=eng\n",
            "Successfully fetched https://www.churchofjesuschrist.org/study/general-conference/2000/10/sharing-the-gospel?lang=eng\n",
            "Successfully fetched https://www.churchofjesuschrist.org/study/general-conference/2000/10/the-blessing-of-keeping-the-sabbath-day-holy?lang=eng\n",
            "Successfully fetched https://www.churchofjesuschrist.org/study/general-conference/2000/10/the-sustaining-of-church-officers?lang=eng\n",
            "Successfully fetched https://www.churchofjesuschrist.org/study/general-conference/2000/10/testimony?lang=eng\n",
            "Successfully fetched https://www.churchofjesuschrist.org/study/general-conference/2000/10/be-a-strong-link?lang=eng\n",
            "Successfully fetched https://www.churchofjesuschrist.org/study/general-conference/2000/10/saturday-morning-session?lang=eng\n",
            "Successfully fetched https://www.churchofjesuschrist.org/study/general-conference/2000/10/now-is-the-time?lang=eng\n",
            "Successfully fetched https://www.churchofjesuschrist.org/study/general-conference/2000/10/write-upon-my-heart?lang=eng\n"
          ]
        },
        {
          "output_type": "stream",
          "name": "stderr",
          "text": [
            "\rScraping talks in parallel:  46%|████▌     | 1896/4112 [02:59<03:59,  9.26it/s]"
          ]
        },
        {
          "output_type": "stream",
          "name": "stdout",
          "text": [
            "Successfully fetched https://www.churchofjesuschrist.org/study/general-conference/2000/10/seeking-the-spirit-of-god?lang=eng\n",
            "Successfully fetched https://www.churchofjesuschrist.org/study/general-conference/2000/10/the-joy-of-womanhood?lang=eng\n",
            "Successfully fetched https://www.churchofjesuschrist.org/study/general-conference/2000/10/stand-tall-and-stand-together?lang=eng\n",
            "Successfully fetched https://www.churchofjesuschrist.org/study/general-conference/2000/10/the-call-to-serve?lang=eng\n",
            "Successfully fetched https://www.churchofjesuschrist.org/study/general-conference/2000/10/one-by-one?lang=eng\n"
          ]
        },
        {
          "output_type": "stream",
          "name": "stderr",
          "text": [
            "\rScraping talks in parallel:  46%|████▋     | 1905/4112 [02:59<03:26, 10.68it/s]"
          ]
        },
        {
          "output_type": "stream",
          "name": "stdout",
          "text": [
            "Successfully fetched https://www.churchofjesuschrist.org/study/general-conference/2000/04/standing-with-god?lang=eng\n",
            "Successfully fetched https://www.churchofjesuschrist.org/study/general-conference/2000/04/future-leaders?lang=eng\n",
            "Successfully fetched https://www.churchofjesuschrist.org/study/general-conference/2000/04/integrity?lang=eng\n",
            "Successfully fetched https://www.churchofjesuschrist.org/study/general-conference/2000/04/stand-as-a-witness?lang=eng\n",
            "Successfully fetched https://www.churchofjesuschrist.org/study/general-conference/2000/04/because-my-father-sent-me?lang=eng\n",
            "Successfully fetched https://www.churchofjesuschrist.org/study/general-conference/2000/04/resurrection?lang=eng\n",
            "Successfully fetched https://www.churchofjesuschrist.org/study/general-conference/2000/04/my-testimony?lang=eng\n",
            "Successfully fetched https://www.churchofjesuschrist.org/study/general-conference/2000/04/the-cloven-tongues-of-fire?lang=engSuccessfully fetched https://www.churchofjesuschrist.org/study/general-conference/2000/04/a-brief-introduction-to-the-church?lang=eng\n",
            "\n",
            "Successfully fetched https://www.churchofjesuschrist.org/study/general-conference/2000/04/thou-shalt-give-heed-unto-all-his-words?lang=eng\n"
          ]
        },
        {
          "output_type": "stream",
          "name": "stderr",
          "text": [
            "Scraping talks in parallel:  47%|████▋     | 1919/4112 [03:00<02:41, 13.56it/s]"
          ]
        },
        {
          "output_type": "stream",
          "name": "stdout",
          "text": [
            "Successfully fetched https://www.churchofjesuschrist.org/study/general-conference/2000/04/content-with-the-things-allotted-unto-us?lang=eng\n",
            "Successfully fetched https://www.churchofjesuschrist.org/study/general-conference/2000/04/finding-a-safe-harbor?lang=eng\n",
            "Successfully fetched https://www.churchofjesuschrist.org/study/general-conference/2000/04/your-own-personal-testimony?lang=eng\n"
          ]
        },
        {
          "output_type": "stream",
          "name": "stderr",
          "text": [
            "\rScraping talks in parallel:  47%|████▋     | 1925/4112 [03:00<02:36, 14.01it/s]"
          ]
        },
        {
          "output_type": "stream",
          "name": "stdout",
          "text": [
            "Successfully fetched https://www.churchofjesuschrist.org/study/general-conference/2000/04/the-stake-president?lang=eng\n",
            "Successfully fetched https://www.churchofjesuschrist.org/study/general-conference/2000/04/as-doves-to-our-windows?lang=eng\n",
            "Successfully fetched https://www.churchofjesuschrist.org/study/general-conference/2000/04/watch-over-and-strengthen?lang=eng\n",
            "Successfully fetched https://www.churchofjesuschrist.org/study/general-conference/2000/04/honoring-the-priesthood?lang=eng\n",
            "Successfully fetched https://www.churchofjesuschrist.org/study/general-conference/2000/04/are-you-still-here?lang=eng\n",
            "Successfully fetched https://www.churchofjesuschrist.org/study/general-conference/2000/04/the-sustaining-of-church-officers?lang=eng\n",
            "Successfully fetched https://www.churchofjesuschrist.org/study/general-conference/2000/04/the-power-of-self-mastery?lang=eng\n",
            "Successfully fetched https://www.churchofjesuschrist.org/study/general-conference/2000/04/the-widows-of-zion?lang=eng\n",
            "Successfully fetched https://www.churchofjesuschrist.org/study/general-conference/2000/04/saturday-morning-session?lang=eng\n",
            "Successfully fetched https://www.churchofjesuschrist.org/study/general-conference/2000/04/a-temple-for-west-africa?lang=eng\n",
            "Successfully fetched https://www.churchofjesuschrist.org/study/general-conference/2000/04/statistical-report-1999?lang=eng\n",
            "Successfully fetched https://www.churchofjesuschrist.org/study/general-conference/2000/04/faith-devotion-and-gratitude?lang=eng\n",
            "Successfully fetched https://www.churchofjesuschrist.org/study/general-conference/2000/04/the-church-audit-committee-report?lang=eng\n",
            "Successfully fetched https://www.churchofjesuschrist.org/study/general-conference/2000/04/a-time-of-new-beginnings?lang=eng\n",
            "Successfully fetched https://www.churchofjesuschrist.org/study/general-conference/2000/04/the-sanctity-of-womanhood?lang=engSuccessfully fetched https://www.churchofjesuschrist.org/study/general-conference/2000/04/how-is-it-with-us?lang=eng\n",
            "\n",
            "Successfully fetched https://www.churchofjesuschrist.org/study/general-conference/2000/04/your-eternal-voyage?lang=eng\n"
          ]
        },
        {
          "output_type": "stream",
          "name": "stderr",
          "text": [
            "Scraping talks in parallel:  47%|████▋     | 1941/4112 [03:02<02:27, 14.72it/s]"
          ]
        },
        {
          "output_type": "stream",
          "name": "stdout",
          "text": [
            "Successfully fetched https://www.churchofjesuschrist.org/study/general-conference/2000/04/womanhood-the-highest-place-of-honor?lang=eng\n",
            "Successfully fetched https://www.churchofjesuschrist.org/study/general-conference/2000/04/living-happily-ever-after?lang=eng\n",
            "Successfully fetched https://www.churchofjesuschrist.org/study/general-conference/2000/04/the-creation?lang=eng\n",
            "Successfully fetched https://www.churchofjesuschrist.org/study/general-conference/2000/04/we-are-creators?lang=eng\n"
          ]
        },
        {
          "output_type": "stream",
          "name": "stderr",
          "text": [
            "\rScraping talks in parallel:  47%|████▋     | 1947/4112 [03:02<02:28, 14.59it/s]"
          ]
        },
        {
          "output_type": "stream",
          "name": "stdout",
          "text": [
            "Successfully fetched https://www.churchofjesuschrist.org/study/general-conference/2000/04/to-all-the-world-in-testimony?lang=eng\n",
            "Successfully fetched https://www.churchofjesuschrist.org/study/general-conference/2000/04/the-shield-of-faith?lang=eng\n",
            "Successfully fetched https://www.churchofjesuschrist.org/study/general-conference/2000/04/heavenly-father-has-a-special-plan?lang=eng\n",
            "Successfully fetched https://www.churchofjesuschrist.org/study/general-conference/1999/10/growing-into-the-priesthood?lang=eng\n",
            "Successfully fetched https://www.churchofjesuschrist.org/study/general-conference/2000/04/your-eternal-home?lang=eng\n",
            "Successfully fetched https://www.churchofjesuschrist.org/study/general-conference/1999/10/becoming-our-best-selves?lang=eng\n",
            "Successfully fetched https://www.churchofjesuschrist.org/study/general-conference/2000/04/keep-an-eternal-perspective?lang=eng\n",
            "Successfully fetched https://www.churchofjesuschrist.org/study/general-conference/1999/10/gospel-teaching?lang=eng\n",
            "Successfully fetched https://www.churchofjesuschrist.org/study/general-conference/1999/10/no-man-is-an-island?lang=eng\n",
            "Successfully fetched https://www.churchofjesuschrist.org/study/general-conference/1999/10/our-legacy?lang=eng\n"
          ]
        },
        {
          "output_type": "stream",
          "name": "stderr",
          "text": [
            "Scraping talks in parallel:  48%|████▊     | 1959/4112 [03:03<02:13, 16.07it/s]"
          ]
        },
        {
          "output_type": "stream",
          "name": "stdout",
          "text": [
            "Successfully fetched https://www.churchofjesuschrist.org/study/general-conference/1999/10/at-the-summit-of-the-ages?lang=eng\n",
            "Successfully fetched https://www.churchofjesuschrist.org/study/general-conference/1999/10/righteousness?lang=eng\n",
            "Successfully fetched https://www.churchofjesuschrist.org/study/general-conference/1999/10/behold-the-man?lang=eng\n",
            "Successfully fetched https://www.churchofjesuschrist.org/study/general-conference/1999/10/why-we-do-some-of-the-things-we-do?lang=eng\n"
          ]
        },
        {
          "output_type": "stream",
          "name": "stderr",
          "text": [
            "\rScraping talks in parallel:  48%|████▊     | 1962/4112 [03:03<02:09, 16.60it/s]"
          ]
        },
        {
          "output_type": "stream",
          "name": "stdout",
          "text": [
            "Successfully fetched https://www.churchofjesuschrist.org/study/general-conference/1999/10/rejoice-daughters-of-zion?lang=eng\n",
            "Successfully fetched https://www.churchofjesuschrist.org/study/general-conference/1999/10/an-high-priest-of-good-things-to-come?lang=eng\n",
            "Successfully fetched https://www.churchofjesuschrist.org/study/general-conference/1999/10/a-testimony-of-the-book-of-mormon?lang=eng\n",
            "Successfully fetched https://www.churchofjesuschrist.org/study/general-conference/1999/10/good-bye-to-this-wonderful-old-tabernacle?lang=eng\n",
            "Successfully fetched https://www.churchofjesuschrist.org/study/general-conference/1999/10/home-family-and-personal-enrichment?lang=eng\n",
            "Successfully fetched https://www.churchofjesuschrist.org/study/general-conference/1999/10/he-lives?lang=eng\n",
            "Successfully fetched https://www.churchofjesuschrist.org/study/general-conference/1999/10/hope-an-anchor-of-the-soul?lang=eng\n",
            "Successfully fetched https://www.churchofjesuschrist.org/study/general-conference/1999/10/the-spirit-of-revelation?lang=eng\n"
          ]
        },
        {
          "output_type": "stream",
          "name": "stderr",
          "text": [
            "Scraping talks in parallel:  48%|████▊     | 1967/4112 [03:04<03:04, 11.66it/s]"
          ]
        },
        {
          "output_type": "stream",
          "name": "stdout",
          "text": [
            "Successfully fetched https://www.churchofjesuschrist.org/study/general-conference/1999/10/the-tongue-of-angels?lang=eng\n",
            "Successfully fetched https://www.churchofjesuschrist.org/study/general-conference/1999/10/priesthood-power?lang=eng\n",
            "Successfully fetched https://www.churchofjesuschrist.org/study/general-conference/1999/10/serving-the-lord?lang=eng\n",
            "Successfully fetched https://www.churchofjesuschrist.org/study/general-conference/1999/10/welcome-to-conference?lang=eng\n",
            "Successfully fetched https://www.churchofjesuschrist.org/study/general-conference/1999/10/peace-hope-and-direction?lang=eng\n",
            "Successfully fetched https://www.churchofjesuschrist.org/study/general-conference/1999/10/feed-my-sheep?lang=eng\n",
            "Successfully fetched https://www.churchofjesuschrist.org/study/general-conference/1999/10/the-sustaining-of-church-officers?lang=eng\n"
          ]
        },
        {
          "output_type": "stream",
          "name": "stderr",
          "text": [
            "\rScraping talks in parallel:  48%|████▊     | 1969/4112 [03:04<03:42,  9.65it/s]"
          ]
        },
        {
          "output_type": "stream",
          "name": "stdout",
          "text": [
            "Successfully fetched https://www.churchofjesuschrist.org/study/general-conference/1999/10/a-year-of-jubilee?lang=eng\n",
            "Successfully fetched https://www.churchofjesuschrist.org/study/general-conference/1999/10/one-link-still-holds?lang=eng\n",
            "Successfully fetched https://www.churchofjesuschrist.org/study/general-conference/1999/10/agency-a-blessing-and-a-burden?lang=eng\n",
            "Successfully fetched https://www.churchofjesuschrist.org/study/general-conference/1999/10/do-not-delay?lang=eng\n",
            "Successfully fetched https://www.churchofjesuschrist.org/study/general-conference/1999/10/what-it-means-to-be-a-daughter-of-god?lang=eng\n",
            "Successfully fetched https://www.churchofjesuschrist.org/study/general-conference/1999/10/for-this-cause-came-i-into-the-world?lang=eng\n",
            "Successfully fetched https://www.churchofjesuschrist.org/study/general-conference/1999/10/lessons-from-laman-and-lemuel?lang=eng\n"
          ]
        },
        {
          "output_type": "stream",
          "name": "stderr",
          "text": [
            "\rScraping talks in parallel:  48%|████▊     | 1975/4112 [03:05<03:24, 10.44it/s]"
          ]
        },
        {
          "output_type": "stream",
          "name": "stdout",
          "text": [
            "Successfully fetched https://www.churchofjesuschrist.org/study/general-conference/1999/10/of-seeds-and-soils?lang=eng\n",
            "Successfully fetched https://www.churchofjesuschrist.org/study/general-conference/1999/10/beware-of-false-prophets-and-false-teachers?lang=eng\n",
            "Successfully fetched https://www.churchofjesuschrist.org/study/general-conference/1999/10/saturday-morning-session?lang=eng\n",
            "Successfully fetched https://www.churchofjesuschrist.org/study/general-conference/1999/10/our-destiny?lang=eng\n"
          ]
        },
        {
          "output_type": "stream",
          "name": "stderr",
          "text": [
            "\rScraping talks in parallel:  48%|████▊     | 1982/4112 [03:05<03:40,  9.65it/s]"
          ]
        },
        {
          "output_type": "stream",
          "name": "stdout",
          "text": [
            "Successfully fetched https://www.churchofjesuschrist.org/study/general-conference/1999/10/the-faith-of-a-sparrow-faith-and-trust-in-the-lord-jesus-christ?lang=eng\n",
            "Successfully fetched https://www.churchofjesuschrist.org/study/general-conference/1999/10/spiritual-hurricanes?lang=eng\n",
            "Successfully fetched https://www.churchofjesuschrist.org/study/general-conference/1999/10/we-are-women-of-god?lang=eng\n",
            "Successfully fetched https://www.churchofjesuschrist.org/study/general-conference/1999/10/prophets-and-spiritual-mole-crickets?lang=eng\n",
            "Successfully fetched https://www.churchofjesuschrist.org/study/general-conference/1999/04/made-like-unto-the-son-of-god?lang=eng\n",
            "Successfully fetched https://www.churchofjesuschrist.org/study/general-conference/1999/04/friendship-a-gospel-principle?lang=eng\n",
            "Successfully fetched https://www.churchofjesuschrist.org/study/general-conference/1999/04/inspired-church-welfare?lang=eng\n"
          ]
        },
        {
          "output_type": "stream",
          "name": "stderr",
          "text": [
            "Scraping talks in parallel:  48%|████▊     | 1991/4112 [03:06<02:54, 12.13it/s]"
          ]
        },
        {
          "output_type": "stream",
          "name": "stdout",
          "text": [
            "Successfully fetched https://www.churchofjesuschrist.org/study/general-conference/1999/04/fellowshipping?lang=eng\n",
            "Successfully fetched https://www.churchofjesuschrist.org/study/general-conference/1999/04/the-sustaining-of-church-officers?lang=eng\n"
          ]
        },
        {
          "output_type": "stream",
          "name": "stderr",
          "text": [
            "\rScraping talks in parallel:  49%|████▊     | 1997/4112 [03:06<01:58, 17.90it/s]"
          ]
        },
        {
          "output_type": "stream",
          "name": "stdout",
          "text": [
            "Successfully fetched https://www.churchofjesuschrist.org/study/general-conference/1999/04/your-light-in-the-wilderness?lang=eng\n",
            "Successfully fetched https://www.churchofjesuschrist.org/study/general-conference/1999/04/greed-selfishness-and-overindulgence?lang=eng\n",
            "Successfully fetched https://www.churchofjesuschrist.org/study/general-conference/1999/04/spiritual-power-of-our-baptism?lang=eng\n",
            "Successfully fetched https://www.churchofjesuschrist.org/study/general-conference/1999/04/preparing-our-families-for-the-temple?lang=eng\n",
            "Successfully fetched https://www.churchofjesuschrist.org/study/general-conference/1999/04/like-a-flame-unquenchable?lang=eng\n",
            "Successfully fetched https://www.churchofjesuschrist.org/study/general-conference/1999/04/our-only-chance?lang=eng\n",
            "Successfully fetched https://www.churchofjesuschrist.org/study/general-conference/1999/04/receive-the-temple-blessings?lang=eng\n",
            "Successfully fetched https://www.churchofjesuschrist.org/study/general-conference/1999/04/the-church-audit-committee-report?lang=eng\n",
            "Successfully fetched https://www.churchofjesuschrist.org/study/general-conference/1999/04/saturday-morning-session?lang=eng\n"
          ]
        },
        {
          "output_type": "stream",
          "name": "stderr",
          "text": [
            "\rScraping talks in parallel:  49%|████▊     | 2000/4112 [03:07<04:29,  7.85it/s]"
          ]
        },
        {
          "output_type": "stream",
          "name": "stdout",
          "text": [
            "Successfully fetched https://www.churchofjesuschrist.org/study/general-conference/1999/04/priesthood-and-the-home?lang=eng\n",
            "Successfully fetched https://www.churchofjesuschrist.org/study/general-conference/1999/04/true-followers?lang=eng\n",
            "Successfully fetched https://www.churchofjesuschrist.org/study/general-conference/1999/04/our-sacred-duty-to-honor-women?lang=eng\n",
            "Successfully fetched https://www.churchofjesuschrist.org/study/general-conference/1999/04/find-the-lambs-feed-the-sheep?lang=eng\n",
            "Successfully fetched https://www.churchofjesuschrist.org/study/general-conference/1999/04/thanks-to-the-lord-for-his-blessings?lang=eng\n"
          ]
        },
        {
          "output_type": "stream",
          "name": "stderr",
          "text": [
            "Scraping talks in parallel:  49%|████▉     | 2005/4112 [03:08<04:18,  8.16it/s]"
          ]
        },
        {
          "output_type": "stream",
          "name": "stdout",
          "text": [
            "Successfully fetched https://www.churchofjesuschrist.org/study/general-conference/1999/04/welcome-home?lang=eng\n",
            "Successfully fetched https://www.churchofjesuschrist.org/study/general-conference/1999/04/teach-them-the-word-of-god-with-all-diligence?lang=engSuccessfully fetched https://www.churchofjesuschrist.org/study/general-conference/1999/04/the-priesthood-mighty-army-of-the-lord?lang=eng\n",
            "\n",
            "Successfully fetched https://www.churchofjesuschrist.org/study/general-conference/1999/04/your-celestial-journey?lang=eng\n"
          ]
        },
        {
          "output_type": "stream",
          "name": "stderr",
          "text": [
            "\rScraping talks in parallel:  49%|████▉     | 2010/4112 [03:08<03:03, 11.48it/s]"
          ]
        },
        {
          "output_type": "stream",
          "name": "stdout",
          "text": [
            "Successfully fetched https://www.churchofjesuschrist.org/study/general-conference/1999/04/the-power-of-teaching-doctrine?lang=eng\n",
            "Successfully fetched https://www.churchofjesuschrist.org/study/general-conference/1999/04/statistical-report-1998?lang=eng\n"
          ]
        },
        {
          "output_type": "stream",
          "name": "stderr",
          "text": [
            "\rScraping talks in parallel:  49%|████▉     | 2016/4112 [03:08<02:45, 12.65it/s]"
          ]
        },
        {
          "output_type": "stream",
          "name": "stdout",
          "text": [
            "Successfully fetched https://www.churchofjesuschrist.org/study/general-conference/1999/04/out-of-small-things?lang=eng\n",
            "Successfully fetched https://www.churchofjesuschrist.org/study/general-conference/1999/04/the-witness-martin-harris?lang=eng\n",
            "Successfully fetched https://www.churchofjesuschrist.org/study/general-conference/1999/04/the-bishop-and-his-counselors?lang=eng\n",
            "Successfully fetched https://www.churchofjesuschrist.org/study/general-conference/1999/04/your-name-is-safe-in-our-home?lang=eng\n",
            "Successfully fetched https://www.churchofjesuschrist.org/study/general-conference/1999/04/the-hands-of-the-fathers?lang=eng\n",
            "Successfully fetched https://www.churchofjesuschrist.org/study/general-conference/1999/04/bridges-and-eternal-keepsakes?lang=eng\n",
            "Successfully fetched https://www.churchofjesuschrist.org/study/general-conference/1999/04/the-work-moves-forward?lang=eng\n",
            "Successfully fetched https://www.churchofjesuschrist.org/study/general-conference/1999/04/the-shepherds-of-the-flock?lang=eng\n"
          ]
        },
        {
          "output_type": "stream",
          "name": "stderr",
          "text": [
            "Scraping talks in parallel:  49%|████▉     | 2026/4112 [03:09<02:18, 15.11it/s]"
          ]
        },
        {
          "output_type": "stream",
          "name": "stdout",
          "text": [
            "Successfully fetched https://www.churchofjesuschrist.org/study/general-conference/1999/04/repent-of-our-selfishness-d-c-56-8?lang=eng\n",
            "Successfully fetched https://www.churchofjesuschrist.org/study/general-conference/1999/04/love-and-service?lang=eng\n",
            "Successfully fetched https://www.churchofjesuschrist.org/study/general-conference/1998/04/search-me-o-god-and-know-my-heart?lang=eng\n",
            "Successfully fetched https://www.churchofjesuschrist.org/study/general-conference/1998/04/the-relief-society?lang=eng\n",
            "Successfully fetched https://www.churchofjesuschrist.org/study/general-conference/1999/04/obedience-the-path-to-freedom?lang=eng\n",
            "Successfully fetched https://www.churchofjesuschrist.org/study/general-conference/1998/04/missionary-service?lang=eng\n",
            "Successfully fetched https://www.churchofjesuschrist.org/study/general-conference/1998/04/a-disciple-a-friend?lang=eng\n",
            "Successfully fetched https://www.churchofjesuschrist.org/study/general-conference/1999/04/this-is-our-day?lang=engSuccessfully fetched https://www.churchofjesuschrist.org/study/general-conference/1999/04/strengthening-families-our-sacred-duty?lang=eng\n",
            "Successfully fetched https://www.churchofjesuschrist.org/study/general-conference/1999/04/he-is-not-here-but-is-risen?lang=eng\n",
            "\n",
            "Successfully fetched https://www.churchofjesuschrist.org/study/general-conference/1999/04/follow-the-light?lang=eng\n",
            "Successfully fetched https://www.churchofjesuschrist.org/study/general-conference/1999/04/for-i-was-blind-but-now-i-see?lang=eng\n"
          ]
        },
        {
          "output_type": "stream",
          "name": "stderr",
          "text": [
            "\rScraping talks in parallel:  49%|████▉     | 2029/4112 [03:10<04:27,  7.78it/s]"
          ]
        },
        {
          "output_type": "stream",
          "name": "stdout",
          "text": [
            "Successfully fetched https://www.churchofjesuschrist.org/study/general-conference/1998/04/removing-barriers-to-happiness?lang=eng\n",
            "Successfully fetched https://www.churchofjesuschrist.org/study/general-conference/1998/04/behold-we-count-them-happy-which-endure?lang=eng\n",
            "Successfully fetched https://www.churchofjesuschrist.org/study/general-conference/1998/04/live-the-commandments?lang=eng\n",
            "Successfully fetched https://www.churchofjesuschrist.org/study/general-conference/1998/04/children-and-the-family?lang=eng\n",
            "Successfully fetched https://www.churchofjesuschrist.org/study/general-conference/1998/04/christ-can-change-human-behavior?lang=eng\n",
            "Successfully fetched https://www.churchofjesuschrist.org/study/general-conference/1998/04/tithing-a-privilege?lang=eng\n",
            "Successfully fetched https://www.churchofjesuschrist.org/study/general-conference/1998/04/statistical-report-1997?lang=eng\n",
            "Successfully fetched https://www.churchofjesuschrist.org/study/general-conference/1998/04/the-articles-of-faith?lang=eng\n",
            "Successfully fetched https://www.churchofjesuschrist.org/study/general-conference/1998/04/the-church-audit-committee-report?lang=eng\n",
            "Successfully fetched https://www.churchofjesuschrist.org/study/general-conference/1998/04/that-we-may-be-one?lang=eng\n",
            "Successfully fetched https://www.churchofjesuschrist.org/study/general-conference/1998/04/a-new-harvest-time?lang=eng\n",
            "Successfully fetched https://www.churchofjesuschrist.org/study/general-conference/1998/04/understanding-our-true-identity?lang=eng\n",
            "Successfully fetched https://www.churchofjesuschrist.org/study/general-conference/1998/04/the-heart-and-a-willing-mind?lang=eng\n"
          ]
        },
        {
          "output_type": "stream",
          "name": "stderr",
          "text": [
            "\rScraping talks in parallel:  50%|████▉     | 2039/4112 [03:12<04:50,  7.13it/s]"
          ]
        },
        {
          "output_type": "stream",
          "name": "stdout",
          "text": [
            "Successfully fetched https://www.churchofjesuschrist.org/study/general-conference/1998/04/how-near-to-the-angels?lang=eng\n",
            "Successfully fetched https://www.churchofjesuschrist.org/study/general-conference/1998/04/agency-and-anger?lang=eng\n",
            "Successfully fetched https://www.churchofjesuschrist.org/study/general-conference/1998/04/a-teacher-come-from-god?lang=eng\n",
            "Successfully fetched https://www.churchofjesuschrist.org/study/general-conference/1998/04/marvelous-are-the-revelations-of-the-lord?lang=eng\n",
            "Successfully fetched https://www.churchofjesuschrist.org/study/general-conference/1998/04/turning-hearts-to-the-family?lang=eng\n",
            "Successfully fetched https://www.churchofjesuschrist.org/study/general-conference/1998/04/obedience-lifes-great-challenge?lang=eng\n",
            "Successfully fetched https://www.churchofjesuschrist.org/study/general-conference/1998/04/in-harms-way?lang=eng\n",
            "Successfully fetched https://www.churchofjesuschrist.org/study/general-conference/1998/04/look-to-god-and-live?lang=eng\n",
            "Successfully fetched https://www.churchofjesuschrist.org/study/general-conference/1998/04/testimony?lang=eng\n",
            "Successfully fetched https://www.churchofjesuschrist.org/study/general-conference/1998/04/have-you-been-saved?lang=eng\n",
            "Successfully fetched https://www.churchofjesuschrist.org/study/general-conference/1998/04/bridging-the-gap-between-uncertainty-and-certainty?lang=eng\n",
            "Successfully fetched https://www.churchofjesuschrist.org/study/general-conference/1998/04/new-temples-to-provide-crowning-blessings-of-the-gospel?lang=eng\n",
            "Successfully fetched https://www.churchofjesuschrist.org/study/general-conference/1998/04/put-your-shoulder-to-the-wheel?lang=eng\n",
            "Successfully fetched https://www.churchofjesuschrist.org/study/general-conference/1998/04/young-women-titles-of-liberty?lang=eng\n",
            "Successfully fetched https://www.churchofjesuschrist.org/study/general-conference/1998/04/living-worthy-of-the-girl-you-will-someday-marry?lang=eng\n",
            "Successfully fetched https://www.churchofjesuschrist.org/study/general-conference/1998/04/come-unto-christ?lang=eng\n",
            "Successfully fetched https://www.churchofjesuschrist.org/study/general-conference/1998/04/the-sustaining-of-church-officers?lang=eng\n",
            "Successfully fetched https://www.churchofjesuschrist.org/study/general-conference/1998/04/saturday-morning-session?lang=eng\n",
            "Successfully fetched https://www.churchofjesuschrist.org/study/general-conference/1997/10/behold-the-man?lang=eng\n",
            "Successfully fetched https://www.churchofjesuschrist.org/study/general-conference/1998/04/the-kingdoms-perfecting-pathway?lang=eng\n",
            "Successfully fetched https://www.churchofjesuschrist.org/study/general-conference/1998/04/the-time-to-prepare?lang=eng\n"
          ]
        },
        {
          "output_type": "stream",
          "name": "stderr",
          "text": [
            "\rScraping talks in parallel:  50%|████▉     | 2043/4112 [03:14<08:39,  3.99it/s]"
          ]
        },
        {
          "output_type": "stream",
          "name": "stdout",
          "text": [
            "Successfully fetched https://www.churchofjesuschrist.org/study/general-conference/1998/04/we-seek-after-these-things?lang=eng\n",
            "Successfully fetched https://www.churchofjesuschrist.org/study/general-conference/1997/10/daughter-be-of-good-comfort?lang=eng\n",
            "Successfully fetched https://www.churchofjesuschrist.org/study/general-conference/1998/04/we-bear-witness-of-him?lang=eng\n"
          ]
        },
        {
          "output_type": "stream",
          "name": "stderr",
          "text": [
            "\rScraping talks in parallel:  50%|█████     | 2068/4112 [03:15<03:03, 11.15it/s]"
          ]
        },
        {
          "output_type": "stream",
          "name": "stdout",
          "text": [
            "Successfully fetched https://www.churchofjesuschrist.org/study/general-conference/1998/04/teaching-our-children-to-love-the-scriptures?lang=eng\n",
            "Successfully fetched https://www.churchofjesuschrist.org/study/general-conference/1997/10/spiritual-capacity?lang=eng\n",
            "Successfully fetched https://www.churchofjesuschrist.org/study/general-conference/1997/10/hymn-of-the-obedient-all-is-well?lang=eng\n",
            "Successfully fetched https://www.churchofjesuschrist.org/study/general-conference/1997/10/saturday-morning-session?lang=eng\n",
            "Successfully fetched https://www.churchofjesuschrist.org/study/general-conference/1997/10/the-mighty-strength-of-the-relief-society?lang=eng\n",
            "Successfully fetched https://www.churchofjesuschrist.org/study/general-conference/1997/10/why-every-member-a-missionary?lang=eng\n"
          ]
        },
        {
          "output_type": "stream",
          "name": "stderr",
          "text": [
            "\rScraping talks in parallel:  51%|█████     | 2078/4112 [03:15<02:44, 12.34it/s]"
          ]
        },
        {
          "output_type": "stream",
          "name": "stdout",
          "text": [
            "Successfully fetched https://www.churchofjesuschrist.org/study/general-conference/1997/10/a-celestial-connection-to-your-teenage-years?lang=eng\n",
            "Successfully fetched https://www.churchofjesuschrist.org/study/general-conference/1997/10/called-to-serve?lang=eng\n",
            "Successfully fetched https://www.churchofjesuschrist.org/study/general-conference/1997/10/four-absolute-truths-provide-an-unfailing-moral-compass?lang=eng\n",
            "Successfully fetched https://www.churchofjesuschrist.org/study/general-conference/1997/10/the-home-a-refuge-and-sanctuary?lang=eng\n",
            "Successfully fetched https://www.churchofjesuschrist.org/study/general-conference/1997/10/valued-companions?lang=eng\n",
            "Successfully fetched https://www.churchofjesuschrist.org/study/general-conference/1997/10/creating-places-of-security?lang=eng\n"
          ]
        },
        {
          "output_type": "stream",
          "name": "stderr",
          "text": [
            "\rScraping talks in parallel:  51%|█████     | 2082/4112 [03:16<02:53, 11.69it/s]"
          ]
        },
        {
          "output_type": "stream",
          "name": "stdout",
          "text": [
            "Successfully fetched https://www.churchofjesuschrist.org/study/general-conference/1997/10/receive-truth?lang=eng\n",
            "Successfully fetched https://www.churchofjesuschrist.org/study/general-conference/1997/10/the-sustaining-of-church-officers?lang=eng\n",
            "Successfully fetched https://www.churchofjesuschrist.org/study/general-conference/1997/10/standing-for-truth-and-right?lang=engSuccessfully fetched https://www.churchofjesuschrist.org/study/general-conference/1997/10/drawing-nearer-to-the-lord?lang=eng\n",
            "\n"
          ]
        },
        {
          "output_type": "stream",
          "name": "stderr",
          "text": [
            "\rScraping talks in parallel:  51%|█████     | 2091/4112 [03:16<02:09, 15.61it/s]"
          ]
        },
        {
          "output_type": "stream",
          "name": "stdout",
          "text": [
            "Successfully fetched https://www.churchofjesuschrist.org/study/general-conference/1997/10/feed-my-lambs?lang=eng\n",
            "Successfully fetched https://www.churchofjesuschrist.org/study/general-conference/1997/10/universal-application-of-the-gospel?lang=eng\n",
            "Successfully fetched https://www.churchofjesuschrist.org/study/general-conference/1997/10/pioneers-of-the-future-be-not-afraid-only-believe?lang=eng\n",
            "Successfully fetched https://www.churchofjesuschrist.org/study/general-conference/1997/10/some-thoughts-on-temples-retention-of-converts-and-missionary-service?lang=eng\n",
            "Successfully fetched https://www.churchofjesuschrist.org/study/general-conference/1997/10/the-plan-of-salvation-a-flight-plan-for-life?lang=eng\n",
            "Successfully fetched https://www.churchofjesuschrist.org/study/general-conference/1997/10/are-you-the-woman-i-think-you-are?lang=eng\n",
            "Successfully fetched https://www.churchofjesuschrist.org/study/general-conference/1997/10/apply-the-atoning-blood-of-christ?lang=eng\n",
            "Successfully fetched https://www.churchofjesuschrist.org/study/general-conference/1997/10/he-hath-filled-the-hungry-with-good-things?lang=eng\n",
            "Successfully fetched https://www.churchofjesuschrist.org/study/general-conference/1997/10/teachers-the-timeless-key?lang=eng\n",
            "Successfully fetched https://www.churchofjesuschrist.org/study/general-conference/1997/10/the-lord-blesses-his-children-through-patriarchal-blessings?lang=eng\n",
            "Successfully fetched https://www.churchofjesuschrist.org/study/general-conference/1997/10/look-to-the-future?lang=eng\n",
            "Successfully fetched https://www.churchofjesuschrist.org/study/general-conference/1997/10/in-remembrance-of-jesus?lang=eng\n",
            "Successfully fetched https://www.churchofjesuschrist.org/study/general-conference/1997/10/pioneer-shoes-through-the-ages?lang=eng\n",
            "Successfully fetched https://www.churchofjesuschrist.org/study/general-conference/1997/10/the-weightier-matters-of-the-law-judgment-mercy-and-faith?lang=eng\n",
            "Successfully fetched https://www.churchofjesuschrist.org/study/general-conference/1997/10/latter-day-saints-in-very-deed?lang=engSuccessfully fetched https://www.churchofjesuschrist.org/study/general-conference/1997/10/for-such-a-time-as-this?lang=eng\n",
            "\n"
          ]
        },
        {
          "output_type": "stream",
          "name": "stderr",
          "text": [
            "\rScraping talks in parallel:  51%|█████     | 2096/4112 [03:17<03:35,  9.36it/s]"
          ]
        },
        {
          "output_type": "stream",
          "name": "stdout",
          "text": [
            "Successfully fetched https://www.churchofjesuschrist.org/study/general-conference/1997/10/care-for-new-converts?lang=eng\n",
            "Successfully fetched https://www.churchofjesuschrist.org/study/general-conference/1997/10/home-teaching-a-divine-service?lang=eng\n",
            "Successfully fetched https://www.churchofjesuschrist.org/study/general-conference/1997/10/following-the-pioneers?lang=eng\n",
            "Successfully fetched https://www.churchofjesuschrist.org/study/general-conference/1996/10/the-peaceable-things-of-the-kingdom?lang=eng\n",
            "Successfully fetched https://www.churchofjesuschrist.org/study/general-conference/1996/10/partakers-of-the-glories?lang=eng\n",
            "Successfully fetched https://www.churchofjesuschrist.org/study/general-conference/1997/10/making-faith-a-reality?lang=eng\n",
            "Successfully fetched https://www.churchofjesuschrist.org/study/general-conference/1996/10/the-grand-key-words-for-the-relief-society?lang=eng\n",
            "Successfully fetched https://www.churchofjesuschrist.org/study/general-conference/1997/10/teach-the-children?lang=eng\n",
            "Successfully fetched https://www.churchofjesuschrist.org/study/general-conference/1996/10/the-spirit-of-prophecy?lang=eng\n"
          ]
        },
        {
          "output_type": "stream",
          "name": "stderr",
          "text": [
            "\rScraping talks in parallel:  51%|█████     | 2105/4112 [03:18<02:54, 11.53it/s]"
          ]
        },
        {
          "output_type": "stream",
          "name": "stdout",
          "text": [
            "Successfully fetched https://www.churchofjesuschrist.org/study/general-conference/1996/10/listen-by-the-power-of-the-spirit?lang=eng\n",
            "Successfully fetched https://www.churchofjesuschrist.org/study/general-conference/1996/10/christians-in-belief-and-action?lang=eng\n",
            "Successfully fetched https://www.churchofjesuschrist.org/study/general-conference/1996/10/according-to-the-desire-of-our-hearts?lang=eng\n",
            "Successfully fetched https://www.churchofjesuschrist.org/study/general-conference/1996/10/woman-why-weepest-thou?lang=eng\n",
            "Successfully fetched https://www.churchofjesuschrist.org/study/general-conference/1996/10/this-thing-was-not-done-in-a-corner?lang=eng\n",
            "Successfully fetched https://www.churchofjesuschrist.org/study/general-conference/1996/10/women-of-the-church?lang=eng\n",
            "Successfully fetched https://www.churchofjesuschrist.org/study/general-conference/1996/10/we-care-enough-to-send-our-very-best?lang=engSuccessfully fetched https://www.churchofjesuschrist.org/study/general-conference/1996/10/run-and-not-be-weary?lang=eng\n",
            "\n",
            "Successfully fetched https://www.churchofjesuschrist.org/study/general-conference/1996/10/listening-to-the-voice-of-the-lord?lang=eng\n",
            "Successfully fetched https://www.churchofjesuschrist.org/study/general-conference/1996/10/honesty-a-moral-compass?lang=eng\n",
            "Successfully fetched https://www.churchofjesuschrist.org/study/general-conference/1996/10/christ-at-bethesdas-pool?lang=eng\n"
          ]
        },
        {
          "output_type": "stream",
          "name": "stderr",
          "text": [
            "\rScraping talks in parallel:  51%|█████▏    | 2116/4112 [03:19<03:08, 10.59it/s]"
          ]
        },
        {
          "output_type": "stream",
          "name": "stdout",
          "text": [
            "Successfully fetched https://www.churchofjesuschrist.org/study/general-conference/1996/10/behold-your-little-ones?lang=eng\n",
            "Successfully fetched https://www.churchofjesuschrist.org/study/general-conference/1996/10/saturday-morning-session?lang=eng\n"
          ]
        },
        {
          "output_type": "stream",
          "name": "stderr",
          "text": [
            "\rScraping talks in parallel:  52%|█████▏    | 2119/4112 [03:19<03:15, 10.19it/s]"
          ]
        },
        {
          "output_type": "stream",
          "name": "stdout",
          "text": [
            "Successfully fetched https://www.churchofjesuschrist.org/study/general-conference/1996/10/the-atonement?lang=eng\n",
            "Successfully fetched https://www.churchofjesuschrist.org/study/general-conference/1996/10/reach-with-a-rescuing-hand?lang=eng\n"
          ]
        },
        {
          "output_type": "stream",
          "name": "stderr",
          "text": [
            "\rScraping talks in parallel:  52%|█████▏    | 2121/4112 [03:19<03:20,  9.95it/s]"
          ]
        },
        {
          "output_type": "stream",
          "name": "stdout",
          "text": [
            "Successfully fetched https://www.churchofjesuschrist.org/study/general-conference/1996/10/be-thou-an-example?lang=eng\n"
          ]
        },
        {
          "output_type": "stream",
          "name": "stderr",
          "text": [
            "\rScraping talks in parallel:  52%|█████▏    | 2130/4112 [03:20<02:22, 13.89it/s]"
          ]
        },
        {
          "output_type": "stream",
          "name": "stdout",
          "text": [
            "Successfully fetched https://www.churchofjesuschrist.org/study/general-conference/1996/10/faith-in-every-footstep?lang=eng\n",
            "Successfully fetched https://www.churchofjesuschrist.org/study/general-conference/1996/10/rejoice?lang=eng\n",
            "Successfully fetched https://www.churchofjesuschrist.org/study/general-conference/1996/10/the-eternal-family?lang=eng\n",
            "Successfully fetched https://www.churchofjesuschrist.org/study/general-conference/1996/10/always-have-his-spirit?lang=eng\n",
            "Successfully fetched https://www.churchofjesuschrist.org/study/general-conference/1996/10/covenant-marriage?lang=eng\n",
            "Successfully fetched https://www.churchofjesuschrist.org/study/general-conference/1996/10/strengthened-in-charity?lang=eng\n",
            "Successfully fetched https://www.churchofjesuschrist.org/study/general-conference/1996/10/the-joy-of-living-the-great-plan-of-happiness?lang=eng\n",
            "Successfully fetched https://www.churchofjesuschrist.org/study/general-conference/1996/10/the-sustaining-of-church-officers?lang=eng\n",
            "Successfully fetched https://www.churchofjesuschrist.org/study/general-conference/1996/10/prophets-are-inspired?lang=eng\n",
            "Successfully fetched https://www.churchofjesuschrist.org/study/general-conference/1996/10/witnesses-for-god?lang=eng\n"
          ]
        },
        {
          "output_type": "stream",
          "name": "stderr",
          "text": [
            "\rScraping talks in parallel:  52%|█████▏    | 2133/4112 [03:21<03:34,  9.23it/s]"
          ]
        },
        {
          "output_type": "stream",
          "name": "stdout",
          "text": [
            "Successfully fetched https://www.churchofjesuschrist.org/study/general-conference/1996/10/the-savior-is-counting-on-you?lang=eng\n",
            "Successfully fetched https://www.churchofjesuschrist.org/study/general-conference/1996/10/raised-in-hope?lang=eng\n",
            "Successfully fetched https://www.churchofjesuschrist.org/study/general-conference/1996/10/the-ordinary-classroom-a-powerful-place-for-steady-and-continued-growth?lang=eng\n",
            "Successfully fetched https://www.churchofjesuschrist.org/study/general-conference/1996/10/the-twelve-apostles?lang=eng\n"
          ]
        },
        {
          "output_type": "stream",
          "name": "stderr",
          "text": [
            "Scraping talks in parallel:  52%|█████▏    | 2141/4112 [03:21<02:44, 12.01it/s]"
          ]
        },
        {
          "output_type": "stream",
          "name": "stdout",
          "text": [
            "Successfully fetched https://www.churchofjesuschrist.org/study/general-conference/1996/10/confirmed-in-faith?lang=eng\n",
            "Successfully fetched https://www.churchofjesuschrist.org/study/general-conference/1996/04/this-work-is-true?lang=eng\n"
          ]
        },
        {
          "output_type": "stream",
          "name": "stderr",
          "text": [
            "\rScraping talks in parallel:  52%|█████▏    | 2143/4112 [03:22<03:37,  9.06it/s]"
          ]
        },
        {
          "output_type": "stream",
          "name": "stdout",
          "text": [
            "Successfully fetched https://www.churchofjesuschrist.org/study/general-conference/1996/04/an-anchor-for-eternity-and-today?lang=eng\n",
            "Successfully fetched https://www.churchofjesuschrist.org/study/general-conference/1996/04/if-thou-wilt-enter-into-life-keep-the-commandments?lang=eng\n",
            "Successfully fetched https://www.churchofjesuschrist.org/study/general-conference/1996/04/baskets-and-bottles?lang=eng\n",
            "Successfully fetched https://www.churchofjesuschrist.org/study/general-conference/1996/04/the-way-of-the-master?lang=eng\n"
          ]
        },
        {
          "output_type": "stream",
          "name": "stderr",
          "text": [
            "\rScraping talks in parallel:  52%|█████▏    | 2149/4112 [03:22<03:12, 10.20it/s]"
          ]
        },
        {
          "output_type": "stream",
          "name": "stdout",
          "text": [
            "Successfully fetched https://www.churchofjesuschrist.org/study/general-conference/1996/04/becometh-as-a-child?lang=eng\n",
            "Successfully fetched https://www.churchofjesuschrist.org/study/general-conference/1996/04/stand-true-and-faithful?lang=eng\n",
            "Successfully fetched https://www.churchofjesuschrist.org/study/general-conference/1996/04/the-sabbath-day-and-sunday-shopping?lang=eng\n",
            "Successfully fetched https://www.churchofjesuschrist.org/study/general-conference/1996/04/a-handful-of-meal-and-a-little-oil?lang=eng\n"
          ]
        },
        {
          "output_type": "stream",
          "name": "stderr",
          "text": [
            "\rScraping talks in parallel:  52%|█████▏    | 2151/4112 [03:22<03:40,  8.90it/s]"
          ]
        },
        {
          "output_type": "stream",
          "name": "stdout",
          "text": [
            "Successfully fetched https://www.churchofjesuschrist.org/study/general-conference/1996/04/conversion-and-commitment?lang=eng\n",
            "Successfully fetched https://www.churchofjesuschrist.org/study/general-conference/1996/04/spiritual-shepherds?lang=eng\n",
            "Successfully fetched https://www.churchofjesuschrist.org/study/general-conference/1996/04/remember-thy-church-o-lord?lang=eng\n",
            "Successfully fetched https://www.churchofjesuschrist.org/study/general-conference/1996/04/listening-with-new-ears?lang=eng\n",
            "Successfully fetched https://www.churchofjesuschrist.org/study/general-conference/1996/04/the-word-of-wisdom-the-principle-and-the-promises?lang=eng\n",
            "Successfully fetched https://www.churchofjesuschrist.org/study/general-conference/1996/04/joseph-the-man-and-the-prophet?lang=engSuccessfully fetched https://www.churchofjesuschrist.org/study/general-conference/1996/04/duty-calls?lang=eng\n",
            "\n",
            "Successfully fetched https://www.churchofjesuschrist.org/study/general-conference/1996/04/ye-may-know?lang=eng\n",
            "Successfully fetched https://www.churchofjesuschrist.org/study/general-conference/1996/04/remember-how-thou-hast-received-and-heard?lang=eng\n",
            "Successfully fetched https://www.churchofjesuschrist.org/study/general-conference/1996/04/this-glorious-easter-morn?lang=eng\n",
            "Successfully fetched https://www.churchofjesuschrist.org/study/general-conference/1996/04/saturday-morning-session?lang=eng\n",
            "Successfully fetched https://www.churchofjesuschrist.org/study/general-conference/1996/04/be-ye-clean?lang=eng\n"
          ]
        },
        {
          "output_type": "stream",
          "name": "stderr",
          "text": [
            "\rScraping talks in parallel:  52%|█████▏    | 2157/4112 [03:23<03:59,  8.17it/s]"
          ]
        },
        {
          "output_type": "stream",
          "name": "stdout",
          "text": [
            "Successfully fetched https://www.churchofjesuschrist.org/study/general-conference/1996/04/sustaining-the-living-prophets?lang=eng\n",
            "Successfully fetched https://www.churchofjesuschrist.org/study/general-conference/1996/04/stay-on-the-true-course?lang=eng\n",
            "Successfully fetched https://www.churchofjesuschrist.org/study/general-conference/1996/04/feasting-at-the-lords-table?lang=eng\n",
            "Successfully fetched https://www.churchofjesuschrist.org/study/general-conference/1996/04/temptation?lang=eng\n",
            "Successfully fetched https://www.churchofjesuschrist.org/study/general-conference/1996/04/the-sustaining-of-church-officers?lang=engSuccessfully fetched https://www.churchofjesuschrist.org/study/general-conference/1996/04/thou-shalt-have-no-other-gods?lang=eng\n",
            "\n"
          ]
        },
        {
          "output_type": "stream",
          "name": "stderr",
          "text": [
            "\rScraping talks in parallel:  53%|█████▎    | 2163/4112 [03:24<03:36,  8.99it/s]"
          ]
        },
        {
          "output_type": "stream",
          "name": "stdout",
          "text": [
            "Successfully fetched https://www.churchofjesuschrist.org/study/general-conference/1996/04/finding-joy-in-life?lang=eng\n",
            "Successfully fetched https://www.churchofjesuschrist.org/study/general-conference/1996/04/what-i-want-my-son-to-know-before-he-leaves-on-his-mission?lang=eng\n",
            "Successfully fetched https://www.churchofjesuschrist.org/study/general-conference/1996/04/statistical-report-1995?lang=engSuccessfully fetched https://www.churchofjesuschrist.org/study/general-conference/1996/04/he-has-given-me-a-prophet?lang=engSuccessfully fetched https://www.churchofjesuschrist.org/study/general-conference/1996/04/facing-trials-with-optimism?lang=eng\n",
            "\n",
            "Successfully fetched https://www.churchofjesuschrist.org/study/general-conference/1996/04/a-legacy-of-testimony?lang=eng\n",
            "\n"
          ]
        },
        {
          "output_type": "stream",
          "name": "stderr",
          "text": [
            "\rScraping talks in parallel:  53%|█████▎    | 2172/4112 [03:24<03:01, 10.69it/s]"
          ]
        },
        {
          "output_type": "stream",
          "name": "stdout",
          "text": [
            "Successfully fetched https://www.churchofjesuschrist.org/study/general-conference/1996/04/the-church-audit-committee-report?lang=eng\n",
            "Successfully fetched https://www.churchofjesuschrist.org/study/general-conference/1996/04/faith-of-our-fathers?lang=eng\n",
            "Successfully fetched https://www.churchofjesuschrist.org/study/general-conference/1996/04/commitment?lang=eng\n"
          ]
        },
        {
          "output_type": "stream",
          "name": "stderr",
          "text": [
            "\rScraping talks in parallel:  53%|█████▎    | 2177/4112 [03:25<02:46, 11.64it/s]"
          ]
        },
        {
          "output_type": "stream",
          "name": "stdout",
          "text": [
            "Successfully fetched https://www.churchofjesuschrist.org/study/general-conference/1996/04/the-prophetic-voice?lang=eng\n",
            "Successfully fetched https://www.churchofjesuschrist.org/study/general-conference/1996/04/sacrament-of-the-lords-supper?lang=eng\n",
            "Successfully fetched https://www.churchofjesuschrist.org/study/general-conference/1995/10/spiritual-mountaintops?lang=eng\n"
          ]
        },
        {
          "output_type": "stream",
          "name": "stderr",
          "text": [
            "\rScraping talks in parallel:  53%|█████▎    | 2180/4112 [03:25<02:27, 13.06it/s]"
          ]
        },
        {
          "output_type": "stream",
          "name": "stdout",
          "text": [
            "Successfully fetched https://www.churchofjesuschrist.org/study/general-conference/1996/04/my-prayers-were-answered?lang=eng\n",
            "Successfully fetched https://www.churchofjesuschrist.org/study/general-conference/1995/10/the-brilliant-morning-of-forgiveness?lang=eng\n",
            "Successfully fetched https://www.churchofjesuschrist.org/study/general-conference/1995/10/a-strategy-for-war?lang=eng\n",
            "Successfully fetched https://www.churchofjesuschrist.org/study/general-conference/1995/10/powerful-ideas?lang=eng\n",
            "Successfully fetched https://www.churchofjesuschrist.org/study/general-conference/1995/10/the-book-of-mormon-a-sacred-ancient-record?lang=eng\n",
            "Successfully fetched https://www.churchofjesuschrist.org/study/general-conference/1995/10/hyrum-smith-firm-as-the-pillars-of-heaven?lang=eng\n",
            "Successfully fetched https://www.churchofjesuschrist.org/study/general-conference/1995/10/the-fabric-of-faith-and-testimony?lang=eng\n",
            "Successfully fetched https://www.churchofjesuschrist.org/study/general-conference/1995/10/who-honors-god-god-honors?lang=eng\n",
            "Successfully fetched https://www.churchofjesuschrist.org/study/general-conference/1995/10/the-sustaining-of-church-officers?lang=eng\n",
            "Successfully fetched https://www.churchofjesuschrist.org/study/general-conference/1995/10/sacrifice-in-the-service?lang=eng\n",
            "Successfully fetched https://www.churchofjesuschrist.org/study/general-conference/1995/10/touch-the-hearts-of-the-children?lang=eng\n"
          ]
        },
        {
          "output_type": "stream",
          "name": "stderr",
          "text": [
            "\rScraping talks in parallel:  53%|█████▎    | 2187/4112 [03:26<02:52, 11.16it/s]"
          ]
        },
        {
          "output_type": "stream",
          "name": "stdout",
          "text": [
            "Successfully fetched https://www.churchofjesuschrist.org/study/general-conference/1995/10/our-message-to-the-world?lang=eng\n",
            "Successfully fetched https://www.churchofjesuschrist.org/study/general-conference/1995/10/the-power-of-goodness?lang=eng\n",
            "Successfully fetched https://www.churchofjesuschrist.org/study/general-conference/1995/10/redeemer-of-israel?lang=eng\n",
            "Successfully fetched https://www.churchofjesuschrist.org/study/general-conference/1995/10/priesthood-blessings?lang=eng\n",
            "Successfully fetched https://www.churchofjesuschrist.org/study/general-conference/1995/10/stand-strong-against-the-wiles-of-the-world?lang=eng\n",
            "Successfully fetched https://www.churchofjesuschrist.org/study/general-conference/1995/10/eternal-laws-of-happiness?lang=eng\n",
            "Successfully fetched https://www.churchofjesuschrist.org/study/general-conference/1995/10/trust-in-the-lord?lang=eng\n",
            "Successfully fetched https://www.churchofjesuschrist.org/study/general-conference/1995/10/blessings-of-the-priesthood?lang=eng\n",
            "Successfully fetched https://www.churchofjesuschrist.org/study/general-conference/1995/10/perfection-pending?lang=eng\n"
          ]
        },
        {
          "output_type": "stream",
          "name": "stderr",
          "text": [
            "\rScraping talks in parallel:  53%|█████▎    | 2191/4112 [03:26<03:33,  9.00it/s]"
          ]
        },
        {
          "output_type": "stream",
          "name": "stdout",
          "text": [
            "Successfully fetched https://www.churchofjesuschrist.org/study/general-conference/1995/10/of-missions-temples-and-stewardship?lang=eng\n",
            "Successfully fetched https://www.churchofjesuschrist.org/study/general-conference/1995/10/encircled-in-the-saviors-love?lang=eng\n",
            "Successfully fetched https://www.churchofjesuschrist.org/study/general-conference/1995/10/acting-for-ourselves-and-not-being-acted-upon?lang=eng\n",
            "Successfully fetched https://www.churchofjesuschrist.org/study/general-conference/1995/10/patience-a-heavenly-virtue?lang=eng\n",
            "Successfully fetched https://www.churchofjesuschrist.org/study/general-conference/1995/10/a-living-network?lang=eng\n",
            "Successfully fetched https://www.churchofjesuschrist.org/study/general-conference/1995/10/seek-first-the-kingdom-of-god?lang=eng\n"
          ]
        },
        {
          "output_type": "stream",
          "name": "stderr",
          "text": [
            "\rScraping talks in parallel:  54%|█████▎    | 2204/4112 [03:27<02:04, 15.30it/s]"
          ]
        },
        {
          "output_type": "stream",
          "name": "stdout",
          "text": [
            "Successfully fetched https://www.churchofjesuschrist.org/study/general-conference/1995/10/swallowed-up-in-the-will-of-the-father?lang=eng\n",
            "Successfully fetched https://www.churchofjesuschrist.org/study/general-conference/1995/10/this-do-in-remembrance-of-me?lang=eng\n",
            "Successfully fetched https://www.churchofjesuschrist.org/study/general-conference/1995/10/as-we-gather-together?lang=eng\n",
            "Successfully fetched https://www.churchofjesuschrist.org/study/general-conference/1995/10/relief-society-a-balm-in-gilead?lang=eng\n",
            "Successfully fetched https://www.churchofjesuschrist.org/study/general-conference/1995/10/i-will-go?lang=eng\n",
            "Successfully fetched https://www.churchofjesuschrist.org/study/general-conference/1995/10/lord-to-whom-shall-we-go?lang=eng\n",
            "Successfully fetched https://www.churchofjesuschrist.org/study/general-conference/1995/10/the-family-a-proclamation-to-the-world?lang=eng\n",
            "Successfully fetched https://www.churchofjesuschrist.org/study/general-conference/1995/10/stay-the-course-keep-the-faith?lang=eng\n",
            "Successfully fetched https://www.churchofjesuschrist.org/study/general-conference/1995/10/if-ye-are-prepared-ye-shall-not-fear?lang=eng\n",
            "Successfully fetched https://www.churchofjesuschrist.org/study/general-conference/1995/10/to-touch-a-life-with-faith?lang=eng\n",
            "Successfully fetched https://www.churchofjesuschrist.org/study/general-conference/1995/10/windows-of-light-and-truth?lang=eng\n",
            "Successfully fetched https://www.churchofjesuschrist.org/study/general-conference/1995/10/what-is-relief-society-for?lang=eng\n",
            "Successfully fetched https://www.churchofjesuschrist.org/study/general-conference/1994/10/the-spirit-of-elijah?lang=eng\n",
            "Successfully fetched https://www.churchofjesuschrist.org/study/general-conference/1995/10/witnesses?lang=eng\n"
          ]
        },
        {
          "output_type": "stream",
          "name": "stderr",
          "text": [
            "\rScraping talks in parallel:  54%|█████▎    | 2208/4112 [03:28<03:12,  9.89it/s]"
          ]
        },
        {
          "output_type": "stream",
          "name": "stdout",
          "text": [
            "Successfully fetched https://www.churchofjesuschrist.org/study/general-conference/1994/10/save-the-children?lang=eng\n",
            "Successfully fetched https://www.churchofjesuschrist.org/study/general-conference/1995/10/saturday-morning-session?lang=eng\n"
          ]
        },
        {
          "output_type": "stream",
          "name": "stderr",
          "text": [
            "Scraping talks in parallel:  54%|█████▍    | 2229/4112 [03:28<01:36, 19.50it/s]"
          ]
        },
        {
          "output_type": "stream",
          "name": "stdout",
          "text": [
            "Successfully fetched https://www.churchofjesuschrist.org/study/general-conference/1994/10/personal-revelation-the-gift-the-test-and-the-promise?lang=eng\n",
            "Successfully fetched https://www.churchofjesuschrist.org/study/general-conference/1994/10/the-solemn-assembly-sustaining-of-church-officers?lang=eng\n",
            "Successfully fetched https://www.churchofjesuschrist.org/study/general-conference/1994/10/brightness-of-hope?lang=eng\n",
            "Successfully fetched https://www.churchofjesuschrist.org/study/general-conference/1994/10/my-brothers-keeper?lang=eng\n",
            "Successfully fetched https://www.churchofjesuschrist.org/study/general-conference/1994/10/stand-ye-in-holy-places?lang=engSuccessfully fetched https://www.churchofjesuschrist.org/study/general-conference/1994/10/the-revelations-of-heaven?lang=eng\n",
            "Successfully fetched https://www.churchofjesuschrist.org/study/general-conference/1994/10/seek-and-ye-shall-find?lang=eng\n",
            "\n",
            "Successfully fetched https://www.churchofjesuschrist.org/study/general-conference/1994/10/helping-children-know-truth-from-error?lang=eng\n",
            "Successfully fetched https://www.churchofjesuschrist.org/study/general-conference/1994/10/let-us-build-fortresses?lang=eng\n"
          ]
        },
        {
          "output_type": "stream",
          "name": "stderr",
          "text": [
            "\rScraping talks in parallel:  54%|█████▍    | 2233/4112 [03:29<02:19, 13.44it/s]"
          ]
        },
        {
          "output_type": "stream",
          "name": "stdout",
          "text": [
            "Successfully fetched https://www.churchofjesuschrist.org/study/general-conference/1994/10/the-kingdom-progresses-in-africa?lang=eng\n",
            "Successfully fetched https://www.churchofjesuschrist.org/study/general-conference/1994/10/miracles-of-the-restoration?lang=eng\n",
            "Successfully fetched https://www.churchofjesuschrist.org/study/general-conference/1994/10/being-a-righteous-husband-and-father?lang=eng\n",
            "Successfully fetched https://www.churchofjesuschrist.org/study/general-conference/1994/10/worship-through-music?lang=eng\n",
            "Successfully fetched https://www.churchofjesuschrist.org/study/general-conference/1994/10/don-t-drop-the-ball?lang=eng\n",
            "Successfully fetched https://www.churchofjesuschrist.org/study/general-conference/1994/10/follow-the-son-of-god?lang=eng\n",
            "Successfully fetched https://www.churchofjesuschrist.org/study/general-conference/1994/10/deep-roots?lang=eng\n",
            "Successfully fetched https://www.churchofjesuschrist.org/study/general-conference/1994/10/the-only-true-and-valid-basis?lang=eng\n",
            "Successfully fetched https://www.churchofjesuschrist.org/study/general-conference/1994/10/saturday-morning-session?lang=eng\n",
            "Successfully fetched https://www.churchofjesuschrist.org/study/general-conference/1994/10/charity-and-learning?lang=eng\n",
            "Successfully fetched https://www.churchofjesuschrist.org/study/general-conference/1994/10/the-importance-of-receiving-a-personal-testimony?lang=eng\n",
            "Successfully fetched https://www.churchofjesuschrist.org/study/general-conference/1994/10/that-thy-confidence-wax-strong?lang=eng\n",
            "Successfully fetched https://www.churchofjesuschrist.org/study/general-conference/1994/10/endure-to-the-end-in-charity?lang=eng\n",
            "Successfully fetched https://www.churchofjesuschrist.org/study/general-conference/1994/10/stand-firm-in-the-faith?lang=eng\n",
            "Successfully fetched https://www.churchofjesuschrist.org/study/general-conference/1994/10/solemn-assemblies?lang=eng\n",
            "Successfully fetched https://www.churchofjesuschrist.org/study/general-conference/1994/10/teach-the-children?lang=eng\n",
            "Successfully fetched https://www.churchofjesuschrist.org/study/general-conference/1994/10/priceless-principles-for-success?lang=eng\n",
            "Successfully fetched https://www.churchofjesuschrist.org/study/general-conference/1994/10/the-keys-that-never-rust?lang=eng\n",
            "Successfully fetched https://www.churchofjesuschrist.org/study/general-conference/1994/10/exceeding-great-and-precious-promises?lang=engSuccessfully fetched https://www.churchofjesuschrist.org/study/general-conference/1994/10/make-thee-an-ark?lang=eng\n",
            "\n",
            "Successfully fetched https://www.churchofjesuschrist.org/study/general-conference/1994/10/the-fatherless-and-the-widows-beloved-of-god?lang=eng\n",
            "Successfully fetched https://www.churchofjesuschrist.org/study/general-conference/1994/10/heed-the-prophets-voice?lang=eng\n",
            "Successfully fetched https://www.churchofjesuschrist.org/study/general-conference/1994/10/the-simple-things?lang=eng\n",
            "Successfully fetched https://www.churchofjesuschrist.org/study/general-conference/1994/10/restored-truth?lang=eng\n"
          ]
        },
        {
          "output_type": "stream",
          "name": "stderr",
          "text": [
            "Scraping talks in parallel:  55%|█████▍    | 2260/4112 [03:30<01:44, 17.69it/s]"
          ]
        },
        {
          "output_type": "stream",
          "name": "stdout",
          "text": [
            "Successfully fetched https://www.churchofjesuschrist.org/study/general-conference/1994/10/rowing-your-boat?lang=eng\n",
            "Successfully fetched https://www.churchofjesuschrist.org/study/general-conference/1994/04/if-a-man-die-shall-he-live-again?lang=eng\n",
            "Successfully fetched https://www.churchofjesuschrist.org/study/general-conference/1994/04/walk-with-me?lang=eng\n",
            "Successfully fetched https://www.churchofjesuschrist.org/study/general-conference/1994/04/the-father-and-the-family?lang=eng\n",
            "Successfully fetched https://www.churchofjesuschrist.org/study/general-conference/1994/04/teaching-children-to-walk-uprightly-before-the-lord?lang=eng\n",
            "Successfully fetched https://www.churchofjesuschrist.org/study/general-conference/1994/04/decisions?lang=eng\n",
            "Successfully fetched https://www.churchofjesuschrist.org/study/general-conference/1994/04/what-manner-of-men-ought-ye-to-be?lang=eng\n",
            "Successfully fetched https://www.churchofjesuschrist.org/study/general-conference/1994/04/increase-in-faith?lang=eng\n",
            "Successfully fetched https://www.churchofjesuschrist.org/study/general-conference/1994/04/the-unique-message-of-jesus-christ?lang=engSuccessfully fetched https://www.churchofjesuschrist.org/study/general-conference/1994/04/what-he-would-have-us-do?lang=eng\n",
            "\n",
            "Successfully fetched https://www.churchofjesuschrist.org/study/general-conference/1994/10/making-the-right-choices?lang=eng\n",
            "Successfully fetched https://www.churchofjesuschrist.org/study/general-conference/1994/04/remember-your-covenants?lang=eng\n",
            "Successfully fetched https://www.churchofjesuschrist.org/study/general-conference/1994/04/to-be-healed?lang=eng\n",
            "Successfully fetched https://www.churchofjesuschrist.org/study/general-conference/1994/04/faith-in-the-lord-jesus-christ?lang=eng\n"
          ]
        },
        {
          "output_type": "stream",
          "name": "stderr",
          "text": [
            "\rScraping talks in parallel:  55%|█████▌    | 2265/4112 [03:31<02:26, 12.59it/s]"
          ]
        },
        {
          "output_type": "stream",
          "name": "stdout",
          "text": [
            "Successfully fetched https://www.churchofjesuschrist.org/study/general-conference/1994/04/feed-my-sheep?lang=eng\n",
            "Successfully fetched https://www.churchofjesuschrist.org/study/general-conference/1994/04/the-greatest-miracle-in-human-history?lang=eng\n",
            "Successfully fetched https://www.churchofjesuschrist.org/study/general-conference/1994/04/growing-up-spiritually?lang=eng\n"
          ]
        },
        {
          "output_type": "stream",
          "name": "stderr",
          "text": [
            "Scraping talks in parallel:  55%|█████▌    | 2273/4112 [03:32<02:19, 13.20it/s]"
          ]
        },
        {
          "output_type": "stream",
          "name": "stdout",
          "text": [
            "Successfully fetched https://www.churchofjesuschrist.org/study/general-conference/1994/04/gratitude?lang=eng\n",
            "Successfully fetched https://www.churchofjesuschrist.org/study/general-conference/1994/04/what-shall-we-do?lang=eng\n",
            "Successfully fetched https://www.churchofjesuschrist.org/study/general-conference/1994/04/therefore-i-was-taught?lang=eng\n",
            "Successfully fetched https://www.churchofjesuschrist.org/study/general-conference/1994/04/a-divine-prescription-for-spiritual-healing?lang=eng\n",
            "Successfully fetched https://www.churchofjesuschrist.org/study/general-conference/1994/04/the-path-to-peace?lang=eng\n",
            "Successfully fetched https://www.churchofjesuschrist.org/study/general-conference/1994/04/a-childs-love-matured?lang=eng\n",
            "Successfully fetched https://www.churchofjesuschrist.org/study/general-conference/1994/04/the-church-audit-committee-report?lang=eng\n",
            "Successfully fetched https://www.churchofjesuschrist.org/study/general-conference/1994/04/courage-to-hearken?lang=eng\n",
            "Successfully fetched https://www.churchofjesuschrist.org/study/general-conference/1994/04/trying-to-be-like-jesus?lang=eng\n",
            "Successfully fetched https://www.churchofjesuschrist.org/study/general-conference/1994/04/stretching-the-cords-of-the-tent?lang=eng\n",
            "Successfully fetched https://www.churchofjesuschrist.org/study/general-conference/1994/04/faith-is-the-answer?lang=eng\n",
            "Successfully fetched https://www.churchofjesuschrist.org/study/general-conference/1994/04/the-sustaining-of-church-officers?lang=eng\n",
            "Successfully fetched https://www.churchofjesuschrist.org/study/general-conference/1994/04/tithing?lang=eng\n",
            "Successfully fetched https://www.churchofjesuschrist.org/study/general-conference/1994/04/the-priesthood-a-sacred-trust?lang=eng\n"
          ]
        },
        {
          "output_type": "stream",
          "name": "stderr",
          "text": [
            "\rScraping talks in parallel:  55%|█████▌    | 2276/4112 [03:34<04:54,  6.24it/s]"
          ]
        },
        {
          "output_type": "stream",
          "name": "stdout",
          "text": [
            "Successfully fetched https://www.churchofjesuschrist.org/study/general-conference/1994/04/teach-us-tolerance-and-love?lang=engSuccessfully fetched https://www.churchofjesuschrist.org/study/general-conference/1994/04/statistical-report-1993?lang=eng\n",
            "\n"
          ]
        },
        {
          "output_type": "stream",
          "name": "stderr",
          "text": [
            "\rScraping talks in parallel:  56%|█████▌    | 2286/4112 [03:34<03:21,  9.05it/s]"
          ]
        },
        {
          "output_type": "stream",
          "name": "stdout",
          "text": [
            "Successfully fetched https://www.churchofjesuschrist.org/study/general-conference/1994/04/live-in-obedience?lang=eng\n",
            "Successfully fetched https://www.churchofjesuschrist.org/study/general-conference/1994/04/the-power-of-a-good-life?lang=eng\n",
            "Successfully fetched https://www.churchofjesuschrist.org/study/general-conference/1994/04/five-loaves-and-two-fishes?lang=eng\n",
            "Successfully fetched https://www.churchofjesuschrist.org/study/general-conference/1994/04/god-is-at-the-helm?lang=eng\n",
            "Successfully fetched https://www.churchofjesuschrist.org/study/general-conference/1994/04/take-especial-care-of-your-family?lang=eng\n",
            "Successfully fetched https://www.churchofjesuschrist.org/study/general-conference/1994/04/we-all-have-a-father-in-whom-we-can-trust?lang=eng\n",
            "Successfully fetched https://www.churchofjesuschrist.org/study/general-conference/1993/10/truth-is-the-issue?lang=eng\n",
            "Successfully fetched https://www.churchofjesuschrist.org/study/general-conference/1993/10/look-to-god-and-live?lang=eng\n",
            "Successfully fetched https://www.churchofjesuschrist.org/study/general-conference/1993/10/missionary-work-our-responsibility?lang=eng\n"
          ]
        },
        {
          "output_type": "stream",
          "name": "stderr",
          "text": [
            "\rScraping talks in parallel:  56%|█████▌    | 2288/4112 [03:35<04:47,  6.35it/s]"
          ]
        },
        {
          "output_type": "stream",
          "name": "stdout",
          "text": [
            "Successfully fetched https://www.churchofjesuschrist.org/study/general-conference/1994/04/jesus-of-nazareth?lang=eng\n",
            "Successfully fetched https://www.churchofjesuschrist.org/study/general-conference/1993/10/touch-not-the-evil-gift-nor-the-unclean-thing?lang=eng\n",
            "Successfully fetched https://www.churchofjesuschrist.org/study/general-conference/1994/04/counseling-with-our-councils?lang=eng\n",
            "Successfully fetched https://www.churchofjesuschrist.org/study/general-conference/1994/04/the-special-status-of-children?lang=eng\n",
            "Successfully fetched https://www.churchofjesuschrist.org/study/general-conference/1993/10/my-testimony?lang=eng\n"
          ]
        },
        {
          "output_type": "stream",
          "name": "stderr",
          "text": [
            "\rScraping talks in parallel:  56%|█████▌    | 2300/4112 [03:36<02:42, 11.16it/s]"
          ]
        },
        {
          "output_type": "stream",
          "name": "stdout",
          "text": [
            "Successfully fetched https://www.churchofjesuschrist.org/study/general-conference/1993/10/be-of-good-cheer?lang=eng\n",
            "Successfully fetched https://www.churchofjesuschrist.org/study/general-conference/1993/10/combatting-spiritual-drift-our-global-pandemic?lang=engSuccessfully fetched https://www.churchofjesuschrist.org/study/general-conference/1993/10/equality-through-diversity?lang=eng\n",
            "\n",
            "Successfully fetched https://www.churchofjesuschrist.org/study/general-conference/1993/10/choose-the-right?lang=eng\n"
          ]
        },
        {
          "output_type": "stream",
          "name": "stderr",
          "text": [
            "Scraping talks in parallel:  56%|█████▌    | 2312/4112 [03:36<01:53, 15.82it/s]"
          ]
        },
        {
          "output_type": "stream",
          "name": "stdout",
          "text": [
            "Successfully fetched https://www.churchofjesuschrist.org/study/general-conference/1994/04/saturday-morning-session?lang=eng\n",
            "Successfully fetched https://www.churchofjesuschrist.org/study/general-conference/1993/10/the-great-plan-of-happiness?lang=eng\n",
            "Successfully fetched https://www.churchofjesuschrist.org/study/general-conference/1993/10/take-time-for-your-children?lang=eng\n",
            "Successfully fetched https://www.churchofjesuschrist.org/study/general-conference/1993/10/the-upward-reach?lang=eng\n",
            "Successfully fetched https://www.churchofjesuschrist.org/study/general-conference/1993/10/a-mighty-change-of-heart?lang=engSuccessfully fetched https://www.churchofjesuschrist.org/study/general-conference/1993/10/service-and-happiness?lang=eng\n",
            "\n",
            "Successfully fetched https://www.churchofjesuschrist.org/study/general-conference/1993/10/ward-and-branch-families-part-of-heavenly-fathers-plan-for-us?lang=eng\n",
            "Successfully fetched https://www.churchofjesuschrist.org/study/general-conference/1993/10/bring-up-a-child-in-the-way-he-should-go?lang=eng\n",
            "Successfully fetched https://www.churchofjesuschrist.org/study/general-conference/1993/10/meeting-lifes-challenges?lang=eng\n",
            "Successfully fetched https://www.churchofjesuschrist.org/study/general-conference/1993/10/how-will-our-children-remember-us?lang=eng\n"
          ]
        },
        {
          "output_type": "stream",
          "name": "stderr",
          "text": [
            "\rScraping talks in parallel:  56%|█████▋    | 2315/4112 [03:37<02:33, 11.73it/s]"
          ]
        },
        {
          "output_type": "stream",
          "name": "stdout",
          "text": [
            "Successfully fetched https://www.churchofjesuschrist.org/study/general-conference/1993/10/strength-in-the-savior?lang=eng\n",
            "Successfully fetched https://www.churchofjesuschrist.org/study/general-conference/1993/10/the-sustaining-of-church-officers?lang=eng\n",
            "Successfully fetched https://www.churchofjesuschrist.org/study/general-conference/1993/10/relief-society-charity-the-guiding-principle?lang=eng\n",
            "Successfully fetched https://www.churchofjesuschrist.org/study/general-conference/1993/10/our-lord-and-savior?lang=eng\n",
            "Successfully fetched https://www.churchofjesuschrist.org/study/general-conference/1993/10/the-modern-mighty-of-israel?lang=eng\n"
          ]
        },
        {
          "output_type": "stream",
          "name": "stderr",
          "text": [
            "Scraping talks in parallel:  56%|█████▋    | 2320/4112 [03:37<02:21, 12.68it/s]"
          ]
        },
        {
          "output_type": "stream",
          "name": "stdout",
          "text": [
            "Successfully fetched https://www.churchofjesuschrist.org/study/general-conference/1993/10/strength-in-counsel?lang=eng\n",
            "Successfully fetched https://www.churchofjesuschrist.org/study/general-conference/1993/10/an-eternal-vision?lang=eng\n",
            "Successfully fetched https://www.churchofjesuschrist.org/study/general-conference/1993/10/gratitude?lang=eng\n"
          ]
        },
        {
          "output_type": "stream",
          "name": "stderr",
          "text": [
            "\rScraping talks in parallel:  57%|█████▋    | 2325/4112 [03:37<02:04, 14.36it/s]"
          ]
        },
        {
          "output_type": "stream",
          "name": "stdout",
          "text": [
            "Successfully fetched https://www.churchofjesuschrist.org/study/general-conference/1993/10/saturday-morning-session?lang=eng\n",
            "Successfully fetched https://www.churchofjesuschrist.org/study/general-conference/1993/10/ponder-the-path-of-thy-feet?lang=eng\n",
            "Successfully fetched https://www.churchofjesuschrist.org/study/general-conference/1993/10/acquiring-spiritual-knowledge?lang=eng\n",
            "Successfully fetched https://www.churchofjesuschrist.org/study/general-conference/1993/10/constancy-amid-change?lang=eng\n"
          ]
        },
        {
          "output_type": "stream",
          "name": "stderr",
          "text": [
            "\rScraping talks in parallel:  57%|█████▋    | 2329/4112 [03:37<02:01, 14.68it/s]"
          ]
        },
        {
          "output_type": "stream",
          "name": "stdout",
          "text": [
            "Successfully fetched https://www.churchofjesuschrist.org/study/general-conference/1993/10/the-search-for-happiness?lang=eng\n",
            "Successfully fetched https://www.churchofjesuschrist.org/study/general-conference/1993/10/the-lords-wind?lang=eng\n",
            "Successfully fetched https://www.churchofjesuschrist.org/study/general-conference/1993/10/divine-forgiveness?lang=eng\n"
          ]
        },
        {
          "output_type": "stream",
          "name": "stderr",
          "text": [
            "\rScraping talks in parallel:  57%|█████▋    | 2334/4112 [03:38<01:49, 16.25it/s]"
          ]
        },
        {
          "output_type": "stream",
          "name": "stdout",
          "text": [
            "Successfully fetched https://www.churchofjesuschrist.org/study/general-conference/1993/10/from-the-beginning?lang=eng\n",
            "Successfully fetched https://www.churchofjesuschrist.org/study/general-conference/1993/10/rearing-children-in-a-polluted-environment?lang=eng\n",
            "Successfully fetched https://www.churchofjesuschrist.org/study/general-conference/1993/10/your-personal-checklist-for-a-successful-eternal-flight?lang=eng\n",
            "Successfully fetched https://www.churchofjesuschrist.org/study/general-conference/1993/04/peace-through-prayer?lang=eng\n",
            "Successfully fetched https://www.churchofjesuschrist.org/study/general-conference/1993/10/for-time-and-all-eternity?lang=eng\n",
            "Successfully fetched https://www.churchofjesuschrist.org/study/general-conference/1993/10/keeping-covenants-and-honoring-the-priesthood?lang=eng\n",
            "Successfully fetched https://www.churchofjesuschrist.org/study/general-conference/1993/04/the-church-audit-committee-report?lang=eng\n"
          ]
        },
        {
          "output_type": "stream",
          "name": "stderr",
          "text": [
            "Scraping talks in parallel:  57%|█████▋    | 2342/4112 [03:38<02:09, 13.69it/s]"
          ]
        },
        {
          "output_type": "stream",
          "name": "stdout",
          "text": [
            "Successfully fetched https://www.churchofjesuschrist.org/study/general-conference/1993/04/a-prophets-testimony?lang=eng\n",
            "Successfully fetched https://www.churchofjesuschrist.org/study/general-conference/1993/04/father-come-home?lang=eng\n",
            "Successfully fetched https://www.churchofjesuschrist.org/study/general-conference/1993/04/honoring-the-priesthood?lang=eng\n",
            "Successfully fetched https://www.churchofjesuschrist.org/study/general-conference/1993/04/the-language-of-prayer?lang=eng\n",
            "Successfully fetched https://www.churchofjesuschrist.org/study/general-conference/1993/04/some-lessons-i-learned-as-a-boy?lang=eng\n"
          ]
        },
        {
          "output_type": "stream",
          "name": "stderr",
          "text": [
            "Scraping talks in parallel:  57%|█████▋    | 2348/4112 [03:39<02:00, 14.60it/s]"
          ]
        },
        {
          "output_type": "stream",
          "name": "stdout",
          "text": [
            "Successfully fetched https://www.churchofjesuschrist.org/study/general-conference/1993/04/he-maketh-me-to-lie-down-in-green-pastures?lang=engSuccessfully fetched https://www.churchofjesuschrist.org/study/general-conference/1993/04/the-power-of-correct-principles?lang=eng\n",
            "\n",
            "Successfully fetched https://www.churchofjesuschrist.org/study/general-conference/1993/04/receiving-divine-assistance-through-the-grace-of-the-lord?lang=eng\n",
            "Successfully fetched https://www.churchofjesuschrist.org/study/general-conference/1993/04/search-and-rescue?lang=eng\n"
          ]
        },
        {
          "output_type": "stream",
          "name": "stderr",
          "text": [
            "Scraping talks in parallel:  57%|█████▋    | 2354/4112 [03:39<02:00, 14.64it/s]"
          ]
        },
        {
          "output_type": "stream",
          "name": "stdout",
          "text": [
            "Successfully fetched https://www.churchofjesuschrist.org/study/general-conference/1993/04/jesus-the-very-thought-of-thee?lang=eng\n",
            "Successfully fetched https://www.churchofjesuschrist.org/study/general-conference/1993/04/faith-yields-priesthood-power?lang=eng\n",
            "Successfully fetched https://www.churchofjesuschrist.org/study/general-conference/1993/04/come-unto-christ?lang=eng\n",
            "Successfully fetched https://www.churchofjesuschrist.org/study/general-conference/1993/04/heroes?lang=eng\n",
            "Successfully fetched https://www.churchofjesuschrist.org/study/general-conference/1993/04/i-know-in-whom-i-have-trusted?lang=eng\n",
            "Successfully fetched https://www.churchofjesuschrist.org/study/general-conference/1993/04/spiritually-strong-homes-and-families?lang=eng\n",
            "Successfully fetched https://www.churchofjesuschrist.org/study/general-conference/1993/04/the-sustaining-of-church-officers?lang=eng\n",
            "Successfully fetched https://www.churchofjesuschrist.org/study/general-conference/1993/04/statistical-report-1992?lang=engSuccessfully fetched https://www.churchofjesuschrist.org/study/general-conference/1993/04/jesus-christ-the-son-of-the-living-god?lang=eng\n",
            "\n"
          ]
        },
        {
          "output_type": "stream",
          "name": "stderr",
          "text": [
            "\rScraping talks in parallel:  57%|█████▋    | 2356/4112 [03:40<02:24, 12.12it/s]"
          ]
        },
        {
          "output_type": "stream",
          "name": "stdout",
          "text": [
            "Successfully fetched https://www.churchofjesuschrist.org/study/general-conference/1993/04/power-of-the-church-rooted-in-christ?lang=eng\n",
            "Successfully fetched https://www.churchofjesuschrist.org/study/general-conference/1993/04/prayer?lang=eng\n",
            "Successfully fetched https://www.churchofjesuschrist.org/study/general-conference/1993/04/personal-temple-worship?lang=eng\n"
          ]
        },
        {
          "output_type": "stream",
          "name": "stderr",
          "text": [
            "\rScraping talks in parallel:  57%|█████▋    | 2362/4112 [03:40<01:51, 15.69it/s]"
          ]
        },
        {
          "output_type": "stream",
          "name": "stdout",
          "text": [
            "Successfully fetched https://www.churchofjesuschrist.org/study/general-conference/1993/04/whom-the-lord-calls-the-lord-qualifies?lang=eng\n",
            "Successfully fetched https://www.churchofjesuschrist.org/study/general-conference/1993/04/back-to-gospel-basics?lang=eng\n",
            "Successfully fetched https://www.churchofjesuschrist.org/study/general-conference/1993/04/the-temple-the-priesthood?lang=eng\n",
            "Successfully fetched https://www.churchofjesuschrist.org/study/general-conference/1993/04/this-peaceful-house-of-god?lang=eng\n",
            "Successfully fetched https://www.churchofjesuschrist.org/study/general-conference/1993/04/keeping-covenants?lang=eng\n",
            "Successfully fetched https://www.churchofjesuschrist.org/study/general-conference/1993/04/cats-cradle-of-kindness?lang=eng\n",
            "Successfully fetched https://www.churchofjesuschrist.org/study/general-conference/1993/04/gifts?lang=engSuccessfully fetched https://www.churchofjesuschrist.org/study/general-conference/1993/04/the-lord-of-life?lang=engSuccessfully fetched https://www.churchofjesuschrist.org/study/general-conference/1993/04/the-principle-of-work?lang=eng\n",
            "\n",
            "Successfully fetched https://www.churchofjesuschrist.org/study/general-conference/1993/04/search-the-scriptures?lang=eng\n",
            "\n"
          ]
        },
        {
          "output_type": "stream",
          "name": "stderr",
          "text": [
            "Scraping talks in parallel:  58%|█████▊    | 2369/4112 [03:41<02:39, 10.95it/s]"
          ]
        },
        {
          "output_type": "stream",
          "name": "stdout",
          "text": [
            "Successfully fetched https://www.churchofjesuschrist.org/study/general-conference/1993/04/saturday-morning-session?lang=eng\n",
            "Successfully fetched https://www.churchofjesuschrist.org/study/general-conference/1993/04/behold-the-enemy-is-combined-d-c-38-12?lang=eng\n",
            "Successfully fetched https://www.churchofjesuschrist.org/study/general-conference/1993/04/the-temple-of-the-lord?lang=eng\n",
            "Successfully fetched https://www.churchofjesuschrist.org/study/general-conference/1993/04/keep-the-faith?lang=eng\n",
            "Successfully fetched https://www.churchofjesuschrist.org/study/general-conference/1992/10/the-sustaining-of-church-officers?lang=eng\n"
          ]
        },
        {
          "output_type": "stream",
          "name": "stderr",
          "text": [
            "\rScraping talks in parallel:  58%|█████▊    | 2379/4112 [03:41<01:29, 19.29it/s]"
          ]
        },
        {
          "output_type": "stream",
          "name": "stdout",
          "text": [
            "Successfully fetched https://www.churchofjesuschrist.org/study/general-conference/1992/10/a-loving-communicating-god?lang=eng\n",
            "Successfully fetched https://www.churchofjesuschrist.org/study/general-conference/1992/10/bible-stories-and-personal-protection?lang=eng\n",
            "Successfully fetched https://www.churchofjesuschrist.org/study/general-conference/1992/10/the-church-is-on-course?lang=eng\n",
            "Successfully fetched https://www.churchofjesuschrist.org/study/general-conference/1992/10/to-the-women-of-the-church?lang=eng\n"
          ]
        },
        {
          "output_type": "stream",
          "name": "stderr",
          "text": [
            "\rScraping talks in parallel:  58%|█████▊    | 2382/4112 [03:41<02:04, 13.89it/s]"
          ]
        },
        {
          "output_type": "stream",
          "name": "stdout",
          "text": [
            "Successfully fetched https://www.churchofjesuschrist.org/study/general-conference/1992/10/by-the-power-of-his-word-did-they-cause-prisons-to-tumble?lang=eng\n",
            "Successfully fetched https://www.churchofjesuschrist.org/study/general-conference/1992/10/successful-living-of-gospel-principles?lang=eng\n",
            "Successfully fetched https://www.churchofjesuschrist.org/study/general-conference/1992/10/the-priesthood-in-action?lang=eng\n",
            "Successfully fetched https://www.churchofjesuschrist.org/study/general-conference/1992/10/where-is-wisdom?lang=eng\n",
            "Successfully fetched https://www.churchofjesuschrist.org/study/general-conference/1992/10/sin-will-not-prevail?lang=eng\n",
            "Successfully fetched https://www.churchofjesuschrist.org/study/general-conference/1992/10/confidence-through-conversion?lang=eng\n",
            "Successfully fetched https://www.churchofjesuschrist.org/study/general-conference/1992/10/spiritual-revival?lang=eng\n",
            "Successfully fetched https://www.churchofjesuschrist.org/study/general-conference/1992/10/becoming-wise-unto-salvation?lang=eng\n"
          ]
        },
        {
          "output_type": "stream",
          "name": "stderr",
          "text": [
            "\rScraping talks in parallel:  58%|█████▊    | 2385/4112 [03:42<02:23, 12.04it/s]"
          ]
        },
        {
          "output_type": "stream",
          "name": "stdout",
          "text": [
            "Successfully fetched https://www.churchofjesuschrist.org/study/general-conference/1992/10/to-be-learned-is-good-if?lang=eng\n",
            "Successfully fetched https://www.churchofjesuschrist.org/study/general-conference/1992/10/an-example-of-the-believers?lang=eng\n",
            "Successfully fetched https://www.churchofjesuschrist.org/study/general-conference/1992/10/jesus-christ-is-at-the-center-of-the-restoration-of-the-gospel?lang=eng\n",
            "Successfully fetched https://www.churchofjesuschrist.org/study/general-conference/1992/10/healing-your-damaged-life?lang=eng\n",
            "Successfully fetched https://www.churchofjesuschrist.org/study/general-conference/1992/10/settle-this-in-your-hearts?lang=eng\n"
          ]
        },
        {
          "output_type": "stream",
          "name": "stderr",
          "text": [
            "\rScraping talks in parallel:  58%|█████▊    | 2387/4112 [03:42<03:25,  8.39it/s]"
          ]
        },
        {
          "output_type": "stream",
          "name": "stdout",
          "text": [
            "Successfully fetched https://www.churchofjesuschrist.org/study/general-conference/1992/10/saturday-morning-session?lang=eng\n",
            "Successfully fetched https://www.churchofjesuschrist.org/study/general-conference/1992/10/the-golden-years?lang=eng\n",
            "Successfully fetched https://www.churchofjesuschrist.org/study/general-conference/1992/10/missionary-work-in-the-philippines?lang=eng\n",
            "Successfully fetched https://www.churchofjesuschrist.org/study/general-conference/1992/10/nobody-said-that-it-would-be-easy?lang=eng\n"
          ]
        },
        {
          "output_type": "stream",
          "name": "stderr",
          "text": [
            "Scraping talks in parallel:  58%|█████▊    | 2402/4112 [03:43<01:37, 17.53it/s]"
          ]
        },
        {
          "output_type": "stream",
          "name": "stdout",
          "text": [
            "Successfully fetched https://www.churchofjesuschrist.org/study/general-conference/1992/10/at-parting?lang=eng\n",
            "Successfully fetched https://www.churchofjesuschrist.org/study/general-conference/1992/10/behold-your-little-ones?lang=eng\n",
            "Successfully fetched https://www.churchofjesuschrist.org/study/general-conference/1992/10/born-of-goodly-parents?lang=eng\n",
            "Successfully fetched https://www.churchofjesuschrist.org/study/general-conference/1992/10/honour-thy-father-and-thy-mother?lang=eng\n"
          ]
        },
        {
          "output_type": "stream",
          "name": "stderr",
          "text": [
            "\rScraping talks in parallel:  58%|█████▊    | 2405/4112 [03:43<01:57, 14.52it/s]"
          ]
        },
        {
          "output_type": "stream",
          "name": "stdout",
          "text": [
            "Successfully fetched https://www.churchofjesuschrist.org/study/general-conference/1992/10/fear?lang=eng\n",
            "Successfully fetched https://www.churchofjesuschrist.org/study/general-conference/1992/10/behold-the-lord-hath-shown-unto-me-great-and-marvelous-things?lang=eng\n",
            "Successfully fetched https://www.churchofjesuschrist.org/study/general-conference/1992/10/a-yearning-for-home?lang=eng\n",
            "Successfully fetched https://www.churchofjesuschrist.org/study/general-conference/1992/10/the-joy-of-hope-fulfilled?lang=eng\n",
            "Successfully fetched https://www.churchofjesuschrist.org/study/general-conference/1992/10/building-your-tabernacle?lang=eng\n",
            "Successfully fetched https://www.churchofjesuschrist.org/study/general-conference/1992/10/remember-also-the-promises?lang=eng\n"
          ]
        },
        {
          "output_type": "stream",
          "name": "stderr",
          "text": [
            "\rScraping talks in parallel:  59%|█████▊    | 2408/4112 [03:43<02:04, 13.73it/s]"
          ]
        },
        {
          "output_type": "stream",
          "name": "stdout",
          "text": [
            "Successfully fetched https://www.churchofjesuschrist.org/study/general-conference/1992/10/the-lord-will-prosper-the-righteous?lang=eng\n",
            "Successfully fetched https://www.churchofjesuschrist.org/study/general-conference/1992/10/spiritual-bonfires-of-testimony?lang=eng\n",
            "Successfully fetched https://www.churchofjesuschrist.org/study/general-conference/1992/10/love-of-christ?lang=eng\n"
          ]
        },
        {
          "output_type": "stream",
          "name": "stderr",
          "text": [
            "Scraping talks in parallel:  59%|█████▊    | 2415/4112 [03:44<01:35, 17.76it/s]"
          ]
        },
        {
          "output_type": "stream",
          "name": "stdout",
          "text": [
            "Successfully fetched https://www.churchofjesuschrist.org/study/general-conference/1992/10/coming-unto-christ-by-searching-the-scriptures?lang=eng\n",
            "Successfully fetched https://www.churchofjesuschrist.org/study/general-conference/1992/10/the-beacon-in-the-harbor-of-peace?lang=eng\n",
            "Successfully fetched https://www.churchofjesuschrist.org/study/general-conference/1992/10/a-priceless-heritage?lang=eng\n",
            "Successfully fetched https://www.churchofjesuschrist.org/study/general-conference/1992/10/by-way-of-invitation-alma-5-62?lang=eng\n"
          ]
        },
        {
          "output_type": "stream",
          "name": "stderr",
          "text": [
            "\rScraping talks in parallel:  59%|█████▉    | 2418/4112 [03:44<01:57, 14.37it/s]"
          ]
        },
        {
          "output_type": "stream",
          "name": "stdout",
          "text": [
            "Successfully fetched https://www.churchofjesuschrist.org/study/general-conference/1992/04/gratitude-for-the-goodness-of-god?lang=eng\n",
            "Successfully fetched https://www.churchofjesuschrist.org/study/general-conference/1992/10/miracles-then-and-now?lang=eng\n",
            "Successfully fetched https://www.churchofjesuschrist.org/study/general-conference/1992/04/unclutter-your-life?lang=eng\n",
            "Successfully fetched https://www.churchofjesuschrist.org/study/general-conference/1992/04/the-pure-love-of-god?lang=eng\n",
            "Successfully fetched https://www.churchofjesuschrist.org/study/general-conference/1992/04/a-chosen-generation?lang=eng\n"
          ]
        },
        {
          "output_type": "stream",
          "name": "stderr",
          "text": [
            "\rScraping talks in parallel:  59%|█████▉    | 2420/4112 [03:44<02:29, 11.32it/s]"
          ]
        },
        {
          "output_type": "stream",
          "name": "stdout",
          "text": [
            "Successfully fetched https://www.churchofjesuschrist.org/study/general-conference/1992/04/the-mission-of-relief-society?lang=engSuccessfully fetched https://www.churchofjesuschrist.org/study/general-conference/1992/04/faith-and-good-works?lang=eng\n",
            "\n",
            "Successfully fetched https://www.churchofjesuschrist.org/study/general-conference/1992/04/believe-his-prophets?lang=eng\n",
            "Successfully fetched https://www.churchofjesuschrist.org/study/general-conference/1992/04/come-to-the-house-of-the-lord?lang=eng\n",
            "Successfully fetched https://www.churchofjesuschrist.org/study/general-conference/1992/04/a-disciple-of-jesus-christ?lang=eng\n",
            "Successfully fetched https://www.churchofjesuschrist.org/study/general-conference/1992/04/you-are-not-alone?lang=eng\n"
          ]
        },
        {
          "output_type": "stream",
          "name": "stderr",
          "text": [
            "\rScraping talks in parallel:  59%|█████▉    | 2422/4112 [03:45<03:26,  8.19it/s]"
          ]
        },
        {
          "output_type": "stream",
          "name": "stdout",
          "text": [
            "Successfully fetched https://www.churchofjesuschrist.org/study/general-conference/1992/04/spit-and-mud-and-kigatsuku?lang=eng\n",
            "Successfully fetched https://www.churchofjesuschrist.org/study/general-conference/1992/04/charity-never-faileth?lang=eng\n"
          ]
        },
        {
          "output_type": "stream",
          "name": "stderr",
          "text": [
            "\rScraping talks in parallel:  59%|█████▉    | 2424/4112 [03:45<03:26,  8.16it/s]"
          ]
        },
        {
          "output_type": "stream",
          "name": "stdout",
          "text": [
            "Successfully fetched https://www.churchofjesuschrist.org/study/general-conference/1992/04/patience-in-affliction?lang=eng\n",
            "Successfully fetched https://www.churchofjesuschrist.org/study/general-conference/1992/04/a-mighty-force-for-righteousness?lang=eng\n"
          ]
        },
        {
          "output_type": "stream",
          "name": "stderr",
          "text": [
            "\rScraping talks in parallel:  59%|█████▉    | 2431/4112 [03:45<02:36, 10.72it/s]"
          ]
        },
        {
          "output_type": "stream",
          "name": "stdout",
          "text": [
            "Successfully fetched https://www.churchofjesuschrist.org/study/general-conference/1992/04/the-tongue-can-be-a-sharp-sword?lang=eng\n",
            "Successfully fetched https://www.churchofjesuschrist.org/study/general-conference/1992/04/what-doest-ye-for-christ?lang=eng\n",
            "Successfully fetched https://www.churchofjesuschrist.org/study/general-conference/1992/04/healing-the-tragic-scars-of-abuse?lang=eng\n",
            "Successfully fetched https://www.churchofjesuschrist.org/study/general-conference/1992/04/the-royal-law?lang=eng\n",
            "Successfully fetched https://www.churchofjesuschrist.org/study/general-conference/1992/04/spiritual-healing?lang=eng\n",
            "Successfully fetched https://www.churchofjesuschrist.org/study/general-conference/1992/04/but-the-labourers-are-few?lang=eng\n",
            "Successfully fetched https://www.churchofjesuschrist.org/study/general-conference/1992/04/the-sustaining-of-church-officers?lang=eng\n",
            "Successfully fetched https://www.churchofjesuschrist.org/study/general-conference/1992/04/nourish-the-flock-of-christ?lang=eng\n"
          ]
        },
        {
          "output_type": "stream",
          "name": "stderr",
          "text": [
            "\rScraping talks in parallel:  59%|█████▉    | 2433/4112 [03:47<04:49,  5.81it/s]"
          ]
        },
        {
          "output_type": "stream",
          "name": "stdout",
          "text": [
            "Successfully fetched https://www.churchofjesuschrist.org/study/general-conference/1992/04/be-men?lang=eng\n",
            "Successfully fetched https://www.churchofjesuschrist.org/study/general-conference/1992/04/the-blessings-of-sacrifice?lang=eng\n"
          ]
        },
        {
          "output_type": "stream",
          "name": "stderr",
          "text": [
            "\rScraping talks in parallel:  59%|█████▉    | 2442/4112 [03:47<02:38, 10.50it/s]"
          ]
        },
        {
          "output_type": "stream",
          "name": "stdout",
          "text": [
            "Successfully fetched https://www.churchofjesuschrist.org/study/general-conference/1992/04/take-up-his-cross?lang=eng\n",
            "Successfully fetched https://www.churchofjesuschrist.org/study/general-conference/1992/04/the-spirit-of-relief-society?lang=eng\n",
            "Successfully fetched https://www.churchofjesuschrist.org/study/general-conference/1992/04/the-church-audit-committee-report?lang=eng\n",
            "Successfully fetched https://www.churchofjesuschrist.org/study/general-conference/1992/04/saturday-morning-session?lang=eng\n",
            "Successfully fetched https://www.churchofjesuschrist.org/study/general-conference/1992/04/a-prisoner-of-love?lang=eng\n",
            "Successfully fetched https://www.churchofjesuschrist.org/study/general-conference/1992/04/memories-of-yesterday-counsel-for-today?lang=eng\n",
            "Successfully fetched https://www.churchofjesuschrist.org/study/general-conference/1992/04/statistical-report-1991?lang=eng\n",
            "Successfully fetched https://www.churchofjesuschrist.org/study/general-conference/1992/04/please-hear-the-call?lang=eng\n",
            "Successfully fetched https://www.churchofjesuschrist.org/study/general-conference/1992/04/the-relief-society-and-the-church?lang=eng\n"
          ]
        },
        {
          "output_type": "stream",
          "name": "stderr",
          "text": [
            "\rScraping talks in parallel:  59%|█████▉    | 2444/4112 [03:48<03:59,  6.96it/s]"
          ]
        },
        {
          "output_type": "stream",
          "name": "stdout",
          "text": [
            "Successfully fetched https://www.churchofjesuschrist.org/study/general-conference/1992/04/seeking-the-good?lang=eng\n"
          ]
        },
        {
          "output_type": "stream",
          "name": "stderr",
          "text": [
            "\rScraping talks in parallel:  59%|█████▉    | 2446/4112 [03:48<04:01,  6.90it/s]"
          ]
        },
        {
          "output_type": "stream",
          "name": "stdout",
          "text": [
            "Successfully fetched https://www.churchofjesuschrist.org/study/general-conference/1992/04/a-more-excellent-way?lang=eng\n",
            "Successfully fetched https://www.churchofjesuschrist.org/study/general-conference/1992/04/my-servant-joseph?lang=eng\n",
            "Successfully fetched https://www.churchofjesuschrist.org/study/general-conference/1992/04/our-moral-environment?lang=eng\n"
          ]
        },
        {
          "output_type": "stream",
          "name": "stderr",
          "text": [
            "\rScraping talks in parallel:  60%|█████▉    | 2453/4112 [03:49<03:14,  8.52it/s]"
          ]
        },
        {
          "output_type": "stream",
          "name": "stdout",
          "text": [
            "Successfully fetched https://www.churchofjesuschrist.org/study/general-conference/1991/10/bring-up-your-children-in-light-and-truth?lang=eng\n",
            "Successfully fetched https://www.churchofjesuschrist.org/study/general-conference/1992/04/our-great-mission?lang=eng\n",
            "Successfully fetched https://www.churchofjesuschrist.org/study/general-conference/1992/04/to-learn-to-do-to-be?lang=eng\n",
            "Successfully fetched https://www.churchofjesuschrist.org/study/general-conference/1992/04/an-attitude-of-gratitude?lang=eng\n",
            "Successfully fetched https://www.churchofjesuschrist.org/study/general-conference/1991/10/our-solemn-responsibilities?lang=eng\n",
            "Successfully fetched https://www.churchofjesuschrist.org/study/general-conference/1992/04/doors-of-death?lang=eng\n",
            "Successfully fetched https://www.churchofjesuschrist.org/study/general-conference/1992/04/look-up-and-press-on?lang=eng\n",
            "Successfully fetched https://www.churchofjesuschrist.org/study/general-conference/1991/10/becoming-self-reliant?lang=eng\n"
          ]
        },
        {
          "output_type": "stream",
          "name": "stderr",
          "text": [
            "\rScraping talks in parallel:  60%|█████▉    | 2455/4112 [03:49<03:39,  7.56it/s]"
          ]
        },
        {
          "output_type": "stream",
          "name": "stdout",
          "text": [
            "Successfully fetched https://www.churchofjesuschrist.org/study/general-conference/1991/10/daughters-of-god?lang=eng\n",
            "Successfully fetched https://www.churchofjesuschrist.org/study/general-conference/1991/10/obtaining-help-from-the-lord?lang=eng\n",
            "Successfully fetched https://www.churchofjesuschrist.org/study/general-conference/1991/10/the-voice-is-still-small?lang=eng\n",
            "Successfully fetched https://www.churchofjesuschrist.org/study/general-conference/1991/10/fruits-of-the-restored-gospel-of-jesus-christ?lang=eng\n",
            "Successfully fetched https://www.churchofjesuschrist.org/study/general-conference/1991/10/christ-is-the-light-to-all-mankind?lang=eng\n",
            "Successfully fetched https://www.churchofjesuschrist.org/study/general-conference/1991/10/the-family-of-the-prophet-joseph-smith?lang=eng\n",
            "Successfully fetched https://www.churchofjesuschrist.org/study/general-conference/1991/10/rejoice-in-every-good-thing?lang=eng\n",
            "Successfully fetched https://www.churchofjesuschrist.org/study/general-conference/1991/10/the-conversion-process?lang=eng\n"
          ]
        },
        {
          "output_type": "stream",
          "name": "stderr",
          "text": [
            "\rScraping talks in parallel:  60%|█████▉    | 2463/4112 [03:50<03:01,  9.08it/s]"
          ]
        },
        {
          "output_type": "stream",
          "name": "stdout",
          "text": [
            "Successfully fetched https://www.churchofjesuschrist.org/study/general-conference/1991/10/the-lord-bless-you?lang=eng\n",
            "Successfully fetched https://www.churchofjesuschrist.org/study/general-conference/1991/10/today-a-day-of-eternity?lang=eng\n",
            "Successfully fetched https://www.churchofjesuschrist.org/study/general-conference/1991/10/our-mission-of-saving?lang=eng\n",
            "Successfully fetched https://www.churchofjesuschrist.org/study/general-conference/1991/10/saturday-morning-session?lang=eng\n",
            "Successfully fetched https://www.churchofjesuschrist.org/study/general-conference/1991/10/reverence-invites-revelation?lang=eng\n",
            "Successfully fetched https://www.churchofjesuschrist.org/study/general-conference/1991/10/to-a-missionary-son?lang=eng\n",
            "Successfully fetched https://www.churchofjesuschrist.org/study/general-conference/1991/10/precious-children-a-gift-from-god?lang=eng\n",
            "Successfully fetched https://www.churchofjesuschrist.org/study/general-conference/1991/10/called-to-serve?lang=eng\n",
            "Successfully fetched https://www.churchofjesuschrist.org/study/general-conference/1991/10/joy-and-mercy?lang=eng\n"
          ]
        },
        {
          "output_type": "stream",
          "name": "stderr",
          "text": [
            "\rScraping talks in parallel:  60%|█████▉    | 2464/4112 [03:51<04:39,  5.91it/s]"
          ]
        },
        {
          "output_type": "stream",
          "name": "stdout",
          "text": [
            "Successfully fetched https://www.churchofjesuschrist.org/study/general-conference/1991/10/the-ultimate-inheritance-an-allegory?lang=eng\n",
            "Successfully fetched https://www.churchofjesuschrist.org/study/general-conference/1991/10/follow-christ-in-word-and-deed?lang=eng\n",
            "Successfully fetched https://www.churchofjesuschrist.org/study/general-conference/1991/10/repentance?lang=eng\n",
            "Successfully fetched https://www.churchofjesuschrist.org/study/general-conference/1991/10/the-dual-aspects-of-prayer?lang=engSuccessfully fetched https://www.churchofjesuschrist.org/study/general-conference/1991/10/the-sustaining-of-church-officers?lang=eng\n",
            "\n",
            "Successfully fetched https://www.churchofjesuschrist.org/study/general-conference/1991/10/jesus-the-christ?lang=eng\n",
            "Successfully fetched https://www.churchofjesuschrist.org/study/general-conference/1991/10/these-were-our-examples?lang=eng\n",
            "Successfully fetched https://www.churchofjesuschrist.org/study/general-conference/1991/10/charity-suffereth-long?lang=eng\n",
            "Successfully fetched https://www.churchofjesuschrist.org/study/general-conference/1991/10/strengthen-the-feeble-knees?lang=eng\n",
            "Successfully fetched https://www.churchofjesuschrist.org/study/general-conference/1991/10/the-gospel-a-global-faith?lang=eng\n",
            "Successfully fetched https://www.churchofjesuschrist.org/study/general-conference/1991/10/the-call-an-eternal-miracle?lang=eng\n"
          ]
        },
        {
          "output_type": "stream",
          "name": "stderr",
          "text": [
            "\rScraping talks in parallel:  60%|██████    | 2483/4112 [03:51<02:19, 11.72it/s]"
          ]
        },
        {
          "output_type": "stream",
          "name": "stdout",
          "text": [
            "Successfully fetched https://www.churchofjesuschrist.org/study/general-conference/1991/10/and-now-you-will-know?lang=eng\n",
            "Successfully fetched https://www.churchofjesuschrist.org/study/general-conference/1991/10/these-are-your-days?lang=eng\n",
            "Successfully fetched https://www.churchofjesuschrist.org/study/general-conference/1991/10/a-time-for-preparation?lang=eng\n",
            "Successfully fetched https://www.churchofjesuschrist.org/study/general-conference/1991/10/the-lords-day?lang=eng\n"
          ]
        },
        {
          "output_type": "stream",
          "name": "stderr",
          "text": [
            "Scraping talks in parallel:  61%|██████    | 2497/4112 [03:52<01:39, 16.28it/s]"
          ]
        },
        {
          "output_type": "stream",
          "name": "stdout",
          "text": [
            "Successfully fetched https://www.churchofjesuschrist.org/study/general-conference/1991/10/covenants-and-ordinances?lang=eng\n",
            "Successfully fetched https://www.churchofjesuschrist.org/study/general-conference/1991/10/testimony?lang=engSuccessfully fetched https://www.churchofjesuschrist.org/study/general-conference/1991/04/making-the-right-decisions?lang=eng\n",
            "\n",
            "Successfully fetched https://www.churchofjesuschrist.org/study/general-conference/1991/10/be-an-example-of-the-believers?lang=eng\n",
            "Successfully fetched https://www.churchofjesuschrist.org/study/general-conference/1991/04/the-sixth-day-of-april-1830?lang=eng\n",
            "Successfully fetched https://www.churchofjesuschrist.org/study/general-conference/1991/10/light?lang=eng\n"
          ]
        },
        {
          "output_type": "stream",
          "name": "stderr",
          "text": [
            "\rScraping talks in parallel:  61%|██████    | 2500/4112 [03:52<01:49, 14.78it/s]"
          ]
        },
        {
          "output_type": "stream",
          "name": "stdout",
          "text": [
            "Successfully fetched https://www.churchofjesuschrist.org/study/general-conference/1991/04/the-moving-of-the-water?lang=eng\n",
            "Successfully fetched https://www.churchofjesuschrist.org/study/general-conference/1991/10/be-thou-an-example?lang=eng\n",
            "Successfully fetched https://www.churchofjesuschrist.org/study/general-conference/1991/04/sunday-worship-service?lang=eng\n",
            "Successfully fetched https://www.churchofjesuschrist.org/study/general-conference/1991/04/what-god-hath-joined-together?lang=eng\n"
          ]
        },
        {
          "output_type": "stream",
          "name": "stderr",
          "text": [
            "Scraping talks in parallel:  61%|██████    | 2504/4112 [03:53<02:12, 12.15it/s]"
          ]
        },
        {
          "output_type": "stream",
          "name": "stdout",
          "text": [
            "Successfully fetched https://www.churchofjesuschrist.org/study/general-conference/1991/04/the-savior-and-joseph-smith-alike-yet-unlike?lang=eng\n",
            "Successfully fetched https://www.churchofjesuschrist.org/study/general-conference/1991/04/before-i-build-a-wall?lang=eng\n",
            "Successfully fetched https://www.churchofjesuschrist.org/study/general-conference/1991/04/redemption-of-the-dead?lang=eng\n",
            "Successfully fetched https://www.churchofjesuschrist.org/study/general-conference/1991/04/honour-thy-father-and-thy-mother?lang=eng\n",
            "Successfully fetched https://www.churchofjesuschrist.org/study/general-conference/1991/04/to-draw-closer-to-god?lang=eng\n"
          ]
        },
        {
          "output_type": "stream",
          "name": "stderr",
          "text": [
            "\rScraping talks in parallel:  61%|██████    | 2509/4112 [03:53<01:37, 16.52it/s]"
          ]
        },
        {
          "output_type": "stream",
          "name": "stdout",
          "text": [
            "Successfully fetched https://www.churchofjesuschrist.org/study/general-conference/1991/04/the-power-of-prayer?lang=eng\n",
            "Successfully fetched https://www.churchofjesuschrist.org/study/general-conference/1991/04/called-to-serve?lang=engSuccessfully fetched https://www.churchofjesuschrist.org/study/general-conference/1991/04/yagottawanna?lang=eng\n",
            "\n"
          ]
        },
        {
          "output_type": "stream",
          "name": "stderr",
          "text": [
            "Scraping talks in parallel:  61%|██████    | 2515/4112 [03:53<01:44, 15.28it/s]"
          ]
        },
        {
          "output_type": "stream",
          "name": "stdout",
          "text": [
            "Successfully fetched https://www.churchofjesuschrist.org/study/general-conference/1991/04/never-alone?lang=eng\n",
            "Successfully fetched https://www.churchofjesuschrist.org/study/general-conference/1991/04/peace?lang=engSuccessfully fetched https://www.churchofjesuschrist.org/study/general-conference/1991/04/prophets?lang=eng\n",
            "\n",
            "Successfully fetched https://www.churchofjesuschrist.org/study/general-conference/1991/04/a-crown-of-thorns-a-crown-of-glory?lang=eng\n",
            "Successfully fetched https://www.churchofjesuschrist.org/study/general-conference/1991/04/lest-ye-be-wearied-and-faint-in-your-minds?lang=eng\n",
            "Successfully fetched https://www.churchofjesuschrist.org/study/general-conference/1991/04/linking-the-family-of-man?lang=eng\n",
            "Successfully fetched https://www.churchofjesuschrist.org/study/general-conference/1991/04/repentance?lang=eng\n",
            "Successfully fetched https://www.churchofjesuschrist.org/study/general-conference/1991/04/a-voice-of-gladness?lang=eng\n",
            "Successfully fetched https://www.churchofjesuschrist.org/study/general-conference/1991/04/the-state-of-the-church?lang=eng\n"
          ]
        },
        {
          "output_type": "stream",
          "name": "stderr",
          "text": [
            "\rScraping talks in parallel:  61%|██████    | 2517/4112 [03:54<02:15, 11.74it/s]"
          ]
        },
        {
          "output_type": "stream",
          "name": "stdout",
          "text": [
            "Successfully fetched https://www.churchofjesuschrist.org/study/general-conference/1991/04/change?lang=eng\n"
          ]
        },
        {
          "output_type": "stream",
          "name": "stderr",
          "text": [
            "\rScraping talks in parallel:  61%|██████▏   | 2520/4112 [03:54<02:10, 12.21it/s]"
          ]
        },
        {
          "output_type": "stream",
          "name": "stdout",
          "text": [
            "Successfully fetched https://www.churchofjesuschrist.org/study/general-conference/1991/04/the-church-audit-committee-report?lang=eng\n",
            "Successfully fetched https://www.churchofjesuschrist.org/study/general-conference/1991/04/listen-to-learn?lang=eng\n",
            "Successfully fetched https://www.churchofjesuschrist.org/study/general-conference/1991/04/a-pattern-of-righteousness?lang=eng\n"
          ]
        },
        {
          "output_type": "stream",
          "name": "stderr",
          "text": [
            "\rScraping talks in parallel:  61%|██████▏   | 2525/4112 [03:54<02:04, 12.71it/s]"
          ]
        },
        {
          "output_type": "stream",
          "name": "stdout",
          "text": [
            "Successfully fetched https://www.churchofjesuschrist.org/study/general-conference/1991/04/beware-lest-thou-forget-the-lord?lang=eng\n",
            "Successfully fetched https://www.churchofjesuschrist.org/study/general-conference/1991/04/peace-within?lang=eng\n",
            "Successfully fetched https://www.churchofjesuschrist.org/study/general-conference/1991/04/a-royal-priesthood?lang=eng\n",
            "Successfully fetched https://www.churchofjesuschrist.org/study/general-conference/1991/04/teach-the-children?lang=eng\n"
          ]
        },
        {
          "output_type": "stream",
          "name": "stderr",
          "text": [
            "\rScraping talks in parallel:  61%|██████▏   | 2528/4112 [03:54<01:51, 14.22it/s]"
          ]
        },
        {
          "output_type": "stream",
          "name": "stdout",
          "text": [
            "Successfully fetched https://www.churchofjesuschrist.org/study/general-conference/1991/04/to-honor-the-priesthood?lang=eng\n",
            "Successfully fetched https://www.churchofjesuschrist.org/study/general-conference/1990/10/temples-and-work-therein?lang=eng\n",
            "Successfully fetched https://www.churchofjesuschrist.org/study/general-conference/1991/04/his-latter-day-kingdom-has-been-established?lang=eng\n"
          ]
        },
        {
          "output_type": "stream",
          "name": "stderr",
          "text": [
            "\rScraping talks in parallel:  62%|██████▏   | 2531/4112 [03:55<01:58, 13.31it/s]"
          ]
        },
        {
          "output_type": "stream",
          "name": "stdout",
          "text": [
            "Successfully fetched https://www.churchofjesuschrist.org/study/general-conference/1991/04/saturday-morning-session?lang=eng\n",
            "Successfully fetched https://www.churchofjesuschrist.org/study/general-conference/1991/04/statistical-report-1990?lang=eng\n",
            "Successfully fetched https://www.churchofjesuschrist.org/study/general-conference/1990/10/the-value-of-a-testimony?lang=eng\n"
          ]
        },
        {
          "output_type": "stream",
          "name": "stderr",
          "text": [
            "\rScraping talks in parallel:  62%|██████▏   | 2533/4112 [03:55<02:42,  9.74it/s]"
          ]
        },
        {
          "output_type": "stream",
          "name": "stdout",
          "text": [
            "Successfully fetched https://www.churchofjesuschrist.org/study/general-conference/1991/04/the-sustaining-of-church-officers?lang=eng\n",
            "Successfully fetched https://www.churchofjesuschrist.org/study/general-conference/1990/10/follow-the-prophet?lang=eng\n",
            "Successfully fetched https://www.churchofjesuschrist.org/study/general-conference/1990/10/in-all-things-give-thanks?lang=eng\n",
            "Successfully fetched https://www.churchofjesuschrist.org/study/general-conference/1990/10/serve-god-acceptably-with-reverence-and-godly-fear?lang=eng\n",
            "Successfully fetched https://www.churchofjesuschrist.org/study/general-conference/1990/10/an-eternal-key?lang=eng\n"
          ]
        },
        {
          "output_type": "stream",
          "name": "stderr",
          "text": [
            "\rScraping talks in parallel:  62%|██████▏   | 2539/4112 [03:55<01:38, 15.94it/s]"
          ]
        },
        {
          "output_type": "stream",
          "name": "stdout",
          "text": [
            "Successfully fetched https://www.churchofjesuschrist.org/study/general-conference/1990/10/that-we-may-touch-heaven?lang=eng\n",
            "Successfully fetched https://www.churchofjesuschrist.org/study/general-conference/1990/10/a-pattern-in-all-things?lang=eng\n",
            "Successfully fetched https://www.churchofjesuschrist.org/study/general-conference/1990/10/hour-of-conversion?lang=eng\n",
            "Successfully fetched https://www.churchofjesuschrist.org/study/general-conference/1990/10/come-unto-me?lang=eng\n",
            "Successfully fetched https://www.churchofjesuschrist.org/study/general-conference/1990/10/the-many-witnesses-of-jesus-christ-and-his-work?lang=eng\n",
            "Successfully fetched https://www.churchofjesuschrist.org/study/general-conference/1990/10/in-counsellors-there-is-safety?lang=engSuccessfully fetched https://www.churchofjesuschrist.org/study/general-conference/1990/10/the-resurrection?lang=eng\n",
            "\n",
            "Successfully fetched https://www.churchofjesuschrist.org/study/general-conference/1990/10/covenants?lang=eng\n"
          ]
        },
        {
          "output_type": "stream",
          "name": "stderr",
          "text": [
            "\rScraping talks in parallel:  62%|██████▏   | 2542/4112 [03:56<02:19, 11.26it/s]"
          ]
        },
        {
          "output_type": "stream",
          "name": "stdout",
          "text": [
            "Successfully fetched https://www.churchofjesuschrist.org/study/general-conference/1990/10/what-is-truth?lang=eng\n",
            "Successfully fetched https://www.churchofjesuschrist.org/study/general-conference/1990/10/crickets-can-be-destroyed-through-spirituality?lang=eng\n",
            "Successfully fetched https://www.churchofjesuschrist.org/study/general-conference/1990/10/a-thousand-times?lang=eng\n"
          ]
        },
        {
          "output_type": "stream",
          "name": "stderr",
          "text": [
            "\rScraping talks in parallel:  62%|██████▏   | 2544/4112 [03:56<02:41,  9.69it/s]"
          ]
        },
        {
          "output_type": "stream",
          "name": "stdout",
          "text": [
            "Successfully fetched https://www.churchofjesuschrist.org/study/general-conference/1990/10/the-lighthouse-of-the-lord?lang=eng\n",
            "Successfully fetched https://www.churchofjesuschrist.org/study/general-conference/1990/10/draw-strength-from-the-book-of-mormon?lang=eng\n",
            "Successfully fetched https://www.churchofjesuschrist.org/study/general-conference/1990/10/days-never-to-be-forgotten?lang=engSuccessfully fetched https://www.churchofjesuschrist.org/study/general-conference/1990/10/purity-precedes-power?lang=eng\n",
            "\n"
          ]
        },
        {
          "output_type": "stream",
          "name": "stderr",
          "text": [
            "\rScraping talks in parallel:  62%|██████▏   | 2548/4112 [03:56<02:12, 11.76it/s]"
          ]
        },
        {
          "output_type": "stream",
          "name": "stdout",
          "text": [
            "Successfully fetched https://www.churchofjesuschrist.org/study/general-conference/1990/10/these-things-are-manifested-unto-us-plainly?lang=eng\n",
            "Successfully fetched https://www.churchofjesuschrist.org/study/general-conference/1990/10/redemption-the-harvest-of-love?lang=eng\n",
            "Successfully fetched https://www.churchofjesuschrist.org/study/general-conference/1990/10/the-straight-and-narrow-way?lang=eng\n",
            "Successfully fetched https://www.churchofjesuschrist.org/study/general-conference/1990/10/the-sustaining-of-church-officers?lang=eng\n"
          ]
        },
        {
          "output_type": "stream",
          "name": "stderr",
          "text": [
            "\rScraping talks in parallel:  62%|██████▏   | 2555/4112 [03:56<01:43, 14.99it/s]"
          ]
        },
        {
          "output_type": "stream",
          "name": "stdout",
          "text": [
            "Successfully fetched https://www.churchofjesuschrist.org/study/general-conference/1990/10/god-be-with-you-till-we-meet-again?lang=eng\n",
            "Successfully fetched https://www.churchofjesuschrist.org/study/general-conference/1990/10/the-word-of-wisdom?lang=eng\n",
            "Successfully fetched https://www.churchofjesuschrist.org/study/general-conference/1990/10/this-work-will-go-forward?lang=eng\n",
            "Successfully fetched https://www.churchofjesuschrist.org/study/general-conference/1990/10/changing-channels?lang=eng\n",
            "Successfully fetched https://www.churchofjesuschrist.org/study/general-conference/1990/10/happiness-is-homemade?lang=eng\n"
          ]
        },
        {
          "output_type": "stream",
          "name": "stderr",
          "text": [
            "\rScraping talks in parallel:  62%|██████▏   | 2561/4112 [03:57<02:11, 11.83it/s]"
          ]
        },
        {
          "output_type": "stream",
          "name": "stdout",
          "text": [
            "Successfully fetched https://www.churchofjesuschrist.org/study/general-conference/1990/10/the-greatest-challenge-in-the-world-good-parenting?lang=eng\n",
            "Successfully fetched https://www.churchofjesuschrist.org/study/general-conference/1990/10/put-off-the-natural-man-and-come-off-conqueror?lang=eng\n"
          ]
        },
        {
          "output_type": "stream",
          "name": "stderr",
          "text": [
            "\rScraping talks in parallel:  62%|██████▏   | 2564/4112 [03:57<02:17, 11.28it/s]"
          ]
        },
        {
          "output_type": "stream",
          "name": "stdout",
          "text": [
            "Successfully fetched https://www.churchofjesuschrist.org/study/general-conference/1990/10/mormon-should-mean-more-good?lang=eng\n",
            "Successfully fetched https://www.churchofjesuschrist.org/study/general-conference/1990/10/choices?lang=eng\n",
            "Successfully fetched https://www.churchofjesuschrist.org/study/general-conference/1990/10/saturday-morning-session?lang=eng\n"
          ]
        },
        {
          "output_type": "stream",
          "name": "stderr",
          "text": [
            "\rScraping talks in parallel:  62%|██████▏   | 2566/4112 [03:58<02:26, 10.57it/s]"
          ]
        },
        {
          "output_type": "stream",
          "name": "stdout",
          "text": [
            "Successfully fetched https://www.churchofjesuschrist.org/study/general-conference/1990/10/no-more-strangers-and-foreigners?lang=eng\n",
            "Successfully fetched https://www.churchofjesuschrist.org/study/general-conference/1990/10/kindness-a-part-of-gods-plan?lang=eng\n",
            "Successfully fetched https://www.churchofjesuschrist.org/study/general-conference/1990/10/witnesses-of-christ?lang=eng\n"
          ]
        },
        {
          "output_type": "stream",
          "name": "stderr",
          "text": [
            "\rScraping talks in parallel:  62%|██████▎   | 2570/4112 [03:58<02:08, 12.02it/s]"
          ]
        },
        {
          "output_type": "stream",
          "name": "stdout",
          "text": [
            "Successfully fetched https://www.churchofjesuschrist.org/study/general-conference/1990/04/personal-integrity?lang=eng\n",
            "Successfully fetched https://www.churchofjesuschrist.org/study/general-conference/1990/04/finding-the-way-back?lang=eng\n",
            "Successfully fetched https://www.churchofjesuschrist.org/study/general-conference/1990/04/some-scriptural-lessons-on-leadership?lang=eng\n",
            "Successfully fetched https://www.churchofjesuschrist.org/study/general-conference/1990/04/keeping-the-temple-holy?lang=eng\n",
            "Successfully fetched https://www.churchofjesuschrist.org/study/general-conference/1990/04/my-brothers-keeper?lang=eng\n",
            "Successfully fetched https://www.churchofjesuschrist.org/study/general-conference/1990/04/the-sustaining-of-church-officers?lang=eng\n",
            "Successfully fetched https://www.churchofjesuschrist.org/study/general-conference/1990/04/conference-is-here?lang=eng\n",
            "Successfully fetched https://www.churchofjesuschrist.org/study/general-conference/1990/04/the-lords-way?lang=eng\n",
            "Successfully fetched https://www.churchofjesuschrist.org/study/general-conference/1990/10/follow-the-prophets?lang=eng\n",
            "Successfully fetched https://www.churchofjesuschrist.org/study/general-conference/1990/04/the-library-of-the-lord?lang=eng\n"
          ]
        },
        {
          "output_type": "stream",
          "name": "stderr",
          "text": [
            "\rScraping talks in parallel:  63%|██████▎   | 2575/4112 [03:59<02:57,  8.65it/s]"
          ]
        },
        {
          "output_type": "stream",
          "name": "stdout",
          "text": [
            "Successfully fetched https://www.churchofjesuschrist.org/study/general-conference/1990/04/gratitude-as-a-saving-principle?lang=eng\n",
            "Successfully fetched https://www.churchofjesuschrist.org/study/general-conference/1990/04/world-peace?lang=eng\n",
            "Successfully fetched https://www.churchofjesuschrist.org/study/general-conference/1990/04/home-first?lang=eng\n",
            "Successfully fetched https://www.churchofjesuschrist.org/study/general-conference/1990/04/teach-them-correct-principles?lang=eng\n",
            "Successfully fetched https://www.churchofjesuschrist.org/study/general-conference/1990/04/filling-the-whole-earth?lang=eng\n",
            "Successfully fetched https://www.churchofjesuschrist.org/study/general-conference/1990/04/preparing-the-heart?lang=eng\n",
            "Successfully fetched https://www.churchofjesuschrist.org/study/general-conference/1990/04/thus-shall-my-church-be-called?lang=eng\n",
            "Successfully fetched https://www.churchofjesuschrist.org/study/general-conference/1990/04/saturday-morning-session?lang=eng\n",
            "Successfully fetched https://www.churchofjesuschrist.org/study/general-conference/1990/04/small-and-simple-things?lang=engSuccessfully fetched https://www.churchofjesuschrist.org/study/general-conference/1990/04/a-little-child-shall-lead-them?lang=eng\n",
            "\n"
          ]
        },
        {
          "output_type": "stream",
          "name": "stderr",
          "text": [
            "Scraping talks in parallel:  63%|██████▎   | 2586/4112 [04:00<03:00,  8.48it/s]"
          ]
        },
        {
          "output_type": "stream",
          "name": "stdout",
          "text": [
            "Successfully fetched https://www.churchofjesuschrist.org/study/general-conference/1990/04/blessed-are-the-merciful?lang=eng\n",
            "Successfully fetched https://www.churchofjesuschrist.org/study/general-conference/1990/04/i-will-go-and-do?lang=eng\n",
            "Successfully fetched https://www.churchofjesuschrist.org/study/general-conference/1990/04/the-motorcycle-ride?lang=eng\n",
            "Successfully fetched https://www.churchofjesuschrist.org/study/general-conference/1990/04/sacred-resolves?lang=eng\n",
            "Successfully fetched https://www.churchofjesuschrist.org/study/general-conference/1990/04/the-greatest-joy?lang=eng\n",
            "Successfully fetched https://www.churchofjesuschrist.org/study/general-conference/1990/04/instruments-to-accomplish-his-purposes?lang=eng\n",
            "Successfully fetched https://www.churchofjesuschrist.org/study/general-conference/1990/04/endure-it-well?lang=eng\n",
            "Successfully fetched https://www.churchofjesuschrist.org/study/general-conference/1990/04/family-traditions?lang=eng\n"
          ]
        },
        {
          "output_type": "stream",
          "name": "stderr",
          "text": [
            "\rScraping talks in parallel:  63%|██████▎   | 2594/4112 [04:01<02:31, 10.04it/s]"
          ]
        },
        {
          "output_type": "stream",
          "name": "stdout",
          "text": [
            "Successfully fetched https://www.churchofjesuschrist.org/study/general-conference/1990/04/neither-boast-of-faith-nor-of-mighty-works?lang=eng\n",
            "Successfully fetched https://www.churchofjesuschrist.org/study/general-conference/1990/04/one-small-step-for-a-man-one-giant-leap-for-mankind?lang=eng\n",
            "Successfully fetched https://www.churchofjesuschrist.org/study/general-conference/1990/04/rise-to-a-larger-vision-of-the-work?lang=eng\n",
            "Successfully fetched https://www.churchofjesuschrist.org/study/general-conference/1990/04/ye-have-done-it-unto-me?lang=eng"
          ]
        },
        {
          "output_type": "stream",
          "name": "stderr",
          "text": [
            "\rScraping talks in parallel:  63%|██████▎   | 2598/4112 [04:01<02:52,  8.78it/s]"
          ]
        },
        {
          "output_type": "stream",
          "name": "stdout",
          "text": [
            "Successfully fetched https://www.churchofjesuschrist.org/study/general-conference/1990/04/who-is-a-true-friend?lang=eng\n",
            "\n",
            "Successfully fetched https://www.churchofjesuschrist.org/study/general-conference/1990/04/statistical-report-1989?lang=eng\n"
          ]
        },
        {
          "output_type": "stream",
          "name": "stderr",
          "text": [
            "\rScraping talks in parallel:  63%|██████▎   | 2605/4112 [04:01<01:59, 12.63it/s]"
          ]
        },
        {
          "output_type": "stream",
          "name": "stdout",
          "text": [
            "Successfully fetched https://www.churchofjesuschrist.org/study/general-conference/1989/10/look-to-the-savior?lang=eng\n",
            "Successfully fetched https://www.churchofjesuschrist.org/study/general-conference/1990/04/a-latter-day-samaritan?lang=eng\n",
            "Successfully fetched https://www.churchofjesuschrist.org/study/general-conference/1990/04/choose-you-this-day?lang=eng\n"
          ]
        },
        {
          "output_type": "stream",
          "name": "stderr",
          "text": [
            "\rScraping talks in parallel:  63%|██████▎   | 2608/4112 [04:02<02:03, 12.19it/s]"
          ]
        },
        {
          "output_type": "stream",
          "name": "stdout",
          "text": [
            "Successfully fetched https://www.churchofjesuschrist.org/study/general-conference/1989/10/an-ensign-to-the-nations?lang=eng\n",
            "Successfully fetched https://www.churchofjesuschrist.org/study/general-conference/1990/04/the-resurrection?lang=eng\n",
            "Successfully fetched https://www.churchofjesuschrist.org/study/general-conference/1989/10/keep-the-faith?lang=eng\n",
            "Successfully fetched https://www.churchofjesuschrist.org/study/general-conference/1990/04/standing-as-witnesses-of-god?lang=eng\n",
            "Successfully fetched https://www.churchofjesuschrist.org/study/general-conference/1990/04/the-aaronic-priesthood-return-with-honor?lang=eng\n",
            "Successfully fetched https://www.churchofjesuschrist.org/study/general-conference/1990/04/the-spirituality-of-service?lang=eng\n",
            "Successfully fetched https://www.churchofjesuschrist.org/study/general-conference/1989/10/duties-rewards-and-risks?lang=eng\n"
          ]
        },
        {
          "output_type": "stream",
          "name": "stderr",
          "text": [
            "Scraping talks in parallel:  64%|██████▎   | 2612/4112 [04:03<02:42,  9.23it/s]"
          ]
        },
        {
          "output_type": "stream",
          "name": "stdout",
          "text": [
            "Successfully fetched https://www.churchofjesuschrist.org/study/general-conference/1989/10/the-sacrament-and-the-sacrifice?lang=eng\n",
            "Successfully fetched https://www.churchofjesuschrist.org/study/general-conference/1990/04/teachings-of-a-loving-father?lang=eng\n",
            "Successfully fetched https://www.churchofjesuschrist.org/study/general-conference/1989/10/the-service-that-counts?lang=eng\n",
            "Successfully fetched https://www.churchofjesuschrist.org/study/general-conference/1990/04/the-church-audit-committee-report?lang=eng\n",
            "Successfully fetched https://www.churchofjesuschrist.org/study/general-conference/1989/10/running-your-marathon?lang=eng\n"
          ]
        },
        {
          "output_type": "stream",
          "name": "stderr",
          "text": [
            "\rScraping talks in parallel:  64%|██████▎   | 2615/4112 [04:03<02:32,  9.80it/s]"
          ]
        },
        {
          "output_type": "stream",
          "name": "stdout",
          "text": [
            "Successfully fetched https://www.churchofjesuschrist.org/study/general-conference/1989/10/winding-up-our-spiritual-clocks?lang=eng\n",
            "Successfully fetched https://www.churchofjesuschrist.org/study/general-conference/1989/10/saturday-morning-session?lang=eng\n",
            "Successfully fetched https://www.churchofjesuschrist.org/study/general-conference/1989/10/an-eye-single-to-the-glory-of-god?lang=eng\n"
          ]
        },
        {
          "output_type": "stream",
          "name": "stderr",
          "text": [
            "\rScraping talks in parallel:  64%|██████▍   | 2626/4112 [04:03<01:12, 20.59it/s]"
          ]
        },
        {
          "output_type": "stream",
          "name": "stdout",
          "text": [
            "Successfully fetched https://www.churchofjesuschrist.org/study/general-conference/1989/10/a-lifetime-of-learning?lang=eng\n",
            "Successfully fetched https://www.churchofjesuschrist.org/study/general-conference/1989/10/chastity-the-source-of-true-manhood?lang=eng\n",
            "Successfully fetched https://www.churchofjesuschrist.org/study/general-conference/1989/10/he-loved-them-unto-the-end?lang=eng\n",
            "Successfully fetched https://www.churchofjesuschrist.org/study/general-conference/1989/10/to-the-elderly-in-the-church?lang=eng\n",
            "Successfully fetched https://www.churchofjesuschrist.org/study/general-conference/1989/10/follow-him?lang=eng\n",
            "Successfully fetched https://www.churchofjesuschrist.org/study/general-conference/1989/10/the-value-of-preparation?lang=eng\n",
            "Successfully fetched https://www.churchofjesuschrist.org/study/general-conference/1989/10/rise-to-the-stature-of-the-divine-within-you?lang=eng\n"
          ]
        },
        {
          "output_type": "stream",
          "name": "stderr",
          "text": [
            "\rScraping talks in parallel:  64%|██████▍   | 2630/4112 [04:03<01:34, 15.62it/s]"
          ]
        },
        {
          "output_type": "stream",
          "name": "stdout",
          "text": [
            "Successfully fetched https://www.churchofjesuschrist.org/study/general-conference/1989/10/remember-him?lang=eng\n",
            "Successfully fetched https://www.churchofjesuschrist.org/study/general-conference/1989/10/the-golden-thread-of-choice?lang=eng\n",
            "Successfully fetched https://www.churchofjesuschrist.org/study/general-conference/1989/10/windows?lang=eng\n",
            "Successfully fetched https://www.churchofjesuschrist.org/study/general-conference/1989/10/love?lang=eng\n",
            "Successfully fetched https://www.churchofjesuschrist.org/study/general-conference/1989/10/murmur-not?lang=eng\n",
            "Successfully fetched https://www.churchofjesuschrist.org/study/general-conference/1989/10/woman-of-infinite-worth?lang=eng\n",
            "Successfully fetched https://www.churchofjesuschrist.org/study/general-conference/1989/10/revelation-in-a-changing-world?lang=eng\n",
            "Successfully fetched https://www.churchofjesuschrist.org/study/general-conference/1989/10/overcoming-adversity?lang=eng\n",
            "Successfully fetched https://www.churchofjesuschrist.org/study/general-conference/1989/10/stalwart-and-brave-we-stand?lang=eng\n",
            "Successfully fetched https://www.churchofjesuschrist.org/study/general-conference/1989/10/a-word-of-benediction?lang=eng\n",
            "Successfully fetched https://www.churchofjesuschrist.org/study/general-conference/1989/10/the-peaceable-followers-of-christ?lang=eng\n"
          ]
        },
        {
          "output_type": "stream",
          "name": "stderr",
          "text": [
            "\rScraping talks in parallel:  64%|██████▍   | 2633/4112 [04:04<02:29,  9.86it/s]"
          ]
        },
        {
          "output_type": "stream",
          "name": "stdout",
          "text": [
            "Successfully fetched https://www.churchofjesuschrist.org/study/general-conference/1989/10/identity-of-a-young-woman?lang=eng\n"
          ]
        },
        {
          "output_type": "stream",
          "name": "stderr",
          "text": [
            "\rScraping talks in parallel:  64%|██████▍   | 2644/4112 [04:05<01:41, 14.53it/s]"
          ]
        },
        {
          "output_type": "stream",
          "name": "stdout",
          "text": [
            "Successfully fetched https://www.churchofjesuschrist.org/study/general-conference/1989/10/remembrance-and-gratitude?lang=eng\n",
            "Successfully fetched https://www.churchofjesuschrist.org/study/general-conference/1989/10/continuous-revelation?lang=eng\n",
            "Successfully fetched https://www.churchofjesuschrist.org/study/general-conference/1989/10/good-memories-are-real-blessings?lang=eng\n",
            "Successfully fetched https://www.churchofjesuschrist.org/study/general-conference/1989/10/the-summer-of-the-lambs?lang=eng\n",
            "Successfully fetched https://www.churchofjesuschrist.org/study/general-conference/1989/10/learning-to-recognize-answers-to-prayer?lang=eng\n",
            "Successfully fetched https://www.churchofjesuschrist.org/study/general-conference/1989/10/the-scourge-of-illicit-drugs?lang=eng\n",
            "Successfully fetched https://www.churchofjesuschrist.org/study/general-conference/1989/04/the-god-that-doest-wonders?lang=eng\n",
            "Successfully fetched https://www.churchofjesuschrist.org/study/general-conference/1989/04/the-gift-of-the-holy-ghost-a-sure-compass?lang=eng\n",
            "Successfully fetched https://www.churchofjesuschrist.org/study/general-conference/1989/04/now-is-the-time?lang=eng\n",
            "Successfully fetched https://www.churchofjesuschrist.org/study/general-conference/1989/04/the-way-to-perfection?lang=eng\n",
            "Successfully fetched https://www.churchofjesuschrist.org/study/general-conference/1989/10/the-sustaining-of-church-officers?lang=eng\n",
            "Successfully fetched https://www.churchofjesuschrist.org/study/general-conference/1989/04/the-effects-of-television?lang=engSuccessfully fetched https://www.churchofjesuschrist.org/study/general-conference/1989/04/on-being-worthy?lang=eng\n",
            "\n",
            "Successfully fetched https://www.churchofjesuschrist.org/study/general-conference/1989/10/modern-pioneers?lang=eng\n",
            "Successfully fetched https://www.churchofjesuschrist.org/study/general-conference/1989/04/university-for-eternal-life?lang=eng\n",
            "Successfully fetched https://www.churchofjesuschrist.org/study/general-conference/1989/04/making-points-for-righteousness?lang=eng\n"
          ]
        },
        {
          "output_type": "stream",
          "name": "stderr",
          "text": [
            "Scraping talks in parallel:  65%|██████▍   | 2656/4112 [04:06<01:41, 14.35it/s]"
          ]
        },
        {
          "output_type": "stream",
          "name": "stdout",
          "text": [
            "Successfully fetched https://www.churchofjesuschrist.org/study/general-conference/1989/04/thanks-be-to-god?lang=eng\n",
            "Successfully fetched https://www.churchofjesuschrist.org/study/general-conference/1989/04/the-canker-of-contention?lang=eng\n",
            "Successfully fetched https://www.churchofjesuschrist.org/study/general-conference/1989/04/beware-of-pride?lang=eng\n",
            "Successfully fetched https://www.churchofjesuschrist.org/study/general-conference/1989/04/proclaim-my-gospel-from-land-to-land?lang=eng\n",
            "Successfully fetched https://www.churchofjesuschrist.org/study/general-conference/1989/04/irony-the-crust-on-the-bread-of-adversity?lang=engSuccessfully fetched https://www.churchofjesuschrist.org/study/general-conference/1989/04/lord-when-saw-we-thee-an-hungred?lang=eng\n",
            "\n",
            "Successfully fetched https://www.churchofjesuschrist.org/study/general-conference/1989/04/seeds-of-renewal?lang=eng\n",
            "Successfully fetched https://www.churchofjesuschrist.org/study/general-conference/1989/04/to-the-children-of-the-church?lang=eng\n",
            "Successfully fetched https://www.churchofjesuschrist.org/study/general-conference/1989/04/go-for-it?lang=eng\n",
            "Successfully fetched https://www.churchofjesuschrist.org/study/general-conference/1989/04/saturday-morning-session?lang=eng\n"
          ]
        },
        {
          "output_type": "stream",
          "name": "stderr",
          "text": [
            "\rScraping talks in parallel:  65%|██████▍   | 2662/4112 [04:06<01:57, 12.37it/s]"
          ]
        },
        {
          "output_type": "stream",
          "name": "stdout",
          "text": [
            "Successfully fetched https://www.churchofjesuschrist.org/study/general-conference/1989/04/follow-the-prophet?lang=eng\n",
            "Successfully fetched https://www.churchofjesuschrist.org/study/general-conference/1989/04/the-sustaining-of-church-officers?lang=eng\n",
            "Successfully fetched https://www.churchofjesuschrist.org/study/general-conference/1989/04/the-church-audit-committee-report?lang=eng\n"
          ]
        },
        {
          "output_type": "stream",
          "name": "stderr",
          "text": [
            "\rScraping talks in parallel:  65%|██████▍   | 2665/4112 [04:07<02:03, 11.69it/s]"
          ]
        },
        {
          "output_type": "stream",
          "name": "stdout",
          "text": [
            "Successfully fetched https://www.churchofjesuschrist.org/study/general-conference/1989/04/adversity-and-the-divine-purpose-of-mortality?lang=eng\n",
            "Successfully fetched https://www.churchofjesuschrist.org/study/general-conference/1989/04/alternate-voices?lang=eng\n",
            "Successfully fetched https://www.churchofjesuschrist.org/study/general-conference/1989/04/trust-in-the-lord?lang=engSuccessfully fetched https://www.churchofjesuschrist.org/study/general-conference/1989/04/the-beauty-and-importance-of-the-sacrament?lang=eng\n",
            "\n",
            "Successfully fetched https://www.churchofjesuschrist.org/study/general-conference/1989/04/statistical-report-1988?lang=eng\n",
            "Successfully fetched https://www.churchofjesuschrist.org/study/general-conference/1989/04/our-kindred-family-expression-of-eternal-love?lang=eng\n",
            "Successfully fetched https://www.churchofjesuschrist.org/study/general-conference/1989/04/let-love-be-the-lodestar-of-your-life?lang=eng\n",
            "Successfully fetched https://www.churchofjesuschrist.org/study/general-conference/1989/04/magnify-your-calling?lang=eng\n",
            "Successfully fetched https://www.churchofjesuschrist.org/study/general-conference/1988/10/making-righteous-choices-at-the-crossroads-of-life?lang=eng\n"
          ]
        },
        {
          "output_type": "stream",
          "name": "stderr",
          "text": [
            "\rScraping talks in parallel:  65%|██████▍   | 2671/4112 [04:07<01:59, 12.10it/s]"
          ]
        },
        {
          "output_type": "stream",
          "name": "stdout",
          "text": [
            "Successfully fetched https://www.churchofjesuschrist.org/study/general-conference/1988/10/a-willing-heart?lang=eng\n",
            "Successfully fetched https://www.churchofjesuschrist.org/study/general-conference/1988/10/the-healing-power-of-christ?lang=eng\n",
            "Successfully fetched https://www.churchofjesuschrist.org/study/general-conference/1988/10/the-royal-law-of-love?lang=eng\n",
            "Successfully fetched https://www.churchofjesuschrist.org/study/general-conference/1988/10/what-went-ye-out-to-see?lang=eng\n",
            "Successfully fetched https://www.churchofjesuschrist.org/study/general-conference/1988/10/blessed-from-on-high?lang=eng\n",
            "Successfully fetched https://www.churchofjesuschrist.org/study/general-conference/1988/10/we-have-a-work-to-do?lang=eng\n",
            "Successfully fetched https://www.churchofjesuschrist.org/study/general-conference/1988/10/goal-beyond-victory?lang=eng\n",
            "Successfully fetched https://www.churchofjesuschrist.org/study/general-conference/1988/10/stand-for-truth-and-righteousness?lang=eng\n"
          ]
        },
        {
          "output_type": "stream",
          "name": "stderr",
          "text": [
            "\rScraping talks in parallel:  65%|██████▌   | 2683/4112 [04:08<01:49, 13.07it/s]"
          ]
        },
        {
          "output_type": "stream",
          "name": "stdout",
          "text": [
            "Successfully fetched https://www.churchofjesuschrist.org/study/general-conference/1988/10/the-priesthood-of-god?lang=eng\n",
            "Successfully fetched https://www.churchofjesuschrist.org/study/general-conference/1989/04/to-young-women-and-men?lang=eng\n",
            "Successfully fetched https://www.churchofjesuschrist.org/study/general-conference/1988/10/the-measure-of-our-hearts?lang=eng\n",
            "Successfully fetched https://www.churchofjesuschrist.org/study/general-conference/1988/10/saturday-morning-session?lang=eng\n",
            "Successfully fetched https://www.churchofjesuschrist.org/study/general-conference/1988/10/flooding-the-earth-with-the-book-of-mormon?lang=engSuccessfully fetched https://www.churchofjesuschrist.org/study/general-conference/1988/10/to-the-bishops-of-the-church?lang=eng\n",
            "\n",
            "Successfully fetched https://www.churchofjesuschrist.org/study/general-conference/1988/10/i-will-follow-gods-plan-for-me?lang=eng\n",
            "Successfully fetched https://www.churchofjesuschrist.org/study/general-conference/1988/10/the-quality-of-eternal-life?lang=eng\n",
            "Successfully fetched https://www.churchofjesuschrist.org/study/general-conference/1988/10/train-up-a-child?lang=eng\n",
            "Successfully fetched https://www.churchofjesuschrist.org/study/general-conference/1988/10/i-testify?lang=eng\n",
            "Successfully fetched https://www.churchofjesuschrist.org/study/general-conference/1988/10/addiction-or-freedom?lang=eng\n",
            "Successfully fetched https://www.churchofjesuschrist.org/study/general-conference/1988/10/inviting-others-to-come-unto-christ?lang=eng\n"
          ]
        },
        {
          "output_type": "stream",
          "name": "stderr",
          "text": [
            "Scraping talks in parallel:  65%|██████▌   | 2687/4112 [04:09<02:30,  9.46it/s]"
          ]
        },
        {
          "output_type": "stream",
          "name": "stdout",
          "text": [
            "Successfully fetched https://www.churchofjesuschrist.org/study/general-conference/1988/10/the-sustaining-of-church-officers?lang=eng\n"
          ]
        },
        {
          "output_type": "stream",
          "name": "stderr",
          "text": [
            "Scraping talks in parallel:  65%|██████▌   | 2693/4112 [04:09<02:15, 10.50it/s]"
          ]
        },
        {
          "output_type": "stream",
          "name": "stdout",
          "text": [
            "Successfully fetched https://www.churchofjesuschrist.org/study/general-conference/1988/10/the-supernal-gift-of-the-atonement?lang=eng\n"
          ]
        },
        {
          "output_type": "stream",
          "name": "stderr",
          "text": [
            "\rScraping talks in parallel:  66%|██████▌   | 2695/4112 [04:10<02:43,  8.68it/s]"
          ]
        },
        {
          "output_type": "stream",
          "name": "stdout",
          "text": [
            "Successfully fetched https://www.churchofjesuschrist.org/study/general-conference/1988/10/to-the-single-adult-sisters-of-the-church?lang=eng\n"
          ]
        },
        {
          "output_type": "stream",
          "name": "stderr",
          "text": [
            "\rScraping talks in parallel:  66%|██████▌   | 2699/4112 [04:10<02:14, 10.50it/s]"
          ]
        },
        {
          "output_type": "stream",
          "name": "stdout",
          "text": [
            "Successfully fetched https://www.churchofjesuschrist.org/study/general-conference/1988/10/what-think-ye-of-christ?lang=eng\n",
            "Successfully fetched https://www.churchofjesuschrist.org/study/general-conference/1988/10/the-soil-and-roots-of-testimony?lang=eng\n",
            "Successfully fetched https://www.churchofjesuschrist.org/study/general-conference/1988/10/a-more-excellent-way?lang=eng\n",
            "Successfully fetched https://www.churchofjesuschrist.org/study/general-conference/1988/10/funerals-a-time-for-reverence?lang=eng\n"
          ]
        },
        {
          "output_type": "stream",
          "name": "stderr",
          "text": [
            "\rScraping talks in parallel:  66%|██████▌   | 2703/4112 [04:10<02:06, 11.13it/s]"
          ]
        },
        {
          "output_type": "stream",
          "name": "stdout",
          "text": [
            "Successfully fetched https://www.churchofjesuschrist.org/study/general-conference/1988/10/choose-the-church?lang=eng\n",
            "Successfully fetched https://www.churchofjesuschrist.org/study/general-conference/1988/10/hallmarks-of-a-happy-home?lang=eng\n"
          ]
        },
        {
          "output_type": "stream",
          "name": "stderr",
          "text": [
            "\rScraping talks in parallel:  66%|██████▌   | 2706/4112 [04:11<02:53,  8.11it/s]"
          ]
        },
        {
          "output_type": "stream",
          "name": "stdout",
          "text": [
            "Successfully fetched https://www.churchofjesuschrist.org/study/general-conference/1988/10/a-call-to-serve?lang=eng\n",
            "Successfully fetched https://www.churchofjesuschrist.org/study/general-conference/1988/10/true-friends-that-lift?lang=eng\n"
          ]
        },
        {
          "output_type": "stream",
          "name": "stderr",
          "text": [
            "Scraping talks in parallel:  66%|██████▌   | 2710/4112 [04:11<02:23,  9.78it/s]"
          ]
        },
        {
          "output_type": "stream",
          "name": "stdout",
          "text": [
            "Successfully fetched https://www.churchofjesuschrist.org/study/general-conference/1988/10/children-at-peace?lang=eng\n",
            "Successfully fetched https://www.churchofjesuschrist.org/study/general-conference/1988/10/the-hand-of-fellowship?lang=engSuccessfully fetched https://www.churchofjesuschrist.org/study/general-conference/1988/10/answer-me?lang=eng\n",
            "\n"
          ]
        },
        {
          "output_type": "stream",
          "name": "stderr",
          "text": [
            "\rScraping talks in parallel:  66%|██████▌   | 2713/4112 [04:12<02:33,  9.09it/s]"
          ]
        },
        {
          "output_type": "stream",
          "name": "stdout",
          "text": [
            "Successfully fetched https://www.churchofjesuschrist.org/study/general-conference/1988/10/becoming-a-prepared-people?lang=eng\n",
            "Successfully fetched https://www.churchofjesuschrist.org/study/general-conference/1987/10/yet-thou-art-there?lang=eng\n",
            "Successfully fetched https://www.churchofjesuschrist.org/study/general-conference/1988/10/christlike-communications?lang=eng\n",
            "Successfully fetched https://www.churchofjesuschrist.org/study/general-conference/1987/10/keys-of-the-priesthood?lang=eng\n",
            "Successfully fetched https://www.churchofjesuschrist.org/study/general-conference/1987/10/the-light-and-life-of-the-world?lang=eng\n",
            "Successfully fetched https://www.churchofjesuschrist.org/study/general-conference/1987/10/a-meaningful-celebration?lang=eng\n"
          ]
        },
        {
          "output_type": "stream",
          "name": "stderr",
          "text": [
            "\rScraping talks in parallel:  66%|██████▌   | 2715/4112 [04:13<04:40,  4.98it/s]"
          ]
        },
        {
          "output_type": "stream",
          "name": "stdout",
          "text": [
            "Successfully fetched https://www.churchofjesuschrist.org/study/general-conference/1987/10/our-divine-constitution?lang=eng\n"
          ]
        },
        {
          "output_type": "stream",
          "name": "stderr",
          "text": [
            "Scraping talks in parallel:  66%|██████▌   | 2721/4112 [04:13<03:05,  7.49it/s]"
          ]
        },
        {
          "output_type": "stream",
          "name": "stdout",
          "text": [
            "Successfully fetched https://www.churchofjesuschrist.org/study/general-conference/1987/10/missionary-memories?lang=eng\n",
            "Successfully fetched https://www.churchofjesuschrist.org/study/general-conference/1987/10/come-unto-christ?lang=eng\n"
          ]
        },
        {
          "output_type": "stream",
          "name": "stderr",
          "text": [
            "\rScraping talks in parallel:  66%|██████▋   | 2725/4112 [04:13<02:07, 10.88it/s]"
          ]
        },
        {
          "output_type": "stream",
          "name": "stdout",
          "text": [
            "Successfully fetched https://www.churchofjesuschrist.org/study/general-conference/1987/10/follow-the-brethren?lang=eng\n",
            "Successfully fetched https://www.churchofjesuschrist.org/study/general-conference/1987/10/they-re-not-really-happy?lang=eng\n",
            "Successfully fetched https://www.churchofjesuschrist.org/study/general-conference/1987/10/lessons-from-eve?lang=eng\n",
            "Successfully fetched https://www.churchofjesuschrist.org/study/general-conference/1987/10/lord-increase-our-faith?lang=eng\n",
            "Successfully fetched https://www.churchofjesuschrist.org/study/general-conference/1987/10/selfless-service?lang=eng\n",
            "Successfully fetched https://www.churchofjesuschrist.org/study/general-conference/1987/10/the-opening-and-closing-of-doors?lang=eng\n",
            "Successfully fetched https://www.churchofjesuschrist.org/study/general-conference/1987/10/to-the-fathers-in-israel?lang=eng\n"
          ]
        },
        {
          "output_type": "stream",
          "name": "stderr",
          "text": [
            "\rScraping talks in parallel:  66%|██████▋   | 2727/4112 [04:14<03:24,  6.77it/s]"
          ]
        },
        {
          "output_type": "stream",
          "name": "stdout",
          "text": [
            "Successfully fetched https://www.churchofjesuschrist.org/study/general-conference/1987/10/never-give-up?lang=eng\n",
            "Successfully fetched https://www.churchofjesuschrist.org/study/general-conference/1987/10/opportunities-to-serve?lang=eng\n"
          ]
        },
        {
          "output_type": "stream",
          "name": "stderr",
          "text": [
            "\rScraping talks in parallel:  66%|██████▋   | 2729/4112 [04:15<04:13,  5.45it/s]"
          ]
        },
        {
          "output_type": "stream",
          "name": "stdout",
          "text": [
            "Successfully fetched https://www.churchofjesuschrist.org/study/general-conference/1987/10/strengthening-the-family?lang=eng\n"
          ]
        },
        {
          "output_type": "stream",
          "name": "stderr",
          "text": [
            "\rScraping talks in parallel:  66%|██████▋   | 2731/4112 [04:15<03:40,  6.25it/s]"
          ]
        },
        {
          "output_type": "stream",
          "name": "stdout",
          "text": [
            "Successfully fetched https://www.churchofjesuschrist.org/study/general-conference/1987/10/the-sustaining-of-church-officers?lang=eng\n",
            "Successfully fetched https://www.churchofjesuschrist.org/study/general-conference/1987/10/a-champion-of-youth?lang=eng\n",
            "Successfully fetched https://www.churchofjesuschrist.org/study/general-conference/1987/10/overcoming-challenges-along-lifes-way?lang=eng\n",
            "Successfully fetched https://www.churchofjesuschrist.org/study/general-conference/1987/10/looking-beyond-the-mark?lang=eng\n"
          ]
        },
        {
          "output_type": "stream",
          "name": "stderr",
          "text": [
            "\rScraping talks in parallel:  67%|██████▋   | 2736/4112 [04:15<02:24,  9.52it/s]"
          ]
        },
        {
          "output_type": "stream",
          "name": "stdout",
          "text": [
            "Successfully fetched https://www.churchofjesuschrist.org/study/general-conference/1987/10/finding-joy-in-life?lang=eng\n",
            "Successfully fetched https://www.churchofjesuschrist.org/study/general-conference/1987/10/the-dawning-of-a-new-day-in-africa?lang=eng\n",
            "Successfully fetched https://www.churchofjesuschrist.org/study/general-conference/1987/10/balm-of-gilead?lang=eng\n",
            "Successfully fetched https://www.churchofjesuschrist.org/study/general-conference/1987/10/ethics-and-honesty?lang=eng\n",
            "Successfully fetched https://www.churchofjesuschrist.org/study/general-conference/1987/10/a-doorway-called-love?lang=eng\n",
            "Successfully fetched https://www.churchofjesuschrist.org/study/general-conference/1987/10/in-the-service-of-the-lord?lang=eng\n",
            "Successfully fetched https://www.churchofjesuschrist.org/study/general-conference/1987/10/called-to-serve?lang=eng\n",
            "Successfully fetched https://www.churchofjesuschrist.org/study/general-conference/1987/10/there-are-many-gifts?lang=eng\n",
            "Successfully fetched https://www.churchofjesuschrist.org/study/general-conference/1987/10/the-great-imitator?lang=eng\n",
            "Successfully fetched https://www.churchofjesuschrist.org/study/general-conference/1987/10/sacrifice-and-self-sufficiency?lang=eng\n"
          ]
        },
        {
          "output_type": "stream",
          "name": "stderr",
          "text": [
            "Scraping talks in parallel:  67%|██████▋   | 2748/4112 [04:16<01:28, 15.38it/s]"
          ]
        },
        {
          "output_type": "stream",
          "name": "stdout",
          "text": [
            "Successfully fetched https://www.churchofjesuschrist.org/study/general-conference/1987/10/take-not-the-name-of-god-in-vain?lang=eng\n",
            "Successfully fetched https://www.churchofjesuschrist.org/study/general-conference/1987/10/i-will-go-and-do?lang=eng\n",
            "Successfully fetched https://www.churchofjesuschrist.org/study/general-conference/1987/04/spiritual-security?lang=eng\n",
            "Successfully fetched https://www.churchofjesuschrist.org/study/general-conference/1987/04/reverence-and-morality?lang=eng\n",
            "Successfully fetched https://www.churchofjesuschrist.org/study/general-conference/1987/04/the-book-of-mormons-witness-of-jesus-christ?lang=eng\n",
            "Successfully fetched https://www.churchofjesuschrist.org/study/general-conference/1987/04/by-faith-and-hope-all-things-are-fulfilled?lang=eng\n",
            "Successfully fetched https://www.churchofjesuschrist.org/study/general-conference/1987/04/tears-trials-trust-testimony?lang=eng\n",
            "Successfully fetched https://www.churchofjesuschrist.org/study/general-conference/1987/04/the-book-of-mormon-and-the-doctrine-and-covenants?lang=eng\n",
            "Successfully fetched https://www.churchofjesuschrist.org/study/general-conference/1987/04/overcome-even-as-i-also-overcame?lang=eng\n",
            "Successfully fetched https://www.churchofjesuschrist.org/study/general-conference/1987/04/covenants?lang=eng\n",
            "Successfully fetched https://www.churchofjesuschrist.org/study/general-conference/1987/04/looking-to-the-savior?lang=eng\n",
            "Successfully fetched https://www.churchofjesuschrist.org/study/general-conference/1987/04/saturday-morning-session?lang=eng\n",
            "Successfully fetched https://www.churchofjesuschrist.org/study/general-conference/1987/10/saturday-morning-session?lang=engSuccessfully fetched https://www.churchofjesuschrist.org/study/general-conference/1987/04/the-church-audit-committee-report?lang=eng\n",
            "\n",
            "Successfully fetched https://www.churchofjesuschrist.org/study/general-conference/1987/04/priesthood-blessings?lang=eng\n",
            "Successfully fetched https://www.churchofjesuschrist.org/study/general-conference/1987/04/to-the-home-teachers-of-the-church?lang=eng\n",
            "Successfully fetched https://www.churchofjesuschrist.org/study/general-conference/1987/04/will-i-be-happy?lang=eng\n",
            "Successfully fetched https://www.churchofjesuschrist.org/study/general-conference/1987/04/statistical-report-1986?lang=eng\n"
          ]
        },
        {
          "output_type": "stream",
          "name": "stderr",
          "text": [
            "Scraping talks in parallel:  67%|██████▋   | 2769/4112 [04:17<01:17, 17.23it/s]"
          ]
        },
        {
          "output_type": "stream",
          "name": "stdout",
          "text": [
            "Successfully fetched https://www.churchofjesuschrist.org/study/general-conference/1987/04/i-am-an-adult-now?lang=eng\n",
            "Successfully fetched https://www.churchofjesuschrist.org/study/general-conference/1987/04/no-shortcuts?lang=eng\n",
            "Successfully fetched https://www.churchofjesuschrist.org/study/general-conference/1987/04/my-neighbor-my-brother?lang=eng\n",
            "Successfully fetched https://www.churchofjesuschrist.org/study/general-conference/1987/04/life-after-life?lang=eng\n",
            "Successfully fetched https://www.churchofjesuschrist.org/study/general-conference/1987/04/some-have-compassion-making-a-difference?lang=eng\n",
            "Successfully fetched https://www.churchofjesuschrist.org/study/general-conference/1987/04/united-in-building-the-kingdom-of-god?lang=eng\n",
            "Successfully fetched https://www.churchofjesuschrist.org/study/general-conference/1987/04/the-lengthened-shadow-of-the-hand-of-god?lang=eng\n",
            "Successfully fetched https://www.churchofjesuschrist.org/study/general-conference/1987/04/keeping-lifes-demands-in-balance?lang=eng\n"
          ]
        },
        {
          "output_type": "stream",
          "name": "stderr",
          "text": [
            "\rScraping talks in parallel:  67%|██████▋   | 2773/4112 [04:17<01:19, 16.81it/s]"
          ]
        },
        {
          "output_type": "stream",
          "name": "stdout",
          "text": [
            "Successfully fetched https://www.churchofjesuschrist.org/study/general-conference/1987/04/patience-a-key-to-happiness?lang=eng\n",
            "Successfully fetched https://www.churchofjesuschrist.org/study/general-conference/1987/04/what-it-means-to-be-a-saint?lang=eng\n",
            "Successfully fetched https://www.churchofjesuschrist.org/study/general-conference/1987/04/the-blessings-of-being-unified?lang=eng\n",
            "Successfully fetched https://www.churchofjesuschrist.org/study/general-conference/1987/04/the-saviors-visit-to-america?lang=eng\n",
            "Successfully fetched https://www.churchofjesuschrist.org/study/general-conference/1987/04/am-i-a-living-member?lang=eng\n",
            "Successfully fetched https://www.churchofjesuschrist.org/study/general-conference/1987/04/the-will-within?lang=eng\n",
            "Successfully fetched https://www.churchofjesuschrist.org/study/general-conference/1986/10/happiness-and-joy-in-temple-work?lang=eng\n",
            "Successfully fetched https://www.churchofjesuschrist.org/study/general-conference/1986/10/the-lords-touchstone?lang=eng\n",
            "Successfully fetched https://www.churchofjesuschrist.org/study/general-conference/1986/10/joy-cometh-in-the-morning?lang=eng\n",
            "Successfully fetched https://www.churchofjesuschrist.org/study/general-conference/1986/10/my-son-and-yours-each-a-remarkable-one?lang=eng\n",
            "Successfully fetched https://www.churchofjesuschrist.org/study/general-conference/1986/10/unwanted-messages?lang=eng\n",
            "Successfully fetched https://www.churchofjesuschrist.org/study/general-conference/1986/10/pulling-in-the-gospel-net?lang=eng\n",
            "Successfully fetched https://www.churchofjesuschrist.org/study/general-conference/1986/10/i-will-look-unto-the-lord?lang=eng\n",
            "Successfully fetched https://www.churchofjesuschrist.org/study/general-conference/1986/10/the-spark-of-faith?lang=eng\n",
            "Successfully fetched https://www.churchofjesuschrist.org/study/general-conference/1986/10/saturday-morning-session?lang=eng\n",
            "Successfully fetched https://www.churchofjesuschrist.org/study/general-conference/1986/10/a-time-for-hope?lang=eng\n",
            "Successfully fetched https://www.churchofjesuschrist.org/study/general-conference/1986/10/missionary-work-is-the-lifeblood-of-the-church?lang=eng\n",
            "Successfully fetched https://www.churchofjesuschrist.org/study/general-conference/1986/10/the-war-we-are-winning?lang=eng\n",
            "Successfully fetched https://www.churchofjesuschrist.org/study/general-conference/1986/10/the-light-of-hope?lang=eng\n",
            "Successfully fetched https://www.churchofjesuschrist.org/study/general-conference/1986/10/godly-characteristics-of-the-master?lang=eng\n",
            "Successfully fetched https://www.churchofjesuschrist.org/study/general-conference/1986/10/to-the-young-women-of-the-church?lang=eng\n",
            "Successfully fetched https://www.churchofjesuschrist.org/study/general-conference/1986/10/presidents-of-the-church?lang=eng\n",
            "Successfully fetched https://www.churchofjesuschrist.org/study/general-conference/1986/10/a-father-speaks?lang=eng\n",
            "Successfully fetched https://www.churchofjesuschrist.org/study/general-conference/1986/10/come-back-to-the-lord?lang=eng\n",
            "Successfully fetched https://www.churchofjesuschrist.org/study/general-conference/1986/10/your-patriarchal-blessing-a-liahona-of-light?lang=eng\n",
            "Successfully fetched https://www.churchofjesuschrist.org/study/general-conference/1986/10/we-proclaim-the-gospel?lang=eng\n",
            "Successfully fetched https://www.churchofjesuschrist.org/study/general-conference/1986/10/brothers-keeper?lang=eng\n",
            "Successfully fetched https://www.churchofjesuschrist.org/study/general-conference/1986/10/spiritual-crevasses?lang=eng\n",
            "Successfully fetched https://www.churchofjesuschrist.org/study/general-conference/1986/10/shake-off-the-chains-with-which-ye-are-bound?lang=eng\n",
            "Successfully fetched https://www.churchofjesuschrist.org/study/general-conference/1986/10/the-father-son-and-holy-ghost?lang=eng\n",
            "Successfully fetched https://www.churchofjesuschrist.org/study/general-conference/1986/10/touching-the-hearts-of-less-active-members?lang=eng\n",
            "Successfully fetched https://www.churchofjesuschrist.org/study/general-conference/1986/10/the-book-of-mormon-keystone-of-our-religion?lang=eng\n",
            "Successfully fetched https://www.churchofjesuschrist.org/study/general-conference/1986/10/god-will-yet-reveal?lang=eng\n",
            "Successfully fetched https://www.churchofjesuschrist.org/study/general-conference/1986/04/the-greatest-news-of-all-times-is-that-jesus-lives?lang=eng\n",
            "Successfully fetched https://www.churchofjesuschrist.org/study/general-conference/1986/10/little-children?lang=eng\n",
            "Successfully fetched https://www.churchofjesuschrist.org/study/general-conference/1986/10/the-joy-of-honest-labor?lang=eng\n",
            "Successfully fetched https://www.churchofjesuschrist.org/study/general-conference/1986/10/developing-faith?lang=eng\n",
            "Successfully fetched https://www.churchofjesuschrist.org/study/general-conference/1986/04/a-prophet-chosen-of-the-lord?lang=eng\n",
            "Successfully fetched https://www.churchofjesuschrist.org/study/general-conference/1986/10/the-sustaining-of-church-officers?lang=eng\n",
            "Successfully fetched https://www.churchofjesuschrist.org/study/general-conference/1986/04/the-law-of-the-fast?lang=eng\n",
            "Successfully fetched https://www.churchofjesuschrist.org/study/general-conference/1986/04/they-taught-and-did-minister-one-to-another?lang=eng\n",
            "Successfully fetched https://www.churchofjesuschrist.org/study/general-conference/1986/04/the-church-audit-committee-report?lang=eng\n",
            "Successfully fetched https://www.churchofjesuschrist.org/study/general-conference/1986/04/happiness?lang=eng\n",
            "Successfully fetched https://www.churchofjesuschrist.org/study/general-conference/1986/04/the-call-of-duty?lang=eng\n",
            "Successfully fetched https://www.churchofjesuschrist.org/study/general-conference/1986/10/hope-in-christ?lang=eng\n",
            "Successfully fetched https://www.churchofjesuschrist.org/study/general-conference/1986/10/courage-counts?lang=eng\n",
            "Successfully fetched https://www.churchofjesuschrist.org/study/general-conference/1986/04/the-power-of-the-word?lang=eng\n",
            "Successfully fetched https://www.churchofjesuschrist.org/study/general-conference/1986/10/the-gift-of-modern-revelation?lang=eng\n",
            "Successfully fetched https://www.churchofjesuschrist.org/study/general-conference/1986/04/welfare-principles-to-guide-our-lives-an-eternal-plan-for-the-welfare-of-mens-souls?lang=eng\n"
          ]
        },
        {
          "output_type": "stream",
          "name": "stderr",
          "text": [
            "\rScraping talks in parallel:  68%|██████▊   | 2777/4112 [04:22<06:27,  3.45it/s]"
          ]
        },
        {
          "output_type": "stream",
          "name": "stdout",
          "text": [
            "Successfully fetched https://www.churchofjesuschrist.org/study/general-conference/1986/04/reverent-and-clean?lang=eng\n",
            "Successfully fetched https://www.churchofjesuschrist.org/study/general-conference/1986/04/principles-and-programs?lang=eng\n",
            "Successfully fetched https://www.churchofjesuschrist.org/study/general-conference/1987/04/the-sustaining-of-church-officers?lang=eng\n",
            "Successfully fetched https://www.churchofjesuschrist.org/study/general-conference/1986/04/to-the-youth-of-the-noble-birthright?lang=eng\n"
          ]
        },
        {
          "output_type": "stream",
          "name": "stderr",
          "text": [
            "\rScraping talks in parallel:  69%|██████▊   | 2824/4112 [04:23<01:34, 13.56it/s]"
          ]
        },
        {
          "output_type": "stream",
          "name": "stdout",
          "text": [
            "Successfully fetched https://www.churchofjesuschrist.org/study/general-conference/1986/04/an-apostles-witness-of-the-resurrection?lang=eng\n",
            "Successfully fetched https://www.churchofjesuschrist.org/study/general-conference/1986/04/the-question-of-a-mission?lang=eng\n",
            "Successfully fetched https://www.churchofjesuschrist.org/study/general-conference/1986/04/saturday-morning-session?lang=eng\n",
            "Successfully fetched https://www.churchofjesuschrist.org/study/general-conference/1986/04/statistical-report-1985?lang=eng\n",
            "Successfully fetched https://www.churchofjesuschrist.org/study/general-conference/1986/04/we-love-you-please-come-back?lang=eng\n",
            "Successfully fetched https://www.churchofjesuschrist.org/study/general-conference/1986/04/in-the-lords-own-way?lang=eng\n",
            "Successfully fetched https://www.churchofjesuschrist.org/study/general-conference/1986/04/a-sacred-responsibility?lang=eng\n",
            "Successfully fetched https://www.churchofjesuschrist.org/study/general-conference/1986/04/sixteen-years-as-a-witness?lang=eng\n",
            "Successfully fetched https://www.churchofjesuschrist.org/study/general-conference/1986/04/be-of-good-cheer?lang=eng\n",
            "Successfully fetched https://www.churchofjesuschrist.org/study/general-conference/1986/04/come-and-partake?lang=eng\n",
            "Successfully fetched https://www.churchofjesuschrist.org/study/general-conference/1986/04/the-kingdom-rolls-forth-in-south-america?lang=eng\n",
            "Successfully fetched https://www.churchofjesuschrist.org/study/general-conference/1986/04/the-things-of-my-soul?lang=eng\n"
          ]
        },
        {
          "output_type": "stream",
          "name": "stderr",
          "text": [
            "\rScraping talks in parallel:  69%|██████▉   | 2830/4112 [04:24<01:47, 11.88it/s]"
          ]
        },
        {
          "output_type": "stream",
          "name": "stdout",
          "text": [
            "Successfully fetched https://www.churchofjesuschrist.org/study/general-conference/1986/04/a-provident-plan-a-precious-promise?lang=eng\n",
            "Successfully fetched https://www.churchofjesuschrist.org/study/general-conference/1986/04/called-and-prepared-from-the-foundation-of-the-world?lang=engSuccessfully fetched https://www.churchofjesuschrist.org/study/general-conference/1986/04/the-responsibility-for-welfare-rests-with-me-and-my-family?lang=eng\n",
            "Successfully fetched https://www.churchofjesuschrist.org/study/general-conference/1985/10/self-mastery?lang=eng\n",
            "\n",
            "Successfully fetched https://www.churchofjesuschrist.org/study/general-conference/1985/10/the-sustaining-of-church-officers?lang=eng\n"
          ]
        },
        {
          "output_type": "stream",
          "name": "stderr",
          "text": [
            "\rScraping talks in parallel:  69%|██████▉   | 2834/4112 [04:24<01:42, 12.48it/s]"
          ]
        },
        {
          "output_type": "stream",
          "name": "stdout",
          "text": [
            "Successfully fetched https://www.churchofjesuschrist.org/study/general-conference/1985/10/let-mercy-temper-justice?lang=eng\n",
            "Successfully fetched https://www.churchofjesuschrist.org/study/general-conference/1986/04/cleansing-the-inner-vessel?lang=eng\n",
            "Successfully fetched https://www.churchofjesuschrist.org/study/general-conference/1985/10/peace-a-triumph-of-principles?lang=eng\n",
            "Successfully fetched https://www.churchofjesuschrist.org/study/general-conference/1985/10/spirituality?lang=eng\n",
            "Successfully fetched https://www.churchofjesuschrist.org/study/general-conference/1985/10/joined-together-in-love-and-faith?lang=eng\n",
            "Successfully fetched https://www.churchofjesuschrist.org/study/general-conference/1985/10/the-gospel-of-love?lang=eng\n",
            "Successfully fetched https://www.churchofjesuschrist.org/study/general-conference/1985/10/the-only-true-church?lang=eng\n",
            "Successfully fetched https://www.churchofjesuschrist.org/study/general-conference/1986/04/solemn-assembly-and-sustaining-of-church-officers?lang=eng\n"
          ]
        },
        {
          "output_type": "stream",
          "name": "stderr",
          "text": [
            "\rScraping talks in parallel:  69%|██████▉   | 2842/4112 [04:25<01:46, 11.91it/s]"
          ]
        },
        {
          "output_type": "stream",
          "name": "stdout",
          "text": [
            "Successfully fetched https://www.churchofjesuschrist.org/study/general-conference/1985/10/premortality-a-glorious-reality?lang=eng\n",
            "Successfully fetched https://www.churchofjesuschrist.org/study/general-conference/1985/10/let-us-move-this-work-forward?lang=eng\n",
            "Successfully fetched https://www.churchofjesuschrist.org/study/general-conference/1985/10/the-holy-scriptures-letters-from-home?lang=eng\n",
            "Successfully fetched https://www.churchofjesuschrist.org/study/general-conference/1985/10/the-gospel-lifeline?lang=eng\n"
          ]
        },
        {
          "output_type": "stream",
          "name": "stderr",
          "text": [
            "\rScraping talks in parallel:  69%|██████▉   | 2850/4112 [04:25<01:26, 14.64it/s]"
          ]
        },
        {
          "output_type": "stream",
          "name": "stdout",
          "text": [
            "Successfully fetched https://www.churchofjesuschrist.org/study/general-conference/1985/10/draw-near-to-him-in-prayer?lang=eng\n",
            "Successfully fetched https://www.churchofjesuschrist.org/study/general-conference/1985/10/fast-day?lang=eng\n"
          ]
        },
        {
          "output_type": "stream",
          "name": "stderr",
          "text": [
            "\rScraping talks in parallel:  69%|██████▉   | 2856/4112 [04:25<01:24, 14.85it/s]"
          ]
        },
        {
          "output_type": "stream",
          "name": "stdout",
          "text": [
            "Successfully fetched https://www.churchofjesuschrist.org/study/general-conference/1985/10/draw-near-unto-me-through-obedience?lang=eng\n",
            "Successfully fetched https://www.churchofjesuschrist.org/study/general-conference/1985/10/by-their-fruits-ye-shall-know-them?lang=eng\n",
            "Successfully fetched https://www.churchofjesuschrist.org/study/general-conference/1985/10/born-of-god?lang=eng\n",
            "Successfully fetched https://www.churchofjesuschrist.org/study/general-conference/1985/10/those-who-love-jesus?lang=eng\n",
            "Successfully fetched https://www.churchofjesuschrist.org/study/general-conference/1985/10/the-gospel?lang=eng\n"
          ]
        },
        {
          "output_type": "stream",
          "name": "stderr",
          "text": [
            "\rScraping talks in parallel:  70%|██████▉   | 2860/4112 [04:26<01:30, 13.86it/s]"
          ]
        },
        {
          "output_type": "stream",
          "name": "stdout",
          "text": [
            "Successfully fetched https://www.churchofjesuschrist.org/study/general-conference/1985/10/adventures-of-the-spirit?lang=eng\n",
            "Successfully fetched https://www.churchofjesuschrist.org/study/general-conference/1985/10/lessons-from-the-atonement-that-help-us-to-endure-to-the-end?lang=eng\n",
            "Successfully fetched https://www.churchofjesuschrist.org/study/general-conference/1985/10/can-there-any-good-thing-come-out-of-nazareth?lang=eng\n",
            "Successfully fetched https://www.churchofjesuschrist.org/study/general-conference/1985/10/draw-near-unto-me?lang=eng\n"
          ]
        },
        {
          "output_type": "stream",
          "name": "stderr",
          "text": [
            "\rScraping talks in parallel:  70%|██████▉   | 2863/4112 [04:26<01:52, 11.10it/s]"
          ]
        },
        {
          "output_type": "stream",
          "name": "stdout",
          "text": [
            "Successfully fetched https://www.churchofjesuschrist.org/study/general-conference/1985/10/rejoice-in-this-great-era-of-temple-building?lang=eng\n"
          ]
        },
        {
          "output_type": "stream",
          "name": "stderr",
          "text": [
            "\rScraping talks in parallel:  70%|██████▉   | 2867/4112 [04:26<01:34, 13.16it/s]"
          ]
        },
        {
          "output_type": "stream",
          "name": "stdout",
          "text": [
            "Successfully fetched https://www.churchofjesuschrist.org/study/general-conference/1985/10/ten-gifts-from-the-lord?lang=eng\n",
            "Successfully fetched https://www.churchofjesuschrist.org/study/general-conference/1985/10/in-response-to-the-call?lang=eng\n",
            "Successfully fetched https://www.churchofjesuschrist.org/study/general-conference/1985/10/joseph-smith-the-chosen-instrument?lang=eng\n",
            "Successfully fetched https://www.churchofjesuschrist.org/study/general-conference/1985/10/i-confer-the-priesthood-of-aaron?lang=eng\n",
            "Successfully fetched https://www.churchofjesuschrist.org/study/general-conference/1985/10/saturday-morning-session?lang=eng\n",
            "Successfully fetched https://www.churchofjesuschrist.org/study/general-conference/1985/10/worthy-fathers-worthy-sons?lang=eng\n",
            "Successfully fetched https://www.churchofjesuschrist.org/study/general-conference/1985/10/as-i-have-loved-you?lang=eng\n",
            "Successfully fetched https://www.churchofjesuschrist.org/study/general-conference/1985/10/whats-the-difference?lang=eng\n",
            "Successfully fetched https://www.churchofjesuschrist.org/study/general-conference/1985/10/questions-and-answers?lang=eng\n",
            "Successfully fetched https://www.churchofjesuschrist.org/study/general-conference/1985/10/the-heavens-declare-the-glory-of-god?lang=eng\n",
            "Successfully fetched https://www.churchofjesuschrist.org/study/general-conference/1985/10/the-oath-and-covenant-of-the-priesthood?lang=eng\n",
            "Successfully fetched https://www.churchofjesuschrist.org/study/general-conference/1985/10/the-abundant-life?lang=eng\n"
          ]
        },
        {
          "output_type": "stream",
          "name": "stderr",
          "text": [
            "Scraping talks in parallel:  70%|███████   | 2881/4112 [04:28<01:41, 12.09it/s]"
          ]
        },
        {
          "output_type": "stream",
          "name": "stdout",
          "text": [
            "Successfully fetched https://www.churchofjesuschrist.org/study/general-conference/1985/04/set-some-personal-goals?lang=eng\n",
            "Successfully fetched https://www.churchofjesuschrist.org/study/general-conference/1985/04/from-such-turn-away?lang=eng\n",
            "Successfully fetched https://www.churchofjesuschrist.org/study/general-conference/1985/04/our-responsibility-to-share-the-gospel?lang=eng\n",
            "Successfully fetched https://www.churchofjesuschrist.org/study/general-conference/1985/04/to-please-our-heavenly-father?lang=eng\n"
          ]
        },
        {
          "output_type": "stream",
          "name": "stderr",
          "text": [
            "\rScraping talks in parallel:  70%|███████   | 2886/4112 [04:28<01:36, 12.69it/s]"
          ]
        },
        {
          "output_type": "stream",
          "name": "stdout",
          "text": [
            "Successfully fetched https://www.churchofjesuschrist.org/study/general-conference/1985/04/christ-our-passover?lang=eng\n",
            "Successfully fetched https://www.churchofjesuschrist.org/study/general-conference/1985/04/born-of-goodly-parents?lang=eng\n",
            "Successfully fetched https://www.churchofjesuschrist.org/study/general-conference/1985/04/the-church-audit-committee-report?lang=eng\n",
            "Successfully fetched https://www.churchofjesuschrist.org/study/general-conference/1985/04/selflessness-a-pattern-for-happiness?lang=eng\n"
          ]
        },
        {
          "output_type": "stream",
          "name": "stderr",
          "text": [
            "\rScraping talks in parallel:  70%|███████   | 2890/4112 [04:29<01:35, 12.80it/s]"
          ]
        },
        {
          "output_type": "stream",
          "name": "stdout",
          "text": [
            "Successfully fetched https://www.churchofjesuschrist.org/study/general-conference/1985/04/agency-and-accountability?lang=eng\n",
            "Successfully fetched https://www.churchofjesuschrist.org/study/general-conference/1985/04/god-has-a-work-for-us-to-do?lang=eng\n",
            "Successfully fetched https://www.churchofjesuschrist.org/study/general-conference/1985/04/he-is-in-charge?lang=eng\n",
            "Successfully fetched https://www.churchofjesuschrist.org/study/general-conference/1985/04/the-spirit-of-the-gathering?lang=eng\n",
            "Successfully fetched https://www.churchofjesuschrist.org/study/general-conference/1985/04/willing-to-submit?lang=eng\n",
            "Successfully fetched https://www.churchofjesuschrist.org/study/general-conference/1985/04/preparing-yourselves-for-missionary-service?lang=eng\n"
          ]
        },
        {
          "output_type": "stream",
          "name": "stderr",
          "text": [
            "\rScraping talks in parallel:  70%|███████   | 2893/4112 [04:29<01:37, 12.52it/s]"
          ]
        },
        {
          "output_type": "stream",
          "name": "stdout",
          "text": [
            "Successfully fetched https://www.churchofjesuschrist.org/study/general-conference/1985/04/the-sustaining-of-church-officers?lang=eng\n",
            "Successfully fetched https://www.churchofjesuschrist.org/study/general-conference/1985/04/the-victory-over-death?lang=eng\n",
            "Successfully fetched https://www.churchofjesuschrist.org/study/general-conference/1985/04/confidence-in-the-lord?lang=eng\n"
          ]
        },
        {
          "output_type": "stream",
          "name": "stderr",
          "text": [
            "\rScraping talks in parallel:  70%|███████   | 2898/4112 [04:29<01:17, 15.62it/s]"
          ]
        },
        {
          "output_type": "stream",
          "name": "stdout",
          "text": [
            "Successfully fetched https://www.churchofjesuschrist.org/study/general-conference/1985/04/the-resurrected-christ?lang=eng\n",
            "Successfully fetched https://www.churchofjesuschrist.org/study/general-conference/1985/04/prepare-to-serve?lang=eng\n",
            "Successfully fetched https://www.churchofjesuschrist.org/study/general-conference/1985/04/look-for-the-beautiful?lang=eng\n",
            "Successfully fetched https://www.churchofjesuschrist.org/study/general-conference/1985/04/spencer-w-kimball-a-true-disciple-of-christ?lang=eng\n",
            "Successfully fetched https://www.churchofjesuschrist.org/study/general-conference/1985/04/hold-up-your-light?lang=eng\n",
            "Successfully fetched https://www.churchofjesuschrist.org/study/general-conference/1985/04/statistical-report-1984?lang=eng\n",
            "Successfully fetched https://www.churchofjesuschrist.org/study/general-conference/1985/04/the-invitation-of-the-master?lang=eng\n"
          ]
        },
        {
          "output_type": "stream",
          "name": "stderr",
          "text": [
            "\rScraping talks in parallel:  71%|███████   | 2901/4112 [04:30<02:00, 10.06it/s]"
          ]
        },
        {
          "output_type": "stream",
          "name": "stdout",
          "text": [
            "Successfully fetched https://www.churchofjesuschrist.org/study/general-conference/1985/04/the-answers-will-come?lang=eng\n",
            "Successfully fetched https://www.churchofjesuschrist.org/study/general-conference/1985/04/the-spirit-giveth-life?lang=eng\n",
            "Successfully fetched https://www.churchofjesuschrist.org/study/general-conference/1985/04/the-resurrection?lang=eng\n",
            "Successfully fetched https://www.churchofjesuschrist.org/study/general-conference/1985/04/this-is-the-work-of-the-lord?lang=eng\n"
          ]
        },
        {
          "output_type": "stream",
          "name": "stderr",
          "text": [
            "\rScraping talks in parallel:  71%|███████   | 2904/4112 [04:30<02:05,  9.59it/s]"
          ]
        },
        {
          "output_type": "stream",
          "name": "stdout",
          "text": [
            "Successfully fetched https://www.churchofjesuschrist.org/study/general-conference/1985/04/ears-to-hear?lang=eng\n",
            "Successfully fetched https://www.churchofjesuschrist.org/study/general-conference/1985/04/the-joy-of-service?lang=eng\n",
            "Successfully fetched https://www.churchofjesuschrist.org/study/general-conference/1985/04/pursuing-excellence?lang=eng\n",
            "Successfully fetched https://www.churchofjesuschrist.org/study/general-conference/1985/04/the-purifying-power-of-gethsemane?lang=eng\n",
            "Successfully fetched https://www.churchofjesuschrist.org/study/general-conference/1985/04/reverence-for-life?lang=eng\n",
            "Successfully fetched https://www.churchofjesuschrist.org/study/general-conference/1985/04/taking-upon-us-the-name-of-jesus-christ?lang=eng\n",
            "Successfully fetched https://www.churchofjesuschrist.org/study/general-conference/1984/10/the-power-of-keeping-the-sabbath-day-holy?lang=eng\n",
            "Successfully fetched https://www.churchofjesuschrist.org/study/general-conference/1985/04/the-mantle-of-a-bishop?lang=eng\n",
            "Successfully fetched https://www.churchofjesuschrist.org/study/general-conference/1984/10/when-i-was-called-as-a-scoutmaster?lang=eng\n",
            "Successfully fetched https://www.churchofjesuschrist.org/study/general-conference/1984/10/he-returned-speedily?lang=eng\n"
          ]
        },
        {
          "output_type": "stream",
          "name": "stderr",
          "text": [
            "\rScraping talks in parallel:  71%|███████   | 2914/4112 [04:31<01:44, 11.51it/s]"
          ]
        },
        {
          "output_type": "stream",
          "name": "stdout",
          "text": [
            "Successfully fetched https://www.churchofjesuschrist.org/study/general-conference/1984/10/striving-together-transforming-our-beliefs-into-action?lang=eng\n",
            "Successfully fetched https://www.churchofjesuschrist.org/study/general-conference/1985/04/saturday-morning-session?lang=eng\n",
            "Successfully fetched https://www.churchofjesuschrist.org/study/general-conference/1984/10/personal-morality?lang=eng\n",
            "Successfully fetched https://www.churchofjesuschrist.org/study/general-conference/1984/10/the-good-and-faithful-servants?lang=eng\n",
            "Successfully fetched https://www.churchofjesuschrist.org/study/general-conference/1984/10/saturday-morning-session?lang=eng\n"
          ]
        },
        {
          "output_type": "stream",
          "name": "stderr",
          "text": [
            "\rScraping talks in parallel:  71%|███████   | 2920/4112 [04:31<01:20, 14.76it/s]"
          ]
        },
        {
          "output_type": "stream",
          "name": "stdout",
          "text": [
            "Successfully fetched https://www.churchofjesuschrist.org/study/general-conference/1984/10/the-works-of-god?lang=eng\n",
            "Successfully fetched https://www.churchofjesuschrist.org/study/general-conference/1984/10/out-of-obscurity?lang=eng\n",
            "Successfully fetched https://www.churchofjesuschrist.org/study/general-conference/1984/10/protect-the-spiritual-power-line?lang=eng\n",
            "Successfully fetched https://www.churchofjesuschrist.org/study/general-conference/1984/10/learning-our-fathers-will?lang=eng\n"
          ]
        },
        {
          "output_type": "stream",
          "name": "stderr",
          "text": [
            "Scraping talks in parallel:  71%|███████   | 2925/4112 [04:31<01:29, 13.24it/s]"
          ]
        },
        {
          "output_type": "stream",
          "name": "stdout",
          "text": [
            "Successfully fetched https://www.churchofjesuschrist.org/study/general-conference/1984/10/why-do-we-serve?lang=eng\n",
            "Successfully fetched https://www.churchofjesuschrist.org/study/general-conference/1984/10/the-caravan-moves-on?lang=eng\n",
            "Successfully fetched https://www.churchofjesuschrist.org/study/general-conference/1984/10/the-joy-of-the-penetrating-light?lang=eng\n",
            "Successfully fetched https://www.churchofjesuschrist.org/study/general-conference/1984/10/eternal-marriage?lang=eng\n",
            "Successfully fetched https://www.churchofjesuschrist.org/study/general-conference/1984/10/master-the-tempest-is-raging?lang=eng\n"
          ]
        },
        {
          "output_type": "stream",
          "name": "stderr",
          "text": [
            "\rScraping talks in parallel:  71%|███████▏  | 2930/4112 [04:32<01:21, 14.59it/s]"
          ]
        },
        {
          "output_type": "stream",
          "name": "stdout",
          "text": [
            "Successfully fetched https://www.churchofjesuschrist.org/study/general-conference/1984/10/the-banner-of-the-lord?lang=eng\n",
            "Successfully fetched https://www.churchofjesuschrist.org/study/general-conference/1984/10/the-pattern-of-our-parentage?lang=eng\n",
            "Successfully fetched https://www.churchofjesuschrist.org/study/general-conference/1984/10/by-their-fruits-ye-shall-know-them?lang=eng\n"
          ]
        },
        {
          "output_type": "stream",
          "name": "stderr",
          "text": [
            "\rScraping talks in parallel:  71%|███████▏  | 2932/4112 [04:32<02:14,  8.78it/s]"
          ]
        },
        {
          "output_type": "stream",
          "name": "stdout",
          "text": [
            "Successfully fetched https://www.churchofjesuschrist.org/study/general-conference/1984/10/the-joy-of-service?lang=eng\n",
            "Successfully fetched https://www.churchofjesuschrist.org/study/general-conference/1984/10/young-women-striving-together?lang=eng\n",
            "Successfully fetched https://www.churchofjesuschrist.org/study/general-conference/1984/10/the-aaronic-priesthood-pathway?lang=eng"
          ]
        },
        {
          "output_type": "stream",
          "name": "stderr",
          "text": [
            "\rScraping talks in parallel:  71%|███████▏  | 2934/4112 [04:32<02:14,  8.78it/s]"
          ]
        },
        {
          "output_type": "stream",
          "name": "stdout",
          "text": [
            "\n",
            "Successfully fetched https://www.churchofjesuschrist.org/study/general-conference/1984/10/spiritual-power?lang=eng\n",
            "Successfully fetched https://www.churchofjesuschrist.org/study/general-conference/1984/10/the-cornerstones-of-our-faith?lang=eng\n"
          ]
        },
        {
          "output_type": "stream",
          "name": "stderr",
          "text": [
            "\rScraping talks in parallel:  72%|███████▏  | 2942/4112 [04:33<01:16, 15.26it/s]"
          ]
        },
        {
          "output_type": "stream",
          "name": "stdout",
          "text": [
            "Successfully fetched https://www.churchofjesuschrist.org/study/general-conference/1984/10/live-the-gospel?lang=eng\n",
            "Successfully fetched https://www.churchofjesuschrist.org/study/general-conference/1984/10/prepare-for-a-mission?lang=eng\n",
            "Successfully fetched https://www.churchofjesuschrist.org/study/general-conference/1984/10/coordination-and-cooperation?lang=eng\n",
            "Successfully fetched https://www.churchofjesuschrist.org/study/general-conference/1984/10/if-thou-endure-it-well?lang=eng\n",
            "Successfully fetched https://www.churchofjesuschrist.org/study/general-conference/1984/10/a-new-witness-for-christ?lang=eng"
          ]
        },
        {
          "output_type": "stream",
          "name": "stderr",
          "text": [
            "\rScraping talks in parallel:  72%|███████▏  | 2945/4112 [04:33<01:27, 13.31it/s]"
          ]
        },
        {
          "output_type": "stream",
          "name": "stdout",
          "text": [
            "\n",
            "Successfully fetched https://www.churchofjesuschrist.org/study/general-conference/1984/10/the-faith-of-our-people?lang=eng\n",
            "Successfully fetched https://www.churchofjesuschrist.org/study/general-conference/1984/10/if-thou-art-faithful?lang=eng\n",
            "Successfully fetched https://www.churchofjesuschrist.org/study/general-conference/1984/10/service-in-the-church?lang=eng\n",
            "Successfully fetched https://www.churchofjesuschrist.org/study/general-conference/1984/10/keeping-the-covenants-we-make-at-baptism?lang=eng\n",
            "Successfully fetched https://www.churchofjesuschrist.org/study/general-conference/1984/04/whos-on-the-lords-team?lang=eng\n",
            "Successfully fetched https://www.churchofjesuschrist.org/study/general-conference/1984/04/coming-through-the-mists?lang=eng\n",
            "Successfully fetched https://www.churchofjesuschrist.org/study/general-conference/1984/10/the-sustaining-of-church-officers?lang=eng\n",
            "Successfully fetched https://www.churchofjesuschrist.org/study/general-conference/1984/04/small-acts-lead-to-great-consequences?lang=eng\n",
            "Successfully fetched https://www.churchofjesuschrist.org/study/general-conference/1984/10/and-why-call-ye-me-lord-lord-and-do-not-the-things-which-i-say?lang=eng\n",
            "Successfully fetched https://www.churchofjesuschrist.org/study/general-conference/1984/04/a-generation-prepared-to-make-wise-choices?lang=eng\n",
            "Successfully fetched https://www.churchofjesuschrist.org/study/general-conference/1984/04/choose-the-good-part?lang=eng\n",
            "Successfully fetched https://www.churchofjesuschrist.org/study/general-conference/1984/04/go-ye-therefore-and-teach-all-nations?lang=eng\n",
            "Successfully fetched https://www.churchofjesuschrist.org/study/general-conference/1984/04/marriage-and-divorce?lang=eng\n",
            "Successfully fetched https://www.churchofjesuschrist.org/study/general-conference/1984/04/i-love-the-sisters-of-the-church?lang=eng\n",
            "Successfully fetched https://www.churchofjesuschrist.org/study/general-conference/1984/04/covenants-ordinances-and-service?lang=eng\n",
            "Successfully fetched https://www.churchofjesuschrist.org/study/general-conference/1984/04/statistical-report-1983?lang=eng\n",
            "Successfully fetched https://www.churchofjesuschrist.org/study/general-conference/1984/04/the-pharisee-and-the-publican?lang=eng\n",
            "Successfully fetched https://www.churchofjesuschrist.org/study/general-conference/1984/04/saturday-morning-session?lang=eng\n",
            "Successfully fetched https://www.churchofjesuschrist.org/study/general-conference/1984/04/restoring-the-lost-sheep?lang=eng\n",
            "Successfully fetched https://www.churchofjesuschrist.org/study/general-conference/1984/04/special-witnesses-for-christ?lang=eng\n",
            "Successfully fetched https://www.churchofjesuschrist.org/study/general-conference/1984/04/the-church-audit-committee-report?lang=eng\n",
            "Successfully fetched https://www.churchofjesuschrist.org/study/general-conference/1984/04/the-simplicity-of-gospel-truths?lang=eng\n",
            "Successfully fetched https://www.churchofjesuschrist.org/study/general-conference/1984/04/counsel-to-the-saints?lang=eng\n",
            "Successfully fetched https://www.churchofjesuschrist.org/study/general-conference/1984/04/upheld-by-the-prayers-of-the-church?lang=eng\n",
            "Successfully fetched https://www.churchofjesuschrist.org/study/general-conference/1984/04/call-to-the-holy-apostleship?lang=eng\n",
            "Successfully fetched https://www.churchofjesuschrist.org/study/general-conference/1984/04/the-miracle-made-possible-by-faith?lang=eng\n",
            "Successfully fetched https://www.churchofjesuschrist.org/study/general-conference/1984/04/building-your-eternal-home?lang=eng\n",
            "Successfully fetched https://www.churchofjesuschrist.org/study/general-conference/1984/10/write-down-a-date?lang=eng\n"
          ]
        },
        {
          "output_type": "stream",
          "name": "stderr",
          "text": [
            "\rScraping talks in parallel:  72%|███████▏  | 2947/4112 [04:35<04:56,  3.93it/s]"
          ]
        },
        {
          "output_type": "stream",
          "name": "stdout",
          "text": [
            "Successfully fetched https://www.churchofjesuschrist.org/study/general-conference/1984/04/jesus-the-christ-the-words-and-their-meaning?lang=eng\n",
            "Successfully fetched https://www.churchofjesuschrist.org/study/general-conference/1984/04/youth-of-the-noble-birthright?lang=eng\n",
            "Successfully fetched https://www.churchofjesuschrist.org/study/general-conference/1984/10/the-gospel-and-the-church?lang=eng\n",
            "Successfully fetched https://www.churchofjesuschrist.org/study/general-conference/1984/04/home-and-family-a-divine-eternal-pattern?lang=eng\n"
          ]
        },
        {
          "output_type": "stream",
          "name": "stderr",
          "text": [
            "\rScraping talks in parallel:  72%|███████▏  | 2953/4112 [04:35<03:09,  6.12it/s]"
          ]
        },
        {
          "output_type": "stream",
          "name": "stdout",
          "text": [
            "Successfully fetched https://www.churchofjesuschrist.org/study/general-conference/1984/04/count-your-blessings?lang=eng\n",
            "Successfully fetched https://www.churchofjesuschrist.org/study/general-conference/1984/04/the-practice-of-truth?lang=eng\n",
            "Successfully fetched https://www.churchofjesuschrist.org/study/general-conference/1984/04/missions-only-you-can-decide?lang=eng\n",
            "Successfully fetched https://www.churchofjesuschrist.org/study/general-conference/1984/04/feed-my-sheep?lang=eng\n"
          ]
        },
        {
          "output_type": "stream",
          "name": "stderr",
          "text": [
            "\rScraping talks in parallel:  72%|███████▏  | 2978/4112 [04:36<01:02, 18.08it/s]"
          ]
        },
        {
          "output_type": "stream",
          "name": "stdout",
          "text": [
            "Successfully fetched https://www.churchofjesuschrist.org/study/general-conference/1984/04/the-great-plan-of-the-eternal-god?lang=eng\n",
            "Successfully fetched https://www.churchofjesuschrist.org/study/general-conference/1984/04/patterns-of-prayer?lang=eng\n",
            "Successfully fetched https://www.churchofjesuschrist.org/study/general-conference/1984/04/our-commission-to-take-the-gospel-to-all-the-world?lang=eng\n"
          ]
        },
        {
          "output_type": "stream",
          "name": "stderr",
          "text": [
            "\rScraping talks in parallel:  73%|███████▎  | 2984/4112 [04:36<00:57, 19.66it/s]"
          ]
        },
        {
          "output_type": "stream",
          "name": "stdout",
          "text": [
            "Successfully fetched https://www.churchofjesuschrist.org/study/general-conference/1984/04/the-sure-sound-of-the-trumpet?lang=eng\n",
            "Successfully fetched https://www.churchofjesuschrist.org/study/general-conference/1984/04/warmed-by-the-fires-of-their-lives?lang=eng\n",
            "Successfully fetched https://www.churchofjesuschrist.org/study/general-conference/1983/10/honour-thy-father-and-thy-mother?lang=eng\n",
            "Successfully fetched https://www.churchofjesuschrist.org/study/general-conference/1983/10/god-grant-us-faith?lang=eng\n",
            "Successfully fetched https://www.churchofjesuschrist.org/study/general-conference/1983/10/the-word-is-commitment?lang=eng\n",
            "Successfully fetched https://www.churchofjesuschrist.org/study/general-conference/1983/10/live-up-to-your-inheritance?lang=eng\n",
            "Successfully fetched https://www.churchofjesuschrist.org/study/general-conference/1983/10/what-manner-of-men-ought-we-to-be?lang=eng\n",
            "Successfully fetched https://www.churchofjesuschrist.org/study/general-conference/1983/10/let-us-go-forward?lang=eng\n",
            "Successfully fetched https://www.churchofjesuschrist.org/study/general-conference/1983/10/what-think-ye-of-the-book-of-mormon?lang=eng\n",
            "Successfully fetched https://www.churchofjesuschrist.org/study/general-conference/1983/10/friend-or-foe?lang=eng\n",
            "Successfully fetched https://www.churchofjesuschrist.org/study/general-conference/1983/10/how-do-you-know?lang=engSuccessfully fetched https://www.churchofjesuschrist.org/study/general-conference/1984/04/the-magnificent-vision-near-palmyra?lang=eng\n",
            "\n",
            "Successfully fetched https://www.churchofjesuschrist.org/study/general-conference/1983/10/be-a-peacemaker?lang=eng\n",
            "Successfully fetched https://www.churchofjesuschrist.org/study/general-conference/1983/10/agency-and-accountability?lang=eng\n",
            "Successfully fetched https://www.churchofjesuschrist.org/study/general-conference/1983/10/the-keystone-of-our-religion?lang=eng\n",
            "Successfully fetched https://www.churchofjesuschrist.org/study/general-conference/1983/10/the-mystery-of-life?lang=eng\n",
            "Successfully fetched https://www.churchofjesuschrist.org/study/general-conference/1983/10/joseph-the-seer?lang=eng\n",
            "Successfully fetched https://www.churchofjesuschrist.org/study/general-conference/1983/10/agency-and-love?lang=eng\n",
            "Successfully fetched https://www.churchofjesuschrist.org/study/general-conference/1983/10/removing-the-poison-of-an-unforgiving-spirit?lang=eng\n",
            "Successfully fetched https://www.churchofjesuschrist.org/study/general-conference/1983/10/parent-child-interviews?lang=eng\n",
            "Successfully fetched https://www.churchofjesuschrist.org/study/general-conference/1984/04/the-sustaining-of-church-officers?lang=eng\n"
          ]
        },
        {
          "output_type": "stream",
          "name": "stderr",
          "text": [
            "\rScraping talks in parallel:  73%|███████▎  | 2988/4112 [04:38<02:16,  8.26it/s]"
          ]
        },
        {
          "output_type": "stream",
          "name": "stdout",
          "text": [
            "Successfully fetched https://www.churchofjesuschrist.org/study/general-conference/1983/10/the-house-of-the-lord?lang=eng\n",
            "Successfully fetched https://www.churchofjesuschrist.org/study/general-conference/1983/10/our-father-which-art-in-heaven?lang=eng\n",
            "Successfully fetched https://www.churchofjesuschrist.org/study/general-conference/1983/10/jesus-christ-our-savior-and-redeemer?lang=eng\n",
            "Successfully fetched https://www.churchofjesuschrist.org/study/general-conference/1983/10/prepare-to-teach-his-children?lang=eng\n",
            "Successfully fetched https://www.churchofjesuschrist.org/study/general-conference/1983/10/parents-concern-for-children?lang=engSuccessfully fetched https://www.churchofjesuschrist.org/study/general-conference/1983/10/called-as-if-he-heard-a-voice-from-heaven?lang=eng\n",
            "\n",
            "Successfully fetched https://www.churchofjesuschrist.org/study/general-conference/1983/10/the-power-to-make-a-difference?lang=eng\n",
            "Successfully fetched https://www.churchofjesuschrist.org/study/general-conference/1983/10/saturday-morning-session?lang=eng\n",
            "Successfully fetched https://www.churchofjesuschrist.org/study/general-conference/1983/10/the-sustaining-of-church-officers?lang=eng\n"
          ]
        },
        {
          "output_type": "stream",
          "name": "stderr",
          "text": [
            "\rScraping talks in parallel:  73%|███████▎  | 2998/4112 [04:39<01:57,  9.49it/s]"
          ]
        },
        {
          "output_type": "stream",
          "name": "stdout",
          "text": [
            "Successfully fetched https://www.churchofjesuschrist.org/study/general-conference/1983/10/except-ye-are-one?lang=eng\n",
            "Successfully fetched https://www.churchofjesuschrist.org/study/general-conference/1983/10/a-season-for-strength?lang=eng\n",
            "Successfully fetched https://www.churchofjesuschrist.org/study/general-conference/1983/10/become-a-star-thrower?lang=eng\n",
            "Successfully fetched https://www.churchofjesuschrist.org/study/general-conference/1983/10/the-blessings-of-missionary-service?lang=eng\n"
          ]
        },
        {
          "output_type": "stream",
          "name": "stderr",
          "text": [
            "\rScraping talks in parallel:  73%|███████▎  | 3014/4112 [04:39<01:12, 15.08it/s]"
          ]
        },
        {
          "output_type": "stream",
          "name": "stdout",
          "text": [
            "Successfully fetched https://www.churchofjesuschrist.org/study/general-conference/1983/10/be-not-deceived?lang=engSuccessfully fetched https://www.churchofjesuschrist.org/study/general-conference/1983/10/the-angel-moroni-came?lang=eng\n",
            "\n",
            "Successfully fetched https://www.churchofjesuschrist.org/study/general-conference/1983/10/labels?lang=eng\n",
            "Successfully fetched https://www.churchofjesuschrist.org/study/general-conference/1983/10/your-sorrow-shall-be-turned-to-joy?lang=eng\n",
            "Successfully fetched https://www.churchofjesuschrist.org/study/general-conference/1983/04/unity?lang=eng\n",
            "Successfully fetched https://www.churchofjesuschrist.org/study/general-conference/1983/10/our-responsibility-to-take-the-gospel-to-the-ends-of-the-earth?lang=eng\n",
            "Successfully fetched https://www.churchofjesuschrist.org/study/general-conference/1983/04/the-keys-of-the-kingdom?lang=eng\n"
          ]
        },
        {
          "output_type": "stream",
          "name": "stderr",
          "text": [
            "Scraping talks in parallel:  73%|███████▎  | 3022/4112 [04:40<01:26, 12.61it/s]"
          ]
        },
        {
          "output_type": "stream",
          "name": "stdout",
          "text": [
            "Successfully fetched https://www.churchofjesuschrist.org/study/general-conference/1983/04/straightway?lang=eng\n",
            "Successfully fetched https://www.churchofjesuschrist.org/study/general-conference/1983/04/within-the-clasp-of-your-arms?lang=eng\n",
            "Successfully fetched https://www.churchofjesuschrist.org/study/general-conference/1983/04/he-slumbers-not-nor-sleeps?lang=eng\n"
          ]
        },
        {
          "output_type": "stream",
          "name": "stderr",
          "text": [
            "\rScraping talks in parallel:  74%|███████▎  | 3028/4112 [04:41<01:27, 12.45it/s]"
          ]
        },
        {
          "output_type": "stream",
          "name": "stdout",
          "text": [
            "Successfully fetched https://www.churchofjesuschrist.org/study/general-conference/1983/04/a-royal-generation?lang=eng\n",
            "Successfully fetched https://www.churchofjesuschrist.org/study/general-conference/1983/04/muddy-feet-and-white-shirts?lang=eng\n",
            "Successfully fetched https://www.churchofjesuschrist.org/study/general-conference/1983/04/valiance-in-the-drama-of-life?lang=eng\n",
            "Successfully fetched https://www.churchofjesuschrist.org/study/general-conference/1983/04/creator-and-savior?lang=eng\n",
            "Successfully fetched https://www.churchofjesuschrist.org/study/general-conference/1983/04/overpowering-the-goliaths-in-our-lives?lang=eng\n",
            "Successfully fetched https://www.churchofjesuschrist.org/study/general-conference/1983/04/a-call-to-the-priesthood-feed-my-sheep?lang=eng\n",
            "Successfully fetched https://www.churchofjesuschrist.org/study/general-conference/1983/04/statistical-report-1982?lang=eng\n",
            "Successfully fetched https://www.churchofjesuschrist.org/study/general-conference/1983/04/the-gospel-of-jesus-christ-and-basic-needs-of-people?lang=eng\n",
            "Successfully fetched https://www.churchofjesuschrist.org/study/general-conference/1983/04/the-sustaining-of-church-officers?lang=eng\n",
            "Successfully fetched https://www.churchofjesuschrist.org/study/general-conference/1983/04/anonymous?lang=eng\n",
            "Successfully fetched https://www.churchofjesuschrist.org/study/general-conference/1983/04/evidences-of-the-resurrection?lang=eng"
          ]
        },
        {
          "output_type": "stream",
          "name": "stderr",
          "text": [
            "Scraping talks in parallel:  74%|███████▍  | 3042/4112 [04:41<01:01, 17.52it/s]"
          ]
        },
        {
          "output_type": "stream",
          "name": "stdout",
          "text": [
            "\n",
            "Successfully fetched https://www.churchofjesuschrist.org/study/general-conference/1983/04/agency-and-control?lang=eng\n",
            "Successfully fetched https://www.churchofjesuschrist.org/study/general-conference/1983/04/the-sacrament?lang=eng\n",
            "Successfully fetched https://www.churchofjesuschrist.org/study/general-conference/1983/04/teaching-no-greater-call?lang=eng\n",
            "Successfully fetched https://www.churchofjesuschrist.org/study/general-conference/1983/04/shine-as-lights-in-the-world?lang=eng\n",
            "Successfully fetched https://www.churchofjesuschrist.org/study/general-conference/1983/04/a-principle-with-a-promise?lang=eng\n",
            "Successfully fetched https://www.churchofjesuschrist.org/study/general-conference/1983/04/fear-not-to-do-good?lang=eng\n",
            "Successfully fetched https://www.churchofjesuschrist.org/study/general-conference/1983/04/finding-ones-identity?lang=eng\n"
          ]
        },
        {
          "output_type": "stream",
          "name": "stderr",
          "text": [
            "\rScraping talks in parallel:  74%|███████▍  | 3046/4112 [04:42<01:08, 15.57it/s]"
          ]
        },
        {
          "output_type": "stream",
          "name": "stdout",
          "text": [
            "Successfully fetched https://www.churchofjesuschrist.org/study/general-conference/1983/04/receiving-a-prophet?lang=eng\n",
            "Successfully fetched https://www.churchofjesuschrist.org/study/general-conference/1983/04/enriching-family-life?lang=eng\n",
            "Successfully fetched https://www.churchofjesuschrist.org/study/general-conference/1983/04/to-forgive-is-divine?lang=eng\n",
            "Successfully fetched https://www.churchofjesuschrist.org/study/general-conference/1983/04/that-ye-may-have-roots-and-branches?lang=eng\n",
            "Successfully fetched https://www.churchofjesuschrist.org/study/general-conference/1983/04/profanity-and-swearing?lang=eng\n",
            "Successfully fetched https://www.churchofjesuschrist.org/study/general-conference/1983/04/train-up-a-child?lang=eng\n",
            "Successfully fetched https://www.churchofjesuschrist.org/study/general-conference/1983/04/repentance?lang=eng\n",
            "Successfully fetched https://www.churchofjesuschrist.org/study/general-conference/1983/04/climbing-to-higher-spirituality?lang=eng\n"
          ]
        },
        {
          "output_type": "stream",
          "name": "stderr",
          "text": [
            "\rScraping talks in parallel:  74%|███████▍  | 3049/4112 [04:43<01:47,  9.93it/s]"
          ]
        },
        {
          "output_type": "stream",
          "name": "stdout",
          "text": [
            "Successfully fetched https://www.churchofjesuschrist.org/study/general-conference/1983/04/saturday-morning-session?lang=eng\n",
            "Successfully fetched https://www.churchofjesuschrist.org/study/general-conference/1982/10/my-soul-delighteth-in-the-scriptures?lang=eng\n"
          ]
        },
        {
          "output_type": "stream",
          "name": "stderr",
          "text": [
            "\rScraping talks in parallel:  74%|███████▍  | 3055/4112 [04:43<01:18, 13.54it/s]"
          ]
        },
        {
          "output_type": "stream",
          "name": "stdout",
          "text": [
            "Successfully fetched https://www.churchofjesuschrist.org/study/general-conference/1983/04/church-audit-committee-report?lang=eng\n",
            "Successfully fetched https://www.churchofjesuschrist.org/study/general-conference/1982/10/scriptures?lang=eng\n",
            "Successfully fetched https://www.churchofjesuschrist.org/study/general-conference/1982/10/believers-and-doers?lang=eng\n",
            "Successfully fetched https://www.churchofjesuschrist.org/study/general-conference/1982/10/the-meaning-of-maturity?lang=eng\n",
            "Successfully fetched https://www.churchofjesuschrist.org/study/general-conference/1982/10/the-power-of-the-priesthood?lang=eng\n",
            "Successfully fetched https://www.churchofjesuschrist.org/study/general-conference/1982/10/what-this-work-is-all-about?lang=eng\n",
            "Successfully fetched https://www.churchofjesuschrist.org/study/general-conference/1982/10/the-blessings-of-family-work-projects?lang=eng\n",
            "Successfully fetched https://www.churchofjesuschrist.org/study/general-conference/1982/10/pure-religion?lang=eng\n",
            "Successfully fetched https://www.churchofjesuschrist.org/study/general-conference/1982/10/preparation-for-tomorrow?lang=eng\n",
            "Successfully fetched https://www.churchofjesuschrist.org/study/general-conference/1982/10/the-sustaining-of-church-officers?lang=eng\n",
            "Successfully fetched https://www.churchofjesuschrist.org/study/general-conference/1982/10/behold-my-beloved-son-in-whom-i-am-well-pleased?lang=eng\n"
          ]
        },
        {
          "output_type": "stream",
          "name": "stderr",
          "text": [
            "Scraping talks in parallel:  74%|███████▍  | 3062/4112 [04:44<01:45,  9.93it/s]"
          ]
        },
        {
          "output_type": "stream",
          "name": "stdout",
          "text": [
            "Successfully fetched https://www.churchofjesuschrist.org/study/general-conference/1982/10/fundamentals-of-enduring-family-relationships?lang=eng\n",
            "Successfully fetched https://www.churchofjesuschrist.org/study/general-conference/1982/10/the-celestial-nature-of-self-reliance?lang=eng\n"
          ]
        },
        {
          "output_type": "stream",
          "name": "stderr",
          "text": [
            "\rScraping talks in parallel:  75%|███████▍  | 3070/4112 [04:44<01:20, 12.92it/s]"
          ]
        },
        {
          "output_type": "stream",
          "name": "stdout",
          "text": [
            "Successfully fetched https://www.churchofjesuschrist.org/study/general-conference/1982/10/run-boy-run?lang=eng\n",
            "Successfully fetched https://www.churchofjesuschrist.org/study/general-conference/1982/10/saturday-morning-session?lang=eng\n",
            "Successfully fetched https://www.churchofjesuschrist.org/study/general-conference/1982/10/faith-the-force-of-life?lang=eng\n",
            "Successfully fetched https://www.churchofjesuschrist.org/study/general-conference/1982/10/the-priesthood-of-aaron?lang=eng\n",
            "Successfully fetched https://www.churchofjesuschrist.org/study/general-conference/1982/10/however-faint-the-light-may-glow?lang=eng\n",
            "Successfully fetched https://www.churchofjesuschrist.org/study/general-conference/1982/10/revitalizing-aaronic-priesthood-quorums?lang=eng\n",
            "Successfully fetched https://www.churchofjesuschrist.org/study/general-conference/1982/10/how-we-promote-activation?lang=eng\n"
          ]
        },
        {
          "output_type": "stream",
          "name": "stderr",
          "text": [
            "\rScraping talks in parallel:  75%|███████▍  | 3072/4112 [04:44<01:31, 11.35it/s]"
          ]
        },
        {
          "output_type": "stream",
          "name": "stdout",
          "text": [
            "Successfully fetched https://www.churchofjesuschrist.org/study/general-conference/1982/10/the-pearl-of-great-price?lang=eng\n",
            "Successfully fetched https://www.churchofjesuschrist.org/study/general-conference/1982/10/be-of-good-cheer?lang=eng\n"
          ]
        },
        {
          "output_type": "stream",
          "name": "stderr",
          "text": [
            "Scraping talks in parallel:  75%|███████▍  | 3079/4112 [04:45<01:15, 13.65it/s]"
          ]
        },
        {
          "output_type": "stream",
          "name": "stdout",
          "text": [
            "Successfully fetched https://www.churchofjesuschrist.org/study/general-conference/1982/10/for-a-bishop-must-be-blameless?lang=eng\n",
            "Successfully fetched https://www.churchofjesuschrist.org/study/general-conference/1982/10/gratitude-and-thanksgiving?lang=engSuccessfully fetched https://www.churchofjesuschrist.org/study/general-conference/1982/10/prepare-the-heart-of-your-son?lang=eng\n",
            "\n",
            "Successfully fetched https://www.churchofjesuschrist.org/study/general-conference/1982/10/application-of-welfare-principles-in-the-home-a-key-to-many-family-problems?lang=eng\n",
            "Successfully fetched https://www.churchofjesuschrist.org/study/general-conference/1982/10/commitment-to-god?lang=eng\n"
          ]
        },
        {
          "output_type": "stream",
          "name": "stderr",
          "text": [
            "\rScraping talks in parallel:  75%|███████▍  | 3083/4112 [04:45<01:11, 14.36it/s]"
          ]
        },
        {
          "output_type": "stream",
          "name": "stdout",
          "text": [
            "Successfully fetched https://www.churchofjesuschrist.org/study/general-conference/1982/10/lds-hymns-worshiping-with-song?lang=eng\n",
            "Successfully fetched https://www.churchofjesuschrist.org/study/general-conference/1982/10/be-a-friend-a-servant-a-son-of-the-savior?lang=eng\n",
            "Successfully fetched https://www.churchofjesuschrist.org/study/general-conference/1982/10/the-seven-christs?lang=eng\n",
            "Successfully fetched https://www.churchofjesuschrist.org/study/general-conference/1982/10/the-blessings-we-receive-as-we-meet-the-challenges-of-economic-stress?lang=eng\n",
            "Successfully fetched https://www.churchofjesuschrist.org/study/general-conference/1982/10/look-to-god?lang=eng\n",
            "Successfully fetched https://www.churchofjesuschrist.org/study/general-conference/1982/10/activating-young-men-of-the-aaronic-priesthood?lang=eng\n",
            "Successfully fetched https://www.churchofjesuschrist.org/study/general-conference/1982/10/reach-out-in-love-and-kindness?lang=eng\n",
            "Successfully fetched https://www.churchofjesuschrist.org/study/general-conference/1982/10/the-lord-expects-righteousness?lang=eng\n",
            "Successfully fetched https://www.churchofjesuschrist.org/study/general-conference/1982/04/let-us-improve-ourselves?lang=eng\n",
            "Successfully fetched https://www.churchofjesuschrist.org/study/general-conference/1982/04/the-value-of-work?lang=eng\n",
            "Successfully fetched https://www.churchofjesuschrist.org/study/general-conference/1982/04/hearts-so-similar?lang=eng\n",
            "Successfully fetched https://www.churchofjesuschrist.org/study/general-conference/1982/04/tithing-an-opportunity-to-prove-our-faithfulness?lang=eng\n",
            "Successfully fetched https://www.churchofjesuschrist.org/study/general-conference/1982/04/what-the-gospel-teaches?lang=eng\n",
            "Successfully fetched https://www.churchofjesuschrist.org/study/general-conference/1982/04/reach-for-joy?lang=eng\n",
            "Successfully fetched https://www.churchofjesuschrist.org/study/general-conference/1982/04/beginning-again?lang=eng\n",
            "Successfully fetched https://www.churchofjesuschrist.org/study/general-conference/1982/04/spiritual-guides-for-teachers-of-righteousness?lang=eng\n",
            "Successfully fetched https://www.churchofjesuschrist.org/study/general-conference/1982/10/love-all?lang=eng\n",
            "Successfully fetched https://www.churchofjesuschrist.org/study/general-conference/1982/04/integrity-the-mother-of-many-virtues?lang=eng\n",
            "Successfully fetched https://www.churchofjesuschrist.org/study/general-conference/1982/04/the-power-of-family-prayer?lang=eng\n",
            "Successfully fetched https://www.churchofjesuschrist.org/study/general-conference/1982/04/the-future-history-of-the-church?lang=eng\n",
            "Successfully fetched https://www.churchofjesuschrist.org/study/general-conference/1982/04/the-resurrection-of-jesus?lang=eng\n",
            "Successfully fetched https://www.churchofjesuschrist.org/study/general-conference/1982/04/priesthood-activation?lang=eng\n",
            "Successfully fetched https://www.churchofjesuschrist.org/study/general-conference/1982/04/pondering-strengthens-the-spiritual-life?lang=eng\n",
            "Successfully fetched https://www.churchofjesuschrist.org/study/general-conference/1982/04/remember-the-mission-of-the-church?lang=eng\n",
            "Successfully fetched https://www.churchofjesuschrist.org/study/general-conference/1982/10/let-us-do-as-we-have-been-counseled?lang=eng\n",
            "Successfully fetched https://www.churchofjesuschrist.org/study/general-conference/1982/04/a-lasting-marriage?lang=eng\n"
          ]
        },
        {
          "output_type": "stream",
          "name": "stderr",
          "text": [
            "\rScraping talks in parallel:  75%|███████▌  | 3085/4112 [04:47<04:37,  3.71it/s]"
          ]
        },
        {
          "output_type": "stream",
          "name": "stdout",
          "text": [
            "Successfully fetched https://www.churchofjesuschrist.org/study/general-conference/1982/04/a-brother-offended?lang=eng\n",
            "Successfully fetched https://www.churchofjesuschrist.org/study/general-conference/1982/04/we-believe-in-being-honest?lang=eng\n",
            "Successfully fetched https://www.churchofjesuschrist.org/study/general-conference/1982/04/five-million-members-a-milestone-and-not-a-summit?lang=eng\n",
            "Successfully fetched https://www.churchofjesuschrist.org/study/general-conference/1982/04/saturday-morning-session?lang=eng\n"
          ]
        },
        {
          "output_type": "stream",
          "name": "stderr",
          "text": [
            "\rScraping talks in parallel:  76%|███████▌  | 3108/4112 [04:48<01:22, 12.15it/s]"
          ]
        },
        {
          "output_type": "stream",
          "name": "stdout",
          "text": [
            "Successfully fetched https://www.churchofjesuschrist.org/study/general-conference/1982/04/let-us-go-up-to-the-house-of-god?lang=engSuccessfully fetched https://www.churchofjesuschrist.org/study/general-conference/1982/04/church-audit-committee-report?lang=eng\n",
            "\n",
            "Successfully fetched https://www.churchofjesuschrist.org/study/general-conference/1982/04/valiant-in-the-testimony-of-jesus?lang=eng\n",
            "Successfully fetched https://www.churchofjesuschrist.org/study/general-conference/1982/04/priesthood?lang=eng\n"
          ]
        },
        {
          "output_type": "stream",
          "name": "stderr",
          "text": [
            "\rScraping talks in parallel:  76%|███████▌  | 3118/4112 [04:48<00:59, 16.66it/s]"
          ]
        },
        {
          "output_type": "stream",
          "name": "stdout",
          "text": [
            "Successfully fetched https://www.churchofjesuschrist.org/study/general-conference/1982/04/the-doctrine-of-the-priesthood?lang=eng\n",
            "Successfully fetched https://www.churchofjesuschrist.org/study/general-conference/1982/04/work-and-welfare-a-historical-perspective?lang=eng\n",
            "Successfully fetched https://www.churchofjesuschrist.org/study/general-conference/1982/04/gods-love-for-us-transcends-our-transgressions?lang=eng\n",
            "Successfully fetched https://www.churchofjesuschrist.org/study/general-conference/1982/04/the-gospel-the-foundation-for-our-career?lang=eng\n",
            "Successfully fetched https://www.churchofjesuschrist.org/study/general-conference/1982/04/love-is-the-power-that-will-cure-the-family?lang=eng\n",
            "Successfully fetched https://www.churchofjesuschrist.org/study/general-conference/1982/04/what-temples-are-for?lang=eng\n",
            "Successfully fetched https://www.churchofjesuschrist.org/study/general-conference/1982/04/an-invitation-to-grow?lang=eng\n"
          ]
        },
        {
          "output_type": "stream",
          "name": "stderr",
          "text": [
            "\rScraping talks in parallel:  76%|███████▌  | 3123/4112 [04:49<01:13, 13.38it/s]"
          ]
        },
        {
          "output_type": "stream",
          "name": "stdout",
          "text": [
            "Successfully fetched https://www.churchofjesuschrist.org/study/general-conference/1982/04/the-lord-is-at-the-helm?lang=eng\n",
            "Successfully fetched https://www.churchofjesuschrist.org/study/general-conference/1982/04/this-is-no-harm?lang=eng\n",
            "Successfully fetched https://www.churchofjesuschrist.org/study/general-conference/1982/04/jesus-is-our-savior?lang=eng\n",
            "Successfully fetched https://www.churchofjesuschrist.org/study/general-conference/1982/04/statistical-report-1981?lang=eng\n",
            "Successfully fetched https://www.churchofjesuschrist.org/study/general-conference/1982/04/employment-challenges-in-the-1980s?lang=eng\n",
            "Successfully fetched https://www.churchofjesuschrist.org/study/general-conference/1982/04/true-greatness?lang=eng\n",
            "Successfully fetched https://www.churchofjesuschrist.org/study/general-conference/1982/04/her-children-arise-up-and-call-her-blessed?lang=eng\n",
            "Successfully fetched https://www.churchofjesuschrist.org/study/general-conference/1982/04/sustaining-of-church-officers?lang=eng\n",
            "Successfully fetched https://www.churchofjesuschrist.org/study/general-conference/1982/04/even-as-i-am?lang=eng\n"
          ]
        },
        {
          "output_type": "stream",
          "name": "stderr",
          "text": [
            "\rScraping talks in parallel:  76%|███████▌  | 3127/4112 [04:49<01:27, 11.30it/s]"
          ]
        },
        {
          "output_type": "stream",
          "name": "stdout",
          "text": [
            "Successfully fetched https://www.churchofjesuschrist.org/study/general-conference/1982/04/the-first-and-the-last-words?lang=eng\n",
            "Successfully fetched https://www.churchofjesuschrist.org/study/general-conference/1981/10/examples-from-the-life-of-a-prophet?lang=eng\n",
            "Successfully fetched https://www.churchofjesuschrist.org/study/general-conference/1981/10/people-to-people?lang=eng\n",
            "Successfully fetched https://www.churchofjesuschrist.org/study/general-conference/1982/04/sailing-safely-the-seas-of-life?lang=eng\n"
          ]
        },
        {
          "output_type": "stream",
          "name": "stderr",
          "text": [
            "\rScraping talks in parallel:  76%|███████▌  | 3135/4112 [04:49<01:05, 14.87it/s]"
          ]
        },
        {
          "output_type": "stream",
          "name": "stdout",
          "text": [
            "Successfully fetched https://www.churchofjesuschrist.org/study/general-conference/1981/10/be-ye-prepared?lang=eng\n",
            "Successfully fetched https://www.churchofjesuschrist.org/study/general-conference/1981/10/opposition-to-the-work-of-god?lang=eng\n"
          ]
        },
        {
          "output_type": "stream",
          "name": "stderr",
          "text": [
            "\rScraping talks in parallel:  76%|███████▋  | 3138/4112 [04:50<01:11, 13.69it/s]"
          ]
        },
        {
          "output_type": "stream",
          "name": "stdout",
          "text": [
            "Successfully fetched https://www.churchofjesuschrist.org/study/general-conference/1981/10/love-extends-beyond-convenience?lang=eng\n",
            "Successfully fetched https://www.churchofjesuschrist.org/study/general-conference/1981/10/a-safe-place-for-marriages-and-families?lang=eng\n",
            "Successfully fetched https://www.churchofjesuschrist.org/study/general-conference/1981/10/the-aaronic-priesthood?lang=eng\n"
          ]
        },
        {
          "output_type": "stream",
          "name": "stderr",
          "text": [
            "\rScraping talks in parallel:  76%|███████▋  | 3143/4112 [04:50<01:04, 14.98it/s]"
          ]
        },
        {
          "output_type": "stream",
          "name": "stdout",
          "text": [
            "Successfully fetched https://www.churchofjesuschrist.org/study/general-conference/1981/10/the-expanding-inheritance-from-joseph-smith?lang=eng\n",
            "Successfully fetched https://www.churchofjesuschrist.org/study/general-conference/1981/10/give-with-wisdom-that-they-may-receive-with-dignity?lang=eng\n",
            "Successfully fetched https://www.churchofjesuschrist.org/study/general-conference/1981/10/the-sustaining-of-church-officers?lang=eng\n",
            "Successfully fetched https://www.churchofjesuschrist.org/study/general-conference/1981/10/teach-the-why?lang=eng\n",
            "Successfully fetched https://www.churchofjesuschrist.org/study/general-conference/1981/10/an-opportunity-for-continual-learning?lang=eng\n",
            "Successfully fetched https://www.churchofjesuschrist.org/study/general-conference/1981/10/four-bs-for-boys?lang=eng\n",
            "Successfully fetched https://www.churchofjesuschrist.org/study/general-conference/1981/10/who-hath-believed-our-report?lang=eng\n",
            "Successfully fetched https://www.churchofjesuschrist.org/study/general-conference/1981/10/joseph-smith-prophet-to-our-generation?lang=eng\n"
          ]
        },
        {
          "output_type": "stream",
          "name": "stderr",
          "text": [
            "\rScraping talks in parallel:  77%|███████▋  | 3146/4112 [04:51<01:23, 11.51it/s]"
          ]
        },
        {
          "output_type": "stream",
          "name": "stdout",
          "text": [
            "Successfully fetched https://www.churchofjesuschrist.org/study/general-conference/1981/10/the-little-things-and-eternal-life?lang=engSuccessfully fetched https://www.churchofjesuschrist.org/study/general-conference/1981/10/to-follow-or-not-that-is-the-question?lang=eng\n",
            "\n",
            "Successfully fetched https://www.churchofjesuschrist.org/study/general-conference/1981/10/finding-joy-by-serving-others?lang=eng\n",
            "Successfully fetched https://www.churchofjesuschrist.org/study/general-conference/1981/10/the-plan-for-happiness-and-exaltation?lang=eng\n"
          ]
        },
        {
          "output_type": "stream",
          "name": "stderr",
          "text": [
            "Scraping talks in parallel:  77%|███████▋  | 3154/4112 [04:51<01:07, 14.15it/s]"
          ]
        },
        {
          "output_type": "stream",
          "name": "stdout",
          "text": [
            "Successfully fetched https://www.churchofjesuschrist.org/study/general-conference/1981/10/my-specialty-is-mercy?lang=eng\n",
            "Successfully fetched https://www.churchofjesuschrist.org/study/general-conference/1981/10/living-welfare-principles?lang=eng\n",
            "Successfully fetched https://www.churchofjesuschrist.org/study/general-conference/1981/10/relief-society-in-times-of-transition?lang=eng\n",
            "Successfully fetched https://www.churchofjesuschrist.org/study/general-conference/1981/10/conference-time?lang=eng\n",
            "Successfully fetched https://www.churchofjesuschrist.org/study/general-conference/1981/10/he-is-risen?lang=eng\n",
            "Successfully fetched https://www.churchofjesuschrist.org/study/general-conference/1981/10/my-sheep-hear-my-voice?lang=eng\n",
            "Successfully fetched https://www.churchofjesuschrist.org/study/general-conference/1981/10/faith-the-essence-of-true-religion?lang=eng\n",
            "Successfully fetched https://www.churchofjesuschrist.org/study/general-conference/1981/10/the-strength-of-the-kingdom-is-within?lang=eng\n"
          ]
        },
        {
          "output_type": "stream",
          "name": "stderr",
          "text": [
            "\rScraping talks in parallel:  77%|███████▋  | 3156/4112 [04:52<02:06,  7.58it/s]"
          ]
        },
        {
          "output_type": "stream",
          "name": "stdout",
          "text": [
            "Successfully fetched https://www.churchofjesuschrist.org/study/general-conference/1981/10/charity-never-faileth?lang=engSuccessfully fetched https://www.churchofjesuschrist.org/study/general-conference/1981/10/remember-who-you-are?lang=eng\n",
            "\n"
          ]
        },
        {
          "output_type": "stream",
          "name": "stderr",
          "text": [
            "Scraping talks in parallel:  77%|███████▋  | 3164/4112 [04:52<01:18, 12.02it/s]"
          ]
        },
        {
          "output_type": "stream",
          "name": "stdout",
          "text": [
            "Successfully fetched https://www.churchofjesuschrist.org/study/general-conference/1981/10/follow-the-prophets?lang=eng\n",
            "Successfully fetched https://www.churchofjesuschrist.org/study/general-conference/1981/10/the-ministry-of-the-aaronic-priesthood-holder?lang=eng\n",
            "Successfully fetched https://www.churchofjesuschrist.org/study/general-conference/1981/10/o-divine-redeemer?lang=eng\n",
            "Successfully fetched https://www.churchofjesuschrist.org/study/general-conference/1981/10/the-honored-place-of-woman?lang=eng\n",
            "Successfully fetched https://www.churchofjesuschrist.org/study/general-conference/1981/10/when-ye-are-prepared-ye-shall-not-fear?lang=eng\n",
            "Successfully fetched https://www.churchofjesuschrist.org/study/general-conference/1981/10/the-perfect-law-of-liberty?lang=eng\n",
            "Successfully fetched https://www.churchofjesuschrist.org/study/general-conference/1981/10/relief-society-in-welfare?lang=eng\n",
            "Successfully fetched https://www.churchofjesuschrist.org/study/general-conference/1981/10/sanctification-through-missionary-service?lang=eng\n"
          ]
        },
        {
          "output_type": "stream",
          "name": "stderr",
          "text": [
            "Scraping talks in parallel:  77%|███████▋  | 3169/4112 [04:53<01:39,  9.52it/s]"
          ]
        },
        {
          "output_type": "stream",
          "name": "stdout",
          "text": [
            "Successfully fetched https://www.churchofjesuschrist.org/study/general-conference/1981/10/being-strengthened-through-service?lang=eng\n"
          ]
        },
        {
          "output_type": "stream",
          "name": "stderr",
          "text": [
            "\rScraping talks in parallel:  77%|███████▋  | 3171/4112 [04:53<01:46,  8.85it/s]"
          ]
        },
        {
          "output_type": "stream",
          "name": "stdout",
          "text": [
            "Successfully fetched https://www.churchofjesuschrist.org/study/general-conference/1981/10/except-a-man-be-born-again?lang=eng\n",
            "Successfully fetched https://www.churchofjesuschrist.org/study/general-conference/1981/04/our-responsibility-to-care-for-our-own?lang=eng\n",
            "Successfully fetched https://www.churchofjesuschrist.org/study/general-conference/1981/04/call-of-the-prophets?lang=eng\n",
            "Successfully fetched https://www.churchofjesuschrist.org/study/general-conference/1981/04/the-joseph-smith-iii-document-and-the-keys-of-the-kingdom?lang=eng\n",
            "Successfully fetched https://www.churchofjesuschrist.org/study/general-conference/1981/04/the-restoration-of-israel-to-the-lands-of-their-inheritance?lang=eng\n",
            "Successfully fetched https://www.churchofjesuschrist.org/study/general-conference/1981/10/the-light-of-the-gospel?lang=eng\n",
            "Successfully fetched https://www.churchofjesuschrist.org/study/general-conference/1981/04/marriage?lang=eng\n",
            "Successfully fetched https://www.churchofjesuschrist.org/study/general-conference/1981/04/turning-the-hearts?lang=eng\n",
            "Successfully fetched https://www.churchofjesuschrist.org/study/general-conference/1981/10/saturday-morning-session?lang=eng\n"
          ]
        },
        {
          "output_type": "stream",
          "name": "stderr",
          "text": [
            "\rScraping talks in parallel:  77%|███████▋  | 3176/4112 [04:54<02:01,  7.73it/s]"
          ]
        },
        {
          "output_type": "stream",
          "name": "stdout",
          "text": [
            "Successfully fetched https://www.churchofjesuschrist.org/study/general-conference/1981/04/great-things-required-of-their-fathers?lang=eng\n",
            "Successfully fetched https://www.churchofjesuschrist.org/study/general-conference/1981/04/saturday-morning-session?lang=eng\n",
            "Successfully fetched https://www.churchofjesuschrist.org/study/general-conference/1981/04/providing-for-our-needs?lang=eng\n",
            "Successfully fetched https://www.churchofjesuschrist.org/study/general-conference/1981/04/we-serve-that-which-we-love?lang=eng\n",
            "Successfully fetched https://www.churchofjesuschrist.org/study/general-conference/1981/04/follow-the-fundamentals?lang=eng\n",
            "Successfully fetched https://www.churchofjesuschrist.org/study/general-conference/1981/04/reach-for-the-stars?lang=eng\n"
          ]
        },
        {
          "output_type": "stream",
          "name": "stderr",
          "text": [
            "\rScraping talks in parallel:  77%|███████▋  | 3183/4112 [04:55<02:09,  7.18it/s]"
          ]
        },
        {
          "output_type": "stream",
          "name": "stdout",
          "text": [
            "Successfully fetched https://www.churchofjesuschrist.org/study/general-conference/1981/04/fast-offerings-fulfilling-our-responsibility-to-others?lang=engSuccessfully fetched https://www.churchofjesuschrist.org/study/general-conference/1981/04/gracias?lang=eng\n",
            "\n",
            "Successfully fetched https://www.churchofjesuschrist.org/study/general-conference/1981/04/the-dignity-of-self?lang=eng\n",
            "Successfully fetched https://www.churchofjesuschrist.org/study/general-conference/1981/04/reach-out-to-our-fathers-children?lang=eng\n",
            "Successfully fetched https://www.churchofjesuschrist.org/study/general-conference/1981/04/blessings-in-self-reliance?lang=eng\n"
          ]
        },
        {
          "output_type": "stream",
          "name": "stderr",
          "text": [
            "Scraping talks in parallel:  78%|███████▊  | 3193/4112 [04:55<01:11, 12.77it/s]"
          ]
        },
        {
          "output_type": "stream",
          "name": "stdout",
          "text": [
            "Successfully fetched https://www.churchofjesuschrist.org/study/general-conference/1981/04/the-long-line-of-the-lonely?lang=eng\n",
            "Successfully fetched https://www.churchofjesuschrist.org/study/general-conference/1981/04/in-saving-others-we-save-ourselves?lang=eng\n",
            "Successfully fetched https://www.churchofjesuschrist.org/study/general-conference/1981/04/statistical-report-1980?lang=eng\n",
            "Successfully fetched https://www.churchofjesuschrist.org/study/general-conference/1981/04/the-responsibility-of-young-aaronic-priesthood-bearers?lang=eng\n"
          ]
        },
        {
          "output_type": "stream",
          "name": "stderr",
          "text": [
            "Scraping talks in parallel:  78%|███████▊  | 3199/4112 [04:56<01:10, 12.87it/s]"
          ]
        },
        {
          "output_type": "stream",
          "name": "stdout",
          "text": [
            "Successfully fetched https://www.churchofjesuschrist.org/study/general-conference/1981/04/no-man-shall-add-to-or-take-away?lang=eng\n",
            "Successfully fetched https://www.churchofjesuschrist.org/study/general-conference/1981/04/upon-this-rock?lang=eng\n",
            "Successfully fetched https://www.churchofjesuschrist.org/study/general-conference/1981/04/the-need-to-teach-personal-and-family-preparedness?lang=eng\n",
            "Successfully fetched https://www.churchofjesuschrist.org/study/general-conference/1981/04/we-are-called-to-spread-the-light?lang=eng\n",
            "Successfully fetched https://www.churchofjesuschrist.org/study/general-conference/1981/04/gospel-covenants?lang=eng\n"
          ]
        },
        {
          "output_type": "stream",
          "name": "stderr",
          "text": [
            "\rScraping talks in parallel:  78%|███████▊  | 3201/4112 [04:56<01:13, 12.36it/s]"
          ]
        },
        {
          "output_type": "stream",
          "name": "stdout",
          "text": [
            "Successfully fetched https://www.churchofjesuschrist.org/study/general-conference/1981/04/he-is-there?lang=eng\n",
            "Successfully fetched https://www.churchofjesuschrist.org/study/general-conference/1981/04/light-and-truth?lang=eng\n",
            "Successfully fetched https://www.churchofjesuschrist.org/study/general-conference/1981/04/obedience-full-obedience?lang=eng\n",
            "Successfully fetched https://www.churchofjesuschrist.org/study/general-conference/1981/04/the-basic-principles-of-church-welfare?lang=eng\n",
            "Successfully fetched https://www.churchofjesuschrist.org/study/general-conference/1981/04/rendering-service-to-others?lang=eng\n",
            "Successfully fetched https://www.churchofjesuschrist.org/study/general-conference/1981/04/a-report-of-my-stewardship?lang=engSuccessfully fetched https://www.churchofjesuschrist.org/study/general-conference/1981/04/life-a-great-proving-ground?lang=eng\n",
            "\n",
            "Successfully fetched https://www.churchofjesuschrist.org/study/general-conference/1981/04/we-are-on-the-lords-errand?lang=eng\n"
          ]
        },
        {
          "output_type": "stream",
          "name": "stderr",
          "text": [
            "\rScraping talks in parallel:  78%|███████▊  | 3203/4112 [04:57<01:45,  8.62it/s]"
          ]
        },
        {
          "output_type": "stream",
          "name": "stdout",
          "text": [
            "Successfully fetched https://www.churchofjesuschrist.org/study/general-conference/1981/04/moral-values-and-rewards?lang=eng\n",
            "Successfully fetched https://www.churchofjesuschrist.org/study/general-conference/1981/04/building-bridges-to-faith?lang=eng\n",
            "Successfully fetched https://www.churchofjesuschrist.org/study/general-conference/1981/04/love-one-another?lang=eng\n",
            "Successfully fetched https://www.churchofjesuschrist.org/study/general-conference/1980/10/decide-to-decide?lang=eng\n",
            "Successfully fetched https://www.churchofjesuschrist.org/study/general-conference/1981/04/the-sustaining-of-church-officers?lang=eng\n"
          ]
        },
        {
          "output_type": "stream",
          "name": "stderr",
          "text": [
            "\rScraping talks in parallel:  78%|███████▊  | 3213/4112 [04:57<01:23, 10.81it/s]"
          ]
        },
        {
          "output_type": "stream",
          "name": "stdout",
          "text": [
            "Successfully fetched https://www.churchofjesuschrist.org/study/general-conference/1981/04/church-audit-committee-report?lang=eng\n",
            "Successfully fetched https://www.churchofjesuschrist.org/study/general-conference/1980/10/the-choice?lang=engSuccessfully fetched https://www.churchofjesuschrist.org/study/general-conference/1980/10/purify-our-minds-and-spirits?lang=eng\n",
            "\n",
            "Successfully fetched https://www.churchofjesuschrist.org/study/general-conference/1980/10/our-thirtieth-anniversary-as-latter-day-saints?lang=eng\n",
            "Successfully fetched https://www.churchofjesuschrist.org/study/general-conference/1980/10/learn-then-teach?lang=eng\n",
            "Successfully fetched https://www.churchofjesuschrist.org/study/general-conference/1980/10/the-law-of-tithing?lang=eng\n",
            "Successfully fetched https://www.churchofjesuschrist.org/study/general-conference/1980/10/forgive-them-i-pray-thee?lang=eng\n",
            "Successfully fetched https://www.churchofjesuschrist.org/study/general-conference/1980/10/the-house-of-the-lord?lang=eng\n",
            "Successfully fetched https://www.churchofjesuschrist.org/study/general-conference/1980/10/seven-events-of-great-consequence?lang=eng\n",
            "Successfully fetched https://www.churchofjesuschrist.org/study/general-conference/1980/10/to-the-young-men-of-the-church?lang=eng\n",
            "Successfully fetched https://www.churchofjesuschrist.org/study/general-conference/1980/10/the-saviors-touch?lang=eng\n",
            "Successfully fetched https://www.churchofjesuschrist.org/study/general-conference/1980/10/a-testimony?lang=engSuccessfully fetched https://www.churchofjesuschrist.org/study/general-conference/1980/10/miracles-among-the-lamanites?lang=eng\n",
            "Successfully fetched https://www.churchofjesuschrist.org/study/general-conference/1980/10/know-the-shepherd?lang=eng\n",
            "Successfully fetched https://www.churchofjesuschrist.org/study/general-conference/1980/10/do-not-weary-by-the-way?lang=eng\n",
            "\n"
          ]
        },
        {
          "output_type": "stream",
          "name": "stderr",
          "text": [
            "\rScraping talks in parallel:  78%|███████▊  | 3218/4112 [04:59<02:00,  7.44it/s]"
          ]
        },
        {
          "output_type": "stream",
          "name": "stdout",
          "text": [
            "Successfully fetched https://www.churchofjesuschrist.org/study/general-conference/1980/10/prepare-every-needful-thing?lang=eng\n",
            "Successfully fetched https://www.churchofjesuschrist.org/study/general-conference/1980/10/the-net-gathers-of-every-kind?lang=eng\n",
            "Successfully fetched https://www.churchofjesuschrist.org/study/general-conference/1980/10/let-every-man-learn-his-duty?lang=eng\n",
            "Successfully fetched https://www.churchofjesuschrist.org/study/general-conference/1980/10/the-blessing-of-a-testimony?lang=eng\n",
            "Successfully fetched https://www.churchofjesuschrist.org/study/general-conference/1980/10/the-doctrines-of-the-kingdom?lang=eng\n",
            "Successfully fetched https://www.churchofjesuschrist.org/study/general-conference/1980/10/the-lord-god-of-the-restoration?lang=eng\n",
            "Successfully fetched https://www.churchofjesuschrist.org/study/general-conference/1980/10/welfare-services-the-saviors-program?lang=eng\n",
            "Successfully fetched https://www.churchofjesuschrist.org/study/general-conference/1980/10/motherhood-and-the-family?lang=eng\n",
            "Successfully fetched https://www.churchofjesuschrist.org/study/general-conference/1980/10/the-bond-of-charity?lang=eng\n",
            "Successfully fetched https://www.churchofjesuschrist.org/study/general-conference/1980/10/the-household-of-faith?lang=eng\n",
            "Successfully fetched https://www.churchofjesuschrist.org/study/general-conference/1980/10/saturday-morning-session?lang=eng\n",
            "Successfully fetched https://www.churchofjesuschrist.org/study/general-conference/1980/10/repentance?lang=eng\n"
          ]
        },
        {
          "output_type": "stream",
          "name": "stderr",
          "text": [
            "\rScraping talks in parallel:  78%|███████▊  | 3224/4112 [04:59<02:01,  7.30it/s]"
          ]
        },
        {
          "output_type": "stream",
          "name": "stdout",
          "text": [
            "Successfully fetched https://www.churchofjesuschrist.org/study/general-conference/1980/10/the-sustaining-of-church-officers?lang=eng\n",
            "Successfully fetched https://www.churchofjesuschrist.org/study/general-conference/1980/10/of-you-it-is-required-to-forgive?lang=eng\n",
            "Successfully fetched https://www.churchofjesuschrist.org/study/general-conference/1980/10/acquaint-thyself-with-him-and-be-at-peace?lang=eng\n",
            "Successfully fetched https://www.churchofjesuschrist.org/study/general-conference/1980/10/the-circle-of-sisters?lang=eng\n"
          ]
        },
        {
          "output_type": "stream",
          "name": "stderr",
          "text": [
            "Scraping talks in parallel:  79%|███████▉  | 3246/4112 [05:00<00:55, 15.73it/s]"
          ]
        },
        {
          "output_type": "stream",
          "name": "stdout",
          "text": [
            "Successfully fetched https://www.churchofjesuschrist.org/study/general-conference/1980/10/the-oath-and-covenant-which-belongeth-to-the-priesthood?lang=eng\n",
            "Successfully fetched https://www.churchofjesuschrist.org/study/general-conference/1980/10/the-bishop-center-stage-in-welfare?lang=eng\n",
            "Successfully fetched https://www.churchofjesuschrist.org/study/general-conference/1980/10/organize-yourselves?lang=eng\n",
            "Successfully fetched https://www.churchofjesuschrist.org/study/general-conference/1980/10/ministering-to-the-needs-of-members?lang=eng\n",
            "Successfully fetched https://www.churchofjesuschrist.org/study/general-conference/1980/10/is-any-thing-too-hard-for-the-lord?lang=eng\n"
          ]
        },
        {
          "output_type": "stream",
          "name": "stderr",
          "text": [
            "\rScraping talks in parallel:  79%|███████▉  | 3250/4112 [05:00<00:52, 16.56it/s]"
          ]
        },
        {
          "output_type": "stream",
          "name": "stdout",
          "text": [
            "Successfully fetched https://www.churchofjesuschrist.org/study/general-conference/1980/10/for-whatsoever-a-man-soweth-that-shall-he-also-reap?lang=eng\n",
            "Successfully fetched https://www.churchofjesuschrist.org/study/general-conference/1980/10/singleness-how-relief-society-can-help?lang=eng\n",
            "Successfully fetched https://www.churchofjesuschrist.org/study/general-conference/1980/10/these-i-will-make-my-leaders?lang=eng\n"
          ]
        },
        {
          "output_type": "stream",
          "name": "stderr",
          "text": [
            "\rScraping talks in parallel:  79%|███████▉  | 3253/4112 [05:00<00:54, 15.68it/s]"
          ]
        },
        {
          "output_type": "stream",
          "name": "stdout",
          "text": [
            "Successfully fetched https://www.churchofjesuschrist.org/study/general-conference/1980/10/adam-the-archangel?lang=eng\n",
            "Successfully fetched https://www.churchofjesuschrist.org/study/general-conference/1980/10/the-keys-of-the-kingdom?lang=eng\n",
            "Successfully fetched https://www.churchofjesuschrist.org/study/general-conference/1980/10/adversity-and-you?lang=eng\n",
            "Successfully fetched https://www.churchofjesuschrist.org/study/general-conference/1980/10/families-can-be-eternal?lang=eng\n"
          ]
        },
        {
          "output_type": "stream",
          "name": "stderr",
          "text": [
            "Scraping talks in parallel:  79%|███████▉  | 3259/4112 [05:01<00:48, 17.51it/s]"
          ]
        },
        {
          "output_type": "stream",
          "name": "stdout",
          "text": [
            "Successfully fetched https://www.churchofjesuschrist.org/study/general-conference/1980/10/feed-my-sheep?lang=eng\n",
            "Successfully fetched https://www.churchofjesuschrist.org/study/general-conference/1980/04/self-accountability-and-human-progress?lang=eng\n",
            "Successfully fetched https://www.churchofjesuschrist.org/study/general-conference/1980/04/what-hath-god-wrought-through-his-servant-joseph?lang=eng\n",
            "Successfully fetched https://www.churchofjesuschrist.org/study/general-conference/1980/04/the-book-of-mormon?lang=eng\n",
            "Successfully fetched https://www.churchofjesuschrist.org/study/general-conference/1980/10/prepare-for-the-days-of-tribulation?lang=eng\n",
            "Successfully fetched https://www.churchofjesuschrist.org/study/general-conference/1980/04/the-scriptures-speak?lang=eng\n",
            "Successfully fetched https://www.churchofjesuschrist.org/study/general-conference/1980/04/introduction-to-the-proclamation?lang=eng\n",
            "Successfully fetched https://www.churchofjesuschrist.org/study/general-conference/1980/04/god-will-have-a-tried-people?lang=eng\n",
            "Successfully fetched https://www.churchofjesuschrist.org/study/general-conference/1980/04/salt-of-the-earth-savor-of-men-and-saviors-of-men?lang=engSuccessfully fetched https://www.churchofjesuschrist.org/study/general-conference/1980/04/nauvoo-a-demonstration-of-faith?lang=engSuccessfully fetched https://www.churchofjesuschrist.org/study/general-conference/1980/10/follow-joyously?lang=eng\n",
            "\n",
            "\n",
            "Successfully fetched https://www.churchofjesuschrist.org/study/general-conference/1980/04/remarks-and-dedication-of-the-fayette-new-york-buildings?lang=eng\n"
          ]
        },
        {
          "output_type": "stream",
          "name": "stderr",
          "text": [
            "Scraping talks in parallel:  79%|███████▉  | 3269/4112 [05:02<01:07, 12.57it/s]"
          ]
        },
        {
          "output_type": "stream",
          "name": "stdout",
          "text": [
            "Successfully fetched https://www.churchofjesuschrist.org/study/general-conference/1980/04/church-finance-committee-report?lang=eng\n",
            "Successfully fetched https://www.churchofjesuschrist.org/study/general-conference/1980/04/you-can-be-the-voice?lang=eng\n",
            "Successfully fetched https://www.churchofjesuschrist.org/study/general-conference/1980/04/writing-your-personal-and-family-history?lang=eng\n",
            "Successfully fetched https://www.churchofjesuschrist.org/study/general-conference/1980/04/a-marvelous-work-and-a-wonder?lang=eng\n"
          ]
        },
        {
          "output_type": "stream",
          "name": "stderr",
          "text": [
            "Scraping talks in parallel:  80%|███████▉  | 3277/4112 [05:02<00:53, 15.53it/s]"
          ]
        },
        {
          "output_type": "stream",
          "name": "stdout",
          "text": [
            "Successfully fetched https://www.churchofjesuschrist.org/study/general-conference/1980/04/communion-with-the-holy-spirit?lang=eng\n",
            "Successfully fetched https://www.churchofjesuschrist.org/study/general-conference/1980/04/the-coming-tests-and-trials-and-glory?lang=eng\n",
            "Successfully fetched https://www.churchofjesuschrist.org/study/general-conference/1980/04/he-is-not-here-he-is-risen?lang=eng\n",
            "Successfully fetched https://www.churchofjesuschrist.org/study/general-conference/1980/04/teaching-by-the-spirit?lang=eng\n",
            "Successfully fetched https://www.churchofjesuschrist.org/study/general-conference/1980/04/an-example-of-what-welfare-services-can-do?lang=eng\n",
            "Successfully fetched https://www.churchofjesuschrist.org/study/general-conference/1980/04/celestial-marriages-and-eternal-families?lang=eng\n",
            "Successfully fetched https://www.churchofjesuschrist.org/study/general-conference/1980/04/proclamation?lang=eng\n",
            "Successfully fetched https://www.churchofjesuschrist.org/study/general-conference/1980/04/a-tribute-to-the-rank-and-file-of-the-church?lang=eng\n",
            "Successfully fetched https://www.churchofjesuschrist.org/study/general-conference/1980/04/let-us-not-weary-in-well-doing?lang=eng\n",
            "Successfully fetched https://www.churchofjesuschrist.org/study/general-conference/1980/04/welfare-principles-in-relief-society?lang=eng\n",
            "Successfully fetched https://www.churchofjesuschrist.org/study/general-conference/1980/04/preparing-the-way?lang=eng\n",
            "Successfully fetched https://www.churchofjesuschrist.org/study/general-conference/1980/04/do-we-all-believe-in-the-same-god?lang=eng\n",
            "Successfully fetched https://www.churchofjesuschrist.org/study/general-conference/1980/04/eternal-links-that-bind?lang=eng\n",
            "Successfully fetched https://www.churchofjesuschrist.org/study/general-conference/1980/04/statistical-report-1979?lang=eng\n",
            "Successfully fetched https://www.churchofjesuschrist.org/study/general-conference/1980/04/the-prophet-and-the-prison?lang=eng\n"
          ]
        },
        {
          "output_type": "stream",
          "name": "stderr",
          "text": [
            "Scraping talks in parallel:  80%|████████  | 3292/4112 [05:03<00:46, 17.67it/s]"
          ]
        },
        {
          "output_type": "stream",
          "name": "stdout",
          "text": [
            "Successfully fetched https://www.churchofjesuschrist.org/study/general-conference/1980/04/a-deep-commitment-to-the-principles-of-welfare-service?lang=engSuccessfully fetched https://www.churchofjesuschrist.org/study/general-conference/1980/04/where-do-we-stand?lang=eng\n",
            "\n",
            "Successfully fetched https://www.churchofjesuschrist.org/study/general-conference/1980/04/church-welfare-temporal-service-in-a-spiritual-setting?lang=eng\n",
            "Successfully fetched https://www.churchofjesuschrist.org/study/general-conference/1980/04/no-unhallowed-hand-can-stop-the-work?lang=eng\n",
            "Successfully fetched https://www.churchofjesuschrist.org/study/general-conference/1980/04/willing-to-receive?lang=eng\n",
            "Successfully fetched https://www.churchofjesuschrist.org/study/general-conference/1980/04/time-out?lang=eng\n",
            "Successfully fetched https://www.churchofjesuschrist.org/study/general-conference/1980/04/welfare-services-past-present-and-future?lang=eng\n",
            "Successfully fetched https://www.churchofjesuschrist.org/study/general-conference/1980/04/priesthood-councils-key-to-meeting-temporal-and-spiritual-needs?lang=engSuccessfully fetched https://www.churchofjesuschrist.org/study/general-conference/1980/04/the-gospel-restored?lang=eng\n",
            "Successfully fetched https://www.churchofjesuschrist.org/study/general-conference/1980/04/the-sustaining-of-church-officers?lang=eng\n",
            "\n",
            "Successfully fetched https://www.churchofjesuschrist.org/study/general-conference/1979/10/our-sisters-in-the-church?lang=eng\n",
            "Successfully fetched https://www.churchofjesuschrist.org/study/general-conference/1979/10/constancy-amid-change?lang=eng\n",
            "Successfully fetched https://www.churchofjesuschrist.org/study/general-conference/1980/04/saturday-morning-session?lang=eng\n",
            "Successfully fetched https://www.churchofjesuschrist.org/study/general-conference/1979/10/our-mighty-errand?lang=eng\n",
            "Successfully fetched https://www.churchofjesuschrist.org/study/general-conference/1980/04/seek-the-spirit?lang=eng\n",
            "Successfully fetched https://www.churchofjesuschrist.org/study/general-conference/1979/10/making-the-right-decisions?lang=eng\n"
          ]
        },
        {
          "output_type": "stream",
          "name": "stderr",
          "text": [
            "\rScraping talks in parallel:  80%|████████  | 3296/4112 [05:04<01:26,  9.44it/s]"
          ]
        },
        {
          "output_type": "stream",
          "name": "stdout",
          "text": [
            "Successfully fetched https://www.churchofjesuschrist.org/study/general-conference/1979/10/we-will-go-with-our-young-and-with-our-old?lang=eng\n",
            "Successfully fetched https://www.churchofjesuschrist.org/study/general-conference/1979/10/faith-in-the-lord-jesus-christ?lang=eng\n",
            "Successfully fetched https://www.churchofjesuschrist.org/study/general-conference/1979/10/the-role-of-a-bishop-in-the-church-welfare-program?lang=eng\n",
            "Successfully fetched https://www.churchofjesuschrist.org/study/general-conference/1979/10/the-mystery-of-mormonism?lang=eng\n",
            "Successfully fetched https://www.churchofjesuschrist.org/study/general-conference/1979/10/a-witness-and-a-warning?lang=eng\n"
          ]
        },
        {
          "output_type": "stream",
          "name": "stderr",
          "text": [
            "\rScraping talks in parallel:  80%|████████  | 3301/4112 [05:05<01:19, 10.14it/s]"
          ]
        },
        {
          "output_type": "stream",
          "name": "stdout",
          "text": [
            "Successfully fetched https://www.churchofjesuschrist.org/study/general-conference/1979/10/give-me-this-mountain?lang=eng\n"
          ]
        },
        {
          "output_type": "stream",
          "name": "stderr",
          "text": [
            "Scraping talks in parallel:  81%|████████  | 3312/4112 [05:05<00:59, 13.46it/s]"
          ]
        },
        {
          "output_type": "stream",
          "name": "stdout",
          "text": [
            "Successfully fetched https://www.churchofjesuschrist.org/study/general-conference/1979/10/the-gift-of-the-holy-ghost?lang=eng\n",
            "Successfully fetched https://www.churchofjesuschrist.org/study/general-conference/1979/10/joseph-smith-the-prophet?lang=eng\n",
            "Successfully fetched https://www.churchofjesuschrist.org/study/general-conference/1979/10/maintaining-spirituality?lang=eng\n",
            "Successfully fetched https://www.churchofjesuschrist.org/study/general-conference/1979/10/language-a-divine-way-of-communicating?lang=eng\n",
            "Successfully fetched https://www.churchofjesuschrist.org/study/general-conference/1979/10/reading-the-scriptures?lang=eng\n",
            "Successfully fetched https://www.churchofjesuschrist.org/study/general-conference/1979/10/progress-through-change?lang=eng\n",
            "Successfully fetched https://www.churchofjesuschrist.org/study/general-conference/1979/10/the-role-of-righteous-women?lang=eng\n"
          ]
        },
        {
          "output_type": "stream",
          "name": "stderr",
          "text": [
            "\rScraping talks in parallel:  81%|████████  | 3314/4112 [05:06<01:15, 10.62it/s]"
          ]
        },
        {
          "output_type": "stream",
          "name": "stdout",
          "text": [
            "Successfully fetched https://www.churchofjesuschrist.org/study/general-conference/1979/10/priesthood-administration-of-welfare-services?lang=eng\n",
            "Successfully fetched https://www.churchofjesuschrist.org/study/general-conference/1979/10/the-relief-society-role-in-priesthood-councils?lang=eng"
          ]
        },
        {
          "output_type": "stream",
          "name": "stderr",
          "text": [
            "\rScraping talks in parallel:  81%|████████  | 3316/4112 [05:06<01:52,  7.09it/s]"
          ]
        },
        {
          "output_type": "stream",
          "name": "stdout",
          "text": [
            "\n",
            "Successfully fetched https://www.churchofjesuschrist.org/study/general-conference/1979/10/the-voice-of-the-lord-is-unto-all-people?lang=eng\n",
            "Successfully fetched https://www.churchofjesuschrist.org/study/general-conference/1979/10/blessing-the-one?lang=eng\n",
            "Successfully fetched https://www.churchofjesuschrist.org/study/general-conference/1979/10/the-sustaining-of-church-officers?lang=eng\n"
          ]
        },
        {
          "output_type": "stream",
          "name": "stderr",
          "text": [
            "Scraping talks in parallel:  81%|████████  | 3324/4112 [05:07<01:13, 10.75it/s]"
          ]
        },
        {
          "output_type": "stream",
          "name": "stdout",
          "text": [
            "Successfully fetched https://www.churchofjesuschrist.org/study/general-conference/1979/10/o-america-america?lang=engSuccessfully fetched https://www.churchofjesuschrist.org/study/general-conference/1979/10/the-governing-ones?lang=eng\n",
            "\n",
            "Successfully fetched https://www.churchofjesuschrist.org/study/general-conference/1979/10/establishing-the-church-welfare-services-missionaries-are-an-important-resource?lang=eng\n",
            "Successfully fetched https://www.churchofjesuschrist.org/study/general-conference/1979/10/women-for-the-latter-day?lang=eng\n",
            "Successfully fetched https://www.churchofjesuschrist.org/study/general-conference/1979/10/send-missionaries-from-every-nation?lang=eng\n",
            "Successfully fetched https://www.churchofjesuschrist.org/study/general-conference/1979/10/the-contributions-of-the-prophet-joseph-smith?lang=eng\n",
            "Successfully fetched https://www.churchofjesuschrist.org/study/general-conference/1979/10/saturday-morning-session?lang=eng\n",
            "Successfully fetched https://www.churchofjesuschrist.org/study/general-conference/1979/10/an-angel-from-on-high-the-long-long-silence-broke?lang=eng\n",
            "Successfully fetched https://www.churchofjesuschrist.org/study/general-conference/1979/10/prayers-and-answers?lang=eng\n"
          ]
        },
        {
          "output_type": "stream",
          "name": "stderr",
          "text": [
            "Scraping talks in parallel:  81%|████████  | 3335/4112 [05:08<01:03, 12.31it/s]"
          ]
        },
        {
          "output_type": "stream",
          "name": "stdout",
          "text": [
            "Successfully fetched https://www.churchofjesuschrist.org/study/general-conference/1979/10/prayer-to-our-heavenly-father?lang=eng\n",
            "Successfully fetched https://www.churchofjesuschrist.org/study/general-conference/1979/10/commandments-to-live-by?lang=eng\n",
            "Successfully fetched https://www.churchofjesuschrist.org/study/general-conference/1979/10/the-administration-of-the-church?lang=eng\n",
            "Successfully fetched https://www.churchofjesuschrist.org/study/general-conference/1979/10/happiness-now-and-forever?lang=eng\n",
            "Successfully fetched https://www.churchofjesuschrist.org/study/general-conference/1979/04/church-government-through-councils?lang=eng\n",
            "Successfully fetched https://www.churchofjesuschrist.org/study/general-conference/1979/10/therefore-i-was-taught?lang=eng\n",
            "Successfully fetched https://www.churchofjesuschrist.org/study/general-conference/1979/10/we-need-a-listening-ear?lang=eng\n"
          ]
        },
        {
          "output_type": "stream",
          "name": "stderr",
          "text": [
            "\rScraping talks in parallel:  81%|████████  | 3338/4112 [05:09<01:30,  8.52it/s]"
          ]
        },
        {
          "output_type": "stream",
          "name": "stdout",
          "text": [
            "Successfully fetched https://www.churchofjesuschrist.org/study/general-conference/1979/10/pornography-the-deadly-carrier?lang=eng\n",
            "Successfully fetched https://www.churchofjesuschrist.org/study/general-conference/1979/04/to-those-searching-for-happiness?lang=eng\n",
            "Successfully fetched https://www.churchofjesuschrist.org/study/general-conference/1979/04/the-home-as-an-educational-institution?lang=eng\n",
            "Successfully fetched https://www.churchofjesuschrist.org/study/general-conference/1979/10/after-much-tribulation-come-the-blessings?lang=eng\n",
            "Successfully fetched https://www.churchofjesuschrist.org/study/general-conference/1979/04/and-peter-went-out-and-wept-bitterly?lang=eng\n",
            "Successfully fetched https://www.churchofjesuschrist.org/study/general-conference/1979/10/teaching-our-little-women?lang=eng\n",
            "Successfully fetched https://www.churchofjesuschrist.org/study/general-conference/1979/04/we-the-church-of-jesus-christ-of-latter-day-saints?lang=eng\n"
          ]
        },
        {
          "output_type": "stream",
          "name": "stderr",
          "text": [
            "Scraping talks in parallel:  81%|████████▏ | 3347/4112 [05:09<01:00, 12.58it/s]"
          ]
        },
        {
          "output_type": "stream",
          "name": "stdout",
          "text": [
            "Successfully fetched https://www.churchofjesuschrist.org/study/general-conference/1979/04/he-means-me?lang=eng\n",
            "Successfully fetched https://www.churchofjesuschrist.org/study/general-conference/1979/04/preparing-for-service-in-the-church?lang=eng\n",
            "Successfully fetched https://www.churchofjesuschrist.org/study/general-conference/1979/04/put-on-the-whole-armor-of-god?lang=eng\n"
          ]
        },
        {
          "output_type": "stream",
          "name": "stderr",
          "text": [
            "\rScraping talks in parallel:  81%|████████▏ | 3350/4112 [05:09<01:00, 12.65it/s]"
          ]
        },
        {
          "output_type": "stream",
          "name": "stdout",
          "text": [
            "Successfully fetched https://www.churchofjesuschrist.org/study/general-conference/1979/04/statistical-report-1978?lang=eng\n",
            "Successfully fetched https://www.churchofjesuschrist.org/study/general-conference/1979/04/the-kingdom-of-god?lang=eng\n",
            "Successfully fetched https://www.churchofjesuschrist.org/study/general-conference/1979/04/a-personal-commitment?lang=eng\n",
            "Successfully fetched https://www.churchofjesuschrist.org/study/general-conference/1979/04/roadblocks-to-progress?lang=eng\n",
            "Successfully fetched https://www.churchofjesuschrist.org/study/general-conference/1979/04/signs-of-the-true-church?lang=eng\n",
            "Successfully fetched https://www.churchofjesuschrist.org/study/general-conference/1979/04/applying-the-principles-of-welfare-services?lang=eng\n",
            "Successfully fetched https://www.churchofjesuschrist.org/study/general-conference/1979/04/personal-and-family-financial-preparedness?lang=eng\n"
          ]
        },
        {
          "output_type": "stream",
          "name": "stderr",
          "text": [
            "\rScraping talks in parallel:  82%|████████▏ | 3352/4112 [05:10<01:28,  8.61it/s]"
          ]
        },
        {
          "output_type": "stream",
          "name": "stdout",
          "text": [
            "Successfully fetched https://www.churchofjesuschrist.org/study/general-conference/1979/04/this-is-a-day-of-sacrifice?lang=eng\n",
            "Successfully fetched https://www.churchofjesuschrist.org/study/general-conference/1979/04/following-christ-to-victory?lang=eng\n",
            "Successfully fetched https://www.churchofjesuschrist.org/study/general-conference/1979/04/the-need-for-love?lang=eng\n",
            "Successfully fetched https://www.churchofjesuschrist.org/study/general-conference/1979/04/judge-not-according-to-the-appearance?lang=eng\n",
            "Successfully fetched https://www.churchofjesuschrist.org/study/general-conference/1979/04/new-emphasis-on-church-councils?lang=eng\n"
          ]
        },
        {
          "output_type": "stream",
          "name": "stderr",
          "text": [
            "\rScraping talks in parallel:  82%|████████▏ | 3356/4112 [05:10<01:27,  8.66it/s]"
          ]
        },
        {
          "output_type": "stream",
          "name": "stdout",
          "text": [
            "Successfully fetched https://www.churchofjesuschrist.org/study/general-conference/1979/04/church-finance-committee-report?lang=eng\n",
            "Successfully fetched https://www.churchofjesuschrist.org/study/general-conference/1979/04/the-sustaining-of-church-officers?lang=eng\n",
            "Successfully fetched https://www.churchofjesuschrist.org/study/general-conference/1979/04/because-i-have-a-father?lang=eng\n",
            "Successfully fetched https://www.churchofjesuschrist.org/study/general-conference/1979/04/developing-temporal-plans-and-priorities?lang=eng\n",
            "Successfully fetched https://www.churchofjesuschrist.org/study/general-conference/1979/04/the-heritage-of-royal-families?lang=eng\n",
            "Successfully fetched https://www.churchofjesuschrist.org/study/general-conference/1979/04/fortify-your-homes-against-evil?lang=eng\n",
            "Successfully fetched https://www.churchofjesuschrist.org/study/general-conference/1979/04/trust-in-the-lord?lang=eng\n",
            "Successfully fetched https://www.churchofjesuschrist.org/study/general-conference/1979/04/stand-independent-above-all-other-creatures?lang=eng\n"
          ]
        },
        {
          "output_type": "stream",
          "name": "stderr",
          "text": [
            "\rScraping talks in parallel:  82%|████████▏ | 3361/4112 [05:11<01:15,  9.92it/s]"
          ]
        },
        {
          "output_type": "stream",
          "name": "stdout",
          "text": [
            "Successfully fetched https://www.churchofjesuschrist.org/study/general-conference/1979/04/the-refiners-fire?lang=eng\n",
            "Successfully fetched https://www.churchofjesuschrist.org/study/general-conference/1979/04/developing-spirituality?lang=eng\n"
          ]
        },
        {
          "output_type": "stream",
          "name": "stderr",
          "text": [
            "\rScraping talks in parallel:  82%|████████▏ | 3367/4112 [05:11<01:05, 11.37it/s]"
          ]
        },
        {
          "output_type": "stream",
          "name": "stdout",
          "text": [
            "Successfully fetched https://www.churchofjesuschrist.org/study/general-conference/1979/04/fundamental-welfare-services?lang=eng\n",
            "Successfully fetched https://www.churchofjesuschrist.org/study/general-conference/1979/04/feed-my-sheep?lang=eng\n",
            "Successfully fetched https://www.churchofjesuschrist.org/study/general-conference/1979/04/let-us-move-forward-and-upward?lang=eng\n",
            "Successfully fetched https://www.churchofjesuschrist.org/study/general-conference/1979/04/saturday-morning-session?lang=eng\n",
            "Successfully fetched https://www.churchofjesuschrist.org/study/general-conference/1978/10/privileges-and-responsibilities-of-sisters?lang=eng\n"
          ]
        },
        {
          "output_type": "stream",
          "name": "stderr",
          "text": [
            "\rScraping talks in parallel:  82%|████████▏ | 3369/4112 [05:11<01:03, 11.65it/s]"
          ]
        },
        {
          "output_type": "stream",
          "name": "stdout",
          "text": [
            "Successfully fetched https://www.churchofjesuschrist.org/study/general-conference/1979/04/the-army-of-the-lord?lang=eng\n",
            "Successfully fetched https://www.churchofjesuschrist.org/study/general-conference/1978/10/behold-your-little-ones?lang=eng\n",
            "Successfully fetched https://www.churchofjesuschrist.org/study/general-conference/1978/10/thou-shalt-receive-revelation?lang=eng\n",
            "Successfully fetched https://www.churchofjesuschrist.org/study/general-conference/1978/10/good-health-a-key-to-joyous-living?lang=eng\n",
            "Successfully fetched https://www.churchofjesuschrist.org/study/general-conference/1979/04/the-spirit-giveth-life?lang=eng\n",
            "Successfully fetched https://www.churchofjesuschrist.org/study/general-conference/1978/10/fundamental-principles-to-ponder-and-live?lang=eng\n",
            "Successfully fetched https://www.churchofjesuschrist.org/study/general-conference/1978/10/what-are-the-blessings-of-a-mission-can-ye-tell?lang=eng\n",
            "Successfully fetched https://www.churchofjesuschrist.org/study/general-conference/1979/04/what-think-ye-of-christ-whom-say-ye-that-i-am?lang=engSuccessfully fetched https://www.churchofjesuschrist.org/study/general-conference/1978/10/the-remarkable-example-of-the-bermejillo-mexico-branch?lang=eng\n",
            "\n"
          ]
        },
        {
          "output_type": "stream",
          "name": "stderr",
          "text": [
            "\rScraping talks in parallel:  82%|████████▏ | 3378/4112 [05:12<01:00, 12.05it/s]"
          ]
        },
        {
          "output_type": "stream",
          "name": "stdout",
          "text": [
            "Successfully fetched https://www.churchofjesuschrist.org/study/general-conference/1978/10/womens-greatest-challenge?lang=eng\n",
            "Successfully fetched https://www.churchofjesuschrist.org/study/general-conference/1978/10/the-relief-society?lang=eng\n"
          ]
        },
        {
          "output_type": "stream",
          "name": "stderr",
          "text": [
            "\rScraping talks in parallel:  82%|████████▏ | 3380/4112 [05:12<01:01, 11.87it/s]"
          ]
        },
        {
          "output_type": "stream",
          "name": "stdout",
          "text": [
            "Successfully fetched https://www.churchofjesuschrist.org/study/general-conference/1978/10/come-home-felila?lang=eng\n",
            "Successfully fetched https://www.churchofjesuschrist.org/study/general-conference/1978/10/spiritual-development?lang=eng\n",
            "Successfully fetched https://www.churchofjesuschrist.org/study/general-conference/1978/10/come-listen-to-a-prophets-voice?lang=eng\n",
            "Successfully fetched https://www.churchofjesuschrist.org/study/general-conference/1978/10/an-eternal-hope-in-christ?lang=eng\n",
            "Successfully fetched https://www.churchofjesuschrist.org/study/general-conference/1978/10/the-stake-presidents-role-in-welfare-services?lang=eng\n",
            "Successfully fetched https://www.churchofjesuschrist.org/study/general-conference/1978/10/home-teaching-a-sacred-calling?lang=eng\n",
            "Successfully fetched https://www.churchofjesuschrist.org/study/general-conference/1978/10/the-gift-of-love?lang=eng\n",
            "Successfully fetched https://www.churchofjesuschrist.org/study/general-conference/1978/10/the-joy-of-serving-a-mission?lang=eng\n",
            "Successfully fetched https://www.churchofjesuschrist.org/study/general-conference/1978/10/saturday-morning-session?lang=eng\n",
            "Successfully fetched https://www.churchofjesuschrist.org/study/general-conference/1978/10/the-blessing-of-church-interviews?lang=eng\n",
            "Successfully fetched https://www.churchofjesuschrist.org/study/general-conference/1978/10/the-worth-of-souls?lang=eng\n",
            "Successfully fetched https://www.churchofjesuschrist.org/study/general-conference/1978/10/revelation-on-priesthood-accepted-church-officers-sustained?lang=eng\n",
            "Successfully fetched https://www.churchofjesuschrist.org/study/general-conference/1978/10/never-be-weary-of-good-works?lang=eng\n",
            "Successfully fetched https://www.churchofjesuschrist.org/study/general-conference/1978/10/look-to-god-and-live?lang=engSuccessfully fetched https://www.churchofjesuschrist.org/study/general-conference/1978/10/the-gospel-makes-people-happy?lang=eng\n",
            "\n",
            "Successfully fetched https://www.churchofjesuschrist.org/study/general-conference/1978/10/true-religion?lang=eng\n",
            "Successfully fetched https://www.churchofjesuschrist.org/study/general-conference/1978/10/a-basis-for-faith-in-the-living-god?lang=eng\n",
            "Successfully fetched https://www.churchofjesuschrist.org/study/general-conference/1978/10/worthy-of-all-acceptation?lang=eng\n",
            "Successfully fetched https://www.churchofjesuschrist.org/study/general-conference/1978/10/response-to-the-call?lang=eng\n",
            "Successfully fetched https://www.churchofjesuschrist.org/study/general-conference/1978/10/successful-welfare-stewardship?lang=eng\n",
            "Successfully fetched https://www.churchofjesuschrist.org/study/general-conference/1978/10/ours-is-a-shared-ancestry?lang=eng\n",
            "Successfully fetched https://www.churchofjesuschrist.org/study/general-conference/1978/10/who-will-forfeit-the-harvest?lang=eng\n",
            "Successfully fetched https://www.churchofjesuschrist.org/study/general-conference/1978/10/a-disciple-of-christ?lang=eng\n",
            "Successfully fetched https://www.churchofjesuschrist.org/study/general-conference/1978/10/attending-to-personal-and-family-preparedness?lang=eng\n"
          ]
        },
        {
          "output_type": "stream",
          "name": "stderr",
          "text": [
            "Scraping talks in parallel:  83%|████████▎ | 3412/4112 [05:15<00:41, 16.69it/s]"
          ]
        },
        {
          "output_type": "stream",
          "name": "stdout",
          "text": [
            "Successfully fetched https://www.churchofjesuschrist.org/study/general-conference/1978/10/be-one-with-the-prophet?lang=eng\n",
            "Successfully fetched https://www.churchofjesuschrist.org/study/general-conference/1978/10/let-there-be-no-misunderstanding?lang=eng\n",
            "Successfully fetched https://www.churchofjesuschrist.org/study/general-conference/1978/10/profiles-of-faith?lang=eng\n",
            "Successfully fetched https://www.churchofjesuschrist.org/study/general-conference/1978/10/the-last-words-of-moroni?lang=eng\n",
            "Successfully fetched https://www.churchofjesuschrist.org/study/general-conference/1978/10/he-hath-showed-thee-o-man-what-is-good?lang=eng\n",
            "Successfully fetched https://www.churchofjesuschrist.org/study/general-conference/1978/10/faith-courage-and-making-choices?lang=eng\n",
            "Successfully fetched https://www.churchofjesuschrist.org/study/general-conference/1978/10/the-cs-of-spirituality?lang=eng\n",
            "Successfully fetched https://www.churchofjesuschrist.org/study/general-conference/1978/10/the-fruit-of-our-welfare-services-labors?lang=eng\n",
            "Successfully fetched https://www.churchofjesuschrist.org/study/general-conference/1978/10/hold-fast-to-the-iron-rod?lang=eng\n",
            "Successfully fetched https://www.churchofjesuschrist.org/study/general-conference/1978/10/let-your-light-so-shine?lang=eng\n",
            "Successfully fetched https://www.churchofjesuschrist.org/study/general-conference/1978/04/what-is-truth?lang=eng\n"
          ]
        },
        {
          "output_type": "stream",
          "name": "stderr",
          "text": [
            "\rScraping talks in parallel:  83%|████████▎ | 3419/4112 [05:15<00:47, 14.52it/s]"
          ]
        },
        {
          "output_type": "stream",
          "name": "stdout",
          "text": [
            "Successfully fetched https://www.churchofjesuschrist.org/study/general-conference/1978/10/caring-for-the-poor-a-covenantal-obligation?lang=eng\n"
          ]
        },
        {
          "output_type": "stream",
          "name": "stderr",
          "text": [
            "\rScraping talks in parallel:  83%|████████▎ | 3424/4112 [05:15<00:42, 16.01it/s]"
          ]
        },
        {
          "output_type": "stream",
          "name": "stdout",
          "text": [
            "Successfully fetched https://www.churchofjesuschrist.org/study/general-conference/1978/10/if-we-want-to-go-up-we-have-to-get-on?lang=eng\n",
            "Successfully fetched https://www.churchofjesuschrist.org/study/general-conference/1978/04/in-the-time-of-old-age?lang=eng\n",
            "Successfully fetched https://www.churchofjesuschrist.org/study/general-conference/1978/04/priesthood-responsibilities?lang=eng\n",
            "Successfully fetched https://www.churchofjesuschrist.org/study/general-conference/1978/04/strengthening-the-family-the-basic-unit-of-the-church?lang=eng\n",
            "Successfully fetched https://www.churchofjesuschrist.org/study/general-conference/1978/04/evidence-of-things-not-seen?lang=eng\n",
            "Successfully fetched https://www.churchofjesuschrist.org/study/general-conference/1978/04/trust-in-the-lord?lang=eng\n",
            "Successfully fetched https://www.churchofjesuschrist.org/study/general-conference/1978/04/making-your-marriage-successful?lang=eng\n"
          ]
        },
        {
          "output_type": "stream",
          "name": "stderr",
          "text": [
            "Scraping talks in parallel:  83%|████████▎ | 3433/4112 [05:16<00:40, 16.78it/s]"
          ]
        },
        {
          "output_type": "stream",
          "name": "stdout",
          "text": [
            "Successfully fetched https://www.churchofjesuschrist.org/study/general-conference/1978/04/a-haven-of-love?lang=eng\n",
            "Successfully fetched https://www.churchofjesuschrist.org/study/general-conference/1978/04/decision?lang=engSuccessfully fetched https://www.churchofjesuschrist.org/study/general-conference/1978/04/prayer-and-revelation?lang=eng\n",
            "\n",
            "Successfully fetched https://www.churchofjesuschrist.org/study/general-conference/1978/04/church-finance-committee-report?lang=eng\n",
            "Successfully fetched https://www.churchofjesuschrist.org/study/general-conference/1978/04/the-second-coming-of-christ?lang=eng\n",
            "Successfully fetched https://www.churchofjesuschrist.org/study/general-conference/1978/04/grieve-not-the-holy-spirit-lest-we-lose-it?lang=eng\n",
            "Successfully fetched https://www.churchofjesuschrist.org/study/general-conference/1978/04/bind-on-thy-sandals?lang=eng\n",
            "Successfully fetched https://www.churchofjesuschrist.org/study/general-conference/1978/04/welfare-services-begins-with-you?lang=eng\n",
            "Successfully fetched https://www.churchofjesuschrist.org/study/general-conference/1978/04/i-did-not-reach-this-place-by-myself?lang=engSuccessfully fetched https://www.churchofjesuschrist.org/study/general-conference/1978/04/the-storehouse-resource-system?lang=eng\n",
            "\n"
          ]
        },
        {
          "output_type": "stream",
          "name": "stderr",
          "text": [
            "\rScraping talks in parallel:  84%|████████▎ | 3437/4112 [05:17<01:00, 11.17it/s]"
          ]
        },
        {
          "output_type": "stream",
          "name": "stdout",
          "text": [
            "Successfully fetched https://www.churchofjesuschrist.org/study/general-conference/1978/04/becoming-the-pure-in-heart?lang=eng\n",
            "Successfully fetched https://www.churchofjesuschrist.org/study/general-conference/1978/04/not-my-will-but-thine?lang=eng\n",
            "Successfully fetched https://www.churchofjesuschrist.org/study/general-conference/1978/04/staying-unspotted-from-the-world?lang=eng\n",
            "Successfully fetched https://www.churchofjesuschrist.org/study/general-conference/1978/04/everything-dear?lang=eng\n"
          ]
        },
        {
          "output_type": "stream",
          "name": "stderr",
          "text": [
            "\rScraping talks in parallel:  84%|████████▎ | 3442/4112 [05:17<00:56, 11.80it/s]"
          ]
        },
        {
          "output_type": "stream",
          "name": "stdout",
          "text": [
            "Successfully fetched https://www.churchofjesuschrist.org/study/general-conference/1978/04/may-the-kingdom-of-god-go-forth?lang=eng\n",
            "Successfully fetched https://www.churchofjesuschrist.org/study/general-conference/1978/04/the-prayer-of-faith?lang=eng\n",
            "Successfully fetched https://www.churchofjesuschrist.org/study/general-conference/1978/04/the-poetry-of-success?lang=eng\n",
            "Successfully fetched https://www.churchofjesuschrist.org/study/general-conference/1978/04/saturday-morning-session?lang=eng\n"
          ]
        },
        {
          "output_type": "stream",
          "name": "stderr",
          "text": [
            "\rScraping talks in parallel:  84%|████████▍ | 3445/4112 [05:17<00:53, 12.58it/s]"
          ]
        },
        {
          "output_type": "stream",
          "name": "stdout",
          "text": [
            "Successfully fetched https://www.churchofjesuschrist.org/study/general-conference/1978/04/seek-out-your-spiritual-leader?lang=eng\n",
            "Successfully fetched https://www.churchofjesuschrist.org/study/general-conference/1978/04/be-not-faithless?lang=eng\n",
            "Successfully fetched https://www.churchofjesuschrist.org/study/general-conference/1978/04/what-would-the-savior-have-me-do?lang=eng\n",
            "Successfully fetched https://www.churchofjesuschrist.org/study/general-conference/1978/04/the-morning-breaks-the-shadows-flee?lang=eng\n",
            "Successfully fetched https://www.churchofjesuschrist.org/study/general-conference/1978/04/ye-shall-know-the-truth?lang=eng\n",
            "Successfully fetched https://www.churchofjesuschrist.org/study/general-conference/1978/04/being-anxiously-engaged?lang=eng\n",
            "Successfully fetched https://www.churchofjesuschrist.org/study/general-conference/1978/04/solving-emotional-problems-in-the-lords-own-way?lang=eng\n",
            "Successfully fetched https://www.churchofjesuschrist.org/study/general-conference/1978/04/the-royal-law-of-love?lang=eng\n",
            "Successfully fetched https://www.churchofjesuschrist.org/study/general-conference/1978/04/response-to-the-call?lang=eng\n",
            "Successfully fetched https://www.churchofjesuschrist.org/study/general-conference/1978/04/listen-to-the-prophets?lang=eng\n"
          ]
        },
        {
          "output_type": "stream",
          "name": "stderr",
          "text": [
            "Scraping talks in parallel:  84%|████████▍ | 3453/4112 [05:18<01:03, 10.35it/s]"
          ]
        },
        {
          "output_type": "stream",
          "name": "stdout",
          "text": [
            "Successfully fetched https://www.churchofjesuschrist.org/study/general-conference/1978/04/the-true-way-of-life-and-salvation?lang=eng\n",
            "Successfully fetched https://www.churchofjesuschrist.org/study/general-conference/1978/04/worthy-of-proper-recommendation?lang=eng\n",
            "Successfully fetched https://www.churchofjesuschrist.org/study/general-conference/1978/04/the-women-of-god?lang=eng\n"
          ]
        },
        {
          "output_type": "stream",
          "name": "stderr",
          "text": [
            "\rScraping talks in parallel:  84%|████████▍ | 3455/4112 [05:20<02:03,  5.32it/s]"
          ]
        },
        {
          "output_type": "stream",
          "name": "stdout",
          "text": [
            "Successfully fetched https://www.churchofjesuschrist.org/study/general-conference/1978/04/statistical-report-1977?lang=eng\n",
            "Successfully fetched https://www.churchofjesuschrist.org/study/general-conference/1978/04/we-are-his-stewards?lang=eng\n",
            "Successfully fetched https://www.churchofjesuschrist.org/study/general-conference/1978/04/revelation?lang=eng\n"
          ]
        },
        {
          "output_type": "stream",
          "name": "stderr",
          "text": [
            "\rScraping talks in parallel:  84%|████████▍ | 3465/4112 [05:20<01:02, 10.41it/s]"
          ]
        },
        {
          "output_type": "stream",
          "name": "stdout",
          "text": [
            "Successfully fetched https://www.churchofjesuschrist.org/study/general-conference/1978/04/the-sustaining-of-church-officers?lang=eng\n",
            "Successfully fetched https://www.churchofjesuschrist.org/study/general-conference/1978/04/no-time-for-contention?lang=eng\n",
            "Successfully fetched https://www.churchofjesuschrist.org/study/general-conference/1977/10/a-special-moment-in-church-history?lang=eng\n",
            "Successfully fetched https://www.churchofjesuschrist.org/study/general-conference/1977/10/welfare-services-the-gospel-in-action?lang=eng\n",
            "Successfully fetched https://www.churchofjesuschrist.org/study/general-conference/1977/10/the-power-of-forgiveness?lang=eng\n",
            "Successfully fetched https://www.churchofjesuschrist.org/study/general-conference/1977/10/hallowed-be-thy-name?lang=eng\n",
            "Successfully fetched https://www.churchofjesuschrist.org/study/general-conference/1977/10/obeying-the-right-voice?lang=eng\n",
            "Successfully fetched https://www.churchofjesuschrist.org/study/general-conference/1977/10/they-didn-t-give-up?lang=eng\n"
          ]
        },
        {
          "output_type": "stream",
          "name": "stderr",
          "text": [
            "\rScraping talks in parallel:  84%|████████▍ | 3468/4112 [05:20<01:13,  8.77it/s]"
          ]
        },
        {
          "output_type": "stream",
          "name": "stdout",
          "text": [
            "Successfully fetched https://www.churchofjesuschrist.org/study/general-conference/1977/10/the-balm-of-gilead?lang=eng\n",
            "Successfully fetched https://www.churchofjesuschrist.org/study/general-conference/1978/04/the-primary-enriches-the-lives-of-children?lang=eng\n"
          ]
        },
        {
          "output_type": "stream",
          "name": "stderr",
          "text": [
            "\rScraping talks in parallel:  84%|████████▍ | 3470/4112 [05:21<01:29,  7.14it/s]"
          ]
        },
        {
          "output_type": "stream",
          "name": "stdout",
          "text": [
            "Successfully fetched https://www.churchofjesuschrist.org/study/general-conference/1977/10/young-women-real-guardians?lang=eng\n",
            "Successfully fetched https://www.churchofjesuschrist.org/study/general-conference/1977/10/the-ten-blessings-of-the-priesthood?lang=eng\n",
            "Successfully fetched https://www.churchofjesuschrist.org/study/general-conference/1977/10/a-message-to-the-rising-generation?lang=eng\n",
            "Successfully fetched https://www.churchofjesuschrist.org/study/general-conference/1977/10/trust-in-the-lord?lang=eng\n",
            "Successfully fetched https://www.churchofjesuschrist.org/study/general-conference/1977/10/letter-to-a-returned-missionary?lang=eng\n"
          ]
        },
        {
          "output_type": "stream",
          "name": "stderr",
          "text": [
            "\rScraping talks in parallel:  85%|████████▍ | 3477/4112 [05:21<01:02, 10.12it/s]"
          ]
        },
        {
          "output_type": "stream",
          "name": "stdout",
          "text": [
            "Successfully fetched https://www.churchofjesuschrist.org/study/general-conference/1977/10/service-saves?lang=eng\n",
            "Successfully fetched https://www.churchofjesuschrist.org/study/general-conference/1977/10/the-fathers-duty-to-foster-the-welfare-of-his-family?lang=eng\n",
            "Successfully fetched https://www.churchofjesuschrist.org/study/general-conference/1977/10/father-your-role-your-responsibility?lang=engSuccessfully fetched https://www.churchofjesuschrist.org/study/general-conference/1977/10/the-foundations-of-righteousness?lang=eng\n",
            "\n"
          ]
        },
        {
          "output_type": "stream",
          "name": "stderr",
          "text": [
            "\rScraping talks in parallel:  85%|████████▍ | 3479/4112 [05:22<01:14,  8.46it/s]"
          ]
        },
        {
          "output_type": "stream",
          "name": "stdout",
          "text": [
            "Successfully fetched https://www.churchofjesuschrist.org/study/general-conference/1977/10/the-safety-of-the-gospel-law?lang=eng\n",
            "Successfully fetched https://www.churchofjesuschrist.org/study/general-conference/1977/10/latter-day-samaritans?lang=eng\n",
            "Successfully fetched https://www.churchofjesuschrist.org/study/general-conference/1977/10/the-light-of-the-gospel?lang=eng\n",
            "Successfully fetched https://www.churchofjesuschrist.org/study/general-conference/1977/10/seeing-the-five-a-s?lang=eng\n"
          ]
        },
        {
          "output_type": "stream",
          "name": "stderr",
          "text": [
            "\rScraping talks in parallel:  85%|████████▍ | 3487/4112 [05:22<00:50, 12.35it/s]"
          ]
        },
        {
          "output_type": "stream",
          "name": "stdout",
          "text": [
            "Successfully fetched https://www.churchofjesuschrist.org/study/general-conference/1977/10/sacrifice-missionary-style?lang=eng\n",
            "Successfully fetched https://www.churchofjesuschrist.org/study/general-conference/1977/10/the-tragic-cycle?lang=eng\n",
            "Successfully fetched https://www.churchofjesuschrist.org/study/general-conference/1977/10/why-me-o-lord?lang=eng\n",
            "Successfully fetched https://www.churchofjesuschrist.org/study/general-conference/1977/10/the-blessings-of-righteous-obedience?lang=eng\n"
          ]
        },
        {
          "output_type": "stream",
          "name": "stderr",
          "text": [
            "\rScraping talks in parallel:  85%|████████▍ | 3489/4112 [05:22<00:57, 10.82it/s]"
          ]
        },
        {
          "output_type": "stream",
          "name": "stdout",
          "text": [
            "Successfully fetched https://www.churchofjesuschrist.org/study/general-conference/1977/10/we-have-been-there-all-the-time?lang=eng\n",
            "Successfully fetched https://www.churchofjesuschrist.org/study/general-conference/1977/10/a-vision-of-the-law-of-the-fast?lang=eng\n"
          ]
        },
        {
          "output_type": "stream",
          "name": "stderr",
          "text": [
            "\rScraping talks in parallel:  85%|████████▍ | 3493/4112 [05:23<01:00, 10.28it/s]"
          ]
        },
        {
          "output_type": "stream",
          "name": "stdout",
          "text": [
            "Successfully fetched https://www.churchofjesuschrist.org/study/general-conference/1977/10/she-stretcheth-out-her-hand-to-the-poor?lang=eng\n",
            "Successfully fetched https://www.churchofjesuschrist.org/study/general-conference/1977/10/rated-a?lang=eng\n",
            "Successfully fetched https://www.churchofjesuschrist.org/study/general-conference/1977/10/the-role-of-bishops-in-welfare-services?lang=eng\n",
            "Successfully fetched https://www.churchofjesuschrist.org/study/general-conference/1977/10/it-was-a-miracle?lang=eng\n",
            "Successfully fetched https://www.churchofjesuschrist.org/study/general-conference/1977/10/the-things-of-god-and-man?lang=eng\n"
          ]
        },
        {
          "output_type": "stream",
          "name": "stderr",
          "text": [
            "\rScraping talks in parallel:  85%|████████▌ | 3496/4112 [05:23<00:56, 10.91it/s]"
          ]
        },
        {
          "output_type": "stream",
          "name": "stdout",
          "text": [
            "Successfully fetched https://www.churchofjesuschrist.org/study/general-conference/1977/10/saturday-morning-session?lang=eng\n",
            "Successfully fetched https://www.churchofjesuschrist.org/study/general-conference/1977/10/the-enriching-of-marriage?lang=eng\n",
            "Successfully fetched https://www.churchofjesuschrist.org/study/general-conference/1977/10/jesus-the-christ?lang=eng\n",
            "Successfully fetched https://www.churchofjesuschrist.org/study/general-conference/1977/10/welfare-responsibilities-of-the-priesthood-quorums?lang=eng\n",
            "Successfully fetched https://www.churchofjesuschrist.org/study/general-conference/1977/04/what-constitutes-the-true-church?lang=eng\n",
            "Successfully fetched https://www.churchofjesuschrist.org/study/general-conference/1977/04/your-jericho-road?lang=eng\n",
            "Successfully fetched https://www.churchofjesuschrist.org/study/general-conference/1977/04/integrity?lang=eng\n",
            "Successfully fetched https://www.churchofjesuschrist.org/study/general-conference/1977/10/three-things-to-share?lang=eng\n",
            "Successfully fetched https://www.churchofjesuschrist.org/study/general-conference/1977/04/thoughts-on-the-sacrament?lang=eng\n"
          ]
        },
        {
          "output_type": "stream",
          "name": "stderr",
          "text": [
            "\rScraping talks in parallel:  85%|████████▌ | 3500/4112 [05:24<01:12,  8.45it/s]"
          ]
        },
        {
          "output_type": "stream",
          "name": "stdout",
          "text": [
            "Successfully fetched https://www.churchofjesuschrist.org/study/general-conference/1977/10/the-way-of-the-lord?lang=eng\n",
            "Successfully fetched https://www.churchofjesuschrist.org/study/general-conference/1977/04/follow-the-living-prophet?lang=eng\n",
            "Successfully fetched https://www.churchofjesuschrist.org/study/general-conference/1977/04/do-unto-others?lang=eng\n",
            "Successfully fetched https://www.churchofjesuschrist.org/study/general-conference/1977/04/neither-cryptic-nor-hidden?lang=eng\n",
            "Successfully fetched https://www.churchofjesuschrist.org/study/general-conference/1977/10/the-sustaining-of-church-officers?lang=eng\n"
          ]
        },
        {
          "output_type": "stream",
          "name": "stderr",
          "text": [
            "\rScraping talks in parallel:  85%|████████▌ | 3506/4112 [05:24<00:58, 10.31it/s]"
          ]
        },
        {
          "output_type": "stream",
          "name": "stdout",
          "text": [
            "Successfully fetched https://www.churchofjesuschrist.org/study/general-conference/1977/04/the-light-of-christ?lang=eng\n",
            "Successfully fetched https://www.churchofjesuschrist.org/study/general-conference/1977/04/the-validity-of-the-gospel?lang=eng\n",
            "Successfully fetched https://www.churchofjesuschrist.org/study/general-conference/1977/04/the-mediator?lang=eng\n",
            "Successfully fetched https://www.churchofjesuschrist.org/study/general-conference/1977/04/ministering-to-needs-through-the-lords-storehouse-system?lang=eng\n",
            "Successfully fetched https://www.churchofjesuschrist.org/study/general-conference/1977/04/joseph-the-seer?lang=eng\n",
            "Successfully fetched https://www.churchofjesuschrist.org/study/general-conference/1977/04/lengthening-your-stride-as-a-missionary?lang=eng\n",
            "Successfully fetched https://www.churchofjesuschrist.org/study/general-conference/1977/04/saturday-morning-session?lang=eng\n"
          ]
        },
        {
          "output_type": "stream",
          "name": "stderr",
          "text": [
            "\rScraping talks in parallel:  85%|████████▌ | 3515/4112 [05:25<00:47, 12.57it/s]"
          ]
        },
        {
          "output_type": "stream",
          "name": "stdout",
          "text": [
            "Successfully fetched https://www.churchofjesuschrist.org/study/general-conference/1977/04/presentation-of-scouting-award?lang=eng\n",
            "Successfully fetched https://www.churchofjesuschrist.org/study/general-conference/1977/04/church-finance-committee-report?lang=eng\n",
            "Successfully fetched https://www.churchofjesuschrist.org/study/general-conference/1977/04/we-beheld-his-glory?lang=eng\n",
            "Successfully fetched https://www.churchofjesuschrist.org/study/general-conference/1977/04/gratitude?lang=eng\n",
            "Successfully fetched https://www.churchofjesuschrist.org/study/general-conference/1977/04/revelation-the-word-of-the-lord-to-his-prophets?lang=eng\n",
            "Successfully fetched https://www.churchofjesuschrist.org/study/general-conference/1977/04/prepare-now-for-your-mission?lang=eng\n",
            "Successfully fetched https://www.churchofjesuschrist.org/study/general-conference/1977/04/rendering-assistance-in-the-lords-way?lang=eng\n",
            "Successfully fetched https://www.churchofjesuschrist.org/study/general-conference/1977/04/the-living-christ?lang=eng\n",
            "Successfully fetched https://www.churchofjesuschrist.org/study/general-conference/1977/04/prayer?lang=eng\n",
            "Successfully fetched https://www.churchofjesuschrist.org/study/general-conference/1977/04/the-role-of-the-stake-bishops-council-in-welfare-services?lang=eng\n",
            "Successfully fetched https://www.churchofjesuschrist.org/study/general-conference/1977/04/the-power-of-plainness?lang=eng\n",
            "Successfully fetched https://www.churchofjesuschrist.org/study/general-conference/1977/04/statistical-report-1976?lang=eng\n",
            "Successfully fetched https://www.churchofjesuschrist.org/study/general-conference/1977/04/come-let-israel-build-zion?lang=eng\n",
            "Successfully fetched https://www.churchofjesuschrist.org/study/general-conference/1977/04/a-thousand-witnesses?lang=eng\n",
            "Successfully fetched https://www.churchofjesuschrist.org/study/general-conference/1977/04/the-purpose-of-church-welfare-services?lang=eng\n"
          ]
        },
        {
          "output_type": "stream",
          "name": "stderr",
          "text": [
            "\rScraping talks in parallel:  86%|████████▌ | 3520/4112 [05:26<01:20,  7.38it/s]"
          ]
        },
        {
          "output_type": "stream",
          "name": "stdout",
          "text": [
            "Successfully fetched https://www.churchofjesuschrist.org/study/general-conference/1977/04/but-be-ye-doers-of-the-word?lang=eng\n",
            "Successfully fetched https://www.churchofjesuschrist.org/study/general-conference/1977/04/our-great-potential?lang=eng\n",
            "Successfully fetched https://www.churchofjesuschrist.org/study/general-conference/1977/04/the-greatest-brotherhood?lang=eng\n",
            "Successfully fetched https://www.churchofjesuschrist.org/study/general-conference/1977/04/god-moves-in-a-mysterious-way-his-wonders-to-perform?lang=eng\n",
            "Successfully fetched https://www.churchofjesuschrist.org/study/general-conference/1977/04/ministering-to-needs-through-lds-social-services?lang=eng\n",
            "Successfully fetched https://www.churchofjesuschrist.org/study/general-conference/1977/04/come-know-the-lord-jesus?lang=eng\n",
            "Successfully fetched https://www.churchofjesuschrist.org/study/general-conference/1977/04/a-silver-lining?lang=eng\n",
            "Successfully fetched https://www.churchofjesuschrist.org/study/general-conference/1977/04/the-sustaining-of-church-officers?lang=eng\n",
            "Successfully fetched https://www.churchofjesuschrist.org/study/general-conference/1977/04/did-not-our-heart-burn-within-us?lang=eng\n",
            "Successfully fetched https://www.churchofjesuschrist.org/study/general-conference/1977/04/the-beatitudes-and-our-perfection?lang=engSuccessfully fetched https://www.churchofjesuschrist.org/study/general-conference/1976/10/the-spirit-of-missionary-work?lang=eng\n",
            "\n",
            "Successfully fetched https://www.churchofjesuschrist.org/study/general-conference/1977/04/the-lord-expects-his-saints-to-follow-the-commandments?lang=eng\n",
            "Successfully fetched https://www.churchofjesuschrist.org/study/general-conference/1977/04/the-daily-portion-of-love?lang=eng\n",
            "Successfully fetched https://www.churchofjesuschrist.org/study/general-conference/1977/04/a-call-to-action?lang=eng\n"
          ]
        },
        {
          "output_type": "stream",
          "name": "stderr",
          "text": [
            "Scraping talks in parallel:  86%|████████▌ | 3543/4112 [05:27<00:41, 13.83it/s]"
          ]
        },
        {
          "output_type": "stream",
          "name": "stdout",
          "text": [
            "Successfully fetched https://www.churchofjesuschrist.org/study/general-conference/1976/10/a-personal-relationship-with-the-savior?lang=eng\n",
            "Successfully fetched https://www.churchofjesuschrist.org/study/general-conference/1976/10/the-simplicity-in-christ?lang=eng\n",
            "Successfully fetched https://www.churchofjesuschrist.org/study/general-conference/1976/10/our-own-liahona?lang=eng\n"
          ]
        },
        {
          "output_type": "stream",
          "name": "stderr",
          "text": [
            "\rScraping talks in parallel:  86%|████████▋ | 3551/4112 [05:28<00:36, 15.33it/s]"
          ]
        },
        {
          "output_type": "stream",
          "name": "stdout",
          "text": [
            "Successfully fetched https://www.churchofjesuschrist.org/study/general-conference/1976/10/perfecting-the-saints?lang=eng\n",
            "Successfully fetched https://www.churchofjesuschrist.org/study/general-conference/1976/10/a-report-on-the-churchs-participation-in-americas-bicentennial-celebration?lang=eng\n",
            "Successfully fetched https://www.churchofjesuschrist.org/study/general-conference/1976/10/the-lords-support-system?lang=eng\n"
          ]
        },
        {
          "output_type": "stream",
          "name": "stderr",
          "text": [
            "\rScraping talks in parallel:  86%|████████▋ | 3554/4112 [05:28<00:37, 14.71it/s]"
          ]
        },
        {
          "output_type": "stream",
          "name": "stdout",
          "text": [
            "Successfully fetched https://www.churchofjesuschrist.org/study/general-conference/1976/10/the-purpose-of-conferences?lang=eng\n",
            "Successfully fetched https://www.churchofjesuschrist.org/study/general-conference/1976/10/extending-missionary-service?lang=eng\n",
            "Successfully fetched https://www.churchofjesuschrist.org/study/general-conference/1976/10/families-are-forever?lang=eng\n",
            "Successfully fetched https://www.churchofjesuschrist.org/study/general-conference/1976/10/the-living-prophet?lang=eng\n",
            "Successfully fetched https://www.churchofjesuschrist.org/study/general-conference/1976/10/there-is-the-light?lang=eng\n",
            "Successfully fetched https://www.churchofjesuschrist.org/study/general-conference/1976/10/go-and-do-the-work?lang=eng\n",
            "Successfully fetched https://www.churchofjesuschrist.org/study/general-conference/1976/10/dikes-versus-living-water?lang=eng\n"
          ]
        },
        {
          "output_type": "stream",
          "name": "stderr",
          "text": [
            "\rScraping talks in parallel:  87%|████████▋ | 3557/4112 [05:28<00:44, 12.39it/s]"
          ]
        },
        {
          "output_type": "stream",
          "name": "stdout",
          "text": [
            "Successfully fetched https://www.churchofjesuschrist.org/study/general-conference/1976/10/principles-of-welfare?lang=eng\n",
            "Successfully fetched https://www.churchofjesuschrist.org/study/general-conference/1976/10/i-will-never-be-the-same-again?lang=eng\n",
            "Successfully fetched https://www.churchofjesuschrist.org/study/general-conference/1976/10/we-believe-in-being-honest?lang=eng\n"
          ]
        },
        {
          "output_type": "stream",
          "name": "stderr",
          "text": [
            "\rScraping talks in parallel:  87%|████████▋ | 3560/4112 [05:28<00:43, 12.71it/s]"
          ]
        },
        {
          "output_type": "stream",
          "name": "stdout",
          "text": [
            "Successfully fetched https://www.churchofjesuschrist.org/study/general-conference/1976/10/you-never-know-who-you-may-save?lang=eng\n",
            "Successfully fetched https://www.churchofjesuschrist.org/study/general-conference/1976/10/ready-to-work-long-hours?lang=eng\n",
            "Successfully fetched https://www.churchofjesuschrist.org/study/general-conference/1976/10/the-reconstitution-of-the-first-quorum-of-the-seventy?lang=eng\n",
            "Successfully fetched https://www.churchofjesuschrist.org/study/general-conference/1976/10/to-die-well?lang=engSuccessfully fetched https://www.churchofjesuschrist.org/study/general-conference/1976/10/i-have-gained?lang=eng\n",
            "\n",
            "Successfully fetched https://www.churchofjesuschrist.org/study/general-conference/1976/10/the-sustaining-of-church-officers?lang=eng\n",
            "Successfully fetched https://www.churchofjesuschrist.org/study/general-conference/1976/10/the-lord-offers-everyone-a-way-back-from-sin?lang=eng\n",
            "Successfully fetched https://www.churchofjesuschrist.org/study/general-conference/1976/10/the-savor-of-men?lang=eng\n",
            "Successfully fetched https://www.churchofjesuschrist.org/study/general-conference/1976/10/follow-it?lang=eng\n"
          ]
        },
        {
          "output_type": "stream",
          "name": "stderr",
          "text": [
            "\rScraping talks in parallel:  87%|████████▋ | 3564/4112 [05:29<01:00,  9.04it/s]"
          ]
        },
        {
          "output_type": "stream",
          "name": "stdout",
          "text": [
            "Successfully fetched https://www.churchofjesuschrist.org/study/general-conference/1976/10/proper-self-management?lang=eng\n",
            "Successfully fetched https://www.churchofjesuschrist.org/study/general-conference/1976/10/teachings-of-the-apostle-paul?lang=eng"
          ]
        },
        {
          "output_type": "stream",
          "name": "stderr",
          "text": [
            "\rScraping talks in parallel:  87%|████████▋ | 3571/4112 [05:29<00:39, 13.69it/s]"
          ]
        },
        {
          "output_type": "stream",
          "name": "stdout",
          "text": [
            "\n",
            "Successfully fetched https://www.churchofjesuschrist.org/study/general-conference/1976/10/the-greatest-thing-in-my-life?lang=eng\n",
            "Successfully fetched https://www.churchofjesuschrist.org/study/general-conference/1976/10/a-gospel-of-conversion?lang=eng\n"
          ]
        },
        {
          "output_type": "stream",
          "name": "stderr",
          "text": [
            "Scraping talks in parallel:  87%|████████▋ | 3580/4112 [05:30<00:32, 16.29it/s]"
          ]
        },
        {
          "output_type": "stream",
          "name": "stdout",
          "text": [
            "Successfully fetched https://www.churchofjesuschrist.org/study/general-conference/1976/10/search-the-scriptures?lang=eng\n",
            "Successfully fetched https://www.churchofjesuschrist.org/study/general-conference/1976/10/the-making-of-a-missionary?lang=eng\n",
            "Successfully fetched https://www.churchofjesuschrist.org/study/general-conference/1976/10/acquiring-and-managing-production-projects?lang=eng\n",
            "Successfully fetched https://www.churchofjesuschrist.org/study/general-conference/1976/10/a-report-and-a-challenge?lang=eng\n",
            "Successfully fetched https://www.churchofjesuschrist.org/study/general-conference/1976/10/i-am-the-vine-ye-are-the-branches?lang=eng\n",
            "Successfully fetched https://www.churchofjesuschrist.org/study/general-conference/1976/10/which-road-will-you-travel?lang=eng\n",
            "Successfully fetched https://www.churchofjesuschrist.org/study/general-conference/1976/10/everything-to-gain-nothing-to-lose?lang=eng\n",
            "Successfully fetched https://www.churchofjesuschrist.org/study/general-conference/1976/10/loving-one-another?lang=engSuccessfully fetched https://www.churchofjesuschrist.org/study/general-conference/1976/10/in-mine-own-way?lang=eng\n",
            "\n",
            "Successfully fetched https://www.churchofjesuschrist.org/study/general-conference/1976/10/she-is-not-afraid-of-the-snow-for-her-household?lang=eng\n"
          ]
        },
        {
          "output_type": "stream",
          "name": "stderr",
          "text": [
            "\rScraping talks in parallel:  87%|████████▋ | 3583/4112 [05:31<01:00,  8.71it/s]"
          ]
        },
        {
          "output_type": "stream",
          "name": "stdout",
          "text": [
            "Successfully fetched https://www.churchofjesuschrist.org/study/general-conference/1976/10/welfare-services-essentials-the-bishops-storehouse?lang=eng\n"
          ]
        },
        {
          "output_type": "stream",
          "name": "stderr",
          "text": [
            "Scraping talks in parallel:  87%|████████▋ | 3591/4112 [05:31<00:43, 12.02it/s]"
          ]
        },
        {
          "output_type": "stream",
          "name": "stdout",
          "text": [
            "Successfully fetched https://www.churchofjesuschrist.org/study/general-conference/1976/10/your-gift-from-god?lang=eng\n",
            "Successfully fetched https://www.churchofjesuschrist.org/study/general-conference/1976/10/friday-morning-session?lang=eng\n",
            "Successfully fetched https://www.churchofjesuschrist.org/study/general-conference/1976/10/we-are-a-covenant-making-people?lang=eng\n",
            "Successfully fetched https://www.churchofjesuschrist.org/study/general-conference/1976/10/the-dead-who-die-in-the-lord?lang=eng\n",
            "Successfully fetched https://www.churchofjesuschrist.org/study/general-conference/1976/10/more-joy-and-rejoicing?lang=eng\n",
            "Successfully fetched https://www.churchofjesuschrist.org/study/general-conference/1976/10/the-impact-teacher?lang=eng\n",
            "Successfully fetched https://www.churchofjesuschrist.org/study/general-conference/1976/10/parenthood?lang=eng\n",
            "Successfully fetched https://www.churchofjesuschrist.org/study/general-conference/1976/10/a-program-for-man?lang=eng\n",
            "Successfully fetched https://www.churchofjesuschrist.org/study/general-conference/1976/10/notwithstanding-my-weakness?lang=eng\n",
            "Successfully fetched https://www.churchofjesuschrist.org/study/general-conference/1976/10/the-temptations-of-christ?lang=eng\n"
          ]
        },
        {
          "output_type": "stream",
          "name": "stderr",
          "text": [
            "Scraping talks in parallel:  88%|████████▊ | 3599/4112 [05:32<00:52,  9.72it/s]"
          ]
        },
        {
          "output_type": "stream",
          "name": "stdout",
          "text": [
            "Successfully fetched https://www.churchofjesuschrist.org/study/general-conference/1976/04/priesthood-authority-and-power?lang=eng\n",
            "Successfully fetched https://www.churchofjesuschrist.org/study/general-conference/1976/04/shout-it-from-the-rooftops?lang=eng\n",
            "Successfully fetched https://www.churchofjesuschrist.org/study/general-conference/1976/10/our-priceless-heritage?lang=eng\n",
            "Successfully fetched https://www.churchofjesuschrist.org/study/general-conference/1976/04/he-is-the-son-of-god?lang=eng\n"
          ]
        },
        {
          "output_type": "stream",
          "name": "stderr",
          "text": [
            "\rScraping talks in parallel:  88%|████████▊ | 3601/4112 [05:33<01:02,  8.12it/s]"
          ]
        },
        {
          "output_type": "stream",
          "name": "stdout",
          "text": [
            "Successfully fetched https://www.churchofjesuschrist.org/study/general-conference/1976/04/there-am-i-in-the-midst-of-them?lang=eng\n",
            "Successfully fetched https://www.churchofjesuschrist.org/study/general-conference/1976/04/boys-need-heroes-close-by?lang=eng\n",
            "Successfully fetched https://www.churchofjesuschrist.org/study/general-conference/1976/10/our-goal-is-perfection?lang=eng\n",
            "Successfully fetched https://www.churchofjesuschrist.org/study/general-conference/1976/04/statistical-report-1975?lang=eng\n",
            "Successfully fetched https://www.churchofjesuschrist.org/study/general-conference/1976/04/a-living-prophet?lang=eng\n",
            "Successfully fetched https://www.churchofjesuschrist.org/study/general-conference/1976/04/the-value-of-people?lang=eng\n"
          ]
        },
        {
          "output_type": "stream",
          "name": "stderr",
          "text": [
            "\rScraping talks in parallel:  88%|████████▊ | 3603/4112 [05:33<01:20,  6.33it/s]"
          ]
        },
        {
          "output_type": "stream",
          "name": "stdout",
          "text": [
            "Successfully fetched https://www.churchofjesuschrist.org/study/general-conference/1976/04/who-is-jesus?lang=eng\n",
            "Successfully fetched https://www.churchofjesuschrist.org/study/general-conference/1976/04/a-missionary-opportunity?lang=eng\n",
            "Successfully fetched https://www.churchofjesuschrist.org/study/general-conference/1976/04/teach-lds-women-self-sufficiency?lang=eng\n",
            "Successfully fetched https://www.churchofjesuschrist.org/study/general-conference/1976/04/the-sustaining-of-church-officers?lang=eng\n",
            "Successfully fetched https://www.churchofjesuschrist.org/study/general-conference/1976/04/learn-obedience-and-service?lang=eng\n"
          ]
        },
        {
          "output_type": "stream",
          "name": "stderr",
          "text": [
            "\rScraping talks in parallel:  88%|████████▊ | 3607/4112 [05:34<01:19,  6.33it/s]"
          ]
        },
        {
          "output_type": "stream",
          "name": "stdout",
          "text": [
            "Successfully fetched https://www.churchofjesuschrist.org/study/general-conference/1976/04/are-you-a-member-missionary?lang=eng\n",
            "Successfully fetched https://www.churchofjesuschrist.org/study/general-conference/1976/04/are-you-taking-your-priesthood-for-granted?lang=eng\n",
            "Successfully fetched https://www.churchofjesuschrist.org/study/general-conference/1976/04/the-way-of-life?lang=eng\n",
            "Successfully fetched https://www.churchofjesuschrist.org/study/general-conference/1976/04/the-book-of-mormon?lang=eng\n",
            "Successfully fetched https://www.churchofjesuschrist.org/study/general-conference/1976/04/are-we-following-christs-pattern?lang=eng\n",
            "Successfully fetched https://www.churchofjesuschrist.org/study/general-conference/1976/04/the-lamanites-must-rise-in-majesty-and-power?lang=eng\n",
            "Successfully fetched https://www.churchofjesuschrist.org/study/general-conference/1976/04/value-of-the-holy-scriptures?lang=eng\n",
            "Successfully fetched https://www.churchofjesuschrist.org/study/general-conference/1976/04/that-we-may-be-one?lang=eng\n",
            "Successfully fetched https://www.churchofjesuschrist.org/study/general-conference/1976/04/seeking-eternal-riches?lang=eng\n",
            "Successfully fetched https://www.churchofjesuschrist.org/study/general-conference/1976/04/food-storage?lang=engSuccessfully fetched https://www.churchofjesuschrist.org/study/general-conference/1976/04/but-they-were-in-one?lang=eng\n",
            "\n",
            "Successfully fetched https://www.churchofjesuschrist.org/study/general-conference/1976/04/saturday-morning-session?lang=eng\n"
          ]
        },
        {
          "output_type": "stream",
          "name": "stderr",
          "text": [
            "\rScraping talks in parallel:  88%|████████▊ | 3609/4112 [05:35<02:07,  3.93it/s]"
          ]
        },
        {
          "output_type": "stream",
          "name": "stdout",
          "text": [
            "Successfully fetched https://www.churchofjesuschrist.org/study/general-conference/1976/04/church-finance-committee-report?lang=eng\n",
            "Successfully fetched https://www.churchofjesuschrist.org/study/general-conference/1976/04/the-constitution-a-glorious-standard?lang=eng\n",
            "Successfully fetched https://www.churchofjesuschrist.org/study/general-conference/1976/04/these-four-things?lang=eng\n",
            "Successfully fetched https://www.churchofjesuschrist.org/study/general-conference/1976/04/joseph-smith-the-mighty-prophet-of-the-restoration?lang=eng\n"
          ]
        },
        {
          "output_type": "stream",
          "name": "stderr",
          "text": [
            "\rScraping talks in parallel:  88%|████████▊ | 3628/4112 [05:36<00:36, 13.24it/s]"
          ]
        },
        {
          "output_type": "stream",
          "name": "stdout",
          "text": [
            "Successfully fetched https://www.churchofjesuschrist.org/study/general-conference/1976/04/the-still-small-voice?lang=eng\n",
            "Successfully fetched https://www.churchofjesuschrist.org/study/general-conference/1976/04/as-a-man-soweth?lang=eng\n",
            "Successfully fetched https://www.churchofjesuschrist.org/study/general-conference/1976/04/jesus-of-nazareth-savior-and-king?lang=eng\n"
          ]
        },
        {
          "output_type": "stream",
          "name": "stderr",
          "text": [
            "\rScraping talks in parallel:  88%|████████▊ | 3632/4112 [05:36<00:35, 13.45it/s]"
          ]
        },
        {
          "output_type": "stream",
          "name": "stdout",
          "text": [
            "Successfully fetched https://www.churchofjesuschrist.org/study/general-conference/1976/04/family-preparedness?lang=eng\n",
            "Successfully fetched https://www.churchofjesuschrist.org/study/general-conference/1976/04/easter-thoughts?lang=eng\n",
            "Successfully fetched https://www.churchofjesuschrist.org/study/general-conference/1976/04/you-are-your-greatest-treasure?lang=eng\n",
            "Successfully fetched https://www.churchofjesuschrist.org/study/general-conference/1976/04/seek-not-for-riches-but-for-wisdom?lang=eng\n",
            "Successfully fetched https://www.churchofjesuschrist.org/study/general-conference/1976/04/spiritual-crocodiles?lang=eng\n",
            "Successfully fetched https://www.churchofjesuschrist.org/study/general-conference/1976/04/relationships?lang=eng\n",
            "Successfully fetched https://www.churchofjesuschrist.org/study/general-conference/1976/04/if-they-will-but-serve-the-god-of-the-land?lang=eng\n",
            "Successfully fetched https://www.churchofjesuschrist.org/study/general-conference/1976/04/on-accepting-the-call?lang=eng\n",
            "Successfully fetched https://www.churchofjesuschrist.org/study/general-conference/1976/04/the-church-employment-system?lang=eng\n",
            "Successfully fetched https://www.churchofjesuschrist.org/study/general-conference/1976/04/church-welfare-services-basic-principles?lang=eng\n",
            "Successfully fetched https://www.churchofjesuschrist.org/study/general-conference/1976/04/family-communications?lang=eng\n",
            "Successfully fetched https://www.churchofjesuschrist.org/study/general-conference/1976/04/the-stone-cut-without-hands?lang=eng\n",
            "Successfully fetched https://www.churchofjesuschrist.org/study/general-conference/1976/04/the-blessing-of-building-a-temple?lang=eng\n",
            "Successfully fetched https://www.churchofjesuschrist.org/study/general-conference/1976/04/the-right-to-choose?lang=eng\n",
            "Successfully fetched https://www.churchofjesuschrist.org/study/general-conference/1976/04/the-church-and-the-family-in-welfare-services?lang=eng\n",
            "Successfully fetched https://www.churchofjesuschrist.org/study/general-conference/1976/04/the-leaves-are-commencing-to-show-on-the-fig-tree?lang=eng\n",
            "Successfully fetched https://www.churchofjesuschrist.org/study/general-conference/1976/04/an-honest-man-gods-noblest-work?lang=eng\n"
          ]
        },
        {
          "output_type": "stream",
          "name": "stderr",
          "text": [
            "Scraping talks in parallel:  89%|████████▊ | 3648/4112 [05:37<00:36, 12.84it/s]"
          ]
        },
        {
          "output_type": "stream",
          "name": "stdout",
          "text": [
            "Successfully fetched https://www.churchofjesuschrist.org/study/general-conference/1976/04/the-matter-of-personal-testimony?lang=eng\n",
            "Successfully fetched https://www.churchofjesuschrist.org/study/general-conference/1976/04/the-message-of-elijah?lang=eng\n",
            "Successfully fetched https://www.churchofjesuschrist.org/study/general-conference/1976/04/hopeless-dawn-joyful-morning?lang=eng\n"
          ]
        },
        {
          "output_type": "stream",
          "name": "stderr",
          "text": [
            "\rScraping talks in parallel:  89%|████████▉ | 3654/4112 [05:38<00:29, 15.47it/s]"
          ]
        },
        {
          "output_type": "stream",
          "name": "stdout",
          "text": [
            "Successfully fetched https://www.churchofjesuschrist.org/study/general-conference/1975/10/do-it?lang=eng\n",
            "Successfully fetched https://www.churchofjesuschrist.org/study/general-conference/1975/10/once-or-twice-in-a-thousand-years?lang=eng\n",
            "Successfully fetched https://www.churchofjesuschrist.org/study/general-conference/1975/10/for-the-time-will-come-when-they-will-not-endure-sound-doctrine?lang=eng\n",
            "Successfully fetched https://www.churchofjesuschrist.org/study/general-conference/1976/04/the-word-of-wisdom?lang=eng\n",
            "Successfully fetched https://www.churchofjesuschrist.org/study/general-conference/1975/10/love-takes-time?lang=eng\n",
            "Successfully fetched https://www.churchofjesuschrist.org/study/general-conference/1975/10/but-watchman-what-of-the-night?lang=eng\n",
            "Successfully fetched https://www.churchofjesuschrist.org/study/general-conference/1975/10/the-sustaining-of-church-officers?lang=eng\n"
          ]
        },
        {
          "output_type": "stream",
          "name": "stderr",
          "text": [
            "Scraping talks in parallel:  89%|████████▉ | 3661/4112 [05:38<00:32, 13.98it/s]"
          ]
        },
        {
          "output_type": "stream",
          "name": "stdout",
          "text": [
            "Successfully fetched https://www.churchofjesuschrist.org/study/general-conference/1975/10/my-heritage-is-choice?lang=eng\n",
            "Successfully fetched https://www.churchofjesuschrist.org/study/general-conference/1975/10/the-importance-of-reputation?lang=eng\n",
            "Successfully fetched https://www.churchofjesuschrist.org/study/general-conference/1975/10/a-message-to-the-world?lang=eng\n",
            "Successfully fetched https://www.churchofjesuschrist.org/study/general-conference/1975/10/the-language-of-the-spirit?lang=eng\n",
            "Successfully fetched https://www.churchofjesuschrist.org/study/general-conference/1975/10/family-home-evening?lang=engSuccessfully fetched https://www.churchofjesuschrist.org/study/general-conference/1975/10/a-prophets-faith?lang=eng\n",
            "\n",
            "Successfully fetched https://www.churchofjesuschrist.org/study/general-conference/1975/10/prepare-for-honorable-employment?lang=engSuccessfully fetched https://www.churchofjesuschrist.org/study/general-conference/1975/10/for-they-loved-the-praise-of-men-more-than-the-praise-of-god?lang=eng\n",
            "\n"
          ]
        },
        {
          "output_type": "stream",
          "name": "stderr",
          "text": [
            "\rScraping talks in parallel:  89%|████████▉ | 3664/4112 [05:39<00:43, 10.36it/s]"
          ]
        },
        {
          "output_type": "stream",
          "name": "stdout",
          "text": [
            "Successfully fetched https://www.churchofjesuschrist.org/study/general-conference/1975/10/opposing-evil?lang=engSuccessfully fetched https://www.churchofjesuschrist.org/study/general-conference/1975/10/we-are-sent-for-the-last-time?lang=eng\n",
            "\n",
            "Successfully fetched https://www.churchofjesuschrist.org/study/general-conference/1975/10/let-all-thy-doings-be-unto-the-lord?lang=eng\n",
            "Successfully fetched https://www.churchofjesuschrist.org/study/general-conference/1975/10/there-is-still-much-to-do?lang=eng"
          ]
        },
        {
          "output_type": "stream",
          "name": "stderr",
          "text": [
            "\rScraping talks in parallel:  89%|████████▉ | 3666/4112 [05:39<00:43, 10.20it/s]"
          ]
        },
        {
          "output_type": "stream",
          "name": "stdout",
          "text": [
            "\n",
            "Successfully fetched https://www.churchofjesuschrist.org/study/general-conference/1975/10/why-can-t-we?lang=eng\n",
            "Successfully fetched https://www.churchofjesuschrist.org/study/general-conference/1975/10/according-to-the-covenants?lang=eng\n",
            "Successfully fetched https://www.churchofjesuschrist.org/study/general-conference/1975/10/an-overview-of-church-welfare-services?lang=eng\n",
            "Successfully fetched https://www.churchofjesuschrist.org/study/general-conference/1975/10/immanuel-god-with-us?lang=eng\n"
          ]
        },
        {
          "output_type": "stream",
          "name": "stderr",
          "text": [
            "\rScraping talks in parallel:  89%|████████▉ | 3673/4112 [05:39<00:32, 13.46it/s]"
          ]
        },
        {
          "output_type": "stream",
          "name": "stdout",
          "text": [
            "Successfully fetched https://www.churchofjesuschrist.org/study/general-conference/1975/10/the-keys-of-the-kingdom?lang=eng\n",
            "Successfully fetched https://www.churchofjesuschrist.org/study/general-conference/1975/10/the-welfare-production-distribution-department?lang=eng\n"
          ]
        },
        {
          "output_type": "stream",
          "name": "stderr",
          "text": [
            "\rScraping talks in parallel:  89%|████████▉ | 3677/4112 [05:40<00:34, 12.58it/s]"
          ]
        },
        {
          "output_type": "stream",
          "name": "stdout",
          "text": [
            "Successfully fetched https://www.churchofjesuschrist.org/study/general-conference/1975/10/the-redemption-of-the-dead?lang=eng\n",
            "Successfully fetched https://www.churchofjesuschrist.org/study/general-conference/1975/10/spoken-from-their-hearts?lang=eng\n",
            "Successfully fetched https://www.churchofjesuschrist.org/study/general-conference/1975/10/the-time-to-labor-is-now?lang=engSuccessfully fetched https://www.churchofjesuschrist.org/study/general-conference/1975/10/to-cleanse-our-souls?lang=eng\n",
            "\n",
            "Successfully fetched https://www.churchofjesuschrist.org/study/general-conference/1975/10/we-can-t-do-it-alone?lang=eng\n",
            "Successfully fetched https://www.churchofjesuschrist.org/study/general-conference/1975/10/a-call-to-arms?lang=eng\n",
            "Successfully fetched https://www.churchofjesuschrist.org/study/general-conference/1975/10/the-developing-welfare-services-department?lang=eng\n"
          ]
        },
        {
          "output_type": "stream",
          "name": "stderr",
          "text": [
            "\rScraping talks in parallel:  89%|████████▉ | 3679/4112 [05:40<00:43,  9.92it/s]"
          ]
        },
        {
          "output_type": "stream",
          "name": "stdout",
          "text": [
            "Successfully fetched https://www.churchofjesuschrist.org/study/general-conference/1975/10/the-worlds-greatest-need?lang=eng\n",
            "Successfully fetched https://www.churchofjesuschrist.org/study/general-conference/1975/10/americas-destiny?lang=eng\n",
            "Successfully fetched https://www.churchofjesuschrist.org/study/general-conference/1975/10/my-gratitude?lang=eng\n"
          ]
        },
        {
          "output_type": "stream",
          "name": "stderr",
          "text": [
            "\rScraping talks in parallel:  90%|████████▉ | 3681/4112 [05:40<00:44,  9.64it/s]"
          ]
        },
        {
          "output_type": "stream",
          "name": "stdout",
          "text": [
            "Successfully fetched https://www.churchofjesuschrist.org/study/general-conference/1975/10/faith-and-works-in-the-far-east?lang=eng\n",
            "Successfully fetched https://www.churchofjesuschrist.org/study/general-conference/1975/10/to-make-a-people-prepared-for-the-lord?lang=eng\n"
          ]
        },
        {
          "output_type": "stream",
          "name": "stderr",
          "text": [
            "\rScraping talks in parallel:  90%|████████▉ | 3689/4112 [05:41<00:29, 14.39it/s]"
          ]
        },
        {
          "output_type": "stream",
          "name": "stdout",
          "text": [
            "Successfully fetched https://www.churchofjesuschrist.org/study/general-conference/1975/10/covenants-and-blessings?lang=eng\n",
            "Successfully fetched https://www.churchofjesuschrist.org/study/general-conference/1975/10/friday-morning-session?lang=eng\n",
            "Successfully fetched https://www.churchofjesuschrist.org/study/general-conference/1975/10/the-vision-of-the-aaronic-priesthood?lang=eng\n"
          ]
        },
        {
          "output_type": "stream",
          "name": "stderr",
          "text": [
            "\rScraping talks in parallel:  90%|████████▉ | 3691/4112 [05:41<00:32, 12.89it/s]"
          ]
        },
        {
          "output_type": "stream",
          "name": "stdout",
          "text": [
            "Successfully fetched https://www.churchofjesuschrist.org/study/general-conference/1975/10/the-faith-of-a-child?lang=eng\n",
            "Successfully fetched https://www.churchofjesuschrist.org/study/general-conference/1975/10/relief-societys-role-in-welfare-services?lang=eng\n",
            "Successfully fetched https://www.churchofjesuschrist.org/study/general-conference/1975/10/the-tabernacle?lang=eng\n",
            "Successfully fetched https://www.churchofjesuschrist.org/study/general-conference/1975/10/the-privilege-of-holding-the-priesthood?lang=engSuccessfully fetched https://www.churchofjesuschrist.org/study/general-conference/1975/10/hear-ye-him?lang=eng\n",
            "\n"
          ]
        },
        {
          "output_type": "stream",
          "name": "stderr",
          "text": [
            "\rScraping talks in parallel:  90%|████████▉ | 3693/4112 [05:41<00:39, 10.49it/s]"
          ]
        },
        {
          "output_type": "stream",
          "name": "stdout",
          "text": [
            "Successfully fetched https://www.churchofjesuschrist.org/study/general-conference/1975/10/welfare-services?lang=eng\n"
          ]
        },
        {
          "output_type": "stream",
          "name": "stderr",
          "text": [
            "\rScraping talks in parallel:  90%|████████▉ | 3699/4112 [05:41<00:25, 16.27it/s]"
          ]
        },
        {
          "output_type": "stream",
          "name": "stdout",
          "text": [
            "Successfully fetched https://www.churchofjesuschrist.org/study/general-conference/1975/10/the-power-of-the-priesthood?lang=eng\n",
            "Successfully fetched https://www.churchofjesuschrist.org/study/general-conference/1975/10/the-laws-of-god?lang=eng\n",
            "Successfully fetched https://www.churchofjesuschrist.org/study/general-conference/1975/04/a-time-to-prepare?lang=eng\n",
            "Successfully fetched https://www.churchofjesuschrist.org/study/general-conference/1975/04/a-time-for-every-purpose?lang=eng\n",
            "Successfully fetched https://www.churchofjesuschrist.org/study/general-conference/1975/10/oh-beautiful-for-patriot-dream?lang=eng\n",
            "Successfully fetched https://www.churchofjesuschrist.org/study/general-conference/1975/10/you-too-must-know?lang=eng\n",
            "Successfully fetched https://www.churchofjesuschrist.org/study/general-conference/1975/04/salvation-for-the-dead-a-missionary-activity?lang=eng\n",
            "Successfully fetched https://www.churchofjesuschrist.org/study/general-conference/1975/04/testimony?lang=eng\n",
            "Successfully fetched https://www.churchofjesuschrist.org/study/general-conference/1975/10/family-research?lang=eng\n"
          ]
        },
        {
          "output_type": "stream",
          "name": "stderr",
          "text": [
            "\rScraping talks in parallel:  90%|█████████ | 3702/4112 [05:42<00:48,  8.49it/s]"
          ]
        },
        {
          "output_type": "stream",
          "name": "stdout",
          "text": [
            "Successfully fetched https://www.churchofjesuschrist.org/study/general-conference/1975/04/an-appeal-to-prospective-elders?lang=eng\n",
            "Successfully fetched https://www.churchofjesuschrist.org/study/general-conference/1975/10/prophets-and-prophecy?lang=eng\n",
            "Successfully fetched https://www.churchofjesuschrist.org/study/general-conference/1975/10/success-stories?lang=eng\n"
          ]
        },
        {
          "output_type": "stream",
          "name": "stderr",
          "text": [
            "\rScraping talks in parallel:  90%|█████████ | 3704/4112 [05:43<00:55,  7.35it/s]"
          ]
        },
        {
          "output_type": "stream",
          "name": "stdout",
          "text": [
            "Successfully fetched https://www.churchofjesuschrist.org/study/general-conference/1975/04/scouters-lead-them-to-a-mission?lang=eng\n",
            "Successfully fetched https://www.churchofjesuschrist.org/study/general-conference/1975/04/using-our-free-agency?lang=eng\n",
            "Successfully fetched https://www.churchofjesuschrist.org/study/general-conference/1975/04/the-book-of-mormon-is-the-word-of-god?lang=eng\n",
            "Successfully fetched https://www.churchofjesuschrist.org/study/general-conference/1975/04/the-laws-of-god-are-blessings?lang=eng\n",
            "Successfully fetched https://www.churchofjesuschrist.org/study/general-conference/1975/04/a-question-of-free-agency?lang=eng\n",
            "Successfully fetched https://www.churchofjesuschrist.org/study/general-conference/1975/04/why-call-me-lord-lord-and-do-not-the-things-which-i-say?lang=eng\n",
            "Successfully fetched https://www.churchofjesuschrist.org/study/general-conference/1975/04/the-sanctity-of-life?lang=eng\n",
            "Successfully fetched https://www.churchofjesuschrist.org/study/general-conference/1975/04/obedience-consecration-and-sacrifice?lang=eng\n",
            "Successfully fetched https://www.churchofjesuschrist.org/study/general-conference/1975/04/to-bear-the-priesthood-worthily?lang=eng\n",
            "Successfully fetched https://www.churchofjesuschrist.org/study/general-conference/1975/04/anchored-in-testimony?lang=eng\n",
            "Successfully fetched https://www.churchofjesuschrist.org/study/general-conference/1975/04/the-man-of-christ?lang=eng\n",
            "Successfully fetched https://www.churchofjesuschrist.org/study/general-conference/1975/04/the-sabbath-day?lang=eng\n",
            "Successfully fetched https://www.churchofjesuschrist.org/study/general-conference/1975/04/the-time-is-now?lang=eng\n",
            "Successfully fetched https://www.churchofjesuschrist.org/study/general-conference/1975/04/a-tribute?lang=eng\n"
          ]
        },
        {
          "output_type": "stream",
          "name": "stderr",
          "text": [
            "\rScraping talks in parallel:  90%|█████████ | 3709/4112 [05:44<01:28,  4.53it/s]"
          ]
        },
        {
          "output_type": "stream",
          "name": "stdout",
          "text": [
            "Successfully fetched https://www.churchofjesuschrist.org/study/general-conference/1975/04/trust-in-the-lord?lang=eng\n",
            "Successfully fetched https://www.churchofjesuschrist.org/study/general-conference/1975/04/why-do-we-continue-to-tolerate-sin?lang=eng\n",
            "Successfully fetched https://www.churchofjesuschrist.org/study/general-conference/1975/04/easter-thoughts?lang=eng\n"
          ]
        },
        {
          "output_type": "stream",
          "name": "stderr",
          "text": [
            "\rScraping talks in parallel:  91%|█████████ | 3724/4112 [05:45<00:34, 11.12it/s]"
          ]
        },
        {
          "output_type": "stream",
          "name": "stdout",
          "text": [
            "Successfully fetched https://www.churchofjesuschrist.org/study/general-conference/1975/04/my-mother-gained-a-better-son?lang=eng\n",
            "Successfully fetched https://www.churchofjesuschrist.org/study/general-conference/1975/04/the-symbol-of-christ?lang=eng\n",
            "Successfully fetched https://www.churchofjesuschrist.org/study/general-conference/1975/04/faith-the-first-step?lang=eng\n",
            "Successfully fetched https://www.churchofjesuschrist.org/study/general-conference/1975/04/faithful-laborers?lang=eng\n"
          ]
        },
        {
          "output_type": "stream",
          "name": "stderr",
          "text": [
            "\rScraping talks in parallel:  91%|█████████ | 3728/4112 [05:45<00:35, 10.76it/s]"
          ]
        },
        {
          "output_type": "stream",
          "name": "stdout",
          "text": [
            "Successfully fetched https://www.churchofjesuschrist.org/study/general-conference/1975/04/make-haste-to-obey?lang=eng\n",
            "Successfully fetched https://www.churchofjesuschrist.org/study/general-conference/1975/04/the-message-of-easter?lang=eng\n",
            "Successfully fetched https://www.churchofjesuschrist.org/study/general-conference/1975/04/the-sustaining-of-church-officers?lang=eng\n",
            "Successfully fetched https://www.churchofjesuschrist.org/study/general-conference/1975/04/welfare-services-romney?lang=eng\n"
          ]
        },
        {
          "output_type": "stream",
          "name": "stderr",
          "text": [
            "\rScraping talks in parallel:  91%|█████████ | 3731/4112 [05:45<00:38,  9.83it/s]"
          ]
        },
        {
          "output_type": "stream",
          "name": "stdout",
          "text": [
            "Successfully fetched https://www.churchofjesuschrist.org/study/general-conference/1975/04/come-drink-the-living-water?lang=eng\n",
            "Successfully fetched https://www.churchofjesuschrist.org/study/general-conference/1975/04/the-roots-of-mormonism?lang=eng\n",
            "Successfully fetched https://www.churchofjesuschrist.org/study/general-conference/1975/04/friday-morning-session?lang=eng\n",
            "Successfully fetched https://www.churchofjesuschrist.org/study/general-conference/1975/04/one-lord-one-faith-one-baptism?lang=eng\n"
          ]
        },
        {
          "output_type": "stream",
          "name": "stderr",
          "text": [
            "\rScraping talks in parallel:  91%|█████████ | 3738/4112 [05:46<00:33, 11.25it/s]"
          ]
        },
        {
          "output_type": "stream",
          "name": "stdout",
          "text": [
            "Successfully fetched https://www.churchofjesuschrist.org/study/general-conference/1975/04/the-people-who-influence-us?lang=eng\n",
            "Successfully fetched https://www.churchofjesuschrist.org/study/general-conference/1975/04/help-for-parents?lang=eng\n",
            "Successfully fetched https://www.churchofjesuschrist.org/study/general-conference/1975/04/christ-in-america?lang=eng\n",
            "Successfully fetched https://www.churchofjesuschrist.org/study/general-conference/1975/04/welfare-services-kimball?lang=eng\n",
            "Successfully fetched https://www.churchofjesuschrist.org/study/general-conference/1975/04/success-is-gauged-by-self-mastery?lang=eng\n",
            "Successfully fetched https://www.churchofjesuschrist.org/study/general-conference/1975/04/the-way-home?lang=eng\n",
            "Successfully fetched https://www.churchofjesuschrist.org/study/general-conference/1975/04/the-road-to-happiness?lang=eng\n",
            "Successfully fetched https://www.churchofjesuschrist.org/study/general-conference/1975/04/church-finance-committee-report?lang=eng\n",
            "Successfully fetched https://www.churchofjesuschrist.org/study/general-conference/1975/04/a-self-inflicted-purging?lang=eng\n"
          ]
        },
        {
          "output_type": "stream",
          "name": "stderr",
          "text": [
            "Scraping talks in parallel:  91%|█████████ | 3749/4112 [05:47<00:34, 10.46it/s]"
          ]
        },
        {
          "output_type": "stream",
          "name": "stdout",
          "text": [
            "Successfully fetched https://www.churchofjesuschrist.org/study/general-conference/1975/04/birth?lang=eng\n",
            "Successfully fetched https://www.churchofjesuschrist.org/study/general-conference/1975/04/we-need-men-of-courage?lang=eng\n",
            "Successfully fetched https://www.churchofjesuschrist.org/study/general-conference/1975/04/statistical-report-1974?lang=eng\n",
            "Successfully fetched https://www.churchofjesuschrist.org/study/general-conference/1974/10/your-mission-preparation?lang=eng\n"
          ]
        },
        {
          "output_type": "stream",
          "name": "stderr",
          "text": [
            "\rScraping talks in parallel:  91%|█████████ | 3752/4112 [05:48<00:37,  9.63it/s]"
          ]
        },
        {
          "output_type": "stream",
          "name": "stdout",
          "text": [
            "Successfully fetched https://www.churchofjesuschrist.org/study/general-conference/1974/10/to-know-god?lang=eng\n",
            "Successfully fetched https://www.churchofjesuschrist.org/study/general-conference/1974/10/good-habits-develop-good-character?lang=eng\n",
            "Successfully fetched https://www.churchofjesuschrist.org/study/general-conference/1975/04/today-millions-are-waiting?lang=eng\n"
          ]
        },
        {
          "output_type": "stream",
          "name": "stderr",
          "text": [
            "\rScraping talks in parallel:  91%|█████████▏| 3754/4112 [05:48<00:34, 10.40it/s]"
          ]
        },
        {
          "output_type": "stream",
          "name": "stdout",
          "text": [
            "Successfully fetched https://www.churchofjesuschrist.org/study/general-conference/1975/04/feed-the-flock?lang=eng\n",
            "Successfully fetched https://www.churchofjesuschrist.org/study/general-conference/1974/10/the-divine-power-of-repentance?lang=eng\n",
            "Successfully fetched https://www.churchofjesuschrist.org/study/general-conference/1974/10/where-much-is-given-much-is-required?lang=eng\n",
            "Successfully fetched https://www.churchofjesuschrist.org/study/general-conference/1974/10/our-precious-families?lang=eng\n",
            "Successfully fetched https://www.churchofjesuschrist.org/study/general-conference/1974/10/for-thy-servant-heareth?lang=eng\n",
            "Successfully fetched https://www.churchofjesuschrist.org/study/general-conference/1974/10/the-davids-and-the-goliaths?lang=eng\n",
            "Successfully fetched https://www.churchofjesuschrist.org/study/general-conference/1974/10/ocean-currents-and-family-influences?lang=eng\n",
            "Successfully fetched https://www.churchofjesuschrist.org/study/general-conference/1974/10/making-conferences-turning-points-in-our-lives?lang=eng\n",
            "Successfully fetched https://www.churchofjesuschrist.org/study/general-conference/1974/10/when-thou-art-converted-strengthen-thy-brethren?lang=eng\n",
            "Successfully fetched https://www.churchofjesuschrist.org/study/general-conference/1974/10/transfusion?lang=eng\n",
            "Successfully fetched https://www.churchofjesuschrist.org/study/general-conference/1974/10/a-city-set-upon-a-hill?lang=eng\n",
            "Successfully fetched https://www.churchofjesuschrist.org/study/general-conference/1974/10/blessed-are-the-peacemakers?lang=eng\n",
            "Successfully fetched https://www.churchofjesuschrist.org/study/general-conference/1974/10/as-a-beacon-on-a-hill?lang=eng\n",
            "Successfully fetched https://www.churchofjesuschrist.org/study/general-conference/1974/10/do-not-despair?lang=eng\n",
            "Successfully fetched https://www.churchofjesuschrist.org/study/general-conference/1974/10/power-over-satan?lang=eng\n",
            "Successfully fetched https://www.churchofjesuschrist.org/study/general-conference/1974/10/welfare-services-romney?lang=eng\n",
            "Successfully fetched https://www.churchofjesuschrist.org/study/general-conference/1974/10/the-saviors-program-for-the-care-of-the-aged?lang=eng\n",
            "Successfully fetched https://www.churchofjesuschrist.org/study/general-conference/1974/10/the-beatitudes?lang=eng\n"
          ]
        },
        {
          "output_type": "stream",
          "name": "stderr",
          "text": [
            "\rScraping talks in parallel:  91%|█████████▏| 3758/4112 [05:49<00:59,  5.92it/s]"
          ]
        },
        {
          "output_type": "stream",
          "name": "stdout",
          "text": [
            "Successfully fetched https://www.churchofjesuschrist.org/study/general-conference/1974/10/why-not-now?lang=eng\n",
            "Successfully fetched https://www.churchofjesuschrist.org/study/general-conference/1974/10/truth-will-emerge-victorious?lang=eng\n",
            "Successfully fetched https://www.churchofjesuschrist.org/study/general-conference/1974/10/eternal-togetherness?lang=eng\n"
          ]
        },
        {
          "output_type": "stream",
          "name": "stderr",
          "text": [
            "\rScraping talks in parallel:  92%|█████████▏| 3776/4112 [05:49<00:22, 14.82it/s]"
          ]
        },
        {
          "output_type": "stream",
          "name": "stdout",
          "text": [
            "Successfully fetched https://www.churchofjesuschrist.org/study/general-conference/1974/10/be-valiant-in-the-fight-of-faith?lang=eng\n",
            "Successfully fetched https://www.churchofjesuschrist.org/study/general-conference/1974/10/our-responsibility-to-the-transgressor?lang=eng\n",
            "Successfully fetched https://www.churchofjesuschrist.org/study/general-conference/1974/10/god-will-not-be-mocked?lang=eng\n",
            "Successfully fetched https://www.churchofjesuschrist.org/study/general-conference/1974/10/we-need-to-continue-in-righteousness?lang=eng\n",
            "Successfully fetched https://www.churchofjesuschrist.org/study/general-conference/1974/10/integrity?lang=eng\n",
            "Successfully fetched https://www.churchofjesuschrist.org/study/general-conference/1974/10/what-after-death?lang=eng\n",
            "Successfully fetched https://www.churchofjesuschrist.org/study/general-conference/1974/10/sustaining-of-church-officers?lang=eng\n",
            "Successfully fetched https://www.churchofjesuschrist.org/study/general-conference/1974/10/the-law-of-the-fast?lang=eng\n"
          ]
        },
        {
          "output_type": "stream",
          "name": "stderr",
          "text": [
            "\rScraping talks in parallel:  92%|█████████▏| 3780/4112 [05:50<00:28, 11.71it/s]"
          ]
        },
        {
          "output_type": "stream",
          "name": "stdout",
          "text": [
            "Successfully fetched https://www.churchofjesuschrist.org/study/general-conference/1974/10/gifts-of-the-spirit?lang=eng\n",
            "Successfully fetched https://www.churchofjesuschrist.org/study/general-conference/1974/10/a-testimony-of-christ?lang=eng\n",
            "Successfully fetched https://www.churchofjesuschrist.org/study/general-conference/1974/10/how-men-are-saved?lang=eng\n",
            "Successfully fetched https://www.churchofjesuschrist.org/study/general-conference/1974/10/why-is-my-boy-wandering-tonight?lang=engSuccessfully fetched https://www.churchofjesuschrist.org/study/general-conference/1974/10/welfare-services-kimball?lang=eng\n",
            "\n",
            "Successfully fetched https://www.churchofjesuschrist.org/study/general-conference/1974/10/do-not-procrastinate?lang=eng\n"
          ]
        },
        {
          "output_type": "stream",
          "name": "stderr",
          "text": [
            "\rScraping talks in parallel:  92%|█████████▏| 3786/4112 [05:51<00:26, 12.26it/s]"
          ]
        },
        {
          "output_type": "stream",
          "name": "stdout",
          "text": [
            "Successfully fetched https://www.churchofjesuschrist.org/study/general-conference/1974/10/whos-losing?lang=eng\n",
            "Successfully fetched https://www.churchofjesuschrist.org/study/general-conference/1974/10/is-there-not-a-cause?lang=eng\n",
            "Successfully fetched https://www.churchofjesuschrist.org/study/general-conference/1974/04/parents-teach-your-children?lang=eng\n",
            "Successfully fetched https://www.churchofjesuschrist.org/study/general-conference/1974/10/my-personal-hall-of-fame?lang=eng\n"
          ]
        },
        {
          "output_type": "stream",
          "name": "stderr",
          "text": [
            "\rScraping talks in parallel:  92%|█████████▏| 3791/4112 [05:51<00:27, 11.88it/s]"
          ]
        },
        {
          "output_type": "stream",
          "name": "stdout",
          "text": [
            "Successfully fetched https://www.churchofjesuschrist.org/study/general-conference/1974/10/the-blessings-of-peace?lang=eng\n",
            "Successfully fetched https://www.churchofjesuschrist.org/study/general-conference/1974/10/a-new-aristocracy?lang=eng\n"
          ]
        },
        {
          "output_type": "stream",
          "name": "stderr",
          "text": [
            "\rScraping talks in parallel:  92%|█████████▏| 3793/4112 [05:51<00:29, 10.73it/s]"
          ]
        },
        {
          "output_type": "stream",
          "name": "stdout",
          "text": [
            "Successfully fetched https://www.churchofjesuschrist.org/study/general-conference/1974/10/the-most-vital-information?lang=eng\n",
            "Successfully fetched https://www.churchofjesuschrist.org/study/general-conference/1974/04/planning-for-a-full-and-abundant-life?lang=eng\n",
            "Successfully fetched https://www.churchofjesuschrist.org/study/general-conference/1974/04/the-family-a-divine-blessing?lang=eng\n",
            "Successfully fetched https://www.churchofjesuschrist.org/study/general-conference/1974/04/the-people-say-amen?lang=eng\n",
            "Successfully fetched https://www.churchofjesuschrist.org/study/general-conference/1974/10/friday-morning-session?lang=engSuccessfully fetched https://www.churchofjesuschrist.org/study/general-conference/1974/04/response-to-a-call?lang=eng\n",
            "\n"
          ]
        },
        {
          "output_type": "stream",
          "name": "stderr",
          "text": [
            "\rScraping talks in parallel:  92%|█████████▏| 3797/4112 [05:52<00:31,  9.95it/s]"
          ]
        },
        {
          "output_type": "stream",
          "name": "stdout",
          "text": [
            "Successfully fetched https://www.churchofjesuschrist.org/study/general-conference/1974/04/three-days-in-the-tomb?lang=eng\n",
            "Successfully fetched https://www.churchofjesuschrist.org/study/general-conference/1974/04/welfare-services-kimball?lang=eng\n",
            "Successfully fetched https://www.churchofjesuschrist.org/study/general-conference/1974/04/what-does-jesus-mean-to-modern-man?lang=eng\n",
            "Successfully fetched https://www.churchofjesuschrist.org/study/general-conference/1974/04/missionary-work-a-major-responsibility?lang=eng\n",
            "Successfully fetched https://www.churchofjesuschrist.org/study/general-conference/1974/04/god-foreordains-his-prophets-and-his-people?lang=eng\n",
            "Successfully fetched https://www.churchofjesuschrist.org/study/general-conference/1974/04/statistical-report-1973?lang=eng\n"
          ]
        },
        {
          "output_type": "stream",
          "name": "stderr",
          "text": [
            "Scraping talks in parallel:  93%|█████████▎| 3811/4112 [05:52<00:17, 17.16it/s]"
          ]
        },
        {
          "output_type": "stream",
          "name": "stdout",
          "text": [
            "Successfully fetched https://www.churchofjesuschrist.org/study/general-conference/1974/04/strength-of-the-spirit?lang=eng\n",
            "Successfully fetched https://www.churchofjesuschrist.org/study/general-conference/1974/04/boys-need-men?lang=eng\n",
            "Successfully fetched https://www.churchofjesuschrist.org/study/general-conference/1974/04/what-do-we-hear?lang=eng\n",
            "Successfully fetched https://www.churchofjesuschrist.org/study/general-conference/1974/04/the-holy-ghost?lang=eng\n",
            "Successfully fetched https://www.churchofjesuschrist.org/study/general-conference/1974/04/the-marriage-that-endures?lang=eng\n",
            "Successfully fetched https://www.churchofjesuschrist.org/study/general-conference/1974/04/the-importance-of-prayer?lang=eng\n",
            "Successfully fetched https://www.churchofjesuschrist.org/study/general-conference/1974/04/justice-and-mercy?lang=eng\n",
            "Successfully fetched https://www.churchofjesuschrist.org/study/general-conference/1974/04/friday-morning-session?lang=eng\n",
            "Successfully fetched https://www.churchofjesuschrist.org/study/general-conference/1974/04/i-will-pour-you-out-a-blessing?lang=eng\n",
            "Successfully fetched https://www.churchofjesuschrist.org/study/general-conference/1974/04/commitment-to-serve?lang=eng\n",
            "Successfully fetched https://www.churchofjesuschrist.org/study/general-conference/1974/04/hanging-on?lang=eng\n",
            "Successfully fetched https://www.churchofjesuschrist.org/study/general-conference/1974/04/a-time-of-urgency?lang=eng\n",
            "Successfully fetched https://www.churchofjesuschrist.org/study/general-conference/1974/04/build-your-shield-of-faith?lang=eng\n",
            "Successfully fetched https://www.churchofjesuschrist.org/study/general-conference/1974/04/touchstone-of-truth?lang=eng\n"
          ]
        },
        {
          "output_type": "stream",
          "name": "stderr",
          "text": [
            "Scraping talks in parallel:  93%|█████████▎| 3818/4112 [05:54<00:30,  9.75it/s]"
          ]
        },
        {
          "output_type": "stream",
          "name": "stdout",
          "text": [
            "Successfully fetched https://www.churchofjesuschrist.org/study/general-conference/1974/04/we-believe-all-that-god-has-revealed?lang=eng\n",
            "Successfully fetched https://www.churchofjesuschrist.org/study/general-conference/1974/04/the-strength-of-testimony?lang=eng\n",
            "Successfully fetched https://www.churchofjesuschrist.org/study/general-conference/1974/04/be-ye-clean-that-bear-the-vessels-of-the-lord?lang=eng\n"
          ]
        },
        {
          "output_type": "stream",
          "name": "stderr",
          "text": [
            "\rScraping talks in parallel:  93%|█████████▎| 3824/4112 [05:54<00:22, 12.90it/s]"
          ]
        },
        {
          "output_type": "stream",
          "name": "stdout",
          "text": [
            "Successfully fetched https://www.churchofjesuschrist.org/study/general-conference/1974/04/that-the-scriptures-might-be-fulfilled?lang=eng\n",
            "Successfully fetched https://www.churchofjesuschrist.org/study/general-conference/1974/04/chosen-of-the-lord?lang=eng\n",
            "Successfully fetched https://www.churchofjesuschrist.org/study/general-conference/1974/04/the-saviors-ministry?lang=eng\n",
            "Successfully fetched https://www.churchofjesuschrist.org/study/general-conference/1974/04/prophecy?lang=eng\n",
            "Successfully fetched https://www.churchofjesuschrist.org/study/general-conference/1974/04/inertia?lang=eng\n"
          ]
        },
        {
          "output_type": "stream",
          "name": "stderr",
          "text": [
            "\rScraping talks in parallel:  93%|█████████▎| 3827/4112 [05:54<00:24, 11.84it/s]"
          ]
        },
        {
          "output_type": "stream",
          "name": "stdout",
          "text": [
            "Successfully fetched https://www.churchofjesuschrist.org/study/general-conference/1974/04/his-final-hours?lang=eng\n",
            "Successfully fetched https://www.churchofjesuschrist.org/study/general-conference/1974/04/guidelines-to-carry-forth-the-work-of-god-in-cleanliness?lang=eng\n",
            "Successfully fetched https://www.churchofjesuschrist.org/study/general-conference/1974/04/welfare-services-romney?lang=eng\n"
          ]
        },
        {
          "output_type": "stream",
          "name": "stderr",
          "text": [
            "\rScraping talks in parallel:  93%|█████████▎| 3830/4112 [05:55<00:25, 10.86it/s]"
          ]
        },
        {
          "output_type": "stream",
          "name": "stdout",
          "text": [
            "Successfully fetched https://www.churchofjesuschrist.org/study/general-conference/1974/04/the-cause-is-just-and-worthy?lang=eng\n",
            "Successfully fetched https://www.churchofjesuschrist.org/study/general-conference/1974/04/testimony?lang=eng\n",
            "Successfully fetched https://www.churchofjesuschrist.org/study/general-conference/1974/04/the-power-of-elijah?lang=eng\n"
          ]
        },
        {
          "output_type": "stream",
          "name": "stderr",
          "text": [
            "\rScraping talks in parallel:  93%|█████████▎| 3836/4112 [05:55<00:20, 13.29it/s]"
          ]
        },
        {
          "output_type": "stream",
          "name": "stdout",
          "text": [
            "Successfully fetched https://www.churchofjesuschrist.org/study/general-conference/1974/04/three-important-questions?lang=eng\n",
            "Successfully fetched https://www.churchofjesuschrist.org/study/general-conference/1974/04/church-finance-committee-report?lang=eng\n",
            "Successfully fetched https://www.churchofjesuschrist.org/study/general-conference/1974/04/the-paths-jesus-walked?lang=eng\n",
            "Successfully fetched https://www.churchofjesuschrist.org/study/general-conference/1973/10/the-path-to-eternal-life?lang=eng\n",
            "Successfully fetched https://www.churchofjesuschrist.org/study/general-conference/1974/04/aaronic-priesthood-stewardship?lang=eng\n",
            "Successfully fetched https://www.churchofjesuschrist.org/study/general-conference/1974/04/welfare-services-tanner?lang=eng\n",
            "Successfully fetched https://www.churchofjesuschrist.org/study/general-conference/1974/04/mother-catch-the-vision-of-your-call?lang=eng\n",
            "Successfully fetched https://www.churchofjesuschrist.org/study/general-conference/1974/04/hearken-unto-the-voice-of-god?lang=eng\n",
            "Successfully fetched https://www.churchofjesuschrist.org/study/general-conference/1973/10/to-be-in-the-world-but-not-of-the-world?lang=eng\n"
          ]
        },
        {
          "output_type": "stream",
          "name": "stderr",
          "text": [
            "\rScraping talks in parallel:  93%|█████████▎| 3838/4112 [05:56<00:32,  8.54it/s]"
          ]
        },
        {
          "output_type": "stream",
          "name": "stdout",
          "text": [
            "Successfully fetched https://www.churchofjesuschrist.org/study/general-conference/1973/10/love-and-forgive-one-another?lang=eng\n",
            "Successfully fetched https://www.churchofjesuschrist.org/study/general-conference/1973/10/of-the-world-or-of-the-kingdom?lang=eng\n",
            "Successfully fetched https://www.churchofjesuschrist.org/study/general-conference/1974/04/the-solemn-assembly?lang=eng\n",
            "Successfully fetched https://www.churchofjesuschrist.org/study/general-conference/1973/10/understanding-who-we-are-brings-self-respect?lang=eng\n",
            "Successfully fetched https://www.churchofjesuschrist.org/study/general-conference/1973/10/the-role-of-fathers?lang=eng\n",
            "Successfully fetched https://www.churchofjesuschrist.org/study/general-conference/1973/10/he-took-him-by-the-hand?lang=engSuccessfully fetched https://www.churchofjesuschrist.org/study/general-conference/1973/10/become-rich-toward-god?lang=eng\n",
            "\n"
          ]
        },
        {
          "output_type": "stream",
          "name": "stderr",
          "text": [
            "Scraping talks in parallel:  94%|█████████▎| 3852/4112 [05:56<00:16, 16.24it/s]"
          ]
        },
        {
          "output_type": "stream",
          "name": "stdout",
          "text": [
            "Successfully fetched https://www.churchofjesuschrist.org/study/general-conference/1973/10/revealed-truths-of-the-gospel?lang=eng\n",
            "Successfully fetched https://www.churchofjesuschrist.org/study/general-conference/1973/10/behold-thy-mother?lang=eng\n",
            "Successfully fetched https://www.churchofjesuschrist.org/study/general-conference/1973/10/obedience?lang=eng\n",
            "Successfully fetched https://www.churchofjesuschrist.org/study/general-conference/1973/10/you-shall-receive-the-spirit?lang=eng\n",
            "Successfully fetched https://www.churchofjesuschrist.org/study/general-conference/1973/10/our-youth-modern-sons-of-helaman?lang=eng\n",
            "Successfully fetched https://www.churchofjesuschrist.org/study/general-conference/1973/10/thou-shalt-love-thy-wife-with-all-thy-heart?lang=eng\n",
            "Successfully fetched https://www.churchofjesuschrist.org/study/general-conference/1973/10/i-will-go-and-do-the-things-which-the-lord-hath-commanded?lang=eng\n"
          ]
        },
        {
          "output_type": "stream",
          "name": "stderr",
          "text": [
            "\rScraping talks in parallel:  94%|█████████▍| 3856/4112 [05:57<00:20, 12.20it/s]"
          ]
        },
        {
          "output_type": "stream",
          "name": "stdout",
          "text": [
            "Successfully fetched https://www.churchofjesuschrist.org/study/general-conference/1973/10/happiness-is-having-a-father-who-cares?lang=eng\n",
            "Successfully fetched https://www.churchofjesuschrist.org/study/general-conference/1973/10/a-fortune-to-share?lang=eng\n",
            "Successfully fetched https://www.churchofjesuschrist.org/study/general-conference/1973/10/forgiveness-the-ultimate-form-of-love?lang=eng\n"
          ]
        },
        {
          "output_type": "stream",
          "name": "stderr",
          "text": [
            "\rScraping talks in parallel:  94%|█████████▍| 3861/4112 [05:57<00:16, 14.91it/s]"
          ]
        },
        {
          "output_type": "stream",
          "name": "stdout",
          "text": [
            "Successfully fetched https://www.churchofjesuschrist.org/study/general-conference/1973/10/the-need-for-total-commitment?lang=eng\n",
            "Successfully fetched https://www.churchofjesuschrist.org/study/general-conference/1973/10/there-is-need-for-repentance?lang=eng\n",
            "Successfully fetched https://www.churchofjesuschrist.org/study/general-conference/1973/10/church-welfare-some-fundamentals?lang=eng\n",
            "Successfully fetched https://www.churchofjesuschrist.org/study/general-conference/1973/10/what-will-a-man-give?lang=eng\n",
            "Successfully fetched https://www.churchofjesuschrist.org/study/general-conference/1973/10/president-harold-b-lees-general-priesthood-address?lang=engSuccessfully fetched https://www.churchofjesuschrist.org/study/general-conference/1973/10/sustaining-of-general-authorities-and-church-officers?lang=eng\n",
            "\n",
            "Successfully fetched https://www.churchofjesuschrist.org/study/general-conference/1973/10/which-way-to-shore?lang=eng\n",
            "Successfully fetched https://www.churchofjesuschrist.org/study/general-conference/1973/10/the-witnesses-of-christ?lang=eng\n",
            "Successfully fetched https://www.churchofjesuschrist.org/study/general-conference/1973/10/we-thank-thee-o-god-for-a-prophet?lang=eng\n",
            "Successfully fetched https://www.churchofjesuschrist.org/study/general-conference/1973/10/prepare-ye?lang=eng\n",
            "Successfully fetched https://www.churchofjesuschrist.org/study/general-conference/1973/10/friday-morning-session?lang=eng\n",
            "Successfully fetched https://www.churchofjesuschrist.org/study/general-conference/1973/10/our-fundamental-obligation-the-priesthood?lang=eng\n",
            "Successfully fetched https://www.churchofjesuschrist.org/study/general-conference/1973/10/opposition-in-order-to-strengthen-us?lang=eng\n",
            "Successfully fetched https://www.churchofjesuschrist.org/study/general-conference/1973/10/think-on-these-things?lang=eng\n"
          ]
        },
        {
          "output_type": "stream",
          "name": "stderr",
          "text": [
            "Scraping talks in parallel:  94%|█████████▍| 3870/4112 [05:59<00:26,  9.23it/s]"
          ]
        },
        {
          "output_type": "stream",
          "name": "stdout",
          "text": [
            "Successfully fetched https://www.churchofjesuschrist.org/study/general-conference/1973/10/adversity-and-prayer?lang=eng\n",
            "Successfully fetched https://www.churchofjesuschrist.org/study/general-conference/1973/10/you-are-different?lang=eng\n",
            "Successfully fetched https://www.churchofjesuschrist.org/study/general-conference/1973/10/no-greater-honor-the-womans-role?lang=eng\n",
            "Successfully fetched https://www.churchofjesuschrist.org/study/general-conference/1973/10/inspiring-music-worthy-thoughts?lang=eng\n",
            "Successfully fetched https://www.churchofjesuschrist.org/study/general-conference/1973/10/the-rewards-the-blessings-the-promises?lang=engSuccessfully fetched https://www.churchofjesuschrist.org/study/general-conference/1973/04/power-of-evil?lang=eng\n",
            "\n",
            "Successfully fetched https://www.churchofjesuschrist.org/study/general-conference/1973/04/watchman-warn-the-wicked?lang=eng\n",
            "Successfully fetched https://www.churchofjesuschrist.org/study/general-conference/1973/10/the-gospel-of-jesus-christ-is-the-golden-door?lang=engSuccessfully fetched https://www.churchofjesuschrist.org/study/general-conference/1973/10/jesus-christ-our-redeemer?lang=eng\n",
            "\n",
            "Successfully fetched https://www.churchofjesuschrist.org/study/general-conference/1973/10/closing-remarks?lang=eng\n",
            "Successfully fetched https://www.churchofjesuschrist.org/study/general-conference/1973/10/gods-way-to-eternal-life?lang=eng\n"
          ]
        },
        {
          "output_type": "stream",
          "name": "stderr",
          "text": [
            "Scraping talks in parallel:  94%|█████████▍| 3883/4112 [06:00<00:24,  9.49it/s]"
          ]
        },
        {
          "output_type": "stream",
          "name": "stdout",
          "text": [
            "Successfully fetched https://www.churchofjesuschrist.org/study/general-conference/1973/04/the-path-to-eternal-glory?lang=eng\n",
            "Successfully fetched https://www.churchofjesuschrist.org/study/general-conference/1973/04/youths-opportunity-to-serve?lang=eng\n",
            "Successfully fetched https://www.churchofjesuschrist.org/study/general-conference/1973/04/follow-the-leadership-of-the-church?lang=eng\n",
            "Successfully fetched https://www.churchofjesuschrist.org/study/general-conference/1973/04/yellow-canaries-with-gray-on-their-wings?lang=eng\n",
            "Successfully fetched https://www.churchofjesuschrist.org/study/general-conference/1973/04/and-always-remember-him?lang=eng\n",
            "Successfully fetched https://www.churchofjesuschrist.org/study/general-conference/1973/04/hold-up-your-hands?lang=eng"
          ]
        },
        {
          "output_type": "stream",
          "name": "stderr",
          "text": [
            "\rScraping talks in parallel:  95%|█████████▍| 3890/4112 [06:00<00:18, 11.89it/s]"
          ]
        },
        {
          "output_type": "stream",
          "name": "stdout",
          "text": [
            "\n",
            "Successfully fetched https://www.churchofjesuschrist.org/study/general-conference/1973/04/stand-ye-in-holy-places?lang=engSuccessfully fetched https://www.churchofjesuschrist.org/study/general-conference/1973/04/reaching-the-one?lang=eng\n",
            "\n"
          ]
        },
        {
          "output_type": "stream",
          "name": "stderr",
          "text": [
            "Scraping talks in parallel:  95%|█████████▍| 3894/4112 [06:01<00:19, 11.47it/s]"
          ]
        },
        {
          "output_type": "stream",
          "name": "stdout",
          "text": [
            "Successfully fetched https://www.churchofjesuschrist.org/study/general-conference/1973/04/the-continuing-power-of-the-holy-ghost?lang=eng\n",
            "Successfully fetched https://www.churchofjesuschrist.org/study/general-conference/1973/04/the-constant-exercise-of-our-faith?lang=eng\n"
          ]
        },
        {
          "output_type": "stream",
          "name": "stderr",
          "text": [
            "\rScraping talks in parallel:  95%|█████████▍| 3896/4112 [06:01<00:19, 11.32it/s]"
          ]
        },
        {
          "output_type": "stream",
          "name": "stdout",
          "text": [
            "Successfully fetched https://www.churchofjesuschrist.org/study/general-conference/1973/04/strengthen-the-stakes-of-zion?lang=eng\n",
            "Successfully fetched https://www.churchofjesuschrist.org/study/general-conference/1973/04/the-agency-of-man?lang=eng\n",
            "Successfully fetched https://www.churchofjesuschrist.org/study/general-conference/1973/04/the-true-strength-of-the-church?lang=eng\n",
            "Successfully fetched https://www.churchofjesuschrist.org/study/general-conference/1973/04/behold-your-little-ones?lang=eng\n",
            "Successfully fetched https://www.churchofjesuschrist.org/study/general-conference/1973/04/consider-your-ways?lang=eng\n",
            "Successfully fetched https://www.churchofjesuschrist.org/study/general-conference/1973/04/salvation-comes-through-the-church?lang=eng\n",
            "Successfully fetched https://www.churchofjesuschrist.org/study/general-conference/1973/04/upon-judeas-plains?lang=eng\n",
            "Successfully fetched https://www.churchofjesuschrist.org/study/general-conference/1973/04/man-a-child-of-god?lang=eng\n",
            "Successfully fetched https://www.churchofjesuschrist.org/study/general-conference/1973/04/the-worth-of-souls-is-great?lang=eng\n"
          ]
        },
        {
          "output_type": "stream",
          "name": "stderr",
          "text": [
            "Scraping talks in parallel:  95%|█████████▌| 3908/4112 [06:02<00:12, 16.75it/s]"
          ]
        },
        {
          "output_type": "stream",
          "name": "stdout",
          "text": [
            "Successfully fetched https://www.churchofjesuschrist.org/study/general-conference/1973/04/the-rock-of-revelation?lang=eng\n",
            "Successfully fetched https://www.churchofjesuschrist.org/study/general-conference/1973/04/magnifying-ones-calling-in-the-priesthood?lang=eng\n",
            "Successfully fetched https://www.churchofjesuschrist.org/study/general-conference/1973/04/sustaining-of-church-authorities-and-officers?lang=eng\n"
          ]
        },
        {
          "output_type": "stream",
          "name": "stderr",
          "text": [
            "\rScraping talks in parallel:  95%|█████████▌| 3911/4112 [06:02<00:12, 15.89it/s]"
          ]
        },
        {
          "output_type": "stream",
          "name": "stdout",
          "text": [
            "Successfully fetched https://www.churchofjesuschrist.org/study/general-conference/1973/04/what-manner-of-men-as-i-am?lang=eng\n",
            "Successfully fetched https://www.churchofjesuschrist.org/study/general-conference/1973/04/he-has-sent-his-messenger-to-prepare-the-way?lang=eng\n",
            "Successfully fetched https://www.churchofjesuschrist.org/study/general-conference/1973/04/in-his-strength?lang=eng\n",
            "Successfully fetched https://www.churchofjesuschrist.org/study/general-conference/1973/04/now-abideth-faith-hope-and-charity?lang=eng\n",
            "Successfully fetched https://www.churchofjesuschrist.org/study/general-conference/1973/04/the-aaronic-priesthood-mia?lang=eng\n",
            "Successfully fetched https://www.churchofjesuschrist.org/study/general-conference/1973/04/friday-morning-session?lang=eng\n"
          ]
        },
        {
          "output_type": "stream",
          "name": "stderr",
          "text": [
            "\rScraping talks in parallel:  95%|█████████▌| 3914/4112 [06:03<00:19,  9.90it/s]"
          ]
        },
        {
          "output_type": "stream",
          "name": "stdout",
          "text": [
            "Successfully fetched https://www.churchofjesuschrist.org/study/general-conference/1973/04/the-family-influence?lang=eng\n",
            "Successfully fetched https://www.churchofjesuschrist.org/study/general-conference/1973/04/audit-report?lang=eng\n",
            "Successfully fetched https://www.churchofjesuschrist.org/study/general-conference/1973/04/this-is-my-gospel?lang=eng\n",
            "Successfully fetched https://www.churchofjesuschrist.org/study/general-conference/1973/04/priesthood-responsibilities?lang=eng\n",
            "Successfully fetched https://www.churchofjesuschrist.org/study/general-conference/1973/04/a-second-witness-for-christ?lang=eng\n"
          ]
        },
        {
          "output_type": "stream",
          "name": "stderr",
          "text": [
            "\rScraping talks in parallel:  95%|█████████▌| 3916/4112 [06:03<00:24,  7.96it/s]"
          ]
        },
        {
          "output_type": "stream",
          "name": "stdout",
          "text": [
            "Successfully fetched https://www.churchofjesuschrist.org/study/general-conference/1973/04/what-is-a-living-prophet?lang=eng\n",
            "Successfully fetched https://www.churchofjesuschrist.org/study/general-conference/1973/04/success-a-journey-or-a-destination?lang=eng\n",
            "Successfully fetched https://www.churchofjesuschrist.org/study/general-conference/1973/04/statistical-report-1972?lang=eng\n",
            "Successfully fetched https://www.churchofjesuschrist.org/study/general-conference/1973/04/share-the-unsearchable-riches-of-christ?lang=eng\n",
            "Successfully fetched https://www.churchofjesuschrist.org/study/general-conference/1973/04/when-i-read-i-am-there?lang=eng\n",
            "Successfully fetched https://www.churchofjesuschrist.org/study/general-conference/1973/04/go-and-do-thou-likewise?lang=eng\n",
            "Successfully fetched https://www.churchofjesuschrist.org/study/general-conference/1972/10/altar-tent-well?lang=eng\n"
          ]
        },
        {
          "output_type": "stream",
          "name": "stderr",
          "text": [
            "\rScraping talks in parallel:  95%|█████████▌| 3923/4112 [06:03<00:16, 11.32it/s]"
          ]
        },
        {
          "output_type": "stream",
          "name": "stdout",
          "text": [
            "Successfully fetched https://www.churchofjesuschrist.org/study/general-conference/1972/10/to-become-one-of-the-fishers?lang=eng\n",
            "Successfully fetched https://www.churchofjesuschrist.org/study/general-conference/1972/10/a-blessing-for-the-saints?lang=eng\n",
            "Successfully fetched https://www.churchofjesuschrist.org/study/general-conference/1973/04/thou-mayest-choose-for-thyself?lang=eng\n",
            "Successfully fetched https://www.churchofjesuschrist.org/study/general-conference/1972/10/strengthen-thy-brethren?lang=eng\n"
          ]
        },
        {
          "output_type": "stream",
          "name": "stderr",
          "text": [
            "\rScraping talks in parallel:  96%|█████████▌| 3928/4112 [06:04<00:14, 12.44it/s]"
          ]
        },
        {
          "output_type": "stream",
          "name": "stdout",
          "text": [
            "Successfully fetched https://www.churchofjesuschrist.org/study/general-conference/1972/10/how-to-gain-a-testimony?lang=eng\n",
            "Successfully fetched https://www.churchofjesuschrist.org/study/general-conference/1972/10/three-pledges?lang=eng\n",
            "Successfully fetched https://www.churchofjesuschrist.org/study/general-conference/1972/10/by-love-serve-one-another?lang=eng\n",
            "Successfully fetched https://www.churchofjesuschrist.org/study/general-conference/1972/10/to-serve-the-master?lang=eng\n",
            "Successfully fetched https://www.churchofjesuschrist.org/study/general-conference/1972/10/caring-for-the-poor-and-needy?lang=engSuccessfully fetched https://www.churchofjesuschrist.org/study/general-conference/1972/10/i-know-that-my-redeemer-lives?lang=eng\n",
            "\n",
            "Successfully fetched https://www.churchofjesuschrist.org/study/general-conference/1972/10/teach-the-gospel-of-salvation?lang=eng\n"
          ]
        },
        {
          "output_type": "stream",
          "name": "stderr",
          "text": [
            "Scraping talks in parallel:  96%|█████████▌| 3936/4112 [06:04<00:13, 13.01it/s]"
          ]
        },
        {
          "output_type": "stream",
          "name": "stdout",
          "text": [
            "Successfully fetched https://www.churchofjesuschrist.org/study/general-conference/1972/10/pollution-of-the-mind?lang=eng\n",
            "Successfully fetched https://www.churchofjesuschrist.org/study/general-conference/1972/10/the-sure-word-of-god?lang=eng\n",
            "Successfully fetched https://www.churchofjesuschrist.org/study/general-conference/1972/10/keep-the-commandments?lang=eng\n"
          ]
        },
        {
          "output_type": "stream",
          "name": "stderr",
          "text": [
            "\rScraping talks in parallel:  96%|█████████▌| 3941/4112 [06:05<00:12, 13.83it/s]"
          ]
        },
        {
          "output_type": "stream",
          "name": "stdout",
          "text": [
            "Successfully fetched https://www.churchofjesuschrist.org/study/general-conference/1972/10/why-do-latter-day-saints-build-temples?lang=eng\n",
            "Successfully fetched https://www.churchofjesuschrist.org/study/general-conference/1972/10/warnings-from-outer-space?lang=eng\n",
            "Successfully fetched https://www.churchofjesuschrist.org/study/general-conference/1972/10/thy-will-be-done-o-lord?lang=eng\n",
            "Successfully fetched https://www.churchofjesuschrist.org/study/general-conference/1972/10/may-the-kingdom-of-god-go-forth?lang=eng\n",
            "Successfully fetched https://www.churchofjesuschrist.org/study/general-conference/1972/10/every-man-in-his-own-place?lang=eng\n",
            "Successfully fetched https://www.churchofjesuschrist.org/study/general-conference/1972/10/genealogy-a-personal-responsibility?lang=eng\n",
            "Successfully fetched https://www.churchofjesuschrist.org/study/general-conference/1972/10/spiritual-famine?lang=eng\n",
            "Successfully fetched https://www.churchofjesuschrist.org/study/general-conference/1972/10/listen-to-a-prophets-voice?lang=eng\n"
          ]
        },
        {
          "output_type": "stream",
          "name": "stderr",
          "text": [
            "Scraping talks in parallel:  96%|█████████▌| 3948/4112 [06:06<00:16,  9.98it/s]"
          ]
        },
        {
          "output_type": "stream",
          "name": "stdout",
          "text": [
            "Successfully fetched https://www.churchofjesuschrist.org/study/general-conference/1972/10/harmony-in-the-home?lang=eng\n",
            "Successfully fetched https://www.churchofjesuschrist.org/study/general-conference/1972/10/the-saints-securely-dwell?lang=eng\n"
          ]
        },
        {
          "output_type": "stream",
          "name": "stderr",
          "text": [
            "\rScraping talks in parallel:  96%|█████████▌| 3954/4112 [06:06<00:11, 13.19it/s]"
          ]
        },
        {
          "output_type": "stream",
          "name": "stdout",
          "text": [
            "Successfully fetched https://www.churchofjesuschrist.org/study/general-conference/1972/10/why-the-church-of-jesus-christ-of-latter-day-saints?lang=eng\n",
            "Successfully fetched https://www.churchofjesuschrist.org/study/general-conference/1972/10/becoming-a-somebody?lang=eng\n",
            "Successfully fetched https://www.churchofjesuschrist.org/study/general-conference/1972/10/light-and-knowledge-to-the-world?lang=eng\n",
            "Successfully fetched https://www.churchofjesuschrist.org/study/general-conference/1972/10/home-teachers-watchmen-over-the-church?lang=eng\n",
            "Successfully fetched https://www.churchofjesuschrist.org/study/general-conference/1972/10/what-is-a-friend?lang=eng\n",
            "Successfully fetched https://www.churchofjesuschrist.org/study/general-conference/1972/10/sustaining-of-general-authorities-and-officers?lang=eng\n",
            "Successfully fetched https://www.churchofjesuschrist.org/study/general-conference/1972/10/watch-the-switches-in-your-life?lang=eng\n",
            "Successfully fetched https://www.churchofjesuschrist.org/study/general-conference/1972/10/admonitions-for-the-priesthood-of-god?lang=eng\n",
            "Successfully fetched https://www.churchofjesuschrist.org/study/general-conference/1972/10/hands?lang=eng\n",
            "Successfully fetched https://www.churchofjesuschrist.org/study/general-conference/1972/10/planting-gospel-seeds-of-spirituality?lang=eng\n"
          ]
        },
        {
          "output_type": "stream",
          "name": "stderr",
          "text": [
            "\rScraping talks in parallel:  96%|█████████▌| 3956/4112 [06:06<00:16,  9.23it/s]"
          ]
        },
        {
          "output_type": "stream",
          "name": "stdout",
          "text": [
            "Successfully fetched https://www.churchofjesuschrist.org/study/general-conference/1972/10/an-instrument-in-the-hands-of-the-lord?lang=eng\n",
            "Successfully fetched https://www.churchofjesuschrist.org/study/general-conference/1972/10/friday-morning-session?lang=eng\n",
            "Successfully fetched https://www.churchofjesuschrist.org/study/general-conference/1972/10/strange-creeds-of-christendom?lang=eng\n",
            "Successfully fetched https://www.churchofjesuschrist.org/study/general-conference/1972/10/we-have-made-covenants-with-the-lord?lang=eng\n"
          ]
        },
        {
          "output_type": "stream",
          "name": "stderr",
          "text": [
            "\rScraping talks in parallel:  96%|█████████▋| 3958/4112 [06:07<00:18,  8.54it/s]"
          ]
        },
        {
          "output_type": "stream",
          "name": "stdout",
          "text": [
            "Successfully fetched https://www.churchofjesuschrist.org/study/general-conference/1972/10/entrance-into-the-kingdom-of-god?lang=eng\n",
            "Successfully fetched https://www.churchofjesuschrist.org/study/general-conference/1972/10/having-been-born-of-goodly-parents?lang=eng\n",
            "Successfully fetched https://www.churchofjesuschrist.org/study/general-conference/1972/10/another-prophet-now-has-come?lang=eng\n"
          ]
        },
        {
          "output_type": "stream",
          "name": "stderr",
          "text": [
            "\rScraping talks in parallel:  96%|█████████▋| 3962/4112 [06:07<00:14, 10.00it/s]"
          ]
        },
        {
          "output_type": "stream",
          "name": "stdout",
          "text": [
            "Successfully fetched https://www.churchofjesuschrist.org/study/general-conference/1972/10/live-above-the-law-to-be-free?lang=eng\n",
            "Successfully fetched https://www.churchofjesuschrist.org/study/general-conference/1972/04/a-people-of-sound-judgment?lang=eng\n",
            "Successfully fetched https://www.churchofjesuschrist.org/study/general-conference/1972/10/the-priesthood-and-its-presidency?lang=eng\n",
            "Successfully fetched https://www.churchofjesuschrist.org/study/general-conference/1972/04/a-foundation-whereon-men-cannot-fall?lang=eng\n",
            "Successfully fetched https://www.churchofjesuschrist.org/study/general-conference/1972/04/know-thyself-control-thyself-give-thyself?lang=eng\n",
            "Successfully fetched https://www.churchofjesuschrist.org/study/general-conference/1972/04/a-teacher?lang=eng\n",
            "Successfully fetched https://www.churchofjesuschrist.org/study/general-conference/1972/04/be-a-missionary-always-everywhere-you-go?lang=eng\n",
            "Successfully fetched https://www.churchofjesuschrist.org/study/general-conference/1972/04/eternal-keys-and-the-right-to-preside?lang=eng\n",
            "Successfully fetched https://www.churchofjesuschrist.org/study/general-conference/1972/10/we-thank-thee-o-god-for-a-prophet?lang=eng\n",
            "Successfully fetched https://www.churchofjesuschrist.org/study/general-conference/1972/04/am-i-my-brothers-keeper?lang=engSuccessfully fetched https://www.churchofjesuschrist.org/study/general-conference/1972/04/the-covenant-of-the-priesthood?lang=eng\n",
            "Successfully fetched https://www.churchofjesuschrist.org/study/general-conference/1972/04/the-true-church?lang=eng\n",
            "\n"
          ]
        },
        {
          "output_type": "stream",
          "name": "stderr",
          "text": [
            "Scraping talks in parallel:  97%|█████████▋| 3980/4112 [06:08<00:08, 14.99it/s]"
          ]
        },
        {
          "output_type": "stream",
          "name": "stdout",
          "text": [
            "Successfully fetched https://www.churchofjesuschrist.org/study/general-conference/1972/04/keep-the-lines-of-communication-strong?lang=eng\n",
            "Successfully fetched https://www.churchofjesuschrist.org/study/general-conference/1972/04/the-last-dispensation?lang=eng\n",
            "Successfully fetched https://www.churchofjesuschrist.org/study/general-conference/1972/04/medicine-for-the-soul?lang=eng\n",
            "Successfully fetched https://www.churchofjesuschrist.org/study/general-conference/1972/04/peace?lang=eng\n"
          ]
        },
        {
          "output_type": "stream",
          "name": "stderr",
          "text": [
            "\rScraping talks in parallel:  97%|█████████▋| 3985/4112 [06:08<00:08, 15.75it/s]"
          ]
        },
        {
          "output_type": "stream",
          "name": "stdout",
          "text": [
            "Successfully fetched https://www.churchofjesuschrist.org/study/general-conference/1972/04/mans-eternal-horizon?lang=eng\n",
            "Successfully fetched https://www.churchofjesuschrist.org/study/general-conference/1972/04/a-prophets-blessing?lang=eng\n",
            "Successfully fetched https://www.churchofjesuschrist.org/study/general-conference/1972/04/whence-cometh-our-peace?lang=eng\n"
          ]
        },
        {
          "output_type": "stream",
          "name": "stderr",
          "text": [
            "\rScraping talks in parallel:  97%|█████████▋| 3988/4112 [06:08<00:07, 16.96it/s]"
          ]
        },
        {
          "output_type": "stream",
          "name": "stdout",
          "text": [
            "Successfully fetched https://www.churchofjesuschrist.org/study/general-conference/1972/04/the-importance-of-a-personal-testimony?lang=eng\n",
            "Successfully fetched https://www.churchofjesuschrist.org/study/general-conference/1972/04/the-fullness-of-the-gospel-in-each-mans-language?lang=eng\n",
            "Successfully fetched https://www.churchofjesuschrist.org/study/general-conference/1972/04/the-annual-report-of-the-church?lang=eng\n",
            "Successfully fetched https://www.churchofjesuschrist.org/study/general-conference/1972/04/joy-through-christ?lang=eng\n",
            "Successfully fetched https://www.churchofjesuschrist.org/study/general-conference/1972/04/the-testimony-of-jesus?lang=eng\n",
            "Successfully fetched https://www.churchofjesuschrist.org/study/general-conference/1972/04/missionary-training-begins-early?lang=eng\n",
            "Successfully fetched https://www.churchofjesuschrist.org/study/general-conference/1972/04/the-importance-of-prayer?lang=eng\n"
          ]
        },
        {
          "output_type": "stream",
          "name": "stderr",
          "text": [
            "\rScraping talks in parallel:  97%|█████████▋| 3991/4112 [06:09<00:11, 10.82it/s]"
          ]
        },
        {
          "output_type": "stream",
          "name": "stdout",
          "text": [
            "Successfully fetched https://www.churchofjesuschrist.org/study/general-conference/1972/04/setting-the-example-in-the-home?lang=engSuccessfully fetched https://www.churchofjesuschrist.org/study/general-conference/1972/04/we-are-called-of-god?lang=eng\n",
            "\n",
            "Successfully fetched https://www.churchofjesuschrist.org/study/general-conference/1972/04/judge-not-that-ye-be-not-judged?lang=eng\n"
          ]
        },
        {
          "output_type": "stream",
          "name": "stderr",
          "text": [
            "\rScraping talks in parallel:  97%|█████████▋| 3993/4112 [06:09<00:12,  9.82it/s]"
          ]
        },
        {
          "output_type": "stream",
          "name": "stdout",
          "text": [
            "Successfully fetched https://www.churchofjesuschrist.org/study/general-conference/1972/04/what-will-the-church-do-for-you-a-man?lang=eng\n",
            "Successfully fetched https://www.churchofjesuschrist.org/study/general-conference/1972/04/the-strength-of-the-priesthood?lang=eng\n",
            "Successfully fetched https://www.churchofjesuschrist.org/study/general-conference/1972/04/audit-report-1971?lang=eng\n"
          ]
        },
        {
          "output_type": "stream",
          "name": "stderr",
          "text": [
            "Scraping talks in parallel:  97%|█████████▋| 4002/4112 [06:10<00:07, 14.57it/s]"
          ]
        },
        {
          "output_type": "stream",
          "name": "stdout",
          "text": [
            "Successfully fetched https://www.churchofjesuschrist.org/study/general-conference/1972/04/thursday-morning-session?lang=eng\n",
            "Successfully fetched https://www.churchofjesuschrist.org/study/general-conference/1972/04/our-witness-to-the-world?lang=eng\n",
            "Successfully fetched https://www.churchofjesuschrist.org/study/general-conference/1972/04/priesthood-its-power-and-vitality?lang=eng\n",
            "Successfully fetched https://www.churchofjesuschrist.org/study/general-conference/1972/04/civic-standards-for-the-faithful-saints?lang=eng\n",
            "Successfully fetched https://www.churchofjesuschrist.org/study/general-conference/1972/04/successful-parenthood-a-noteworthy-accomplishment?lang=eng\n",
            "Successfully fetched https://www.churchofjesuschrist.org/study/general-conference/1972/04/a-missionary-and-his-message?lang=eng\n"
          ]
        },
        {
          "output_type": "stream",
          "name": "stderr",
          "text": [
            "\rScraping talks in parallel:  97%|█████████▋| 4005/4112 [06:10<00:07, 14.31it/s]"
          ]
        },
        {
          "output_type": "stream",
          "name": "stdout",
          "text": [
            "Successfully fetched https://www.churchofjesuschrist.org/study/general-conference/1972/04/the-miracle-of-missionary-work?lang=eng\n",
            "Successfully fetched https://www.churchofjesuschrist.org/study/general-conference/1972/04/a-time-of-decision?lang=eng\n",
            "Successfully fetched https://www.churchofjesuschrist.org/study/general-conference/1972/04/why-stay-morally-clean?lang=eng\n",
            "Successfully fetched https://www.churchofjesuschrist.org/study/general-conference/1972/04/salvation-and-exaltation?lang=eng\n",
            "Successfully fetched https://www.churchofjesuschrist.org/study/general-conference/1972/04/counsel-to-the-saints-and-to-the-world?lang=eng\n",
            "Successfully fetched https://www.churchofjesuschrist.org/study/general-conference/1972/04/what-is-your-destination?lang=engSuccessfully fetched https://www.churchofjesuschrist.org/study/general-conference/1972/04/the-priesthood-a-royal-army?lang=eng\n",
            "\n",
            "Successfully fetched https://www.churchofjesuschrist.org/study/general-conference/1972/04/knowing-god?lang=eng\n",
            "Successfully fetched https://www.churchofjesuschrist.org/study/general-conference/1972/04/courts-of-love?lang=eng\n"
          ]
        },
        {
          "output_type": "stream",
          "name": "stderr",
          "text": [
            "Scraping talks in parallel:  98%|█████████▊| 4010/4112 [06:11<00:12,  8.14it/s]"
          ]
        },
        {
          "output_type": "stream",
          "name": "stdout",
          "text": [
            "Successfully fetched https://www.churchofjesuschrist.org/study/general-conference/1972/04/sustaining-of-general-authorities-and-officers?lang=eng\n",
            "Successfully fetched https://www.churchofjesuschrist.org/study/general-conference/1972/04/a-challenge-to-the-priesthood?lang=eng\n",
            "Successfully fetched https://www.churchofjesuschrist.org/study/general-conference/1972/04/finishers-wanted?lang=eng\n",
            "Successfully fetched https://www.churchofjesuschrist.org/study/general-conference/1971/10/a-time-of-testing?lang=eng\n",
            "Successfully fetched https://www.churchofjesuschrist.org/study/general-conference/1971/10/the-light-shineth?lang=eng\n",
            "Successfully fetched https://www.churchofjesuschrist.org/study/general-conference/1971/10/you-can-get-there-from-here?lang=eng\n",
            "Successfully fetched https://www.churchofjesuschrist.org/study/general-conference/1972/04/the-aaronic-priesthood-a-sure-foundation?lang=eng\n",
            "Successfully fetched https://www.churchofjesuschrist.org/study/general-conference/1971/10/our-responsibility-to-save-the-world?lang=eng\n"
          ]
        },
        {
          "output_type": "stream",
          "name": "stderr",
          "text": [
            "\rScraping talks in parallel:  98%|█████████▊| 4014/4112 [06:13<00:22,  4.28it/s]"
          ]
        },
        {
          "output_type": "stream",
          "name": "stdout",
          "text": [
            "Successfully fetched https://www.churchofjesuschrist.org/study/general-conference/1971/10/strengthen-thy-brethren?lang=eng\n",
            "Successfully fetched https://www.churchofjesuschrist.org/study/general-conference/1971/10/blessings-of-the-priesthood?lang=eng\n",
            "Successfully fetched https://www.churchofjesuschrist.org/study/general-conference/1971/10/thus-saith-the-lord?lang=eng\n"
          ]
        },
        {
          "output_type": "stream",
          "name": "stderr",
          "text": [
            "\rScraping talks in parallel:  98%|█████████▊| 4020/4112 [06:13<00:14,  6.20it/s]"
          ]
        },
        {
          "output_type": "stream",
          "name": "stdout",
          "text": [
            "Successfully fetched https://www.churchofjesuschrist.org/study/general-conference/1971/10/by-love-serve-one-another?lang=engSuccessfully fetched https://www.churchofjesuschrist.org/study/general-conference/1971/10/the-sifting?lang=eng\n",
            "\n"
          ]
        },
        {
          "output_type": "stream",
          "name": "stderr",
          "text": [
            "\rScraping talks in parallel:  98%|█████████▊| 4027/4112 [06:14<00:09,  9.34it/s]"
          ]
        },
        {
          "output_type": "stream",
          "name": "stdout",
          "text": [
            "Successfully fetched https://www.churchofjesuschrist.org/study/general-conference/1971/10/the-purpose-of-life-to-be-proved?lang=eng\n",
            "Successfully fetched https://www.churchofjesuschrist.org/study/general-conference/1971/10/the-only-true-and-living-church?lang=eng\n",
            "Successfully fetched https://www.churchofjesuschrist.org/study/general-conference/1971/10/thou-shalt-not?lang=engSuccessfully fetched https://www.churchofjesuschrist.org/study/general-conference/1971/10/i-was-in-prison-and-ye-came-unto-me?lang=eng\n",
            "\n",
            "Successfully fetched https://www.churchofjesuschrist.org/study/general-conference/1971/10/the-living-christ?lang=eng\n",
            "Successfully fetched https://www.churchofjesuschrist.org/study/general-conference/1971/10/the-nobility-of-man-in-choosing-good-over-evil?lang=engSuccessfully fetched https://www.churchofjesuschrist.org/study/general-conference/1971/10/laying-a-foundation-for-the-millennium?lang=eng\n",
            "\n"
          ]
        },
        {
          "output_type": "stream",
          "name": "stderr",
          "text": [
            "Scraping talks in parallel:  98%|█████████▊| 4035/4112 [06:15<00:09,  8.41it/s]"
          ]
        },
        {
          "output_type": "stream",
          "name": "stdout",
          "text": [
            "Successfully fetched https://www.churchofjesuschrist.org/study/general-conference/1971/10/a-new-health-missionary-program?lang=eng\n",
            "Successfully fetched https://www.churchofjesuschrist.org/study/general-conference/1971/10/elijah-the-prophet?lang=eng\n",
            "Successfully fetched https://www.churchofjesuschrist.org/study/general-conference/1971/10/the-vitality-of-love?lang=eng\n",
            "Successfully fetched https://www.churchofjesuschrist.org/study/general-conference/1971/10/continuity-of-service?lang=eng\n",
            "Successfully fetched https://www.churchofjesuschrist.org/study/general-conference/1971/10/the-things-that-matter-most?lang=eng\n",
            "Successfully fetched https://www.churchofjesuschrist.org/study/general-conference/1971/10/watch-that-ye-may-be-ready?lang=eng\n",
            "Successfully fetched https://www.churchofjesuschrist.org/study/general-conference/1971/10/should-the-commandments-be-rewritten?lang=eng\n",
            "Successfully fetched https://www.churchofjesuschrist.org/study/general-conference/1971/10/how-to-worship?lang=eng\n",
            "Successfully fetched https://www.churchofjesuschrist.org/study/general-conference/1971/10/sacrifice-still-brings-forth-blessings?lang=eng\n",
            "Successfully fetched https://www.churchofjesuschrist.org/study/general-conference/1971/10/where-art-thou?lang=eng\n",
            "Successfully fetched https://www.churchofjesuschrist.org/study/general-conference/1971/10/if-ye-be-willing-and-obedient?lang=eng\n",
            "Successfully fetched https://www.churchofjesuschrist.org/study/general-conference/1971/10/friday-morning-session?lang=eng\n"
          ]
        },
        {
          "output_type": "stream",
          "name": "stderr",
          "text": [
            "\rScraping talks in parallel:  98%|█████████▊| 4038/4112 [06:16<00:15,  4.78it/s]"
          ]
        },
        {
          "output_type": "stream",
          "name": "stdout",
          "text": [
            "Successfully fetched https://www.churchofjesuschrist.org/study/general-conference/1971/10/confession-and-forsaking-elements-of-genuine-repentance?lang=eng\n",
            "Successfully fetched https://www.churchofjesuschrist.org/study/general-conference/1971/10/decisions?lang=eng\n"
          ]
        },
        {
          "output_type": "stream",
          "name": "stderr",
          "text": [
            "\rScraping talks in parallel:  98%|█████████▊| 4050/4112 [06:17<00:06,  9.43it/s]"
          ]
        },
        {
          "output_type": "stream",
          "name": "stdout",
          "text": [
            "Successfully fetched https://www.churchofjesuschrist.org/study/general-conference/1971/10/let-the-spirit-of-oneness-prevail?lang=engSuccessfully fetched https://www.churchofjesuschrist.org/study/general-conference/1971/10/strive-for-excellence?lang=eng\n",
            "Successfully fetched https://www.churchofjesuschrist.org/study/general-conference/1971/10/responsibilities-of-the-priesthood?lang=eng\n",
            "\n",
            "Successfully fetched https://www.churchofjesuschrist.org/study/general-conference/1971/10/the-ten-commandments?lang=eng\n",
            "Successfully fetched https://www.churchofjesuschrist.org/study/general-conference/1971/10/honesty-a-principle-of-salvation?lang=eng\n",
            "Successfully fetched https://www.churchofjesuschrist.org/study/general-conference/1971/10/turn-heavenward-our-eyes?lang=eng\n"
          ]
        },
        {
          "output_type": "stream",
          "name": "stderr",
          "text": [
            "Scraping talks in parallel:  99%|█████████▊| 4054/4112 [06:17<00:06,  8.89it/s]"
          ]
        },
        {
          "output_type": "stream",
          "name": "stdout",
          "text": [
            "Successfully fetched https://www.churchofjesuschrist.org/study/general-conference/1971/10/what-is-a-teacher?lang=eng\n",
            "Successfully fetched https://www.churchofjesuschrist.org/study/general-conference/1971/10/satans-thrust-youth?lang=eng\n",
            "Successfully fetched https://www.churchofjesuschrist.org/study/general-conference/1971/10/glimpses-of-heaven?lang=eng\n",
            "Successfully fetched https://www.churchofjesuschrist.org/study/general-conference/1971/10/this-same-jesus?lang=eng\n"
          ]
        },
        {
          "output_type": "stream",
          "name": "stderr",
          "text": [
            "\rScraping talks in parallel:  99%|█████████▊| 4060/4112 [06:17<00:04, 12.65it/s]"
          ]
        },
        {
          "output_type": "stream",
          "name": "stdout",
          "text": [
            "Successfully fetched https://www.churchofjesuschrist.org/study/general-conference/1971/10/love-unconditional?lang=eng\n",
            "Successfully fetched https://www.churchofjesuschrist.org/study/general-conference/1971/10/i-know-that-my-redeemer-liveth?lang=eng\n",
            "Successfully fetched https://www.churchofjesuschrist.org/study/general-conference/1971/04/our-responsibilities-as-priesthood-holders?lang=eng\n",
            "Successfully fetched https://www.churchofjesuschrist.org/study/general-conference/1971/04/be-slow-to-anger?lang=eng\n",
            "Successfully fetched https://www.churchofjesuschrist.org/study/general-conference/1971/04/thou-shalt-not-commit-adultery?lang=eng\n",
            "Successfully fetched https://www.churchofjesuschrist.org/study/general-conference/1971/10/with-hand-and-heart?lang=eng\n",
            "Successfully fetched https://www.churchofjesuschrist.org/study/general-conference/1971/04/where-are-you-really-going?lang=eng\n",
            "Successfully fetched https://www.churchofjesuschrist.org/study/general-conference/1971/04/young-people-learn-wisdom-in-thy-youth?lang=engSuccessfully fetched https://www.churchofjesuschrist.org/study/general-conference/1971/04/out-of-the-darkness?lang=eng\n",
            "\n"
          ]
        },
        {
          "output_type": "stream",
          "name": "stderr",
          "text": [
            "\rScraping talks in parallel:  99%|█████████▉| 4063/4112 [06:18<00:06,  7.97it/s]"
          ]
        },
        {
          "output_type": "stream",
          "name": "stdout",
          "text": [
            "Successfully fetched https://www.churchofjesuschrist.org/study/general-conference/1971/04/audit-report?lang=eng\n",
            "Successfully fetched https://www.churchofjesuschrist.org/study/general-conference/1971/10/this-is-my-beloved-son?lang=eng\n",
            "Successfully fetched https://www.churchofjesuschrist.org/study/general-conference/1971/04/search-for-the-wanderers?lang=eng\n"
          ]
        },
        {
          "output_type": "stream",
          "name": "stderr",
          "text": [
            "Scraping talks in parallel:  99%|█████████▉| 4067/4112 [06:19<00:04,  9.04it/s]"
          ]
        },
        {
          "output_type": "stream",
          "name": "stdout",
          "text": [
            "Successfully fetched https://www.churchofjesuschrist.org/study/general-conference/1971/10/sustaining-of-general-authorities-and-officers?lang=eng\n",
            "Successfully fetched https://www.churchofjesuschrist.org/study/general-conference/1971/04/the-message-of-the-restoration?lang=eng\n",
            "Successfully fetched https://www.churchofjesuschrist.org/study/general-conference/1971/04/a-witness-and-a-blessing?lang=eng\n",
            "Successfully fetched https://www.churchofjesuschrist.org/study/general-conference/1971/04/saturday-morning-session?lang=eng\n",
            "Successfully fetched https://www.churchofjesuschrist.org/study/general-conference/1971/04/prepare-every-needful-thing?lang=eng\n"
          ]
        },
        {
          "output_type": "stream",
          "name": "stderr",
          "text": [
            "\rScraping talks in parallel:  99%|█████████▉| 4073/4112 [06:19<00:03, 10.09it/s]"
          ]
        },
        {
          "output_type": "stream",
          "name": "stdout",
          "text": [
            "Successfully fetched https://www.churchofjesuschrist.org/study/general-conference/1971/04/love-of-god?lang=eng\n",
            "Successfully fetched https://www.churchofjesuschrist.org/study/general-conference/1971/04/man-cannot-endure-on-borrowed-light?lang=eng\n",
            "Successfully fetched https://www.churchofjesuschrist.org/study/general-conference/1971/04/satan-the-great-deceiver?lang=eng\n",
            "Successfully fetched https://www.churchofjesuschrist.org/study/general-conference/1971/04/my-brothers-keeper?lang=eng\n",
            "Successfully fetched https://www.churchofjesuschrist.org/study/general-conference/1971/04/voices-of-the-past-of-the-present-of-the-future?lang=eng\n"
          ]
        },
        {
          "output_type": "stream",
          "name": "stderr",
          "text": [
            "Scraping talks in parallel:  99%|█████████▉| 4077/4112 [06:19<00:02, 12.12it/s]"
          ]
        },
        {
          "output_type": "stream",
          "name": "stdout",
          "text": [
            "Successfully fetched https://www.churchofjesuschrist.org/study/general-conference/1971/04/warnings-from-the-past?lang=eng\n",
            "Successfully fetched https://www.churchofjesuschrist.org/study/general-conference/1971/04/lost-battalions?lang=eng\n"
          ]
        },
        {
          "output_type": "stream",
          "name": "stderr",
          "text": [
            "Scraping talks in parallel:  99%|█████████▉| 4086/4112 [06:20<00:01, 19.46it/s]"
          ]
        },
        {
          "output_type": "stream",
          "name": "stdout",
          "text": [
            "Successfully fetched https://www.churchofjesuschrist.org/study/general-conference/1971/04/teach-one-another?lang=eng\n",
            "Successfully fetched https://www.churchofjesuschrist.org/study/general-conference/1971/04/marriage-is-intended-to-be-forever?lang=eng\n",
            "Successfully fetched https://www.churchofjesuschrist.org/study/general-conference/1971/04/the-spirit-beareth-record?lang=eng\n",
            "Successfully fetched https://www.churchofjesuschrist.org/study/general-conference/1971/04/eternal-joy-is-eternal-growth?lang=eng\n",
            "Successfully fetched https://www.churchofjesuschrist.org/study/general-conference/1971/04/love-of-the-right?lang=eng\n",
            "Successfully fetched https://www.churchofjesuschrist.org/study/general-conference/1971/04/when-thou-art-converted?lang=eng\n"
          ]
        },
        {
          "output_type": "stream",
          "name": "stderr",
          "text": [
            "\rScraping talks in parallel:  99%|█████████▉| 4089/4112 [06:20<00:01, 12.21it/s]"
          ]
        },
        {
          "output_type": "stream",
          "name": "stdout",
          "text": [
            "Successfully fetched https://www.churchofjesuschrist.org/study/general-conference/1971/04/todays-young-people?lang=eng\n",
            "Successfully fetched https://www.churchofjesuschrist.org/study/general-conference/1971/04/unchanging-principles-of-leadership?lang=eng\n",
            "Successfully fetched https://www.churchofjesuschrist.org/study/general-conference/1971/04/practicing-what-we-preach?lang=eng\n",
            "Successfully fetched https://www.churchofjesuschrist.org/study/general-conference/1971/04/except-the-lord-build-the-house?lang=eng\n",
            "Successfully fetched https://www.churchofjesuschrist.org/study/general-conference/1971/04/in-the-mountain-of-the-lords-house?lang=eng\n",
            "Successfully fetched https://www.churchofjesuschrist.org/study/general-conference/1971/04/drink-of-the-pure-water?lang=eng\n",
            "Successfully fetched https://www.churchofjesuschrist.org/study/general-conference/1971/04/great-experiences?lang=eng\n",
            "Successfully fetched https://www.churchofjesuschrist.org/study/general-conference/1971/04/the-law-of-abundance?lang=eng\n"
          ]
        },
        {
          "output_type": "stream",
          "name": "stderr",
          "text": [
            "\rScraping talks in parallel: 100%|█████████▉| 4092/4112 [06:21<00:01, 10.30it/s]"
          ]
        },
        {
          "output_type": "stream",
          "name": "stdout",
          "text": [
            "Successfully fetched https://www.churchofjesuschrist.org/study/general-conference/1971/04/the-lords-people-receive-revelation?lang=eng\n",
            "Successfully fetched https://www.churchofjesuschrist.org/study/general-conference/1971/04/life-is-eternal?lang=eng\n",
            "Successfully fetched https://www.churchofjesuschrist.org/study/general-conference/1971/04/ignorance-is-expensive?lang=engSuccessfully fetched https://www.churchofjesuschrist.org/study/general-conference/1971/04/all-may-share-in-adams-blessing?lang=eng\n",
            "Successfully fetched https://www.churchofjesuschrist.org/study/general-conference/1971/04/statistical-report-1970?lang=eng\n",
            "\n",
            "Successfully fetched https://www.churchofjesuschrist.org/study/general-conference/1971/04/honesty-and-integrity?lang=eng\n",
            "Successfully fetched https://www.churchofjesuschrist.org/study/general-conference/1971/04/help-needed-in-the-shaded-areas?lang=eng\n"
          ]
        },
        {
          "output_type": "stream",
          "name": "stderr",
          "text": [
            "\rScraping talks in parallel: 100%|█████████▉| 4094/4112 [06:21<00:02,  7.25it/s]"
          ]
        },
        {
          "output_type": "stream",
          "name": "stdout",
          "text": [
            "Successfully fetched https://www.churchofjesuschrist.org/study/general-conference/1971/04/ye-shall-not-fear?lang=eng\n",
            "Successfully fetched https://www.churchofjesuschrist.org/study/general-conference/1971/04/choose-you-this-day?lang=eng\n",
            "Successfully fetched https://www.churchofjesuschrist.org/study/general-conference/1971/04/the-iron-rod?lang=eng\n",
            "Successfully fetched https://www.churchofjesuschrist.org/study/general-conference/1971/04/sustaining-of-church-authorities-and-officers?lang=eng\n"
          ]
        },
        {
          "output_type": "stream",
          "name": "stderr",
          "text": [
            "Scraping talks in parallel: 100%|█████████▉| 4106/4112 [06:22<00:00, 14.16it/s]"
          ]
        },
        {
          "output_type": "stream",
          "name": "stdout",
          "text": [
            "Successfully fetched https://www.churchofjesuschrist.org/study/general-conference/1971/04/the-meaning-of-morality?lang=eng\n"
          ]
        },
        {
          "output_type": "stream",
          "name": "stderr",
          "text": [
            "Scraping talks in parallel: 100%|██████████| 4112/4112 [06:22<00:00, 10.74it/s]"
          ]
        },
        {
          "output_type": "stream",
          "name": "stdout",
          "text": [
            "Successfully fetched https://www.churchofjesuschrist.org/study/general-conference/1971/04/kingdom-of-god?lang=eng\n"
          ]
        },
        {
          "output_type": "stream",
          "name": "stderr",
          "text": [
            "\n"
          ]
        },
        {
          "output_type": "stream",
          "name": "stdout",
          "text": [
            "Scraping complete. Data saved to 'conference_talks.csv'.\n",
            "Data also saved to 'conference_talks.json'.\n",
            "Total time taken: 512.5549340248108 seconds\n"
          ]
        }
      ]
    },
    {
      "cell_type": "code",
      "source": [
        "from google.colab import files\n",
        "files.download('conference_talks.csv')\n"
      ],
      "metadata": {
        "colab": {
          "base_uri": "https://localhost:8080/",
          "height": 17
        },
        "id": "xUHjf5EE9Oz-",
        "outputId": "0a649774-1efc-4bde-fc1b-800cc197f08b"
      },
      "execution_count": 3,
      "outputs": [
        {
          "output_type": "display_data",
          "data": {
            "text/plain": [
              "<IPython.core.display.Javascript object>"
            ],
            "application/javascript": [
              "\n",
              "    async function download(id, filename, size) {\n",
              "      if (!google.colab.kernel.accessAllowed) {\n",
              "        return;\n",
              "      }\n",
              "      const div = document.createElement('div');\n",
              "      const label = document.createElement('label');\n",
              "      label.textContent = `Downloading \"${filename}\": `;\n",
              "      div.appendChild(label);\n",
              "      const progress = document.createElement('progress');\n",
              "      progress.max = size;\n",
              "      div.appendChild(progress);\n",
              "      document.body.appendChild(div);\n",
              "\n",
              "      const buffers = [];\n",
              "      let downloaded = 0;\n",
              "\n",
              "      const channel = await google.colab.kernel.comms.open(id);\n",
              "      // Send a message to notify the kernel that we're ready.\n",
              "      channel.send({})\n",
              "\n",
              "      for await (const message of channel.messages) {\n",
              "        // Send a message to notify the kernel that we're ready.\n",
              "        channel.send({})\n",
              "        if (message.buffers) {\n",
              "          for (const buffer of message.buffers) {\n",
              "            buffers.push(buffer);\n",
              "            downloaded += buffer.byteLength;\n",
              "            progress.value = downloaded;\n",
              "          }\n",
              "        }\n",
              "      }\n",
              "      const blob = new Blob(buffers, {type: 'application/binary'});\n",
              "      const a = document.createElement('a');\n",
              "      a.href = window.URL.createObjectURL(blob);\n",
              "      a.download = filename;\n",
              "      div.appendChild(a);\n",
              "      a.click();\n",
              "      div.remove();\n",
              "    }\n",
              "  "
            ]
          },
          "metadata": {}
        },
        {
          "output_type": "display_data",
          "data": {
            "text/plain": [
              "<IPython.core.display.Javascript object>"
            ],
            "application/javascript": [
              "download(\"download_3abcd1ec-d107-49f9-b6a9-5cbb92c56dee\", \"conference_talks.csv\", 41474508)"
            ]
          },
          "metadata": {}
        }
      ]
    },
    {
      "cell_type": "markdown",
      "source": [
        "### Clean Conference Talks Data\n",
        "\n",
        "This code block performs several cleaning operations on the scraped data:\n",
        "- Removes rows with \"Church Auditing Department\" in the calling.\n",
        "- Removes unnecessary columns, like \"conference\" and \"footnotes.\"\n",
        "- Standardizes titles for speakers and callings (e.g., \"Quorum of the 12\" and \"Seventy\").\n",
        "- Ensures uniformity across callings and speaker titles.\n",
        "- Saves the cleaned data to a CSV file for easier analysis and sharing.\n",
        "\n",
        "You can run this after scraping the data to ensure consistency and uniformity across the dataset.\n"
      ],
      "metadata": {
        "id": "KwxzUhLCYp3d"
      }
    },
    {
      "cell_type": "code",
      "source": [
        "import pandas as pd\n",
        "import re\n",
        "\n",
        "def clean_conference_data(file_path):\n",
        "    # Load the CSV file\n",
        "    df = pd.read_csv(file_path)\n",
        "\n",
        "    # Step 1: Remove rows with \"Church Auditing Department\" in the \"calling\" column\n",
        "    df = df[~df['calling'].str.contains(\"Church Auditing Department\", na=False)]\n",
        "\n",
        "    # Step 2: Remove the \"conference\" column\n",
        "    df = df.drop(columns=['conference'])\n",
        "\n",
        "    #custom url enclose in \"\", to use as array\n",
        "\n",
        "    # Step 3: Modify callings to standardize common names\n",
        "    # Replace \"Quorum of the Twelve Apostles\", \"twelve\", or \"12\" with \"Quorum of the 12\"\n",
        "    df['calling'] = df['calling'].str.replace(r'Q_of_12|twelve|12|Council of the 12', 'Quorum of the 12', regex=True)\n",
        "\n",
        "    # Replace all variations of \"Seventy\" (including Quorum, Assistant, Former, Released) with \"Seventy\"\n",
        "    df['calling'] = df['calling'].str.replace(r'Q_of_70|70|Assistant to the Q_of_12|First Council of the Seventy|Presidency of the First Q_of_70|Emeritus member of the Seventy|Released Member of the Seventy', 'Seventy', regex=True)\n",
        "\n",
        "    # Standardize \"President of the Church\" across all variations\n",
        "    df['calling'] = df['calling'].str.replace(r'President of The Church of Jesus Christ of Latter-day Saints|President of the Church', 'President of the Church', regex=True)\n",
        "\n",
        "    # Step 4: Remove rows with \"Presented by\" in the speaker column\n",
        "    df = df[~df['speaker'].str.contains(\"Presented by\", na=False)]\n",
        "\n",
        "    # Step 5: Remove \"morning\", \"afternoon\", \"evening\" session titles (non-talk rows)\n",
        "    df = df[~df['title'].str.contains(r'morning|afternoon|evening', case=False, na=False)]\n",
        "\n",
        "    # Step 6: Standardize \"Former\" or variations in calling titles\n",
        "    df['calling'] = df['calling'].str.replace(r'Former member of the Seventy', 'Seventy', regex=True)\n",
        "\n",
        "    # Step 7: Remove \"Elder\", \"President\", \"Sister\", \"Brother\" from speaker names\n",
        "    df['speaker'] = df['speaker'].str.replace(r'Elder|President|Sister|Brother', '', regex=True).str.strip()\n",
        "\n",
        "    # Step 8: Remove the \"footnotes\" column as it was not needed\n",
        "    if 'footnotes' in df.columns:\n",
        "        df = df.drop(columns=['footnotes'])\n",
        "\n",
        "    # Save the cleaned data to CSV\n",
        "    df.to_csv(\"cleaned_conference_talks.csv\", index=False)\n",
        "    print(\"Data cleaned and saved to 'cleaned_conference_talks.csv'.\")\n",
        "\n",
        "# Example usage\n",
        "clean_conference_data('conference_talks.csv')\n"
      ],
      "metadata": {
        "id": "Lo1nq2mfX1S5",
        "outputId": "3974f022-1510-4c3c-ab9d-ff16f3220bd2",
        "colab": {
          "base_uri": "https://localhost:8080/",
          "height": 321
        }
      },
      "execution_count": 5,
      "outputs": [
        {
          "output_type": "error",
          "ename": "KeyError",
          "evalue": "\"['conference'] not found in axis\"",
          "traceback": [
            "\u001b[0;31m---------------------------------------------------------------------------\u001b[0m",
            "\u001b[0;31mKeyError\u001b[0m                                  Traceback (most recent call last)",
            "\u001b[0;32m<ipython-input-5-30bda60d1966>\u001b[0m in \u001b[0;36m<cell line: 0>\u001b[0;34m()\u001b[0m\n\u001b[1;32m     46\u001b[0m \u001b[0;34m\u001b[0m\u001b[0m\n\u001b[1;32m     47\u001b[0m \u001b[0;31m# Example usage\u001b[0m\u001b[0;34m\u001b[0m\u001b[0;34m\u001b[0m\u001b[0m\n\u001b[0;32m---> 48\u001b[0;31m \u001b[0mclean_conference_data\u001b[0m\u001b[0;34m(\u001b[0m\u001b[0;34m'conference_talks.csv'\u001b[0m\u001b[0;34m)\u001b[0m\u001b[0;34m\u001b[0m\u001b[0;34m\u001b[0m\u001b[0m\n\u001b[0m",
            "\u001b[0;32m<ipython-input-5-30bda60d1966>\u001b[0m in \u001b[0;36mclean_conference_data\u001b[0;34m(file_path)\u001b[0m\n\u001b[1;32m     10\u001b[0m \u001b[0;34m\u001b[0m\u001b[0m\n\u001b[1;32m     11\u001b[0m     \u001b[0;31m# Step 2: Remove the \"conference\" column\u001b[0m\u001b[0;34m\u001b[0m\u001b[0;34m\u001b[0m\u001b[0m\n\u001b[0;32m---> 12\u001b[0;31m     \u001b[0mdf\u001b[0m \u001b[0;34m=\u001b[0m \u001b[0mdf\u001b[0m\u001b[0;34m.\u001b[0m\u001b[0mdrop\u001b[0m\u001b[0;34m(\u001b[0m\u001b[0mcolumns\u001b[0m\u001b[0;34m=\u001b[0m\u001b[0;34m[\u001b[0m\u001b[0;34m'conference'\u001b[0m\u001b[0;34m]\u001b[0m\u001b[0;34m)\u001b[0m\u001b[0;34m\u001b[0m\u001b[0;34m\u001b[0m\u001b[0m\n\u001b[0m\u001b[1;32m     13\u001b[0m \u001b[0;34m\u001b[0m\u001b[0m\n\u001b[1;32m     14\u001b[0m     \u001b[0;31m#custom url enclose in \"\", to use as array\u001b[0m\u001b[0;34m\u001b[0m\u001b[0;34m\u001b[0m\u001b[0m\n",
            "\u001b[0;32m/usr/local/lib/python3.11/dist-packages/pandas/core/frame.py\u001b[0m in \u001b[0;36mdrop\u001b[0;34m(self, labels, axis, index, columns, level, inplace, errors)\u001b[0m\n\u001b[1;32m   5579\u001b[0m                 \u001b[0mweight\u001b[0m  \u001b[0;36m1.0\u001b[0m     \u001b[0;36m0.8\u001b[0m\u001b[0;34m\u001b[0m\u001b[0;34m\u001b[0m\u001b[0m\n\u001b[1;32m   5580\u001b[0m         \"\"\"\n\u001b[0;32m-> 5581\u001b[0;31m         return super().drop(\n\u001b[0m\u001b[1;32m   5582\u001b[0m             \u001b[0mlabels\u001b[0m\u001b[0;34m=\u001b[0m\u001b[0mlabels\u001b[0m\u001b[0;34m,\u001b[0m\u001b[0;34m\u001b[0m\u001b[0;34m\u001b[0m\u001b[0m\n\u001b[1;32m   5583\u001b[0m             \u001b[0maxis\u001b[0m\u001b[0;34m=\u001b[0m\u001b[0maxis\u001b[0m\u001b[0;34m,\u001b[0m\u001b[0;34m\u001b[0m\u001b[0;34m\u001b[0m\u001b[0m\n",
            "\u001b[0;32m/usr/local/lib/python3.11/dist-packages/pandas/core/generic.py\u001b[0m in \u001b[0;36mdrop\u001b[0;34m(self, labels, axis, index, columns, level, inplace, errors)\u001b[0m\n\u001b[1;32m   4786\u001b[0m         \u001b[0;32mfor\u001b[0m \u001b[0maxis\u001b[0m\u001b[0;34m,\u001b[0m \u001b[0mlabels\u001b[0m \u001b[0;32min\u001b[0m \u001b[0maxes\u001b[0m\u001b[0;34m.\u001b[0m\u001b[0mitems\u001b[0m\u001b[0;34m(\u001b[0m\u001b[0;34m)\u001b[0m\u001b[0;34m:\u001b[0m\u001b[0;34m\u001b[0m\u001b[0;34m\u001b[0m\u001b[0m\n\u001b[1;32m   4787\u001b[0m             \u001b[0;32mif\u001b[0m \u001b[0mlabels\u001b[0m \u001b[0;32mis\u001b[0m \u001b[0;32mnot\u001b[0m \u001b[0;32mNone\u001b[0m\u001b[0;34m:\u001b[0m\u001b[0;34m\u001b[0m\u001b[0;34m\u001b[0m\u001b[0m\n\u001b[0;32m-> 4788\u001b[0;31m                 \u001b[0mobj\u001b[0m \u001b[0;34m=\u001b[0m \u001b[0mobj\u001b[0m\u001b[0;34m.\u001b[0m\u001b[0m_drop_axis\u001b[0m\u001b[0;34m(\u001b[0m\u001b[0mlabels\u001b[0m\u001b[0;34m,\u001b[0m \u001b[0maxis\u001b[0m\u001b[0;34m,\u001b[0m \u001b[0mlevel\u001b[0m\u001b[0;34m=\u001b[0m\u001b[0mlevel\u001b[0m\u001b[0;34m,\u001b[0m \u001b[0merrors\u001b[0m\u001b[0;34m=\u001b[0m\u001b[0merrors\u001b[0m\u001b[0;34m)\u001b[0m\u001b[0;34m\u001b[0m\u001b[0;34m\u001b[0m\u001b[0m\n\u001b[0m\u001b[1;32m   4789\u001b[0m \u001b[0;34m\u001b[0m\u001b[0m\n\u001b[1;32m   4790\u001b[0m         \u001b[0;32mif\u001b[0m \u001b[0minplace\u001b[0m\u001b[0;34m:\u001b[0m\u001b[0;34m\u001b[0m\u001b[0;34m\u001b[0m\u001b[0m\n",
            "\u001b[0;32m/usr/local/lib/python3.11/dist-packages/pandas/core/generic.py\u001b[0m in \u001b[0;36m_drop_axis\u001b[0;34m(self, labels, axis, level, errors, only_slice)\u001b[0m\n\u001b[1;32m   4828\u001b[0m                 \u001b[0mnew_axis\u001b[0m \u001b[0;34m=\u001b[0m \u001b[0maxis\u001b[0m\u001b[0;34m.\u001b[0m\u001b[0mdrop\u001b[0m\u001b[0;34m(\u001b[0m\u001b[0mlabels\u001b[0m\u001b[0;34m,\u001b[0m \u001b[0mlevel\u001b[0m\u001b[0;34m=\u001b[0m\u001b[0mlevel\u001b[0m\u001b[0;34m,\u001b[0m \u001b[0merrors\u001b[0m\u001b[0;34m=\u001b[0m\u001b[0merrors\u001b[0m\u001b[0;34m)\u001b[0m\u001b[0;34m\u001b[0m\u001b[0;34m\u001b[0m\u001b[0m\n\u001b[1;32m   4829\u001b[0m             \u001b[0;32melse\u001b[0m\u001b[0;34m:\u001b[0m\u001b[0;34m\u001b[0m\u001b[0;34m\u001b[0m\u001b[0m\n\u001b[0;32m-> 4830\u001b[0;31m                 \u001b[0mnew_axis\u001b[0m \u001b[0;34m=\u001b[0m \u001b[0maxis\u001b[0m\u001b[0;34m.\u001b[0m\u001b[0mdrop\u001b[0m\u001b[0;34m(\u001b[0m\u001b[0mlabels\u001b[0m\u001b[0;34m,\u001b[0m \u001b[0merrors\u001b[0m\u001b[0;34m=\u001b[0m\u001b[0merrors\u001b[0m\u001b[0;34m)\u001b[0m\u001b[0;34m\u001b[0m\u001b[0;34m\u001b[0m\u001b[0m\n\u001b[0m\u001b[1;32m   4831\u001b[0m             \u001b[0mindexer\u001b[0m \u001b[0;34m=\u001b[0m \u001b[0maxis\u001b[0m\u001b[0;34m.\u001b[0m\u001b[0mget_indexer\u001b[0m\u001b[0;34m(\u001b[0m\u001b[0mnew_axis\u001b[0m\u001b[0;34m)\u001b[0m\u001b[0;34m\u001b[0m\u001b[0;34m\u001b[0m\u001b[0m\n\u001b[1;32m   4832\u001b[0m \u001b[0;34m\u001b[0m\u001b[0m\n",
            "\u001b[0;32m/usr/local/lib/python3.11/dist-packages/pandas/core/indexes/base.py\u001b[0m in \u001b[0;36mdrop\u001b[0;34m(self, labels, errors)\u001b[0m\n\u001b[1;32m   7068\u001b[0m         \u001b[0;32mif\u001b[0m \u001b[0mmask\u001b[0m\u001b[0;34m.\u001b[0m\u001b[0many\u001b[0m\u001b[0;34m(\u001b[0m\u001b[0;34m)\u001b[0m\u001b[0;34m:\u001b[0m\u001b[0;34m\u001b[0m\u001b[0;34m\u001b[0m\u001b[0m\n\u001b[1;32m   7069\u001b[0m             \u001b[0;32mif\u001b[0m \u001b[0merrors\u001b[0m \u001b[0;34m!=\u001b[0m \u001b[0;34m\"ignore\"\u001b[0m\u001b[0;34m:\u001b[0m\u001b[0;34m\u001b[0m\u001b[0;34m\u001b[0m\u001b[0m\n\u001b[0;32m-> 7070\u001b[0;31m                 \u001b[0;32mraise\u001b[0m \u001b[0mKeyError\u001b[0m\u001b[0;34m(\u001b[0m\u001b[0;34mf\"{labels[mask].tolist()} not found in axis\"\u001b[0m\u001b[0;34m)\u001b[0m\u001b[0;34m\u001b[0m\u001b[0;34m\u001b[0m\u001b[0m\n\u001b[0m\u001b[1;32m   7071\u001b[0m             \u001b[0mindexer\u001b[0m \u001b[0;34m=\u001b[0m \u001b[0mindexer\u001b[0m\u001b[0;34m[\u001b[0m\u001b[0;34m~\u001b[0m\u001b[0mmask\u001b[0m\u001b[0;34m]\u001b[0m\u001b[0;34m\u001b[0m\u001b[0;34m\u001b[0m\u001b[0m\n\u001b[1;32m   7072\u001b[0m         \u001b[0;32mreturn\u001b[0m \u001b[0mself\u001b[0m\u001b[0;34m.\u001b[0m\u001b[0mdelete\u001b[0m\u001b[0;34m(\u001b[0m\u001b[0mindexer\u001b[0m\u001b[0;34m)\u001b[0m\u001b[0;34m\u001b[0m\u001b[0;34m\u001b[0m\u001b[0m\n",
            "\u001b[0;31mKeyError\u001b[0m: \"['conference'] not found in axis\""
          ]
        }
      ]
    }
  ]
}